{
 "cells": [
  {
   "cell_type": "markdown",
   "metadata": {},
   "source": [
    "# PHASE 1: Platform Classification using Supervised Learning Methods - Building Training and Test datasets (part 2)"
   ]
  },
  {
   "cell_type": "markdown",
   "metadata": {},
   "source": []
  },
  {
   "cell_type": "markdown",
   "metadata": {},
   "source": [
    "### References:\n",
    "* https://www.quora.com/What-is-the-best-way-to-create-a-training-set-for-machine-learning/answer/Clem-Wang-1"
   ]
  },
  {
   "cell_type": "markdown",
   "metadata": {},
   "source": [
    "## Main Python libraries"
   ]
  },
  {
   "cell_type": "code",
   "execution_count": 1,
   "metadata": {
    "collapsed": false
   },
   "outputs": [],
   "source": [
    "import os, sys, pathlib\n",
    "from IPython.display import display, Math, Latex #also '%%latex' magic command\n",
    "import collections, itertools, operator, re, copy, datetime\n",
    "import urllib, urllib.request, urllib.parse, dns, ipwhois\n",
    "import pickle, json, csv, zipfile\n",
    "import math, random, numpy, scipy, pandas\n",
    "%matplotlib inline\n",
    "import matplotlib.pyplot as plt\n",
    "plt.style.use('ggplot')\n",
    "import bs4\n",
    "import nltk, sklearn\n",
    "\n",
    "#actualcwd = os.getcwd()\n",
    "#os.chdir(actualcwd)\n",
    "#print(os.getcwd())"
   ]
  },
  {
   "cell_type": "code",
   "execution_count": 2,
   "metadata": {
    "collapsed": false
   },
   "outputs": [
    {
     "name": "stdout",
     "output_type": "stream",
     "text": [
      "ok\n"
     ]
    }
   ],
   "source": [
    "#a simple but not adequate hack to solve:\n",
    "#-- that this notebook will include any passed module that exists on top of its folder\n",
    "#-- that my installation of the the nltk will find the correct path to the nlkt_data folder\n",
    "#\n",
    "#once this line is run, IT SHOULDN'T RUN AGAIN!, otherwise the cwd will change into something different; \n",
    "#it can restored though in different ways, one by using `actualcwd` variable or in some cases shuting down this notebook\n",
    "#\n",
    "#\n",
    "os.chdir('../..')\n",
    "#print(os.getcwd())\n",
    "sys.path.append(os.getcwd())\n",
    "import config.config as config\n",
    "\n",
    "#print(config.anacondadir)\n",
    "\n",
    "if os.path.exists(config.anacondadir):\n",
    "    print('ok')\n",
    "    nltk.data.path.append(config.anacondadir)"
   ]
  },
  {
   "cell_type": "code",
   "execution_count": 3,
   "metadata": {
    "collapsed": false
   },
   "outputs": [],
   "source": [
    "if pathlib.Path(os.getcwd()+'/data/annotatedplatformsphase1_a.csv').is_file():\n",
    "    pd_annotated = pandas.read_csv(open(os.getcwd()+'/data/annotatedplatformsphase1_a.csv', 'r'), sep=';', quotechar=\"'\")\n",
    "else:\n",
    "    print('Not path found')"
   ]
  },
  {
   "cell_type": "code",
   "execution_count": 4,
   "metadata": {
    "collapsed": false,
    "scrolled": true
   },
   "outputs": [
    {
     "data": {
      "text/html": [
       "<div>\n",
       "<table border=\"1\" class=\"dataframe\">\n",
       "  <thead>\n",
       "    <tr style=\"text-align: right;\">\n",
       "      <th></th>\n",
       "      <th>Unnamed: 0</th>\n",
       "      <th>platform</th>\n",
       "      <th>title</th>\n",
       "      <th>description</th>\n",
       "      <th>keywords</th>\n",
       "      <th>htext</th>\n",
       "      <th>params</th>\n",
       "      <th>category</th>\n",
       "      <th>wiki</th>\n",
       "    </tr>\n",
       "  </thead>\n",
       "  <tbody>\n",
       "    <tr>\n",
       "      <th>0</th>\n",
       "      <td>0</td>\n",
       "      <td>v4-alpha.getbootstrap.com</td>\n",
       "      <td>\\n  \\n    bootstrap · the most popular html, c...</td>\n",
       "      <td>the most popular html, css, and js framework i...</td>\n",
       "      <td></td>\n",
       "      <td>Bootstrap is the most popular HTML, CSS, and J...</td>\n",
       "      <td>,/components,/components/breadcrumb/,/migratio...</td>\n",
       "      <td>api|package|framework|librar|stack|licens|addo...</td>\n",
       "      <td>NaN</td>\n",
       "    </tr>\n",
       "    <tr>\n",
       "      <th>1</th>\n",
       "      <td>1</td>\n",
       "      <td>lostechies.com</td>\n",
       "      <td>LosTechies | Se Habla Code</td>\n",
       "      <td></td>\n",
       "      <td></td>\n",
       "      <td>React has been around for a few years now and ...</td>\n",
       "      <td>/derickbailey/2013/12/04/getting-the-real-clie...</td>\n",
       "      <td>blog|media|news|articl|content|post|journal</td>\n",
       "      <td>NaN</td>\n",
       "    </tr>\n",
       "    <tr>\n",
       "      <th>2</th>\n",
       "      <td>2</td>\n",
       "      <td>html5up.net</td>\n",
       "      <td>html5 up! responsive html5 and css3 site templ...</td>\n",
       "      <td>responsive html5 and css3 site templates desig...</td>\n",
       "      <td>html5, css3, responsive, site template, websit...</td>\n",
       "      <td>... makes spiffy HTML5  site templates that ar...</td>\n",
       "      <td>/spectral</td>\n",
       "      <td>design|galler|template|theme</td>\n",
       "      <td>NaN</td>\n",
       "    </tr>\n",
       "    <tr>\n",
       "      <th>3</th>\n",
       "      <td>3</td>\n",
       "      <td>jscroll.com</td>\n",
       "      <td>jscroll - a jquery plugin for infinite scrolli...</td>\n",
       "      <td></td>\n",
       "      <td></td>\n",
       "      <td>jScroll is a jQuery plugin for infinite scroll...</td>\n",
       "      <td>/,https://github.com/cubiq/iscroll</td>\n",
       "      <td>api|package|framework|librar|stack|licens|addo...</td>\n",
       "      <td>NaN</td>\n",
       "    </tr>\n",
       "    <tr>\n",
       "      <th>4</th>\n",
       "      <td>4</td>\n",
       "      <td>jsonlint.com</td>\n",
       "      <td>jsonlint - the json validator</td>\n",
       "      <td>jsonlint is the free online validator and refo...</td>\n",
       "      <td></td>\n",
       "      <td>About JSONLint? JSONLint - The JSON Validator</td>\n",
       "      <td>/</td>\n",
       "      <td>(text )?editor|interpreter|repl</td>\n",
       "      <td>NaN</td>\n",
       "    </tr>\n",
       "  </tbody>\n",
       "</table>\n",
       "</div>"
      ],
      "text/plain": [
       "   Unnamed: 0                   platform  \\\n",
       "0           0  v4-alpha.getbootstrap.com   \n",
       "1           1             lostechies.com   \n",
       "2           2                html5up.net   \n",
       "3           3                jscroll.com   \n",
       "4           4               jsonlint.com   \n",
       "\n",
       "                                               title  \\\n",
       "0  \\n  \\n    bootstrap · the most popular html, c...   \n",
       "1                         LosTechies | Se Habla Code   \n",
       "2  html5 up! responsive html5 and css3 site templ...   \n",
       "3  jscroll - a jquery plugin for infinite scrolli...   \n",
       "4                      jsonlint - the json validator   \n",
       "\n",
       "                                         description  \\\n",
       "0  the most popular html, css, and js framework i...   \n",
       "1                                                      \n",
       "2  responsive html5 and css3 site templates desig...   \n",
       "3                                                      \n",
       "4  jsonlint is the free online validator and refo...   \n",
       "\n",
       "                                            keywords  \\\n",
       "0                                                      \n",
       "1                                                      \n",
       "2  html5, css3, responsive, site template, websit...   \n",
       "3                                                      \n",
       "4                                                      \n",
       "\n",
       "                                               htext  \\\n",
       "0  Bootstrap is the most popular HTML, CSS, and J...   \n",
       "1  React has been around for a few years now and ...   \n",
       "2  ... makes spiffy HTML5  site templates that ar...   \n",
       "3  jScroll is a jQuery plugin for infinite scroll...   \n",
       "4     About JSONLint? JSONLint - The JSON Validator    \n",
       "\n",
       "                                              params  \\\n",
       "0  ,/components,/components/breadcrumb/,/migratio...   \n",
       "1  /derickbailey/2013/12/04/getting-the-real-clie...   \n",
       "2                                          /spectral   \n",
       "3                 /,https://github.com/cubiq/iscroll   \n",
       "4                                                  /   \n",
       "\n",
       "                                            category wiki  \n",
       "0  api|package|framework|librar|stack|licens|addo...  NaN  \n",
       "1        blog|media|news|articl|content|post|journal  NaN  \n",
       "2                       design|galler|template|theme  NaN  \n",
       "3  api|package|framework|librar|stack|licens|addo...  NaN  \n",
       "4                    (text )?editor|interpreter|repl  NaN  "
      ]
     },
     "execution_count": 4,
     "metadata": {},
     "output_type": "execute_result"
    }
   ],
   "source": [
    "pd_annotated.head(5)"
   ]
  },
  {
   "cell_type": "code",
   "execution_count": 5,
   "metadata": {
    "collapsed": true
   },
   "outputs": [],
   "source": [
    "if pathlib.Path(os.getcwd()+'/data/notatedplatformsphase1_a.csv').is_file():\n",
    "    pd_notated = pandas.read_csv(open(os.getcwd()+'/data/notatedplatformsphase1_a.csv', 'r'), sep=';', quotechar=\"'\")\n",
    "else:\n",
    "    print('Not path found')"
   ]
  },
  {
   "cell_type": "code",
   "execution_count": 6,
   "metadata": {
    "collapsed": false
   },
   "outputs": [
    {
     "data": {
      "text/html": [
       "<div>\n",
       "<table border=\"1\" class=\"dataframe\">\n",
       "  <thead>\n",
       "    <tr style=\"text-align: right;\">\n",
       "      <th></th>\n",
       "      <th>Unnamed: 0</th>\n",
       "      <th>platform</th>\n",
       "      <th>title</th>\n",
       "      <th>description</th>\n",
       "      <th>keywords</th>\n",
       "      <th>htext</th>\n",
       "      <th>params</th>\n",
       "      <th>category</th>\n",
       "      <th>wiki</th>\n",
       "    </tr>\n",
       "  </thead>\n",
       "  <tbody>\n",
       "    <tr>\n",
       "      <th>0</th>\n",
       "      <td>0</td>\n",
       "      <td>www.kenneth-truyers.net</td>\n",
       "      <td>my life as a software developer |</td>\n",
       "      <td>blog about development using .net and client-s...</td>\n",
       "      <td></td>\n",
       "      <td>Posted on Friday, January 27th, 2017 at 02:42 ...</td>\n",
       "      <td>/2013/04/20/javascript-hoisting-explained/</td>\n",
       "      <td>NaN</td>\n",
       "      <td>NaN</td>\n",
       "    </tr>\n",
       "    <tr>\n",
       "      <th>1</th>\n",
       "      <td>1</td>\n",
       "      <td>school.scotch.io</td>\n",
       "      <td>courses ― scotch</td>\n",
       "      <td></td>\n",
       "      <td></td>\n",
       "      <td>You trust Scotch tutorials and Scotch authors....</td>\n",
       "      <td>/build-a-nodejs-website/course-introduction,/b...</td>\n",
       "      <td>NaN</td>\n",
       "      <td>NaN</td>\n",
       "    </tr>\n",
       "    <tr>\n",
       "      <th>2</th>\n",
       "      <td>2</td>\n",
       "      <td>www.imkrisna.com</td>\n",
       "      <td>i made krisna widhiastra | full-stack developer</td>\n",
       "      <td></td>\n",
       "      <td></td>\n",
       "      <td>\\n\\t\\t\\t\\t\\t\\t\\tCurrently working as Applicati...</td>\n",
       "      <td>/blog/2014/02/if-else-vs-if-if-vs-switch-javas...</td>\n",
       "      <td>NaN</td>\n",
       "      <td>NaN</td>\n",
       "    </tr>\n",
       "    <tr>\n",
       "      <th>3</th>\n",
       "      <td>3</td>\n",
       "      <td>vanilla-js.com</td>\n",
       "      <td>vanilla js</td>\n",
       "      <td></td>\n",
       "      <td></td>\n",
       "      <td>The Vanilla JS team maintains every byte of co...</td>\n",
       "      <td>/</td>\n",
       "      <td>NaN</td>\n",
       "      <td>NaN</td>\n",
       "    </tr>\n",
       "    <tr>\n",
       "      <th>4</th>\n",
       "      <td>4</td>\n",
       "      <td>www.newmediacampaigns.com</td>\n",
       "      <td>new media campaigns | nmc digital agency</td>\n",
       "      <td>NaN</td>\n",
       "      <td></td>\n",
       "      <td>Congrats to Hutchison PLLC on being named one ...</td>\n",
       "      <td>/blog/how-to-use-json-apis-with-jquery</td>\n",
       "      <td>NaN</td>\n",
       "      <td>NaN</td>\n",
       "    </tr>\n",
       "  </tbody>\n",
       "</table>\n",
       "</div>"
      ],
      "text/plain": [
       "   Unnamed: 0                   platform  \\\n",
       "0           0    www.kenneth-truyers.net   \n",
       "1           1           school.scotch.io   \n",
       "2           2           www.imkrisna.com   \n",
       "3           3             vanilla-js.com   \n",
       "4           4  www.newmediacampaigns.com   \n",
       "\n",
       "                                             title  \\\n",
       "0              my life as a software developer |     \n",
       "1                                 courses ― scotch   \n",
       "2  i made krisna widhiastra | full-stack developer   \n",
       "3                                       vanilla js   \n",
       "4         new media campaigns | nmc digital agency   \n",
       "\n",
       "                                         description keywords  \\\n",
       "0  blog about development using .net and client-s...            \n",
       "1                                                               \n",
       "2                                                               \n",
       "3                                                               \n",
       "4                                                NaN            \n",
       "\n",
       "                                               htext  \\\n",
       "0  Posted on Friday, January 27th, 2017 at 02:42 ...   \n",
       "1  You trust Scotch tutorials and Scotch authors....   \n",
       "2  \\n\\t\\t\\t\\t\\t\\t\\tCurrently working as Applicati...   \n",
       "3  The Vanilla JS team maintains every byte of co...   \n",
       "4  Congrats to Hutchison PLLC on being named one ...   \n",
       "\n",
       "                                              params  category wiki  \n",
       "0         /2013/04/20/javascript-hoisting-explained/       NaN  NaN  \n",
       "1  /build-a-nodejs-website/course-introduction,/b...       NaN  NaN  \n",
       "2  /blog/2014/02/if-else-vs-if-if-vs-switch-javas...       NaN  NaN  \n",
       "3                                                  /       NaN  NaN  \n",
       "4             /blog/how-to-use-json-apis-with-jquery       NaN  NaN  "
      ]
     },
     "execution_count": 6,
     "metadata": {},
     "output_type": "execute_result"
    }
   ],
   "source": [
    "pd_notated.head(5)"
   ]
  },
  {
   "cell_type": "code",
   "execution_count": 7,
   "metadata": {
    "collapsed": false
   },
   "outputs": [],
   "source": [
    "#import scr.wikipedia_extract"
   ]
  },
  {
   "cell_type": "code",
   "execution_count": 8,
   "metadata": {
    "collapsed": false
   },
   "outputs": [],
   "source": [
    "#import imp"
   ]
  },
  {
   "cell_type": "code",
   "execution_count": 9,
   "metadata": {
    "collapsed": false,
    "scrolled": true
   },
   "outputs": [],
   "source": [
    "#imp.reload(scr.wikipedia_extract)"
   ]
  },
  {
   "cell_type": "code",
   "execution_count": 10,
   "metadata": {
    "collapsed": false
   },
   "outputs": [],
   "source": [
    "#pd_annotated['wiki'] = ''\n",
    "#pd_notated['wiki'] = ''\n",
    "#scr.wikipedia_extract.getting_wikipedia(pd_annotated)\n",
    "#scr.wikipedia_extract.getting_wikipedia(pd_notated)"
   ]
  },
  {
   "cell_type": "code",
   "execution_count": 11,
   "metadata": {
    "collapsed": false
   },
   "outputs": [],
   "source": [
    "#pd_errortemp = pd_notated.loc[pd_notated['platform'] == 'view-source:http:',]\n",
    "#scr.wikipedia_extract.getting_wikipedia(pd_errortemp)\n",
    "#print(pd_errortemp)\n",
    "#print(pd_notated.iloc[110,])\n",
    "#url = 'https://en.wikipedia.org/w/api.php?action=query&list=search&format=json&srsearch=JavaScript Objects in Detail'\n",
    "#req = urllib.request.Request(url)\n",
    "#try:\n",
    "#    resp = urllib.request.urlopen(req)\n",
    "#except urllib.error.HTTPError as e:\n",
    "#    print(e)"
   ]
  },
  {
   "cell_type": "code",
   "execution_count": 12,
   "metadata": {
    "collapsed": false
   },
   "outputs": [],
   "source": [
    "#pd_notated.head(100)"
   ]
  },
  {
   "cell_type": "code",
   "execution_count": 13,
   "metadata": {
    "collapsed": true
   },
   "outputs": [],
   "source": [
    "#pd_annotated.to_csv(os.getcwd()+'/data/annotatedplatformsphase1_a.csv', sep=';', quotechar=\"'\")\n",
    "#pd_notated.to_csv(os.getcwd()+'/data/notatedplatformsphase1_a.csv', sep=';', quotechar=\"'\")"
   ]
  },
  {
   "cell_type": "code",
   "execution_count": 15,
   "metadata": {
    "collapsed": false,
    "scrolled": true
   },
   "outputs": [
    {
     "name": "stdout",
     "output_type": "stream",
     "text": [
      "ok\n"
     ]
    }
   ],
   "source": [
    "import scr.datapreparation_ML"
   ]
  },
  {
   "cell_type": "code",
   "execution_count": 16,
   "metadata": {
    "collapsed": false,
    "scrolled": true
   },
   "outputs": [],
   "source": [
    "#imp.reload(scr.datapreparation_ML)"
   ]
  },
  {
   "cell_type": "code",
   "execution_count": 17,
   "metadata": {
    "collapsed": false
   },
   "outputs": [],
   "source": [
    "pd_annotated['alltext'] = ''\n",
    "scr.datapreparation_ML.datapreparation(pd_annotated)"
   ]
  },
  {
   "cell_type": "markdown",
   "metadata": {},
   "source": [
    "## ANALYSIS"
   ]
  },
  {
   "cell_type": "markdown",
   "metadata": {},
   "source": [
    "## References:\n",
    "* http://scikit-learn.org/stable/modules/cross_validation.html"
   ]
  },
  {
   "cell_type": "code",
   "execution_count": 18,
   "metadata": {
    "collapsed": true
   },
   "outputs": [],
   "source": [
    "from sklearn.model_selection import train_test_split\n",
    "from sklearn.model_selection import cross_val_score\n",
    "from sklearn.pipeline import make_pipeline\n",
    "from sklearn.model_selection import cross_val_predict\n",
    "from sklearn import metrics"
   ]
  },
  {
   "cell_type": "code",
   "execution_count": null,
   "metadata": {
    "collapsed": true
   },
   "outputs": [],
   "source": []
  }
 ],
 "metadata": {
  "anaconda-cloud": {},
  "kernelspec": {
   "display_name": "Python [Root]",
   "language": "python",
   "name": "Python [Root]"
  },
  "language_info": {
   "codemirror_mode": {
    "name": "ipython",
    "version": 3
   },
   "file_extension": ".py",
   "mimetype": "text/x-python",
   "name": "python",
   "nbconvert_exporter": "python",
   "pygments_lexer": "ipython3",
   "version": "3.5.2"
  }
 },
 "nbformat": 4,
 "nbformat_minor": 0
}
