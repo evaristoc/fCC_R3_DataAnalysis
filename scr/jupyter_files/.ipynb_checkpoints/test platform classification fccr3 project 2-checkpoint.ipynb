{
 "cells": [
  {
   "cell_type": "markdown",
   "metadata": {},
   "source": [
    "# PHASE 1: Platform Classification using Supervised Learning Methods - Building Training and Test datasets (part 2)"
   ]
  },
  {
   "cell_type": "markdown",
   "metadata": {},
   "source": []
  },
  {
   "cell_type": "markdown",
   "metadata": {},
   "source": [
    "### References:\n",
    "* https://www.quora.com/What-is-the-best-way-to-create-a-training-set-for-machine-learning/answer/Clem-Wang-1"
   ]
  },
  {
   "cell_type": "markdown",
   "metadata": {},
   "source": [
    "## Main Python libraries"
   ]
  },
  {
   "cell_type": "code",
   "execution_count": 1,
   "metadata": {
    "collapsed": false
   },
   "outputs": [],
   "source": [
    "import os, sys, pathlib\n",
    "from IPython.display import display, Math, Latex #also '%%latex' magic command\n",
    "import collections, itertools, operator, re, copy, datetime\n",
    "import urllib, urllib.request, urllib.parse, dns, ipwhois\n",
    "import pickle, json, csv, zipfile\n",
    "import math, random, numpy, scipy, pandas\n",
    "%matplotlib inline\n",
    "import matplotlib.pyplot as plt\n",
    "plt.style.use('ggplot')\n",
    "import bs4\n",
    "import nltk, sklearn\n",
    "\n",
    "#actualcwd = os.getcwd()\n",
    "#os.chdir(actualcwd)\n",
    "#print(os.getcwd())"
   ]
  },
  {
   "cell_type": "code",
   "execution_count": 2,
   "metadata": {
    "collapsed": false
   },
   "outputs": [
    {
     "name": "stdout",
     "output_type": "stream",
     "text": [
      "ok\n"
     ]
    }
   ],
   "source": [
    "#a simple but not adequate hack to solve:\n",
    "#-- that this notebook will include any passed module that exists on top of its folder\n",
    "#-- that my installation of the the nltk will find the correct path to the nlkt_data folder\n",
    "#\n",
    "#once this line is run, IT SHOULDN'T RUN AGAIN!, otherwise the cwd will change into something different; \n",
    "#it can restored though in different ways, one by using `actualcwd` variable or in some cases shuting down this notebook\n",
    "#\n",
    "#\n",
    "os.chdir('../..')\n",
    "#print(os.getcwd())\n",
    "sys.path.append(os.getcwd())\n",
    "import config.config as config\n",
    "\n",
    "#print(config.anacondadir)\n",
    "\n",
    "if os.path.exists(config.anacondadir):\n",
    "    print('ok')\n",
    "    nltk.data.path.append(config.anacondadir)"
   ]
  },
  {
   "cell_type": "code",
   "execution_count": 3,
   "metadata": {
    "collapsed": false
   },
   "outputs": [],
   "source": [
    "#OBSERVATION!: name of file has been changed to reflect last updated file \n",
    "if pathlib.Path(os.getcwd()+'/data/annotatedplatformsphase1_a1.csv').is_file():\n",
    "    pd_annotated = pandas.read_csv(open(os.getcwd()+'/data/annotatedplatformsphase1_a1.csv', 'r'), sep=';', quotechar=\"'\")\n",
    "else:\n",
    "    print('Not path found')"
   ]
  },
  {
   "cell_type": "code",
   "execution_count": 4,
   "metadata": {
    "collapsed": false,
    "scrolled": true
   },
   "outputs": [
    {
     "data": {
      "text/html": [
       "<div>\n",
       "<table border=\"1\" class=\"dataframe\">\n",
       "  <thead>\n",
       "    <tr style=\"text-align: right;\">\n",
       "      <th></th>\n",
       "      <th>Unnamed: 0</th>\n",
       "      <th>Unnamed: 0.1</th>\n",
       "      <th>platform</th>\n",
       "      <th>title</th>\n",
       "      <th>description</th>\n",
       "      <th>keywords</th>\n",
       "      <th>htext</th>\n",
       "      <th>params</th>\n",
       "      <th>category_regex</th>\n",
       "      <th>wiki</th>\n",
       "      <th>category</th>\n",
       "    </tr>\n",
       "  </thead>\n",
       "  <tbody>\n",
       "    <tr>\n",
       "      <th>0</th>\n",
       "      <td>0</td>\n",
       "      <td>0</td>\n",
       "      <td>v4-alpha.getbootstrap.com</td>\n",
       "      <td>\\n  \\n    bootstrap · the most popular html, c...</td>\n",
       "      <td>the most popular html, css, and js framework i...</td>\n",
       "      <td></td>\n",
       "      <td>Bootstrap is the most popular HTML, CSS, and J...</td>\n",
       "      <td>,/components,/components/breadcrumb/,/migratio...</td>\n",
       "      <td>api|package|framework|librar|stack|licens|addo...</td>\n",
       "      <td>NaN</td>\n",
       "      <td>PACKAGE</td>\n",
       "    </tr>\n",
       "    <tr>\n",
       "      <th>1</th>\n",
       "      <td>1</td>\n",
       "      <td>3</td>\n",
       "      <td>jscroll.com</td>\n",
       "      <td>jscroll - a jquery plugin for infinite scrolli...</td>\n",
       "      <td></td>\n",
       "      <td></td>\n",
       "      <td>jScroll is a jQuery plugin for infinite scroll...</td>\n",
       "      <td>/,https://github.com/cubiq/iscroll</td>\n",
       "      <td>api|package|framework|librar|stack|licens|addo...</td>\n",
       "      <td>NaN</td>\n",
       "      <td>PACKAGE</td>\n",
       "    </tr>\n",
       "    <tr>\n",
       "      <th>2</th>\n",
       "      <td>2</td>\n",
       "      <td>10</td>\n",
       "      <td>mongoosejs.com</td>\n",
       "      <td>mongoose odm v4.10.5</td>\n",
       "      <td></td>\n",
       "      <td></td>\n",
       "      <td>Elegant MongoDB object modeling for Node.js Mo...</td>\n",
       "      <td>/docs/promises.html,/docs/populate.html,/docs/...</td>\n",
       "      <td>api|package|framework|librar|stack|licens|addo...</td>\n",
       "      <td>NaN</td>\n",
       "      <td>PACKAGE</td>\n",
       "    </tr>\n",
       "    <tr>\n",
       "      <th>3</th>\n",
       "      <td>3</td>\n",
       "      <td>34</td>\n",
       "      <td>www.highcharts.com</td>\n",
       "      <td>Interactive JavaScript charts for your webpage...</td>\n",
       "      <td>Highcharts - Interactive JavaScript charts for...</td>\n",
       "      <td>highcharts, charts, javascript charts, ajax ch...</td>\n",
       "      <td>View demo Get a license</td>\n",
       "      <td>/samples/data/jsonp.php,/blog/192-use-highchar...</td>\n",
       "      <td>api|package|framework|librar|stack|licens|addo...</td>\n",
       "      <td>NaN</td>\n",
       "      <td>PACKAGE</td>\n",
       "    </tr>\n",
       "    <tr>\n",
       "      <th>4</th>\n",
       "      <td>4</td>\n",
       "      <td>41</td>\n",
       "      <td>www.crossorigin.me</td>\n",
       "      <td>crossorigin.me</td>\n",
       "      <td></td>\n",
       "      <td></td>\n",
       "      <td>\\n                  Welcome to crossorigin.me,...</td>\n",
       "      <td>/https://en.wikipedia.org/w/api.php,/,/https:/...</td>\n",
       "      <td>api|package|framework|librar|stack|licens|addo...</td>\n",
       "      <td>NaN</td>\n",
       "      <td>PACKAGE</td>\n",
       "    </tr>\n",
       "  </tbody>\n",
       "</table>\n",
       "</div>"
      ],
      "text/plain": [
       "   Unnamed: 0  Unnamed: 0.1                   platform  \\\n",
       "0           0             0  v4-alpha.getbootstrap.com   \n",
       "1           1             3                jscroll.com   \n",
       "2           2            10             mongoosejs.com   \n",
       "3           3            34         www.highcharts.com   \n",
       "4           4            41         www.crossorigin.me   \n",
       "\n",
       "                                               title  \\\n",
       "0  \\n  \\n    bootstrap · the most popular html, c...   \n",
       "1  jscroll - a jquery plugin for infinite scrolli...   \n",
       "2                               mongoose odm v4.10.5   \n",
       "3  Interactive JavaScript charts for your webpage...   \n",
       "4                                     crossorigin.me   \n",
       "\n",
       "                                         description  \\\n",
       "0  the most popular html, css, and js framework i...   \n",
       "1                                                      \n",
       "2                                                      \n",
       "3  Highcharts - Interactive JavaScript charts for...   \n",
       "4                                                      \n",
       "\n",
       "                                            keywords  \\\n",
       "0                                                      \n",
       "1                                                      \n",
       "2                                                      \n",
       "3  highcharts, charts, javascript charts, ajax ch...   \n",
       "4                                                      \n",
       "\n",
       "                                               htext  \\\n",
       "0  Bootstrap is the most popular HTML, CSS, and J...   \n",
       "1  jScroll is a jQuery plugin for infinite scroll...   \n",
       "2  Elegant MongoDB object modeling for Node.js Mo...   \n",
       "3                           View demo Get a license    \n",
       "4  \\n                  Welcome to crossorigin.me,...   \n",
       "\n",
       "                                              params  \\\n",
       "0  ,/components,/components/breadcrumb/,/migratio...   \n",
       "1                 /,https://github.com/cubiq/iscroll   \n",
       "2  /docs/promises.html,/docs/populate.html,/docs/...   \n",
       "3  /samples/data/jsonp.php,/blog/192-use-highchar...   \n",
       "4  /https://en.wikipedia.org/w/api.php,/,/https:/...   \n",
       "\n",
       "                                      category_regex wiki category  \n",
       "0  api|package|framework|librar|stack|licens|addo...  NaN  PACKAGE  \n",
       "1  api|package|framework|librar|stack|licens|addo...  NaN  PACKAGE  \n",
       "2  api|package|framework|librar|stack|licens|addo...  NaN  PACKAGE  \n",
       "3  api|package|framework|librar|stack|licens|addo...  NaN  PACKAGE  \n",
       "4  api|package|framework|librar|stack|licens|addo...  NaN  PACKAGE  "
      ]
     },
     "execution_count": 4,
     "metadata": {},
     "output_type": "execute_result"
    }
   ],
   "source": [
    "pd_annotated.head(5)"
   ]
  },
  {
   "cell_type": "code",
   "execution_count": 5,
   "metadata": {
    "collapsed": true
   },
   "outputs": [],
   "source": [
    "#OBSERVATION!: name of file has been changed to reflect last updated file \n",
    "if pathlib.Path(os.getcwd()+'/data/notatedplatformsphase1_a1.csv').is_file():\n",
    "    pd_notated = pandas.read_csv(open(os.getcwd()+'/data/notatedplatformsphase1_a1.csv', 'r'), sep=';', quotechar=\"'\")\n",
    "else:\n",
    "    print('Not path found')"
   ]
  },
  {
   "cell_type": "code",
   "execution_count": 6,
   "metadata": {
    "collapsed": false,
    "scrolled": true
   },
   "outputs": [
    {
     "data": {
      "text/html": [
       "<div>\n",
       "<table border=\"1\" class=\"dataframe\">\n",
       "  <thead>\n",
       "    <tr style=\"text-align: right;\">\n",
       "      <th></th>\n",
       "      <th>Unnamed: 0</th>\n",
       "      <th>Unnamed: 0.1</th>\n",
       "      <th>platform</th>\n",
       "      <th>title</th>\n",
       "      <th>description</th>\n",
       "      <th>keywords</th>\n",
       "      <th>htext</th>\n",
       "      <th>params</th>\n",
       "      <th>category</th>\n",
       "      <th>wiki</th>\n",
       "    </tr>\n",
       "  </thead>\n",
       "  <tbody>\n",
       "    <tr>\n",
       "      <th>0</th>\n",
       "      <td>0</td>\n",
       "      <td>0</td>\n",
       "      <td>www.kenneth-truyers.net</td>\n",
       "      <td>my life as a software developer |</td>\n",
       "      <td>blog about development using .net and client-s...</td>\n",
       "      <td></td>\n",
       "      <td>Posted on Friday, January 27th, 2017 at 02:42 ...</td>\n",
       "      <td>/2013/04/20/javascript-hoisting-explained/</td>\n",
       "      <td>NaN</td>\n",
       "      <td>NaN</td>\n",
       "    </tr>\n",
       "    <tr>\n",
       "      <th>1</th>\n",
       "      <td>1</td>\n",
       "      <td>1</td>\n",
       "      <td>school.scotch.io</td>\n",
       "      <td>courses ― scotch</td>\n",
       "      <td></td>\n",
       "      <td></td>\n",
       "      <td>You trust Scotch tutorials and Scotch authors....</td>\n",
       "      <td>/build-a-nodejs-website/course-introduction,/b...</td>\n",
       "      <td>NaN</td>\n",
       "      <td>NaN</td>\n",
       "    </tr>\n",
       "    <tr>\n",
       "      <th>2</th>\n",
       "      <td>2</td>\n",
       "      <td>2</td>\n",
       "      <td>www.imkrisna.com</td>\n",
       "      <td>i made krisna widhiastra | full-stack developer</td>\n",
       "      <td></td>\n",
       "      <td></td>\n",
       "      <td>\\n\\t\\t\\t\\t\\t\\t\\tCurrently working as Applicati...</td>\n",
       "      <td>/blog/2014/02/if-else-vs-if-if-vs-switch-javas...</td>\n",
       "      <td>NaN</td>\n",
       "      <td>NaN</td>\n",
       "    </tr>\n",
       "    <tr>\n",
       "      <th>3</th>\n",
       "      <td>3</td>\n",
       "      <td>3</td>\n",
       "      <td>vanilla-js.com</td>\n",
       "      <td>vanilla js</td>\n",
       "      <td></td>\n",
       "      <td></td>\n",
       "      <td>The Vanilla JS team maintains every byte of co...</td>\n",
       "      <td>/</td>\n",
       "      <td>NaN</td>\n",
       "      <td>NaN</td>\n",
       "    </tr>\n",
       "    <tr>\n",
       "      <th>4</th>\n",
       "      <td>4</td>\n",
       "      <td>4</td>\n",
       "      <td>www.newmediacampaigns.com</td>\n",
       "      <td>new media campaigns | nmc digital agency</td>\n",
       "      <td>NaN</td>\n",
       "      <td></td>\n",
       "      <td>Congrats to Hutchison PLLC on being named one ...</td>\n",
       "      <td>/blog/how-to-use-json-apis-with-jquery</td>\n",
       "      <td>NaN</td>\n",
       "      <td>NaN</td>\n",
       "    </tr>\n",
       "  </tbody>\n",
       "</table>\n",
       "</div>"
      ],
      "text/plain": [
       "   Unnamed: 0  Unnamed: 0.1                   platform  \\\n",
       "0           0             0    www.kenneth-truyers.net   \n",
       "1           1             1           school.scotch.io   \n",
       "2           2             2           www.imkrisna.com   \n",
       "3           3             3             vanilla-js.com   \n",
       "4           4             4  www.newmediacampaigns.com   \n",
       "\n",
       "                                             title  \\\n",
       "0              my life as a software developer |     \n",
       "1                                 courses ― scotch   \n",
       "2  i made krisna widhiastra | full-stack developer   \n",
       "3                                       vanilla js   \n",
       "4         new media campaigns | nmc digital agency   \n",
       "\n",
       "                                         description keywords  \\\n",
       "0  blog about development using .net and client-s...            \n",
       "1                                                               \n",
       "2                                                               \n",
       "3                                                               \n",
       "4                                                NaN            \n",
       "\n",
       "                                               htext  \\\n",
       "0  Posted on Friday, January 27th, 2017 at 02:42 ...   \n",
       "1  You trust Scotch tutorials and Scotch authors....   \n",
       "2  \\n\\t\\t\\t\\t\\t\\t\\tCurrently working as Applicati...   \n",
       "3  The Vanilla JS team maintains every byte of co...   \n",
       "4  Congrats to Hutchison PLLC on being named one ...   \n",
       "\n",
       "                                              params  category wiki  \n",
       "0         /2013/04/20/javascript-hoisting-explained/       NaN  NaN  \n",
       "1  /build-a-nodejs-website/course-introduction,/b...       NaN  NaN  \n",
       "2  /blog/2014/02/if-else-vs-if-if-vs-switch-javas...       NaN  NaN  \n",
       "3                                                  /       NaN  NaN  \n",
       "4             /blog/how-to-use-json-apis-with-jquery       NaN  NaN  "
      ]
     },
     "execution_count": 6,
     "metadata": {},
     "output_type": "execute_result"
    }
   ],
   "source": [
    "pd_notated.head(5)"
   ]
  },
  {
   "cell_type": "markdown",
   "metadata": {},
   "source": [
    "## DATA UPDATING - Important..."
   ]
  },
  {
   "cell_type": "markdown",
   "metadata": {},
   "source": [
    "The code commented below was used to:\n",
    "* **Add wikipedia info to the created tables**: for this I used the `scr.wikipedia_extract` module made for this purpose\n",
    "* **Revise some column naming and use the names for categories** to be used from now on: until now (29-July-17), I was using as categories a regex form I used for the original classification rules; from now I will be using the defined categories found in the `docs` folder of this work\n",
    "\n",
    "The changes below were done by creating updated files, re-opening that file and update it until the right file was created. Once the information was updated with some information, the respective code was commented because it was not of usage any more.\n",
    "\n",
    "The code below is kept commented but is shown so other users of this file can have a reference. Also the different intermediate files are kept in the `data` folder but only the required files are called for further analysis. In a more advanced phase a simpler file will be kept."
   ]
  },
  {
   "cell_type": "code",
   "execution_count": 7,
   "metadata": {
    "collapsed": false
   },
   "outputs": [],
   "source": [
    "#import scr.wikipedia_extract"
   ]
  },
  {
   "cell_type": "code",
   "execution_count": 8,
   "metadata": {
    "collapsed": false
   },
   "outputs": [],
   "source": [
    "#import imp"
   ]
  },
  {
   "cell_type": "code",
   "execution_count": 9,
   "metadata": {
    "collapsed": false,
    "scrolled": true
   },
   "outputs": [],
   "source": [
    "#imp.reload(scr.wikipedia_extract)"
   ]
  },
  {
   "cell_type": "code",
   "execution_count": 10,
   "metadata": {
    "collapsed": false
   },
   "outputs": [],
   "source": [
    "#pd_annotated['wiki'] = ''\n",
    "#pd_notated['wiki'] = ''\n",
    "#scr.wikipedia_extract.getting_wikipedia(pd_annotated)\n",
    "#scr.wikipedia_extract.getting_wikipedia(pd_notated)"
   ]
  },
  {
   "cell_type": "code",
   "execution_count": 11,
   "metadata": {
    "collapsed": false
   },
   "outputs": [],
   "source": [
    "#pd_errortemp = pd_notated.loc[pd_notated['platform'] == 'view-source:http:',]\n",
    "#scr.wikipedia_extract.getting_wikipedia(pd_errortemp)\n",
    "#print(pd_errortemp)\n",
    "#print(pd_notated.iloc[110,])\n",
    "#url = 'https://en.wikipedia.org/w/api.php?action=query&list=search&format=json&srsearch=JavaScript Objects in Detail'\n",
    "#req = urllib.request.Request(url)\n",
    "#try:\n",
    "#    resp = urllib.request.urlopen(req)\n",
    "#except urllib.error.HTTPError as e:\n",
    "#    print(e)"
   ]
  },
  {
   "cell_type": "code",
   "execution_count": 12,
   "metadata": {
    "collapsed": false
   },
   "outputs": [],
   "source": [
    "#pd_notated.head(100)"
   ]
  },
  {
   "cell_type": "code",
   "execution_count": 13,
   "metadata": {
    "collapsed": true
   },
   "outputs": [],
   "source": [
    "#pd_annotated = pd_annotated.rename(columns={'category':'category_regex'})"
   ]
  },
  {
   "cell_type": "code",
   "execution_count": 14,
   "metadata": {
    "collapsed": false
   },
   "outputs": [],
   "source": [
    "#pd_annotated.columns"
   ]
  },
  {
   "cell_type": "code",
   "execution_count": 15,
   "metadata": {
    "collapsed": true
   },
   "outputs": [],
   "source": [
    "#categories = pandas.read_csv(open(os.getcwd()+'/docs/category_operationalization.csv', 'r'), sep=':')"
   ]
  },
  {
   "cell_type": "code",
   "execution_count": 16,
   "metadata": {
    "collapsed": false,
    "scrolled": true
   },
   "outputs": [],
   "source": [
    "#categories"
   ]
  },
  {
   "cell_type": "code",
   "execution_count": 17,
   "metadata": {
    "collapsed": false
   },
   "outputs": [],
   "source": [
    "#categories = categories[['category','category_regex']]"
   ]
  },
  {
   "cell_type": "code",
   "execution_count": 18,
   "metadata": {
    "collapsed": false
   },
   "outputs": [],
   "source": [
    "#pd_annotated = pandas.merge(pd_annotated, categories, on=['category_regex'])"
   ]
  },
  {
   "cell_type": "code",
   "execution_count": 19,
   "metadata": {
    "collapsed": false,
    "scrolled": true
   },
   "outputs": [],
   "source": [
    "#pd_annotated.head(5)"
   ]
  },
  {
   "cell_type": "code",
   "execution_count": 20,
   "metadata": {
    "collapsed": true
   },
   "outputs": [],
   "source": [
    "#pd_annotated.to_csv(os.getcwd()+'/data/annotatedplatformsphase1_a1.csv', sep=';', quotechar=\"'\")\n",
    "#pd_notated.to_csv(os.getcwd()+'/data/notatedplatformsphase1_a1.csv', sep=';', quotechar=\"'\")"
   ]
  },
  {
   "cell_type": "markdown",
   "metadata": {},
   "source": [
    "## DATA PREPARATION"
   ]
  },
  {
   "cell_type": "code",
   "execution_count": 21,
   "metadata": {
    "collapsed": false,
    "scrolled": true
   },
   "outputs": [
    {
     "name": "stdout",
     "output_type": "stream",
     "text": [
      "ok\n"
     ]
    }
   ],
   "source": [
    "import scr.datapreparation_ML"
   ]
  },
  {
   "cell_type": "code",
   "execution_count": 22,
   "metadata": {
    "collapsed": false,
    "scrolled": true
   },
   "outputs": [],
   "source": [
    "#imp.reload(scr.datapreparation_ML)"
   ]
  },
  {
   "cell_type": "code",
   "execution_count": 23,
   "metadata": {
    "collapsed": false
   },
   "outputs": [
    {
     "name": "stdout",
     "output_type": "stream",
     "text": [
      "Unnamed: 0  has the following null values:  Unnamed: 0    0\n",
      "dtype: int64\n",
      "Unnamed: 0.1  has the following null values:  Unnamed: 0.1    0\n",
      "dtype: int64\n",
      "platform  has the following null values:  platform    0\n",
      "dtype: int64\n",
      "title  has the following null values:  title    1\n",
      "dtype: int64\n",
      "description  has the following null values:  description    11\n",
      "dtype: int64\n",
      "keywords  has the following null values:  keywords    2\n",
      "dtype: int64\n",
      "htext  has the following null values:  htext    0\n",
      "dtype: int64\n",
      "params  has the following null values:  params    6\n",
      "dtype: int64\n",
      "category_regex  has the following null values:  category_regex    0\n",
      "dtype: int64\n",
      "wiki  has the following null values:  wiki    373\n",
      "dtype: int64\n",
      "category  has the following null values:  category    0\n",
      "dtype: int64\n"
     ]
    }
   ],
   "source": [
    "for col in pd_annotated.columns:\n",
    "    print(col,' has the following null values: ', pd_annotated[[col]].isnull().sum())"
   ]
  },
  {
   "cell_type": "code",
   "execution_count": 24,
   "metadata": {
    "collapsed": false
   },
   "outputs": [
    {
     "data": {
      "text/plain": [
       "(450, 11)"
      ]
     },
     "execution_count": 24,
     "metadata": {},
     "output_type": "execute_result"
    }
   ],
   "source": [
    "pd_annotated.shape"
   ]
  },
  {
   "cell_type": "code",
   "execution_count": 25,
   "metadata": {
    "collapsed": false,
    "scrolled": true
   },
   "outputs": [
    {
     "name": "stdout",
     "output_type": "stream",
     "text": [
      "Unnamed: 0  has the following null values:  Unnamed: 0    0\n",
      "dtype: int64\n",
      "Unnamed: 0.1  has the following null values:  Unnamed: 0.1    0\n",
      "dtype: int64\n",
      "platform  has the following null values:  platform    0\n",
      "dtype: int64\n",
      "title  has the following null values:  title    2\n",
      "dtype: int64\n",
      "description  has the following null values:  description    9\n",
      "dtype: int64\n",
      "keywords  has the following null values:  keywords    3\n",
      "dtype: int64\n",
      "htext  has the following null values:  htext    0\n",
      "dtype: int64\n",
      "params  has the following null values:  params    13\n",
      "dtype: int64\n",
      "category  has the following null values:  category    323\n",
      "dtype: int64\n",
      "wiki  has the following null values:  wiki    270\n",
      "dtype: int64\n"
     ]
    }
   ],
   "source": [
    "for col in pd_notated.columns:\n",
    "    print(col,' has the following null values: ', pd_notated[[col]].isnull().sum())"
   ]
  },
  {
   "cell_type": "code",
   "execution_count": 26,
   "metadata": {
    "collapsed": false
   },
   "outputs": [
    {
     "data": {
      "text/plain": [
       "(323, 10)"
      ]
     },
     "execution_count": 26,
     "metadata": {},
     "output_type": "execute_result"
    }
   ],
   "source": [
    "pd_notated.shape"
   ]
  },
  {
   "cell_type": "code",
   "execution_count": 27,
   "metadata": {
    "collapsed": false
   },
   "outputs": [],
   "source": [
    "pd_annotated['alltext'] = ''\n",
    "scr.datapreparation_ML.datapreparation(pd_annotated)\n",
    "pd_notated['alltext'] = ''\n",
    "scr.datapreparation_ML.datapreparation(pd_notated)"
   ]
  },
  {
   "cell_type": "markdown",
   "metadata": {},
   "source": [
    "# ANALYSIS"
   ]
  },
  {
   "cell_type": "markdown",
   "metadata": {},
   "source": [
    "## References:\n",
    "* http://scikit-learn.org/stable/modules/cross_validation.html\n",
    "* https://stackoverflow.com/questions/24147278/how-do-i-create-test-and-train-samples-from-one-dataframe-with-pandas"
   ]
  },
  {
   "cell_type": "markdown",
   "metadata": {},
   "source": [
    "## DATA SPLIT"
   ]
  },
  {
   "cell_type": "code",
   "execution_count": 28,
   "metadata": {
    "collapsed": true
   },
   "outputs": [],
   "source": [
    "#from sklearn.model_selection import train_test_split\n",
    "#xtrain, xtest, ytrain, ytest = train_test_split(pd_annotated.alltext, pd_annotated.category, test_size=0.1, random_state=0)"
   ]
  },
  {
   "cell_type": "code",
   "execution_count": 51,
   "metadata": {
    "collapsed": false
   },
   "outputs": [],
   "source": [
    "train=pd_annotated[['platform', 'alltext','category']].sample(frac=0.75,random_state=0)\n",
    "test=pd_annotated[['platform', 'alltext','category']].drop(train.index)"
   ]
  },
  {
   "cell_type": "code",
   "execution_count": 52,
   "metadata": {
    "collapsed": false
   },
   "outputs": [
    {
     "data": {
      "text/html": [
       "<div>\n",
       "<table border=\"1\" class=\"dataframe\">\n",
       "  <thead>\n",
       "    <tr style=\"text-align: right;\">\n",
       "      <th></th>\n",
       "      <th>platform</th>\n",
       "      <th>alltext</th>\n",
       "      <th>category</th>\n",
       "    </tr>\n",
       "  </thead>\n",
       "  <tbody>\n",
       "    <tr>\n",
       "      <th>124</th>\n",
       "      <td>emilolsson.com</td>\n",
       "      <td>mail unit font calc responsive vw css emil c...</td>\n",
       "      <td>NEWS</td>\n",
       "    </tr>\n",
       "    <tr>\n",
       "      <th>54</th>\n",
       "      <td>en.wikiquote.org</td>\n",
       "      <td>works w projects browse television literary ...</td>\n",
       "      <td>PACKAGE</td>\n",
       "    </tr>\n",
       "    <tr>\n",
       "      <th>268</th>\n",
       "      <td>ctrlq.org</td>\n",
       "      <td>tech calendar authored docs workflows worked...</td>\n",
       "      <td>NEWS</td>\n",
       "    </tr>\n",
       "    <tr>\n",
       "      <th>293</th>\n",
       "      <td>www.cssscript.com</td>\n",
       "      <td>cool animations lets animate reveal css pure...</td>\n",
       "      <td>THEME</td>\n",
       "    </tr>\n",
       "    <tr>\n",
       "      <th>230</th>\n",
       "      <td>blog.getbootstrap.com</td>\n",
       "      <td>css released popular embracing html discussi...</td>\n",
       "      <td>NEWS</td>\n",
       "    </tr>\n",
       "    <tr>\n",
       "      <th>134</th>\n",
       "      <td>en.m.wikipedia.org</td>\n",
       "      <td>stayed three image thousands five florida ca...</td>\n",
       "      <td>NEWS</td>\n",
       "    </tr>\n",
       "    <tr>\n",
       "      <th>12</th>\n",
       "      <td>anyorigin.com</td>\n",
       "      <td>exterminator origin jsonp policy cross watch...</td>\n",
       "      <td>PACKAGE</td>\n",
       "    </tr>\n",
       "    <tr>\n",
       "      <th>423</th>\n",
       "      <td>overapi.com</td>\n",
       "      <td>overapi sheets com collecting cheat site che...</td>\n",
       "      <td>DOCS</td>\n",
       "    </tr>\n",
       "    <tr>\n",
       "      <th>272</th>\n",
       "      <td>image.slidesharecdn.com</td>\n",
       "      <td>language jpg javascript programming</td>\n",
       "      <td>NEWS</td>\n",
       "    </tr>\n",
       "    <tr>\n",
       "      <th>76</th>\n",
       "      <td>www.emailjs.com</td>\n",
       "      <td>send email things needed directly server mat...</td>\n",
       "      <td>PACKAGE</td>\n",
       "    </tr>\n",
       "  </tbody>\n",
       "</table>\n",
       "</div>"
      ],
      "text/plain": [
       "                    platform  \\\n",
       "124           emilolsson.com   \n",
       "54          en.wikiquote.org   \n",
       "268                ctrlq.org   \n",
       "293        www.cssscript.com   \n",
       "230    blog.getbootstrap.com   \n",
       "134       en.m.wikipedia.org   \n",
       "12             anyorigin.com   \n",
       "423              overapi.com   \n",
       "272  image.slidesharecdn.com   \n",
       "76           www.emailjs.com   \n",
       "\n",
       "                                               alltext category  \n",
       "124    mail unit font calc responsive vw css emil c...     NEWS  \n",
       "54     works w projects browse television literary ...  PACKAGE  \n",
       "268    tech calendar authored docs workflows worked...     NEWS  \n",
       "293    cool animations lets animate reveal css pure...    THEME  \n",
       "230    css released popular embracing html discussi...     NEWS  \n",
       "134    stayed three image thousands five florida ca...     NEWS  \n",
       "12     exterminator origin jsonp policy cross watch...  PACKAGE  \n",
       "423    overapi sheets com collecting cheat site che...     DOCS  \n",
       "272                language jpg javascript programming     NEWS  \n",
       "76     send email things needed directly server mat...  PACKAGE  "
      ]
     },
     "execution_count": 52,
     "metadata": {},
     "output_type": "execute_result"
    }
   ],
   "source": [
    "train.head(10)"
   ]
  },
  {
   "cell_type": "markdown",
   "metadata": {},
   "source": [
    "## DATA MODELLING - VECTOR MODEL 1"
   ]
  },
  {
   "cell_type": "code",
   "execution_count": 53,
   "metadata": {
    "collapsed": false
   },
   "outputs": [
    {
     "data": {
      "text/plain": [
       "(338, 13421)"
      ]
     },
     "execution_count": 53,
     "metadata": {},
     "output_type": "execute_result"
    }
   ],
   "source": [
    "from sklearn.feature_extraction.text import CountVectorizer\n",
    "count_vect_r1 = CountVectorizer(ngram_range=(1,2))\n",
    "X_primercounts = count_vect_r1.fit_transform(train.alltext)\n",
    "X_primercounts.shape"
   ]
  },
  {
   "cell_type": "markdown",
   "metadata": {},
   "source": [
    "## DECISION TREE WITH ADABOOST, CLASSIFICATION 1\n",
    "\n",
    "### References:\n",
    "* https://en.wikipedia.org/wiki/AdaBoost\n",
    "* http://scikit-learn.org/stable/auto_examples/ensemble/plot_adaboost_hastie_10_2.html#sphx-glr-auto-examples-ensemble-plot-adaboost-hastie-10-2-py"
   ]
  },
  {
   "cell_type": "markdown",
   "metadata": {},
   "source": [
    "### Models"
   ]
  },
  {
   "cell_type": "code",
   "execution_count": 54,
   "metadata": {
    "collapsed": true
   },
   "outputs": [],
   "source": [
    "from sklearn.tree import DecisionTreeClassifier\n",
    "from sklearn.metrics import zero_one_loss\n",
    "from sklearn.ensemble import AdaBoostClassifier"
   ]
  },
  {
   "cell_type": "code",
   "execution_count": 55,
   "metadata": {
    "collapsed": false
   },
   "outputs": [],
   "source": [
    "clf_dtm_r1_stump = DecisionTreeClassifier(max_depth=1, min_samples_leaf=1)\n",
    "clf_dt_r1_stump = clf_dtm_r1_stump.fit(X_primercounts, train.category)\n",
    "\n",
    "clf_dtm_r1 = DecisionTreeClassifier(max_depth=5, min_samples_leaf=2)\n",
    "clf_dt_r1 = clf_dtm_r1.fit(X_primercounts, train.category)"
   ]
  },
  {
   "cell_type": "code",
   "execution_count": 74,
   "metadata": {
    "collapsed": false
   },
   "outputs": [
    {
     "data": {
      "text/plain": [
       "AdaBoostClassifier(algorithm='SAMME',\n",
       "          base_estimator=DecisionTreeClassifier(class_weight=None, criterion='gini', max_depth=5,\n",
       "            max_features=None, max_leaf_nodes=None,\n",
       "            min_impurity_split=1e-07, min_samples_leaf=2,\n",
       "            min_samples_split=2, min_weight_fraction_leaf=0.0,\n",
       "            presort=False, random_state=None, splitter='best'),\n",
       "          learning_rate=1.0, n_estimators=40, random_state=None)"
      ]
     },
     "execution_count": 74,
     "metadata": {},
     "output_type": "execute_result"
    }
   ],
   "source": [
    "n_estimators = 40\n",
    "# A learning rate of 1. may not be optimal for both SAMME and SAMME.R\n",
    "learning_rate = 1.\n",
    "\n",
    "\n",
    "ada_discrete = AdaBoostClassifier(\n",
    "    base_estimator=clf_dtm_r1,\n",
    "    learning_rate=learning_rate,\n",
    "    n_estimators=n_estimators,\n",
    "    algorithm=\"SAMME\")\n",
    "ada_discrete.fit(X_primercounts, train.category)"
   ]
  },
  {
   "cell_type": "markdown",
   "metadata": {},
   "source": [
    "### Classification"
   ]
  },
  {
   "cell_type": "code",
   "execution_count": 59,
   "metadata": {
    "collapsed": true
   },
   "outputs": [],
   "source": [
    "X_test1counts_stump = count_vect_r1.transform(test.alltext)\n",
    "predicted_dt_r1_stump = clf_dt_r1_stump.predict(X_test1counts_stump)"
   ]
  },
  {
   "cell_type": "code",
   "execution_count": 60,
   "metadata": {
    "collapsed": false,
    "scrolled": true
   },
   "outputs": [
    {
     "name": "stdout",
     "output_type": "stream",
     "text": [
      "'v4-alpha.getbootstrap.com' => NEWS\n",
      "'jqueryvalidation.org' => NEWS\n",
      "'api.datamarket.azure.com' => NEWS\n",
      "'preview.c9users.io' => NEWS\n",
      "'chaijs.com' => NEWS\n",
      "'mojs.io' => NEWS\n",
      "'www.mediawiki.org' => NEWS\n",
      "'jquerymobile.com' => NEWS\n",
      "'bootstrap-switch.min.css' => NEWS\n",
      "'paperjs.org' => NEWS\n",
      "'raw.githubusercontent.com' => NEWS\n",
      "'d3js.org' => NEWS\n",
      "'www.npmjs.com' => NEWS\n",
      "'lmgtfy.com' => NEWS\n",
      "'jsonip.com' => NEWS\n",
      "'cdnjs.com' => NEWS\n",
      "'expressjs.com' => NEWS\n",
      "'packagecontrol.io' => NEWS\n",
      "'howtocenterincss.com' => NEWS\n",
      "'expo.getbootstrap.com' => NEWS\n",
      "'query.yahooapis.com' => NEWS\n",
      "'www.bootstrapcdn.com' => NEWS\n",
      "'www.geoplugin.net' => NEWS\n",
      "'ip-api.com' => NEWS\n",
      "'scrollrevealjs.org' => NEWS\n",
      "'fontawesome.io' => NEWS\n",
      "'recurial.com' => NEWS\n",
      "'jhtmlcss.blogspot.com' => NEWS\n",
      "'wildermuth.com' => NEWS\n",
      "'codecondo.com' => NEWS\n",
      "'www.creativebloq.com' => NEWS\n",
      "'www.standardista.com' => NEWS\n",
      "'jrsinclair.com' => NEWS\n",
      "'nicolashery.com' => NEWS\n",
      "'www.jokecamp.com' => NEWS\n",
      "'scottiestech.info' => NEWS\n",
      "'blog.engineyard.com' => NEWS\n",
      "'1stwebmagazine.com' => NEWS\n",
      "'designsparkle.com' => NEWS\n",
      "'blog.npmjs.org' => NEWS\n",
      "'coderwall.com' => NEWS\n",
      "'ageekandhisblog.com' => NEWS\n",
      "'imperavi.com' => NEWS\n",
      "'fuqua.io' => NEWS\n",
      "'www.abeautifulsite.net' => NEWS\n",
      "'en.wikipedia.org' => NEWS\n",
      "'vanseodesign.com' => NEWS\n",
      "'www.webdesignerdepot.com' => NEWS\n",
      "'www.lingulo.com' => NEWS\n",
      "'www.minimit.com' => NEWS\n",
      "'www.differencebetween.info' => NEWS\n",
      "'codeitdown.com' => NEWS\n",
      "'psitsmike.com' => NEWS\n",
      "'perishablepress.com' => NEWS\n",
      "'willschenk.com' => NEWS\n",
      "'lifeinthegrid.com' => NEWS\n",
      "'arnique.net' => NEWS\n",
      "'www.mattboldt.com' => NEWS\n",
      "'www.vinaypuppal.com' => NEWS\n",
      "'blog.jquery.com' => NEWS\n",
      "'readwrite.com' => NEWS\n",
      "'praveenlobo.com' => NEWS\n",
      "'stanhub.com' => NEWS\n",
      "'stackabuse.com' => NEWS\n",
      "'www.webmaster-source.com' => NEWS\n",
      "'jsonviewer.stack.hu' => NEWS\n",
      "'www.cambus.net' => NEWS\n",
      "'debugmode.net' => NEWS\n",
      "'hughfdjackson.com' => NEWS\n",
      "'htmlcolorcodes.com' => NEWS\n",
      "'w3layouts.com' => NEWS\n",
      "'devfreebooks.org' => NEWS\n",
      "'wrapbootstrap.com' => NEWS\n",
      "'demos.creative-tim.com' => NEWS\n",
      "'demos.codexworld.com' => NEWS\n",
      "'rosettacode.org' => NEWS\n",
      "'jshint.com' => NEWS\n",
      "'www.freeformatter.com' => NEWS\n",
      "'code.runnable.com' => NEWS\n",
      "'atom.io' => NEWS\n",
      "'www.mkyong.com' => NEWS\n",
      "'www.edx.org' => TRAINING\n",
      "'wiki.selfhtml.org' => NEWS\n",
      "'www.theodinproject.com' => TRAINING\n",
      "'www.javascriptkit.com' => NEWS\n",
      "'www.pluralsight.com' => TRAINING\n",
      "'www.the-art-of-web.com' => NEWS\n",
      "'egghead.io' => TRAINING\n",
      "'scotch.io' => NEWS\n",
      "'css-tricks.com' => NEWS\n",
      "'www.tutorialspoint.com' => NEWS\n",
      "'learn.shayhowe.com' => NEWS\n",
      "'campus.codeschool.com' => TRAINING\n",
      "'www.skilledup.com' => TRAINING\n",
      "'127.0.0.1:62950' => NEWS\n",
      "'fonts.googleapis.com' => NEWS\n",
      "'bysin.net' => NEWS\n",
      "'jsonformat.com' => NEWS\n",
      "'gridus-html.neuethemes.net' => NEWS\n",
      "'whateverthesiteis.xyz' => NEWS\n",
      "'index.htm' => NEWS\n",
      "'html.com' => NEWS\n",
      "'snook.ca' => NEWS\n",
      "'dev.twitter.com' => NEWS\n",
      "'www.w3.org' => NEWS\n",
      "'docs.sequelizejs.com' => NEWS\n",
      "'code.visualstudio.com' => NEWS\n",
      "'dev.w3.org' => NEWS\n",
      "'bootstrapdocs.com' => NEWS\n",
      "'www.wickedlysmart.com' => NEWS\n",
      "'www.airpair.com' => NEWS\n",
      "'www.pdf-archive.com' => NEWS\n"
     ]
    }
   ],
   "source": [
    "for platform, category in zip(test.platform, predicted_dt_r1_stump):\n",
    "    print('%r => %s' % (platform, category))"
   ]
  },
  {
   "cell_type": "code",
   "execution_count": 63,
   "metadata": {
    "collapsed": true
   },
   "outputs": [],
   "source": [
    "X_test1counts = count_vect_r1.transform(test.alltext)\n",
    "predicted_dt_r1 = clf_dt_r1.predict(X_test1counts)"
   ]
  },
  {
   "cell_type": "code",
   "execution_count": 64,
   "metadata": {
    "collapsed": false
   },
   "outputs": [
    {
     "name": "stdout",
     "output_type": "stream",
     "text": [
      "'v4-alpha.getbootstrap.com' => PACKAGE\n",
      "'jqueryvalidation.org' => PACKAGE\n",
      "'api.datamarket.azure.com' => NEWS\n",
      "'preview.c9users.io' => NEWS\n",
      "'chaijs.com' => PACKAGE\n",
      "'mojs.io' => NEWS\n",
      "'www.mediawiki.org' => PACKAGE\n",
      "'jquerymobile.com' => PACKAGE\n",
      "'bootstrap-switch.min.css' => NEWS\n",
      "'paperjs.org' => NEWS\n",
      "'raw.githubusercontent.com' => NEWS\n",
      "'d3js.org' => NEWS\n",
      "'www.npmjs.com' => PACKAGE\n",
      "'lmgtfy.com' => NEWS\n",
      "'jsonip.com' => NEWS\n",
      "'cdnjs.com' => NEWS\n",
      "'expressjs.com' => NEWS\n",
      "'packagecontrol.io' => NEWS\n",
      "'howtocenterincss.com' => NEWS\n",
      "'expo.getbootstrap.com' => PACKAGE\n",
      "'query.yahooapis.com' => NEWS\n",
      "'www.bootstrapcdn.com' => NEWS\n",
      "'www.geoplugin.net' => NEWS\n",
      "'ip-api.com' => PACKAGE\n",
      "'scrollrevealjs.org' => NEWS\n",
      "'fontawesome.io' => PACKAGE\n",
      "'recurial.com' => NEWS\n",
      "'jhtmlcss.blogspot.com' => NEWS\n",
      "'wildermuth.com' => NEWS\n",
      "'codecondo.com' => NEWS\n",
      "'www.creativebloq.com' => TRAINING\n",
      "'www.standardista.com' => NEWS\n",
      "'jrsinclair.com' => NEWS\n",
      "'nicolashery.com' => NEWS\n",
      "'www.jokecamp.com' => NEWS\n",
      "'scottiestech.info' => NEWS\n",
      "'blog.engineyard.com' => NEWS\n",
      "'1stwebmagazine.com' => NEWS\n",
      "'designsparkle.com' => NEWS\n",
      "'blog.npmjs.org' => NEWS\n",
      "'coderwall.com' => NEWS\n",
      "'ageekandhisblog.com' => NEWS\n",
      "'imperavi.com' => NEWS\n",
      "'fuqua.io' => NEWS\n",
      "'www.abeautifulsite.net' => NEWS\n",
      "'en.wikipedia.org' => NEWS\n",
      "'vanseodesign.com' => NEWS\n",
      "'www.webdesignerdepot.com' => NEWS\n",
      "'www.lingulo.com' => BUSINESS\n",
      "'www.minimit.com' => NEWS\n",
      "'www.differencebetween.info' => NEWS\n",
      "'codeitdown.com' => NEWS\n",
      "'psitsmike.com' => NEWS\n",
      "'perishablepress.com' => NEWS\n",
      "'willschenk.com' => NEWS\n",
      "'lifeinthegrid.com' => NEWS\n",
      "'arnique.net' => NEWS\n",
      "'www.mattboldt.com' => TRAINING\n",
      "'www.vinaypuppal.com' => PACKAGE\n",
      "'blog.jquery.com' => BUSINESS\n",
      "'readwrite.com' => NEWS\n",
      "'praveenlobo.com' => NEWS\n",
      "'stanhub.com' => DOCS\n",
      "'stackabuse.com' => NEWS\n",
      "'www.webmaster-source.com' => DOCS\n",
      "'jsonviewer.stack.hu' => NEWS\n",
      "'www.cambus.net' => NEWS\n",
      "'debugmode.net' => NEWS\n",
      "'hughfdjackson.com' => NEWS\n",
      "'htmlcolorcodes.com' => NEWS\n",
      "'w3layouts.com' => NEWS\n",
      "'devfreebooks.org' => NEWS\n",
      "'wrapbootstrap.com' => PACKAGE\n",
      "'demos.creative-tim.com' => NEWS\n",
      "'demos.codexworld.com' => TRAINING\n",
      "'rosettacode.org' => NEWS\n",
      "'jshint.com' => NEWS\n",
      "'www.freeformatter.com' => NEWS\n",
      "'code.runnable.com' => NEWS\n",
      "'atom.io' => NEWS\n",
      "'www.mkyong.com' => TRAINING\n",
      "'www.edx.org' => TRAINING\n",
      "'wiki.selfhtml.org' => NEWS\n",
      "'www.theodinproject.com' => TRAINING\n",
      "'www.javascriptkit.com' => TRAINING\n",
      "'www.pluralsight.com' => TRAINING\n",
      "'www.the-art-of-web.com' => TRAINING\n",
      "'egghead.io' => TRAINING\n",
      "'scotch.io' => TRAINING\n",
      "'css-tricks.com' => NEWS\n",
      "'www.tutorialspoint.com' => TRAINING\n",
      "'learn.shayhowe.com' => NEWS\n",
      "'campus.codeschool.com' => TRAINING\n",
      "'www.skilledup.com' => TRAINING\n",
      "'127.0.0.1:62950' => NEWS\n",
      "'fonts.googleapis.com' => NEWS\n",
      "'bysin.net' => NEWS\n",
      "'jsonformat.com' => NEWS\n",
      "'gridus-html.neuethemes.net' => NEWS\n",
      "'whateverthesiteis.xyz' => NEWS\n",
      "'index.htm' => NEWS\n",
      "'html.com' => NEWS\n",
      "'snook.ca' => NEWS\n",
      "'dev.twitter.com' => NEWS\n",
      "'www.w3.org' => NEWS\n",
      "'docs.sequelizejs.com' => NEWS\n",
      "'code.visualstudio.com' => NEWS\n",
      "'dev.w3.org' => NEWS\n",
      "'bootstrapdocs.com' => NEWS\n",
      "'www.wickedlysmart.com' => NEWS\n",
      "'www.airpair.com' => NEWS\n",
      "'www.pdf-archive.com' => NEWS\n"
     ]
    }
   ],
   "source": [
    "for platform, category in zip(test.platform, predicted_dt_r1):\n",
    "    print('%r => %s' % (platform, category))"
   ]
  },
  {
   "cell_type": "code",
   "execution_count": 66,
   "metadata": {
    "collapsed": false
   },
   "outputs": [],
   "source": [
    "X_test1counts_stump = count_vect_r1.transform(test.alltext)\n",
    "clf_dt_r1_stump_err = 1.0 - clf_dt_r1_stump.score(X_test1counts_stump, test.category)\n",
    "X_test1count = count_vect_r1.transform(test.alltext)\n",
    "clf_dt_r1_err = 1.0 - clf_dt_r1.score(X_test1counts, test.category)"
   ]
  },
  {
   "cell_type": "code",
   "execution_count": 69,
   "metadata": {
    "collapsed": false
   },
   "outputs": [
    {
     "name": "stdout",
     "output_type": "stream",
     "text": [
      "0.5625 0.5\n"
     ]
    }
   ],
   "source": [
    "print(clf_dt_r1_stump_err,clf_dt_r1_err)"
   ]
  },
  {
   "cell_type": "markdown",
   "metadata": {},
   "source": [
    "### Figures"
   ]
  },
  {
   "cell_type": "code",
   "execution_count": 76,
   "metadata": {
    "collapsed": false
   },
   "outputs": [
    {
     "data": {
      "image/png": "[encoded data removed]",
      "text/plain": [
       "<matplotlib.figure.Figure at 0x7f74920477f0>"
      ]
     },
     "metadata": {},
     "output_type": "display_data"
    }
   ],
   "source": [
    "fig = plt.figure()\n",
    "ax = fig.add_subplot(111)\n",
    "\n",
    "ax.plot([1, n_estimators], [clf_dtm_r1_stump_err] * 2, 'k-',\n",
    "        label='Decision Stump Error')\n",
    "ax.plot([1, n_estimators], [clf_dtm_r1_err] * 2, 'k--',\n",
    "        label='Decision Tree Error')\n",
    "\n",
    "ada_discrete_err = numpy.zeros((n_estimators,))\n",
    "for i, y_pred in enumerate(ada_discrete.staged_predict(X_test1counts)):\n",
    "    ada_discrete_err[i] = zero_one_loss(y_pred, test.category)\n",
    "\n",
    "ada_discrete_err_train = numpy.zeros((n_estimators,))\n",
    "for i, y_pred in enumerate(ada_discrete.staged_predict(X_primercounts)):\n",
    "    ada_discrete_err_train[i] = zero_one_loss(y_pred, train.category)\n",
    "\n",
    "ax.plot(numpy.arange(n_estimators) + 1, ada_discrete_err,\n",
    "        label='Discrete AdaBoost Test Error',\n",
    "        color='red')\n",
    "ax.plot(numpy.arange(n_estimators) + 1, ada_discrete_err_train,\n",
    "        label='Discrete AdaBoost Train Error',\n",
    "        color='blue')\n",
    "\n",
    "ax.set_ylim((0.0, 1.0))\n",
    "ax.set_xlabel('n_estimators')\n",
    "ax.set_ylabel('error rate')\n",
    "\n",
    "leg = ax.legend(loc='upper right', fancybox=True)\n",
    "leg.get_frame().set_alpha(0.7)\n",
    "\n",
    "plt.show()"
   ]
  },
  {
   "cell_type": "markdown",
   "metadata": {},
   "source": [
    "# Dumped..."
   ]
  },
  {
   "cell_type": "code",
   "execution_count": null,
   "metadata": {
    "collapsed": true
   },
   "outputs": [],
   "source": [
    "here stop"
   ]
  },
  {
   "cell_type": "code",
   "execution_count": null,
   "metadata": {
    "collapsed": true
   },
   "outputs": [],
   "source": [
    "from sklearn.model_selection import cross_val_score\n",
    "from sklearn.pipeline import make_pipeline\n",
    "from sklearn.model_selection import cross_val_predict\n",
    "from sklearn import metrics"
   ]
  }
 ],
 "metadata": {
  "anaconda-cloud": {},
  "kernelspec": {
   "display_name": "Python [Root]",
   "language": "python",
   "name": "Python [Root]"
  },
  "language_info": {
   "codemirror_mode": {
    "name": "ipython",
    "version": 3
   },
   "file_extension": ".py",
   "mimetype": "text/x-python",
   "name": "python",
   "nbconvert_exporter": "python",
   "pygments_lexer": "ipython3",
   "version": "3.5.2"
  }
 },
 "nbformat": 4,
 "nbformat_minor": 0
}
