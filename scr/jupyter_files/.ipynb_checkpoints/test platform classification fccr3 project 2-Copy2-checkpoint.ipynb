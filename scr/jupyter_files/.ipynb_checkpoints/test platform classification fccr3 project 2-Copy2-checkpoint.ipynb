{
 "cells": [
  {
   "cell_type": "markdown",
   "metadata": {},
   "source": [
    "# PHASE 1: Platform Classification using Supervised Learning Methods - Building Training and Test datasets (part 2 b)"
   ]
  },
  {
   "cell_type": "markdown",
   "metadata": {},
   "source": []
  },
  {
   "cell_type": "markdown",
   "metadata": {},
   "source": [
    "### References:\n",
    "* https://www.quora.com/What-is-the-best-way-to-create-a-training-set-for-machine-learning/answer/Clem-Wang-1"
   ]
  },
  {
   "cell_type": "markdown",
   "metadata": {},
   "source": [
    "## Main Python libraries"
   ]
  },
  {
   "cell_type": "code",
   "execution_count": 1,
   "metadata": {
    "collapsed": false
   },
   "outputs": [],
   "source": [
    "import os, sys, pathlib\n",
    "from IPython.display import display, Math, Latex #also '%%latex' magic command\n",
    "import collections, itertools, operator, re, copy, datetime\n",
    "import urllib, urllib.request, urllib.parse, dns, ipwhois\n",
    "import pickle, json, csv, zipfile\n",
    "import math, random, numpy, scipy, pandas\n",
    "%matplotlib inline\n",
    "import matplotlib.pyplot as plt\n",
    "plt.style.use('ggplot')\n",
    "import bs4\n",
    "import nltk, sklearn\n",
    "\n",
    "#actualcwd = os.getcwd()\n",
    "#os.chdir(actualcwd)\n",
    "#print(os.getcwd())"
   ]
  },
  {
   "cell_type": "code",
   "execution_count": 2,
   "metadata": {
    "collapsed": false
   },
   "outputs": [
    {
     "name": "stdout",
     "output_type": "stream",
     "text": [
      "ok\n"
     ]
    }
   ],
   "source": [
    "#a simple but not adequate hack to solve:\n",
    "#-- that this notebook will include any passed module that exists on top of its folder\n",
    "#-- that my installation of the the nltk will find the correct path to the nlkt_data folder\n",
    "#\n",
    "#once this line is run, IT SHOULDN'T RUN AGAIN!, otherwise the cwd will change into something different; \n",
    "#it can restored though in different ways, one by using `actualcwd` variable or in some cases shuting down this notebook\n",
    "#\n",
    "#\n",
    "os.chdir('../..')\n",
    "#print(os.getcwd())\n",
    "sys.path.append(os.getcwd())\n",
    "import config.config as config\n",
    "\n",
    "#print(config.anacondadir)\n",
    "\n",
    "if os.path.exists(config.anacondadir):\n",
    "    print('ok')\n",
    "    nltk.data.path.append(config.anacondadir)"
   ]
  },
  {
   "cell_type": "code",
   "execution_count": 3,
   "metadata": {
    "collapsed": false,
    "scrolled": true
   },
   "outputs": [
    {
     "ename": "SyntaxError",
     "evalue": "invalid syntax (<ipython-input-3-bfc7f4b2e6e8>, line 1)",
     "output_type": "error",
     "traceback": [
      "\u001b[1;36m  File \u001b[1;32m\"<ipython-input-3-bfc7f4b2e6e8>\"\u001b[1;36m, line \u001b[1;32m1\u001b[0m\n\u001b[1;33m    STOP HERE!!\u001b[0m\n\u001b[1;37m            ^\u001b[0m\n\u001b[1;31mSyntaxError\u001b[0m\u001b[1;31m:\u001b[0m invalid syntax\n"
     ]
    }
   ],
   "source": [
    "STOP HERE!!"
   ]
  },
  {
   "cell_type": "code",
   "execution_count": null,
   "metadata": {
    "collapsed": true
   },
   "outputs": [],
   "source": [
    "def dataloading(form='', status=''):\n",
    "    #OBSERVATION!: name of file has been changed to reflect last updated file \n",
    "    if pathlib.Path(os.getcwd()+'/data/'+form+'platformsphase1_'+status+'.csv').is_file():\n",
    "        pd = pandas.read_csv(open(os.getcwd()+'/data/'+form+'platformsphase1_'+status+'.csv', 'r'), sep=';', quotechar=\"'\")\n",
    "    else:\n",
    "        print('Not path found')\n",
    "    print(pd.head(5))\n",
    "    print(pd.groupby(['missing'])['missing'].count())\n",
    "    print(pd = pd.loc[pd.missing > 0,:])\n",
    "    print(pd.shape)\n",
    "    return pd\n",
    "\n",
    "def datawikiupdating(pdform):\n",
    "    import scr.wikipedia_extract\n",
    "    import imp\n",
    "    imp.reload(scr.wikipedia_extract)\n",
    "    pdform['wiki'] = ''\n",
    "    scr.wikipedia_extract.getting_wikipedia(pdform)\n",
    "    print(pdform['wiki'][:50])\n",
    "    \n",
    "def datasaving(pd, form = 'annotated', status=''):\n",
    "    pd.to_csv(os.getcwd()+'/data/'+form+'platformsphase1_'+status+'.csv', sep=';', quotechar=\"'\")\n",
    "    \n",
    "\n",
    "def datapreparation(pdform):\n",
    "    import scr.datapreparation_ML\n",
    "    imp.reload(scr.datapreparation_ML)\n",
    "\n",
    "    def jscheck(x):\n",
    "        plat = x\n",
    "        if len(plat.split('.')) > 1:\n",
    "            if len(plat.split('.')[-2]) > 5:\n",
    "                if plat.split('.')[-2][-2:] == 'js':\n",
    "                    return 1\n",
    "            elif plat.split('.')[0] == 'api':\n",
    "                return 1\n",
    "\n",
    "        return 0\n",
    "\n",
    "    def docscheck(x):\n",
    "        plat = x\n",
    "        if len(plat.split('.')) > 1:\n",
    "            if len(plat.split('.')[0]) > 2:\n",
    "                if plat.split('.')[0] in ['docs', 'dev', 'developers', 'developer']:\n",
    "                    return 1\n",
    "        return 0\n",
    "    \n",
    "    def blogscheck(x):\n",
    "        plat = x\n",
    "        if len(plat.split('.')) > 1:\n",
    "            if len(plat.split('.')[0]) > 2:\n",
    "                if plat.split('.')[0] in ['blog', 'blogs', 'articule', 'articules']:\n",
    "                    return 1\n",
    "        return 0\n",
    "\n",
    "    def commcheck(x):\n",
    "        plat = x\n",
    "        if len(plat.split('.')) > 1:\n",
    "            if len(plat.split('.')[0]) > 2:\n",
    "                if plat.split('.')[0] in ['forum', 'forums', 'community', 'channel']:\n",
    "                    return 1\n",
    "        return 0\n",
    "\n",
    "    pdform['alltext'] = ''\n",
    "    scr.datapreparation_ML.datapreparation(pdform)\n",
    "\n",
    "    pdform['jscheck'] = None\n",
    "    pdform['docscheck'] = None\n",
    "    pdform['blogscheck'] = None\n",
    "    pdform['commcheck'] = None\n",
    "    \n",
    "    pdform['jscheck'] = pdform['platform'].apply(jscheck)\n",
    "    pdform['docscheck'] = pdform['platform'].apply(docscheck)\n",
    "    pdform['blogscheck'] = pdform['platform'].apply(blogscheck)\n",
    "    pdform['commcheck'] = pdform['platform'].apply(commcheck)    \n",
    "    \n",
    "    \n",
    "#ojo to work with local variables:\n",
    "#https://stackoverflow.com/a/932835/3675901\n",
    "#locals()[\"i\"]\n",
    "    \n",
    "def dataloadandprep(loading=(True,True),status='',wiki=(False,False), prep=(False,False)):\n",
    "    '''\n",
    "    --- loading\n",
    "    --- form\n",
    "    --- status\n",
    "    --- wiki\n",
    "    --- prep\n",
    "    \n",
    "    '''\n",
    "    pdfiles = []\n",
    "    for i, v in loading:\n",
    "        if v:\n",
    "            if i == 0:\n",
    "                form = 'annotated'\n",
    "            else:\n",
    "                form = 'notated'\n",
    "            pdfiles.append(dataloading(form,status))\n",
    "    \n",
    "    for i, v in enumerate(wiki):\n",
    "        if v:\n",
    "            datawikiupdating(pdfiles[i])\n",
    "    \n",
    "    for i, v in enumerate(prep):\n",
    "        #for col in pdform.columns:\n",
    "        #    print(col,' has the following null values: ', pdform[[col]].isnull().sum())\n",
    "        if v:\n",
    "            datapreparation(pdfiles[i])\n",
    "            if i == 0:\n",
    "                form = 'annotated'\n",
    "            else:\n",
    "                form = 'notated'\n",
    "            datasaving(pdfiles[i], form, status='')\n",
    "\n",
    "    return pdfiles\n",
    "                "
   ]
  },
  {
   "cell_type": "markdown",
   "metadata": {},
   "source": [
    "## DATA UPDATING - Important..."
   ]
  },
  {
   "cell_type": "markdown",
   "metadata": {},
   "source": [
    "The code commented below was used to:\n",
    "* **Add wikipedia info to the created tables**: for this I used the `scr.wikipedia_extract` module made for this purpose\n",
    "* **Revise some column naming and use the names for categories** to be used from now on: until now (29-July-17), I was using as categories a regex form I used for the original classification rules; from now I will be using the defined categories found in the `docs` folder of this work\n",
    "\n",
    "The changes below were done by creating updated files, re-opening that file and update it until the right file was created. Once the information was updated with some information, the respective code was commented because it was not of usage any more.\n",
    "\n",
    "The code below is kept commented but is shown so other users of this file can have a reference. Also the different intermediate files are kept in the `data` folder but only the required files are called for further analysis. In a more advanced phase a simpler file will be kept."
   ]
  },
  {
   "cell_type": "code",
   "execution_count": 53,
   "metadata": {
    "collapsed": false
   },
   "outputs": [],
   "source": [
    "#pd_errortemp = pd_notated.loc[pd_notated['platform'] == 'view-source:http:',]\n",
    "#scr.wikipedia_extract.getting_wikipedia(pd_errortemp)\n",
    "#print(pd_errortemp)\n",
    "#print(pd_notated.iloc[110,])\n",
    "#url = 'https://en.wikipedia.org/w/api.php?action=query&list=search&format=json&srsearch=JavaScript Objects in Detail'\n",
    "#req = urllib.request.Request(url)\n",
    "#try:\n",
    "#    resp = urllib.request.urlopen(req)\n",
    "#except urllib.error.HTTPError as e:\n",
    "#    print(e)"
   ]
  },
  {
   "cell_type": "code",
   "execution_count": 55,
   "metadata": {
    "collapsed": true
   },
   "outputs": [],
   "source": [
    "#pd_annotated = pd_annotated.rename(columns={'category':'category_regex'})"
   ]
  },
  {
   "cell_type": "code",
   "execution_count": 56,
   "metadata": {
    "collapsed": false
   },
   "outputs": [],
   "source": [
    "#pd_annotated.columns"
   ]
  },
  {
   "cell_type": "code",
   "execution_count": 57,
   "metadata": {
    "collapsed": true
   },
   "outputs": [],
   "source": [
    "#categories = pandas.read_csv(open(os.getcwd()+'/docs/category_operationalization.csv', 'r'), sep=':')"
   ]
  },
  {
   "cell_type": "code",
   "execution_count": 58,
   "metadata": {
    "collapsed": false,
    "scrolled": true
   },
   "outputs": [],
   "source": [
    "#categories"
   ]
  },
  {
   "cell_type": "code",
   "execution_count": 59,
   "metadata": {
    "collapsed": false
   },
   "outputs": [],
   "source": [
    "#categories = categories[['category','category_regex']]"
   ]
  },
  {
   "cell_type": "code",
   "execution_count": 60,
   "metadata": {
    "collapsed": false
   },
   "outputs": [],
   "source": [
    "#pd_annotated = pandas.merge(pd_annotated, categories, on=['category_regex'])"
   ]
  },
  {
   "cell_type": "code",
   "execution_count": 61,
   "metadata": {
    "collapsed": false,
    "scrolled": true
   },
   "outputs": [],
   "source": [
    "#pd_annotated.head(5)"
   ]
  },
  {
   "cell_type": "code",
   "execution_count": 62,
   "metadata": {
    "collapsed": true
   },
   "outputs": [],
   "source": [
    "#pd_annotated.to_csv(os.getcwd()+'/data/annotatedplatformsphase1_a1.csv', sep=';', quotechar=\"'\")\n",
    "#pd_notated.to_csv(os.getcwd()+'/data/notatedplatformsphase1_a2.csv', sep=';', quotechar=\"'\")"
   ]
  },
  {
   "cell_type": "code",
   "execution_count": 63,
   "metadata": {
    "collapsed": false
   },
   "outputs": [
    {
     "ename": "SyntaxError",
     "evalue": "invalid syntax (<ipython-input-63-d5af98942240>, line 1)",
     "output_type": "error",
     "traceback": [
      "\u001b[1;36m  File \u001b[1;32m\"<ipython-input-63-d5af98942240>\"\u001b[1;36m, line \u001b[1;32m1\u001b[0m\n\u001b[1;33m    STOP HERE!\u001b[0m\n\u001b[1;37m            ^\u001b[0m\n\u001b[1;31mSyntaxError\u001b[0m\u001b[1;31m:\u001b[0m invalid syntax\n"
     ]
    }
   ],
   "source": [
    "STOP HERE!"
   ]
  },
  {
   "cell_type": "markdown",
   "metadata": {},
   "source": [
    "## DATA PREPARATION"
   ]
  },
  {
   "cell_type": "code",
   "execution_count": null,
   "metadata": {
    "collapsed": true
   },
   "outputs": [],
   "source": [
    "pd_annotated, pd_notated = dataloadandprep(loading=(True,True),status='',wiki=(False,False), prep=(False,False))"
   ]
  },
  {
   "cell_type": "code",
   "execution_count": null,
   "metadata": {
    "collapsed": false
   },
   "outputs": [],
   "source": [
    "STOP HERE!"
   ]
  },
  {
   "cell_type": "markdown",
   "metadata": {},
   "source": [
    "# ANALYSIS 3"
   ]
  },
  {
   "cell_type": "markdown",
   "metadata": {},
   "source": [
    "## UTILITIES"
   ]
  },
  {
   "cell_type": "code",
   "execution_count": 74,
   "metadata": {
    "collapsed": false
   },
   "outputs": [],
   "source": [
    "from sklearn.feature_extraction.text import CountVectorizer\n",
    "def vectorizer(documents):\n",
    "    countvect = CountVectorizer(ngram_range=(1,2))\n",
    "    X_counts = countvect.fit_transform(documents)\n",
    "    return X_counts, countvect\n",
    "\n",
    "from scipy.sparse import hstack\n",
    "import copy\n",
    "def hstacker(X, hackedcolumns):\n",
    "    X_countsh = hstack((copy.copy(X), hackedcolumns))\n",
    "    return X_countsh\n",
    "\n",
    "\n",
    "from sklearn.tree import DecisionTreeClassifier\n",
    "from sklearn.ensemble import RandomForestClassifier\n",
    "from sklearn import svm\n",
    "def modelling(Classifier, X, y, params = {}):\n",
    "    #clf_dtm = DecisionTreeClassifier(max_depth=1, min_samples_leaf=1, random_state=0)\n",
    "    clf = Classifier()\n",
    "    if params != {}:\n",
    "        clf.set_params(**params)\n",
    "    return clf, clf.fit(X, y)\n",
    "\n",
    "def compareyvsypredict(target, y, y_predict):\n",
    "    print('{0:35} => {1:15} => {2:15}'.format('Target','Class','PredClass'))\n",
    "    for plat, category in zip(zip(target, y), y_predict):\n",
    "        print('{0:35} => {1:15} => {2:15}'.format(plat[0], plat[1], category))\n",
    "    \n",
    "\n",
    "from sklearn.model_selection import GridSearchCV\n",
    "from sklearn.metrics import classification_report\n",
    "def gridsearchwithprecandrecall(model, X_train, y_train, X_test, y_test, tuned_parameters):\n",
    "    # Set the parameters by cross-validation\n",
    "    tuned_parameters = [tuned_parameters]\n",
    "    scores = ['precision', 'recall']\n",
    "\n",
    "    for score in scores:\n",
    "        print(\"# Tuning hyper-parameters for %s\" % score)\n",
    "        print()\n",
    "\n",
    "        clf = GridSearchCV(model, tuned_parameters, cv=2,\n",
    "                           scoring='%s_macro' % score)\n",
    "        clf.fit(X_train, y_train)\n",
    "\n",
    "        print(\"Best parameters set found on development set:\")\n",
    "        print()\n",
    "        print(clf.best_params_)\n",
    "        print()\n",
    "        print(\"Grid scores on development set:\")\n",
    "        print()\n",
    "        means = clf.cv_results_['mean_test_score']\n",
    "        stds = clf.cv_results_['std_test_score']\n",
    "        for mean, std, params in zip(means, stds, clf.cv_results_['params']):\n",
    "            print(\"%0.3f (+/-%0.03f) for %r\"\n",
    "                  % (mean, std * 2, params))\n",
    "        print()\n",
    "\n",
    "        print(\"Detailed classification report:\")\n",
    "        print()\n",
    "        print(\"The model is trained on the full development set.\")\n",
    "        print(\"The scores are computed on the full evaluation set.\")\n",
    "        print()\n",
    "        y_true, y_predsearch = y_test, clf.predict(X_test)\n",
    "        print(classification_report(y_true, y_predsearch))\n",
    "        print()\n",
    "    return clf\n",
    "\n",
    "    \n",
    "def err(clf_stump, clf_err, X_test, y_test, params={}):\n",
    "    if params != {}:\n",
    "        clf_err.set_params(**params)\n",
    "    clf_stump_err = 1.0 - clf_stump.score(X_test, y_test)\n",
    "    clf_err = 1.0 - clf_err.score(X_test, y_test)\n",
    "    print('stump error : {0:.2f}; model error : {1:.2f}'.format(clf_stump_err, clf_err))\n",
    "    return clf_stump_err, clf_err\n",
    "\n",
    "\n",
    "\n",
    "#IMPORTANT... https://stackoverflow.com/questions/33110973/pass-a-dict-to-scikit-learn-estimator\n",
    "#clf_dtm_r2.set_params(**clf.best_params_)\n",
    "#clf_dt_r2 = clf_dtm_r2.fit(X_primercounts2, train2.category)\n",
    "\n",
    "from sklearn.metrics import zero_one_loss\n",
    "from sklearn.ensemble import AdaBoostClassifier\n",
    "def ADA(model, stump_err, mod_err, X_train, y_train, X_test, y_test, n_estimators = 40, learning_rate = 1.):\n",
    "    ada_discrete = AdaBoostClassifier(\n",
    "        base_estimator = model,\n",
    "        learning_rate=learning_rate,\n",
    "        n_estimators=n_estimators,\n",
    "        algorithm=\"SAMME\")\n",
    "    ada_discrete.fit(X_train, y_train)\n",
    "\n",
    "    fig = plt.figure()\n",
    "    ax = fig.add_subplot(111)\n",
    "\n",
    "    ax.plot([1, n_estimators], [stump_err] * 2, 'k-',\n",
    "            label='Decision Stump Error')\n",
    "    ax.plot([1, n_estimators], [mod_err] * 2, 'k--',\n",
    "            label='Decision Tree Error')\n",
    "\n",
    "    ada_discrete_err = numpy.zeros((n_estimators,))\n",
    "    for i, y_pred in enumerate(ada_discrete.staged_predict(X_test)):\n",
    "        ada_discrete_err[i] = zero_one_loss(y_pred, y_test)\n",
    "\n",
    "    ada_discrete_err_train = numpy.zeros((n_estimators,))\n",
    "    for i, y_pred in enumerate(ada_discrete.staged_predict(X_train)):\n",
    "        ada_discrete_err_train[i] = zero_one_loss(y_pred, y_train)\n",
    "\n",
    "    ax.plot(numpy.arange(n_estimators) + 1, ada_discrete_err,\n",
    "            label='Discrete AdaBoost Test Error',\n",
    "            color='red')\n",
    "    ax.plot(numpy.arange(n_estimators) + 1, ada_discrete_err_train,\n",
    "            label='Discrete AdaBoost Train Error',\n",
    "            color='blue')\n",
    "\n",
    "    ax.set_ylim((0.0, 1.0))\n",
    "    ax.set_xlabel('n_estimators')\n",
    "    ax.set_ylabel('error rate')\n",
    "\n",
    "    leg = ax.legend(loc='upper right', fancybox=True)\n",
    "    leg.get_frame().set_alpha(0.7)\n",
    "\n",
    "    plt.show()\n",
    "    return ada_discrete\n",
    "\n",
    "from sklearn import preprocessing\n",
    "def cossim():\n",
    "    le = preprocessing.LabelEncoder()\n",
    "    le.fit(pd_annotated['category'])\n",
    "    print(le.classes_)\n",
    "    models = {}\n",
    "    for les in le.classes_:\n",
    "        yes = ' '.join(train3.loc[train3['category']==les,'alltext'])\n",
    "        no  = ' '.join(train3.loc[train3['category']!=les,'alltext'])\n",
    "        models[les] = (countmod.transform([yes]), countmod.transform([no]))\n",
    "    \n",
    "    quickanal = []\n",
    "    assigneds = []\n",
    "    for rec in test.loc[:,['category','alltext']].iterrows():\n",
    "        m = countmod.transform([rec[1].alltext])\n",
    "        vals = []\n",
    "        for les in le.classes_:\n",
    "            vals.append(cosine_similarity(m, models[les][0]))\n",
    "        index = vals.index(max(vals))\n",
    "        assigned = le.classes_[index]\n",
    "        #print('Category was {0}; Assigned was {1} (cosine_sim : {2:.2f})'.format(rec[1].category,assigned,max(vals)))\n",
    "        print('cosine similary ',rec[1].category,assigned,max(vals))\n",
    "        if rec[1].category == assigned:\n",
    "            quickanal.append(1)\n",
    "        else:\n",
    "            quickanal.append(0)\n",
    "        assigneds.append(assigned)\n",
    "        #break\n",
    "    \n",
    "    print(sum(quickanal)/len(quickanal))\n",
    "    \n",
    "    print(classification_report(test['category'], assigneds))\n",
    "    \n",
    "def aggregatesclasses():    \n",
    "    def classagg(x):\n",
    "        if x.pred_dtada == x.pred_dth == x.pred_svch and x.pred_dth != 'TRAINING':\n",
    "            return x.pred_dtada\n",
    "        return x.pred_svch\n",
    "\n",
    "    def classagg1(x):\n",
    "        if x.pred_dth == x.pred_svch and x.pred_dth != 'TRAINING':\n",
    "            return x.pred_dth\n",
    "        if x.pred_dtada == x.pred_dth and x.pred_dth != 'TRAINING':\n",
    "            return x.pred_dtada\n",
    "        if x.pred_dtada == x.pred_svch and x.pred_dth != 'TRAINING':\n",
    "            return x.pred_dtada\n",
    "        return x.pred_svch\n",
    "\n",
    "    def classagg2(x):\n",
    "        if x.pred_dth == x.pred_svch and x.pred_dth != 'TRAINING':\n",
    "            return x.pred_dth\n",
    "        if x.pred_dtada == x.pred_dth and x.pred_dth != 'TRAINING':\n",
    "            return x.pred_dtada\n",
    "        if x.pred_dtada == x.pred_svch and x.pred_dth != 'TRAINING':\n",
    "            return x.pred_dtada\n",
    "        return x.pred_dth\n",
    "\n",
    "    def classagg2(x):\n",
    "        if x.pred_dth == x.pred_svch and x.pred_dth != 'TRAINING':\n",
    "            return x.pred_dth\n",
    "        if x.pred_dtada == x.pred_dth and x.pred_dth != 'TRAINING':\n",
    "            return x.pred_dtada\n",
    "        if x.pred_dtada == x.pred_svch and x.pred_dth != 'TRAINING':\n",
    "            return x.pred_dtada\n",
    "        return x.pred_dth\n",
    "\n",
    "    def classagg(x):\n",
    "        if x.cossim in ['DOCS','REPL','BUSINESS','ECOMMERCE','COMMUITY','SENGINE','PAAS']:\n",
    "            return x.cossim\n",
    "\n",
    "        if x.pred_dth == x.cossim in ['TRAINING','NEWS','PACKAGE','NOCLASS','THEME']:\n",
    "            return x.pred_dth\n",
    "\n",
    "        #if x.pred_dtada == x.pred_dth == x.pred_svch == x.cossim and x.pred_dth != 'TRAINING':\n",
    "        if x.pred_dtada == x.pred_dth == x.pred_svch == x.cossim:\n",
    "            return x.pred_dtada\n",
    "\n",
    "        return x.pred_dth\n",
    "    \n",
    "    pd_predaggregate = pandas.DataFrame({'platform':test.platform, 'category':y_test, 'pred_dtada':clf_adadt_mod.predict(X_test), 'pred_dth':clf_dt_modh.predict(X_testh), 'pred_svch':clf_svc_modh.predict(X_testh), 'cossim':assigneds})\n",
    "    \n",
    "    print('pred_dtada')\n",
    "    print(classification_report(pd_predaggregate['category'], pd_predaggregate['pred_dtada']))\n",
    "    print('pred_dth')\n",
    "    print(classification_report(pd_predaggregate['category'], pd_predaggregate['pred_dth']))\n",
    "    print('pred_svch')\n",
    "    print(classification_report(pd_predaggregate['category'], pd_predaggregate['pred_svch']))\n",
    "    print('cossim')\n",
    "    print(classification_report(pd_predaggregate['category'], pd_predaggregate['cossim']))\n",
    "    print('pred_agg1')\n",
    "    print(classification_report(pd_predaggregate['category'], pd_predaggregate['pred_agg1']))\n",
    "    print('pred_agg2')\n",
    "    print(classification_report(pd_predaggregate['category'], pd_predaggregate['pred_agg2']))\n",
    "    print('pred_agg3')\n",
    "    print(classification_report(pd_predaggregate['category'], pd_predaggregate['pred_agg3']))\n"
   ]
  },
  {
   "cell_type": "code",
   "execution_count": null,
   "metadata": {
    "collapsed": false
   },
   "outputs": [],
   "source": [
    "STOP HERE!"
   ]
  },
  {
   "cell_type": "markdown",
   "metadata": {},
   "source": [
    "## DATA SPLIT"
   ]
  },
  {
   "cell_type": "code",
   "execution_count": null,
   "metadata": {
    "collapsed": true
   },
   "outputs": [],
   "source": [
    "def decisiontreeanalysis():\n",
    "    slump_params = {'max_depth':1, 'min_samples_leaf':1, 'random_state':0}\n",
    "    mod_params = {'min_samples_leaf':2, 'random_state':0}\n",
    "\n",
    "    clf_dt_slump, dt_fit_slump = modelling(DecisionTreeClassifier, X_train, y_train, slump_params)\n",
    "    clf_dt_mod, dt_fit = modelling(DecisionTreeClassifier, X_train, y_train, mod_params)\n",
    "\n",
    "    clf_dt_slumph, dt_fit_slumph = modelling(DecisionTreeClassifier, X_trainh, y_train, slump_params)\n",
    "    clf_dt_modh, dt_fith = modelling(DecisionTreeClassifier, X_trainh, y_train, mod_params)\n",
    "    \n",
    "    tuned_parameters = {'max_depth': numpy.arange(5,25,2)}\n",
    "    gs_clf_dt_mod = gridsearchwithprecandrecall(clf_dt_mod, X_train, y_train, X_test, y_test, tuned_parameters)\n",
    "    gs_clf_dt_modh = gridsearchwithprecandrecall(clf_dt_modh, X_trainh, y_train, X_testh, y_test, tuned_parameters)\n",
    "    \n",
    "    clf_dt_stump_err, clf_dt_mod_err = err(clf_dt_slump, clf_dt_mod, X_test, y_test, gs_clf_dt_mod.best_params_)\n",
    "    clf_dt_stump_errh, clf_dt_mod_errh = err(clf_dt_slumph, clf_dt_modh, X_testh, y_test, gs_clf_dt_modh.best_params_)\n",
    "    \n",
    "    return clf_dt_slump, dt_fit_slump, clf_dt_mod, dt_fit, clf_dt_slumph, dt_fit_slumph, clf_dt_modh, dt_fith, gs_clf_dt_mod, gs_clf_dt_modh, clf_dt_stump_err, clf_dt_mod_err, clf_dt_stump_errh, clf_dt_mod_errh\n",
    "\n",
    "def dataanalysis(pd_anndata):\n",
    "    train=pd_anndata[['platform', 'alltext', 'jscheck', 'docscheck', 'blogscheck', 'commcheck', 'category']].sample(frac=0.75)\n",
    "    test=pd_anndata[['platform', 'alltext','jscheck', 'docscheck', 'blogscheck', 'commcheck', 'category']].drop(train3.index)\n",
    "    \n",
    "    #data modelling\n",
    "    X_train, countmod = vectorizer(train.alltext)\n",
    "    X_trainh = hstacker(X_train, train[['jscheck', 'docscheck', 'blogscheck', 'commcheck']])\n",
    "    y_train = train3.category\n",
    "    X_test = countmod.transform(test.alltext)\n",
    "    X_testh = hstacker(X_test, test[['jscheck', 'docscheck', 'blogscheck', 'commcheck']])\n",
    "    y_test = test.category\n",
    "    \n",
    "    #decision tree\n",
    "    clf_dt_slump, dt_fit_slump, clf_dt_mod, dt_fit, clf_dt_slumph, dt_fit_slumph, clf_dt_modh, dt_fith, gs_clf_dt_mod, gs_clf_dt_modh, clf_dt_stump_err, clf_dt_mod_err, clf_dt_stump_errh, clf_dt_mod_errh = decisiontreeanalysis()\n",
    "    \n",
    "    #adaboost for decision tree\n",
    "    clf_adadt_mod = ADA(clf_dt_mod, clf_dt_stump_err, clf_dt_mod_err, X_train, y_train, X_test, y_test, n_estimators = 40, learning_rate = .5)\n",
    "    clf_adadt_modh = ADA(clf_dt_modh, clf_dt_stump_errh, clf_dt_mod_errh, X_trainh, y_train, X_testh, y_test, n_estimators = 40, learning_rate = .5)\n",
    "    \n",
    "    cossim()\n",
    "    \n",
    "    aggregatesclasses()\n",
    "    "
   ]
  },
  {
   "cell_type": "code",
   "execution_count": 297,
   "metadata": {
    "collapsed": false
   },
   "outputs": [],
   "source": [
    "train3=pd_annotated[['platform', 'alltext', 'jscheck', 'docscheck', 'blogscheck', 'commcheck', 'category']].sample(frac=0.75)\n",
    "test3=pd_annotated[['platform', 'alltext','jscheck', 'docscheck', 'blogscheck', 'commcheck', 'category']].drop(train3.index)"
   ]
  },
  {
   "cell_type": "code",
   "execution_count": 298,
   "metadata": {
    "collapsed": false,
    "scrolled": true
   },
   "outputs": [
    {
     "data": {
      "text/html": [
       "<div>\n",
       "<table border=\"1\" class=\"dataframe\">\n",
       "  <thead>\n",
       "    <tr style=\"text-align: right;\">\n",
       "      <th></th>\n",
       "      <th>platform</th>\n",
       "      <th>alltext</th>\n",
       "      <th>jscheck</th>\n",
       "      <th>docscheck</th>\n",
       "      <th>blogscheck</th>\n",
       "      <th>commcheck</th>\n",
       "      <th>category</th>\n",
       "    </tr>\n",
       "  </thead>\n",
       "  <tbody>\n",
       "    <tr>\n",
       "      <th>532</th>\n",
       "      <td>solutionoptimist.com</td>\n",
       "      <td>concepts typical solution solutions want man...</td>\n",
       "      <td>0</td>\n",
       "      <td>0</td>\n",
       "      <td>0</td>\n",
       "      <td>0</td>\n",
       "      <td>NEWS</td>\n",
       "    </tr>\n",
       "    <tr>\n",
       "      <th>193</th>\n",
       "      <td>codeitdown.com</td>\n",
       "      <td>must com digital workings cameras limitation...</td>\n",
       "      <td>0</td>\n",
       "      <td>0</td>\n",
       "      <td>0</td>\n",
       "      <td>0</td>\n",
       "      <td>NEWS</td>\n",
       "    </tr>\n",
       "    <tr>\n",
       "      <th>794</th>\n",
       "      <td>cssmenumaker.com</td>\n",
       "      <td>webmaster average menus provide tutorials cs...</td>\n",
       "      <td>0</td>\n",
       "      <td>0</td>\n",
       "      <td>0</td>\n",
       "      <td>0</td>\n",
       "      <td>PACKAGE</td>\n",
       "    </tr>\n",
       "    <tr>\n",
       "      <th>604</th>\n",
       "      <td>www.eloquentjavascript.com</td>\n",
       "      <td>premium domains hugedomains sale com hundred...</td>\n",
       "      <td>0</td>\n",
       "      <td>0</td>\n",
       "      <td>0</td>\n",
       "      <td>0</td>\n",
       "      <td>NEWS</td>\n",
       "    </tr>\n",
       "    <tr>\n",
       "      <th>719</th>\n",
       "      <td>www.promisejs.org</td>\n",
       "      <td>read else motivation simple parse slow easy ...</td>\n",
       "      <td>1</td>\n",
       "      <td>0</td>\n",
       "      <td>0</td>\n",
       "      <td>0</td>\n",
       "      <td>PACKAGE</td>\n",
       "    </tr>\n",
       "    <tr>\n",
       "      <th>951</th>\n",
       "      <td>mashupguide.net</td>\n",
       "      <td>ch08s07 html xhtml</td>\n",
       "      <td>0</td>\n",
       "      <td>0</td>\n",
       "      <td>0</td>\n",
       "      <td>0</td>\n",
       "      <td>TRAINING</td>\n",
       "    </tr>\n",
       "    <tr>\n",
       "      <th>753</th>\n",
       "      <td>www.tagerr.com</td>\n",
       "      <td>joomla price skills tagerr wordpress amazing...</td>\n",
       "      <td>0</td>\n",
       "      <td>0</td>\n",
       "      <td>0</td>\n",
       "      <td>0</td>\n",
       "      <td>BUSINESS</td>\n",
       "    </tr>\n",
       "    <tr>\n",
       "      <th>469</th>\n",
       "      <td>editor.wix.com</td>\n",
       "      <td>new com customizing needed website builder l...</td>\n",
       "      <td>0</td>\n",
       "      <td>0</td>\n",
       "      <td>0</td>\n",
       "      <td>0</td>\n",
       "      <td>PAAS</td>\n",
       "    </tr>\n",
       "    <tr>\n",
       "      <th>96</th>\n",
       "      <td>sailsjs.org</td>\n",
       "      <td>experience realtime com sailsjs ruby respons...</td>\n",
       "      <td>1</td>\n",
       "      <td>0</td>\n",
       "      <td>0</td>\n",
       "      <td>0</td>\n",
       "      <td>PACKAGE</td>\n",
       "    </tr>\n",
       "    <tr>\n",
       "      <th>328</th>\n",
       "      <td>www.javascriptkit.com</td>\n",
       "      <td>stop shtml time3 welcome resource main scrip...</td>\n",
       "      <td>0</td>\n",
       "      <td>0</td>\n",
       "      <td>0</td>\n",
       "      <td>0</td>\n",
       "      <td>TRAINING</td>\n",
       "    </tr>\n",
       "  </tbody>\n",
       "</table>\n",
       "</div>"
      ],
      "text/plain": [
       "                       platform  \\\n",
       "532        solutionoptimist.com   \n",
       "193              codeitdown.com   \n",
       "794            cssmenumaker.com   \n",
       "604  www.eloquentjavascript.com   \n",
       "719           www.promisejs.org   \n",
       "951             mashupguide.net   \n",
       "753              www.tagerr.com   \n",
       "469              editor.wix.com   \n",
       "96                  sailsjs.org   \n",
       "328       www.javascriptkit.com   \n",
       "\n",
       "                                               alltext  jscheck  docscheck  \\\n",
       "532    concepts typical solution solutions want man...        0          0   \n",
       "193    must com digital workings cameras limitation...        0          0   \n",
       "794    webmaster average menus provide tutorials cs...        0          0   \n",
       "604    premium domains hugedomains sale com hundred...        0          0   \n",
       "719    read else motivation simple parse slow easy ...        1          0   \n",
       "951                                 ch08s07 html xhtml        0          0   \n",
       "753    joomla price skills tagerr wordpress amazing...        0          0   \n",
       "469    new com customizing needed website builder l...        0          0   \n",
       "96     experience realtime com sailsjs ruby respons...        1          0   \n",
       "328    stop shtml time3 welcome resource main scrip...        0          0   \n",
       "\n",
       "     blogscheck  commcheck  category  \n",
       "532           0          0      NEWS  \n",
       "193           0          0      NEWS  \n",
       "794           0          0   PACKAGE  \n",
       "604           0          0      NEWS  \n",
       "719           0          0   PACKAGE  \n",
       "951           0          0  TRAINING  \n",
       "753           0          0  BUSINESS  \n",
       "469           0          0      PAAS  \n",
       "96            0          0   PACKAGE  \n",
       "328           0          0  TRAINING  "
      ]
     },
     "execution_count": 298,
     "metadata": {},
     "output_type": "execute_result"
    }
   ],
   "source": [
    "train3.head(10)"
   ]
  },
  {
   "cell_type": "code",
   "execution_count": 299,
   "metadata": {
    "collapsed": false
   },
   "outputs": [
    {
     "data": {
      "text/html": [
       "<div>\n",
       "<table border=\"1\" class=\"dataframe\">\n",
       "  <thead>\n",
       "    <tr style=\"text-align: right;\">\n",
       "      <th></th>\n",
       "      <th>platform</th>\n",
       "      <th>alltext</th>\n",
       "      <th>jscheck</th>\n",
       "      <th>docscheck</th>\n",
       "      <th>blogscheck</th>\n",
       "      <th>commcheck</th>\n",
       "      <th>category</th>\n",
       "    </tr>\n",
       "  </thead>\n",
       "  <tbody>\n",
       "    <tr>\n",
       "      <th>0</th>\n",
       "      <td>v4-alpha.getbootstrap.com</td>\n",
       "      <td>components clearfix world carousel buttons h...</td>\n",
       "      <td>0</td>\n",
       "      <td>0</td>\n",
       "      <td>0</td>\n",
       "      <td>0</td>\n",
       "      <td>PACKAGE</td>\n",
       "    </tr>\n",
       "    <tr>\n",
       "      <th>9</th>\n",
       "      <td>flipclockjs.com</td>\n",
       "      <td>conditionals solutions stash enough many dom...</td>\n",
       "      <td>1</td>\n",
       "      <td>0</td>\n",
       "      <td>0</td>\n",
       "      <td>0</td>\n",
       "      <td>PACKAGE</td>\n",
       "    </tr>\n",
       "    <tr>\n",
       "      <th>11</th>\n",
       "      <td>anyorigin.com</td>\n",
       "      <td>jsonp access go policy exterminator watch do...</td>\n",
       "      <td>0</td>\n",
       "      <td>0</td>\n",
       "      <td>0</td>\n",
       "      <td>0</td>\n",
       "      <td>PACKAGE</td>\n",
       "    </tr>\n",
       "    <tr>\n",
       "      <th>12</th>\n",
       "      <td>brm.io</td>\n",
       "      <td>engine liabru brm code match jquery physics ...</td>\n",
       "      <td>0</td>\n",
       "      <td>0</td>\n",
       "      <td>0</td>\n",
       "      <td>0</td>\n",
       "      <td>PACKAGE</td>\n",
       "    </tr>\n",
       "    <tr>\n",
       "      <th>13</th>\n",
       "      <td>stormpath.com</td>\n",
       "      <td>node wanted forbidden know sessions middlewa...</td>\n",
       "      <td>0</td>\n",
       "      <td>0</td>\n",
       "      <td>0</td>\n",
       "      <td>0</td>\n",
       "      <td>PACKAGE</td>\n",
       "    </tr>\n",
       "    <tr>\n",
       "      <th>17</th>\n",
       "      <td>api.forismatic.com</td>\n",
       "      <td>tester xml forbidden api jsonp function form...</td>\n",
       "      <td>0</td>\n",
       "      <td>0</td>\n",
       "      <td>0</td>\n",
       "      <td>0</td>\n",
       "      <td>PACKAGE</td>\n",
       "    </tr>\n",
       "    <tr>\n",
       "      <th>19</th>\n",
       "      <td>nodejs.org</td>\n",
       "      <td>world debugger engine en package querystring...</td>\n",
       "      <td>1</td>\n",
       "      <td>0</td>\n",
       "      <td>0</td>\n",
       "      <td>0</td>\n",
       "      <td>PACKAGE</td>\n",
       "    </tr>\n",
       "    <tr>\n",
       "      <th>23</th>\n",
       "      <td>lesscss.org</td>\n",
       "      <td>operations features runs node less browsers ...</td>\n",
       "      <td>0</td>\n",
       "      <td>0</td>\n",
       "      <td>0</td>\n",
       "      <td>0</td>\n",
       "      <td>PACKAGE</td>\n",
       "    </tr>\n",
       "    <tr>\n",
       "      <th>26</th>\n",
       "      <td>getbootstrap.com</td>\n",
       "      <td>components carousel world end intuitive ever...</td>\n",
       "      <td>0</td>\n",
       "      <td>0</td>\n",
       "      <td>0</td>\n",
       "      <td>0</td>\n",
       "      <td>PACKAGE</td>\n",
       "    </tr>\n",
       "    <tr>\n",
       "      <th>31</th>\n",
       "      <td>maxcdn.bootstrapcdn.com</td>\n",
       "      <td>font theme awesome alpha min cssy js bootstr...</td>\n",
       "      <td>0</td>\n",
       "      <td>0</td>\n",
       "      <td>0</td>\n",
       "      <td>0</td>\n",
       "      <td>PACKAGE</td>\n",
       "    </tr>\n",
       "  </tbody>\n",
       "</table>\n",
       "</div>"
      ],
      "text/plain": [
       "                     platform  \\\n",
       "0   v4-alpha.getbootstrap.com   \n",
       "9             flipclockjs.com   \n",
       "11              anyorigin.com   \n",
       "12                     brm.io   \n",
       "13              stormpath.com   \n",
       "17         api.forismatic.com   \n",
       "19                 nodejs.org   \n",
       "23                lesscss.org   \n",
       "26           getbootstrap.com   \n",
       "31    maxcdn.bootstrapcdn.com   \n",
       "\n",
       "                                              alltext  jscheck  docscheck  \\\n",
       "0     components clearfix world carousel buttons h...        0          0   \n",
       "9     conditionals solutions stash enough many dom...        1          0   \n",
       "11    jsonp access go policy exterminator watch do...        0          0   \n",
       "12    engine liabru brm code match jquery physics ...        0          0   \n",
       "13    node wanted forbidden know sessions middlewa...        0          0   \n",
       "17    tester xml forbidden api jsonp function form...        0          0   \n",
       "19    world debugger engine en package querystring...        1          0   \n",
       "23    operations features runs node less browsers ...        0          0   \n",
       "26    components carousel world end intuitive ever...        0          0   \n",
       "31    font theme awesome alpha min cssy js bootstr...        0          0   \n",
       "\n",
       "    blogscheck  commcheck category  \n",
       "0            0          0  PACKAGE  \n",
       "9            0          0  PACKAGE  \n",
       "11           0          0  PACKAGE  \n",
       "12           0          0  PACKAGE  \n",
       "13           0          0  PACKAGE  \n",
       "17           0          0  PACKAGE  \n",
       "19           0          0  PACKAGE  \n",
       "23           0          0  PACKAGE  \n",
       "26           0          0  PACKAGE  \n",
       "31           0          0  PACKAGE  "
      ]
     },
     "execution_count": 299,
     "metadata": {},
     "output_type": "execute_result"
    }
   ],
   "source": [
    "test3.head(10)"
   ]
  },
  {
   "cell_type": "markdown",
   "metadata": {},
   "source": [
    "## DATA MODELLING 3"
   ]
  },
  {
   "cell_type": "code",
   "execution_count": 300,
   "metadata": {
    "collapsed": false
   },
   "outputs": [],
   "source": [
    "X_train, countmod = vectorizer(train3.alltext)\n",
    "X_trainh = hstacker(X_train, train3[['jscheck', 'docscheck', 'blogscheck', 'commcheck']])\n",
    "y_train = train3.category\n",
    "X_test = countmod.transform(test3.alltext)\n",
    "X_testh = hstacker(X_test, test3[['jscheck', 'docscheck', 'blogscheck', 'commcheck']])\n",
    "y_test = test3.category"
   ]
  },
  {
   "cell_type": "code",
   "execution_count": 301,
   "metadata": {
    "collapsed": false
   },
   "outputs": [
    {
     "ename": "SyntaxError",
     "evalue": "invalid syntax (<ipython-input-301-d5af98942240>, line 1)",
     "output_type": "error",
     "traceback": [
      "\u001b[1;36m  File \u001b[1;32m\"<ipython-input-301-d5af98942240>\"\u001b[1;36m, line \u001b[1;32m1\u001b[0m\n\u001b[1;33m    STOP HERE!\u001b[0m\n\u001b[1;37m            ^\u001b[0m\n\u001b[1;31mSyntaxError\u001b[0m\u001b[1;31m:\u001b[0m invalid syntax\n"
     ]
    }
   ],
   "source": [
    "STOP HERE!"
   ]
  },
  {
   "cell_type": "markdown",
   "metadata": {},
   "source": [
    "## DECISION TREE WITH ADABOOST, CLASSIFICATION 3\n",
    "\n",
    "### References:\n",
    "* http://scikit-learn.org/stable/modules/generated/sklearn.tree.DecisionTreeClassifier.html#sklearn.tree.DecisionTreeClassifier\n",
    "* http://scikit-learn.org/stable/modules/tree.html\n",
    "* https://en.wikipedia.org/wiki/AdaBoost\n",
    "* http://scikit-learn.org/stable/modules/generated/sklearn.ensemble.AdaBoostClassifier.html\n",
    "* http://scikit-learn.org/stable/auto_examples/ensemble/plot_adaboost_hastie_10_2.html#sphx-glr-auto-examples-ensemble-plot-adaboost-hastie-10-2-py\n",
    "* https://stackoverflow.com/questions/32210569/using-gridsearchcv-with-adaboost-and-decisiontreeclassifier\n",
    "* http://scikit-learn.org/stable/auto_examples/model_selection/grid_search_digits.html\n",
    "* http://scikit-learn.org/stable/tutorial/statistical_inference/model_selection.html\n",
    "\n",
    "**Also**:\n",
    "* https://stackoverflow.com/questions/33110973/pass-a-dict-to-scikit-learn-estimator\n",
    "* http://machinelearningmastery.com/how-to-tune-algorithm-parameters-with-scikit-learn/"
   ]
  },
  {
   "cell_type": "code",
   "execution_count": 80,
   "metadata": {
    "collapsed": false
   },
   "outputs": [],
   "source": [
    "slump_params = {'max_depth':1, 'min_samples_leaf':1, 'random_state':0}\n",
    "mod_params = {'min_samples_leaf':2, 'random_state':0}\n",
    "\n",
    "clf_dt_slump, dt_fit_slump = modelling(DecisionTreeClassifier, X_train, y_train, slump_params)\n",
    "clf_dt_mod, dt_fit = modelling(DecisionTreeClassifier, X_train, y_train, mod_params)\n",
    "\n",
    "clf_dt_slumph, dt_fit_slumph = modelling(DecisionTreeClassifier, X_trainh, y_train, slump_params)\n",
    "clf_dt_modh, dt_fith = modelling(DecisionTreeClassifier, X_trainh, y_train, mod_params)"
   ]
  },
  {
   "cell_type": "markdown",
   "metadata": {},
   "source": [
    "### Parameter Searching for the Decision Tree"
   ]
  },
  {
   "cell_type": "code",
   "execution_count": 81,
   "metadata": {
    "collapsed": true
   },
   "outputs": [],
   "source": [
    "tuned_parameters = {'max_depth': numpy.arange(5,25,2)}"
   ]
  },
  {
   "cell_type": "code",
   "execution_count": 82,
   "metadata": {
    "collapsed": false
   },
   "outputs": [
    {
     "name": "stdout",
     "output_type": "stream",
     "text": [
      "# Tuning hyper-parameters for precision\n",
      "\n"
     ]
    },
    {
     "name": "stderr",
     "output_type": "stream",
     "text": [
      "/home/ec/anaconda3/lib/python3.5/site-packages/sklearn/metrics/classification.py:1113: UndefinedMetricWarning: Precision is ill-defined and being set to 0.0 in labels with no predicted samples.\n",
      "  'precision', 'predicted', average, warn_for)\n",
      "/home/ec/anaconda3/lib/python3.5/site-packages/sklearn/metrics/classification.py:1113: UndefinedMetricWarning: Precision is ill-defined and being set to 0.0 in labels with no predicted samples.\n",
      "  'precision', 'predicted', average, warn_for)\n",
      "/home/ec/anaconda3/lib/python3.5/site-packages/sklearn/metrics/classification.py:1113: UndefinedMetricWarning: Precision is ill-defined and being set to 0.0 in labels with no predicted samples.\n",
      "  'precision', 'predicted', average, warn_for)\n",
      "/home/ec/anaconda3/lib/python3.5/site-packages/sklearn/metrics/classification.py:1113: UndefinedMetricWarning: Precision is ill-defined and being set to 0.0 in labels with no predicted samples.\n",
      "  'precision', 'predicted', average, warn_for)\n",
      "/home/ec/anaconda3/lib/python3.5/site-packages/sklearn/metrics/classification.py:1113: UndefinedMetricWarning: Precision is ill-defined and being set to 0.0 in labels with no predicted samples.\n",
      "  'precision', 'predicted', average, warn_for)\n",
      "/home/ec/anaconda3/lib/python3.5/site-packages/sklearn/metrics/classification.py:1113: UndefinedMetricWarning: Precision is ill-defined and being set to 0.0 in labels with no predicted samples.\n",
      "  'precision', 'predicted', average, warn_for)\n",
      "/home/ec/anaconda3/lib/python3.5/site-packages/sklearn/metrics/classification.py:1113: UndefinedMetricWarning: Precision is ill-defined and being set to 0.0 in labels with no predicted samples.\n",
      "  'precision', 'predicted', average, warn_for)\n",
      "/home/ec/anaconda3/lib/python3.5/site-packages/sklearn/metrics/classification.py:1113: UndefinedMetricWarning: Precision is ill-defined and being set to 0.0 in labels with no predicted samples.\n",
      "  'precision', 'predicted', average, warn_for)\n",
      "/home/ec/anaconda3/lib/python3.5/site-packages/sklearn/metrics/classification.py:1113: UndefinedMetricWarning: Precision is ill-defined and being set to 0.0 in labels with no predicted samples.\n",
      "  'precision', 'predicted', average, warn_for)\n",
      "/home/ec/anaconda3/lib/python3.5/site-packages/sklearn/metrics/classification.py:1113: UndefinedMetricWarning: Precision is ill-defined and being set to 0.0 in labels with no predicted samples.\n",
      "  'precision', 'predicted', average, warn_for)\n",
      "/home/ec/anaconda3/lib/python3.5/site-packages/sklearn/metrics/classification.py:1113: UndefinedMetricWarning: Precision is ill-defined and being set to 0.0 in labels with no predicted samples.\n",
      "  'precision', 'predicted', average, warn_for)\n",
      "/home/ec/anaconda3/lib/python3.5/site-packages/sklearn/metrics/classification.py:1113: UndefinedMetricWarning: Precision is ill-defined and being set to 0.0 in labels with no predicted samples.\n",
      "  'precision', 'predicted', average, warn_for)\n",
      "/home/ec/anaconda3/lib/python3.5/site-packages/sklearn/metrics/classification.py:1113: UndefinedMetricWarning: Precision is ill-defined and being set to 0.0 in labels with no predicted samples.\n",
      "  'precision', 'predicted', average, warn_for)\n",
      "/home/ec/anaconda3/lib/python3.5/site-packages/sklearn/metrics/classification.py:1113: UndefinedMetricWarning: Precision is ill-defined and being set to 0.0 in labels with no predicted samples.\n",
      "  'precision', 'predicted', average, warn_for)\n",
      "/home/ec/anaconda3/lib/python3.5/site-packages/sklearn/metrics/classification.py:1113: UndefinedMetricWarning: Precision is ill-defined and being set to 0.0 in labels with no predicted samples.\n",
      "  'precision', 'predicted', average, warn_for)\n",
      "/home/ec/anaconda3/lib/python3.5/site-packages/sklearn/metrics/classification.py:1113: UndefinedMetricWarning: Precision is ill-defined and being set to 0.0 in labels with no predicted samples.\n",
      "  'precision', 'predicted', average, warn_for)\n",
      "/home/ec/anaconda3/lib/python3.5/site-packages/sklearn/metrics/classification.py:1113: UndefinedMetricWarning: Precision is ill-defined and being set to 0.0 in labels with no predicted samples.\n",
      "  'precision', 'predicted', average, warn_for)\n",
      "/home/ec/anaconda3/lib/python3.5/site-packages/sklearn/metrics/classification.py:1113: UndefinedMetricWarning: Precision is ill-defined and being set to 0.0 in labels with no predicted samples.\n",
      "  'precision', 'predicted', average, warn_for)\n",
      "/home/ec/anaconda3/lib/python3.5/site-packages/sklearn/metrics/classification.py:1113: UndefinedMetricWarning: Precision is ill-defined and being set to 0.0 in labels with no predicted samples.\n",
      "  'precision', 'predicted', average, warn_for)\n",
      "/home/ec/anaconda3/lib/python3.5/site-packages/sklearn/metrics/classification.py:1113: UndefinedMetricWarning: Precision is ill-defined and being set to 0.0 in labels with no predicted samples.\n",
      "  'precision', 'predicted', average, warn_for)\n",
      "/home/ec/anaconda3/lib/python3.5/site-packages/sklearn/metrics/classification.py:1113: UndefinedMetricWarning: Precision and F-score are ill-defined and being set to 0.0 in labels with no predicted samples.\n",
      "  'precision', 'predicted', average, warn_for)\n"
     ]
    },
    {
     "name": "stdout",
     "output_type": "stream",
     "text": [
      "Best parameters set found on development set:\n",
      "\n",
      "{'max_depth': 13}\n",
      "\n",
      "Grid scores on development set:\n",
      "\n",
      "0.133 (+/-0.017) for {'max_depth': 5}\n",
      "0.195 (+/-0.064) for {'max_depth': 7}\n",
      "0.233 (+/-0.029) for {'max_depth': 9}\n",
      "0.266 (+/-0.018) for {'max_depth': 11}\n",
      "0.284 (+/-0.039) for {'max_depth': 13}\n",
      "0.264 (+/-0.005) for {'max_depth': 15}\n",
      "0.264 (+/-0.097) for {'max_depth': 17}\n",
      "0.268 (+/-0.079) for {'max_depth': 19}\n",
      "0.270 (+/-0.079) for {'max_depth': 21}\n",
      "0.255 (+/-0.054) for {'max_depth': 23}\n",
      "\n",
      "Detailed classification report:\n",
      "\n",
      "The model is trained on the full development set.\n",
      "The scores are computed on the full evaluation set.\n",
      "\n",
      "             precision    recall  f1-score   support\n",
      "\n",
      "   BUSINESS       0.11      0.33      0.17         3\n",
      "   COMMUITY       0.00      0.00      0.00         5\n",
      "       DOCS       0.20      0.11      0.14         9\n",
      "  ECOMMERCE       0.00      0.00      0.00         1\n",
      "       NEWS       0.69      0.69      0.69        74\n",
      "    NOCLASS       0.33      0.12      0.18         8\n",
      "       PAAS       0.00      0.00      0.00         6\n",
      "    PACKAGE       0.51      0.77      0.61        39\n",
      "       REPL       0.00      0.00      0.00         6\n",
      "      THEME       0.25      0.17      0.20         6\n",
      "   TRAINING       0.50      0.52      0.51        29\n",
      "\n",
      "avg / total       0.49      0.54      0.51       186\n",
      "\n",
      "\n",
      "# Tuning hyper-parameters for recall\n",
      "\n",
      "Best parameters set found on development set:\n",
      "\n",
      "{'max_depth': 23}\n",
      "\n",
      "Grid scores on development set:\n",
      "\n",
      "0.153 (+/-0.005) for {'max_depth': 5}\n",
      "0.184 (+/-0.020) for {'max_depth': 7}\n",
      "0.178 (+/-0.002) for {'max_depth': 9}\n",
      "0.201 (+/-0.007) for {'max_depth': 11}\n",
      "0.203 (+/-0.011) for {'max_depth': 13}\n",
      "0.219 (+/-0.018) for {'max_depth': 15}\n",
      "0.223 (+/-0.005) for {'max_depth': 17}\n",
      "0.227 (+/-0.003) for {'max_depth': 19}\n",
      "0.223 (+/-0.000) for {'max_depth': 21}\n",
      "0.233 (+/-0.012) for {'max_depth': 23}\n",
      "\n",
      "Detailed classification report:\n",
      "\n",
      "The model is trained on the full development set.\n",
      "The scores are computed on the full evaluation set.\n",
      "\n",
      "             precision    recall  f1-score   support\n",
      "\n",
      "   BUSINESS       0.11      0.33      0.17         3\n",
      "   COMMUITY       0.00      0.00      0.00         5\n",
      "       DOCS       0.14      0.11      0.12         9\n",
      "  ECOMMERCE       0.00      0.00      0.00         1\n",
      "       NEWS       0.68      0.66      0.67        74\n",
      "    NOCLASS       0.50      0.25      0.33         8\n",
      "       PAAS       0.00      0.00      0.00         6\n",
      "    PACKAGE       0.50      0.72      0.59        39\n",
      "       REPL       0.25      0.17      0.20         6\n",
      "      THEME       0.25      0.17      0.20         6\n",
      "   TRAINING       0.62      0.55      0.58        29\n",
      "\n",
      "avg / total       0.52      0.53      0.52       186\n",
      "\n",
      "\n"
     ]
    },
    {
     "name": "stderr",
     "output_type": "stream",
     "text": [
      "/home/ec/anaconda3/lib/python3.5/site-packages/sklearn/metrics/classification.py:1113: UndefinedMetricWarning: Precision and F-score are ill-defined and being set to 0.0 in labels with no predicted samples.\n",
      "  'precision', 'predicted', average, warn_for)\n"
     ]
    }
   ],
   "source": [
    "gs_clf_dt_mod = gridsearchwithprecandrecall(clf_dt_mod, X_train, y_train, X_test, y_test, tuned_parameters)"
   ]
  },
  {
   "cell_type": "code",
   "execution_count": 84,
   "metadata": {
    "collapsed": false,
    "scrolled": false
   },
   "outputs": [
    {
     "name": "stdout",
     "output_type": "stream",
     "text": [
      "# Tuning hyper-parameters for precision\n",
      "\n"
     ]
    },
    {
     "name": "stderr",
     "output_type": "stream",
     "text": [
      "/home/ec/anaconda3/lib/python3.5/site-packages/sklearn/metrics/classification.py:1113: UndefinedMetricWarning: Precision is ill-defined and being set to 0.0 in labels with no predicted samples.\n",
      "  'precision', 'predicted', average, warn_for)\n",
      "/home/ec/anaconda3/lib/python3.5/site-packages/sklearn/metrics/classification.py:1113: UndefinedMetricWarning: Precision is ill-defined and being set to 0.0 in labels with no predicted samples.\n",
      "  'precision', 'predicted', average, warn_for)\n",
      "/home/ec/anaconda3/lib/python3.5/site-packages/sklearn/metrics/classification.py:1113: UndefinedMetricWarning: Precision is ill-defined and being set to 0.0 in labels with no predicted samples.\n",
      "  'precision', 'predicted', average, warn_for)\n",
      "/home/ec/anaconda3/lib/python3.5/site-packages/sklearn/metrics/classification.py:1113: UndefinedMetricWarning: Precision is ill-defined and being set to 0.0 in labels with no predicted samples.\n",
      "  'precision', 'predicted', average, warn_for)\n",
      "/home/ec/anaconda3/lib/python3.5/site-packages/sklearn/metrics/classification.py:1113: UndefinedMetricWarning: Precision is ill-defined and being set to 0.0 in labels with no predicted samples.\n",
      "  'precision', 'predicted', average, warn_for)\n",
      "/home/ec/anaconda3/lib/python3.5/site-packages/sklearn/metrics/classification.py:1113: UndefinedMetricWarning: Precision is ill-defined and being set to 0.0 in labels with no predicted samples.\n",
      "  'precision', 'predicted', average, warn_for)\n",
      "/home/ec/anaconda3/lib/python3.5/site-packages/sklearn/metrics/classification.py:1113: UndefinedMetricWarning: Precision is ill-defined and being set to 0.0 in labels with no predicted samples.\n",
      "  'precision', 'predicted', average, warn_for)\n",
      "/home/ec/anaconda3/lib/python3.5/site-packages/sklearn/metrics/classification.py:1113: UndefinedMetricWarning: Precision is ill-defined and being set to 0.0 in labels with no predicted samples.\n",
      "  'precision', 'predicted', average, warn_for)\n",
      "/home/ec/anaconda3/lib/python3.5/site-packages/sklearn/metrics/classification.py:1113: UndefinedMetricWarning: Precision is ill-defined and being set to 0.0 in labels with no predicted samples.\n",
      "  'precision', 'predicted', average, warn_for)\n",
      "/home/ec/anaconda3/lib/python3.5/site-packages/sklearn/metrics/classification.py:1113: UndefinedMetricWarning: Precision is ill-defined and being set to 0.0 in labels with no predicted samples.\n",
      "  'precision', 'predicted', average, warn_for)\n",
      "/home/ec/anaconda3/lib/python3.5/site-packages/sklearn/metrics/classification.py:1113: UndefinedMetricWarning: Precision is ill-defined and being set to 0.0 in labels with no predicted samples.\n",
      "  'precision', 'predicted', average, warn_for)\n",
      "/home/ec/anaconda3/lib/python3.5/site-packages/sklearn/metrics/classification.py:1113: UndefinedMetricWarning: Precision is ill-defined and being set to 0.0 in labels with no predicted samples.\n",
      "  'precision', 'predicted', average, warn_for)\n",
      "/home/ec/anaconda3/lib/python3.5/site-packages/sklearn/metrics/classification.py:1113: UndefinedMetricWarning: Precision is ill-defined and being set to 0.0 in labels with no predicted samples.\n",
      "  'precision', 'predicted', average, warn_for)\n",
      "/home/ec/anaconda3/lib/python3.5/site-packages/sklearn/metrics/classification.py:1113: UndefinedMetricWarning: Precision is ill-defined and being set to 0.0 in labels with no predicted samples.\n",
      "  'precision', 'predicted', average, warn_for)\n",
      "/home/ec/anaconda3/lib/python3.5/site-packages/sklearn/metrics/classification.py:1113: UndefinedMetricWarning: Precision is ill-defined and being set to 0.0 in labels with no predicted samples.\n",
      "  'precision', 'predicted', average, warn_for)\n",
      "/home/ec/anaconda3/lib/python3.5/site-packages/sklearn/metrics/classification.py:1113: UndefinedMetricWarning: Precision is ill-defined and being set to 0.0 in labels with no predicted samples.\n",
      "  'precision', 'predicted', average, warn_for)\n",
      "/home/ec/anaconda3/lib/python3.5/site-packages/sklearn/metrics/classification.py:1113: UndefinedMetricWarning: Precision is ill-defined and being set to 0.0 in labels with no predicted samples.\n",
      "  'precision', 'predicted', average, warn_for)\n",
      "/home/ec/anaconda3/lib/python3.5/site-packages/sklearn/metrics/classification.py:1113: UndefinedMetricWarning: Precision is ill-defined and being set to 0.0 in labels with no predicted samples.\n",
      "  'precision', 'predicted', average, warn_for)\n",
      "/home/ec/anaconda3/lib/python3.5/site-packages/sklearn/metrics/classification.py:1113: UndefinedMetricWarning: Precision is ill-defined and being set to 0.0 in labels with no predicted samples.\n",
      "  'precision', 'predicted', average, warn_for)\n",
      "/home/ec/anaconda3/lib/python3.5/site-packages/sklearn/metrics/classification.py:1113: UndefinedMetricWarning: Precision is ill-defined and being set to 0.0 in labels with no predicted samples.\n",
      "  'precision', 'predicted', average, warn_for)\n",
      "/home/ec/anaconda3/lib/python3.5/site-packages/sklearn/metrics/classification.py:1113: UndefinedMetricWarning: Precision and F-score are ill-defined and being set to 0.0 in labels with no predicted samples.\n",
      "  'precision', 'predicted', average, warn_for)\n"
     ]
    },
    {
     "name": "stdout",
     "output_type": "stream",
     "text": [
      "Best parameters set found on development set:\n",
      "\n",
      "{'max_depth': 11}\n",
      "\n",
      "Grid scores on development set:\n",
      "\n",
      "0.230 (+/-0.006) for {'max_depth': 5}\n",
      "0.219 (+/-0.023) for {'max_depth': 7}\n",
      "0.231 (+/-0.027) for {'max_depth': 9}\n",
      "0.233 (+/-0.037) for {'max_depth': 11}\n",
      "0.219 (+/-0.020) for {'max_depth': 13}\n",
      "0.225 (+/-0.038) for {'max_depth': 15}\n",
      "0.226 (+/-0.019) for {'max_depth': 17}\n",
      "0.230 (+/-0.001) for {'max_depth': 19}\n",
      "0.217 (+/-0.006) for {'max_depth': 21}\n",
      "0.213 (+/-0.021) for {'max_depth': 23}\n",
      "\n",
      "Detailed classification report:\n",
      "\n",
      "The model is trained on the full development set.\n",
      "The scores are computed on the full evaluation set.\n",
      "\n",
      "             precision    recall  f1-score   support\n",
      "\n",
      "   BUSINESS       0.17      0.33      0.22         3\n",
      "   COMMUITY       0.00      0.00      0.00         5\n",
      "       DOCS       0.50      0.56      0.53         9\n",
      "  ECOMMERCE       0.00      0.00      0.00         1\n",
      "       NEWS       0.60      0.70      0.65        74\n",
      "    NOCLASS       0.00      0.00      0.00         8\n",
      "       PAAS       0.00      0.00      0.00         6\n",
      "    PACKAGE       0.46      0.72      0.56        39\n",
      "       REPL       0.50      0.17      0.25         6\n",
      "      THEME       0.00      0.00      0.00         6\n",
      "   TRAINING       0.62      0.45      0.52        29\n",
      "\n",
      "avg / total       0.48      0.54      0.49       186\n",
      "\n",
      "\n",
      "# Tuning hyper-parameters for recall\n",
      "\n",
      "Best parameters set found on development set:\n",
      "\n",
      "{'max_depth': 11}\n",
      "\n",
      "Grid scores on development set:\n",
      "\n",
      "0.174 (+/-0.022) for {'max_depth': 5}\n",
      "0.186 (+/-0.006) for {'max_depth': 7}\n",
      "0.201 (+/-0.021) for {'max_depth': 9}\n",
      "0.202 (+/-0.028) for {'max_depth': 11}\n",
      "0.194 (+/-0.038) for {'max_depth': 13}\n",
      "0.197 (+/-0.034) for {'max_depth': 15}\n",
      "0.196 (+/-0.029) for {'max_depth': 17}\n",
      "0.200 (+/-0.020) for {'max_depth': 19}\n",
      "0.194 (+/-0.030) for {'max_depth': 21}\n",
      "0.196 (+/-0.037) for {'max_depth': 23}\n",
      "\n",
      "Detailed classification report:\n",
      "\n",
      "The model is trained on the full development set.\n",
      "The scores are computed on the full evaluation set.\n",
      "\n",
      "             precision    recall  f1-score   support\n",
      "\n",
      "   BUSINESS       0.17      0.33      0.22         3\n",
      "   COMMUITY       0.00      0.00      0.00         5\n",
      "       DOCS       0.50      0.56      0.53         9\n",
      "  ECOMMERCE       0.00      0.00      0.00         1\n",
      "       NEWS       0.60      0.70      0.65        74\n",
      "    NOCLASS       0.00      0.00      0.00         8\n",
      "       PAAS       0.00      0.00      0.00         6\n",
      "    PACKAGE       0.46      0.72      0.56        39\n",
      "       REPL       0.50      0.17      0.25         6\n",
      "      THEME       0.00      0.00      0.00         6\n",
      "   TRAINING       0.62      0.45      0.52        29\n",
      "\n",
      "avg / total       0.48      0.54      0.49       186\n",
      "\n",
      "\n"
     ]
    },
    {
     "name": "stderr",
     "output_type": "stream",
     "text": [
      "/home/ec/anaconda3/lib/python3.5/site-packages/sklearn/metrics/classification.py:1113: UndefinedMetricWarning: Precision and F-score are ill-defined and being set to 0.0 in labels with no predicted samples.\n",
      "  'precision', 'predicted', average, warn_for)\n"
     ]
    }
   ],
   "source": [
    "gs_clf_dt_modh = gridsearchwithprecandrecall(clf_dt_modh, X_trainh, y_train, X_testh, y_test, tuned_parameters)"
   ]
  },
  {
   "cell_type": "markdown",
   "metadata": {},
   "source": [
    "### Error Analysis"
   ]
  },
  {
   "cell_type": "code",
   "execution_count": 85,
   "metadata": {
    "collapsed": true
   },
   "outputs": [],
   "source": [
    "###a different parameter to be adjusted? use gs_clf!!!\n"
   ]
  },
  {
   "cell_type": "code",
   "execution_count": 86,
   "metadata": {
    "collapsed": false
   },
   "outputs": [
    {
     "name": "stdout",
     "output_type": "stream",
     "text": [
      "stump error : 0.60; model error : 0.50\n",
      "stump error : 0.60; model error : 0.46\n"
     ]
    }
   ],
   "source": [
    "clf_dt_stump_err, clf_dt_mod_err = err(clf_dt_slump, clf_dt_mod, X_test, y_test, gs_clf_dt_mod.best_params_)\n",
    "clf_dt_stump_errh, clf_dt_mod_errh = err(clf_dt_slumph, clf_dt_modh, X_testh, y_test, gs_clf_dt_modh.best_params_)"
   ]
  },
  {
   "cell_type": "markdown",
   "metadata": {},
   "source": [
    "### Ada Boost"
   ]
  },
  {
   "cell_type": "code",
   "execution_count": 87,
   "metadata": {
    "collapsed": false,
    "scrolled": true
   },
   "outputs": [
    {
     "data": {
      "image/png": "[encoded data removed]",
      "text/plain": [
       "<matplotlib.figure.Figure at 0x7fd0518e0748>"
      ]
     },
     "metadata": {},
     "output_type": "display_data"
    },
    {
     "data": {
      "image/png": "[encoded data removed]",
      "text/plain": [
       "<matplotlib.figure.Figure at 0x7fd05091cc88>"
      ]
     },
     "metadata": {},
     "output_type": "display_data"
    }
   ],
   "source": [
    "clf_adadt_mod = ADA(clf_dt_mod, clf_dt_stump_err, clf_dt_mod_err, X_train, y_train, X_test, y_test, n_estimators = 40, learning_rate = .5)\n",
    "clf_adadt_modh = ADA(clf_dt_modh, clf_dt_stump_errh, clf_dt_mod_errh, X_trainh, y_train, X_testh, y_test, n_estimators = 40, learning_rate = .5)"
   ]
  },
  {
   "cell_type": "code",
   "execution_count": 88,
   "metadata": {
    "collapsed": false,
    "scrolled": false
   },
   "outputs": [
    {
     "ename": "SyntaxError",
     "evalue": "invalid syntax (<ipython-input-88-d5af98942240>, line 1)",
     "output_type": "error",
     "traceback": [
      "\u001b[1;36m  File \u001b[1;32m\"<ipython-input-88-d5af98942240>\"\u001b[1;36m, line \u001b[1;32m1\u001b[0m\n\u001b[1;33m    STOP HERE!\u001b[0m\n\u001b[1;37m            ^\u001b[0m\n\u001b[1;31mSyntaxError\u001b[0m\u001b[1;31m:\u001b[0m invalid syntax\n"
     ]
    }
   ],
   "source": [
    "STOP HERE!"
   ]
  },
  {
   "cell_type": "markdown",
   "metadata": {},
   "source": [
    "## RANDOM FOREST WITH ADABOOST, CLASSIFICATION 3\n",
    "\n",
    "### References:\n",
    "* http://scikit-learn.org/stable/modules/generated/sklearn.tree.DecisionTreeClassifier.html#sklearn.tree.DecisionTreeClassifier\n",
    "* http://scikit-learn.org/stable/modules/tree.html\n",
    "* https://en.wikipedia.org/wiki/AdaBoost\n",
    "* http://scikit-learn.org/stable/modules/generated/sklearn.ensemble.AdaBoostClassifier.html\n",
    "* http://scikit-learn.org/stable/auto_examples/ensemble/plot_adaboost_hastie_10_2.html#sphx-glr-auto-examples-ensemble-plot-adaboost-hastie-10-2-py\n",
    "* https://stackoverflow.com/questions/32210569/using-gridsearchcv-with-adaboost-and-decisiontreeclassifier\n",
    "* http://scikit-learn.org/stable/auto_examples/model_selection/grid_search_digits.html\n",
    "* http://scikit-learn.org/stable/tutorial/statistical_inference/model_selection.html\n",
    "\n",
    "**Also**:\n",
    "* https://stackoverflow.com/questions/33110973/pass-a-dict-to-scikit-learn-estimator\n",
    "* http://machinelearningmastery.com/how-to-tune-algorithm-parameters-with-scikit-learn/"
   ]
  },
  {
   "cell_type": "code",
   "execution_count": null,
   "metadata": {
    "collapsed": false
   },
   "outputs": [],
   "source": [
    "slump_params = {'max_depth':1, 'min_samples_leaf':1, 'random_state':0}\n",
    "mod_params = {'min_samples_leaf':2, 'random_state':0}\n",
    "\n",
    "\n",
    "clf_rf_slump, rf_fit_slump = modelling(RandomForestClassifier, X_train, y_train, slump_params)\n",
    "clf_rf_mod, rf_fit = modelling(RandomForestClassifier, X_train, y_train, mod_params)\n",
    "\n",
    "clf_rf_slumph, rf_fit_slumph = modelling(RandomForestClassifier, X_trainh, y_train, slump_params)\n",
    "clf_rf_modh, rf_fith = modelling(RandomForestClassifier, X_trainh, y_train, mod_params)"
   ]
  },
  {
   "cell_type": "markdown",
   "metadata": {},
   "source": [
    "### Parameter Searching for the Random Forest"
   ]
  },
  {
   "cell_type": "code",
   "execution_count": null,
   "metadata": {
    "collapsed": false
   },
   "outputs": [],
   "source": [
    "tuned_parameters = {'max_depth': numpy.arange(5,25,2), 'n_estimators': numpy.arange(5,30,5)}"
   ]
  },
  {
   "cell_type": "code",
   "execution_count": null,
   "metadata": {
    "collapsed": false
   },
   "outputs": [],
   "source": [
    "gs_clf_rf_mod = gridsearchwithprecandrecall(clf_rf_mod, X_train, y_train, X_test, y_test, tuned_parameters)"
   ]
  },
  {
   "cell_type": "code",
   "execution_count": null,
   "metadata": {
    "collapsed": false,
    "scrolled": true
   },
   "outputs": [],
   "source": [
    "gs_clf_rf_modh = gridsearchwithprecandrecall(clf_rf_modh, X_trainh, y_train, X_testh, y_test, tuned_parameters)"
   ]
  },
  {
   "cell_type": "markdown",
   "metadata": {},
   "source": [
    "### Error Analysis"
   ]
  },
  {
   "cell_type": "code",
   "execution_count": null,
   "metadata": {
    "collapsed": true
   },
   "outputs": [],
   "source": [
    "###a different parameter to be adjusted? use gs_clf!!!\n"
   ]
  },
  {
   "cell_type": "code",
   "execution_count": null,
   "metadata": {
    "collapsed": false
   },
   "outputs": [],
   "source": [
    "clf_rf_stump_err, clf_rf_mod_err = err(clf_rf_slump, clf_rf_mod, X_test, y_test, gs_clf_rf_mod.best_params_)\n",
    "clf_rf_stump_errh, clf_rf_mod_errh = err(clf_rf_slumph, clf_rf_modh, X_testh, y_test, gs_clf_rf_modh.best_params_)"
   ]
  },
  {
   "cell_type": "markdown",
   "metadata": {},
   "source": [
    "### Ada Boost"
   ]
  },
  {
   "cell_type": "code",
   "execution_count": null,
   "metadata": {
    "collapsed": false,
    "scrolled": false
   },
   "outputs": [],
   "source": [
    "clf_adarf_mod = ADA(clf_rf_mod, clf_rf_stump_err, clf_rf_mod_err, X_train, y_train, X_test, y_test, n_estimators = 40, learning_rate = .5)\n",
    "clf_adarf_modh = ADA(clf_rf_modh, clf_rf_stump_errh, clf_rf_mod_errh, X_trainh, y_train, X_testh, y_test, n_estimators = 40, learning_rate = .5)"
   ]
  },
  {
   "cell_type": "code",
   "execution_count": null,
   "metadata": {
    "collapsed": false,
    "scrolled": false
   },
   "outputs": [],
   "source": [
    "STOP HERE!"
   ]
  },
  {
   "cell_type": "markdown",
   "metadata": {},
   "source": [
    "## SUPPORT VECTOR MACHINE WITH ADABOOST, CLASSIFICATION 3\n",
    "\n",
    "### References:\n",
    "* http://scikit-learn.org/stable/modules/generated/sklearn.tree.DecisionTreeClassifier.html#sklearn.tree.DecisionTreeClassifier\n",
    "* http://scikit-learn.org/stable/modules/tree.html\n",
    "* https://en.wikipedia.org/wiki/AdaBoost\n",
    "* http://scikit-learn.org/stable/modules/generated/sklearn.ensemble.AdaBoostClassifier.html\n",
    "* http://scikit-learn.org/stable/auto_examples/ensemble/plot_adaboost_hastie_10_2.html#sphx-glr-auto-examples-ensemble-plot-adaboost-hastie-10-2-py\n",
    "* https://stackoverflow.com/questions/32210569/using-gridsearchcv-with-adaboost-and-decisiontreeclassifier\n",
    "* http://scikit-learn.org/stable/auto_examples/model_selection/grid_search_digits.html\n",
    "* http://scikit-learn.org/stable/tutorial/statistical_inference/model_selection.html\n",
    "\n",
    "**Also**:\n",
    "* https://stackoverflow.com/questions/33110973/pass-a-dict-to-scikit-learn-estimator\n",
    "* http://machinelearningmastery.com/how-to-tune-algorithm-parameters-with-scikit-learn/"
   ]
  },
  {
   "cell_type": "code",
   "execution_count": 89,
   "metadata": {
    "collapsed": false
   },
   "outputs": [],
   "source": [
    "slump_params = {'C':1.}\n",
    "clf_svc_slump, svc_fit_slump = modelling(svm.LinearSVC, X_train, y_train, slump_params)\n",
    "clf_svc_mod, svc_fit = modelling(svm.LinearSVC, X_train, y_train)\n",
    "\n",
    "clf_svc_slumph, svc_fit_slumph = modelling(svm.LinearSVC, X_trainh, y_train, slump_params)\n",
    "clf_svc_modh, svc_fith = modelling(svm.LinearSVC, X_trainh, y_train)"
   ]
  },
  {
   "cell_type": "markdown",
   "metadata": {},
   "source": [
    "### Parameter Searching for the SVM - linear kernel"
   ]
  },
  {
   "cell_type": "code",
   "execution_count": 90,
   "metadata": {
    "collapsed": false
   },
   "outputs": [],
   "source": [
    "tuned_parameters = {'C': numpy.arange(.1,1,.1)}"
   ]
  },
  {
   "cell_type": "code",
   "execution_count": 91,
   "metadata": {
    "collapsed": false
   },
   "outputs": [],
   "source": [
    "#numpy.arange(.1,1,.1)"
   ]
  },
  {
   "cell_type": "code",
   "execution_count": 92,
   "metadata": {
    "collapsed": false
   },
   "outputs": [
    {
     "name": "stdout",
     "output_type": "stream",
     "text": [
      "# Tuning hyper-parameters for precision\n",
      "\n"
     ]
    },
    {
     "name": "stderr",
     "output_type": "stream",
     "text": [
      "/home/ec/anaconda3/lib/python3.5/site-packages/sklearn/metrics/classification.py:1113: UndefinedMetricWarning: Precision is ill-defined and being set to 0.0 in labels with no predicted samples.\n",
      "  'precision', 'predicted', average, warn_for)\n",
      "/home/ec/anaconda3/lib/python3.5/site-packages/sklearn/metrics/classification.py:1113: UndefinedMetricWarning: Precision is ill-defined and being set to 0.0 in labels with no predicted samples.\n",
      "  'precision', 'predicted', average, warn_for)\n",
      "/home/ec/anaconda3/lib/python3.5/site-packages/sklearn/metrics/classification.py:1113: UndefinedMetricWarning: Precision is ill-defined and being set to 0.0 in labels with no predicted samples.\n",
      "  'precision', 'predicted', average, warn_for)\n",
      "/home/ec/anaconda3/lib/python3.5/site-packages/sklearn/metrics/classification.py:1113: UndefinedMetricWarning: Precision is ill-defined and being set to 0.0 in labels with no predicted samples.\n",
      "  'precision', 'predicted', average, warn_for)\n",
      "/home/ec/anaconda3/lib/python3.5/site-packages/sklearn/metrics/classification.py:1113: UndefinedMetricWarning: Precision is ill-defined and being set to 0.0 in labels with no predicted samples.\n",
      "  'precision', 'predicted', average, warn_for)\n",
      "/home/ec/anaconda3/lib/python3.5/site-packages/sklearn/metrics/classification.py:1113: UndefinedMetricWarning: Precision is ill-defined and being set to 0.0 in labels with no predicted samples.\n",
      "  'precision', 'predicted', average, warn_for)\n",
      "/home/ec/anaconda3/lib/python3.5/site-packages/sklearn/metrics/classification.py:1113: UndefinedMetricWarning: Precision is ill-defined and being set to 0.0 in labels with no predicted samples.\n",
      "  'precision', 'predicted', average, warn_for)\n",
      "/home/ec/anaconda3/lib/python3.5/site-packages/sklearn/metrics/classification.py:1113: UndefinedMetricWarning: Precision is ill-defined and being set to 0.0 in labels with no predicted samples.\n",
      "  'precision', 'predicted', average, warn_for)\n",
      "/home/ec/anaconda3/lib/python3.5/site-packages/sklearn/metrics/classification.py:1113: UndefinedMetricWarning: Precision is ill-defined and being set to 0.0 in labels with no predicted samples.\n",
      "  'precision', 'predicted', average, warn_for)\n",
      "/home/ec/anaconda3/lib/python3.5/site-packages/sklearn/metrics/classification.py:1113: UndefinedMetricWarning: Precision is ill-defined and being set to 0.0 in labels with no predicted samples.\n",
      "  'precision', 'predicted', average, warn_for)\n",
      "/home/ec/anaconda3/lib/python3.5/site-packages/sklearn/metrics/classification.py:1113: UndefinedMetricWarning: Precision is ill-defined and being set to 0.0 in labels with no predicted samples.\n",
      "  'precision', 'predicted', average, warn_for)\n",
      "/home/ec/anaconda3/lib/python3.5/site-packages/sklearn/metrics/classification.py:1113: UndefinedMetricWarning: Precision is ill-defined and being set to 0.0 in labels with no predicted samples.\n",
      "  'precision', 'predicted', average, warn_for)\n",
      "/home/ec/anaconda3/lib/python3.5/site-packages/sklearn/metrics/classification.py:1113: UndefinedMetricWarning: Precision is ill-defined and being set to 0.0 in labels with no predicted samples.\n",
      "  'precision', 'predicted', average, warn_for)\n",
      "/home/ec/anaconda3/lib/python3.5/site-packages/sklearn/metrics/classification.py:1113: UndefinedMetricWarning: Precision is ill-defined and being set to 0.0 in labels with no predicted samples.\n",
      "  'precision', 'predicted', average, warn_for)\n",
      "/home/ec/anaconda3/lib/python3.5/site-packages/sklearn/metrics/classification.py:1113: UndefinedMetricWarning: Precision is ill-defined and being set to 0.0 in labels with no predicted samples.\n",
      "  'precision', 'predicted', average, warn_for)\n",
      "/home/ec/anaconda3/lib/python3.5/site-packages/sklearn/metrics/classification.py:1113: UndefinedMetricWarning: Precision is ill-defined and being set to 0.0 in labels with no predicted samples.\n",
      "  'precision', 'predicted', average, warn_for)\n",
      "/home/ec/anaconda3/lib/python3.5/site-packages/sklearn/metrics/classification.py:1113: UndefinedMetricWarning: Precision is ill-defined and being set to 0.0 in labels with no predicted samples.\n",
      "  'precision', 'predicted', average, warn_for)\n",
      "/home/ec/anaconda3/lib/python3.5/site-packages/sklearn/metrics/classification.py:1113: UndefinedMetricWarning: Precision is ill-defined and being set to 0.0 in labels with no predicted samples.\n",
      "  'precision', 'predicted', average, warn_for)\n",
      "/home/ec/anaconda3/lib/python3.5/site-packages/sklearn/metrics/classification.py:1113: UndefinedMetricWarning: Precision and F-score are ill-defined and being set to 0.0 in labels with no predicted samples.\n",
      "  'precision', 'predicted', average, warn_for)\n"
     ]
    },
    {
     "name": "stdout",
     "output_type": "stream",
     "text": [
      "Best parameters set found on development set:\n",
      "\n",
      "{'C': 0.30000000000000004}\n",
      "\n",
      "Grid scores on development set:\n",
      "\n",
      "0.218 (+/-0.037) for {'C': 0.10000000000000001}\n",
      "0.292 (+/-0.004) for {'C': 0.20000000000000001}\n",
      "0.301 (+/-0.023) for {'C': 0.30000000000000004}\n",
      "0.297 (+/-0.022) for {'C': 0.40000000000000002}\n",
      "0.288 (+/-0.031) for {'C': 0.5}\n",
      "0.288 (+/-0.027) for {'C': 0.59999999999999998}\n",
      "0.289 (+/-0.026) for {'C': 0.70000000000000007}\n",
      "0.290 (+/-0.020) for {'C': 0.80000000000000004}\n",
      "0.289 (+/-0.022) for {'C': 0.90000000000000002}\n",
      "\n",
      "Detailed classification report:\n",
      "\n",
      "The model is trained on the full development set.\n",
      "The scores are computed on the full evaluation set.\n",
      "\n",
      "             precision    recall  f1-score   support\n",
      "\n",
      "   BUSINESS       0.00      0.00      0.00         3\n",
      "   COMMUITY       0.00      0.00      0.00         5\n",
      "       DOCS       0.00      0.00      0.00         9\n",
      "  ECOMMERCE       0.00      0.00      0.00         1\n",
      "       NEWS       0.63      0.73      0.68        74\n",
      "    NOCLASS       0.29      0.25      0.27         8\n",
      "       PAAS       0.00      0.00      0.00         6\n",
      "    PACKAGE       0.49      0.74      0.59        39\n",
      "       REPL       0.50      0.17      0.25         6\n",
      "      THEME       0.00      0.00      0.00         6\n",
      "   TRAINING       0.57      0.59      0.58        29\n",
      "\n",
      "avg / total       0.47      0.55      0.50       186\n",
      "\n",
      "\n",
      "# Tuning hyper-parameters for recall\n",
      "\n",
      "Best parameters set found on development set:\n",
      "\n",
      "{'C': 0.30000000000000004}\n",
      "\n",
      "Grid scores on development set:\n",
      "\n",
      "0.182 (+/-0.005) for {'C': 0.10000000000000001}\n",
      "0.198 (+/-0.001) for {'C': 0.20000000000000001}\n",
      "0.205 (+/-0.014) for {'C': 0.30000000000000004}\n",
      "0.201 (+/-0.018) for {'C': 0.40000000000000002}\n",
      "0.200 (+/-0.014) for {'C': 0.5}\n",
      "0.200 (+/-0.016) for {'C': 0.59999999999999998}\n",
      "0.200 (+/-0.013) for {'C': 0.70000000000000007}\n",
      "0.202 (+/-0.006) for {'C': 0.80000000000000004}\n",
      "0.200 (+/-0.010) for {'C': 0.90000000000000002}\n",
      "\n",
      "Detailed classification report:\n",
      "\n",
      "The model is trained on the full development set.\n",
      "The scores are computed on the full evaluation set.\n",
      "\n",
      "             precision    recall  f1-score   support\n",
      "\n",
      "   BUSINESS       0.00      0.00      0.00         3\n",
      "   COMMUITY       0.00      0.00      0.00         5\n",
      "       DOCS       0.00      0.00      0.00         9\n",
      "  ECOMMERCE       0.00      0.00      0.00         1\n",
      "       NEWS       0.63      0.73      0.68        74\n",
      "    NOCLASS       0.29      0.25      0.27         8\n",
      "       PAAS       0.00      0.00      0.00         6\n",
      "    PACKAGE       0.49      0.74      0.59        39\n",
      "       REPL       0.50      0.17      0.25         6\n",
      "      THEME       0.00      0.00      0.00         6\n",
      "   TRAINING       0.57      0.59      0.58        29\n",
      "\n",
      "avg / total       0.47      0.55      0.50       186\n",
      "\n",
      "\n"
     ]
    },
    {
     "name": "stderr",
     "output_type": "stream",
     "text": [
      "/home/ec/anaconda3/lib/python3.5/site-packages/sklearn/metrics/classification.py:1113: UndefinedMetricWarning: Precision and F-score are ill-defined and being set to 0.0 in labels with no predicted samples.\n",
      "  'precision', 'predicted', average, warn_for)\n"
     ]
    }
   ],
   "source": [
    "gs_clf_svc_mod = gridsearchwithprecandrecall(clf_svc_mod, X_train, y_train, X_test, y_test, tuned_parameters)"
   ]
  },
  {
   "cell_type": "code",
   "execution_count": 93,
   "metadata": {
    "collapsed": false,
    "scrolled": true
   },
   "outputs": [
    {
     "name": "stdout",
     "output_type": "stream",
     "text": [
      "# Tuning hyper-parameters for precision\n",
      "\n"
     ]
    },
    {
     "name": "stderr",
     "output_type": "stream",
     "text": [
      "/home/ec/anaconda3/lib/python3.5/site-packages/sklearn/metrics/classification.py:1113: UndefinedMetricWarning: Precision is ill-defined and being set to 0.0 in labels with no predicted samples.\n",
      "  'precision', 'predicted', average, warn_for)\n",
      "/home/ec/anaconda3/lib/python3.5/site-packages/sklearn/metrics/classification.py:1113: UndefinedMetricWarning: Precision is ill-defined and being set to 0.0 in labels with no predicted samples.\n",
      "  'precision', 'predicted', average, warn_for)\n",
      "/home/ec/anaconda3/lib/python3.5/site-packages/sklearn/metrics/classification.py:1113: UndefinedMetricWarning: Precision is ill-defined and being set to 0.0 in labels with no predicted samples.\n",
      "  'precision', 'predicted', average, warn_for)\n",
      "/home/ec/anaconda3/lib/python3.5/site-packages/sklearn/metrics/classification.py:1113: UndefinedMetricWarning: Precision is ill-defined and being set to 0.0 in labels with no predicted samples.\n",
      "  'precision', 'predicted', average, warn_for)\n",
      "/home/ec/anaconda3/lib/python3.5/site-packages/sklearn/metrics/classification.py:1113: UndefinedMetricWarning: Precision is ill-defined and being set to 0.0 in labels with no predicted samples.\n",
      "  'precision', 'predicted', average, warn_for)\n",
      "/home/ec/anaconda3/lib/python3.5/site-packages/sklearn/metrics/classification.py:1113: UndefinedMetricWarning: Precision is ill-defined and being set to 0.0 in labels with no predicted samples.\n",
      "  'precision', 'predicted', average, warn_for)\n",
      "/home/ec/anaconda3/lib/python3.5/site-packages/sklearn/metrics/classification.py:1113: UndefinedMetricWarning: Precision is ill-defined and being set to 0.0 in labels with no predicted samples.\n",
      "  'precision', 'predicted', average, warn_for)\n",
      "/home/ec/anaconda3/lib/python3.5/site-packages/sklearn/metrics/classification.py:1113: UndefinedMetricWarning: Precision is ill-defined and being set to 0.0 in labels with no predicted samples.\n",
      "  'precision', 'predicted', average, warn_for)\n",
      "/home/ec/anaconda3/lib/python3.5/site-packages/sklearn/metrics/classification.py:1113: UndefinedMetricWarning: Precision is ill-defined and being set to 0.0 in labels with no predicted samples.\n",
      "  'precision', 'predicted', average, warn_for)\n",
      "/home/ec/anaconda3/lib/python3.5/site-packages/sklearn/metrics/classification.py:1113: UndefinedMetricWarning: Precision is ill-defined and being set to 0.0 in labels with no predicted samples.\n",
      "  'precision', 'predicted', average, warn_for)\n",
      "/home/ec/anaconda3/lib/python3.5/site-packages/sklearn/metrics/classification.py:1113: UndefinedMetricWarning: Precision is ill-defined and being set to 0.0 in labels with no predicted samples.\n",
      "  'precision', 'predicted', average, warn_for)\n",
      "/home/ec/anaconda3/lib/python3.5/site-packages/sklearn/metrics/classification.py:1113: UndefinedMetricWarning: Precision is ill-defined and being set to 0.0 in labels with no predicted samples.\n",
      "  'precision', 'predicted', average, warn_for)\n",
      "/home/ec/anaconda3/lib/python3.5/site-packages/sklearn/metrics/classification.py:1113: UndefinedMetricWarning: Precision is ill-defined and being set to 0.0 in labels with no predicted samples.\n",
      "  'precision', 'predicted', average, warn_for)\n",
      "/home/ec/anaconda3/lib/python3.5/site-packages/sklearn/metrics/classification.py:1113: UndefinedMetricWarning: Precision is ill-defined and being set to 0.0 in labels with no predicted samples.\n",
      "  'precision', 'predicted', average, warn_for)\n",
      "/home/ec/anaconda3/lib/python3.5/site-packages/sklearn/metrics/classification.py:1113: UndefinedMetricWarning: Precision is ill-defined and being set to 0.0 in labels with no predicted samples.\n",
      "  'precision', 'predicted', average, warn_for)\n",
      "/home/ec/anaconda3/lib/python3.5/site-packages/sklearn/metrics/classification.py:1113: UndefinedMetricWarning: Precision is ill-defined and being set to 0.0 in labels with no predicted samples.\n",
      "  'precision', 'predicted', average, warn_for)\n",
      "/home/ec/anaconda3/lib/python3.5/site-packages/sklearn/metrics/classification.py:1113: UndefinedMetricWarning: Precision is ill-defined and being set to 0.0 in labels with no predicted samples.\n",
      "  'precision', 'predicted', average, warn_for)\n",
      "/home/ec/anaconda3/lib/python3.5/site-packages/sklearn/metrics/classification.py:1113: UndefinedMetricWarning: Precision is ill-defined and being set to 0.0 in labels with no predicted samples.\n",
      "  'precision', 'predicted', average, warn_for)\n"
     ]
    },
    {
     "name": "stdout",
     "output_type": "stream",
     "text": [
      "Best parameters set found on development set:\n",
      "\n",
      "{'C': 0.30000000000000004}\n",
      "\n",
      "Grid scores on development set:\n",
      "\n",
      "0.227 (+/-0.028) for {'C': 0.10000000000000001}\n",
      "0.302 (+/-0.019) for {'C': 0.20000000000000001}\n",
      "0.305 (+/-0.024) for {'C': 0.30000000000000004}\n",
      "0.303 (+/-0.018) for {'C': 0.40000000000000002}\n",
      "0.303 (+/-0.003) for {'C': 0.5}\n",
      "0.303 (+/-0.002) for {'C': 0.59999999999999998}\n",
      "0.303 (+/-0.003) for {'C': 0.70000000000000007}\n",
      "0.303 (+/-0.005) for {'C': 0.80000000000000004}\n",
      "0.303 (+/-0.005) for {'C': 0.90000000000000002}\n",
      "\n",
      "Detailed classification report:\n",
      "\n",
      "The model is trained on the full development set.\n",
      "The scores are computed on the full evaluation set.\n",
      "\n",
      "             precision    recall  f1-score   support\n",
      "\n",
      "   BUSINESS       0.00      0.00      0.00         3\n",
      "   COMMUITY       0.00      0.00      0.00         5\n",
      "       DOCS       0.00      0.00      0.00         9\n",
      "  ECOMMERCE       0.00      0.00      0.00         1\n",
      "       NEWS       0.67      0.78      0.72        74\n",
      "    NOCLASS       0.33      0.38      0.35         8\n",
      "       PAAS       0.00      0.00      0.00         6\n",
      "    PACKAGE       0.55      0.77      0.64        39\n",
      "       REPL       0.33      0.17      0.22         6\n",
      "      THEME       0.00      0.00      0.00         6\n",
      "   TRAINING       0.57      0.59      0.58        29\n",
      "\n",
      "avg / total       0.49      0.59      0.53       186\n",
      "\n",
      "\n",
      "# Tuning hyper-parameters for recall\n",
      "\n"
     ]
    },
    {
     "name": "stderr",
     "output_type": "stream",
     "text": [
      "/home/ec/anaconda3/lib/python3.5/site-packages/sklearn/metrics/classification.py:1113: UndefinedMetricWarning: Precision and F-score are ill-defined and being set to 0.0 in labels with no predicted samples.\n",
      "  'precision', 'predicted', average, warn_for)\n"
     ]
    },
    {
     "name": "stdout",
     "output_type": "stream",
     "text": [
      "Best parameters set found on development set:\n",
      "\n",
      "{'C': 0.30000000000000004}\n",
      "\n",
      "Grid scores on development set:\n",
      "\n",
      "0.189 (+/-0.011) for {'C': 0.10000000000000001}\n",
      "0.204 (+/-0.006) for {'C': 0.20000000000000001}\n",
      "0.209 (+/-0.014) for {'C': 0.30000000000000004}\n",
      "0.208 (+/-0.011) for {'C': 0.40000000000000002}\n",
      "0.207 (+/-0.000) for {'C': 0.5}\n",
      "0.208 (+/-0.000) for {'C': 0.59999999999999998}\n",
      "0.208 (+/-0.002) for {'C': 0.70000000000000007}\n",
      "0.209 (+/-0.005) for {'C': 0.80000000000000004}\n",
      "0.208 (+/-0.004) for {'C': 0.90000000000000002}\n",
      "\n",
      "Detailed classification report:\n",
      "\n",
      "The model is trained on the full development set.\n",
      "The scores are computed on the full evaluation set.\n",
      "\n",
      "             precision    recall  f1-score   support\n",
      "\n",
      "   BUSINESS       0.00      0.00      0.00         3\n",
      "   COMMUITY       0.00      0.00      0.00         5\n",
      "       DOCS       0.00      0.00      0.00         9\n",
      "  ECOMMERCE       0.00      0.00      0.00         1\n",
      "       NEWS       0.67      0.78      0.72        74\n",
      "    NOCLASS       0.33      0.38      0.35         8\n",
      "       PAAS       0.00      0.00      0.00         6\n",
      "    PACKAGE       0.55      0.77      0.64        39\n",
      "       REPL       0.33      0.17      0.22         6\n",
      "      THEME       0.00      0.00      0.00         6\n",
      "   TRAINING       0.57      0.59      0.58        29\n",
      "\n",
      "avg / total       0.49      0.59      0.53       186\n",
      "\n",
      "\n"
     ]
    },
    {
     "name": "stderr",
     "output_type": "stream",
     "text": [
      "/home/ec/anaconda3/lib/python3.5/site-packages/sklearn/metrics/classification.py:1113: UndefinedMetricWarning: Precision and F-score are ill-defined and being set to 0.0 in labels with no predicted samples.\n",
      "  'precision', 'predicted', average, warn_for)\n"
     ]
    }
   ],
   "source": [
    "gs_clf_svc_modh = gridsearchwithprecandrecall(clf_svc_modh, X_trainh, y_train, X_testh, y_test, tuned_parameters)"
   ]
  },
  {
   "cell_type": "markdown",
   "metadata": {},
   "source": [
    "### Error Analysis"
   ]
  },
  {
   "cell_type": "code",
   "execution_count": 94,
   "metadata": {
    "collapsed": true
   },
   "outputs": [],
   "source": [
    "###a different parameter to be adjusted? use gs_clf!!!\n"
   ]
  },
  {
   "cell_type": "code",
   "execution_count": 95,
   "metadata": {
    "collapsed": false
   },
   "outputs": [
    {
     "name": "stdout",
     "output_type": "stream",
     "text": [
      "stump error : 0.46; model error : 0.46\n",
      "stump error : 0.44; model error : 0.44\n"
     ]
    }
   ],
   "source": [
    "clf_svc_stump_err, clf_svc_mod_err = err(clf_svc_slump, clf_svc_mod, X_test, y_test, gs_clf_svc_mod.best_params_)\n",
    "clf_svc_stump_errh, clf_svc_mod_errh = err(clf_svc_slumph, clf_svc_modh, X_testh, y_test, gs_clf_svc_modh.best_params_)"
   ]
  },
  {
   "cell_type": "markdown",
   "metadata": {},
   "source": [
    "### Ada Boost"
   ]
  },
  {
   "cell_type": "code",
   "execution_count": null,
   "metadata": {
    "collapsed": false,
    "scrolled": false
   },
   "outputs": [],
   "source": [
    "clf_adasvc_mod = ADA(clf_svc_mod, clf_svc_stump_err, clf_svc_mod_err, X_train, y_train, X_test, y_test, n_estimators = 40, learning_rate = .5)\n",
    "clf_adasvc_modh = ADA(clf_svc_modh, clf_svc_stump_errh, clf_svc_mod_errh, X_trainh, y_train, X_testh, y_test, n_estimators = 40, learning_rate = .5)"
   ]
  },
  {
   "cell_type": "code",
   "execution_count": null,
   "metadata": {
    "collapsed": false,
    "scrolled": false
   },
   "outputs": [],
   "source": [
    "STOP HERE!"
   ]
  },
  {
   "cell_type": "markdown",
   "metadata": {},
   "source": [
    "## Aggregate of the best options Round 3 : DT's with Adaboost and SVM  (recall-oriented)"
   ]
  },
  {
   "cell_type": "code",
   "execution_count": null,
   "metadata": {
    "collapsed": true
   },
   "outputs": [],
   "source": [
    "pd_predaggregate = pandas.DataFrame({'platform':test3.platform, 'category':y_test, 'pred_dtada':clf_adadt_mod.predict(X_test), 'pred_dth':clf_dt_modh.predict(X_testh), 'pred_svch':clf_svc_modh.predict(X_testh)})"
   ]
  },
  {
   "cell_type": "code",
   "execution_count": null,
   "metadata": {
    "collapsed": false,
    "scrolled": true
   },
   "outputs": [],
   "source": [
    "pd_predaggregate.head(5)"
   ]
  },
  {
   "cell_type": "code",
   "execution_count": null,
   "metadata": {
    "collapsed": true
   },
   "outputs": [],
   "source": [
    "def classagg(x):\n",
    "    if x.pred_dtada == x.pred_dth == x.pred_svch and x.pred_dth != 'TRAINING':\n",
    "        return x.pred_dtada\n",
    "    return x.pred_svch\n",
    "\n",
    "def classagg1(x):\n",
    "    if x.pred_dth == x.pred_svch and x.pred_dth != 'TRAINING':\n",
    "        return x.pred_dth\n",
    "    if x.pred_dtada == x.pred_dth and x.pred_dth != 'TRAINING':\n",
    "        return x.pred_dtada\n",
    "    if x.pred_dtada == x.pred_svch and x.pred_dth != 'TRAINING':\n",
    "        return x.pred_dtada\n",
    "    return x.pred_svch\n",
    "\n",
    "def classagg2(x):\n",
    "    if x.pred_dth == x.pred_svch and x.pred_dth != 'TRAINING':\n",
    "        return x.pred_dth\n",
    "    if x.pred_dtada == x.pred_dth and x.pred_dth != 'TRAINING':\n",
    "        return x.pred_dtada\n",
    "    if x.pred_dtada == x.pred_svch and x.pred_dth != 'TRAINING':\n",
    "        return x.pred_dtada\n",
    "    return x.pred_dth"
   ]
  },
  {
   "cell_type": "code",
   "execution_count": null,
   "metadata": {
    "collapsed": false
   },
   "outputs": [],
   "source": [
    "pd_predaggregate['pred_agg1'] = ''\n",
    "pd_predaggregate['pred_agg1'] = pd_predaggregate.apply(classagg1, axis=1)\n",
    "pd_predaggregate['pred_agg2'] = ''\n",
    "pd_predaggregate['pred_agg2'] = pd_predaggregate.apply(classagg2, axis=1)"
   ]
  },
  {
   "cell_type": "code",
   "execution_count": null,
   "metadata": {
    "collapsed": false,
    "scrolled": true
   },
   "outputs": [],
   "source": [
    "pd_predaggregate.head(200)"
   ]
  },
  {
   "cell_type": "code",
   "execution_count": null,
   "metadata": {
    "collapsed": false,
    "scrolled": true
   },
   "outputs": [],
   "source": [
    "print(classification_report(pd_predaggregate['category'], pd_predaggregate['pred_dtada']))\n",
    "print(classification_report(pd_predaggregate['category'], pd_predaggregate['pred_dth']))\n",
    "print(classification_report(pd_predaggregate['category'], pd_predaggregate['pred_svch']))\n",
    "print(classification_report(pd_predaggregate['category'], pd_predaggregate['pred_agg1']))\n",
    "print(classification_report(pd_predaggregate['category'], pd_predaggregate['pred_agg2']))"
   ]
  },
  {
   "cell_type": "code",
   "execution_count": null,
   "metadata": {
    "collapsed": true
   },
   "outputs": [],
   "source": [
    "def confmat1(x):\n",
    "    if x.pred_agg1 == x.category:\n",
    "        return x.pred_agg1+'_T'\n",
    "    else:\n",
    "        return x.pred_agg1+'_F'\n",
    "\n",
    "def confmat2(x):\n",
    "    if x.pred_agg2 == x.category:\n",
    "        return x.pred_agg2+'_T'\n",
    "    else:\n",
    "        return x.pred_agg2+'_F'"
   ]
  },
  {
   "cell_type": "code",
   "execution_count": null,
   "metadata": {
    "collapsed": true
   },
   "outputs": [],
   "source": [
    "pd_predaggregate['pred_agg1_cm'] = ''\n",
    "pd_predaggregate['pred_agg1_cm'] = pd_predaggregate.apply(confmat1, axis=1)\n",
    "pd_predaggregate['pred_agg2_cm'] = ''\n",
    "pd_predaggregate['pred_agg2_cm'] = pd_predaggregate.apply(confmat2, axis=1)"
   ]
  },
  {
   "cell_type": "code",
   "execution_count": null,
   "metadata": {
    "collapsed": false,
    "scrolled": true
   },
   "outputs": [],
   "source": [
    "pd_predaggregate.head()"
   ]
  },
  {
   "cell_type": "code",
   "execution_count": null,
   "metadata": {
    "collapsed": false,
    "scrolled": true
   },
   "outputs": [],
   "source": [
    "print(classification_report(pd_predaggregate['pred_agg1_cm'], pd_predaggregate['pred_agg2_cm']))\n",
    "print(classification_report(pd_predaggregate['pred_agg2_cm'], pd_predaggregate['pred_agg1_cm']))"
   ]
  },
  {
   "cell_type": "code",
   "execution_count": null,
   "metadata": {
    "collapsed": false
   },
   "outputs": [],
   "source": [
    "pd_predaggregate.groupby(['pred_agg1_cm'])['pred_agg2_cm'].count()\n",
    "#pd_predaggregate.loc[pd_predaggregate.pred_agg1_cm == 'TRAINING_T',:].shape"
   ]
  },
  {
   "cell_type": "code",
   "execution_count": null,
   "metadata": {
    "collapsed": false,
    "scrolled": true
   },
   "outputs": [],
   "source": [
    "STOP HERE!"
   ]
  },
  {
   "cell_type": "markdown",
   "metadata": {
    "collapsed": true
   },
   "source": [
    "## CLASSIFYING THE UNLABELLED DATASET ROUND 3"
   ]
  },
  {
   "cell_type": "code",
   "execution_count": null,
   "metadata": {
    "collapsed": true
   },
   "outputs": [],
   "source": [
    "untested3=pd_notated[['platform', 'alltext', 'jscheck', 'docscheck', 'blogscheck', 'commcheck']]"
   ]
  },
  {
   "cell_type": "code",
   "execution_count": null,
   "metadata": {
    "collapsed": true
   },
   "outputs": [],
   "source": [
    "X_untested = countmod.transform(untested3.alltext)\n",
    "X_untestedh = hstacker(X_untested, untested3[['jscheck', 'docscheck', 'blogscheck', 'commcheck']])"
   ]
  },
  {
   "cell_type": "code",
   "execution_count": null,
   "metadata": {
    "collapsed": true
   },
   "outputs": [],
   "source": [
    "pd_predaggregate_untested = pandas.DataFrame({'platform':untested3.platform, 'pred_dtada':clf_adadt_mod.predict(X_untested), 'pred_dth':clf_dt_modh.predict(X_untestedh), 'pred_svch':clf_svc_modh.predict(X_untestedh)})"
   ]
  },
  {
   "cell_type": "code",
   "execution_count": null,
   "metadata": {
    "collapsed": true
   },
   "outputs": [],
   "source": [
    "pd_predaggregate_untested['pred_agg1'] = ''\n",
    "pd_predaggregate_untested['pred_agg1'] = pd_predaggregate_untested.apply(classagg1, axis=1)"
   ]
  },
  {
   "cell_type": "code",
   "execution_count": null,
   "metadata": {
    "collapsed": false
   },
   "outputs": [],
   "source": [
    "pd_predaggregate_untested.head()"
   ]
  },
  {
   "cell_type": "code",
   "execution_count": null,
   "metadata": {
    "collapsed": false
   },
   "outputs": [],
   "source": [
    "if not pathlib.Path(os.getcwd()+'/data/labelleduntested_1.csv').is_file():\n",
    "    pd_predaggregate_untested.to_csv(open(os.getcwd()+'/data/labelleduntested_1.csv', 'w'), sep=';', quotechar=\"'\")"
   ]
  },
  {
   "cell_type": "markdown",
   "metadata": {
    "collapsed": true
   },
   "source": [
    "## POST ANALYSIS ROUND 3"
   ]
  },
  {
   "cell_type": "code",
   "execution_count": 302,
   "metadata": {
    "collapsed": false
   },
   "outputs": [],
   "source": [
    "if pathlib.Path(os.getcwd()+'/data/labelleduntested_1.csv').is_file():\n",
    "    pd_predaggregate_trans = pandas.read_csv(open(os.getcwd()+'/data/labelleduntested_1.csv', 'r'), sep=';', quotechar=\"'\")"
   ]
  },
  {
   "cell_type": "code",
   "execution_count": 303,
   "metadata": {
    "collapsed": true
   },
   "outputs": [],
   "source": [
    "pd_predaggregate_trans = pd_predaggregate_trans[['platform','category']]"
   ]
  },
  {
   "cell_type": "code",
   "execution_count": 304,
   "metadata": {
    "collapsed": false
   },
   "outputs": [],
   "source": [
    "pd_annotated_trans = pandas.merge(pd_notated.drop(['category'],axis=1), pd_predaggregate_trans, on='platform')"
   ]
  },
  {
   "cell_type": "code",
   "execution_count": 305,
   "metadata": {
    "collapsed": false
   },
   "outputs": [
    {
     "data": {
      "text/plain": [
       "(210, 16)"
      ]
     },
     "execution_count": 305,
     "metadata": {},
     "output_type": "execute_result"
    }
   ],
   "source": [
    "pd_annotated_trans.shape"
   ]
  },
  {
   "cell_type": "code",
   "execution_count": 306,
   "metadata": {
    "collapsed": false
   },
   "outputs": [
    {
     "data": {
      "text/plain": [
       "Index(['Unnamed: 0', 'Unnamed: 0.1', 'platform', 'title', 'description',\n",
       "       'keywords', 'htext', 'params', 'wiki', 'alltext', 'jscheck',\n",
       "       'docscheck', 'blogscheck', 'commcheck', 'missing', 'category'],\n",
       "      dtype='object')"
      ]
     },
     "execution_count": 306,
     "metadata": {},
     "output_type": "execute_result"
    }
   ],
   "source": [
    "pd_annotated_trans.columns"
   ]
  },
  {
   "cell_type": "code",
   "execution_count": 307,
   "metadata": {
    "collapsed": false
   },
   "outputs": [
    {
     "data": {
      "text/plain": [
       "0       NOCLASS\n",
       "1      BUSINESS\n",
       "2          NEWS\n",
       "3       PACKAGE\n",
       "4          NEWS\n",
       "5       PACKAGE\n",
       "6          NEWS\n",
       "7      BUSINESS\n",
       "8       PACKAGE\n",
       "9      TRAINING\n",
       "10      NOCLASS\n",
       "11         NEWS\n",
       "12     TRAINING\n",
       "13     BUSINESS\n",
       "14         NEWS\n",
       "15         NEWS\n",
       "16        THEME\n",
       "17         NEWS\n",
       "18         REPL\n",
       "19         NEWS\n",
       "20      NOCLASS\n",
       "21         NEWS\n",
       "22     TRAINING\n",
       "23        THEME\n",
       "24     BUSINESS\n",
       "25         NEWS\n",
       "26     BUSINESS\n",
       "27         NEWS\n",
       "28         REPL\n",
       "29         NEWS\n",
       "         ...   \n",
       "180     NOCLASS\n",
       "181     NOCLASS\n",
       "182        NEWS\n",
       "183       THEME\n",
       "184        NEWS\n",
       "185    BUSINESS\n",
       "186        NEWS\n",
       "187        PAAS\n",
       "188    COMMUITY\n",
       "189       THEME\n",
       "190        NEWS\n",
       "191        DOCS\n",
       "192    TRAINING\n",
       "193    TRAINING\n",
       "194       THEME\n",
       "195        REPL\n",
       "196    BUSINESS\n",
       "197        NEWS\n",
       "198        REPL\n",
       "199        REPL\n",
       "200     PACKAGE\n",
       "201       THEME\n",
       "202        NEWS\n",
       "203        REPL\n",
       "204     NOCLASS\n",
       "205    TRAINING\n",
       "206     PACKAGE\n",
       "207    TRAINING\n",
       "208        REPL\n",
       "209    COMMUITY\n",
       "Name: category, dtype: object"
      ]
     },
     "execution_count": 307,
     "metadata": {},
     "output_type": "execute_result"
    }
   ],
   "source": [
    "pd_annotated_trans.category"
   ]
  },
  {
   "cell_type": "code",
   "execution_count": 308,
   "metadata": {
    "collapsed": false
   },
   "outputs": [],
   "source": [
    "pd_annotated = pd_annotated.loc[:,~pd_annotated.columns.duplicated()]\n",
    "pd_annotated_trans = pd_annotated_trans.loc[:,~pd_annotated_trans.columns.duplicated()]\n",
    "pd_annotated_x = pandas.concat([pd_annotated,pd_annotated_trans], join='inner', ignore_index=True)"
   ]
  },
  {
   "cell_type": "code",
   "execution_count": 309,
   "metadata": {
    "collapsed": false
   },
   "outputs": [
    {
     "data": {
      "text/plain": [
       "(1166, 16)"
      ]
     },
     "execution_count": 309,
     "metadata": {},
     "output_type": "execute_result"
    }
   ],
   "source": [
    "pd_annotated_x.shape"
   ]
  },
  {
   "cell_type": "code",
   "execution_count": 310,
   "metadata": {
    "collapsed": false,
    "scrolled": true
   },
   "outputs": [
    {
     "data": {
      "text/plain": [
       "Index(['Unnamed: 0', 'Unnamed: 0.1', 'platform', 'title', 'description',\n",
       "       'keywords', 'htext', 'params', 'wiki', 'alltext', 'jscheck',\n",
       "       'docscheck', 'blogscheck', 'commcheck', 'missing', 'category'],\n",
       "      dtype='object')"
      ]
     },
     "execution_count": 310,
     "metadata": {},
     "output_type": "execute_result"
    }
   ],
   "source": [
    "pd_annotated_x.columns"
   ]
  },
  {
   "cell_type": "code",
   "execution_count": 311,
   "metadata": {
    "collapsed": true
   },
   "outputs": [],
   "source": [
    "pd_annotated = pd_annotated_x"
   ]
  },
  {
   "cell_type": "markdown",
   "metadata": {},
   "source": [
    "## DATA SPLIT"
   ]
  },
  {
   "cell_type": "code",
   "execution_count": 312,
   "metadata": {
    "collapsed": false
   },
   "outputs": [],
   "source": [
    "train3=pd_annotated[['platform', 'alltext', 'jscheck', 'docscheck', 'blogscheck', 'commcheck', 'category']].sample(frac=0.75)\n",
    "test3=pd_annotated[['platform', 'alltext','jscheck', 'docscheck', 'blogscheck', 'commcheck', 'category']].drop(train3.index)"
   ]
  },
  {
   "cell_type": "code",
   "execution_count": 313,
   "metadata": {
    "collapsed": false,
    "scrolled": true
   },
   "outputs": [
    {
     "data": {
      "text/html": [
       "<div>\n",
       "<table border=\"1\" class=\"dataframe\">\n",
       "  <thead>\n",
       "    <tr style=\"text-align: right;\">\n",
       "      <th></th>\n",
       "      <th>platform</th>\n",
       "      <th>alltext</th>\n",
       "      <th>jscheck</th>\n",
       "      <th>docscheck</th>\n",
       "      <th>blogscheck</th>\n",
       "      <th>commcheck</th>\n",
       "      <th>category</th>\n",
       "    </tr>\n",
       "  </thead>\n",
       "  <tbody>\n",
       "    <tr>\n",
       "      <th>135</th>\n",
       "      <td>sacha.me</td>\n",
       "      <td>hi end jsonp websites build schmid front usi...</td>\n",
       "      <td>0</td>\n",
       "      <td>0</td>\n",
       "      <td>0</td>\n",
       "      <td>0</td>\n",
       "      <td>NEWS</td>\n",
       "    </tr>\n",
       "    <tr>\n",
       "      <th>769</th>\n",
       "      <td>codecanyon.net</td>\n",
       "      <td>developers arrived items discover wordpress ...</td>\n",
       "      <td>0</td>\n",
       "      <td>0</td>\n",
       "      <td>0</td>\n",
       "      <td>0</td>\n",
       "      <td>THEME</td>\n",
       "    </tr>\n",
       "    <tr>\n",
       "      <th>1119</th>\n",
       "      <td>jigsaw.w3.org</td>\n",
       "      <td>consortium efficient platform making comes d...</td>\n",
       "      <td>0</td>\n",
       "      <td>0</td>\n",
       "      <td>0</td>\n",
       "      <td>0</td>\n",
       "      <td>PAAS</td>\n",
       "    </tr>\n",
       "    <tr>\n",
       "      <th>193</th>\n",
       "      <td>codeitdown.com</td>\n",
       "      <td>must com digital workings cameras limitation...</td>\n",
       "      <td>0</td>\n",
       "      <td>0</td>\n",
       "      <td>0</td>\n",
       "      <td>0</td>\n",
       "      <td>NEWS</td>\n",
       "    </tr>\n",
       "    <tr>\n",
       "      <th>1137</th>\n",
       "      <td>www.epconcommunities.com</td>\n",
       "      <td>pdf assets upload youdontknowjsupandgoing</td>\n",
       "      <td>0</td>\n",
       "      <td>0</td>\n",
       "      <td>0</td>\n",
       "      <td>0</td>\n",
       "      <td>NOCLASS</td>\n",
       "    </tr>\n",
       "    <tr>\n",
       "      <th>354</th>\n",
       "      <td>learn.jquery.com</td>\n",
       "      <td>best practices methods explanations jsonp si...</td>\n",
       "      <td>0</td>\n",
       "      <td>0</td>\n",
       "      <td>0</td>\n",
       "      <td>0</td>\n",
       "      <td>TRAINING</td>\n",
       "    </tr>\n",
       "    <tr>\n",
       "      <th>59</th>\n",
       "      <td>api.jqueryui.com</td>\n",
       "      <td>interested check new library widgets full ef...</td>\n",
       "      <td>0</td>\n",
       "      <td>0</td>\n",
       "      <td>0</td>\n",
       "      <td>0</td>\n",
       "      <td>PACKAGE</td>\n",
       "    </tr>\n",
       "    <tr>\n",
       "      <th>1040</th>\n",
       "      <td>www.pennyjuice.com</td>\n",
       "      <td>htm whoispj htmlversion</td>\n",
       "      <td>0</td>\n",
       "      <td>0</td>\n",
       "      <td>0</td>\n",
       "      <td>0</td>\n",
       "      <td>NOCLASS</td>\n",
       "    </tr>\n",
       "    <tr>\n",
       "      <th>458</th>\n",
       "      <td>www.openthesaurus.de</td>\n",
       "      <td>sinnverwandte r openthesaurus thesaurus gege...</td>\n",
       "      <td>0</td>\n",
       "      <td>0</td>\n",
       "      <td>0</td>\n",
       "      <td>0</td>\n",
       "      <td>PACKAGE</td>\n",
       "    </tr>\n",
       "    <tr>\n",
       "      <th>453</th>\n",
       "      <td>www.learn-js.org</td>\n",
       "      <td>org people en welcome table want tutorial js...</td>\n",
       "      <td>1</td>\n",
       "      <td>0</td>\n",
       "      <td>0</td>\n",
       "      <td>0</td>\n",
       "      <td>REPL</td>\n",
       "    </tr>\n",
       "  </tbody>\n",
       "</table>\n",
       "</div>"
      ],
      "text/plain": [
       "                      platform  \\\n",
       "135                   sacha.me   \n",
       "769             codecanyon.net   \n",
       "1119             jigsaw.w3.org   \n",
       "193             codeitdown.com   \n",
       "1137  www.epconcommunities.com   \n",
       "354           learn.jquery.com   \n",
       "59            api.jqueryui.com   \n",
       "1040        www.pennyjuice.com   \n",
       "458       www.openthesaurus.de   \n",
       "453           www.learn-js.org   \n",
       "\n",
       "                                                alltext  jscheck  docscheck  \\\n",
       "135     hi end jsonp websites build schmid front usi...        0          0   \n",
       "769     developers arrived items discover wordpress ...        0          0   \n",
       "1119    consortium efficient platform making comes d...        0          0   \n",
       "193     must com digital workings cameras limitation...        0          0   \n",
       "1137          pdf assets upload youdontknowjsupandgoing        0          0   \n",
       "354     best practices methods explanations jsonp si...        0          0   \n",
       "59      interested check new library widgets full ef...        0          0   \n",
       "1040                            htm whoispj htmlversion        0          0   \n",
       "458     sinnverwandte r openthesaurus thesaurus gege...        0          0   \n",
       "453     org people en welcome table want tutorial js...        1          0   \n",
       "\n",
       "      blogscheck  commcheck  category  \n",
       "135            0          0      NEWS  \n",
       "769            0          0     THEME  \n",
       "1119           0          0      PAAS  \n",
       "193            0          0      NEWS  \n",
       "1137           0          0   NOCLASS  \n",
       "354            0          0  TRAINING  \n",
       "59             0          0   PACKAGE  \n",
       "1040           0          0   NOCLASS  \n",
       "458            0          0   PACKAGE  \n",
       "453            0          0      REPL  "
      ]
     },
     "execution_count": 313,
     "metadata": {},
     "output_type": "execute_result"
    }
   ],
   "source": [
    "train3.head(10)"
   ]
  },
  {
   "cell_type": "code",
   "execution_count": 314,
   "metadata": {
    "collapsed": false
   },
   "outputs": [
    {
     "data": {
      "text/html": [
       "<div>\n",
       "<table border=\"1\" class=\"dataframe\">\n",
       "  <thead>\n",
       "    <tr style=\"text-align: right;\">\n",
       "      <th></th>\n",
       "      <th>platform</th>\n",
       "      <th>alltext</th>\n",
       "      <th>jscheck</th>\n",
       "      <th>docscheck</th>\n",
       "      <th>blogscheck</th>\n",
       "      <th>commcheck</th>\n",
       "      <th>category</th>\n",
       "    </tr>\n",
       "  </thead>\n",
       "  <tbody>\n",
       "    <tr>\n",
       "      <th>3</th>\n",
       "      <td>www.highcharts.com</td>\n",
       "      <td>charts samples jsonp navigator view highchar...</td>\n",
       "      <td>0</td>\n",
       "      <td>0</td>\n",
       "      <td>0</td>\n",
       "      <td>0</td>\n",
       "      <td>PACKAGE</td>\n",
       "    </tr>\n",
       "    <tr>\n",
       "      <th>5</th>\n",
       "      <td>quotesondesign.com</td>\n",
       "      <td>wp weaver bad heaven api design quot json po...</td>\n",
       "      <td>0</td>\n",
       "      <td>0</td>\n",
       "      <td>0</td>\n",
       "      <td>0</td>\n",
       "      <td>PACKAGE</td>\n",
       "    </tr>\n",
       "    <tr>\n",
       "      <th>9</th>\n",
       "      <td>flipclockjs.com</td>\n",
       "      <td>conditionals solutions stash enough many dom...</td>\n",
       "      <td>1</td>\n",
       "      <td>0</td>\n",
       "      <td>0</td>\n",
       "      <td>0</td>\n",
       "      <td>PACKAGE</td>\n",
       "    </tr>\n",
       "    <tr>\n",
       "      <th>14</th>\n",
       "      <td>meanjs.org</td>\n",
       "      <td>node using angularjs applications solution e...</td>\n",
       "      <td>1</td>\n",
       "      <td>0</td>\n",
       "      <td>0</td>\n",
       "      <td>0</td>\n",
       "      <td>PACKAGE</td>\n",
       "    </tr>\n",
       "    <tr>\n",
       "      <th>15</th>\n",
       "      <td>openweathermap.org</td>\n",
       "      <td>wind charts world faq urrent img help images...</td>\n",
       "      <td>0</td>\n",
       "      <td>0</td>\n",
       "      <td>0</td>\n",
       "      <td>0</td>\n",
       "      <td>PACKAGE</td>\n",
       "    </tr>\n",
       "    <tr>\n",
       "      <th>17</th>\n",
       "      <td>api.forismatic.com</td>\n",
       "      <td>tester xml forbidden api jsonp function form...</td>\n",
       "      <td>0</td>\n",
       "      <td>0</td>\n",
       "      <td>0</td>\n",
       "      <td>0</td>\n",
       "      <td>PACKAGE</td>\n",
       "    </tr>\n",
       "    <tr>\n",
       "      <th>22</th>\n",
       "      <td>mathjs.org</td>\n",
       "      <td>symbolic units parser library mathematics in...</td>\n",
       "      <td>1</td>\n",
       "      <td>0</td>\n",
       "      <td>0</td>\n",
       "      <td>0</td>\n",
       "      <td>PACKAGE</td>\n",
       "    </tr>\n",
       "    <tr>\n",
       "      <th>29</th>\n",
       "      <td>chaijs.com</td>\n",
       "      <td>org library another tdd rails assertion node...</td>\n",
       "      <td>1</td>\n",
       "      <td>0</td>\n",
       "      <td>0</td>\n",
       "      <td>0</td>\n",
       "      <td>PACKAGE</td>\n",
       "    </tr>\n",
       "    <tr>\n",
       "      <th>34</th>\n",
       "      <td>ipinfo.io</td>\n",
       "      <td>getcurrentposition details developers owner ...</td>\n",
       "      <td>0</td>\n",
       "      <td>0</td>\n",
       "      <td>0</td>\n",
       "      <td>0</td>\n",
       "      <td>PACKAGE</td>\n",
       "    </tr>\n",
       "    <tr>\n",
       "      <th>36</th>\n",
       "      <td>www.mediawiki.org</td>\n",
       "      <td>mylanguage help including images foundation ...</td>\n",
       "      <td>0</td>\n",
       "      <td>0</td>\n",
       "      <td>0</td>\n",
       "      <td>0</td>\n",
       "      <td>PACKAGE</td>\n",
       "    </tr>\n",
       "  </tbody>\n",
       "</table>\n",
       "</div>"
      ],
      "text/plain": [
       "              platform                                            alltext  \\\n",
       "3   www.highcharts.com    charts samples jsonp navigator view highchar...   \n",
       "5   quotesondesign.com    wp weaver bad heaven api design quot json po...   \n",
       "9      flipclockjs.com    conditionals solutions stash enough many dom...   \n",
       "14          meanjs.org    node using angularjs applications solution e...   \n",
       "15  openweathermap.org    wind charts world faq urrent img help images...   \n",
       "17  api.forismatic.com    tester xml forbidden api jsonp function form...   \n",
       "22          mathjs.org    symbolic units parser library mathematics in...   \n",
       "29          chaijs.com    org library another tdd rails assertion node...   \n",
       "34           ipinfo.io    getcurrentposition details developers owner ...   \n",
       "36   www.mediawiki.org    mylanguage help including images foundation ...   \n",
       "\n",
       "    jscheck  docscheck  blogscheck  commcheck category  \n",
       "3         0          0           0          0  PACKAGE  \n",
       "5         0          0           0          0  PACKAGE  \n",
       "9         1          0           0          0  PACKAGE  \n",
       "14        1          0           0          0  PACKAGE  \n",
       "15        0          0           0          0  PACKAGE  \n",
       "17        0          0           0          0  PACKAGE  \n",
       "22        1          0           0          0  PACKAGE  \n",
       "29        1          0           0          0  PACKAGE  \n",
       "34        0          0           0          0  PACKAGE  \n",
       "36        0          0           0          0  PACKAGE  "
      ]
     },
     "execution_count": 314,
     "metadata": {},
     "output_type": "execute_result"
    }
   ],
   "source": [
    "test3.head(10)"
   ]
  },
  {
   "cell_type": "markdown",
   "metadata": {},
   "source": [
    "## DATA MODELLING 3"
   ]
  },
  {
   "cell_type": "code",
   "execution_count": 315,
   "metadata": {
    "collapsed": false
   },
   "outputs": [],
   "source": [
    "X_train, countmod = vectorizer(train3.alltext)\n",
    "X_trainh = hstacker(X_train, train3[['jscheck', 'docscheck', 'blogscheck', 'commcheck']])\n",
    "y_train = train3.category\n",
    "X_test = countmod.transform(test3.alltext)\n",
    "X_testh = hstacker(X_test, test3[['jscheck', 'docscheck', 'blogscheck', 'commcheck']])\n",
    "y_test = test3.category"
   ]
  },
  {
   "cell_type": "code",
   "execution_count": 316,
   "metadata": {
    "collapsed": false
   },
   "outputs": [
    {
     "ename": "SyntaxError",
     "evalue": "invalid syntax (<ipython-input-316-d5af98942240>, line 1)",
     "output_type": "error",
     "traceback": [
      "\u001b[1;36m  File \u001b[1;32m\"<ipython-input-316-d5af98942240>\"\u001b[1;36m, line \u001b[1;32m1\u001b[0m\n\u001b[1;33m    STOP HERE!\u001b[0m\n\u001b[1;37m            ^\u001b[0m\n\u001b[1;31mSyntaxError\u001b[0m\u001b[1;31m:\u001b[0m invalid syntax\n"
     ]
    }
   ],
   "source": [
    "STOP HERE!"
   ]
  },
  {
   "cell_type": "markdown",
   "metadata": {},
   "source": [
    "## DECISION TREE WITH ADABOOST, CLASSIFICATION 3\n",
    "\n",
    "### References:\n",
    "* http://scikit-learn.org/stable/modules/generated/sklearn.tree.DecisionTreeClassifier.html#sklearn.tree.DecisionTreeClassifier\n",
    "* http://scikit-learn.org/stable/modules/tree.html\n",
    "* https://en.wikipedia.org/wiki/AdaBoost\n",
    "* http://scikit-learn.org/stable/modules/generated/sklearn.ensemble.AdaBoostClassifier.html\n",
    "* http://scikit-learn.org/stable/auto_examples/ensemble/plot_adaboost_hastie_10_2.html#sphx-glr-auto-examples-ensemble-plot-adaboost-hastie-10-2-py\n",
    "* https://stackoverflow.com/questions/32210569/using-gridsearchcv-with-adaboost-and-decisiontreeclassifier\n",
    "* http://scikit-learn.org/stable/auto_examples/model_selection/grid_search_digits.html\n",
    "* http://scikit-learn.org/stable/tutorial/statistical_inference/model_selection.html\n",
    "\n",
    "**Also**:\n",
    "* https://stackoverflow.com/questions/33110973/pass-a-dict-to-scikit-learn-estimator\n",
    "* http://machinelearningmastery.com/how-to-tune-algorithm-parameters-with-scikit-learn/"
   ]
  },
  {
   "cell_type": "code",
   "execution_count": 317,
   "metadata": {
    "collapsed": false
   },
   "outputs": [],
   "source": [
    "slump_params = {'max_depth':1, 'min_samples_leaf':1, 'random_state':0}\n",
    "mod_params = {'min_samples_leaf':2, 'random_state':0}\n",
    "\n",
    "clf_dt_slump, dt_fit_slump = modelling(DecisionTreeClassifier, X_train, y_train, slump_params)\n",
    "clf_dt_mod, dt_fit = modelling(DecisionTreeClassifier, X_train, y_train, mod_params)\n",
    "\n",
    "clf_dt_slumph, dt_fit_slumph = modelling(DecisionTreeClassifier, X_trainh, y_train, slump_params)\n",
    "clf_dt_modh, dt_fith = modelling(DecisionTreeClassifier, X_trainh, y_train, mod_params)"
   ]
  },
  {
   "cell_type": "markdown",
   "metadata": {},
   "source": [
    "### Parameter Searching for the Decision Tree"
   ]
  },
  {
   "cell_type": "code",
   "execution_count": 318,
   "metadata": {
    "collapsed": true
   },
   "outputs": [],
   "source": [
    "tuned_parameters = {'max_depth': numpy.arange(5,25,2)}"
   ]
  },
  {
   "cell_type": "code",
   "execution_count": 319,
   "metadata": {
    "collapsed": false
   },
   "outputs": [
    {
     "name": "stdout",
     "output_type": "stream",
     "text": [
      "# Tuning hyper-parameters for precision\n",
      "\n"
     ]
    },
    {
     "name": "stderr",
     "output_type": "stream",
     "text": [
      "/home/ec/anaconda3/lib/python3.5/site-packages/sklearn/metrics/classification.py:1113: UndefinedMetricWarning: Precision is ill-defined and being set to 0.0 in labels with no predicted samples.\n",
      "  'precision', 'predicted', average, warn_for)\n",
      "/home/ec/anaconda3/lib/python3.5/site-packages/sklearn/metrics/classification.py:1113: UndefinedMetricWarning: Precision is ill-defined and being set to 0.0 in labels with no predicted samples.\n",
      "  'precision', 'predicted', average, warn_for)\n",
      "/home/ec/anaconda3/lib/python3.5/site-packages/sklearn/metrics/classification.py:1113: UndefinedMetricWarning: Precision is ill-defined and being set to 0.0 in labels with no predicted samples.\n",
      "  'precision', 'predicted', average, warn_for)\n",
      "/home/ec/anaconda3/lib/python3.5/site-packages/sklearn/metrics/classification.py:1113: UndefinedMetricWarning: Precision is ill-defined and being set to 0.0 in labels with no predicted samples.\n",
      "  'precision', 'predicted', average, warn_for)\n",
      "/home/ec/anaconda3/lib/python3.5/site-packages/sklearn/metrics/classification.py:1113: UndefinedMetricWarning: Precision is ill-defined and being set to 0.0 in labels with no predicted samples.\n",
      "  'precision', 'predicted', average, warn_for)\n",
      "/home/ec/anaconda3/lib/python3.5/site-packages/sklearn/metrics/classification.py:1113: UndefinedMetricWarning: Precision is ill-defined and being set to 0.0 in labels with no predicted samples.\n",
      "  'precision', 'predicted', average, warn_for)\n",
      "/home/ec/anaconda3/lib/python3.5/site-packages/sklearn/metrics/classification.py:1113: UndefinedMetricWarning: Precision is ill-defined and being set to 0.0 in labels with no predicted samples.\n",
      "  'precision', 'predicted', average, warn_for)\n",
      "/home/ec/anaconda3/lib/python3.5/site-packages/sklearn/metrics/classification.py:1113: UndefinedMetricWarning: Precision is ill-defined and being set to 0.0 in labels with no predicted samples.\n",
      "  'precision', 'predicted', average, warn_for)\n",
      "/home/ec/anaconda3/lib/python3.5/site-packages/sklearn/metrics/classification.py:1113: UndefinedMetricWarning: Precision is ill-defined and being set to 0.0 in labels with no predicted samples.\n",
      "  'precision', 'predicted', average, warn_for)\n",
      "/home/ec/anaconda3/lib/python3.5/site-packages/sklearn/metrics/classification.py:1113: UndefinedMetricWarning: Precision is ill-defined and being set to 0.0 in labels with no predicted samples.\n",
      "  'precision', 'predicted', average, warn_for)\n",
      "/home/ec/anaconda3/lib/python3.5/site-packages/sklearn/metrics/classification.py:1113: UndefinedMetricWarning: Precision is ill-defined and being set to 0.0 in labels with no predicted samples.\n",
      "  'precision', 'predicted', average, warn_for)\n",
      "/home/ec/anaconda3/lib/python3.5/site-packages/sklearn/metrics/classification.py:1113: UndefinedMetricWarning: Precision is ill-defined and being set to 0.0 in labels with no predicted samples.\n",
      "  'precision', 'predicted', average, warn_for)\n",
      "/home/ec/anaconda3/lib/python3.5/site-packages/sklearn/metrics/classification.py:1113: UndefinedMetricWarning: Precision is ill-defined and being set to 0.0 in labels with no predicted samples.\n",
      "  'precision', 'predicted', average, warn_for)\n",
      "/home/ec/anaconda3/lib/python3.5/site-packages/sklearn/metrics/classification.py:1113: UndefinedMetricWarning: Precision is ill-defined and being set to 0.0 in labels with no predicted samples.\n",
      "  'precision', 'predicted', average, warn_for)\n",
      "/home/ec/anaconda3/lib/python3.5/site-packages/sklearn/metrics/classification.py:1113: UndefinedMetricWarning: Precision is ill-defined and being set to 0.0 in labels with no predicted samples.\n",
      "  'precision', 'predicted', average, warn_for)\n",
      "/home/ec/anaconda3/lib/python3.5/site-packages/sklearn/metrics/classification.py:1113: UndefinedMetricWarning: Precision is ill-defined and being set to 0.0 in labels with no predicted samples.\n",
      "  'precision', 'predicted', average, warn_for)\n",
      "/home/ec/anaconda3/lib/python3.5/site-packages/sklearn/metrics/classification.py:1113: UndefinedMetricWarning: Precision is ill-defined and being set to 0.0 in labels with no predicted samples.\n",
      "  'precision', 'predicted', average, warn_for)\n",
      "/home/ec/anaconda3/lib/python3.5/site-packages/sklearn/metrics/classification.py:1113: UndefinedMetricWarning: Precision is ill-defined and being set to 0.0 in labels with no predicted samples.\n",
      "  'precision', 'predicted', average, warn_for)\n",
      "/home/ec/anaconda3/lib/python3.5/site-packages/sklearn/metrics/classification.py:1113: UndefinedMetricWarning: Precision is ill-defined and being set to 0.0 in labels with no predicted samples.\n",
      "  'precision', 'predicted', average, warn_for)\n",
      "/home/ec/anaconda3/lib/python3.5/site-packages/sklearn/metrics/classification.py:1113: UndefinedMetricWarning: Precision is ill-defined and being set to 0.0 in labels with no predicted samples.\n",
      "  'precision', 'predicted', average, warn_for)\n"
     ]
    },
    {
     "name": "stdout",
     "output_type": "stream",
     "text": [
      "Best parameters set found on development set:\n",
      "\n",
      "{'max_depth': 23}\n",
      "\n",
      "Grid scores on development set:\n",
      "\n",
      "0.125 (+/-0.028) for {'max_depth': 5}\n",
      "0.177 (+/-0.011) for {'max_depth': 7}\n",
      "0.209 (+/-0.112) for {'max_depth': 9}\n",
      "0.208 (+/-0.083) for {'max_depth': 11}\n",
      "0.283 (+/-0.137) for {'max_depth': 13}\n",
      "0.304 (+/-0.165) for {'max_depth': 15}\n",
      "0.280 (+/-0.206) for {'max_depth': 17}\n",
      "0.303 (+/-0.120) for {'max_depth': 19}\n",
      "0.316 (+/-0.033) for {'max_depth': 21}\n",
      "0.333 (+/-0.021) for {'max_depth': 23}\n",
      "\n",
      "Detailed classification report:\n",
      "\n",
      "The model is trained on the full development set.\n",
      "The scores are computed on the full evaluation set.\n",
      "\n",
      "             precision    recall  f1-score   support\n",
      "\n",
      "   BUSINESS       0.36      0.36      0.36        14\n",
      "   COMMUITY       0.67      0.36      0.47        11\n",
      "       DOCS       0.33      0.43      0.38         7\n",
      "  ECOMMERCE       0.00      0.00      0.00         0\n",
      "       NEWS       0.71      0.68      0.69       108\n",
      "    NOCLASS       0.36      0.27      0.31        15\n",
      "       PAAS       0.50      0.22      0.31         9\n",
      "    PACKAGE       0.44      0.66      0.53        59\n",
      "       REPL       0.50      0.22      0.31        18\n",
      "    REVIEWS       0.00      0.00      0.00         1\n",
      "    SENGINE       0.00      0.00      0.00         1\n",
      "      THEME       0.21      0.38      0.27         8\n",
      "   TRAINING       0.66      0.51      0.58        41\n",
      "\n",
      "avg / total       0.56      0.54      0.54       292\n",
      "\n",
      "\n",
      "# Tuning hyper-parameters for recall\n",
      "\n"
     ]
    },
    {
     "name": "stderr",
     "output_type": "stream",
     "text": [
      "/home/ec/anaconda3/lib/python3.5/site-packages/sklearn/metrics/classification.py:1113: UndefinedMetricWarning: Precision and F-score are ill-defined and being set to 0.0 in labels with no predicted samples.\n",
      "  'precision', 'predicted', average, warn_for)\n",
      "/home/ec/anaconda3/lib/python3.5/site-packages/sklearn/metrics/classification.py:1115: UndefinedMetricWarning: Recall and F-score are ill-defined and being set to 0.0 in labels with no true samples.\n",
      "  'recall', 'true', average, warn_for)\n"
     ]
    },
    {
     "name": "stdout",
     "output_type": "stream",
     "text": [
      "Best parameters set found on development set:\n",
      "\n",
      "{'max_depth': 23}\n",
      "\n",
      "Grid scores on development set:\n",
      "\n",
      "0.124 (+/-0.011) for {'max_depth': 5}\n",
      "0.139 (+/-0.016) for {'max_depth': 7}\n",
      "0.142 (+/-0.025) for {'max_depth': 9}\n",
      "0.160 (+/-0.042) for {'max_depth': 11}\n",
      "0.212 (+/-0.041) for {'max_depth': 13}\n",
      "0.221 (+/-0.085) for {'max_depth': 15}\n",
      "0.217 (+/-0.096) for {'max_depth': 17}\n",
      "0.243 (+/-0.033) for {'max_depth': 19}\n",
      "0.284 (+/-0.048) for {'max_depth': 21}\n",
      "0.292 (+/-0.045) for {'max_depth': 23}\n",
      "\n",
      "Detailed classification report:\n",
      "\n",
      "The model is trained on the full development set.\n",
      "The scores are computed on the full evaluation set.\n",
      "\n",
      "             precision    recall  f1-score   support\n",
      "\n",
      "   BUSINESS       0.36      0.36      0.36        14\n",
      "   COMMUITY       0.67      0.36      0.47        11\n",
      "       DOCS       0.33      0.43      0.38         7\n",
      "  ECOMMERCE       0.00      0.00      0.00         0\n",
      "       NEWS       0.71      0.68      0.69       108\n",
      "    NOCLASS       0.36      0.27      0.31        15\n",
      "       PAAS       0.50      0.22      0.31         9\n",
      "    PACKAGE       0.44      0.66      0.53        59\n",
      "       REPL       0.50      0.22      0.31        18\n",
      "    REVIEWS       0.00      0.00      0.00         1\n",
      "    SENGINE       0.00      0.00      0.00         1\n",
      "      THEME       0.21      0.38      0.27         8\n",
      "   TRAINING       0.66      0.51      0.58        41\n",
      "\n",
      "avg / total       0.56      0.54      0.54       292\n",
      "\n",
      "\n"
     ]
    },
    {
     "name": "stderr",
     "output_type": "stream",
     "text": [
      "/home/ec/anaconda3/lib/python3.5/site-packages/sklearn/metrics/classification.py:1113: UndefinedMetricWarning: Precision and F-score are ill-defined and being set to 0.0 in labels with no predicted samples.\n",
      "  'precision', 'predicted', average, warn_for)\n",
      "/home/ec/anaconda3/lib/python3.5/site-packages/sklearn/metrics/classification.py:1115: UndefinedMetricWarning: Recall and F-score are ill-defined and being set to 0.0 in labels with no true samples.\n",
      "  'recall', 'true', average, warn_for)\n"
     ]
    }
   ],
   "source": [
    "gs_clf_dt_mod = gridsearchwithprecandrecall(clf_dt_mod, X_train, y_train, X_test, y_test, tuned_parameters)"
   ]
  },
  {
   "cell_type": "code",
   "execution_count": 320,
   "metadata": {
    "collapsed": false,
    "scrolled": false
   },
   "outputs": [
    {
     "name": "stdout",
     "output_type": "stream",
     "text": [
      "# Tuning hyper-parameters for precision\n",
      "\n"
     ]
    },
    {
     "name": "stderr",
     "output_type": "stream",
     "text": [
      "/home/ec/anaconda3/lib/python3.5/site-packages/sklearn/metrics/classification.py:1113: UndefinedMetricWarning: Precision is ill-defined and being set to 0.0 in labels with no predicted samples.\n",
      "  'precision', 'predicted', average, warn_for)\n",
      "/home/ec/anaconda3/lib/python3.5/site-packages/sklearn/metrics/classification.py:1113: UndefinedMetricWarning: Precision is ill-defined and being set to 0.0 in labels with no predicted samples.\n",
      "  'precision', 'predicted', average, warn_for)\n",
      "/home/ec/anaconda3/lib/python3.5/site-packages/sklearn/metrics/classification.py:1113: UndefinedMetricWarning: Precision is ill-defined and being set to 0.0 in labels with no predicted samples.\n",
      "  'precision', 'predicted', average, warn_for)\n",
      "/home/ec/anaconda3/lib/python3.5/site-packages/sklearn/metrics/classification.py:1113: UndefinedMetricWarning: Precision is ill-defined and being set to 0.0 in labels with no predicted samples.\n",
      "  'precision', 'predicted', average, warn_for)\n",
      "/home/ec/anaconda3/lib/python3.5/site-packages/sklearn/metrics/classification.py:1113: UndefinedMetricWarning: Precision is ill-defined and being set to 0.0 in labels with no predicted samples.\n",
      "  'precision', 'predicted', average, warn_for)\n",
      "/home/ec/anaconda3/lib/python3.5/site-packages/sklearn/metrics/classification.py:1113: UndefinedMetricWarning: Precision is ill-defined and being set to 0.0 in labels with no predicted samples.\n",
      "  'precision', 'predicted', average, warn_for)\n",
      "/home/ec/anaconda3/lib/python3.5/site-packages/sklearn/metrics/classification.py:1113: UndefinedMetricWarning: Precision is ill-defined and being set to 0.0 in labels with no predicted samples.\n",
      "  'precision', 'predicted', average, warn_for)\n",
      "/home/ec/anaconda3/lib/python3.5/site-packages/sklearn/metrics/classification.py:1113: UndefinedMetricWarning: Precision is ill-defined and being set to 0.0 in labels with no predicted samples.\n",
      "  'precision', 'predicted', average, warn_for)\n",
      "/home/ec/anaconda3/lib/python3.5/site-packages/sklearn/metrics/classification.py:1113: UndefinedMetricWarning: Precision is ill-defined and being set to 0.0 in labels with no predicted samples.\n",
      "  'precision', 'predicted', average, warn_for)\n",
      "/home/ec/anaconda3/lib/python3.5/site-packages/sklearn/metrics/classification.py:1113: UndefinedMetricWarning: Precision is ill-defined and being set to 0.0 in labels with no predicted samples.\n",
      "  'precision', 'predicted', average, warn_for)\n",
      "/home/ec/anaconda3/lib/python3.5/site-packages/sklearn/metrics/classification.py:1113: UndefinedMetricWarning: Precision is ill-defined and being set to 0.0 in labels with no predicted samples.\n",
      "  'precision', 'predicted', average, warn_for)\n",
      "/home/ec/anaconda3/lib/python3.5/site-packages/sklearn/metrics/classification.py:1113: UndefinedMetricWarning: Precision is ill-defined and being set to 0.0 in labels with no predicted samples.\n",
      "  'precision', 'predicted', average, warn_for)\n",
      "/home/ec/anaconda3/lib/python3.5/site-packages/sklearn/metrics/classification.py:1113: UndefinedMetricWarning: Precision is ill-defined and being set to 0.0 in labels with no predicted samples.\n",
      "  'precision', 'predicted', average, warn_for)\n",
      "/home/ec/anaconda3/lib/python3.5/site-packages/sklearn/metrics/classification.py:1113: UndefinedMetricWarning: Precision is ill-defined and being set to 0.0 in labels with no predicted samples.\n",
      "  'precision', 'predicted', average, warn_for)\n",
      "/home/ec/anaconda3/lib/python3.5/site-packages/sklearn/metrics/classification.py:1113: UndefinedMetricWarning: Precision is ill-defined and being set to 0.0 in labels with no predicted samples.\n",
      "  'precision', 'predicted', average, warn_for)\n",
      "/home/ec/anaconda3/lib/python3.5/site-packages/sklearn/metrics/classification.py:1113: UndefinedMetricWarning: Precision is ill-defined and being set to 0.0 in labels with no predicted samples.\n",
      "  'precision', 'predicted', average, warn_for)\n",
      "/home/ec/anaconda3/lib/python3.5/site-packages/sklearn/metrics/classification.py:1113: UndefinedMetricWarning: Precision is ill-defined and being set to 0.0 in labels with no predicted samples.\n",
      "  'precision', 'predicted', average, warn_for)\n",
      "/home/ec/anaconda3/lib/python3.5/site-packages/sklearn/metrics/classification.py:1113: UndefinedMetricWarning: Precision is ill-defined and being set to 0.0 in labels with no predicted samples.\n",
      "  'precision', 'predicted', average, warn_for)\n",
      "/home/ec/anaconda3/lib/python3.5/site-packages/sklearn/metrics/classification.py:1113: UndefinedMetricWarning: Precision is ill-defined and being set to 0.0 in labels with no predicted samples.\n",
      "  'precision', 'predicted', average, warn_for)\n",
      "/home/ec/anaconda3/lib/python3.5/site-packages/sklearn/metrics/classification.py:1113: UndefinedMetricWarning: Precision is ill-defined and being set to 0.0 in labels with no predicted samples.\n",
      "  'precision', 'predicted', average, warn_for)\n"
     ]
    },
    {
     "name": "stdout",
     "output_type": "stream",
     "text": [
      "Best parameters set found on development set:\n",
      "\n",
      "{'max_depth': 17}\n",
      "\n",
      "Grid scores on development set:\n",
      "\n",
      "0.221 (+/-0.001) for {'max_depth': 5}\n",
      "0.288 (+/-0.078) for {'max_depth': 7}\n",
      "0.276 (+/-0.171) for {'max_depth': 9}\n",
      "0.293 (+/-0.174) for {'max_depth': 11}\n",
      "0.288 (+/-0.126) for {'max_depth': 13}\n",
      "0.333 (+/-0.216) for {'max_depth': 15}\n",
      "0.383 (+/-0.177) for {'max_depth': 17}\n",
      "0.376 (+/-0.172) for {'max_depth': 19}\n",
      "0.381 (+/-0.129) for {'max_depth': 21}\n",
      "0.381 (+/-0.119) for {'max_depth': 23}\n",
      "\n",
      "Detailed classification report:\n",
      "\n",
      "The model is trained on the full development set.\n",
      "The scores are computed on the full evaluation set.\n",
      "\n",
      "             precision    recall  f1-score   support\n",
      "\n",
      "   BUSINESS       0.38      0.21      0.27        14\n",
      "   COMMUITY       0.71      0.45      0.56        11\n",
      "       DOCS       0.56      0.71      0.63         7\n",
      "  ECOMMERCE       0.00      0.00      0.00         0\n",
      "       NEWS       0.49      0.83      0.62       108\n",
      "    NOCLASS       1.00      0.07      0.12        15\n",
      "       PAAS       0.00      0.00      0.00         9\n",
      "    PACKAGE       0.88      0.39      0.54        59\n",
      "       REPL       0.50      0.22      0.31        18\n",
      "    REVIEWS       0.00      0.00      0.00         1\n",
      "    SENGINE       0.00      0.00      0.00         1\n",
      "      THEME       0.00      0.00      0.00         8\n",
      "   TRAINING       0.55      0.56      0.55        41\n",
      "\n",
      "avg / total       0.58      0.53      0.49       292\n",
      "\n",
      "\n",
      "# Tuning hyper-parameters for recall\n",
      "\n"
     ]
    },
    {
     "name": "stderr",
     "output_type": "stream",
     "text": [
      "/home/ec/anaconda3/lib/python3.5/site-packages/sklearn/metrics/classification.py:1113: UndefinedMetricWarning: Precision and F-score are ill-defined and being set to 0.0 in labels with no predicted samples.\n",
      "  'precision', 'predicted', average, warn_for)\n",
      "/home/ec/anaconda3/lib/python3.5/site-packages/sklearn/metrics/classification.py:1115: UndefinedMetricWarning: Recall and F-score are ill-defined and being set to 0.0 in labels with no true samples.\n",
      "  'recall', 'true', average, warn_for)\n"
     ]
    },
    {
     "name": "stdout",
     "output_type": "stream",
     "text": [
      "Best parameters set found on development set:\n",
      "\n",
      "{'max_depth': 23}\n",
      "\n",
      "Grid scores on development set:\n",
      "\n",
      "0.159 (+/-0.004) for {'max_depth': 5}\n",
      "0.167 (+/-0.007) for {'max_depth': 7}\n",
      "0.178 (+/-0.047) for {'max_depth': 9}\n",
      "0.198 (+/-0.035) for {'max_depth': 11}\n",
      "0.195 (+/-0.045) for {'max_depth': 13}\n",
      "0.210 (+/-0.086) for {'max_depth': 15}\n",
      "0.249 (+/-0.067) for {'max_depth': 17}\n",
      "0.265 (+/-0.049) for {'max_depth': 19}\n",
      "0.278 (+/-0.021) for {'max_depth': 21}\n",
      "0.301 (+/-0.006) for {'max_depth': 23}\n",
      "\n",
      "Detailed classification report:\n",
      "\n",
      "The model is trained on the full development set.\n",
      "The scores are computed on the full evaluation set.\n",
      "\n",
      "             precision    recall  f1-score   support\n",
      "\n",
      "   BUSINESS       0.40      0.29      0.33        14\n",
      "   COMMUITY       0.62      0.45      0.53        11\n",
      "       DOCS       0.36      0.71      0.48         7\n",
      "  ECOMMERCE       0.00      0.00      0.00         0\n",
      "       NEWS       0.52      0.83      0.64       108\n",
      "    NOCLASS       1.00      0.07      0.12        15\n",
      "       PAAS       0.00      0.00      0.00         9\n",
      "    PACKAGE       0.86      0.41      0.55        59\n",
      "       REPL       0.57      0.22      0.32        18\n",
      "    REVIEWS       0.00      0.00      0.00         1\n",
      "    SENGINE       0.00      0.00      0.00         1\n",
      "      THEME       0.00      0.00      0.00         8\n",
      "   TRAINING       0.53      0.49      0.51        41\n",
      "\n",
      "avg / total       0.58      0.52      0.49       292\n",
      "\n",
      "\n"
     ]
    },
    {
     "name": "stderr",
     "output_type": "stream",
     "text": [
      "/home/ec/anaconda3/lib/python3.5/site-packages/sklearn/metrics/classification.py:1113: UndefinedMetricWarning: Precision and F-score are ill-defined and being set to 0.0 in labels with no predicted samples.\n",
      "  'precision', 'predicted', average, warn_for)\n",
      "/home/ec/anaconda3/lib/python3.5/site-packages/sklearn/metrics/classification.py:1115: UndefinedMetricWarning: Recall and F-score are ill-defined and being set to 0.0 in labels with no true samples.\n",
      "  'recall', 'true', average, warn_for)\n"
     ]
    }
   ],
   "source": [
    "gs_clf_dt_modh = gridsearchwithprecandrecall(clf_dt_modh, X_trainh, y_train, X_testh, y_test, tuned_parameters)"
   ]
  },
  {
   "cell_type": "markdown",
   "metadata": {},
   "source": [
    "### Error Analysis"
   ]
  },
  {
   "cell_type": "code",
   "execution_count": 321,
   "metadata": {
    "collapsed": true
   },
   "outputs": [],
   "source": [
    "###a different parameter to be adjusted? use gs_clf!!!\n"
   ]
  },
  {
   "cell_type": "code",
   "execution_count": 322,
   "metadata": {
    "collapsed": false
   },
   "outputs": [
    {
     "name": "stdout",
     "output_type": "stream",
     "text": [
      "stump error : 0.63; model error : 0.46\n",
      "stump error : 0.56; model error : 0.45\n"
     ]
    }
   ],
   "source": [
    "#{'max_depth': 13}\n",
    "clf_dt_stump_err, clf_dt_mod_err = err(clf_dt_slump, clf_dt_mod, X_test, y_test, gs_clf_dt_mod.best_params_)\n",
    "clf_dt_stump_errh, clf_dt_mod_errh = err(clf_dt_slumph, clf_dt_modh, X_testh, y_test, gs_clf_dt_modh.best_params_)\n",
    "#clf_dt_stump_errh, clf_dt_mod_errh = err(clf_dt_slumph, clf_dt_modh, X_testh, y_test, {'max_depth': 13})"
   ]
  },
  {
   "cell_type": "markdown",
   "metadata": {},
   "source": [
    "### Ada Boost"
   ]
  },
  {
   "cell_type": "code",
   "execution_count": 323,
   "metadata": {
    "collapsed": false,
    "scrolled": true
   },
   "outputs": [
    {
     "data": {
      "image/png": "[encoded data removed]",
      "text/plain": [
       "<matplotlib.figure.Figure at 0x7fd04da8ab00>"
      ]
     },
     "metadata": {},
     "output_type": "display_data"
    },
    {
     "data": {
      "image/png": "[encoded data removed]",
      "text/plain": [
       "<matplotlib.figure.Figure at 0x7fd0518d7160>"
      ]
     },
     "metadata": {},
     "output_type": "display_data"
    }
   ],
   "source": [
    "clf_adadt_mod = ADA(clf_dt_mod, clf_dt_stump_err, clf_dt_mod_err, X_train, y_train, X_test, y_test, n_estimators = 40, learning_rate = .5)\n",
    "clf_adadt_modh = ADA(clf_dt_modh, clf_dt_stump_errh, clf_dt_mod_errh, X_trainh, y_train, X_testh, y_test, n_estimators = 40, learning_rate = .5)"
   ]
  },
  {
   "cell_type": "code",
   "execution_count": 324,
   "metadata": {
    "collapsed": false,
    "scrolled": false
   },
   "outputs": [
    {
     "ename": "SyntaxError",
     "evalue": "invalid syntax (<ipython-input-324-d5af98942240>, line 1)",
     "output_type": "error",
     "traceback": [
      "\u001b[1;36m  File \u001b[1;32m\"<ipython-input-324-d5af98942240>\"\u001b[1;36m, line \u001b[1;32m1\u001b[0m\n\u001b[1;33m    STOP HERE!\u001b[0m\n\u001b[1;37m            ^\u001b[0m\n\u001b[1;31mSyntaxError\u001b[0m\u001b[1;31m:\u001b[0m invalid syntax\n"
     ]
    }
   ],
   "source": [
    "STOP HERE!"
   ]
  },
  {
   "cell_type": "markdown",
   "metadata": {},
   "source": [
    "## SUPPORT VECTOR MACHINE WITH ADABOOST, CLASSIFICATION 3\n",
    "\n",
    "### References:\n",
    "* http://scikit-learn.org/stable/modules/generated/sklearn.tree.DecisionTreeClassifier.html#sklearn.tree.DecisionTreeClassifier\n",
    "* http://scikit-learn.org/stable/modules/tree.html\n",
    "* https://en.wikipedia.org/wiki/AdaBoost\n",
    "* http://scikit-learn.org/stable/modules/generated/sklearn.ensemble.AdaBoostClassifier.html\n",
    "* http://scikit-learn.org/stable/auto_examples/ensemble/plot_adaboost_hastie_10_2.html#sphx-glr-auto-examples-ensemble-plot-adaboost-hastie-10-2-py\n",
    "* https://stackoverflow.com/questions/32210569/using-gridsearchcv-with-adaboost-and-decisiontreeclassifier\n",
    "* http://scikit-learn.org/stable/auto_examples/model_selection/grid_search_digits.html\n",
    "* http://scikit-learn.org/stable/tutorial/statistical_inference/model_selection.html\n",
    "\n",
    "**Also**:\n",
    "* https://stackoverflow.com/questions/33110973/pass-a-dict-to-scikit-learn-estimator\n",
    "* http://machinelearningmastery.com/how-to-tune-algorithm-parameters-with-scikit-learn/"
   ]
  },
  {
   "cell_type": "code",
   "execution_count": 325,
   "metadata": {
    "collapsed": false
   },
   "outputs": [],
   "source": [
    "slump_params = {'C':1.}\n",
    "clf_svc_slump, svc_fit_slump = modelling(svm.LinearSVC, X_train, y_train, slump_params)\n",
    "clf_svc_mod, svc_fit = modelling(svm.LinearSVC, X_train, y_train)\n",
    "\n",
    "clf_svc_slumph, svc_fit_slumph = modelling(svm.LinearSVC, X_trainh, y_train, slump_params)\n",
    "clf_svc_modh, svc_fith = modelling(svm.LinearSVC, X_trainh, y_train)"
   ]
  },
  {
   "cell_type": "markdown",
   "metadata": {},
   "source": [
    "### Parameter Searching for the SVM - linear kernel"
   ]
  },
  {
   "cell_type": "code",
   "execution_count": 326,
   "metadata": {
    "collapsed": false
   },
   "outputs": [],
   "source": [
    "tuned_parameters = {'C': numpy.arange(.1,1,.1)}"
   ]
  },
  {
   "cell_type": "code",
   "execution_count": 327,
   "metadata": {
    "collapsed": false
   },
   "outputs": [],
   "source": [
    "#numpy.arange(.1,1,.1)"
   ]
  },
  {
   "cell_type": "code",
   "execution_count": 328,
   "metadata": {
    "collapsed": false
   },
   "outputs": [
    {
     "name": "stdout",
     "output_type": "stream",
     "text": [
      "# Tuning hyper-parameters for precision\n",
      "\n"
     ]
    },
    {
     "name": "stderr",
     "output_type": "stream",
     "text": [
      "/home/ec/anaconda3/lib/python3.5/site-packages/sklearn/metrics/classification.py:1113: UndefinedMetricWarning: Precision is ill-defined and being set to 0.0 in labels with no predicted samples.\n",
      "  'precision', 'predicted', average, warn_for)\n",
      "/home/ec/anaconda3/lib/python3.5/site-packages/sklearn/metrics/classification.py:1113: UndefinedMetricWarning: Precision is ill-defined and being set to 0.0 in labels with no predicted samples.\n",
      "  'precision', 'predicted', average, warn_for)\n",
      "/home/ec/anaconda3/lib/python3.5/site-packages/sklearn/metrics/classification.py:1113: UndefinedMetricWarning: Precision is ill-defined and being set to 0.0 in labels with no predicted samples.\n",
      "  'precision', 'predicted', average, warn_for)\n",
      "/home/ec/anaconda3/lib/python3.5/site-packages/sklearn/metrics/classification.py:1113: UndefinedMetricWarning: Precision is ill-defined and being set to 0.0 in labels with no predicted samples.\n",
      "  'precision', 'predicted', average, warn_for)\n",
      "/home/ec/anaconda3/lib/python3.5/site-packages/sklearn/metrics/classification.py:1113: UndefinedMetricWarning: Precision is ill-defined and being set to 0.0 in labels with no predicted samples.\n",
      "  'precision', 'predicted', average, warn_for)\n",
      "/home/ec/anaconda3/lib/python3.5/site-packages/sklearn/metrics/classification.py:1113: UndefinedMetricWarning: Precision is ill-defined and being set to 0.0 in labels with no predicted samples.\n",
      "  'precision', 'predicted', average, warn_for)\n",
      "/home/ec/anaconda3/lib/python3.5/site-packages/sklearn/metrics/classification.py:1113: UndefinedMetricWarning: Precision is ill-defined and being set to 0.0 in labels with no predicted samples.\n",
      "  'precision', 'predicted', average, warn_for)\n",
      "/home/ec/anaconda3/lib/python3.5/site-packages/sklearn/metrics/classification.py:1113: UndefinedMetricWarning: Precision is ill-defined and being set to 0.0 in labels with no predicted samples.\n",
      "  'precision', 'predicted', average, warn_for)\n",
      "/home/ec/anaconda3/lib/python3.5/site-packages/sklearn/metrics/classification.py:1113: UndefinedMetricWarning: Precision is ill-defined and being set to 0.0 in labels with no predicted samples.\n",
      "  'precision', 'predicted', average, warn_for)\n",
      "/home/ec/anaconda3/lib/python3.5/site-packages/sklearn/metrics/classification.py:1113: UndefinedMetricWarning: Precision is ill-defined and being set to 0.0 in labels with no predicted samples.\n",
      "  'precision', 'predicted', average, warn_for)\n",
      "/home/ec/anaconda3/lib/python3.5/site-packages/sklearn/metrics/classification.py:1113: UndefinedMetricWarning: Precision is ill-defined and being set to 0.0 in labels with no predicted samples.\n",
      "  'precision', 'predicted', average, warn_for)\n",
      "/home/ec/anaconda3/lib/python3.5/site-packages/sklearn/metrics/classification.py:1113: UndefinedMetricWarning: Precision is ill-defined and being set to 0.0 in labels with no predicted samples.\n",
      "  'precision', 'predicted', average, warn_for)\n",
      "/home/ec/anaconda3/lib/python3.5/site-packages/sklearn/metrics/classification.py:1113: UndefinedMetricWarning: Precision is ill-defined and being set to 0.0 in labels with no predicted samples.\n",
      "  'precision', 'predicted', average, warn_for)\n",
      "/home/ec/anaconda3/lib/python3.5/site-packages/sklearn/metrics/classification.py:1113: UndefinedMetricWarning: Precision is ill-defined and being set to 0.0 in labels with no predicted samples.\n",
      "  'precision', 'predicted', average, warn_for)\n",
      "/home/ec/anaconda3/lib/python3.5/site-packages/sklearn/metrics/classification.py:1113: UndefinedMetricWarning: Precision is ill-defined and being set to 0.0 in labels with no predicted samples.\n",
      "  'precision', 'predicted', average, warn_for)\n",
      "/home/ec/anaconda3/lib/python3.5/site-packages/sklearn/metrics/classification.py:1113: UndefinedMetricWarning: Precision is ill-defined and being set to 0.0 in labels with no predicted samples.\n",
      "  'precision', 'predicted', average, warn_for)\n",
      "/home/ec/anaconda3/lib/python3.5/site-packages/sklearn/metrics/classification.py:1113: UndefinedMetricWarning: Precision is ill-defined and being set to 0.0 in labels with no predicted samples.\n",
      "  'precision', 'predicted', average, warn_for)\n",
      "/home/ec/anaconda3/lib/python3.5/site-packages/sklearn/metrics/classification.py:1113: UndefinedMetricWarning: Precision is ill-defined and being set to 0.0 in labels with no predicted samples.\n",
      "  'precision', 'predicted', average, warn_for)\n",
      "/home/ec/anaconda3/lib/python3.5/site-packages/sklearn/metrics/classification.py:1113: UndefinedMetricWarning: Precision and F-score are ill-defined and being set to 0.0 in labels with no predicted samples.\n",
      "  'precision', 'predicted', average, warn_for)\n"
     ]
    },
    {
     "name": "stdout",
     "output_type": "stream",
     "text": [
      "Best parameters set found on development set:\n",
      "\n",
      "{'C': 0.10000000000000001}\n",
      "\n",
      "Grid scores on development set:\n",
      "\n",
      "0.714 (+/-0.046) for {'C': 0.10000000000000001}\n",
      "0.686 (+/-0.047) for {'C': 0.20000000000000001}\n",
      "0.681 (+/-0.029) for {'C': 0.30000000000000004}\n",
      "0.684 (+/-0.032) for {'C': 0.40000000000000002}\n",
      "0.678 (+/-0.046) for {'C': 0.5}\n",
      "0.684 (+/-0.038) for {'C': 0.59999999999999998}\n",
      "0.681 (+/-0.047) for {'C': 0.70000000000000007}\n",
      "0.680 (+/-0.047) for {'C': 0.80000000000000004}\n",
      "0.679 (+/-0.045) for {'C': 0.90000000000000002}\n",
      "\n",
      "Detailed classification report:\n",
      "\n",
      "The model is trained on the full development set.\n",
      "The scores are computed on the full evaluation set.\n",
      "\n",
      "             precision    recall  f1-score   support\n",
      "\n",
      "   BUSINESS       1.00      0.57      0.73        14\n",
      "   COMMUITY       1.00      0.64      0.78        11\n",
      "       DOCS       0.57      0.57      0.57         7\n",
      "       NEWS       0.71      0.89      0.79       108\n",
      "    NOCLASS       0.64      0.47      0.54        15\n",
      "       PAAS       1.00      0.11      0.20         9\n",
      "    PACKAGE       0.67      0.73      0.70        59\n",
      "       REPL       0.91      0.56      0.69        18\n",
      "    REVIEWS       1.00      1.00      1.00         1\n",
      "    SENGINE       0.00      0.00      0.00         1\n",
      "      THEME       0.44      0.50      0.47         8\n",
      "   TRAINING       0.76      0.71      0.73        41\n",
      "\n",
      "avg / total       0.74      0.72      0.71       292\n",
      "\n",
      "\n",
      "# Tuning hyper-parameters for recall\n",
      "\n",
      "Best parameters set found on development set:\n",
      "\n",
      "{'C': 0.59999999999999998}\n",
      "\n",
      "Grid scores on development set:\n",
      "\n",
      "0.398 (+/-0.035) for {'C': 0.10000000000000001}\n",
      "0.399 (+/-0.029) for {'C': 0.20000000000000001}\n",
      "0.402 (+/-0.021) for {'C': 0.30000000000000004}\n",
      "0.403 (+/-0.018) for {'C': 0.40000000000000002}\n",
      "0.402 (+/-0.022) for {'C': 0.5}\n",
      "0.404 (+/-0.016) for {'C': 0.59999999999999998}\n",
      "0.404 (+/-0.018) for {'C': 0.70000000000000007}\n",
      "0.403 (+/-0.018) for {'C': 0.80000000000000004}\n",
      "0.401 (+/-0.017) for {'C': 0.90000000000000002}\n",
      "\n",
      "Detailed classification report:\n",
      "\n",
      "The model is trained on the full development set.\n",
      "The scores are computed on the full evaluation set.\n",
      "\n",
      "             precision    recall  f1-score   support\n",
      "\n",
      "   BUSINESS       1.00      0.57      0.73        14\n",
      "   COMMUITY       1.00      0.73      0.84        11\n",
      "       DOCS       0.57      0.57      0.57         7\n",
      "       NEWS       0.75      0.81      0.78       108\n",
      "    NOCLASS       0.50      0.53      0.52        15\n",
      "       PAAS       1.00      0.11      0.20         9\n",
      "    PACKAGE       0.62      0.73      0.67        59\n",
      "       REPL       1.00      0.56      0.71        18\n",
      "    REVIEWS       1.00      1.00      1.00         1\n",
      "    SENGINE       0.00      0.00      0.00         1\n",
      "      THEME       0.47      0.88      0.61         8\n",
      "   TRAINING       0.74      0.71      0.72        41\n",
      "\n",
      "avg / total       0.74      0.71      0.70       292\n",
      "\n",
      "\n"
     ]
    },
    {
     "name": "stderr",
     "output_type": "stream",
     "text": [
      "/home/ec/anaconda3/lib/python3.5/site-packages/sklearn/metrics/classification.py:1113: UndefinedMetricWarning: Precision and F-score are ill-defined and being set to 0.0 in labels with no predicted samples.\n",
      "  'precision', 'predicted', average, warn_for)\n"
     ]
    }
   ],
   "source": [
    "gs_clf_svc_mod = gridsearchwithprecandrecall(clf_svc_mod, X_train, y_train, X_test, y_test, tuned_parameters)"
   ]
  },
  {
   "cell_type": "code",
   "execution_count": 329,
   "metadata": {
    "collapsed": false,
    "scrolled": true
   },
   "outputs": [
    {
     "name": "stdout",
     "output_type": "stream",
     "text": [
      "# Tuning hyper-parameters for precision\n",
      "\n"
     ]
    },
    {
     "name": "stderr",
     "output_type": "stream",
     "text": [
      "/home/ec/anaconda3/lib/python3.5/site-packages/sklearn/metrics/classification.py:1113: UndefinedMetricWarning: Precision is ill-defined and being set to 0.0 in labels with no predicted samples.\n",
      "  'precision', 'predicted', average, warn_for)\n",
      "/home/ec/anaconda3/lib/python3.5/site-packages/sklearn/metrics/classification.py:1113: UndefinedMetricWarning: Precision is ill-defined and being set to 0.0 in labels with no predicted samples.\n",
      "  'precision', 'predicted', average, warn_for)\n",
      "/home/ec/anaconda3/lib/python3.5/site-packages/sklearn/metrics/classification.py:1113: UndefinedMetricWarning: Precision is ill-defined and being set to 0.0 in labels with no predicted samples.\n",
      "  'precision', 'predicted', average, warn_for)\n",
      "/home/ec/anaconda3/lib/python3.5/site-packages/sklearn/metrics/classification.py:1113: UndefinedMetricWarning: Precision is ill-defined and being set to 0.0 in labels with no predicted samples.\n",
      "  'precision', 'predicted', average, warn_for)\n",
      "/home/ec/anaconda3/lib/python3.5/site-packages/sklearn/metrics/classification.py:1113: UndefinedMetricWarning: Precision is ill-defined and being set to 0.0 in labels with no predicted samples.\n",
      "  'precision', 'predicted', average, warn_for)\n",
      "/home/ec/anaconda3/lib/python3.5/site-packages/sklearn/metrics/classification.py:1113: UndefinedMetricWarning: Precision is ill-defined and being set to 0.0 in labels with no predicted samples.\n",
      "  'precision', 'predicted', average, warn_for)\n",
      "/home/ec/anaconda3/lib/python3.5/site-packages/sklearn/metrics/classification.py:1113: UndefinedMetricWarning: Precision is ill-defined and being set to 0.0 in labels with no predicted samples.\n",
      "  'precision', 'predicted', average, warn_for)\n",
      "/home/ec/anaconda3/lib/python3.5/site-packages/sklearn/metrics/classification.py:1113: UndefinedMetricWarning: Precision is ill-defined and being set to 0.0 in labels with no predicted samples.\n",
      "  'precision', 'predicted', average, warn_for)\n",
      "/home/ec/anaconda3/lib/python3.5/site-packages/sklearn/metrics/classification.py:1113: UndefinedMetricWarning: Precision is ill-defined and being set to 0.0 in labels with no predicted samples.\n",
      "  'precision', 'predicted', average, warn_for)\n",
      "/home/ec/anaconda3/lib/python3.5/site-packages/sklearn/metrics/classification.py:1113: UndefinedMetricWarning: Precision is ill-defined and being set to 0.0 in labels with no predicted samples.\n",
      "  'precision', 'predicted', average, warn_for)\n",
      "/home/ec/anaconda3/lib/python3.5/site-packages/sklearn/metrics/classification.py:1113: UndefinedMetricWarning: Precision is ill-defined and being set to 0.0 in labels with no predicted samples.\n",
      "  'precision', 'predicted', average, warn_for)\n",
      "/home/ec/anaconda3/lib/python3.5/site-packages/sklearn/metrics/classification.py:1113: UndefinedMetricWarning: Precision is ill-defined and being set to 0.0 in labels with no predicted samples.\n",
      "  'precision', 'predicted', average, warn_for)\n",
      "/home/ec/anaconda3/lib/python3.5/site-packages/sklearn/metrics/classification.py:1113: UndefinedMetricWarning: Precision is ill-defined and being set to 0.0 in labels with no predicted samples.\n",
      "  'precision', 'predicted', average, warn_for)\n",
      "/home/ec/anaconda3/lib/python3.5/site-packages/sklearn/metrics/classification.py:1113: UndefinedMetricWarning: Precision is ill-defined and being set to 0.0 in labels with no predicted samples.\n",
      "  'precision', 'predicted', average, warn_for)\n",
      "/home/ec/anaconda3/lib/python3.5/site-packages/sklearn/metrics/classification.py:1113: UndefinedMetricWarning: Precision is ill-defined and being set to 0.0 in labels with no predicted samples.\n",
      "  'precision', 'predicted', average, warn_for)\n",
      "/home/ec/anaconda3/lib/python3.5/site-packages/sklearn/metrics/classification.py:1113: UndefinedMetricWarning: Precision is ill-defined and being set to 0.0 in labels with no predicted samples.\n",
      "  'precision', 'predicted', average, warn_for)\n",
      "/home/ec/anaconda3/lib/python3.5/site-packages/sklearn/metrics/classification.py:1113: UndefinedMetricWarning: Precision is ill-defined and being set to 0.0 in labels with no predicted samples.\n",
      "  'precision', 'predicted', average, warn_for)\n",
      "/home/ec/anaconda3/lib/python3.5/site-packages/sklearn/metrics/classification.py:1113: UndefinedMetricWarning: Precision is ill-defined and being set to 0.0 in labels with no predicted samples.\n",
      "  'precision', 'predicted', average, warn_for)\n"
     ]
    },
    {
     "name": "stdout",
     "output_type": "stream",
     "text": [
      "Best parameters set found on development set:\n",
      "\n",
      "{'C': 0.10000000000000001}\n",
      "\n",
      "Grid scores on development set:\n",
      "\n",
      "0.716 (+/-0.053) for {'C': 0.10000000000000001}\n",
      "0.691 (+/-0.049) for {'C': 0.20000000000000001}\n",
      "0.685 (+/-0.030) for {'C': 0.30000000000000004}\n",
      "0.687 (+/-0.028) for {'C': 0.40000000000000002}\n",
      "0.685 (+/-0.039) for {'C': 0.5}\n",
      "0.688 (+/-0.024) for {'C': 0.59999999999999998}\n",
      "0.688 (+/-0.028) for {'C': 0.70000000000000007}\n",
      "0.688 (+/-0.027) for {'C': 0.80000000000000004}\n",
      "0.686 (+/-0.025) for {'C': 0.90000000000000002}\n",
      "\n",
      "Detailed classification report:\n",
      "\n",
      "The model is trained on the full development set.\n",
      "The scores are computed on the full evaluation set.\n",
      "\n",
      "             precision    recall  f1-score   support\n",
      "\n",
      "   BUSINESS       1.00      0.57      0.73        14\n",
      "   COMMUITY       1.00      0.64      0.78        11\n",
      "       DOCS       1.00      0.71      0.83         7\n",
      "       NEWS       0.75      0.93      0.83       108\n",
      "    NOCLASS       0.70      0.47      0.56        15\n",
      "       PAAS       1.00      0.11      0.20         9\n",
      "    PACKAGE       0.70      0.85      0.77        59\n",
      "       REPL       0.91      0.56      0.69        18\n",
      "    REVIEWS       1.00      1.00      1.00         1\n",
      "    SENGINE       0.00      0.00      0.00         1\n",
      "      THEME       0.62      0.62      0.62         8\n",
      "   TRAINING       0.76      0.68      0.72        41\n",
      "\n",
      "avg / total       0.78      0.76      0.75       292\n",
      "\n",
      "\n",
      "# Tuning hyper-parameters for recall\n",
      "\n"
     ]
    },
    {
     "name": "stderr",
     "output_type": "stream",
     "text": [
      "/home/ec/anaconda3/lib/python3.5/site-packages/sklearn/metrics/classification.py:1113: UndefinedMetricWarning: Precision and F-score are ill-defined and being set to 0.0 in labels with no predicted samples.\n",
      "  'precision', 'predicted', average, warn_for)\n"
     ]
    },
    {
     "name": "stdout",
     "output_type": "stream",
     "text": [
      "Best parameters set found on development set:\n",
      "\n",
      "{'C': 0.40000000000000002}\n",
      "\n",
      "Grid scores on development set:\n",
      "\n",
      "0.407 (+/-0.039) for {'C': 0.10000000000000001}\n",
      "0.409 (+/-0.040) for {'C': 0.20000000000000001}\n",
      "0.410 (+/-0.031) for {'C': 0.30000000000000004}\n",
      "0.411 (+/-0.028) for {'C': 0.40000000000000002}\n",
      "0.411 (+/-0.028) for {'C': 0.5}\n",
      "0.411 (+/-0.019) for {'C': 0.59999999999999998}\n",
      "0.411 (+/-0.020) for {'C': 0.70000000000000007}\n",
      "0.408 (+/-0.015) for {'C': 0.80000000000000004}\n",
      "0.407 (+/-0.016) for {'C': 0.90000000000000002}\n",
      "\n",
      "Detailed classification report:\n",
      "\n",
      "The model is trained on the full development set.\n",
      "The scores are computed on the full evaluation set.\n",
      "\n",
      "             precision    recall  f1-score   support\n",
      "\n",
      "   BUSINESS       1.00      0.57      0.73        14\n",
      "   COMMUITY       1.00      0.73      0.84        11\n",
      "       DOCS       1.00      0.71      0.83         7\n",
      "       NEWS       0.79      0.91      0.84       108\n",
      "    NOCLASS       0.50      0.53      0.52        15\n",
      "       PAAS       1.00      0.11      0.20         9\n",
      "    PACKAGE       0.69      0.81      0.74        59\n",
      "       REPL       0.91      0.56      0.69        18\n",
      "    REVIEWS       1.00      1.00      1.00         1\n",
      "    SENGINE       0.00      0.00      0.00         1\n",
      "      THEME       0.70      0.88      0.78         8\n",
      "   TRAINING       0.74      0.68      0.71        41\n",
      "\n",
      "avg / total       0.78      0.76      0.75       292\n",
      "\n",
      "\n"
     ]
    },
    {
     "name": "stderr",
     "output_type": "stream",
     "text": [
      "/home/ec/anaconda3/lib/python3.5/site-packages/sklearn/metrics/classification.py:1113: UndefinedMetricWarning: Precision and F-score are ill-defined and being set to 0.0 in labels with no predicted samples.\n",
      "  'precision', 'predicted', average, warn_for)\n"
     ]
    }
   ],
   "source": [
    "gs_clf_svc_modh = gridsearchwithprecandrecall(clf_svc_modh, X_trainh, y_train, X_testh, y_test, tuned_parameters)"
   ]
  },
  {
   "cell_type": "markdown",
   "metadata": {},
   "source": [
    "### Error Analysis"
   ]
  },
  {
   "cell_type": "code",
   "execution_count": 330,
   "metadata": {
    "collapsed": true
   },
   "outputs": [],
   "source": [
    "###a different parameter to be adjusted? use gs_clf!!!\n"
   ]
  },
  {
   "cell_type": "code",
   "execution_count": 331,
   "metadata": {
    "collapsed": false
   },
   "outputs": [
    {
     "name": "stdout",
     "output_type": "stream",
     "text": [
      "stump error : 0.30; model error : 0.30\n",
      "stump error : 0.26; model error : 0.26\n"
     ]
    }
   ],
   "source": [
    "clf_svc_stump_err, clf_svc_mod_err = err(clf_svc_slump, clf_svc_mod, X_test, y_test, gs_clf_svc_mod.best_params_)\n",
    "clf_svc_stump_errh, clf_svc_mod_errh = err(clf_svc_slumph, clf_svc_modh, X_testh, y_test, gs_clf_svc_modh.best_params_)"
   ]
  },
  {
   "cell_type": "markdown",
   "metadata": {},
   "source": [
    "### Ada Boost"
   ]
  },
  {
   "cell_type": "code",
   "execution_count": 332,
   "metadata": {
    "collapsed": false,
    "scrolled": false
   },
   "outputs": [],
   "source": [
    "#clf_adasvc_mod = ADA(clf_svc_mod, clf_svc_stump_err, clf_svc_mod_err, X_train, y_train, X_test, y_test, n_estimators = 40, learning_rate = .5)\n",
    "#clf_adasvc_modh = ADA(clf_svc_modh, clf_svc_stump_errh, clf_svc_mod_errh, X_trainh, y_train, X_testh, y_test, n_estimators = 40, learning_rate = .5)"
   ]
  },
  {
   "cell_type": "code",
   "execution_count": 333,
   "metadata": {
    "collapsed": false,
    "scrolled": false
   },
   "outputs": [
    {
     "ename": "SyntaxError",
     "evalue": "invalid syntax (<ipython-input-333-d5af98942240>, line 1)",
     "output_type": "error",
     "traceback": [
      "\u001b[1;36m  File \u001b[1;32m\"<ipython-input-333-d5af98942240>\"\u001b[1;36m, line \u001b[1;32m1\u001b[0m\n\u001b[1;33m    STOP HERE!\u001b[0m\n\u001b[1;37m            ^\u001b[0m\n\u001b[1;31mSyntaxError\u001b[0m\u001b[1;31m:\u001b[0m invalid syntax\n"
     ]
    }
   ],
   "source": [
    "STOP HERE!"
   ]
  },
  {
   "cell_type": "markdown",
   "metadata": {},
   "source": [
    "## Aggregate of the best options Round 3 : DT's with Adaboost and SVM  (recall-oriented)"
   ]
  },
  {
   "cell_type": "code",
   "execution_count": 334,
   "metadata": {
    "collapsed": true
   },
   "outputs": [],
   "source": [
    "pd_predaggregate = pandas.DataFrame({'platform':test3.platform, 'category':y_test, 'pred_dtada':clf_adadt_mod.predict(X_test), 'pred_dth':clf_dt_modh.predict(X_testh), 'pred_svch':clf_svc_modh.predict(X_testh)})"
   ]
  },
  {
   "cell_type": "code",
   "execution_count": 335,
   "metadata": {
    "collapsed": false,
    "scrolled": false
   },
   "outputs": [
    {
     "data": {
      "text/html": [
       "<div>\n",
       "<table border=\"1\" class=\"dataframe\">\n",
       "  <thead>\n",
       "    <tr style=\"text-align: right;\">\n",
       "      <th></th>\n",
       "      <th>category</th>\n",
       "      <th>platform</th>\n",
       "      <th>pred_dtada</th>\n",
       "      <th>pred_dth</th>\n",
       "      <th>pred_svch</th>\n",
       "    </tr>\n",
       "  </thead>\n",
       "  <tbody>\n",
       "    <tr>\n",
       "      <th>3</th>\n",
       "      <td>PACKAGE</td>\n",
       "      <td>www.highcharts.com</td>\n",
       "      <td>NEWS</td>\n",
       "      <td>NEWS</td>\n",
       "      <td>NEWS</td>\n",
       "    </tr>\n",
       "    <tr>\n",
       "      <th>5</th>\n",
       "      <td>PACKAGE</td>\n",
       "      <td>quotesondesign.com</td>\n",
       "      <td>NEWS</td>\n",
       "      <td>NEWS</td>\n",
       "      <td>PACKAGE</td>\n",
       "    </tr>\n",
       "    <tr>\n",
       "      <th>9</th>\n",
       "      <td>PACKAGE</td>\n",
       "      <td>flipclockjs.com</td>\n",
       "      <td>NOCLASS</td>\n",
       "      <td>PACKAGE</td>\n",
       "      <td>PACKAGE</td>\n",
       "    </tr>\n",
       "    <tr>\n",
       "      <th>14</th>\n",
       "      <td>PACKAGE</td>\n",
       "      <td>meanjs.org</td>\n",
       "      <td>NEWS</td>\n",
       "      <td>PACKAGE</td>\n",
       "      <td>PACKAGE</td>\n",
       "    </tr>\n",
       "    <tr>\n",
       "      <th>15</th>\n",
       "      <td>PACKAGE</td>\n",
       "      <td>openweathermap.org</td>\n",
       "      <td>THEME</td>\n",
       "      <td>PACKAGE</td>\n",
       "      <td>PACKAGE</td>\n",
       "    </tr>\n",
       "  </tbody>\n",
       "</table>\n",
       "</div>"
      ],
      "text/plain": [
       "   category            platform pred_dtada pred_dth pred_svch\n",
       "3   PACKAGE  www.highcharts.com       NEWS     NEWS      NEWS\n",
       "5   PACKAGE  quotesondesign.com       NEWS     NEWS   PACKAGE\n",
       "9   PACKAGE     flipclockjs.com    NOCLASS  PACKAGE   PACKAGE\n",
       "14  PACKAGE          meanjs.org       NEWS  PACKAGE   PACKAGE\n",
       "15  PACKAGE  openweathermap.org      THEME  PACKAGE   PACKAGE"
      ]
     },
     "execution_count": 335,
     "metadata": {},
     "output_type": "execute_result"
    }
   ],
   "source": [
    "pd_predaggregate.head(5)"
   ]
  },
  {
   "cell_type": "code",
   "execution_count": 336,
   "metadata": {
    "collapsed": true
   },
   "outputs": [],
   "source": [
    "def classagg(x):\n",
    "    if x.pred_dtada == x.pred_dth == x.pred_svch and x.pred_dth != 'TRAINING':\n",
    "        return x.pred_dtada\n",
    "    return x.pred_svch\n",
    "\n",
    "def classagg1(x):\n",
    "    if x.pred_dth == x.pred_svch and x.pred_dth != 'TRAINING':\n",
    "        return x.pred_dth\n",
    "    if x.pred_dtada == x.pred_dth and x.pred_dth != 'TRAINING':\n",
    "        return x.pred_dtada\n",
    "    if x.pred_dtada == x.pred_svch and x.pred_dth != 'TRAINING':\n",
    "        return x.pred_dtada\n",
    "    return x.pred_svch\n",
    "\n",
    "def classagg2(x):\n",
    "    if x.pred_dth == x.pred_svch and x.pred_dth != 'TRAINING':\n",
    "        return x.pred_dth\n",
    "    if x.pred_dtada == x.pred_dth and x.pred_dth != 'TRAINING':\n",
    "        return x.pred_dtada\n",
    "    if x.pred_dtada == x.pred_svch and x.pred_dth != 'TRAINING':\n",
    "        return x.pred_dtada\n",
    "    return x.pred_dth"
   ]
  },
  {
   "cell_type": "code",
   "execution_count": 337,
   "metadata": {
    "collapsed": false
   },
   "outputs": [],
   "source": [
    "pd_predaggregate['pred_agg1'] = ''\n",
    "pd_predaggregate['pred_agg1'] = pd_predaggregate.apply(classagg1, axis=1)\n",
    "pd_predaggregate['pred_agg2'] = ''\n",
    "pd_predaggregate['pred_agg2'] = pd_predaggregate.apply(classagg2, axis=1)"
   ]
  },
  {
   "cell_type": "code",
   "execution_count": 338,
   "metadata": {
    "collapsed": false,
    "scrolled": true
   },
   "outputs": [
    {
     "data": {
      "text/html": [
       "<div>\n",
       "<table border=\"1\" class=\"dataframe\">\n",
       "  <thead>\n",
       "    <tr style=\"text-align: right;\">\n",
       "      <th></th>\n",
       "      <th>category</th>\n",
       "      <th>platform</th>\n",
       "      <th>pred_dtada</th>\n",
       "      <th>pred_dth</th>\n",
       "      <th>pred_svch</th>\n",
       "      <th>pred_agg1</th>\n",
       "      <th>pred_agg2</th>\n",
       "    </tr>\n",
       "  </thead>\n",
       "  <tbody>\n",
       "    <tr>\n",
       "      <th>3</th>\n",
       "      <td>PACKAGE</td>\n",
       "      <td>www.highcharts.com</td>\n",
       "      <td>NEWS</td>\n",
       "      <td>NEWS</td>\n",
       "      <td>NEWS</td>\n",
       "      <td>NEWS</td>\n",
       "      <td>NEWS</td>\n",
       "    </tr>\n",
       "    <tr>\n",
       "      <th>5</th>\n",
       "      <td>PACKAGE</td>\n",
       "      <td>quotesondesign.com</td>\n",
       "      <td>NEWS</td>\n",
       "      <td>NEWS</td>\n",
       "      <td>PACKAGE</td>\n",
       "      <td>NEWS</td>\n",
       "      <td>NEWS</td>\n",
       "    </tr>\n",
       "    <tr>\n",
       "      <th>9</th>\n",
       "      <td>PACKAGE</td>\n",
       "      <td>flipclockjs.com</td>\n",
       "      <td>NOCLASS</td>\n",
       "      <td>PACKAGE</td>\n",
       "      <td>PACKAGE</td>\n",
       "      <td>PACKAGE</td>\n",
       "      <td>PACKAGE</td>\n",
       "    </tr>\n",
       "    <tr>\n",
       "      <th>14</th>\n",
       "      <td>PACKAGE</td>\n",
       "      <td>meanjs.org</td>\n",
       "      <td>NEWS</td>\n",
       "      <td>PACKAGE</td>\n",
       "      <td>PACKAGE</td>\n",
       "      <td>PACKAGE</td>\n",
       "      <td>PACKAGE</td>\n",
       "    </tr>\n",
       "    <tr>\n",
       "      <th>15</th>\n",
       "      <td>PACKAGE</td>\n",
       "      <td>openweathermap.org</td>\n",
       "      <td>THEME</td>\n",
       "      <td>PACKAGE</td>\n",
       "      <td>PACKAGE</td>\n",
       "      <td>PACKAGE</td>\n",
       "      <td>PACKAGE</td>\n",
       "    </tr>\n",
       "    <tr>\n",
       "      <th>17</th>\n",
       "      <td>PACKAGE</td>\n",
       "      <td>api.forismatic.com</td>\n",
       "      <td>NEWS</td>\n",
       "      <td>NEWS</td>\n",
       "      <td>PACKAGE</td>\n",
       "      <td>NEWS</td>\n",
       "      <td>NEWS</td>\n",
       "    </tr>\n",
       "    <tr>\n",
       "      <th>22</th>\n",
       "      <td>PACKAGE</td>\n",
       "      <td>mathjs.org</td>\n",
       "      <td>PACKAGE</td>\n",
       "      <td>PACKAGE</td>\n",
       "      <td>PACKAGE</td>\n",
       "      <td>PACKAGE</td>\n",
       "      <td>PACKAGE</td>\n",
       "    </tr>\n",
       "    <tr>\n",
       "      <th>29</th>\n",
       "      <td>PACKAGE</td>\n",
       "      <td>chaijs.com</td>\n",
       "      <td>PACKAGE</td>\n",
       "      <td>PACKAGE</td>\n",
       "      <td>PACKAGE</td>\n",
       "      <td>PACKAGE</td>\n",
       "      <td>PACKAGE</td>\n",
       "    </tr>\n",
       "    <tr>\n",
       "      <th>34</th>\n",
       "      <td>PACKAGE</td>\n",
       "      <td>ipinfo.io</td>\n",
       "      <td>PACKAGE</td>\n",
       "      <td>PACKAGE</td>\n",
       "      <td>PACKAGE</td>\n",
       "      <td>PACKAGE</td>\n",
       "      <td>PACKAGE</td>\n",
       "    </tr>\n",
       "    <tr>\n",
       "      <th>36</th>\n",
       "      <td>PACKAGE</td>\n",
       "      <td>www.mediawiki.org</td>\n",
       "      <td>PACKAGE</td>\n",
       "      <td>THEME</td>\n",
       "      <td>PACKAGE</td>\n",
       "      <td>PACKAGE</td>\n",
       "      <td>PACKAGE</td>\n",
       "    </tr>\n",
       "    <tr>\n",
       "      <th>43</th>\n",
       "      <td>PACKAGE</td>\n",
       "      <td>angularjs.org</td>\n",
       "      <td>NEWS</td>\n",
       "      <td>NEWS</td>\n",
       "      <td>PACKAGE</td>\n",
       "      <td>NEWS</td>\n",
       "      <td>NEWS</td>\n",
       "    </tr>\n",
       "    <tr>\n",
       "      <th>44</th>\n",
       "      <td>PACKAGE</td>\n",
       "      <td>www.angular-meteor.com</td>\n",
       "      <td>NEWS</td>\n",
       "      <td>TRAINING</td>\n",
       "      <td>PACKAGE</td>\n",
       "      <td>PACKAGE</td>\n",
       "      <td>TRAINING</td>\n",
       "    </tr>\n",
       "    <tr>\n",
       "      <th>50</th>\n",
       "      <td>PACKAGE</td>\n",
       "      <td>babeljs.io</td>\n",
       "      <td>PACKAGE</td>\n",
       "      <td>PACKAGE</td>\n",
       "      <td>PACKAGE</td>\n",
       "      <td>PACKAGE</td>\n",
       "      <td>PACKAGE</td>\n",
       "    </tr>\n",
       "    <tr>\n",
       "      <th>64</th>\n",
       "      <td>PACKAGE</td>\n",
       "      <td>highlightjs.org</td>\n",
       "      <td>PACKAGE</td>\n",
       "      <td>NEWS</td>\n",
       "      <td>PACKAGE</td>\n",
       "      <td>PACKAGE</td>\n",
       "      <td>PACKAGE</td>\n",
       "    </tr>\n",
       "    <tr>\n",
       "      <th>70</th>\n",
       "      <td>PACKAGE</td>\n",
       "      <td>jsonapi.org</td>\n",
       "      <td>PACKAGE</td>\n",
       "      <td>REPL</td>\n",
       "      <td>PACKAGE</td>\n",
       "      <td>PACKAGE</td>\n",
       "      <td>PACKAGE</td>\n",
       "    </tr>\n",
       "    <tr>\n",
       "      <th>72</th>\n",
       "      <td>PACKAGE</td>\n",
       "      <td>maps.googleapis.com</td>\n",
       "      <td>PACKAGE</td>\n",
       "      <td>NEWS</td>\n",
       "      <td>PACKAGE</td>\n",
       "      <td>PACKAGE</td>\n",
       "      <td>PACKAGE</td>\n",
       "    </tr>\n",
       "    <tr>\n",
       "      <th>74</th>\n",
       "      <td>PACKAGE</td>\n",
       "      <td>mdbootstrap.com</td>\n",
       "      <td>NEWS</td>\n",
       "      <td>NEWS</td>\n",
       "      <td>NEWS</td>\n",
       "      <td>NEWS</td>\n",
       "      <td>NEWS</td>\n",
       "    </tr>\n",
       "    <tr>\n",
       "      <th>76</th>\n",
       "      <td>PACKAGE</td>\n",
       "      <td>crossorigin</td>\n",
       "      <td>PACKAGE</td>\n",
       "      <td>NOCLASS</td>\n",
       "      <td>NOCLASS</td>\n",
       "      <td>NOCLASS</td>\n",
       "      <td>NOCLASS</td>\n",
       "    </tr>\n",
       "    <tr>\n",
       "      <th>77</th>\n",
       "      <td>PACKAGE</td>\n",
       "      <td>npmcdn.com</td>\n",
       "      <td>PACKAGE</td>\n",
       "      <td>PACKAGE</td>\n",
       "      <td>PACKAGE</td>\n",
       "      <td>PACKAGE</td>\n",
       "      <td>PACKAGE</td>\n",
       "    </tr>\n",
       "    <tr>\n",
       "      <th>80</th>\n",
       "      <td>PACKAGE</td>\n",
       "      <td>packagecontrol.io</td>\n",
       "      <td>NEWS</td>\n",
       "      <td>PACKAGE</td>\n",
       "      <td>PACKAGE</td>\n",
       "      <td>PACKAGE</td>\n",
       "      <td>PACKAGE</td>\n",
       "    </tr>\n",
       "    <tr>\n",
       "      <th>81</th>\n",
       "      <td>PACKAGE</td>\n",
       "      <td>api.walkscore.com</td>\n",
       "      <td>PACKAGE</td>\n",
       "      <td>THEME</td>\n",
       "      <td>PACKAGE</td>\n",
       "      <td>PACKAGE</td>\n",
       "      <td>PACKAGE</td>\n",
       "    </tr>\n",
       "    <tr>\n",
       "      <th>84</th>\n",
       "      <td>PACKAGE</td>\n",
       "      <td>expo.getbootstrap.com</td>\n",
       "      <td>PACKAGE</td>\n",
       "      <td>PACKAGE</td>\n",
       "      <td>PACKAGE</td>\n",
       "      <td>PACKAGE</td>\n",
       "      <td>PACKAGE</td>\n",
       "    </tr>\n",
       "    <tr>\n",
       "      <th>85</th>\n",
       "      <td>PACKAGE</td>\n",
       "      <td>www.muicss.com</td>\n",
       "      <td>PACKAGE</td>\n",
       "      <td>PACKAGE</td>\n",
       "      <td>PACKAGE</td>\n",
       "      <td>PACKAGE</td>\n",
       "      <td>PACKAGE</td>\n",
       "    </tr>\n",
       "    <tr>\n",
       "      <th>86</th>\n",
       "      <td>PACKAGE</td>\n",
       "      <td>code.ionicframework.com</td>\n",
       "      <td>NOCLASS</td>\n",
       "      <td>PACKAGE</td>\n",
       "      <td>PACKAGE</td>\n",
       "      <td>PACKAGE</td>\n",
       "      <td>PACKAGE</td>\n",
       "    </tr>\n",
       "    <tr>\n",
       "      <th>88</th>\n",
       "      <td>PACKAGE</td>\n",
       "      <td>startupquote.com</td>\n",
       "      <td>PACKAGE</td>\n",
       "      <td>NEWS</td>\n",
       "      <td>PACKAGE</td>\n",
       "      <td>PACKAGE</td>\n",
       "      <td>PACKAGE</td>\n",
       "    </tr>\n",
       "    <tr>\n",
       "      <th>90</th>\n",
       "      <td>PACKAGE</td>\n",
       "      <td>www.bootstrapcdn.com</td>\n",
       "      <td>NEWS</td>\n",
       "      <td>THEME</td>\n",
       "      <td>THEME</td>\n",
       "      <td>THEME</td>\n",
       "      <td>THEME</td>\n",
       "    </tr>\n",
       "    <tr>\n",
       "      <th>94</th>\n",
       "      <td>PACKAGE</td>\n",
       "      <td>ip-api.com</td>\n",
       "      <td>DOCS</td>\n",
       "      <td>PAAS</td>\n",
       "      <td>PACKAGE</td>\n",
       "      <td>PACKAGE</td>\n",
       "      <td>PAAS</td>\n",
       "    </tr>\n",
       "    <tr>\n",
       "      <th>98</th>\n",
       "      <td>PACKAGE</td>\n",
       "      <td>netdna.bootstrapcdn.com</td>\n",
       "      <td>NOCLASS</td>\n",
       "      <td>PACKAGE</td>\n",
       "      <td>NOCLASS</td>\n",
       "      <td>NOCLASS</td>\n",
       "      <td>NOCLASS</td>\n",
       "    </tr>\n",
       "    <tr>\n",
       "      <th>104</th>\n",
       "      <td>NEWS</td>\n",
       "      <td>www.justinmccandless.com</td>\n",
       "      <td>NEWS</td>\n",
       "      <td>DOCS</td>\n",
       "      <td>NEWS</td>\n",
       "      <td>NEWS</td>\n",
       "      <td>NEWS</td>\n",
       "    </tr>\n",
       "    <tr>\n",
       "      <th>110</th>\n",
       "      <td>NEWS</td>\n",
       "      <td>www.yourhtmlsource.com</td>\n",
       "      <td>NEWS</td>\n",
       "      <td>TRAINING</td>\n",
       "      <td>TRAINING</td>\n",
       "      <td>TRAINING</td>\n",
       "      <td>TRAINING</td>\n",
       "    </tr>\n",
       "    <tr>\n",
       "      <th>...</th>\n",
       "      <td>...</td>\n",
       "      <td>...</td>\n",
       "      <td>...</td>\n",
       "      <td>...</td>\n",
       "      <td>...</td>\n",
       "      <td>...</td>\n",
       "      <td>...</td>\n",
       "    </tr>\n",
       "    <tr>\n",
       "      <th>709</th>\n",
       "      <td>TRAINING</td>\n",
       "      <td>presentations.survivejs.com</td>\n",
       "      <td>PACKAGE</td>\n",
       "      <td>PACKAGE</td>\n",
       "      <td>PACKAGE</td>\n",
       "      <td>PACKAGE</td>\n",
       "      <td>PACKAGE</td>\n",
       "    </tr>\n",
       "    <tr>\n",
       "      <th>714</th>\n",
       "      <td>PACKAGE</td>\n",
       "      <td>gruntjs.com</td>\n",
       "      <td>NEWS</td>\n",
       "      <td>PACKAGE</td>\n",
       "      <td>PACKAGE</td>\n",
       "      <td>PACKAGE</td>\n",
       "      <td>PACKAGE</td>\n",
       "    </tr>\n",
       "    <tr>\n",
       "      <th>718</th>\n",
       "      <td>NEWS</td>\n",
       "      <td>content.pivotal.io</td>\n",
       "      <td>NEWS</td>\n",
       "      <td>NEWS</td>\n",
       "      <td>NEWS</td>\n",
       "      <td>NEWS</td>\n",
       "      <td>NEWS</td>\n",
       "    </tr>\n",
       "    <tr>\n",
       "      <th>720</th>\n",
       "      <td>NEWS</td>\n",
       "      <td>jonisalonen.com</td>\n",
       "      <td>NEWS</td>\n",
       "      <td>NEWS</td>\n",
       "      <td>TRAINING</td>\n",
       "      <td>NEWS</td>\n",
       "      <td>NEWS</td>\n",
       "    </tr>\n",
       "    <tr>\n",
       "      <th>723</th>\n",
       "      <td>BUSINESS</td>\n",
       "      <td>software.intel.com</td>\n",
       "      <td>PACKAGE</td>\n",
       "      <td>NEWS</td>\n",
       "      <td>NEWS</td>\n",
       "      <td>NEWS</td>\n",
       "      <td>NEWS</td>\n",
       "    </tr>\n",
       "    <tr>\n",
       "      <th>725</th>\n",
       "      <td>PACKAGE</td>\n",
       "      <td>requirejs.org</td>\n",
       "      <td>NEWS</td>\n",
       "      <td>PACKAGE</td>\n",
       "      <td>PACKAGE</td>\n",
       "      <td>PACKAGE</td>\n",
       "      <td>PACKAGE</td>\n",
       "    </tr>\n",
       "    <tr>\n",
       "      <th>729</th>\n",
       "      <td>NEWS</td>\n",
       "      <td>blog.chewxy.com</td>\n",
       "      <td>NEWS</td>\n",
       "      <td>NEWS</td>\n",
       "      <td>NEWS</td>\n",
       "      <td>NEWS</td>\n",
       "      <td>NEWS</td>\n",
       "    </tr>\n",
       "    <tr>\n",
       "      <th>733</th>\n",
       "      <td>PACKAGE</td>\n",
       "      <td>emberjs.com</td>\n",
       "      <td>PACKAGE</td>\n",
       "      <td>PACKAGE</td>\n",
       "      <td>PACKAGE</td>\n",
       "      <td>PACKAGE</td>\n",
       "      <td>PACKAGE</td>\n",
       "    </tr>\n",
       "    <tr>\n",
       "      <th>737</th>\n",
       "      <td>BUSINESS</td>\n",
       "      <td>www.mindstick.com</td>\n",
       "      <td>NEWS</td>\n",
       "      <td>BUSINESS</td>\n",
       "      <td>NEWS</td>\n",
       "      <td>NEWS</td>\n",
       "      <td>NEWS</td>\n",
       "    </tr>\n",
       "    <tr>\n",
       "      <th>739</th>\n",
       "      <td>NOCLASS</td>\n",
       "      <td>127.0.0.1:9222</td>\n",
       "      <td>PACKAGE</td>\n",
       "      <td>NEWS</td>\n",
       "      <td>PACKAGE</td>\n",
       "      <td>PACKAGE</td>\n",
       "      <td>PACKAGE</td>\n",
       "    </tr>\n",
       "    <tr>\n",
       "      <th>748</th>\n",
       "      <td>NEWS</td>\n",
       "      <td>naimhamadi.wordpress.com</td>\n",
       "      <td>NEWS</td>\n",
       "      <td>NEWS</td>\n",
       "      <td>THEME</td>\n",
       "      <td>NEWS</td>\n",
       "      <td>NEWS</td>\n",
       "    </tr>\n",
       "    <tr>\n",
       "      <th>754</th>\n",
       "      <td>PACKAGE</td>\n",
       "      <td>compass-style.org</td>\n",
       "      <td>PACKAGE</td>\n",
       "      <td>PACKAGE</td>\n",
       "      <td>PACKAGE</td>\n",
       "      <td>PACKAGE</td>\n",
       "      <td>PACKAGE</td>\n",
       "    </tr>\n",
       "    <tr>\n",
       "      <th>755</th>\n",
       "      <td>TRAINING</td>\n",
       "      <td>css-101.org</td>\n",
       "      <td>PACKAGE</td>\n",
       "      <td>PACKAGE</td>\n",
       "      <td>TRAINING</td>\n",
       "      <td>PACKAGE</td>\n",
       "      <td>PACKAGE</td>\n",
       "    </tr>\n",
       "    <tr>\n",
       "      <th>765</th>\n",
       "      <td>NEWS</td>\n",
       "      <td>burnignorance.com</td>\n",
       "      <td>NEWS</td>\n",
       "      <td>NEWS</td>\n",
       "      <td>NEWS</td>\n",
       "      <td>NEWS</td>\n",
       "      <td>NEWS</td>\n",
       "    </tr>\n",
       "    <tr>\n",
       "      <th>768</th>\n",
       "      <td>TRAINING</td>\n",
       "      <td>www.impressivewebs.com</td>\n",
       "      <td>TRAINING</td>\n",
       "      <td>TRAINING</td>\n",
       "      <td>TRAINING</td>\n",
       "      <td>TRAINING</td>\n",
       "      <td>TRAINING</td>\n",
       "    </tr>\n",
       "    <tr>\n",
       "      <th>774</th>\n",
       "      <td>REPL</td>\n",
       "      <td>html5.validator.nu</td>\n",
       "      <td>PACKAGE</td>\n",
       "      <td>PACKAGE</td>\n",
       "      <td>PACKAGE</td>\n",
       "      <td>PACKAGE</td>\n",
       "      <td>PACKAGE</td>\n",
       "    </tr>\n",
       "    <tr>\n",
       "      <th>778</th>\n",
       "      <td>NEWS</td>\n",
       "      <td>www.codeproject.com</td>\n",
       "      <td>NEWS</td>\n",
       "      <td>NEWS</td>\n",
       "      <td>NEWS</td>\n",
       "      <td>NEWS</td>\n",
       "      <td>NEWS</td>\n",
       "    </tr>\n",
       "    <tr>\n",
       "      <th>779</th>\n",
       "      <td>BUSINESS</td>\n",
       "      <td>belardesign.com</td>\n",
       "      <td>BUSINESS</td>\n",
       "      <td>BUSINESS</td>\n",
       "      <td>BUSINESS</td>\n",
       "      <td>BUSINESS</td>\n",
       "      <td>BUSINESS</td>\n",
       "    </tr>\n",
       "    <tr>\n",
       "      <th>786</th>\n",
       "      <td>NOCLASS</td>\n",
       "      <td>fonts.googlrapis.com</td>\n",
       "      <td>PACKAGE</td>\n",
       "      <td>PACKAGE</td>\n",
       "      <td>PACKAGE</td>\n",
       "      <td>PACKAGE</td>\n",
       "      <td>PACKAGE</td>\n",
       "    </tr>\n",
       "    <tr>\n",
       "      <th>789</th>\n",
       "      <td>BUSINESS</td>\n",
       "      <td>valor-software.com</td>\n",
       "      <td>BUSINESS</td>\n",
       "      <td>BUSINESS</td>\n",
       "      <td>BUSINESS</td>\n",
       "      <td>BUSINESS</td>\n",
       "      <td>BUSINESS</td>\n",
       "    </tr>\n",
       "    <tr>\n",
       "      <th>795</th>\n",
       "      <td>NOCLASS</td>\n",
       "      <td>www.purplelion.com</td>\n",
       "      <td>NOCLASS</td>\n",
       "      <td>PACKAGE</td>\n",
       "      <td>NOCLASS</td>\n",
       "      <td>NOCLASS</td>\n",
       "      <td>NOCLASS</td>\n",
       "    </tr>\n",
       "    <tr>\n",
       "      <th>796</th>\n",
       "      <td>TRAINING</td>\n",
       "      <td>learnwebcode.com</td>\n",
       "      <td>TRAINING</td>\n",
       "      <td>PACKAGE</td>\n",
       "      <td>TRAINING</td>\n",
       "      <td>TRAINING</td>\n",
       "      <td>TRAINING</td>\n",
       "    </tr>\n",
       "    <tr>\n",
       "      <th>799</th>\n",
       "      <td>NOCLASS</td>\n",
       "      <td>http:\\\\https:</td>\n",
       "      <td>NOCLASS</td>\n",
       "      <td>NEWS</td>\n",
       "      <td>NOCLASS</td>\n",
       "      <td>NOCLASS</td>\n",
       "      <td>NOCLASS</td>\n",
       "    </tr>\n",
       "    <tr>\n",
       "      <th>803</th>\n",
       "      <td>COMMUITY</td>\n",
       "      <td>platform.twitter.com</td>\n",
       "      <td>COMMUITY</td>\n",
       "      <td>PACKAGE</td>\n",
       "      <td>COMMUITY</td>\n",
       "      <td>COMMUITY</td>\n",
       "      <td>COMMUITY</td>\n",
       "    </tr>\n",
       "    <tr>\n",
       "      <th>804</th>\n",
       "      <td>REPL</td>\n",
       "      <td>www.jdoodle.com</td>\n",
       "      <td>REPL</td>\n",
       "      <td>DOCS</td>\n",
       "      <td>REPL</td>\n",
       "      <td>REPL</td>\n",
       "      <td>REPL</td>\n",
       "    </tr>\n",
       "    <tr>\n",
       "      <th>806</th>\n",
       "      <td>BUSINESS</td>\n",
       "      <td>fortysevenmedia.com</td>\n",
       "      <td>BUSINESS</td>\n",
       "      <td>THEME</td>\n",
       "      <td>BUSINESS</td>\n",
       "      <td>BUSINESS</td>\n",
       "      <td>BUSINESS</td>\n",
       "    </tr>\n",
       "    <tr>\n",
       "      <th>807</th>\n",
       "      <td>NEWS</td>\n",
       "      <td>syddev.com</td>\n",
       "      <td>NEWS</td>\n",
       "      <td>NEWS</td>\n",
       "      <td>NEWS</td>\n",
       "      <td>NEWS</td>\n",
       "      <td>NEWS</td>\n",
       "    </tr>\n",
       "    <tr>\n",
       "      <th>812</th>\n",
       "      <td>NEWS</td>\n",
       "      <td>blogs.adobe.com</td>\n",
       "      <td>NEWS</td>\n",
       "      <td>NEWS</td>\n",
       "      <td>NEWS</td>\n",
       "      <td>NEWS</td>\n",
       "      <td>NEWS</td>\n",
       "    </tr>\n",
       "    <tr>\n",
       "      <th>813</th>\n",
       "      <td>NEWS</td>\n",
       "      <td>www.codescratcher.com</td>\n",
       "      <td>NEWS</td>\n",
       "      <td>THEME</td>\n",
       "      <td>NEWS</td>\n",
       "      <td>NEWS</td>\n",
       "      <td>NEWS</td>\n",
       "    </tr>\n",
       "    <tr>\n",
       "      <th>817</th>\n",
       "      <td>NEWS</td>\n",
       "      <td>javascriptplayground.com</td>\n",
       "      <td>NEWS</td>\n",
       "      <td>NEWS</td>\n",
       "      <td>NEWS</td>\n",
       "      <td>NEWS</td>\n",
       "      <td>NEWS</td>\n",
       "    </tr>\n",
       "  </tbody>\n",
       "</table>\n",
       "<p>200 rows × 7 columns</p>\n",
       "</div>"
      ],
      "text/plain": [
       "     category                     platform pred_dtada  pred_dth pred_svch  \\\n",
       "3     PACKAGE           www.highcharts.com       NEWS      NEWS      NEWS   \n",
       "5     PACKAGE           quotesondesign.com       NEWS      NEWS   PACKAGE   \n",
       "9     PACKAGE              flipclockjs.com    NOCLASS   PACKAGE   PACKAGE   \n",
       "14    PACKAGE                   meanjs.org       NEWS   PACKAGE   PACKAGE   \n",
       "15    PACKAGE           openweathermap.org      THEME   PACKAGE   PACKAGE   \n",
       "17    PACKAGE           api.forismatic.com       NEWS      NEWS   PACKAGE   \n",
       "22    PACKAGE                   mathjs.org    PACKAGE   PACKAGE   PACKAGE   \n",
       "29    PACKAGE                   chaijs.com    PACKAGE   PACKAGE   PACKAGE   \n",
       "34    PACKAGE                    ipinfo.io    PACKAGE   PACKAGE   PACKAGE   \n",
       "36    PACKAGE            www.mediawiki.org    PACKAGE     THEME   PACKAGE   \n",
       "43    PACKAGE                angularjs.org       NEWS      NEWS   PACKAGE   \n",
       "44    PACKAGE       www.angular-meteor.com       NEWS  TRAINING   PACKAGE   \n",
       "50    PACKAGE                   babeljs.io    PACKAGE   PACKAGE   PACKAGE   \n",
       "64    PACKAGE              highlightjs.org    PACKAGE      NEWS   PACKAGE   \n",
       "70    PACKAGE                  jsonapi.org    PACKAGE      REPL   PACKAGE   \n",
       "72    PACKAGE          maps.googleapis.com    PACKAGE      NEWS   PACKAGE   \n",
       "74    PACKAGE              mdbootstrap.com       NEWS      NEWS      NEWS   \n",
       "76    PACKAGE                  crossorigin    PACKAGE   NOCLASS   NOCLASS   \n",
       "77    PACKAGE                   npmcdn.com    PACKAGE   PACKAGE   PACKAGE   \n",
       "80    PACKAGE            packagecontrol.io       NEWS   PACKAGE   PACKAGE   \n",
       "81    PACKAGE            api.walkscore.com    PACKAGE     THEME   PACKAGE   \n",
       "84    PACKAGE        expo.getbootstrap.com    PACKAGE   PACKAGE   PACKAGE   \n",
       "85    PACKAGE               www.muicss.com    PACKAGE   PACKAGE   PACKAGE   \n",
       "86    PACKAGE      code.ionicframework.com    NOCLASS   PACKAGE   PACKAGE   \n",
       "88    PACKAGE             startupquote.com    PACKAGE      NEWS   PACKAGE   \n",
       "90    PACKAGE         www.bootstrapcdn.com       NEWS     THEME     THEME   \n",
       "94    PACKAGE                   ip-api.com       DOCS      PAAS   PACKAGE   \n",
       "98    PACKAGE      netdna.bootstrapcdn.com    NOCLASS   PACKAGE   NOCLASS   \n",
       "104      NEWS     www.justinmccandless.com       NEWS      DOCS      NEWS   \n",
       "110      NEWS       www.yourhtmlsource.com       NEWS  TRAINING  TRAINING   \n",
       "..        ...                          ...        ...       ...       ...   \n",
       "709  TRAINING  presentations.survivejs.com    PACKAGE   PACKAGE   PACKAGE   \n",
       "714   PACKAGE                  gruntjs.com       NEWS   PACKAGE   PACKAGE   \n",
       "718      NEWS           content.pivotal.io       NEWS      NEWS      NEWS   \n",
       "720      NEWS              jonisalonen.com       NEWS      NEWS  TRAINING   \n",
       "723  BUSINESS           software.intel.com    PACKAGE      NEWS      NEWS   \n",
       "725   PACKAGE                requirejs.org       NEWS   PACKAGE   PACKAGE   \n",
       "729      NEWS              blog.chewxy.com       NEWS      NEWS      NEWS   \n",
       "733   PACKAGE                  emberjs.com    PACKAGE   PACKAGE   PACKAGE   \n",
       "737  BUSINESS            www.mindstick.com       NEWS  BUSINESS      NEWS   \n",
       "739   NOCLASS               127.0.0.1:9222    PACKAGE      NEWS   PACKAGE   \n",
       "748      NEWS     naimhamadi.wordpress.com       NEWS      NEWS     THEME   \n",
       "754   PACKAGE            compass-style.org    PACKAGE   PACKAGE   PACKAGE   \n",
       "755  TRAINING                  css-101.org    PACKAGE   PACKAGE  TRAINING   \n",
       "765      NEWS            burnignorance.com       NEWS      NEWS      NEWS   \n",
       "768  TRAINING       www.impressivewebs.com   TRAINING  TRAINING  TRAINING   \n",
       "774      REPL           html5.validator.nu    PACKAGE   PACKAGE   PACKAGE   \n",
       "778      NEWS          www.codeproject.com       NEWS      NEWS      NEWS   \n",
       "779  BUSINESS              belardesign.com   BUSINESS  BUSINESS  BUSINESS   \n",
       "786   NOCLASS         fonts.googlrapis.com    PACKAGE   PACKAGE   PACKAGE   \n",
       "789  BUSINESS           valor-software.com   BUSINESS  BUSINESS  BUSINESS   \n",
       "795   NOCLASS           www.purplelion.com    NOCLASS   PACKAGE   NOCLASS   \n",
       "796  TRAINING             learnwebcode.com   TRAINING   PACKAGE  TRAINING   \n",
       "799   NOCLASS                http:\\\\https:    NOCLASS      NEWS   NOCLASS   \n",
       "803  COMMUITY         platform.twitter.com   COMMUITY   PACKAGE  COMMUITY   \n",
       "804      REPL              www.jdoodle.com       REPL      DOCS      REPL   \n",
       "806  BUSINESS          fortysevenmedia.com   BUSINESS     THEME  BUSINESS   \n",
       "807      NEWS                   syddev.com       NEWS      NEWS      NEWS   \n",
       "812      NEWS              blogs.adobe.com       NEWS      NEWS      NEWS   \n",
       "813      NEWS        www.codescratcher.com       NEWS     THEME      NEWS   \n",
       "817      NEWS     javascriptplayground.com       NEWS      NEWS      NEWS   \n",
       "\n",
       "    pred_agg1 pred_agg2  \n",
       "3        NEWS      NEWS  \n",
       "5        NEWS      NEWS  \n",
       "9     PACKAGE   PACKAGE  \n",
       "14    PACKAGE   PACKAGE  \n",
       "15    PACKAGE   PACKAGE  \n",
       "17       NEWS      NEWS  \n",
       "22    PACKAGE   PACKAGE  \n",
       "29    PACKAGE   PACKAGE  \n",
       "34    PACKAGE   PACKAGE  \n",
       "36    PACKAGE   PACKAGE  \n",
       "43       NEWS      NEWS  \n",
       "44    PACKAGE  TRAINING  \n",
       "50    PACKAGE   PACKAGE  \n",
       "64    PACKAGE   PACKAGE  \n",
       "70    PACKAGE   PACKAGE  \n",
       "72    PACKAGE   PACKAGE  \n",
       "74       NEWS      NEWS  \n",
       "76    NOCLASS   NOCLASS  \n",
       "77    PACKAGE   PACKAGE  \n",
       "80    PACKAGE   PACKAGE  \n",
       "81    PACKAGE   PACKAGE  \n",
       "84    PACKAGE   PACKAGE  \n",
       "85    PACKAGE   PACKAGE  \n",
       "86    PACKAGE   PACKAGE  \n",
       "88    PACKAGE   PACKAGE  \n",
       "90      THEME     THEME  \n",
       "94    PACKAGE      PAAS  \n",
       "98    NOCLASS   NOCLASS  \n",
       "104      NEWS      NEWS  \n",
       "110  TRAINING  TRAINING  \n",
       "..        ...       ...  \n",
       "709   PACKAGE   PACKAGE  \n",
       "714   PACKAGE   PACKAGE  \n",
       "718      NEWS      NEWS  \n",
       "720      NEWS      NEWS  \n",
       "723      NEWS      NEWS  \n",
       "725   PACKAGE   PACKAGE  \n",
       "729      NEWS      NEWS  \n",
       "733   PACKAGE   PACKAGE  \n",
       "737      NEWS      NEWS  \n",
       "739   PACKAGE   PACKAGE  \n",
       "748      NEWS      NEWS  \n",
       "754   PACKAGE   PACKAGE  \n",
       "755   PACKAGE   PACKAGE  \n",
       "765      NEWS      NEWS  \n",
       "768  TRAINING  TRAINING  \n",
       "774   PACKAGE   PACKAGE  \n",
       "778      NEWS      NEWS  \n",
       "779  BUSINESS  BUSINESS  \n",
       "786   PACKAGE   PACKAGE  \n",
       "789  BUSINESS  BUSINESS  \n",
       "795   NOCLASS   NOCLASS  \n",
       "796  TRAINING  TRAINING  \n",
       "799   NOCLASS   NOCLASS  \n",
       "803  COMMUITY  COMMUITY  \n",
       "804      REPL      REPL  \n",
       "806  BUSINESS  BUSINESS  \n",
       "807      NEWS      NEWS  \n",
       "812      NEWS      NEWS  \n",
       "813      NEWS      NEWS  \n",
       "817      NEWS      NEWS  \n",
       "\n",
       "[200 rows x 7 columns]"
      ]
     },
     "execution_count": 338,
     "metadata": {},
     "output_type": "execute_result"
    }
   ],
   "source": [
    "pd_predaggregate.head(200)"
   ]
  },
  {
   "cell_type": "code",
   "execution_count": 339,
   "metadata": {
    "collapsed": false,
    "scrolled": true
   },
   "outputs": [
    {
     "name": "stdout",
     "output_type": "stream",
     "text": [
      "             precision    recall  f1-score   support\n",
      "\n",
      "   BUSINESS       0.80      0.57      0.67        14\n",
      "   COMMUITY       1.00      0.64      0.78        11\n",
      "       DOCS       0.83      0.71      0.77         7\n",
      "  ECOMMERCE       0.00      0.00      0.00         0\n",
      "       NEWS       0.71      0.82      0.76       108\n",
      "    NOCLASS       0.44      0.47      0.45        15\n",
      "       PAAS       1.00      0.11      0.20         9\n",
      "    PACKAGE       0.51      0.58      0.54        59\n",
      "       REPL       0.69      0.50      0.58        18\n",
      "    REVIEWS       1.00      1.00      1.00         1\n",
      "    SENGINE       0.00      0.00      0.00         1\n",
      "      THEME       0.83      0.62      0.71         8\n",
      "   TRAINING       0.76      0.68      0.72        41\n",
      "\n",
      "avg / total       0.69      0.66      0.66       292\n",
      "\n",
      "             precision    recall  f1-score   support\n",
      "\n",
      "   BUSINESS       0.47      0.50      0.48        14\n",
      "   COMMUITY       0.71      0.45      0.56        11\n",
      "       DOCS       0.33      0.71      0.45         7\n",
      "  ECOMMERCE       0.00      0.00      0.00         0\n",
      "       NEWS       0.70      0.71      0.71       108\n",
      "    NOCLASS       0.38      0.40      0.39        15\n",
      "       PAAS       0.00      0.00      0.00         9\n",
      "    PACKAGE       0.52      0.59      0.56        59\n",
      "       REPL       0.44      0.22      0.30        18\n",
      "    REVIEWS       0.00      0.00      0.00         1\n",
      "    SENGINE       0.00      0.00      0.00         1\n",
      "      THEME       0.12      0.25      0.17         8\n",
      "   TRAINING       0.66      0.46      0.54        41\n",
      "\n",
      "avg / total       0.56      0.55      0.55       292\n",
      "\n",
      "             precision    recall  f1-score   support\n",
      "\n",
      "   BUSINESS       1.00      0.57      0.73        14\n",
      "   COMMUITY       1.00      0.73      0.84        11\n",
      "       DOCS       1.00      0.71      0.83         7\n",
      "       NEWS       0.81      0.86      0.83       108\n",
      "    NOCLASS       0.50      0.53      0.52        15\n",
      "       PAAS       1.00      0.11      0.20         9\n",
      "    PACKAGE       0.65      0.81      0.72        59\n",
      "       REPL       0.91      0.56      0.69        18\n",
      "    REVIEWS       1.00      1.00      1.00         1\n",
      "    SENGINE       0.00      0.00      0.00         1\n",
      "      THEME       0.50      0.88      0.64         8\n",
      "   TRAINING       0.72      0.68      0.70        41\n",
      "\n",
      "avg / total       0.77      0.74      0.74       292\n",
      "\n",
      "             precision    recall  f1-score   support\n",
      "\n",
      "   BUSINESS       0.89      0.57      0.70        14\n",
      "   COMMUITY       1.00      0.73      0.84        11\n",
      "       DOCS       1.00      0.71      0.83         7\n",
      "       NEWS       0.79      0.90      0.84       108\n",
      "    NOCLASS       0.50      0.53      0.52        15\n",
      "       PAAS       1.00      0.11      0.20         9\n",
      "    PACKAGE       0.62      0.76      0.68        59\n",
      "       REPL       0.90      0.50      0.64        18\n",
      "    REVIEWS       1.00      1.00      1.00         1\n",
      "    SENGINE       0.00      0.00      0.00         1\n",
      "      THEME       0.55      0.75      0.63         8\n",
      "   TRAINING       0.74      0.63      0.68        41\n",
      "\n",
      "avg / total       0.76      0.73      0.72       292\n",
      "\n",
      "             precision    recall  f1-score   support\n",
      "\n",
      "   BUSINESS       0.67      0.57      0.62        14\n",
      "   COMMUITY       1.00      0.73      0.84        11\n",
      "       DOCS       0.64      1.00      0.78         7\n",
      "  ECOMMERCE       0.00      0.00      0.00         0\n",
      "       NEWS       0.80      0.84      0.82       108\n",
      "    NOCLASS       0.56      0.60      0.58        15\n",
      "       PAAS       0.50      0.11      0.18         9\n",
      "    PACKAGE       0.64      0.73      0.68        59\n",
      "       REPL       0.75      0.50      0.60        18\n",
      "    REVIEWS       1.00      1.00      1.00         1\n",
      "    SENGINE       0.00      0.00      0.00         1\n",
      "      THEME       0.56      0.62      0.59         8\n",
      "   TRAINING       0.68      0.63      0.66        41\n",
      "\n",
      "avg / total       0.72      0.71      0.71       292\n",
      "\n"
     ]
    },
    {
     "name": "stderr",
     "output_type": "stream",
     "text": [
      "/home/ec/anaconda3/lib/python3.5/site-packages/sklearn/metrics/classification.py:1113: UndefinedMetricWarning: Precision and F-score are ill-defined and being set to 0.0 in labels with no predicted samples.\n",
      "  'precision', 'predicted', average, warn_for)\n",
      "/home/ec/anaconda3/lib/python3.5/site-packages/sklearn/metrics/classification.py:1115: UndefinedMetricWarning: Recall and F-score are ill-defined and being set to 0.0 in labels with no true samples.\n",
      "  'recall', 'true', average, warn_for)\n"
     ]
    }
   ],
   "source": [
    "print(classification_report(pd_predaggregate['category'], pd_predaggregate['pred_dtada']))\n",
    "print(classification_report(pd_predaggregate['category'], pd_predaggregate['pred_dth']))\n",
    "print(classification_report(pd_predaggregate['category'], pd_predaggregate['pred_svch']))\n",
    "print(classification_report(pd_predaggregate['category'], pd_predaggregate['pred_agg1']))\n",
    "print(classification_report(pd_predaggregate['category'], pd_predaggregate['pred_agg2']))"
   ]
  },
  {
   "cell_type": "code",
   "execution_count": 340,
   "metadata": {
    "collapsed": true
   },
   "outputs": [],
   "source": [
    "def confmat1(x):\n",
    "    if x.pred_agg1 == x.category:\n",
    "        return x.pred_agg1+'_T'\n",
    "    else:\n",
    "        return x.pred_agg1+'_F'\n",
    "\n",
    "def confmat2(x):\n",
    "    if x.pred_agg2 == x.category:\n",
    "        return x.pred_agg2+'_T'\n",
    "    else:\n",
    "        return x.pred_agg2+'_F'"
   ]
  },
  {
   "cell_type": "code",
   "execution_count": 341,
   "metadata": {
    "collapsed": true
   },
   "outputs": [],
   "source": [
    "#pd_predaggregate['pred_agg1_cm'] = ''\n",
    "#pd_predaggregate['pred_agg1_cm'] = pd_predaggregate.apply(confmat1, axis=1)\n",
    "#pd_predaggregate['pred_agg2_cm'] = ''\n",
    "#pd_predaggregate['pred_agg2_cm'] = pd_predaggregate.apply(confmat2, axis=1)"
   ]
  },
  {
   "cell_type": "code",
   "execution_count": 342,
   "metadata": {
    "collapsed": false,
    "scrolled": true
   },
   "outputs": [
    {
     "data": {
      "text/html": [
       "<div>\n",
       "<table border=\"1\" class=\"dataframe\">\n",
       "  <thead>\n",
       "    <tr style=\"text-align: right;\">\n",
       "      <th></th>\n",
       "      <th>category</th>\n",
       "      <th>platform</th>\n",
       "      <th>pred_dtada</th>\n",
       "      <th>pred_dth</th>\n",
       "      <th>pred_svch</th>\n",
       "      <th>pred_agg1</th>\n",
       "      <th>pred_agg2</th>\n",
       "    </tr>\n",
       "  </thead>\n",
       "  <tbody>\n",
       "    <tr>\n",
       "      <th>3</th>\n",
       "      <td>PACKAGE</td>\n",
       "      <td>www.highcharts.com</td>\n",
       "      <td>NEWS</td>\n",
       "      <td>NEWS</td>\n",
       "      <td>NEWS</td>\n",
       "      <td>NEWS</td>\n",
       "      <td>NEWS</td>\n",
       "    </tr>\n",
       "    <tr>\n",
       "      <th>5</th>\n",
       "      <td>PACKAGE</td>\n",
       "      <td>quotesondesign.com</td>\n",
       "      <td>NEWS</td>\n",
       "      <td>NEWS</td>\n",
       "      <td>PACKAGE</td>\n",
       "      <td>NEWS</td>\n",
       "      <td>NEWS</td>\n",
       "    </tr>\n",
       "    <tr>\n",
       "      <th>9</th>\n",
       "      <td>PACKAGE</td>\n",
       "      <td>flipclockjs.com</td>\n",
       "      <td>NOCLASS</td>\n",
       "      <td>PACKAGE</td>\n",
       "      <td>PACKAGE</td>\n",
       "      <td>PACKAGE</td>\n",
       "      <td>PACKAGE</td>\n",
       "    </tr>\n",
       "    <tr>\n",
       "      <th>14</th>\n",
       "      <td>PACKAGE</td>\n",
       "      <td>meanjs.org</td>\n",
       "      <td>NEWS</td>\n",
       "      <td>PACKAGE</td>\n",
       "      <td>PACKAGE</td>\n",
       "      <td>PACKAGE</td>\n",
       "      <td>PACKAGE</td>\n",
       "    </tr>\n",
       "    <tr>\n",
       "      <th>15</th>\n",
       "      <td>PACKAGE</td>\n",
       "      <td>openweathermap.org</td>\n",
       "      <td>THEME</td>\n",
       "      <td>PACKAGE</td>\n",
       "      <td>PACKAGE</td>\n",
       "      <td>PACKAGE</td>\n",
       "      <td>PACKAGE</td>\n",
       "    </tr>\n",
       "  </tbody>\n",
       "</table>\n",
       "</div>"
      ],
      "text/plain": [
       "   category            platform pred_dtada pred_dth pred_svch pred_agg1  \\\n",
       "3   PACKAGE  www.highcharts.com       NEWS     NEWS      NEWS      NEWS   \n",
       "5   PACKAGE  quotesondesign.com       NEWS     NEWS   PACKAGE      NEWS   \n",
       "9   PACKAGE     flipclockjs.com    NOCLASS  PACKAGE   PACKAGE   PACKAGE   \n",
       "14  PACKAGE          meanjs.org       NEWS  PACKAGE   PACKAGE   PACKAGE   \n",
       "15  PACKAGE  openweathermap.org      THEME  PACKAGE   PACKAGE   PACKAGE   \n",
       "\n",
       "   pred_agg2  \n",
       "3       NEWS  \n",
       "5       NEWS  \n",
       "9    PACKAGE  \n",
       "14   PACKAGE  \n",
       "15   PACKAGE  "
      ]
     },
     "execution_count": 342,
     "metadata": {},
     "output_type": "execute_result"
    }
   ],
   "source": [
    "pd_predaggregate.head()"
   ]
  },
  {
   "cell_type": "code",
   "execution_count": 343,
   "metadata": {
    "collapsed": false,
    "scrolled": true
   },
   "outputs": [],
   "source": [
    "#print(classification_report(pd_predaggregate['pred_agg1_cm'], pd_predaggregate['pred_agg2_cm']))\n",
    "#print(classification_report(pd_predaggregate['pred_agg2_cm'], pd_predaggregate['pred_agg1_cm']))"
   ]
  },
  {
   "cell_type": "code",
   "execution_count": 344,
   "metadata": {
    "collapsed": false
   },
   "outputs": [],
   "source": [
    "#pd_predaggregate.groupby(['pred_agg1_cm'])['pred_agg2_cm'].count()\n",
    "#pd_predaggregate.loc[pd_predaggregate.pred_agg1_cm == 'TRAINING_T',:].shape"
   ]
  },
  {
   "cell_type": "code",
   "execution_count": 345,
   "metadata": {
    "collapsed": false,
    "scrolled": true
   },
   "outputs": [
    {
     "ename": "SyntaxError",
     "evalue": "invalid syntax (<ipython-input-345-d5af98942240>, line 1)",
     "output_type": "error",
     "traceback": [
      "\u001b[1;36m  File \u001b[1;32m\"<ipython-input-345-d5af98942240>\"\u001b[1;36m, line \u001b[1;32m1\u001b[0m\n\u001b[1;33m    STOP HERE!\u001b[0m\n\u001b[1;37m            ^\u001b[0m\n\u001b[1;31mSyntaxError\u001b[0m\u001b[1;31m:\u001b[0m invalid syntax\n"
     ]
    }
   ],
   "source": [
    "STOP HERE!"
   ]
  },
  {
   "cell_type": "markdown",
   "metadata": {
    "collapsed": true
   },
   "source": [
    "# New Analysis...\n",
    "\n",
    "### References:\n",
    "\n",
    "* https://de.dariah.eu/tatom/working_with_text.html"
   ]
  },
  {
   "cell_type": "code",
   "execution_count": 145,
   "metadata": {
    "collapsed": false
   },
   "outputs": [],
   "source": [
    "training = ' '.join(pd_annotated.loc[pd_annotated['category']=='TRAINING','alltext'])"
   ]
  },
  {
   "cell_type": "code",
   "execution_count": 169,
   "metadata": {
    "collapsed": false
   },
   "outputs": [],
   "source": [
    "trainingtest = countmod.transform([training])"
   ]
  },
  {
   "cell_type": "code",
   "execution_count": 154,
   "metadata": {
    "collapsed": false
   },
   "outputs": [],
   "source": [
    "notraining = ' '.join(pd_annotated.loc[pd_annotated['category']!='TRAINING','alltext'])"
   ]
  },
  {
   "cell_type": "code",
   "execution_count": 170,
   "metadata": {
    "collapsed": true
   },
   "outputs": [],
   "source": [
    "notrainingtest = countmod.transform([notraining])"
   ]
  },
  {
   "cell_type": "code",
   "execution_count": 163,
   "metadata": {
    "collapsed": true
   },
   "outputs": [],
   "source": [
    "from sklearn.metrics.pairwise import cosine_similarity, cosine_distances"
   ]
  },
  {
   "cell_type": "code",
   "execution_count": 158,
   "metadata": {
    "collapsed": false
   },
   "outputs": [
    {
     "ename": "MemoryError",
     "evalue": "",
     "output_type": "error",
     "traceback": [
      "\u001b[1;31m---------------------------------------------------------------------------\u001b[0m",
      "\u001b[1;31mMemoryError\u001b[0m                               Traceback (most recent call last)",
      "\u001b[1;32m<ipython-input-158-cd291c691e15>\u001b[0m in \u001b[0;36m<module>\u001b[1;34m()\u001b[0m\n\u001b[1;32m----> 1\u001b[1;33m \u001b[0mcosine_similarity\u001b[0m\u001b[1;33m(\u001b[0m\u001b[0mtrainingtest\u001b[0m\u001b[1;33m,\u001b[0m \u001b[0mnotrainingtest\u001b[0m\u001b[1;33m)\u001b[0m\u001b[1;33m\u001b[0m\u001b[0m\n\u001b[0m",
      "\u001b[1;32m/home/ec/anaconda3/lib/python3.5/site-packages/sklearn/metrics/pairwise.py\u001b[0m in \u001b[0;36mcosine_similarity\u001b[1;34m(X, Y, dense_output)\u001b[0m\n\u001b[0;32m    911\u001b[0m         \u001b[0mY_normalized\u001b[0m \u001b[1;33m=\u001b[0m \u001b[0mnormalize\u001b[0m\u001b[1;33m(\u001b[0m\u001b[0mY\u001b[0m\u001b[1;33m,\u001b[0m \u001b[0mcopy\u001b[0m\u001b[1;33m=\u001b[0m\u001b[1;32mTrue\u001b[0m\u001b[1;33m)\u001b[0m\u001b[1;33m\u001b[0m\u001b[0m\n\u001b[0;32m    912\u001b[0m \u001b[1;33m\u001b[0m\u001b[0m\n\u001b[1;32m--> 913\u001b[1;33m     \u001b[0mK\u001b[0m \u001b[1;33m=\u001b[0m \u001b[0msafe_sparse_dot\u001b[0m\u001b[1;33m(\u001b[0m\u001b[0mX_normalized\u001b[0m\u001b[1;33m,\u001b[0m \u001b[0mY_normalized\u001b[0m\u001b[1;33m.\u001b[0m\u001b[0mT\u001b[0m\u001b[1;33m,\u001b[0m \u001b[0mdense_output\u001b[0m\u001b[1;33m=\u001b[0m\u001b[0mdense_output\u001b[0m\u001b[1;33m)\u001b[0m\u001b[1;33m\u001b[0m\u001b[0m\n\u001b[0m\u001b[0;32m    914\u001b[0m \u001b[1;33m\u001b[0m\u001b[0m\n\u001b[0;32m    915\u001b[0m     \u001b[1;32mreturn\u001b[0m \u001b[0mK\u001b[0m\u001b[1;33m\u001b[0m\u001b[0m\n",
      "\u001b[1;32m/home/ec/anaconda3/lib/python3.5/site-packages/sklearn/utils/extmath.py\u001b[0m in \u001b[0;36msafe_sparse_dot\u001b[1;34m(a, b, dense_output)\u001b[0m\n\u001b[0;32m    184\u001b[0m         \u001b[0mret\u001b[0m \u001b[1;33m=\u001b[0m \u001b[0ma\u001b[0m \u001b[1;33m*\u001b[0m \u001b[0mb\u001b[0m\u001b[1;33m\u001b[0m\u001b[0m\n\u001b[0;32m    185\u001b[0m         \u001b[1;32mif\u001b[0m \u001b[0mdense_output\u001b[0m \u001b[1;32mand\u001b[0m \u001b[0mhasattr\u001b[0m\u001b[1;33m(\u001b[0m\u001b[0mret\u001b[0m\u001b[1;33m,\u001b[0m \u001b[1;34m\"toarray\"\u001b[0m\u001b[1;33m)\u001b[0m\u001b[1;33m:\u001b[0m\u001b[1;33m\u001b[0m\u001b[0m\n\u001b[1;32m--> 186\u001b[1;33m             \u001b[0mret\u001b[0m \u001b[1;33m=\u001b[0m \u001b[0mret\u001b[0m\u001b[1;33m.\u001b[0m\u001b[0mtoarray\u001b[0m\u001b[1;33m(\u001b[0m\u001b[1;33m)\u001b[0m\u001b[1;33m\u001b[0m\u001b[0m\n\u001b[0m\u001b[0;32m    187\u001b[0m         \u001b[1;32mreturn\u001b[0m \u001b[0mret\u001b[0m\u001b[1;33m\u001b[0m\u001b[0m\n\u001b[0;32m    188\u001b[0m     \u001b[1;32melse\u001b[0m\u001b[1;33m:\u001b[0m\u001b[1;33m\u001b[0m\u001b[0m\n",
      "\u001b[1;32m/home/ec/anaconda3/lib/python3.5/site-packages/scipy/sparse/compressed.py\u001b[0m in \u001b[0;36mtoarray\u001b[1;34m(self, order, out)\u001b[0m\n\u001b[0;32m    938\u001b[0m     \u001b[1;32mdef\u001b[0m \u001b[0mtoarray\u001b[0m\u001b[1;33m(\u001b[0m\u001b[0mself\u001b[0m\u001b[1;33m,\u001b[0m \u001b[0morder\u001b[0m\u001b[1;33m=\u001b[0m\u001b[1;32mNone\u001b[0m\u001b[1;33m,\u001b[0m \u001b[0mout\u001b[0m\u001b[1;33m=\u001b[0m\u001b[1;32mNone\u001b[0m\u001b[1;33m)\u001b[0m\u001b[1;33m:\u001b[0m\u001b[1;33m\u001b[0m\u001b[0m\n\u001b[0;32m    939\u001b[0m         \u001b[1;34m\"\"\"See the docstring for `spmatrix.toarray`.\"\"\"\u001b[0m\u001b[1;33m\u001b[0m\u001b[0m\n\u001b[1;32m--> 940\u001b[1;33m         \u001b[1;32mreturn\u001b[0m \u001b[0mself\u001b[0m\u001b[1;33m.\u001b[0m\u001b[0mtocoo\u001b[0m\u001b[1;33m(\u001b[0m\u001b[0mcopy\u001b[0m\u001b[1;33m=\u001b[0m\u001b[1;32mFalse\u001b[0m\u001b[1;33m)\u001b[0m\u001b[1;33m.\u001b[0m\u001b[0mtoarray\u001b[0m\u001b[1;33m(\u001b[0m\u001b[0morder\u001b[0m\u001b[1;33m=\u001b[0m\u001b[0morder\u001b[0m\u001b[1;33m,\u001b[0m \u001b[0mout\u001b[0m\u001b[1;33m=\u001b[0m\u001b[0mout\u001b[0m\u001b[1;33m)\u001b[0m\u001b[1;33m\u001b[0m\u001b[0m\n\u001b[0m\u001b[0;32m    941\u001b[0m \u001b[1;33m\u001b[0m\u001b[0m\n\u001b[0;32m    942\u001b[0m     \u001b[1;31m##############################################################\u001b[0m\u001b[1;33m\u001b[0m\u001b[1;33m\u001b[0m\u001b[0m\n",
      "\u001b[1;32m/home/ec/anaconda3/lib/python3.5/site-packages/scipy/sparse/coo.py\u001b[0m in \u001b[0;36mtoarray\u001b[1;34m(self, order, out)\u001b[0m\n\u001b[0;32m    248\u001b[0m     \u001b[1;32mdef\u001b[0m \u001b[0mtoarray\u001b[0m\u001b[1;33m(\u001b[0m\u001b[0mself\u001b[0m\u001b[1;33m,\u001b[0m \u001b[0morder\u001b[0m\u001b[1;33m=\u001b[0m\u001b[1;32mNone\u001b[0m\u001b[1;33m,\u001b[0m \u001b[0mout\u001b[0m\u001b[1;33m=\u001b[0m\u001b[1;32mNone\u001b[0m\u001b[1;33m)\u001b[0m\u001b[1;33m:\u001b[0m\u001b[1;33m\u001b[0m\u001b[0m\n\u001b[0;32m    249\u001b[0m         \u001b[1;34m\"\"\"See the docstring for `spmatrix.toarray`.\"\"\"\u001b[0m\u001b[1;33m\u001b[0m\u001b[0m\n\u001b[1;32m--> 250\u001b[1;33m         \u001b[0mB\u001b[0m \u001b[1;33m=\u001b[0m \u001b[0mself\u001b[0m\u001b[1;33m.\u001b[0m\u001b[0m_process_toarray_args\u001b[0m\u001b[1;33m(\u001b[0m\u001b[0morder\u001b[0m\u001b[1;33m,\u001b[0m \u001b[0mout\u001b[0m\u001b[1;33m)\u001b[0m\u001b[1;33m\u001b[0m\u001b[0m\n\u001b[0m\u001b[0;32m    251\u001b[0m         \u001b[0mfortran\u001b[0m \u001b[1;33m=\u001b[0m \u001b[0mint\u001b[0m\u001b[1;33m(\u001b[0m\u001b[0mB\u001b[0m\u001b[1;33m.\u001b[0m\u001b[0mflags\u001b[0m\u001b[1;33m.\u001b[0m\u001b[0mf_contiguous\u001b[0m\u001b[1;33m)\u001b[0m\u001b[1;33m\u001b[0m\u001b[0m\n\u001b[0;32m    252\u001b[0m         \u001b[1;32mif\u001b[0m \u001b[1;32mnot\u001b[0m \u001b[0mfortran\u001b[0m \u001b[1;32mand\u001b[0m \u001b[1;32mnot\u001b[0m \u001b[0mB\u001b[0m\u001b[1;33m.\u001b[0m\u001b[0mflags\u001b[0m\u001b[1;33m.\u001b[0m\u001b[0mc_contiguous\u001b[0m\u001b[1;33m:\u001b[0m\u001b[1;33m\u001b[0m\u001b[0m\n",
      "\u001b[1;32m/home/ec/anaconda3/lib/python3.5/site-packages/scipy/sparse/base.py\u001b[0m in \u001b[0;36m_process_toarray_args\u001b[1;34m(self, order, out)\u001b[0m\n\u001b[0;32m    815\u001b[0m             \u001b[1;32mreturn\u001b[0m \u001b[0mout\u001b[0m\u001b[1;33m\u001b[0m\u001b[0m\n\u001b[0;32m    816\u001b[0m         \u001b[1;32melse\u001b[0m\u001b[1;33m:\u001b[0m\u001b[1;33m\u001b[0m\u001b[0m\n\u001b[1;32m--> 817\u001b[1;33m             \u001b[1;32mreturn\u001b[0m \u001b[0mnp\u001b[0m\u001b[1;33m.\u001b[0m\u001b[0mzeros\u001b[0m\u001b[1;33m(\u001b[0m\u001b[0mself\u001b[0m\u001b[1;33m.\u001b[0m\u001b[0mshape\u001b[0m\u001b[1;33m,\u001b[0m \u001b[0mdtype\u001b[0m\u001b[1;33m=\u001b[0m\u001b[0mself\u001b[0m\u001b[1;33m.\u001b[0m\u001b[0mdtype\u001b[0m\u001b[1;33m,\u001b[0m \u001b[0morder\u001b[0m\u001b[1;33m=\u001b[0m\u001b[0morder\u001b[0m\u001b[1;33m)\u001b[0m\u001b[1;33m\u001b[0m\u001b[0m\n\u001b[0m\u001b[0;32m    818\u001b[0m \u001b[1;33m\u001b[0m\u001b[0m\n\u001b[0;32m    819\u001b[0m     \u001b[1;32mdef\u001b[0m \u001b[0m__numpy_ufunc__\u001b[0m\u001b[1;33m(\u001b[0m\u001b[0mself\u001b[0m\u001b[1;33m,\u001b[0m \u001b[0mfunc\u001b[0m\u001b[1;33m,\u001b[0m \u001b[0mmethod\u001b[0m\u001b[1;33m,\u001b[0m \u001b[0mpos\u001b[0m\u001b[1;33m,\u001b[0m \u001b[0minputs\u001b[0m\u001b[1;33m,\u001b[0m \u001b[1;33m**\u001b[0m\u001b[0mkwargs\u001b[0m\u001b[1;33m)\u001b[0m\u001b[1;33m:\u001b[0m\u001b[1;33m\u001b[0m\u001b[0m\n",
      "\u001b[1;31mMemoryError\u001b[0m: "
     ]
    }
   ],
   "source": [
    "cosine_similarity(trainingtest, notrainingtest)"
   ]
  },
  {
   "cell_type": "code",
   "execution_count": 159,
   "metadata": {
    "collapsed": true
   },
   "outputs": [],
   "source": [
    "t = pd_annotated.loc[pd_annotated['category']!='TRAINING','alltext'][0]"
   ]
  },
  {
   "cell_type": "code",
   "execution_count": 160,
   "metadata": {
    "collapsed": false
   },
   "outputs": [
    {
     "data": {
      "text/plain": [
       "'  components clearfix world carousel buttons helpers images utilities button easy modal group tooltips vertical scrollspy introduction framework grid layout breadcrumb building js bootstrap css borders navs popular alerts responsive content typography get started html overview align migration spacing top collapse dropdowns navbar web card getting figures progress javascript fixed jumbotron mobile flexbox navbars projects examples first'"
      ]
     },
     "execution_count": 160,
     "metadata": {},
     "output_type": "execute_result"
    }
   ],
   "source": [
    "t"
   ]
  },
  {
   "cell_type": "code",
   "execution_count": 171,
   "metadata": {
    "collapsed": true
   },
   "outputs": [],
   "source": [
    "tt = countmod.transform([t])"
   ]
  },
  {
   "cell_type": "code",
   "execution_count": 172,
   "metadata": {
    "collapsed": false
   },
   "outputs": [
    {
     "data": {
      "text/plain": [
       "array([[ 0.23867246]])"
      ]
     },
     "execution_count": 172,
     "metadata": {},
     "output_type": "execute_result"
    }
   ],
   "source": [
    "cosine_similarity(tt, trainingtest)"
   ]
  },
  {
   "cell_type": "code",
   "execution_count": 173,
   "metadata": {
    "collapsed": false
   },
   "outputs": [
    {
     "data": {
      "text/plain": [
       "array([[ 0.76132754]])"
      ]
     },
     "execution_count": 173,
     "metadata": {},
     "output_type": "execute_result"
    }
   ],
   "source": [
    "cosine_distances(tt, trainingtest)"
   ]
  },
  {
   "cell_type": "code",
   "execution_count": 174,
   "metadata": {
    "collapsed": false
   },
   "outputs": [
    {
     "data": {
      "text/plain": [
       "(1, 21958)"
      ]
     },
     "execution_count": 174,
     "metadata": {},
     "output_type": "execute_result"
    }
   ],
   "source": [
    "trainingtest.shape"
   ]
  },
  {
   "cell_type": "code",
   "execution_count": 175,
   "metadata": {
    "collapsed": false,
    "scrolled": true
   },
   "outputs": [
    {
     "data": {
      "text/plain": [
       "array([[ 0.30898287]])"
      ]
     },
     "execution_count": 175,
     "metadata": {},
     "output_type": "execute_result"
    }
   ],
   "source": [
    "cosine_similarity(tt, notrainingtest)"
   ]
  },
  {
   "cell_type": "code",
   "execution_count": 177,
   "metadata": {
    "collapsed": false
   },
   "outputs": [],
   "source": [
    "package = ' '.join(pd_annotated.loc[pd_annotated['category']=='PACKAGE','alltext'])"
   ]
  },
  {
   "cell_type": "code",
   "execution_count": 178,
   "metadata": {
    "collapsed": false
   },
   "outputs": [],
   "source": [
    "packagetest = countmod.transform([package])"
   ]
  },
  {
   "cell_type": "code",
   "execution_count": 179,
   "metadata": {
    "collapsed": false
   },
   "outputs": [],
   "source": [
    "nopackage = ' '.join(pd_annotated.loc[pd_annotated['category']!='PACKAGE','alltext'])"
   ]
  },
  {
   "cell_type": "code",
   "execution_count": 180,
   "metadata": {
    "collapsed": true
   },
   "outputs": [],
   "source": [
    "nopackagetest = countmod.transform([nopackage])"
   ]
  },
  {
   "cell_type": "code",
   "execution_count": 181,
   "metadata": {
    "collapsed": false
   },
   "outputs": [
    {
     "data": {
      "text/plain": [
       "array([[ 0.35361075]])"
      ]
     },
     "execution_count": 181,
     "metadata": {},
     "output_type": "execute_result"
    }
   ],
   "source": [
    "cosine_similarity(tt, packagetest)"
   ]
  },
  {
   "cell_type": "code",
   "execution_count": null,
   "metadata": {
    "collapsed": true
   },
   "outputs": [],
   "source": []
  },
  {
   "cell_type": "code",
   "execution_count": 182,
   "metadata": {
    "collapsed": false
   },
   "outputs": [],
   "source": [
    "news = ' '.join(pd_annotated.loc[pd_annotated['category']=='NEWS','alltext'])"
   ]
  },
  {
   "cell_type": "code",
   "execution_count": 183,
   "metadata": {
    "collapsed": false
   },
   "outputs": [],
   "source": [
    "newstest = countmod.transform([news])"
   ]
  },
  {
   "cell_type": "code",
   "execution_count": 184,
   "metadata": {
    "collapsed": false
   },
   "outputs": [],
   "source": [
    "nonews = ' '.join(pd_annotated.loc[pd_annotated['category']!='NEWS','alltext'])"
   ]
  },
  {
   "cell_type": "code",
   "execution_count": 185,
   "metadata": {
    "collapsed": true
   },
   "outputs": [],
   "source": [
    "nonewstest = countmod.transform([nonews])"
   ]
  },
  {
   "cell_type": "code",
   "execution_count": 186,
   "metadata": {
    "collapsed": false
   },
   "outputs": [
    {
     "data": {
      "text/plain": [
       "array([[ 0.2492734]])"
      ]
     },
     "execution_count": 186,
     "metadata": {},
     "output_type": "execute_result"
    }
   ],
   "source": [
    "cosine_similarity(tt, newstest)"
   ]
  },
  {
   "cell_type": "code",
   "execution_count": null,
   "metadata": {
    "collapsed": true
   },
   "outputs": [],
   "source": []
  },
  {
   "cell_type": "code",
   "execution_count": 177,
   "metadata": {
    "collapsed": false
   },
   "outputs": [],
   "source": [
    "package = ' '.join(pd_annotated.loc[pd_annotated['category']=='PACKAGE','alltext'])"
   ]
  },
  {
   "cell_type": "code",
   "execution_count": 178,
   "metadata": {
    "collapsed": false
   },
   "outputs": [],
   "source": [
    "packagetest = countmod.transform([package])"
   ]
  },
  {
   "cell_type": "code",
   "execution_count": 179,
   "metadata": {
    "collapsed": false
   },
   "outputs": [],
   "source": [
    "nopackage = ' '.join(pd_annotated.loc[pd_annotated['category']!='PACKAGE','alltext'])"
   ]
  },
  {
   "cell_type": "code",
   "execution_count": 180,
   "metadata": {
    "collapsed": true
   },
   "outputs": [],
   "source": [
    "nopackagetest = countmod.transform([nopackage])"
   ]
  },
  {
   "cell_type": "code",
   "execution_count": 181,
   "metadata": {
    "collapsed": false
   },
   "outputs": [
    {
     "data": {
      "text/plain": [
       "array([[ 0.35361075]])"
      ]
     },
     "execution_count": 181,
     "metadata": {},
     "output_type": "execute_result"
    }
   ],
   "source": [
    "cosine_similarity(tt, packagetest)"
   ]
  },
  {
   "cell_type": "code",
   "execution_count": null,
   "metadata": {
    "collapsed": true
   },
   "outputs": [],
   "source": []
  },
  {
   "cell_type": "code",
   "execution_count": 346,
   "metadata": {
    "collapsed": false
   },
   "outputs": [
    {
     "data": {
      "text/plain": [
       "array(['BUSINESS', 'COMMUITY', 'DOCS', 'ECOMMERCE', 'NEWS', 'NOCLASS',\n",
       "       'PAAS', 'PACKAGE', 'REPL', 'REVIEWS', 'SENGINE', 'THEME', 'TRAINING'], dtype=object)"
      ]
     },
     "execution_count": 346,
     "metadata": {},
     "output_type": "execute_result"
    }
   ],
   "source": [
    "from sklearn import preprocessing\n",
    "le = preprocessing.LabelEncoder()\n",
    "le.fit(pd_annotated['category'])\n",
    "le.classes_"
   ]
  },
  {
   "cell_type": "code",
   "execution_count": 347,
   "metadata": {
    "collapsed": true
   },
   "outputs": [],
   "source": [
    "models = {}\n",
    "for les in le.classes_:\n",
    "    yes = ' '.join(train3.loc[train3['category']==les,'alltext'])\n",
    "    no  = ' '.join(train3.loc[train3['category']!=les,'alltext'])\n",
    "    models[les] = (countmod.transform([yes]), countmod.transform([no]))"
   ]
  },
  {
   "cell_type": "code",
   "execution_count": 348,
   "metadata": {
    "collapsed": false
   },
   "outputs": [
    {
     "data": {
      "text/plain": [
       "{'BUSINESS': (<1x23639 sparse matrix of type '<class 'numpy.int64'>'\n",
       "  \twith 1635 stored elements in Compressed Sparse Row format>,\n",
       "  <1x23639 sparse matrix of type '<class 'numpy.int64'>'\n",
       "  \twith 22590 stored elements in Compressed Sparse Row format>),\n",
       " 'COMMUITY': (<1x23639 sparse matrix of type '<class 'numpy.int64'>'\n",
       "  \twith 1658 stored elements in Compressed Sparse Row format>,\n",
       "  <1x23639 sparse matrix of type '<class 'numpy.int64'>'\n",
       "  \twith 22606 stored elements in Compressed Sparse Row format>),\n",
       " 'DOCS': (<1x23639 sparse matrix of type '<class 'numpy.int64'>'\n",
       "  \twith 1871 stored elements in Compressed Sparse Row format>,\n",
       "  <1x23639 sparse matrix of type '<class 'numpy.int64'>'\n",
       "  \twith 22519 stored elements in Compressed Sparse Row format>),\n",
       " 'ECOMMERCE': (<1x23639 sparse matrix of type '<class 'numpy.int64'>'\n",
       "  \twith 172 stored elements in Compressed Sparse Row format>,\n",
       "  <1x23639 sparse matrix of type '<class 'numpy.int64'>'\n",
       "  \twith 23536 stored elements in Compressed Sparse Row format>),\n",
       " 'NEWS': (<1x23639 sparse matrix of type '<class 'numpy.int64'>'\n",
       "  \twith 10085 stored elements in Compressed Sparse Row format>,\n",
       "  <1x23639 sparse matrix of type '<class 'numpy.int64'>'\n",
       "  \twith 15493 stored elements in Compressed Sparse Row format>),\n",
       " 'NOCLASS': (<1x23639 sparse matrix of type '<class 'numpy.int64'>'\n",
       "  \twith 871 stored elements in Compressed Sparse Row format>,\n",
       "  <1x23639 sparse matrix of type '<class 'numpy.int64'>'\n",
       "  \twith 23154 stored elements in Compressed Sparse Row format>),\n",
       " 'PAAS': (<1x23639 sparse matrix of type '<class 'numpy.int64'>'\n",
       "  \twith 324 stored elements in Compressed Sparse Row format>,\n",
       "  <1x23639 sparse matrix of type '<class 'numpy.int64'>'\n",
       "  \twith 23461 stored elements in Compressed Sparse Row format>),\n",
       " 'PACKAGE': (<1x23639 sparse matrix of type '<class 'numpy.int64'>'\n",
       "  \twith 4464 stored elements in Compressed Sparse Row format>,\n",
       "  <1x23639 sparse matrix of type '<class 'numpy.int64'>'\n",
       "  \twith 20478 stored elements in Compressed Sparse Row format>),\n",
       " 'REPL': (<1x23639 sparse matrix of type '<class 'numpy.int64'>'\n",
       "  \twith 1641 stored elements in Compressed Sparse Row format>,\n",
       "  <1x23639 sparse matrix of type '<class 'numpy.int64'>'\n",
       "  \twith 22351 stored elements in Compressed Sparse Row format>),\n",
       " 'REVIEWS': (<1x23639 sparse matrix of type '<class 'numpy.int64'>'\n",
       "  \twith 156 stored elements in Compressed Sparse Row format>,\n",
       "  <1x23639 sparse matrix of type '<class 'numpy.int64'>'\n",
       "  \twith 23548 stored elements in Compressed Sparse Row format>),\n",
       " 'SENGINE': (<1x23639 sparse matrix of type '<class 'numpy.int64'>'\n",
       "  \twith 106 stored elements in Compressed Sparse Row format>,\n",
       "  <1x23639 sparse matrix of type '<class 'numpy.int64'>'\n",
       "  \twith 23578 stored elements in Compressed Sparse Row format>),\n",
       " 'THEME': (<1x23639 sparse matrix of type '<class 'numpy.int64'>'\n",
       "  \twith 1556 stored elements in Compressed Sparse Row format>,\n",
       "  <1x23639 sparse matrix of type '<class 'numpy.int64'>'\n",
       "  \twith 22724 stored elements in Compressed Sparse Row format>),\n",
       " 'TRAINING': (<1x23639 sparse matrix of type '<class 'numpy.int64'>'\n",
       "  \twith 4767 stored elements in Compressed Sparse Row format>,\n",
       "  <1x23639 sparse matrix of type '<class 'numpy.int64'>'\n",
       "  \twith 20288 stored elements in Compressed Sparse Row format>)}"
      ]
     },
     "execution_count": 348,
     "metadata": {},
     "output_type": "execute_result"
    }
   ],
   "source": [
    "models"
   ]
  },
  {
   "cell_type": "code",
   "execution_count": 349,
   "metadata": {
    "collapsed": false
   },
   "outputs": [
    {
     "name": "stdout",
     "output_type": "stream",
     "text": [
      "NEWS NEWS [[ 0.25061283]]\n",
      "THEME THEME [[ 0.40950834]]\n",
      "PAAS PAAS [[ 0.57124644]]\n",
      "NEWS NEWS [[ 0.17005871]]\n",
      "NOCLASS NOCLASS [[ 0.13209164]]\n",
      "TRAINING TRAINING [[ 0.17739553]]\n",
      "PACKAGE PACKAGE [[ 0.20798937]]\n",
      "NOCLASS NOCLASS [[ 0.12698801]]\n",
      "PACKAGE PACKAGE [[ 0.05260885]]\n",
      "REPL TRAINING [[ 0.20222849]]\n",
      "NEWS NEWS [[ 0.18857421]]\n",
      "NEWS NEWS [[ 0.22524651]]\n",
      "NEWS NEWS [[ 0.12898204]]\n",
      "NEWS NEWS [[ 0.27408116]]\n",
      "NEWS NEWS [[ 0.09704083]]\n",
      "NOCLASS PACKAGE [[ 0.14093378]]\n",
      "NEWS NEWS [[ 0.14204637]]\n",
      "TRAINING TRAINING [[ 0.30627295]]\n",
      "REPL NEWS [[ 0.18494778]]\n",
      "PACKAGE PACKAGE [[ 0.05237828]]\n",
      "TRAINING TRAINING [[ 0.15726139]]\n",
      "PACKAGE PACKAGE [[ 0.15879499]]\n",
      "BUSINESS PACKAGE [[ 0.10634918]]\n",
      "NOCLASS NOCLASS [[ 0.24367431]]\n",
      "NOCLASS NOCLASS [[ 0.46401094]]\n",
      "REPL REPL [[ 0.24309881]]\n",
      "NEWS NEWS [[ 0.24416912]]\n",
      "PAAS PAAS [[ 0.42493735]]\n",
      "DOCS DOCS [[ 0.25013639]]\n",
      "TRAINING TRAINING [[ 0.27824487]]\n",
      "NEWS NEWS [[ 0.14209181]]\n",
      "PACKAGE PACKAGE [[ 0.31577273]]\n",
      "COMMUITY COMMUITY [[ 0.24162532]]\n",
      "NEWS NEWS [[ 0.19332002]]\n",
      "COMMUITY COMMUITY [[ 0.79177698]]\n",
      "PACKAGE PACKAGE [[ 0.19144603]]\n",
      "COMMUITY COMMUITY [[ 0.28518562]]\n",
      "REPL REPL [[ 0.16713861]]\n",
      "THEME NOCLASS [[ 0.13244022]]\n",
      "NEWS NEWS [[ 0.06638213]]\n",
      "NOCLASS NOCLASS [[ 0.12698801]]\n",
      "ECOMMERCE ECOMMERCE [[ 0.54944226]]\n",
      "THEME THEME [[ 0.22914116]]\n",
      "NEWS NEWS [[ 0.21653278]]\n",
      "TRAINING TRAINING [[ 0.23957699]]\n",
      "NEWS NEWS [[ 0.16531928]]\n",
      "NEWS NEWS [[ 0.19382226]]\n",
      "NEWS NOCLASS [[ 0.21842601]]\n",
      "TRAINING TRAINING [[ 0.28178418]]\n",
      "THEME THEME [[ 0.29975565]]\n",
      "NEWS NEWS [[ 0.07958337]]\n",
      "PACKAGE PACKAGE [[ 0.08743216]]\n",
      "BUSINESS BUSINESS [[ 0.21735222]]\n",
      "REPL REPL [[ 0.15802132]]\n",
      "REPL NOCLASS [[ 0.14652462]]\n",
      "PACKAGE PACKAGE [[ 0.17112253]]\n",
      "PACKAGE PACKAGE [[ 0.23628204]]\n",
      "NEWS NEWS [[ 0.22536685]]\n",
      "PACKAGE PACKAGE [[ 0.08801311]]\n",
      "NEWS NEWS [[ 0.12975517]]\n",
      "NEWS NEWS [[ 0.21009759]]\n",
      "NEWS NEWS [[ 0.21318591]]\n",
      "TRAINING TRAINING [[ 0.33019744]]\n",
      "TRAINING TRAINING [[ 0.30220219]]\n",
      "DOCS DOCS [[ 0.25889972]]\n",
      "NEWS NEWS [[ 0.23602725]]\n",
      "COMMUITY COMMUITY [[ 0.19636396]]\n",
      "TRAINING NEWS [[ 0.15143638]]\n",
      "COMMUITY COMMUITY [[ 0.15101122]]\n",
      "NEWS NOCLASS [[ 0.10009537]]\n",
      "BUSINESS BUSINESS [[ 0.14855804]]\n",
      "PACKAGE PACKAGE [[ 0.18597894]]\n",
      "TRAINING TRAINING [[ 0.32192956]]\n",
      "NEWS NEWS [[ 0.06126753]]\n",
      "NEWS PACKAGE [[ 0.16892284]]\n",
      "NEWS PACKAGE [[ 0.19316155]]\n",
      "TRAINING TRAINING [[ 0.25157843]]\n",
      "BUSINESS PACKAGE [[ 0.10634918]]\n",
      "REPL REPL [[ 0.24999397]]\n",
      "THEME NOCLASS [[ 0.10921301]]\n",
      "TRAINING TRAINING [[ 0.26736203]]\n",
      "NEWS NEWS [[ 0.30114086]]\n",
      "NEWS NEWS [[ 0.12969317]]\n",
      "BUSINESS BUSINESS [[ 0.31976204]]\n",
      "NEWS THEME [[ 0.08488088]]\n",
      "NEWS NEWS [[ 0.12975517]]\n",
      "NEWS NEWS [[ 0.0839862]]\n",
      "NEWS THEME [[ 0.27626373]]\n",
      "PACKAGE PACKAGE [[ 0.24171089]]\n",
      "NEWS NEWS [[ 0.20350482]]\n",
      "NEWS NEWS [[ 0.19221263]]\n",
      "NEWS NOCLASS [[ 0.16394081]]\n",
      "THEME THEME [[ 0.09186242]]\n",
      "NEWS NEWS [[ 0.29026523]]\n",
      "NEWS NEWS [[ 0.12632173]]\n",
      "PACKAGE PACKAGE [[ 0.26174603]]\n",
      "NEWS NEWS [[ 0.19640991]]\n",
      "TRAINING TRAINING [[ 0.14153392]]\n",
      "TRAINING TRAINING [[ 0.2626068]]\n",
      "PACKAGE PACKAGE [[ 0.1405765]]\n",
      "NEWS NEWS [[ 0.17163385]]\n",
      "NEWS NEWS [[ 0.27590802]]\n",
      "REPL REPL [[ 0.39206916]]\n",
      "PACKAGE NOCLASS [[ 0.06305416]]\n",
      "NEWS NEWS [[ 0.10560794]]\n",
      "NEWS PACKAGE [[ 0.09843094]]\n",
      "TRAINING NOCLASS [[ 0.13675632]]\n",
      "BUSINESS BUSINESS [[ 0.20043613]]\n",
      "PACKAGE PACKAGE [[ 0.1268404]]\n",
      "DOCS DOCS [[ 0.17011572]]\n",
      "NEWS NEWS [[ 0.24273063]]\n",
      "NEWS NEWS [[ 0.274589]]\n",
      "NEWS NEWS [[ 0.2239898]]\n",
      "NOCLASS NOCLASS [[ 0.15209235]]\n",
      "PACKAGE PACKAGE [[ 0.21793004]]\n",
      "THEME THEME [[ 0.23791526]]\n",
      "TRAINING REPL [[ 0.07150067]]\n",
      "NEWS NEWS [[ 0.15715893]]\n",
      "NEWS NEWS [[ 0.17486262]]\n",
      "PACKAGE PACKAGE [[ 0.13610793]]\n",
      "NEWS NEWS [[ 0.26241814]]\n",
      "NEWS NEWS [[ 0.12872539]]\n",
      "NEWS NOCLASS [[ 0.21842601]]\n",
      "PACKAGE PACKAGE [[ 0.19471692]]\n",
      "TRAINING TRAINING [[ 0.28607073]]\n",
      "TRAINING TRAINING [[ 0.00981111]]\n",
      "DOCS DOCS [[ 0.25013639]]\n",
      "TRAINING TRAINING [[ 0.00981111]]\n",
      "PACKAGE PACKAGE [[ 0.205531]]\n",
      "NEWS NEWS [[ 0.13941054]]\n",
      "PACKAGE PACKAGE [[ 0.29300266]]\n",
      "NEWS NEWS [[ 0.20466033]]\n",
      "NEWS NEWS [[ 0.274589]]\n",
      "PACKAGE PACKAGE [[ 0.14596245]]\n",
      "PACKAGE PACKAGE [[ 0.10724782]]\n",
      "ECOMMERCE ECOMMERCE [[ 0.39834564]]\n",
      "NEWS NEWS [[ 0.25723737]]\n",
      "NEWS NEWS [[ 0.10560794]]\n",
      "THEME TRAINING [[ 0.14630356]]\n",
      "SENGINE SENGINE [[ 0.29550625]]\n",
      "NOCLASS NOCLASS [[ 0.26607682]]\n",
      "TRAINING THEME [[ 0.02875749]]\n",
      "NEWS NEWS [[ 0.13712102]]\n",
      "TRAINING TRAINING [[ 0.25157843]]\n",
      "PACKAGE SENGINE [[ 0.07723473]]\n",
      "TRAINING TRAINING [[ 0.32376678]]\n",
      "REPL REPL [[ 0.23531356]]\n",
      "NEWS NEWS [[ 0.10897388]]\n",
      "TRAINING TRAINING [[ 0.21090883]]\n",
      "NOCLASS NOCLASS [[ 0.28395382]]\n",
      "TRAINING TRAINING [[ 0.27305303]]\n",
      "PACKAGE PACKAGE [[ 0.16028539]]\n",
      "REPL NEWS [[ 0.11285928]]\n",
      "DOCS NOCLASS [[ 0.13535365]]\n",
      "NEWS NEWS [[ 0.16679958]]\n",
      "NEWS NEWS [[ 0.12632173]]\n",
      "PACKAGE PACKAGE [[ 0.13564245]]\n",
      "NEWS NEWS [[ 0.18338902]]\n",
      "TRAINING NOCLASS [[ 0.17655165]]\n",
      "COMMUITY COMMUITY [[ 0.19590557]]\n",
      "TRAINING TRAINING [[ 0.15731766]]\n",
      "BUSINESS BUSINESS [[ 0.11046177]]\n",
      "NEWS NEWS [[ 0.18861415]]\n",
      "PACKAGE PACKAGE [[ 0.35570077]]\n",
      "NEWS NEWS [[ 0.17072768]]\n",
      "THEME THEME [[ 0.26280674]]\n",
      "DOCS DOCS [[ 0.30285193]]\n",
      "NEWS NEWS [[ 0.21977519]]\n",
      "PACKAGE PACKAGE [[ 0.09398504]]\n",
      "NEWS NEWS [[ 0.16802445]]\n",
      "NEWS NEWS [[ 0.23977235]]\n",
      "PACKAGE PACKAGE [[ 0.08044076]]\n",
      "NEWS REPL [[ 0.11417741]]\n",
      "TRAINING TRAINING [[ 0.25210569]]\n",
      "PACKAGE NEWS [[ 0.12324692]]\n",
      "NEWS NOCLASS [[ 0.12610832]]\n",
      "PACKAGE PACKAGE [[ 0.20812658]]\n",
      "NEWS PACKAGE [[ 0.09575698]]\n",
      "NEWS NEWS [[ 0.12120394]]\n",
      "NEWS NEWS [[ 0.17023879]]\n",
      "NOCLASS NOCLASS [[ 0.24958022]]\n",
      "NEWS PACKAGE [[ 0.11810151]]\n",
      "NEWS NEWS [[ 0.19960118]]\n",
      "NEWS NEWS [[ 0.16014453]]\n",
      "NEWS NEWS [[ 0.15069819]]\n",
      "DOCS DOCS [[ 0.25817562]]\n",
      "BUSINESS BUSINESS [[ 0.23674702]]\n",
      "NEWS NEWS [[ 0.12379644]]\n",
      "THEME THEME [[ 0.29975565]]\n",
      "TRAINING TRAINING [[ 0.18448325]]\n",
      "NEWS NEWS [[ 0.1164204]]\n",
      "NEWS NEWS [[ 0.15148336]]\n",
      "TRAINING THEME [[ 0.05751497]]\n",
      "NEWS NOCLASS [[ 0.13675632]]\n",
      "THEME THEME [[ 0.21406436]]\n",
      "NEWS TRAINING [[ 0.20409355]]\n",
      "NOCLASS PACKAGE [[ 0.07334426]]\n",
      "TRAINING TRAINING [[ 0.40025028]]\n",
      "NEWS THEME [[ 0.19555091]]\n",
      "THEME THEME [[ 0.21716043]]\n",
      "NEWS NEWS [[ 0.1783147]]\n",
      "NEWS NEWS [[ 0.32710009]]\n",
      "NOCLASS NEWS [[ 0.18470357]]\n",
      "PACKAGE PACKAGE [[ 0.22957218]]\n",
      "BUSINESS NOCLASS [[ 0.28395382]]\n",
      "NEWS NEWS [[ 0.15144175]]\n",
      "TRAINING TRAINING [[ 0.36835311]]\n",
      "TRAINING TRAINING [[ 0.23305614]]\n",
      "NEWS NEWS [[ 0.16802445]]\n",
      "BUSINESS BUSINESS [[ 0.19462028]]\n",
      "TRAINING THEME [[ 0.02875749]]\n",
      "BUSINESS BUSINESS [[ 0.24224626]]\n",
      "NEWS THEME [[ 0.07716443]]\n",
      "THEME THEME [[ 0.13124437]]\n",
      "COMMUITY COMMUITY [[ 0.28968974]]\n",
      "NOCLASS NOCLASS [[ 0.19236885]]\n",
      "NEWS NEWS [[ 0.14586376]]\n",
      "PACKAGE PACKAGE [[ 0.18580546]]\n",
      "THEME THEME [[ 0.28661076]]\n",
      "NEWS THEME [[ 0.09002517]]\n",
      "NEWS NEWS [[ 0.14674143]]\n",
      "PACKAGE NEWS [[ 0.16990903]]\n",
      "PAAS PAAS [[ 0.13983925]]\n",
      "TRAINING TRAINING [[ 0.31705561]]\n",
      "DOCS DOCS [[ 0.0819288]]\n",
      "THEME THEME [[ 0.17637585]]\n",
      "NEWS NEWS [[ 0.22089731]]\n",
      "NEWS NEWS [[ 0.15068398]]\n",
      "TRAINING NOCLASS [[ 0.17655165]]\n",
      "NEWS PACKAGE [[ 0.13036374]]\n",
      "TRAINING TRAINING [[ 0.31657543]]\n",
      "THEME THEME [[ 0.15262889]]\n",
      "THEME THEME [[ 0.33486512]]\n",
      "PACKAGE PACKAGE [[ 0.28569151]]\n",
      "REPL REPL [[ 0.24938877]]\n",
      "DOCS DOCS [[ 0.17182056]]\n",
      "NOCLASS NOCLASS [[ 0.1646448]]\n",
      "NEWS NEWS [[ 0.12066968]]\n",
      "NEWS PACKAGE [[ 0.06249344]]\n",
      "NEWS NEWS [[ 0.1772721]]\n",
      "TRAINING TRAINING [[ 0.29331908]]\n",
      "PACKAGE PACKAGE [[ 0.12561706]]\n",
      "DOCS DOCS [[ 0.26827848]]\n",
      "NEWS TRAINING [[ 0.14004746]]\n",
      "NEWS PACKAGE [[ 0.19316155]]\n",
      "NEWS NEWS [[ 0.14586376]]\n",
      "PACKAGE PACKAGE [[ 0.21874226]]\n",
      "NEWS NEWS [[ 0.19164903]]\n",
      "NEWS NEWS [[ 0.19912819]]\n",
      "SENGINE SENGINE [[ 0.5910125]]\n",
      "PACKAGE NOCLASS [[ 0.16394081]]\n",
      "NEWS NEWS [[ 0.19228732]]\n",
      "TRAINING TRAINING [[ 0.27318513]]\n",
      "PACKAGE PACKAGE [[ 0.30018768]]\n",
      "TRAINING TRAINING [[ 0.22505926]]\n",
      "NEWS NEWS [[ 0.19418087]]\n",
      "NEWS PACKAGE [[ 0.15157814]]\n",
      "DOCS DOCS [[ 0.04568819]]\n",
      "PACKAGE PACKAGE [[ 0.22957218]]\n",
      "NEWS NEWS [[ 0.24156114]]\n",
      "NEWS NOCLASS [[ 0.09023577]]\n",
      "PACKAGE PACKAGE [[ 0.0843459]]\n",
      "PACKAGE PACKAGE [[ 0.18530103]]\n",
      "COMMUITY COMMUITY [[ 0.12705471]]\n",
      "NEWS REPL [[ 0.18561784]]\n",
      "NOCLASS NOCLASS [[ 0.25887633]]\n",
      "NEWS NOCLASS [[ 0.13830163]]\n",
      "REPL REPL [[ 0.27370095]]\n",
      "PACKAGE PACKAGE [[ 0.09563926]]\n",
      "TRAINING TRAINING [[ 0.20769649]]\n",
      "NEWS NEWS [[ 0.09595796]]\n",
      "NEWS NEWS [[ 0.1492601]]\n",
      "THEME THEME [[ 0.16679342]]\n",
      "NEWS COMMUITY [[ 0.13390025]]\n",
      "TRAINING TRAINING [[ 0.25684297]]\n",
      "REPL REPL [[ 0.25113002]]\n",
      "PACKAGE PACKAGE [[ 0.09362943]]\n",
      "DOCS DOCS [[ 0.22373994]]\n",
      "NEWS TRAINING [[ 0.16547588]]\n",
      "PACKAGE PACKAGE [[ 0.08531066]]\n",
      "NEWS NEWS [[ 0.17729646]]\n",
      "NEWS PACKAGE [[ 0.10634918]]\n",
      "NEWS NEWS [[ 0.13983102]]\n",
      "PACKAGE PACKAGE [[ 0.16984793]]\n",
      "PACKAGE TRAINING [[ 0.16828324]]\n",
      "TRAINING TRAINING [[ 0.26693299]]\n",
      "PACKAGE PACKAGE [[ 0.02200328]]\n",
      "NEWS NEWS [[ 0.14653863]]\n",
      "REPL REPL [[ 0.20740298]]\n",
      "NEWS NEWS [[ 0.18265133]]\n",
      "PACKAGE PACKAGE [[ 0.11787531]]\n",
      "PAAS PAAS [[ 0.42493735]]\n",
      "NEWS NEWS [[ 0.12749038]]\n",
      "NOCLASS NOCLASS [[ 0.24367431]]\n",
      "NEWS NEWS [[ 0.21192483]]\n",
      "REPL REPL [[ 0.39166476]]\n",
      "NEWS NOCLASS [[ 0.13675632]]\n",
      "NEWS THEME [[ 0.08749624]]\n",
      "THEME THEME [[ 0.33717279]]\n",
      "PACKAGE PACKAGE [[ 0.14974214]]\n",
      "TRAINING TRAINING [[ 0.33778266]]\n",
      "TRAINING TRAINING [[ 0.29796614]]\n",
      "THEME THEME [[ 0.26640102]]\n",
      "NEWS THEME [[ 0.07716443]]\n",
      "NEWS NEWS [[ 0.29994638]]\n",
      "NOCLASS NOCLASS [[ 0.25060916]]\n",
      "BUSINESS BUSINESS [[ 0.28114707]]\n",
      "THEME THEME [[ 0.24999409]]\n",
      "PACKAGE PACKAGE [[ 0.12582197]]\n",
      "NEWS NEWS [[ 0.23379858]]\n",
      "DOCS DOCS [[ 0.18695401]]\n",
      "TRAINING TRAINING [[ 0.19286885]]\n",
      "BUSINESS BUSINESS [[ 0.21634972]]\n",
      "REVIEWS REVIEWS [[ 0.79919566]]\n",
      "NEWS NEWS [[ 0.08096453]]\n",
      "TRAINING TRAINING [[ 0.27820075]]\n",
      "NEWS NEWS [[ 0.18952252]]\n",
      "NOCLASS NOCLASS [[ 0.07875462]]\n",
      "PACKAGE PACKAGE [[ 0.15985011]]\n",
      "COMMUITY COMMUITY [[ 0.15339051]]\n",
      "NEWS NEWS [[ 0.20126113]]\n",
      "NEWS NEWS [[ 0.15112412]]\n",
      "PACKAGE PACKAGE [[ 0.22548603]]\n",
      "DOCS DOCS [[ 0.11503972]]\n",
      "NOCLASS NOCLASS [[ 0.06604582]]\n",
      "NOCLASS NOCLASS [[ 0.3063066]]\n",
      "DOCS DOCS [[ 0.19404826]]\n",
      "NEWS NEWS [[ 0.16136582]]\n",
      "TRAINING TRAINING [[ 0.19037878]]\n",
      "NEWS NEWS [[ 0.27480951]]\n",
      "PAAS PAAS [[ 0.20840933]]\n",
      "NEWS NEWS [[ 0.26895004]]\n",
      "NEWS NEWS [[ 0.17970085]]\n",
      "NEWS PACKAGE [[ 0.12229868]]\n",
      "NEWS NEWS [[ 0.1063178]]\n",
      "NEWS NEWS [[ 0.18978302]]\n",
      "NEWS NEWS [[ 0.23349543]]\n",
      "REPL REPL [[ 0.32756494]]\n",
      "NOCLASS NOCLASS [[ 0.17781639]]\n",
      "COMMUITY COMMUITY [[ 0.2175494]]\n",
      "THEME THEME [[ 0.14378743]]\n",
      "SENGINE SENGINE [[ 0.61105248]]\n",
      "NEWS NEWS [[ 0.09738519]]\n",
      "DOCS DOCS [[ 0.11360571]]\n",
      "NEWS NEWS [[ 0.1471622]]\n",
      "PACKAGE PACKAGE [[ 0.23941398]]\n",
      "PACKAGE PACKAGE [[ 0.08801311]]\n",
      "PAAS PAAS [[ 0.64825139]]\n",
      "NEWS NEWS [[ 0.20273587]]\n",
      "THEME THEME [[ 0.41474852]]\n",
      "TRAINING NOCLASS [[ 0.13675632]]\n",
      "PACKAGE PACKAGE [[ 0.15498391]]\n",
      "REPL REPL [[ 0.28271606]]\n",
      "TRAINING TRAINING [[ 0.32322172]]\n",
      "PACKAGE PACKAGE [[ 0.0991681]]\n",
      "TRAINING PACKAGE [[ 0.10013495]]\n",
      "TRAINING TRAINING [[ 0.20769649]]\n",
      "NOCLASS NOCLASS [[ 0.34674055]]\n",
      "NEWS TRAINING [[ 0.11180803]]\n",
      "NEWS NEWS [[ 0.09540238]]\n",
      "NOCLASS NOCLASS [[ 0.19991557]]\n",
      "TRAINING PACKAGE [[ 0.0792249]]\n",
      "NEWS PACKAGE [[ 0.13980519]]\n",
      "NEWS NEWS [[ 0.21536239]]\n",
      "NEWS NEWS [[ 0.27928738]]\n",
      "COMMUITY COMMUITY [[ 0.22836765]]\n",
      "TRAINING TRAINING [[ 0.2831341]]\n",
      "THEME THEME [[ 0.15068798]]\n",
      "NEWS NEWS [[ 0.15394788]]\n",
      "NEWS NEWS [[ 0.18552695]]\n",
      "NEWS NEWS [[ 0.17105997]]\n",
      "DOCS DOCS [[ 0.33830827]]\n",
      "DOCS DOCS [[ 0.16530092]]\n",
      "NEWS THEME [[ 0.16111301]]\n",
      "NEWS NEWS [[ 0.16312745]]\n",
      "DOCS DOCS [[ 0.24775399]]\n",
      "PACKAGE PACKAGE [[ 0.18420218]]\n",
      "NEWS NEWS [[ 0.17242998]]\n",
      "NEWS NEWS [[ 0.1276828]]\n",
      "NEWS NEWS [[ 0.12963033]]\n",
      "TRAINING NOCLASS [[ 0.17655165]]\n",
      "NEWS NEWS [[ 0.17268388]]\n",
      "REPL REPL [[ 0.15802132]]\n",
      "NEWS NEWS [[ 0.15148336]]\n",
      "NEWS NEWS [[ 0.17878526]]\n",
      "NEWS NEWS [[ 0.22018127]]\n",
      "NEWS THEME [[ 0.10207895]]\n",
      "NEWS NEWS [[ 0.11395007]]\n",
      "NEWS NEWS [[ 0.17445345]]\n",
      "NEWS PACKAGE [[ 0.13980519]]\n",
      "PAAS PAAS [[ 0.28107848]]\n",
      "NEWS NEWS [[ 0.15841324]]\n",
      "THEME THEME [[ 0.24999409]]\n",
      "TRAINING TRAINING [[ 0.12793472]]\n",
      "TRAINING TRAINING [[ 0.28120239]]\n",
      "NEWS NEWS [[ 0.17353639]]\n",
      "THEME THEME [[ 0.1328943]]\n",
      "PACKAGE PACKAGE [[ 0.12569395]]\n",
      "TRAINING TRAINING [[ 0.27062187]]\n",
      "TRAINING TRAINING [[ 0.32511266]]\n",
      "TRAINING TRAINING [[ 0.23237668]]\n",
      "NEWS BUSINESS [[ 0.11582759]]\n",
      "NEWS NEWS [[ 0.18421481]]\n",
      "THEME THEME [[ 0.20985314]]\n",
      "NEWS NEWS [[ 0.09595796]]\n",
      "NOCLASS NOCLASS [[ 0.16606124]]\n",
      "PACKAGE PACKAGE [[ 0.08803931]]\n",
      "NOCLASS NOCLASS [[ 0.16654827]]\n",
      "TRAINING NOCLASS [[ 0.10151524]]\n",
      "NEWS NEWS [[ 0.17784443]]\n",
      "NEWS NEWS [[ 0.22936099]]\n",
      "NEWS NEWS [[ 0.05909882]]\n",
      "TRAINING TRAINING [[ 0.20580145]]\n",
      "NEWS NEWS [[ 0.16136582]]\n",
      "BUSINESS BUSINESS [[ 0.249328]]\n",
      "REPL REPL [[ 0.31983581]]\n",
      "TRAINING TRAINING [[ 0.23639659]]\n",
      "NEWS NEWS [[ 0.22042974]]\n",
      "NEWS NEWS [[ 0.16841511]]\n",
      "TRAINING TRAINING [[ 0.27422899]]\n",
      "TRAINING TRAINING [[ 0.1401332]]\n",
      "BUSINESS BUSINESS [[ 0.31976204]]\n",
      "DOCS DOCS [[ 0.23379602]]\n",
      "NEWS NEWS [[ 0.17921062]]\n",
      "BUSINESS BUSINESS [[ 0.17141493]]\n",
      "NEWS NEWS [[ 0.21562874]]\n",
      "PACKAGE PACKAGE [[ 0.13042814]]\n",
      "NEWS NEWS [[ 0.14505708]]\n",
      "DOCS DOCS [[ 0.17678944]]\n",
      "NEWS TRAINING [[ 0.17748974]]\n",
      "PACKAGE PACKAGE [[ 0.16180143]]\n",
      "NEWS NEWS [[ 0.13685055]]\n",
      "NEWS NEWS [[ 0.22888297]]\n",
      "THEME THEME [[ 0.2994715]]\n",
      "NEWS NEWS [[ 0.23470674]]\n",
      "NEWS NEWS [[ 0.11696304]]\n",
      "DOCS DOCS [[ 0.21709951]]\n",
      "REPL REPL [[ 0.34171436]]\n",
      "NEWS NEWS [[ 0.13066964]]\n",
      "NOCLASS NOCLASS [[ 0.30579642]]\n",
      "PACKAGE NOCLASS [[ 0.28395382]]\n",
      "NEWS NEWS [[ 0.2664273]]\n",
      "NEWS NEWS [[ 0.20510302]]\n",
      "DOCS DOCS [[ 0.22449064]]\n",
      "THEME THEME [[ 0.21401564]]\n",
      "NEWS NEWS [[ 0.09550526]]\n",
      "NEWS THEME [[ 0.08745303]]\n",
      "NEWS NOCLASS [[ 0.13675632]]\n",
      "NEWS NEWS [[ 0.10486139]]\n",
      "NEWS NEWS [[ 0.34229113]]\n",
      "BUSINESS BUSINESS [[ 0.34488947]]\n",
      "NEWS PACKAGE [[ 0.1420152]]\n",
      "NOCLASS THEME [[ 0.16104193]]\n",
      "THEME THEME [[ 0.23991398]]\n",
      "PACKAGE PACKAGE [[ 0.16728281]]\n",
      "TRAINING TRAINING [[ 0.25455058]]\n",
      "DOCS DOCS [[ 0.17678944]]\n",
      "PACKAGE PACKAGE [[ 0.19802951]]\n",
      "PACKAGE PACKAGE [[ 0.05521735]]\n",
      "TRAINING NOCLASS [[ 0.17655165]]\n",
      "NEWS NEWS [[ 0.16564315]]\n",
      "PACKAGE PACKAGE [[ 0.07198706]]\n",
      "NEWS NEWS [[ 0.12274759]]\n",
      "BUSINESS BUSINESS [[ 0.25069419]]\n",
      "PACKAGE PACKAGE [[ 0.10379596]]\n",
      "THEME THEME [[ 0.26154533]]\n",
      "NEWS NOCLASS [[ 0.13830163]]\n",
      "NEWS NEWS [[ 0.17542944]]\n",
      "REPL REPL [[ 0.27980204]]\n",
      "PACKAGE PACKAGE [[ 0.0063518]]\n",
      "NEWS NEWS [[ 0.18826538]]\n",
      "REVIEWS REVIEWS [[ 0.62297004]]\n",
      "PACKAGE PACKAGE [[ 0.0317101]]\n",
      "TRAINING NOCLASS [[ 0.14303544]]\n",
      "NEWS PACKAGE [[ 0.16320671]]\n",
      "PACKAGE PACKAGE [[ 0.06562268]]\n",
      "PACKAGE PACKAGE [[ 0.19600216]]\n",
      "NOCLASS SENGINE [[ 0.10614898]]\n",
      "NOCLASS NOCLASS [[ 0.13031193]]\n",
      "ECOMMERCE ECOMMERCE [[ 0.49680263]]\n",
      "NEWS NEWS [[ 0.20714549]]\n",
      "REPL REPL [[ 0.28200102]]\n",
      "NEWS NEWS [[ 0.19640991]]\n",
      "PACKAGE NOCLASS [[ 0.28395382]]\n",
      "NOCLASS NOCLASS [[ 0.16511455]]\n",
      "REPL REPL [[ 0.2146107]]\n",
      "DOCS DOCS [[ 0.28069878]]\n",
      "NEWS NEWS [[ 0.10975495]]\n",
      "NEWS TRAINING [[ 0.14004746]]\n",
      "NEWS NEWS [[ 0.12935686]]\n",
      "COMMUITY COMMUITY [[ 0.23454584]]\n",
      "NEWS TRAINING [[ 0.22214541]]\n",
      "REPL NOCLASS [[ 0.10732446]]\n",
      "NEWS NEWS [[ 0.1271999]]\n",
      "NEWS NEWS [[ 0.1671429]]\n",
      "NEWS NEWS [[ 0.14548564]]\n",
      "SENGINE SENGINE [[ 0.48915327]]\n",
      "NEWS NEWS [[ 0.22018127]]\n",
      "PACKAGE PACKAGE [[ 0.22374763]]\n",
      "THEME THEME [[ 0.13432604]]\n",
      "NEWS NEWS [[ 0.30914865]]\n",
      "PACKAGE COMMUITY [[ 0.02459595]]\n",
      "TRAINING NOCLASS [[ 0.13675632]]\n",
      "NEWS NEWS [[ 0.06341772]]\n",
      "NEWS NEWS [[ 0.15098098]]\n",
      "BUSINESS BUSINESS [[ 0.29190639]]\n",
      "NEWS PACKAGE [[ 0.04869713]]\n",
      "NEWS NEWS [[ 0.06126753]]\n",
      "PACKAGE PACKAGE [[ 0.19641291]]\n",
      "PACKAGE PACKAGE [[ 0.15908267]]\n",
      "NOCLASS NOCLASS [[ 0.17781639]]\n",
      "PACKAGE PACKAGE [[ 0.0951303]]\n",
      "PACKAGE PACKAGE [[ 0.25571543]]\n",
      "DOCS DOCS [[ 0.24920647]]\n",
      "NEWS PACKAGE [[ 0.09843094]]\n",
      "TRAINING TRAINING [[ 0.17817172]]\n",
      "NEWS NEWS [[ 0.23786216]]\n",
      "PACKAGE PACKAGE [[ 0.35570077]]\n",
      "NEWS NEWS [[ 0.16959059]]\n",
      "NEWS NEWS [[ 0.1662906]]\n",
      "TRAINING TRAINING [[ 0.32613429]]\n",
      "NEWS NEWS [[ 0.13043954]]\n",
      "PACKAGE PACKAGE [[ 0.2594899]]\n",
      "NEWS NEWS [[ 0.13737461]]\n",
      "NEWS PACKAGE [[ 0.15502715]]\n",
      "NEWS NEWS [[ 0.28497053]]\n",
      "NEWS NEWS [[ 0.15699291]]\n",
      "BUSINESS NEWS [[ 0.17447655]]\n",
      "PACKAGE PACKAGE [[ 0.0951303]]\n",
      "BUSINESS BUSINESS [[ 0.18688037]]\n",
      "NEWS NEWS [[ 0.20599468]]\n",
      "BUSINESS NEWS [[ 0.20998247]]\n",
      "DOCS DOCS [[ 0.296146]]\n",
      "THEME THEME [[ 0.13614577]]\n",
      "PACKAGE THEME [[ 0.11540993]]\n",
      "PACKAGE PACKAGE [[ 0.10781802]]\n",
      "PACKAGE PACKAGE [[ 0.25445507]]\n",
      "BUSINESS BUSINESS [[ 0.19938922]]\n",
      "TRAINING TRAINING [[ 0.31996323]]\n",
      "NEWS NEWS [[ 0.18265133]]\n",
      "NEWS NEWS [[ 0.21560847]]\n",
      "PACKAGE PACKAGE [[ 0.08067869]]\n",
      "PACKAGE NOCLASS [[ 0.12698801]]\n",
      "NEWS NEWS [[ 0.13398955]]\n",
      "PACKAGE NOCLASS [[ 0.28395382]]\n",
      "REVIEWS REVIEWS [[ 0.79919566]]\n",
      "NEWS NEWS [[ 0.12328469]]\n",
      "PACKAGE PACKAGE [[ 0.20172339]]\n",
      "NEWS TRAINING [[ 0.10749776]]\n",
      "NEWS NEWS [[ 0.19332002]]\n",
      "TRAINING TRAINING [[ 0.1758448]]\n",
      "REPL REPL [[ 0.39206916]]\n",
      "TRAINING TRAINING [[ 0.19159466]]\n",
      "THEME DOCS [[ 0.03021989]]\n",
      "PACKAGE PACKAGE [[ 0.24443868]]\n",
      "PACKAGE PACKAGE [[ 0.23671759]]\n",
      "NEWS NEWS [[ 0.27157909]]\n",
      "TRAINING TRAINING [[ 0.32376678]]\n",
      "NOCLASS NOCLASS [[ 0.26418327]]\n",
      "NEWS NEWS [[ 0.10897388]]\n",
      "NOCLASS NOCLASS [[ 0.46401094]]\n",
      "REPL REPL [[ 0.19465833]]\n",
      "NEWS NEWS [[ 0.16402238]]\n",
      "NEWS NEWS [[ 0.09309076]]\n",
      "TRAINING TRAINING [[ 0.12051179]]\n",
      "THEME THEME [[ 0.15068798]]\n",
      "TRAINING TRAINING [[ 0.2831341]]\n",
      "DOCS DOCS [[ 0.1975882]]\n",
      "PACKAGE PACKAGE [[ 0.24928419]]\n",
      "BUSINESS BUSINESS [[ 0.26633053]]\n",
      "THEME THEME [[ 0.21371647]]\n",
      "NEWS NEWS [[ 0.08364691]]\n",
      "PACKAGE PACKAGE [[ 0.15143695]]\n",
      "PACKAGE PACKAGE [[ 0.17517102]]\n",
      "PACKAGE NEWS [[ 0.16489978]]\n",
      "NEWS NEWS [[ 0.23226898]]\n",
      "NOCLASS NOCLASS [[ 0.17474081]]\n",
      "TRAINING TRAINING [[ 0.17490031]]\n",
      "BUSINESS BUSINESS [[ 0.22251138]]\n",
      "PACKAGE PACKAGE [[ 0.28569151]]\n",
      "NEWS NEWS [[ 0.13208046]]\n",
      "THEME THEME [[ 0.33486512]]\n",
      "NEWS NEWS [[ 0.20510302]]\n",
      "TRAINING NEWS [[ 0.11080017]]\n",
      "NEWS NEWS [[ 0.29344128]]\n",
      "REPL REPL [[ 0.24099123]]\n",
      "TRAINING TRAINING [[ 0.32894176]]\n",
      "NEWS TRAINING [[ 0.17748974]]\n",
      "BUSINESS BUSINESS [[ 0.26196332]]\n",
      "NEWS NEWS [[ 0.15375935]]\n",
      "TRAINING TRAINING [[ 0.08992927]]\n",
      "NEWS NEWS [[ 0.18542773]]\n",
      "DOCS DOCS [[ 0.28069878]]\n",
      "TRAINING TRAINING [[ 0.33106843]]\n",
      "NEWS NEWS [[ 0.28497053]]\n",
      "NEWS NEWS [[ 0.17642179]]\n",
      "NEWS NEWS [[ 0.16719857]]\n",
      "NEWS NEWS [[ 0.13466088]]\n",
      "TRAINING NOCLASS [[ 0.13675632]]\n",
      "NEWS THEME [[ 0.09002517]]\n",
      "NEWS NEWS [[ 0.27157909]]\n",
      "NEWS NEWS [[ 0.20680449]]\n",
      "NEWS NEWS [[ 0.07503282]]\n",
      "PACKAGE PACKAGE [[ 0.04561434]]\n",
      "NEWS NEWS [[ 0.20599468]]\n",
      "SENGINE SENGINE [[ 0.5910125]]\n",
      "NEWS NEWS [[ 0.24420417]]\n",
      "NOCLASS NOCLASS [[ 0.14663312]]\n",
      "PACKAGE PACKAGE [[ 0.19373172]]\n",
      "THEME THEME [[ 0.32223184]]\n",
      "NEWS NEWS [[ 0.16312745]]\n",
      "NEWS NEWS [[ 0.27165205]]\n",
      "ECOMMERCE ECOMMERCE [[ 0.50574905]]\n",
      "BUSINESS BUSINESS [[ 0.26196332]]\n",
      "PACKAGE PACKAGE [[ 0.26923278]]\n",
      "NOCLASS NOCLASS [[ 0.34674055]]\n",
      "NEWS PACKAGE [[ 0.08637619]]\n",
      "PACKAGE NOCLASS [[ 0.28395382]]\n",
      "NEWS NEWS [[ 0.05568137]]\n",
      "TRAINING TRAINING [[ 0.20142465]]\n",
      "BUSINESS BUSINESS [[ 0.34488947]]\n",
      "TRAINING TRAINING [[ 0.15041625]]\n",
      "PACKAGE PACKAGE [[ 0.16899167]]\n",
      "PACKAGE PACKAGE [[ 0.16236273]]\n",
      "COMMUITY COMMUITY [[ 0.18598257]]\n",
      "PACKAGE PACKAGE [[ 0.36024815]]\n",
      "NEWS NEWS [[ 0.11375796]]\n",
      "TRAINING NEWS [[ 0.13610147]]\n",
      "NEWS REPL [[ 0.18561784]]\n",
      "TRAINING TRAINING [[ 0.16124177]]\n",
      "NEWS NEWS [[ 0.16938669]]\n",
      "THEME THEME [[ 0.30009717]]\n",
      "NEWS THEME [[ 0.23760484]]\n",
      "PACKAGE PACKAGE [[ 0.20728903]]\n",
      "NEWS TRAINING [[ 0.23566912]]\n",
      "PACKAGE PACKAGE [[ 0.08318903]]\n",
      "TRAINING TRAINING [[ 0.31657255]]\n",
      "PACKAGE PACKAGE [[ 0.29769604]]\n",
      "THEME THEME [[ 0.20062753]]\n",
      "PACKAGE PACKAGE [[ 0.07368087]]\n",
      "NEWS NEWS [[ 0.10380988]]\n",
      "NEWS NEWS [[ 0.09609444]]\n",
      "TRAINING TRAINING [[ 0.40025028]]\n",
      "PACKAGE PACKAGE [[ 0.07985718]]\n",
      "NEWS NEWS [[ 0.15406981]]\n",
      "COMMUITY COMMUITY [[ 0.07620776]]\n",
      "THEME THEME [[ 0.22914116]]\n",
      "PACKAGE NOCLASS [[ 0.13675632]]\n",
      "NEWS PACKAGE [[ 0.13684301]]\n",
      "TRAINING TRAINING [[ 0.17660006]]\n",
      "PACKAGE PACKAGE [[ 0.20597978]]\n",
      "REPL PACKAGE [[ 0.13127052]]\n",
      "PACKAGE NEWS [[ 0.16990903]]\n",
      "PACKAGE PACKAGE [[ 0.14326837]]\n",
      "NEWS NEWS [[ 0.15311581]]\n",
      "BUSINESS BUSINESS [[ 0.21497223]]\n",
      "PACKAGE PACKAGE [[ 0.05521735]]\n",
      "PACKAGE PACKAGE [[ 0.22777551]]\n",
      "PAAS PAAS [[ 0.64825139]]\n",
      "PACKAGE PACKAGE [[ 0.15363524]]\n",
      "REPL REPL [[ 0.18856224]]\n",
      "NEWS NEWS [[ 0.23602725]]\n",
      "NEWS NEWS [[ 0.20638215]]\n",
      "PACKAGE PACKAGE [[ 0.16811936]]\n",
      "TRAINING TRAINING [[ 0.21229518]]\n",
      "NEWS PACKAGE [[ 0.1112388]]\n",
      "REPL NEWS [[ 0.23876656]]\n",
      "PACKAGE PACKAGE [[ 0.17078556]]\n",
      "TRAINING TRAINING [[ 0.25210569]]\n",
      "NEWS NEWS [[ 0.14979702]]\n",
      "ECOMMERCE ECOMMERCE [[ 0.37087352]]\n",
      "NEWS NEWS [[ 0.09057864]]\n",
      "PACKAGE PACKAGE [[ 0.28362922]]\n",
      "REPL PACKAGE [[ 0.08426614]]\n",
      "PACKAGE PACKAGE [[ 0.1850014]]\n",
      "NEWS NEWS [[ 0.08364691]]\n",
      "NOCLASS NOCLASS [[ 0.20280346]]\n",
      "NEWS NEWS [[ 0.16146005]]\n",
      "NEWS NEWS [[ 0.11994744]]\n",
      "NEWS NEWS [[ 0.09550526]]\n",
      "BUSINESS BUSINESS [[ 0.29190639]]\n",
      "TRAINING NEWS [[ 0.17164298]]\n",
      "NEWS NEWS [[ 0.12572114]]\n",
      "DOCS DOCS [[ 0.17622926]]\n",
      "TRAINING TRAINING [[ 0.15552223]]\n",
      "NEWS NEWS [[ 0.11724824]]\n",
      "PACKAGE NOCLASS [[ 0.23928378]]\n",
      "TRAINING TRAINING [[ 0.27816137]]\n",
      "DOCS DOCS [[ 0.20413886]]\n",
      "NOCLASS NOCLASS [[ 0.20177331]]\n",
      "PACKAGE PACKAGE [[ 0.27145671]]\n",
      "ECOMMERCE ECOMMERCE [[ 0.26599759]]\n",
      "REPL REPL [[ 0.03662242]]\n",
      "PACKAGE TRAINING [[ 0.14276773]]\n",
      "NEWS NEWS [[ 0.34229113]]\n",
      "NEWS NEWS [[ 0.21987005]]\n",
      "PACKAGE PACKAGE [[ 0.20948778]]\n",
      "NEWS NEWS [[ 0.13505032]]\n",
      "NEWS THEME [[ 0.27626373]]\n",
      "NEWS NEWS [[ 0.28434183]]\n",
      "PACKAGE PACKAGE [[ 0.04889617]]\n",
      "PACKAGE PACKAGE [[ 0.17331118]]\n",
      "PACKAGE PACKAGE [[ 0.12476561]]\n",
      "REPL REPL [[ 0.04952255]]\n",
      "TRAINING TRAINING [[ 0.27896747]]\n",
      "NEWS NEWS [[ 0.23151522]]\n",
      "TRAINING NEWS [[ 0.16668371]]\n",
      "TRAINING TRAINING [[ 0.18500959]]\n",
      "TRAINING TRAINING [[ 0.27434229]]\n",
      "NEWS NEWS [[ 0.13408797]]\n",
      "PACKAGE PACKAGE [[ 0.2703736]]\n",
      "NEWS NEWS [[ 0.28434183]]\n",
      "THEME THEME [[ 0.1328943]]\n",
      "NOCLASS SENGINE [[ 0.10614898]]\n",
      "PAAS PAAS [[ 0.57124644]]\n",
      "NEWS NEWS [[ 0.17677484]]\n",
      "THEME THEME [[ 0.21905324]]\n",
      "NEWS PACKAGE [[ 0.13022949]]\n",
      "NEWS NEWS [[ 0.18215435]]\n",
      "REPL NEWS [[ 0.2211531]]\n",
      "TRAINING PACKAGE [[ 0.0792249]]\n",
      "REPL REPL [[ 0.27356728]]\n",
      "NEWS NEWS [[ 0.15069819]]\n",
      "PACKAGE PACKAGE [[ 0.29570318]]\n",
      "NEWS NEWS [[ 0.22288697]]\n",
      "NEWS NEWS [[ 0.10158478]]\n",
      "TRAINING TRAINING [[ 0.20768276]]\n",
      "PACKAGE TRAINING [[ 0.14276773]]\n",
      "THEME THEME [[ 0.1239001]]\n",
      "NOCLASS NOCLASS [[ 0.23033682]]\n",
      "BUSINESS BUSINESS [[ 0.24386892]]\n",
      "PACKAGE NEWS [[ 0.14156122]]\n",
      "TRAINING TRAINING [[ 0.08557472]]\n",
      "NOCLASS NEWS [[ 0.19945349]]\n",
      "DOCS DOCS [[ 0.29303128]]\n",
      "THEME THEME [[ 0.16461746]]\n",
      "COMMUITY COMMUITY [[ 0.21487404]]\n",
      "TRAINING TRAINING [[ 0.2801862]]\n",
      "NEWS NEWS [[ 0.11272202]]\n",
      "NEWS TRAINING [[ 0.06851074]]\n",
      "NEWS NEWS [[ 0.15558053]]\n",
      "NEWS NEWS [[ 0.10143607]]\n",
      "NOCLASS NOCLASS [[ 0.15485291]]\n",
      "NOCLASS PACKAGE [[ 0.35570077]]\n",
      "NOCLASS NOCLASS [[ 0.0218426]]\n",
      "NEWS NEWS [[ 0.25247226]]\n",
      "TRAINING TRAINING [[ 0.24613569]]\n",
      "TRAINING TRAINING [[ 0.02595777]]\n",
      "BUSINESS BUSINESS [[ 0.21966868]]\n",
      "NOCLASS NOCLASS [[ 0.26418327]]\n",
      "PACKAGE PACKAGE [[ 0.09841142]]\n",
      "NOCLASS NOCLASS [[ 0.17337027]]\n",
      "NEWS NEWS [[ 0.20466033]]\n",
      "NEWS NEWS [[ 0.19455861]]\n",
      "NEWS NEWS [[ 0.25983553]]\n",
      "BUSINESS BUSINESS [[ 0.09725407]]\n",
      "TRAINING TRAINING [[ 0.33920968]]\n",
      "TRAINING TRAINING [[ 0.14846287]]\n",
      "PACKAGE PACKAGE [[ 0.21642772]]\n",
      "PACKAGE PACKAGE [[ 0.17078556]]\n",
      "THEME THEME [[ 0.40950834]]\n",
      "PACKAGE PACKAGE [[ 0.04561434]]\n",
      "COMMUITY COMMUITY [[ 0.28968974]]\n",
      "NEWS NEWS [[ 0.08096453]]\n",
      "TRAINING TRAINING [[ 0.08213452]]\n",
      "NEWS NEWS [[ 0.11968045]]\n",
      "NEWS NEWS [[ 0.13295408]]\n",
      "TRAINING TRAINING [[ 0.33969565]]\n",
      "TRAINING TRAINING [[ 0.1840097]]\n",
      "TRAINING TRAINING [[ 0.20953738]]\n",
      "NEWS NEWS [[ 0.23379858]]\n",
      "PACKAGE PACKAGE [[ 0.17268531]]\n",
      "NEWS NEWS [[ 0.16161572]]\n",
      "NEWS NEWS [[ 0.11117249]]\n",
      "BUSINESS BUSINESS [[ 0.25753049]]\n",
      "NEWS NEWS [[ 0.17742096]]\n",
      "NEWS NEWS [[ 0.17399487]]\n",
      "SENGINE SENGINE [[ 0.61105248]]\n",
      "NEWS NEWS [[ 0.21469904]]\n",
      "PACKAGE PACKAGE [[ 0.19599318]]\n",
      "NEWS PACKAGE [[ 0.07202264]]\n",
      "PAAS PAAS [[ 0.15518593]]\n",
      "BUSINESS BUSINESS [[ 0.21194481]]\n",
      "NEWS NEWS [[ 0.32158753]]\n",
      "NEWS PACKAGE [[ 0.13684301]]\n",
      "THEME THEME [[ 0.41474852]]\n",
      "TRAINING TRAINING [[ 0.17198096]]\n",
      "DOCS DOCS [[ 0.17182056]]\n",
      "THEME THEME [[ 0.13373804]]\n",
      "PACKAGE PACKAGE [[ 0.24106624]]\n",
      "NEWS NEWS [[ 0.2187492]]\n",
      "NEWS NEWS [[ 0.10538384]]\n",
      "PACKAGE PACKAGE [[ 0.17480383]]\n",
      "TRAINING TRAINING [[ 0.20783917]]\n",
      "TRAINING TRAINING [[ 0.16810746]]\n",
      "BUSINESS BUSINESS [[ 0.22768606]]\n",
      "PACKAGE PACKAGE [[ 0.19698959]]\n",
      "NEWS NEWS [[ 0.13398955]]\n",
      "PACKAGE PACKAGE [[ 0.08870888]]\n",
      "NEWS NEWS [[ 0.31301353]]\n",
      "TRAINING TRAINING [[ 0.20953738]]\n",
      "NEWS NEWS [[ 0.13718989]]\n",
      "NEWS NEWS [[ 0.12003987]]\n",
      "PACKAGE COMMUITY [[ 0.02130072]]\n",
      "PACKAGE PACKAGE [[ 0.16564278]]\n",
      "NEWS PACKAGE [[ 0.14602456]]\n",
      "NEWS NEWS [[ 0.16063419]]\n",
      "PACKAGE PACKAGE [[ 0.16984793]]\n",
      "NEWS NEWS [[ 0.16856896]]\n",
      "THEME THEME [[ 0.21401564]]\n",
      "NEWS NEWS [[ 0.24700135]]\n",
      "SENGINE SENGINE [[ 0.48915327]]\n",
      "NEWS NEWS [[ 0.13634942]]\n",
      "PACKAGE NOCLASS [[ 0.0218426]]\n",
      "TRAINING TRAINING [[ 0.28306784]]\n",
      "NEWS PACKAGE [[ 0.14185685]]\n",
      "BUSINESS BUSINESS [[ 0.18727496]]\n",
      "TRAINING TRAINING [[ 0.11773338]]\n",
      "NOCLASS NOCLASS [[ 0.21190436]]\n",
      "PACKAGE PACKAGE [[ 0.23460964]]\n",
      "THEME THEME [[ 0.16521349]]\n",
      "TRAINING TRAINING [[ 0.30220219]]\n",
      "PACKAGE PACKAGE [[ 0.30627268]]\n",
      "PACKAGE PACKAGE [[ 0.35570077]]\n",
      "NEWS PACKAGE [[ 0.13710785]]\n",
      "PACKAGE PACKAGE [[ 0.25571543]]\n",
      "PACKAGE PACKAGE [[ 0.14146129]]\n",
      "DOCS DOCS [[ 0.33830827]]\n",
      "BUSINESS BUSINESS [[ 0.14082366]]\n",
      "NEWS NEWS [[ 0.12489674]]\n",
      "TRAINING TRAINING [[ 0.16580784]]\n",
      "NEWS NEWS [[ 0.07073886]]\n",
      "TRAINING TRAINING [[ 0.20393103]]\n",
      "NEWS NEWS [[ 0.13980185]]\n",
      "TRAINING TRAINING [[ 0.29867008]]\n",
      "BUSINESS BUSINESS [[ 0.28114707]]\n",
      "PACKAGE PACKAGE [[ 0.03389183]]\n",
      "NEWS THEME [[ 0.16082203]]\n",
      "REPL REPL [[ 0.27356728]]\n",
      "PACKAGE PACKAGE [[ 0.09160695]]\n",
      "BUSINESS BUSINESS [[ 0.249328]]\n",
      "NOCLASS NOCLASS [[ 0.2204856]]\n",
      "THEME THEME [[ 0.04455091]]\n",
      "NEWS NEWS [[ 0.13634942]]\n",
      "NEWS NEWS [[ 0.24374463]]\n",
      "NOCLASS NOCLASS [[ 0.13209164]]\n",
      "DOCS DOCS [[ 0.2021375]]\n",
      "PACKAGE PACKAGE [[ 0.11657622]]\n",
      "PACKAGE PACKAGE [[ 0.1278275]]\n",
      "TRAINING TRAINING [[ 0.26260169]]\n",
      "PACKAGE PACKAGE [[ 0.1278275]]\n",
      "PACKAGE PACKAGE [[ 0.21721581]]\n",
      "DOCS DOCS [[ 0.51189439]]\n",
      "NEWS NEWS [[ 0.0693103]]\n",
      "NEWS NEWS [[ 0.14647671]]\n",
      "TRAINING NEWS [[ 0.11892173]]\n",
      "REPL REPL [[ 0.23531356]]\n",
      "REPL REPL [[ 0.3686692]]\n",
      "PACKAGE PACKAGE [[ 0.14924251]]\n",
      "NEWS NEWS [[ 0.15082624]]\n",
      "TRAINING TRAINING [[ 0.14882105]]\n",
      "TRAINING TRAINING [[ 0.26036989]]\n",
      "TRAINING TRAINING [[ 0.24412664]]\n",
      "NOCLASS NOCLASS [[ 0.0378325]]\n",
      "PACKAGE NOCLASS [[ 0.13675632]]\n",
      "NEWS NEWS [[ 0.22322673]]\n",
      "NEWS NEWS [[ 0.19866296]]\n",
      "TRAINING TRAINING [[ 0.31410893]]\n",
      "NEWS NEWS [[ 0.24471951]]\n",
      "BUSINESS BUSINESS [[ 0.20081291]]\n",
      "NEWS NEWS [[ 0.25723737]]\n",
      "PACKAGE PACKAGE [[ 0.17879963]]\n",
      "NEWS NEWS [[ 0.16787802]]\n",
      "NEWS NEWS [[ 0.20174263]]\n"
     ]
    }
   ],
   "source": [
    "quickanal = []\n",
    "\n",
    "for rec in train3.loc[:,['category','alltext']].iterrows():\n",
    "    m = countmod.transform([rec[1].alltext])\n",
    "    vals = []\n",
    "    for les in le.classes_:\n",
    "        vals.append(cosine_similarity(m, models[les][0]))\n",
    "    index = vals.index(max(vals))\n",
    "    assigned = le.classes_[index]\n",
    "    #print('Category was {0}; Assigned was {1} (cosine_sim : {2:.2f})'.format(rec[1].category,assigned,max(vals)))\n",
    "    print(rec[1].category,assigned,max(vals))\n",
    "    if rec[1].category == assigned:\n",
    "        quickanal.append(1)\n",
    "    else:\n",
    "        quickanal.append(0)\n",
    "    #break"
   ]
  },
  {
   "cell_type": "code",
   "execution_count": 350,
   "metadata": {
    "collapsed": false
   },
   "outputs": [
    {
     "data": {
      "text/plain": [
       "0.8386727688787186"
      ]
     },
     "execution_count": 350,
     "metadata": {},
     "output_type": "execute_result"
    }
   ],
   "source": [
    "sum(quickanal)/len(quickanal)"
   ]
  },
  {
   "cell_type": "code",
   "execution_count": 351,
   "metadata": {
    "collapsed": false
   },
   "outputs": [
    {
     "name": "stdout",
     "output_type": "stream",
     "text": [
      "PACKAGE NEWS [[ 0.27505798]]\n",
      "PACKAGE PACKAGE [[ 0.10332174]]\n",
      "PACKAGE PACKAGE [[ 0.19198696]]\n",
      "PACKAGE PACKAGE [[ 0.26805355]]\n",
      "PACKAGE PACKAGE [[ 0.13610793]]\n",
      "PACKAGE PACKAGE [[ 0.10922368]]\n",
      "PACKAGE PACKAGE [[ 0.24681278]]\n",
      "PACKAGE PACKAGE [[ 0.23025273]]\n",
      "PACKAGE PACKAGE [[ 0.16019328]]\n",
      "PACKAGE PACKAGE [[ 0.16594139]]\n",
      "PACKAGE DOCS [[ 0.18878856]]\n",
      "PACKAGE PACKAGE [[ 0.2966455]]\n",
      "PACKAGE DOCS [[ 0.15753209]]\n",
      "PACKAGE PACKAGE [[ 0.22300757]]\n",
      "PACKAGE PACKAGE [[ 0.12065379]]\n",
      "PACKAGE PACKAGE [[ 0.22445839]]\n",
      "PACKAGE NEWS [[ 0.33215675]]\n",
      "PACKAGE NOCLASS [[ 0.14197691]]\n",
      "PACKAGE PACKAGE [[ 0.1426824]]\n",
      "PACKAGE PACKAGE [[ 0.12786462]]\n",
      "PACKAGE DOCS [[ 0.12390157]]\n",
      "PACKAGE NEWS [[ 0.35507437]]\n",
      "PACKAGE THEME [[ 0.20944652]]\n",
      "PACKAGE PACKAGE [[ 0.15817979]]\n",
      "PACKAGE PACKAGE [[ 0.11523622]]\n",
      "PACKAGE THEME [[ 0.12731482]]\n",
      "PACKAGE PACKAGE [[ 0.22033818]]\n",
      "PACKAGE THEME [[ 0.16286167]]\n",
      "NEWS NEWS [[ 0.08120192]]\n",
      "NEWS TRAINING [[ 0.23296029]]\n",
      "NEWS NEWS [[ 0.29510954]]\n",
      "NEWS NEWS [[ 0.3746138]]\n",
      "NEWS NEWS [[ 0.21623833]]\n",
      "NEWS REPL [[ 0.13569371]]\n",
      "NEWS NEWS [[ 0.21076768]]\n",
      "NEWS PACKAGE [[ 0.22598647]]\n",
      "NEWS NEWS [[ 0.11786318]]\n",
      "NEWS NEWS [[ 0.20807543]]\n",
      "NEWS NEWS [[ 0.24635339]]\n",
      "NEWS NEWS [[ 0.27278729]]\n",
      "NEWS PACKAGE [[ 0.15009188]]\n",
      "NEWS NEWS [[ 0.15028564]]\n",
      "NEWS NEWS [[ 0.2795694]]\n",
      "NEWS NEWS [[ 0.26472917]]\n",
      "NEWS NEWS [[ 0.16496811]]\n",
      "NEWS NEWS [[ 0.24714229]]\n",
      "NEWS NEWS [[ 0.333032]]\n",
      "NEWS NEWS [[ 0.28369888]]\n",
      "NEWS NEWS [[ 0.23564543]]\n",
      "NEWS NEWS [[ 0.36856453]]\n",
      "NEWS NEWS [[ 0.23405811]]\n",
      "NEWS NEWS [[ 0.17208967]]\n",
      "NEWS PACKAGE [[ 0.20061589]]\n",
      "NEWS THEME [[ 0.1006512]]\n",
      "NEWS NEWS [[ 0.15715644]]\n",
      "NEWS NEWS [[ 0.29718263]]\n",
      "NEWS NEWS [[ 0.32339775]]\n",
      "NEWS NEWS [[ 0.2139592]]\n",
      "NEWS PACKAGE [[ 0.28445536]]\n",
      "NEWS NEWS [[ 0.19781902]]\n",
      "NEWS PACKAGE [[ 0.21291323]]\n",
      "NEWS NEWS [[ 0.21042518]]\n",
      "NEWS NEWS [[ 0.26218898]]\n",
      "NEWS NEWS [[ 0.26659652]]\n",
      "NEWS BUSINESS [[ 0.06768974]]\n",
      "NEWS NEWS [[ 0.23399624]]\n",
      "THEME THEME [[ 0.23715194]]\n",
      "THEME NEWS [[ 0.24364325]]\n",
      "THEME PACKAGE [[ 0.24436411]]\n",
      "REPL REPL [[ 0.22715565]]\n",
      "REPL TRAINING [[ 0.30979886]]\n",
      "REPL TRAINING [[ 0.32984568]]\n",
      "REPL NEWS [[ 0.20812939]]\n",
      "TRAINING TRAINING [[ 0.39073116]]\n",
      "TRAINING TRAINING [[ 0.34115926]]\n",
      "TRAINING TRAINING [[ 0.30512567]]\n",
      "TRAINING NEWS [[ 0.26610911]]\n",
      "TRAINING TRAINING [[ 0.17143016]]\n",
      "TRAINING TRAINING [[ 0.20673509]]\n",
      "TRAINING TRAINING [[ 0.26571769]]\n",
      "TRAINING TRAINING [[ 0.24919882]]\n",
      "TRAINING TRAINING [[ 0.27064468]]\n",
      "TRAINING TRAINING [[ 0.2822219]]\n",
      "TRAINING TRAINING [[ 0.30399213]]\n",
      "NOCLASS PACKAGE [[ 0.15817979]]\n",
      "NOCLASS NEWS [[ 0.16758736]]\n",
      "NOCLASS NOCLASS [[ 0.24070554]]\n",
      "NOCLASS BUSINESS [[ 0.09081532]]\n",
      "NOCLASS NEWS [[ 0.20898563]]\n",
      "DOCS DOCS [[ 0.21368692]]\n",
      "DOCS NEWS [[ 0.187102]]\n",
      "BUSINESS NEWS [[ 0.33157559]]\n",
      "BUSINESS NEWS [[ 0.23975935]]\n",
      "BUSINESS NEWS [[ 0.10829279]]\n",
      "PAAS PACKAGE [[ 0.20614081]]\n",
      "PAAS PACKAGE [[ 0.18300654]]\n",
      "PAAS NEWS [[ 0.18574542]]\n",
      "PAAS TRAINING [[ 0.20153171]]\n",
      "TRAINING TRAINING [[ 0.20226131]]\n",
      "NEWS NEWS [[ 0.23835771]]\n",
      "PACKAGE PACKAGE [[ 0.17741776]]\n",
      "PACKAGE TRAINING [[ 0.14955917]]\n",
      "NEWS NEWS [[ 0.17704513]]\n",
      "NEWS NEWS [[ 0.15078081]]\n",
      "NEWS NEWS [[ 0.25300322]]\n",
      "PACKAGE BUSINESS [[ 0.17910904]]\n",
      "NEWS NEWS [[ 0.22611169]]\n",
      "PACKAGE PACKAGE [[ 0.12068419]]\n",
      "PAAS NEWS [[ 0.26398872]]\n",
      "COMMUITY SENGINE [[ 0.10614898]]\n",
      "COMMUITY THEME [[ 0.05645069]]\n",
      "NEWS NEWS [[ 0.23696117]]\n",
      "NEWS NEWS [[ 0.273977]]\n",
      "NOCLASS PACKAGE [[ 0.08084521]]\n",
      "SENGINE COMMUITY [[ 0.05680191]]\n",
      "NEWS NEWS [[ 0.20514169]]\n",
      "PACKAGE THEME [[ 0.16391768]]\n",
      "PACKAGE NEWS [[ 0.17647623]]\n",
      "COMMUITY COMMUITY [[ 0.13487056]]\n",
      "NEWS NEWS [[ 0.1940158]]\n",
      "NEWS NEWS [[ 0.21533922]]\n",
      "TRAINING TRAINING [[ 0.31011726]]\n",
      "NEWS TRAINING [[ 0.30661031]]\n",
      "NEWS TRAINING [[ 0.21216536]]\n",
      "NEWS PACKAGE [[ 0.2118127]]\n",
      "NEWS PACKAGE [[ 0.19690578]]\n",
      "TRAINING TRAINING [[ 0.23303903]]\n",
      "NEWS NEWS [[ 0.25129857]]\n",
      "NEWS NEWS [[ 0.22629106]]\n",
      "NEWS NEWS [[ 0.18650556]]\n",
      "NOCLASS PACKAGE [[ 0.14852213]]\n",
      "NEWS NEWS [[ 0.32073367]]\n",
      "NEWS NEWS [[ 0.37000041]]\n",
      "PACKAGE PACKAGE [[ 0.23597313]]\n",
      "NEWS NEWS [[ 0.18151529]]\n",
      "PACKAGE NEWS [[ 0.15156087]]\n",
      "TRAINING TRAINING [[ 0.27105442]]\n",
      "PACKAGE PACKAGE [[ 0.1152225]]\n",
      "NEWS NEWS [[ 0.2766798]]\n",
      "NEWS BUSINESS [[ 0.0568016]]\n",
      "TRAINING NEWS [[ 0.34749508]]\n",
      "REPL NOCLASS [[ 0.0218426]]\n",
      "PACKAGE PACKAGE [[ 0.20997297]]\n",
      "PAAS REPL [[ 0.13899529]]\n",
      "PACKAGE PACKAGE [[ 0.06138247]]\n",
      "PAAS NOCLASS [[ 0.07875462]]\n",
      "PACKAGE PACKAGE [[ 0.19986312]]\n",
      "NEWS NEWS [[ 0.13674934]]\n",
      "DOCS NEWS [[ 0.22635177]]\n",
      "DOCS NEWS [[ 0.21899939]]\n",
      "NEWS NEWS [[ 0.33270121]]\n",
      "PAAS NEWS [[ 0.2330182]]\n",
      "TRAINING NEWS [[ 0.22569876]]\n",
      "PACKAGE PACKAGE [[ 0.078336]]\n",
      "NEWS NEWS [[ 0.27565087]]\n",
      "NEWS NEWS [[ 0.15137488]]\n",
      "TRAINING TRAINING [[ 0.36181672]]\n",
      "COMMUITY TRAINING [[ 0.21935948]]\n",
      "PACKAGE PACKAGE [[ 0.23701661]]\n",
      "NEWS NEWS [[ 0.22867203]]\n",
      "PACKAGE PACKAGE [[ 0.16671507]]\n",
      "PACKAGE NEWS [[ 0.04396809]]\n",
      "NEWS NEWS [[ 0.27346672]]\n",
      "PACKAGE PACKAGE [[ 0.19313022]]\n",
      "TRAINING NEWS [[ 0.25049146]]\n",
      "NEWS REVIEWS [[ 0.05707301]]\n",
      "PACKAGE PACKAGE [[ 0.24896815]]\n",
      "TRAINING NEWS [[ 0.3463326]]\n",
      "TRAINING NEWS [[ 0.16540135]]\n",
      "PACKAGE PACKAGE [[ 0.12392406]]\n",
      "TRAINING NOCLASS [[ 0.02522166]]\n",
      "PACKAGE NEWS [[ 0.14418661]]\n",
      "NEWS NEWS [[ 0.24664193]]\n",
      "NEWS TRAINING [[ 0.19453151]]\n",
      "BUSINESS NEWS [[ 0.2016949]]\n",
      "PACKAGE NEWS [[ 0.21083237]]\n",
      "NEWS NEWS [[ 0.18726789]]\n",
      "PACKAGE PACKAGE [[ 0.24335286]]\n",
      "BUSINESS NEWS [[ 0.29930878]]\n",
      "NOCLASS PACKAGE [[ 0.12068419]]\n",
      "NEWS NEWS [[ 0.23209133]]\n",
      "PACKAGE THEME [[ 0.0545635]]\n",
      "TRAINING THEME [[ 0.08167666]]\n",
      "NEWS NEWS [[ 0.26218898]]\n",
      "TRAINING TRAINING [[ 0.24613569]]\n",
      "REPL THEME [[ 0.05176348]]\n",
      "NEWS NEWS [[ 0.13941054]]\n",
      "BUSINESS BUSINESS [[ 0.11046177]]\n",
      "NOCLASS NOCLASS [[ 0.28395382]]\n",
      "BUSINESS BUSINESS [[ 0.09725407]]\n",
      "NOCLASS NOCLASS [[ 0.06604582]]\n",
      "TRAINING THEME [[ 0.02875749]]\n",
      "NOCLASS NOCLASS [[ 0.21190436]]\n",
      "COMMUITY COMMUITY [[ 0.12705471]]\n",
      "REPL REPL [[ 0.34171436]]\n",
      "BUSINESS BUSINESS [[ 0.25753049]]\n",
      "NEWS PACKAGE [[ 0.10634918]]\n",
      "NEWS NEWS [[ 0.1276828]]\n",
      "NEWS THEME [[ 0.11574665]]\n",
      "NEWS NEWS [[ 0.16312745]]\n",
      "DOCS DOCS [[ 0.29303128]]\n",
      "NEWS THEME [[ 0.16082203]]\n",
      "NEWS NEWS [[ 0.32710009]]\n",
      "NEWS NEWS [[ 0.29994638]]\n",
      "REPL NEWS [[ 0.11285928]]\n",
      "PACKAGE PACKAGE [[ 0.24928419]]\n",
      "BUSINESS BUSINESS [[ 0.24386892]]\n",
      "NOCLASS NOCLASS [[ 0.15209235]]\n",
      "TRAINING NOCLASS [[ 0.21623072]]\n",
      "TRAINING TRAINING [[ 0.26260169]]\n",
      "REPL REPL [[ 0.31983581]]\n",
      "TRAINING THEME [[ 0.05751497]]\n",
      "THEME THEME [[ 0.23791526]]\n",
      "NEWS NEWS [[ 0.27165205]]\n",
      "NEWS NEWS [[ 0.41535779]]\n",
      "NEWS TRAINING [[ 0.35161103]]\n",
      "NEWS NEWS [[ 0.16938669]]\n",
      "NEWS PACKAGE [[ 0.06249344]]\n",
      "TRAINING TRAINING [[ 0.17198096]]\n",
      "NEWS NEWS [[ 0.10538384]]\n",
      "TRAINING TRAINING [[ 0.2801862]]\n",
      "NEWS NEWS [[ 0.06638213]]\n",
      "TRAINING TRAINING [[ 0.26693299]]\n",
      "REPL REPL [[ 0.16713861]]\n",
      "NEWS PACKAGE [[ 0.15502715]]\n",
      "NEWS NEWS [[ 0.09876205]]\n",
      "TRAINING NEWS [[ 0.13610147]]\n",
      "NEWS NEWS [[ 0.21987005]]\n",
      "NEWS THEME [[ 0.20255664]]\n",
      "REPL NOCLASS [[ 0.10732446]]\n",
      "REPL PACKAGE [[ 0.27269866]]\n",
      "PAAS PAAS [[ 0.13983925]]\n",
      "TRAINING TRAINING [[ 0.33019744]]\n",
      "REPL REPL [[ 0.03662242]]\n",
      "NEWS NOCLASS [[ 0.16394081]]\n",
      "NOCLASS NOCLASS [[ 0.16511455]]\n",
      "COMMUITY COMMUITY [[ 0.23454584]]\n",
      "NEWS NEWS [[ 0.23209133]]\n",
      "NEWS NEWS [[ 0.16959059]]\n",
      "PACKAGE THEME [[ 0.0545635]]\n",
      "TRAINING THEME [[ 0.08167666]]\n",
      "TRAINING THEME [[ 0.02875749]]\n",
      "NEWS TRAINING [[ 0.16547588]]\n",
      "NEWS NEWS [[ 0.26218898]]\n",
      "NOCLASS NOCLASS [[ 0.2204856]]\n",
      "BUSINESS BUSINESS [[ 0.17141493]]\n",
      "BUSINESS NOCLASS [[ 0.28395382]]\n",
      "REPL THEME [[ 0.05176348]]\n",
      "NEWS NEWS [[ 0.18421481]]\n",
      "NEWS NEWS [[ 0.17878526]]\n",
      "PACKAGE PACKAGE [[ 0.0843459]]\n",
      "NOCLASS THEME [[ 0.16104193]]\n",
      "TRAINING TRAINING [[ 0.26736203]]\n",
      "REVIEWS REVIEWS [[ 0.62297004]]\n",
      "NEWS THEME [[ 0.11574665]]\n",
      "DOCS DOCS [[ 0.04568819]]\n",
      "THEME THEME [[ 0.13124437]]\n",
      "PACKAGE PACKAGE [[ 0.05237828]]\n",
      "BUSINESS BUSINESS [[ 0.18688037]]\n",
      "NEWS NEWS [[ 0.13712102]]\n",
      "NEWS NEWS [[ 0.15311581]]\n",
      "NEWS THEME [[ 0.10207895]]\n",
      "COMMUITY COMMUITY [[ 0.07620776]]\n",
      "TRAINING NOCLASS [[ 0.21623072]]\n",
      "TRAINING TRAINING [[ 0.31705561]]\n",
      "PACKAGE COMMUITY [[ 0.02130072]]\n",
      "COMMUITY COMMUITY [[ 0.21487404]]\n",
      "NEWS NEWS [[ 0.41535779]]\n",
      "NEWS THEME [[ 0.19555091]]\n",
      "NEWS NOCLASS [[ 0.09023577]]\n",
      "NEWS TRAINING [[ 0.35161103]]\n",
      "DOCS DOCS [[ 0.11503972]]\n",
      "COMMUITY COMMUITY [[ 0.79177698]]\n",
      "BUSINESS BUSINESS [[ 0.22251138]]\n",
      "TRAINING TRAINING [[ 0.23957699]]\n",
      "COMMUITY COMMUITY [[ 0.24162532]]\n",
      "NEWS NEWS [[ 0.09876205]]\n",
      "PACKAGE THEME [[ 0.11540993]]\n",
      "TRAINING TRAINING [[ 0.32192956]]\n",
      "PACKAGE PACKAGE [[ 0.19144603]]\n",
      "NEWS THEME [[ 0.20255664]]\n",
      "REPL PACKAGE [[ 0.27269866]]\n",
      "THEME NOCLASS [[ 0.10921301]]\n",
      "COMMUITY COMMUITY [[ 0.19636396]]\n",
      "THEME NOCLASS [[ 0.13244022]]\n",
      "BUSINESS NEWS [[ 0.17447655]]\n",
      "REPL REPL [[ 0.19465833]]\n",
      "THEME DOCS [[ 0.03021989]]\n",
      "REPL NEWS [[ 0.23876656]]\n",
      "PACKAGE PACKAGE [[ 0.17331118]]\n",
      "TRAINING TRAINING [[ 0.20783917]]\n",
      "REPL NOCLASS [[ 0.14652462]]\n"
     ]
    }
   ],
   "source": [
    "quickanal = []\n",
    "assigneds = []\n",
    "for rec in test3.loc[:,['category','alltext']].iterrows():\n",
    "    m = countmod.transform([rec[1].alltext])\n",
    "    vals = []\n",
    "    for les in le.classes_:\n",
    "        vals.append(cosine_similarity(m, models[les][0]))\n",
    "    index = vals.index(max(vals))\n",
    "    assigned = le.classes_[index]\n",
    "    #print('Category was {0}; Assigned was {1} (cosine_sim : {2:.2f})'.format(rec[1].category,assigned,max(vals)))\n",
    "    print(rec[1].category,assigned,max(vals))\n",
    "    if rec[1].category == assigned:\n",
    "        quickanal.append(1)\n",
    "    else:\n",
    "        quickanal.append(0)\n",
    "    assigneds.append(assigned)\n",
    "    #break"
   ]
  },
  {
   "cell_type": "code",
   "execution_count": 352,
   "metadata": {
    "collapsed": false
   },
   "outputs": [
    {
     "data": {
      "text/plain": [
       "0.6061643835616438"
      ]
     },
     "execution_count": 352,
     "metadata": {},
     "output_type": "execute_result"
    }
   ],
   "source": [
    "sum(quickanal)/len(quickanal)"
   ]
  },
  {
   "cell_type": "code",
   "execution_count": 353,
   "metadata": {
    "collapsed": false
   },
   "outputs": [
    {
     "name": "stdout",
     "output_type": "stream",
     "text": [
      "             precision    recall  f1-score   support\n",
      "\n",
      "   BUSINESS       0.64      0.50      0.56        14\n",
      "   COMMUITY       0.80      0.73      0.76        11\n",
      "       DOCS       0.50      0.57      0.53         7\n",
      "       NEWS       0.70      0.71      0.71       108\n",
      "    NOCLASS       0.35      0.47      0.40        15\n",
      "       PAAS       1.00      0.11      0.20         9\n",
      "    PACKAGE       0.66      0.63      0.64        59\n",
      "       REPL       0.75      0.33      0.46        18\n",
      "    REVIEWS       0.50      1.00      0.67         1\n",
      "    SENGINE       0.00      0.00      0.00         1\n",
      "      THEME       0.11      0.38      0.17         8\n",
      "   TRAINING       0.68      0.63      0.66        41\n",
      "\n",
      "avg / total       0.66      0.61      0.61       292\n",
      "\n"
     ]
    }
   ],
   "source": [
    "print(classification_report(test3['category'], assigneds))"
   ]
  },
  {
   "cell_type": "code",
   "execution_count": 354,
   "metadata": {
    "collapsed": true
   },
   "outputs": [],
   "source": [
    "pd_predaggregate = pandas.DataFrame({'platform':test3.platform, 'category':y_test, 'pred_dtada':clf_adadt_mod.predict(X_test), 'pred_dth':clf_dt_modh.predict(X_testh), 'pred_svch':clf_svc_modh.predict(X_testh), 'cossim':assigneds})"
   ]
  },
  {
   "cell_type": "code",
   "execution_count": 355,
   "metadata": {
    "collapsed": false,
    "scrolled": false
   },
   "outputs": [
    {
     "data": {
      "text/html": [
       "<div>\n",
       "<table border=\"1\" class=\"dataframe\">\n",
       "  <thead>\n",
       "    <tr style=\"text-align: right;\">\n",
       "      <th></th>\n",
       "      <th>category</th>\n",
       "      <th>cossim</th>\n",
       "      <th>platform</th>\n",
       "      <th>pred_dtada</th>\n",
       "      <th>pred_dth</th>\n",
       "      <th>pred_svch</th>\n",
       "    </tr>\n",
       "  </thead>\n",
       "  <tbody>\n",
       "    <tr>\n",
       "      <th>3</th>\n",
       "      <td>PACKAGE</td>\n",
       "      <td>NEWS</td>\n",
       "      <td>www.highcharts.com</td>\n",
       "      <td>NEWS</td>\n",
       "      <td>NEWS</td>\n",
       "      <td>NEWS</td>\n",
       "    </tr>\n",
       "    <tr>\n",
       "      <th>5</th>\n",
       "      <td>PACKAGE</td>\n",
       "      <td>PACKAGE</td>\n",
       "      <td>quotesondesign.com</td>\n",
       "      <td>NEWS</td>\n",
       "      <td>NEWS</td>\n",
       "      <td>PACKAGE</td>\n",
       "    </tr>\n",
       "    <tr>\n",
       "      <th>9</th>\n",
       "      <td>PACKAGE</td>\n",
       "      <td>PACKAGE</td>\n",
       "      <td>flipclockjs.com</td>\n",
       "      <td>NOCLASS</td>\n",
       "      <td>PACKAGE</td>\n",
       "      <td>PACKAGE</td>\n",
       "    </tr>\n",
       "    <tr>\n",
       "      <th>14</th>\n",
       "      <td>PACKAGE</td>\n",
       "      <td>PACKAGE</td>\n",
       "      <td>meanjs.org</td>\n",
       "      <td>NEWS</td>\n",
       "      <td>PACKAGE</td>\n",
       "      <td>PACKAGE</td>\n",
       "    </tr>\n",
       "    <tr>\n",
       "      <th>15</th>\n",
       "      <td>PACKAGE</td>\n",
       "      <td>PACKAGE</td>\n",
       "      <td>openweathermap.org</td>\n",
       "      <td>THEME</td>\n",
       "      <td>PACKAGE</td>\n",
       "      <td>PACKAGE</td>\n",
       "    </tr>\n",
       "  </tbody>\n",
       "</table>\n",
       "</div>"
      ],
      "text/plain": [
       "   category   cossim            platform pred_dtada pred_dth pred_svch\n",
       "3   PACKAGE     NEWS  www.highcharts.com       NEWS     NEWS      NEWS\n",
       "5   PACKAGE  PACKAGE  quotesondesign.com       NEWS     NEWS   PACKAGE\n",
       "9   PACKAGE  PACKAGE     flipclockjs.com    NOCLASS  PACKAGE   PACKAGE\n",
       "14  PACKAGE  PACKAGE          meanjs.org       NEWS  PACKAGE   PACKAGE\n",
       "15  PACKAGE  PACKAGE  openweathermap.org      THEME  PACKAGE   PACKAGE"
      ]
     },
     "execution_count": 355,
     "metadata": {},
     "output_type": "execute_result"
    }
   ],
   "source": [
    "pd_predaggregate.head(5)"
   ]
  },
  {
   "cell_type": "code",
   "execution_count": 356,
   "metadata": {
    "collapsed": true
   },
   "outputs": [],
   "source": [
    "def classagg(x):\n",
    "    if x.pred_dtada == x.pred_dth == x.pred_svch and x.pred_dth != 'TRAINING':\n",
    "        return x.pred_dtada\n",
    "    return x.pred_svch\n",
    "\n",
    "def classagg1(x):\n",
    "    if x.pred_dth == x.pred_svch and x.pred_dth != 'TRAINING':\n",
    "        return x.pred_dth\n",
    "    if x.pred_dtada == x.pred_dth and x.pred_dth != 'TRAINING':\n",
    "        return x.pred_dtada\n",
    "    if x.pred_dtada == x.pred_svch and x.pred_dth != 'TRAINING':\n",
    "        return x.pred_dtada\n",
    "    return x.pred_svch\n",
    "\n",
    "def classagg2(x):\n",
    "    if x.pred_dth == x.pred_svch and x.pred_dth != 'TRAINING':\n",
    "        return x.pred_dth\n",
    "    if x.pred_dtada == x.pred_dth and x.pred_dth != 'TRAINING':\n",
    "        return x.pred_dtada\n",
    "    if x.pred_dtada == x.pred_svch and x.pred_dth != 'TRAINING':\n",
    "        return x.pred_dtada\n",
    "    return x.pred_dth\n",
    "\n",
    "def classagg2(x):\n",
    "    if x.pred_dth == x.pred_svch and x.pred_dth != 'TRAINING':\n",
    "        return x.pred_dth\n",
    "    if x.pred_dtada == x.pred_dth and x.pred_dth != 'TRAINING':\n",
    "        return x.pred_dtada\n",
    "    if x.pred_dtada == x.pred_svch and x.pred_dth != 'TRAINING':\n",
    "        return x.pred_dtada\n",
    "    return x.pred_dth\n",
    "\n",
    "def classagg(x):\n",
    "    if x.cossim in ['DOCS','REPL','BUSINESS','ECOMMERCE','COMMUITY','SENGINE','PAAS']:\n",
    "        return x.cossim\n",
    "\n",
    "    if x.pred_dth == x.cossim in ['TRAINING','NEWS','PACKAGE','NOCLASS','THEME']:\n",
    "        return x.pred_dth\n",
    "\n",
    "    #if x.pred_dtada == x.pred_dth == x.pred_svch == x.cossim and x.pred_dth != 'TRAINING':\n",
    "    if x.pred_dtada == x.pred_dth == x.pred_svch == x.cossim:\n",
    "        return x.pred_dtada\n",
    "\n",
    "    return x.pred_dth"
   ]
  },
  {
   "cell_type": "code",
   "execution_count": 357,
   "metadata": {
    "collapsed": false
   },
   "outputs": [],
   "source": [
    "pd_predaggregate['pred_agg1'] = ''\n",
    "pd_predaggregate['pred_agg1'] = pd_predaggregate.apply(classagg1, axis=1)\n",
    "pd_predaggregate['pred_agg2'] = ''\n",
    "pd_predaggregate['pred_agg2'] = pd_predaggregate.apply(classagg2, axis=1)\n",
    "pd_predaggregate['pred_agg3'] = ''\n",
    "pd_predaggregate['pred_agg3'] = pd_predaggregate.apply(classagg, axis=1)"
   ]
  },
  {
   "cell_type": "code",
   "execution_count": 358,
   "metadata": {
    "collapsed": false,
    "scrolled": true
   },
   "outputs": [
    {
     "data": {
      "text/html": [
       "<div>\n",
       "<table border=\"1\" class=\"dataframe\">\n",
       "  <thead>\n",
       "    <tr style=\"text-align: right;\">\n",
       "      <th></th>\n",
       "      <th>category</th>\n",
       "      <th>cossim</th>\n",
       "      <th>platform</th>\n",
       "      <th>pred_dtada</th>\n",
       "      <th>pred_dth</th>\n",
       "      <th>pred_svch</th>\n",
       "      <th>pred_agg1</th>\n",
       "      <th>pred_agg2</th>\n",
       "      <th>pred_agg3</th>\n",
       "    </tr>\n",
       "  </thead>\n",
       "  <tbody>\n",
       "    <tr>\n",
       "      <th>3</th>\n",
       "      <td>PACKAGE</td>\n",
       "      <td>NEWS</td>\n",
       "      <td>www.highcharts.com</td>\n",
       "      <td>NEWS</td>\n",
       "      <td>NEWS</td>\n",
       "      <td>NEWS</td>\n",
       "      <td>NEWS</td>\n",
       "      <td>NEWS</td>\n",
       "      <td>NEWS</td>\n",
       "    </tr>\n",
       "    <tr>\n",
       "      <th>5</th>\n",
       "      <td>PACKAGE</td>\n",
       "      <td>PACKAGE</td>\n",
       "      <td>quotesondesign.com</td>\n",
       "      <td>NEWS</td>\n",
       "      <td>NEWS</td>\n",
       "      <td>PACKAGE</td>\n",
       "      <td>NEWS</td>\n",
       "      <td>NEWS</td>\n",
       "      <td>NEWS</td>\n",
       "    </tr>\n",
       "    <tr>\n",
       "      <th>9</th>\n",
       "      <td>PACKAGE</td>\n",
       "      <td>PACKAGE</td>\n",
       "      <td>flipclockjs.com</td>\n",
       "      <td>NOCLASS</td>\n",
       "      <td>PACKAGE</td>\n",
       "      <td>PACKAGE</td>\n",
       "      <td>PACKAGE</td>\n",
       "      <td>PACKAGE</td>\n",
       "      <td>PACKAGE</td>\n",
       "    </tr>\n",
       "    <tr>\n",
       "      <th>14</th>\n",
       "      <td>PACKAGE</td>\n",
       "      <td>PACKAGE</td>\n",
       "      <td>meanjs.org</td>\n",
       "      <td>NEWS</td>\n",
       "      <td>PACKAGE</td>\n",
       "      <td>PACKAGE</td>\n",
       "      <td>PACKAGE</td>\n",
       "      <td>PACKAGE</td>\n",
       "      <td>PACKAGE</td>\n",
       "    </tr>\n",
       "    <tr>\n",
       "      <th>15</th>\n",
       "      <td>PACKAGE</td>\n",
       "      <td>PACKAGE</td>\n",
       "      <td>openweathermap.org</td>\n",
       "      <td>THEME</td>\n",
       "      <td>PACKAGE</td>\n",
       "      <td>PACKAGE</td>\n",
       "      <td>PACKAGE</td>\n",
       "      <td>PACKAGE</td>\n",
       "      <td>PACKAGE</td>\n",
       "    </tr>\n",
       "    <tr>\n",
       "      <th>17</th>\n",
       "      <td>PACKAGE</td>\n",
       "      <td>PACKAGE</td>\n",
       "      <td>api.forismatic.com</td>\n",
       "      <td>NEWS</td>\n",
       "      <td>NEWS</td>\n",
       "      <td>PACKAGE</td>\n",
       "      <td>NEWS</td>\n",
       "      <td>NEWS</td>\n",
       "      <td>NEWS</td>\n",
       "    </tr>\n",
       "    <tr>\n",
       "      <th>22</th>\n",
       "      <td>PACKAGE</td>\n",
       "      <td>PACKAGE</td>\n",
       "      <td>mathjs.org</td>\n",
       "      <td>PACKAGE</td>\n",
       "      <td>PACKAGE</td>\n",
       "      <td>PACKAGE</td>\n",
       "      <td>PACKAGE</td>\n",
       "      <td>PACKAGE</td>\n",
       "      <td>PACKAGE</td>\n",
       "    </tr>\n",
       "    <tr>\n",
       "      <th>29</th>\n",
       "      <td>PACKAGE</td>\n",
       "      <td>PACKAGE</td>\n",
       "      <td>chaijs.com</td>\n",
       "      <td>PACKAGE</td>\n",
       "      <td>PACKAGE</td>\n",
       "      <td>PACKAGE</td>\n",
       "      <td>PACKAGE</td>\n",
       "      <td>PACKAGE</td>\n",
       "      <td>PACKAGE</td>\n",
       "    </tr>\n",
       "    <tr>\n",
       "      <th>34</th>\n",
       "      <td>PACKAGE</td>\n",
       "      <td>PACKAGE</td>\n",
       "      <td>ipinfo.io</td>\n",
       "      <td>PACKAGE</td>\n",
       "      <td>PACKAGE</td>\n",
       "      <td>PACKAGE</td>\n",
       "      <td>PACKAGE</td>\n",
       "      <td>PACKAGE</td>\n",
       "      <td>PACKAGE</td>\n",
       "    </tr>\n",
       "    <tr>\n",
       "      <th>36</th>\n",
       "      <td>PACKAGE</td>\n",
       "      <td>PACKAGE</td>\n",
       "      <td>www.mediawiki.org</td>\n",
       "      <td>PACKAGE</td>\n",
       "      <td>THEME</td>\n",
       "      <td>PACKAGE</td>\n",
       "      <td>PACKAGE</td>\n",
       "      <td>PACKAGE</td>\n",
       "      <td>THEME</td>\n",
       "    </tr>\n",
       "  </tbody>\n",
       "</table>\n",
       "</div>"
      ],
      "text/plain": [
       "   category   cossim            platform pred_dtada pred_dth pred_svch  \\\n",
       "3   PACKAGE     NEWS  www.highcharts.com       NEWS     NEWS      NEWS   \n",
       "5   PACKAGE  PACKAGE  quotesondesign.com       NEWS     NEWS   PACKAGE   \n",
       "9   PACKAGE  PACKAGE     flipclockjs.com    NOCLASS  PACKAGE   PACKAGE   \n",
       "14  PACKAGE  PACKAGE          meanjs.org       NEWS  PACKAGE   PACKAGE   \n",
       "15  PACKAGE  PACKAGE  openweathermap.org      THEME  PACKAGE   PACKAGE   \n",
       "17  PACKAGE  PACKAGE  api.forismatic.com       NEWS     NEWS   PACKAGE   \n",
       "22  PACKAGE  PACKAGE          mathjs.org    PACKAGE  PACKAGE   PACKAGE   \n",
       "29  PACKAGE  PACKAGE          chaijs.com    PACKAGE  PACKAGE   PACKAGE   \n",
       "34  PACKAGE  PACKAGE           ipinfo.io    PACKAGE  PACKAGE   PACKAGE   \n",
       "36  PACKAGE  PACKAGE   www.mediawiki.org    PACKAGE    THEME   PACKAGE   \n",
       "\n",
       "   pred_agg1 pred_agg2 pred_agg3  \n",
       "3       NEWS      NEWS      NEWS  \n",
       "5       NEWS      NEWS      NEWS  \n",
       "9    PACKAGE   PACKAGE   PACKAGE  \n",
       "14   PACKAGE   PACKAGE   PACKAGE  \n",
       "15   PACKAGE   PACKAGE   PACKAGE  \n",
       "17      NEWS      NEWS      NEWS  \n",
       "22   PACKAGE   PACKAGE   PACKAGE  \n",
       "29   PACKAGE   PACKAGE   PACKAGE  \n",
       "34   PACKAGE   PACKAGE   PACKAGE  \n",
       "36   PACKAGE   PACKAGE     THEME  "
      ]
     },
     "execution_count": 358,
     "metadata": {},
     "output_type": "execute_result"
    }
   ],
   "source": [
    "pd_predaggregate.head(10)"
   ]
  },
  {
   "cell_type": "code",
   "execution_count": 359,
   "metadata": {
    "collapsed": false,
    "scrolled": true
   },
   "outputs": [
    {
     "name": "stdout",
     "output_type": "stream",
     "text": [
      "pred_dtada\n",
      "             precision    recall  f1-score   support\n",
      "\n",
      "   BUSINESS       0.80      0.57      0.67        14\n",
      "   COMMUITY       1.00      0.64      0.78        11\n",
      "       DOCS       0.83      0.71      0.77         7\n",
      "  ECOMMERCE       0.00      0.00      0.00         0\n",
      "       NEWS       0.71      0.82      0.76       108\n",
      "    NOCLASS       0.44      0.47      0.45        15\n",
      "       PAAS       1.00      0.11      0.20         9\n",
      "    PACKAGE       0.51      0.58      0.54        59\n",
      "       REPL       0.69      0.50      0.58        18\n",
      "    REVIEWS       1.00      1.00      1.00         1\n",
      "    SENGINE       0.00      0.00      0.00         1\n",
      "      THEME       0.83      0.62      0.71         8\n",
      "   TRAINING       0.76      0.68      0.72        41\n",
      "\n",
      "avg / total       0.69      0.66      0.66       292\n",
      "\n",
      "pred_dth\n",
      "             precision    recall  f1-score   support\n",
      "\n",
      "   BUSINESS       0.47      0.50      0.48        14\n",
      "   COMMUITY       0.71      0.45      0.56        11\n",
      "       DOCS       0.33      0.71      0.45         7\n",
      "  ECOMMERCE       0.00      0.00      0.00         0\n",
      "       NEWS       0.70      0.71      0.71       108\n",
      "    NOCLASS       0.38      0.40      0.39        15\n",
      "       PAAS       0.00      0.00      0.00         9\n",
      "    PACKAGE       0.52      0.59      0.56        59\n",
      "       REPL       0.44      0.22      0.30        18\n",
      "    REVIEWS       0.00      0.00      0.00         1\n",
      "    SENGINE       0.00      0.00      0.00         1\n",
      "      THEME       0.12      0.25      0.17         8\n",
      "   TRAINING       0.66      0.46      0.54        41\n",
      "\n",
      "avg / total       0.56      0.55      0.55       292\n",
      "\n",
      "pred_svch\n",
      "             precision    recall  f1-score   support\n",
      "\n",
      "   BUSINESS       1.00      0.57      0.73        14\n",
      "   COMMUITY       1.00      0.73      0.84        11\n",
      "       DOCS       1.00      0.71      0.83         7\n",
      "       NEWS       0.81      0.86      0.83       108\n",
      "    NOCLASS       0.50      0.53      0.52        15\n",
      "       PAAS       1.00      0.11      0.20         9\n",
      "    PACKAGE       0.65      0.81      0.72        59\n",
      "       REPL       0.91      0.56      0.69        18\n",
      "    REVIEWS       1.00      1.00      1.00         1\n",
      "    SENGINE       0.00      0.00      0.00         1\n",
      "      THEME       0.50      0.88      0.64         8\n",
      "   TRAINING       0.72      0.68      0.70        41\n",
      "\n",
      "avg / total       0.77      0.74      0.74       292\n",
      "\n",
      "cossim\n",
      "             precision    recall  f1-score   support\n",
      "\n",
      "   BUSINESS       0.64      0.50      0.56        14\n",
      "   COMMUITY       0.80      0.73      0.76        11\n",
      "       DOCS       0.50      0.57      0.53         7\n",
      "       NEWS       0.70      0.71      0.71       108\n",
      "    NOCLASS       0.35      0.47      0.40        15\n",
      "       PAAS       1.00      0.11      0.20         9\n",
      "    PACKAGE       0.66      0.63      0.64        59\n",
      "       REPL       0.75      0.33      0.46        18\n",
      "    REVIEWS       0.50      1.00      0.67         1\n",
      "    SENGINE       0.00      0.00      0.00         1\n",
      "      THEME       0.11      0.38      0.17         8\n",
      "   TRAINING       0.68      0.63      0.66        41\n",
      "\n",
      "avg / total       0.66      0.61      0.61       292\n",
      "\n",
      "pred_agg1\n",
      "             precision    recall  f1-score   support\n",
      "\n",
      "   BUSINESS       0.89      0.57      0.70        14\n",
      "   COMMUITY       1.00      0.73      0.84        11\n",
      "       DOCS       1.00      0.71      0.83         7\n",
      "       NEWS       0.79      0.90      0.84       108\n",
      "    NOCLASS       0.50      0.53      0.52        15\n",
      "       PAAS       1.00      0.11      0.20         9\n",
      "    PACKAGE       0.62      0.76      0.68        59\n",
      "       REPL       0.90      0.50      0.64        18\n",
      "    REVIEWS       1.00      1.00      1.00         1\n",
      "    SENGINE       0.00      0.00      0.00         1\n",
      "      THEME       0.55      0.75      0.63         8\n",
      "   TRAINING       0.74      0.63      0.68        41\n",
      "\n",
      "avg / total       0.76      0.73      0.72       292\n",
      "\n",
      "pred_agg2\n",
      "             precision    recall  f1-score   support\n",
      "\n",
      "   BUSINESS       0.67      0.57      0.62        14\n",
      "   COMMUITY       1.00      0.73      0.84        11\n",
      "       DOCS       0.64      1.00      0.78         7\n",
      "  ECOMMERCE       0.00      0.00      0.00         0\n",
      "       NEWS       0.80      0.84      0.82       108\n",
      "    NOCLASS       0.56      0.60      0.58        15\n",
      "       PAAS       0.50      0.11      0.18         9\n",
      "    PACKAGE       0.64      0.73      0.68        59\n",
      "       REPL       0.75      0.50      0.60        18\n",
      "    REVIEWS       1.00      1.00      1.00         1\n",
      "    SENGINE       0.00      0.00      0.00         1\n",
      "      THEME       0.56      0.62      0.59         8\n",
      "   TRAINING       0.68      0.63      0.66        41\n",
      "\n",
      "avg / total       0.72      0.71      0.71       292\n",
      "\n",
      "pred_agg3\n",
      "             precision    recall  f1-score   support\n",
      "\n",
      "   BUSINESS       0.42      0.57      0.48        14\n",
      "   COMMUITY       0.73      0.73      0.73        11\n",
      "       DOCS       0.39      1.00      0.56         7\n",
      "  ECOMMERCE       0.00      0.00      0.00         0\n",
      "       NEWS       0.72      0.71      0.72       108\n",
      "    NOCLASS       0.46      0.40      0.43        15\n",
      "       PAAS       0.50      0.11      0.18         9\n",
      "    PACKAGE       0.58      0.56      0.57        59\n",
      "       REPL       0.50      0.39      0.44        18\n",
      "    REVIEWS       0.00      0.00      0.00         1\n",
      "    SENGINE       0.00      0.00      0.00         1\n",
      "      THEME       0.14      0.25      0.18         8\n",
      "   TRAINING       0.66      0.46      0.54        41\n",
      "\n",
      "avg / total       0.61      0.58      0.58       292\n",
      "\n"
     ]
    },
    {
     "name": "stderr",
     "output_type": "stream",
     "text": [
      "/home/ec/anaconda3/lib/python3.5/site-packages/sklearn/metrics/classification.py:1113: UndefinedMetricWarning: Precision and F-score are ill-defined and being set to 0.0 in labels with no predicted samples.\n",
      "  'precision', 'predicted', average, warn_for)\n",
      "/home/ec/anaconda3/lib/python3.5/site-packages/sklearn/metrics/classification.py:1115: UndefinedMetricWarning: Recall and F-score are ill-defined and being set to 0.0 in labels with no true samples.\n",
      "  'recall', 'true', average, warn_for)\n"
     ]
    }
   ],
   "source": [
    "print('pred_dtada')\n",
    "print(classification_report(pd_predaggregate['category'], pd_predaggregate['pred_dtada']))\n",
    "print('pred_dth')\n",
    "print(classification_report(pd_predaggregate['category'], pd_predaggregate['pred_dth']))\n",
    "print('pred_svch')\n",
    "print(classification_report(pd_predaggregate['category'], pd_predaggregate['pred_svch']))\n",
    "print('cossim')\n",
    "print(classification_report(pd_predaggregate['category'], pd_predaggregate['cossim']))\n",
    "print('pred_agg1')\n",
    "print(classification_report(pd_predaggregate['category'], pd_predaggregate['pred_agg1']))\n",
    "print('pred_agg2')\n",
    "print(classification_report(pd_predaggregate['category'], pd_predaggregate['pred_agg2']))\n",
    "print('pred_agg3')\n",
    "print(classification_report(pd_predaggregate['category'], pd_predaggregate['pred_agg3']))"
   ]
  },
  {
   "cell_type": "code",
   "execution_count": null,
   "metadata": {
    "collapsed": true
   },
   "outputs": [],
   "source": []
  },
  {
   "cell_type": "code",
   "execution_count": null,
   "metadata": {
    "collapsed": true
   },
   "outputs": [],
   "source": []
  },
  {
   "cell_type": "code",
   "execution_count": null,
   "metadata": {
    "collapsed": true
   },
   "outputs": [],
   "source": []
  }
 ],
 "metadata": {
  "anaconda-cloud": {},
  "kernelspec": {
   "display_name": "Python [Root]",
   "language": "python",
   "name": "Python [Root]"
  },
  "language_info": {
   "codemirror_mode": {
    "name": "ipython",
    "version": 3
   },
   "file_extension": ".py",
   "mimetype": "text/x-python",
   "name": "python",
   "nbconvert_exporter": "python",
   "pygments_lexer": "ipython3",
   "version": "3.5.2"
  }
 },
 "nbformat": 4,
 "nbformat_minor": 0
}
