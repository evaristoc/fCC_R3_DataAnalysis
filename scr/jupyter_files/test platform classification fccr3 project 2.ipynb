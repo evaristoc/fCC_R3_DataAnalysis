{
 "cells": [
  {
   "cell_type": "markdown",
   "metadata": {},
   "source": [
    "# PHASE 1: Platform Classification using Supervised Learning Methods - Building Training and Test datasets (part 2)"
   ]
  },
  {
   "cell_type": "markdown",
   "metadata": {},
   "source": []
  },
  {
   "cell_type": "markdown",
   "metadata": {},
   "source": [
    "### References:\n",
    "* https://www.quora.com/What-is-the-best-way-to-create-a-training-set-for-machine-learning/answer/Clem-Wang-1"
   ]
  },
  {
   "cell_type": "markdown",
   "metadata": {},
   "source": [
    "## Main Python libraries"
   ]
  },
  {
   "cell_type": "code",
   "execution_count": 1,
   "metadata": {
    "collapsed": false
   },
   "outputs": [],
   "source": [
    "import os, sys, pathlib\n",
    "from IPython.display import display, Math, Latex #also '%%latex' magic command\n",
    "import collections, itertools, operator, re, copy, datetime\n",
    "import urllib, urllib.request, urllib.parse, dns, ipwhois\n",
    "import pickle, json, csv, zipfile\n",
    "import math, random, numpy, scipy, pandas\n",
    "%matplotlib inline\n",
    "import matplotlib.pyplot as plt\n",
    "plt.style.use('ggplot')\n",
    "import bs4\n",
    "import nltk, sklearn\n",
    "\n",
    "#actualcwd = os.getcwd()\n",
    "#os.chdir(actualcwd)\n",
    "#print(os.getcwd())"
   ]
  },
  {
   "cell_type": "code",
   "execution_count": 2,
   "metadata": {
    "collapsed": false
   },
   "outputs": [
    {
     "name": "stdout",
     "output_type": "stream",
     "text": [
      "ok\n"
     ]
    }
   ],
   "source": [
    "#a simple but not adequate hack to solve:\n",
    "#-- that this notebook will include any passed module that exists on top of its folder\n",
    "#-- that my installation of the the nltk will find the correct path to the nlkt_data folder\n",
    "#\n",
    "#once this line is run, IT SHOULDN'T RUN AGAIN!, otherwise the cwd will change into something different; \n",
    "#it can restored though in different ways, one by using `actualcwd` variable or in some cases shuting down this notebook\n",
    "#\n",
    "#\n",
    "os.chdir('../..')\n",
    "#print(os.getcwd())\n",
    "sys.path.append(os.getcwd())\n",
    "import config.config as config\n",
    "\n",
    "#print(config.anacondadir)\n",
    "\n",
    "if os.path.exists(config.anacondadir):\n",
    "    print('ok')\n",
    "    nltk.data.path.append(config.anacondadir)"
   ]
  },
  {
   "cell_type": "code",
   "execution_count": 3,
   "metadata": {
    "collapsed": false
   },
   "outputs": [],
   "source": [
    "#OBSERVATION!: name of file has been changed to reflect last updated file \n",
    "if pathlib.Path(os.getcwd()+'/data/annotatedplatformsphase1_a1.csv').is_file():\n",
    "    pd_annotated = pandas.read_csv(open(os.getcwd()+'/data/annotatedplatformsphase1_a1.csv', 'r'), sep=';', quotechar=\"'\")\n",
    "else:\n",
    "    print('Not path found')"
   ]
  },
  {
   "cell_type": "code",
   "execution_count": 4,
   "metadata": {
    "collapsed": false,
    "scrolled": true
   },
   "outputs": [
    {
     "data": {
      "text/html": [
       "<div>\n",
       "<table border=\"1\" class=\"dataframe\">\n",
       "  <thead>\n",
       "    <tr style=\"text-align: right;\">\n",
       "      <th></th>\n",
       "      <th>Unnamed: 0</th>\n",
       "      <th>Unnamed: 0.1</th>\n",
       "      <th>platform</th>\n",
       "      <th>title</th>\n",
       "      <th>description</th>\n",
       "      <th>keywords</th>\n",
       "      <th>htext</th>\n",
       "      <th>params</th>\n",
       "      <th>category_regex</th>\n",
       "      <th>wiki</th>\n",
       "      <th>category</th>\n",
       "    </tr>\n",
       "  </thead>\n",
       "  <tbody>\n",
       "    <tr>\n",
       "      <th>0</th>\n",
       "      <td>0</td>\n",
       "      <td>0</td>\n",
       "      <td>v4-alpha.getbootstrap.com</td>\n",
       "      <td>\\n  \\n    bootstrap · the most popular html, c...</td>\n",
       "      <td>the most popular html, css, and js framework i...</td>\n",
       "      <td></td>\n",
       "      <td>Bootstrap is the most popular HTML, CSS, and J...</td>\n",
       "      <td>,/components,/components/breadcrumb/,/migratio...</td>\n",
       "      <td>api|package|framework|librar|stack|licens|addo...</td>\n",
       "      <td>NaN</td>\n",
       "      <td>PACKAGE</td>\n",
       "    </tr>\n",
       "    <tr>\n",
       "      <th>1</th>\n",
       "      <td>1</td>\n",
       "      <td>3</td>\n",
       "      <td>jscroll.com</td>\n",
       "      <td>jscroll - a jquery plugin for infinite scrolli...</td>\n",
       "      <td></td>\n",
       "      <td></td>\n",
       "      <td>jScroll is a jQuery plugin for infinite scroll...</td>\n",
       "      <td>/,https://github.com/cubiq/iscroll</td>\n",
       "      <td>api|package|framework|librar|stack|licens|addo...</td>\n",
       "      <td>NaN</td>\n",
       "      <td>PACKAGE</td>\n",
       "    </tr>\n",
       "    <tr>\n",
       "      <th>2</th>\n",
       "      <td>2</td>\n",
       "      <td>10</td>\n",
       "      <td>mongoosejs.com</td>\n",
       "      <td>mongoose odm v4.10.5</td>\n",
       "      <td></td>\n",
       "      <td></td>\n",
       "      <td>Elegant MongoDB object modeling for Node.js Mo...</td>\n",
       "      <td>/docs/promises.html,/docs/populate.html,/docs/...</td>\n",
       "      <td>api|package|framework|librar|stack|licens|addo...</td>\n",
       "      <td>NaN</td>\n",
       "      <td>PACKAGE</td>\n",
       "    </tr>\n",
       "    <tr>\n",
       "      <th>3</th>\n",
       "      <td>3</td>\n",
       "      <td>34</td>\n",
       "      <td>www.highcharts.com</td>\n",
       "      <td>Interactive JavaScript charts for your webpage...</td>\n",
       "      <td>Highcharts - Interactive JavaScript charts for...</td>\n",
       "      <td>highcharts, charts, javascript charts, ajax ch...</td>\n",
       "      <td>View demo Get a license</td>\n",
       "      <td>/samples/data/jsonp.php,/blog/192-use-highchar...</td>\n",
       "      <td>api|package|framework|librar|stack|licens|addo...</td>\n",
       "      <td>NaN</td>\n",
       "      <td>PACKAGE</td>\n",
       "    </tr>\n",
       "    <tr>\n",
       "      <th>4</th>\n",
       "      <td>4</td>\n",
       "      <td>41</td>\n",
       "      <td>www.crossorigin.me</td>\n",
       "      <td>crossorigin.me</td>\n",
       "      <td></td>\n",
       "      <td></td>\n",
       "      <td>\\n                  Welcome to crossorigin.me,...</td>\n",
       "      <td>/https://en.wikipedia.org/w/api.php,/,/https:/...</td>\n",
       "      <td>api|package|framework|librar|stack|licens|addo...</td>\n",
       "      <td>NaN</td>\n",
       "      <td>PACKAGE</td>\n",
       "    </tr>\n",
       "  </tbody>\n",
       "</table>\n",
       "</div>"
      ],
      "text/plain": [
       "   Unnamed: 0  Unnamed: 0.1                   platform  \\\n",
       "0           0             0  v4-alpha.getbootstrap.com   \n",
       "1           1             3                jscroll.com   \n",
       "2           2            10             mongoosejs.com   \n",
       "3           3            34         www.highcharts.com   \n",
       "4           4            41         www.crossorigin.me   \n",
       "\n",
       "                                               title  \\\n",
       "0  \\n  \\n    bootstrap · the most popular html, c...   \n",
       "1  jscroll - a jquery plugin for infinite scrolli...   \n",
       "2                               mongoose odm v4.10.5   \n",
       "3  Interactive JavaScript charts for your webpage...   \n",
       "4                                     crossorigin.me   \n",
       "\n",
       "                                         description  \\\n",
       "0  the most popular html, css, and js framework i...   \n",
       "1                                                      \n",
       "2                                                      \n",
       "3  Highcharts - Interactive JavaScript charts for...   \n",
       "4                                                      \n",
       "\n",
       "                                            keywords  \\\n",
       "0                                                      \n",
       "1                                                      \n",
       "2                                                      \n",
       "3  highcharts, charts, javascript charts, ajax ch...   \n",
       "4                                                      \n",
       "\n",
       "                                               htext  \\\n",
       "0  Bootstrap is the most popular HTML, CSS, and J...   \n",
       "1  jScroll is a jQuery plugin for infinite scroll...   \n",
       "2  Elegant MongoDB object modeling for Node.js Mo...   \n",
       "3                           View demo Get a license    \n",
       "4  \\n                  Welcome to crossorigin.me,...   \n",
       "\n",
       "                                              params  \\\n",
       "0  ,/components,/components/breadcrumb/,/migratio...   \n",
       "1                 /,https://github.com/cubiq/iscroll   \n",
       "2  /docs/promises.html,/docs/populate.html,/docs/...   \n",
       "3  /samples/data/jsonp.php,/blog/192-use-highchar...   \n",
       "4  /https://en.wikipedia.org/w/api.php,/,/https:/...   \n",
       "\n",
       "                                      category_regex wiki category  \n",
       "0  api|package|framework|librar|stack|licens|addo...  NaN  PACKAGE  \n",
       "1  api|package|framework|librar|stack|licens|addo...  NaN  PACKAGE  \n",
       "2  api|package|framework|librar|stack|licens|addo...  NaN  PACKAGE  \n",
       "3  api|package|framework|librar|stack|licens|addo...  NaN  PACKAGE  \n",
       "4  api|package|framework|librar|stack|licens|addo...  NaN  PACKAGE  "
      ]
     },
     "execution_count": 4,
     "metadata": {},
     "output_type": "execute_result"
    }
   ],
   "source": [
    "pd_annotated.head(5)"
   ]
  },
  {
   "cell_type": "code",
   "execution_count": 5,
   "metadata": {
    "collapsed": true
   },
   "outputs": [],
   "source": [
    "#OBSERVATION!: name of file has been changed to reflect last updated file \n",
    "if pathlib.Path(os.getcwd()+'/data/notatedplatformsphase1_a1.csv').is_file():\n",
    "    pd_notated = pandas.read_csv(open(os.getcwd()+'/data/notatedplatformsphase1_a1.csv', 'r'), sep=';', quotechar=\"'\")\n",
    "else:\n",
    "    print('Not path found')"
   ]
  },
  {
   "cell_type": "code",
   "execution_count": 6,
   "metadata": {
    "collapsed": false,
    "scrolled": true
   },
   "outputs": [
    {
     "data": {
      "text/html": [
       "<div>\n",
       "<table border=\"1\" class=\"dataframe\">\n",
       "  <thead>\n",
       "    <tr style=\"text-align: right;\">\n",
       "      <th></th>\n",
       "      <th>Unnamed: 0</th>\n",
       "      <th>Unnamed: 0.1</th>\n",
       "      <th>platform</th>\n",
       "      <th>title</th>\n",
       "      <th>description</th>\n",
       "      <th>keywords</th>\n",
       "      <th>htext</th>\n",
       "      <th>params</th>\n",
       "      <th>category</th>\n",
       "      <th>wiki</th>\n",
       "    </tr>\n",
       "  </thead>\n",
       "  <tbody>\n",
       "    <tr>\n",
       "      <th>0</th>\n",
       "      <td>0</td>\n",
       "      <td>0</td>\n",
       "      <td>www.kenneth-truyers.net</td>\n",
       "      <td>my life as a software developer |</td>\n",
       "      <td>blog about development using .net and client-s...</td>\n",
       "      <td></td>\n",
       "      <td>Posted on Friday, January 27th, 2017 at 02:42 ...</td>\n",
       "      <td>/2013/04/20/javascript-hoisting-explained/</td>\n",
       "      <td>NaN</td>\n",
       "      <td>NaN</td>\n",
       "    </tr>\n",
       "    <tr>\n",
       "      <th>1</th>\n",
       "      <td>1</td>\n",
       "      <td>1</td>\n",
       "      <td>school.scotch.io</td>\n",
       "      <td>courses ― scotch</td>\n",
       "      <td></td>\n",
       "      <td></td>\n",
       "      <td>You trust Scotch tutorials and Scotch authors....</td>\n",
       "      <td>/build-a-nodejs-website/course-introduction,/b...</td>\n",
       "      <td>NaN</td>\n",
       "      <td>NaN</td>\n",
       "    </tr>\n",
       "    <tr>\n",
       "      <th>2</th>\n",
       "      <td>2</td>\n",
       "      <td>2</td>\n",
       "      <td>www.imkrisna.com</td>\n",
       "      <td>i made krisna widhiastra | full-stack developer</td>\n",
       "      <td></td>\n",
       "      <td></td>\n",
       "      <td>\\n\\t\\t\\t\\t\\t\\t\\tCurrently working as Applicati...</td>\n",
       "      <td>/blog/2014/02/if-else-vs-if-if-vs-switch-javas...</td>\n",
       "      <td>NaN</td>\n",
       "      <td>NaN</td>\n",
       "    </tr>\n",
       "    <tr>\n",
       "      <th>3</th>\n",
       "      <td>3</td>\n",
       "      <td>3</td>\n",
       "      <td>vanilla-js.com</td>\n",
       "      <td>vanilla js</td>\n",
       "      <td></td>\n",
       "      <td></td>\n",
       "      <td>The Vanilla JS team maintains every byte of co...</td>\n",
       "      <td>/</td>\n",
       "      <td>NaN</td>\n",
       "      <td>NaN</td>\n",
       "    </tr>\n",
       "    <tr>\n",
       "      <th>4</th>\n",
       "      <td>4</td>\n",
       "      <td>4</td>\n",
       "      <td>www.newmediacampaigns.com</td>\n",
       "      <td>new media campaigns | nmc digital agency</td>\n",
       "      <td>NaN</td>\n",
       "      <td></td>\n",
       "      <td>Congrats to Hutchison PLLC on being named one ...</td>\n",
       "      <td>/blog/how-to-use-json-apis-with-jquery</td>\n",
       "      <td>NaN</td>\n",
       "      <td>NaN</td>\n",
       "    </tr>\n",
       "  </tbody>\n",
       "</table>\n",
       "</div>"
      ],
      "text/plain": [
       "   Unnamed: 0  Unnamed: 0.1                   platform  \\\n",
       "0           0             0    www.kenneth-truyers.net   \n",
       "1           1             1           school.scotch.io   \n",
       "2           2             2           www.imkrisna.com   \n",
       "3           3             3             vanilla-js.com   \n",
       "4           4             4  www.newmediacampaigns.com   \n",
       "\n",
       "                                             title  \\\n",
       "0              my life as a software developer |     \n",
       "1                                 courses ― scotch   \n",
       "2  i made krisna widhiastra | full-stack developer   \n",
       "3                                       vanilla js   \n",
       "4         new media campaigns | nmc digital agency   \n",
       "\n",
       "                                         description keywords  \\\n",
       "0  blog about development using .net and client-s...            \n",
       "1                                                               \n",
       "2                                                               \n",
       "3                                                               \n",
       "4                                                NaN            \n",
       "\n",
       "                                               htext  \\\n",
       "0  Posted on Friday, January 27th, 2017 at 02:42 ...   \n",
       "1  You trust Scotch tutorials and Scotch authors....   \n",
       "2  \\n\\t\\t\\t\\t\\t\\t\\tCurrently working as Applicati...   \n",
       "3  The Vanilla JS team maintains every byte of co...   \n",
       "4  Congrats to Hutchison PLLC on being named one ...   \n",
       "\n",
       "                                              params  category wiki  \n",
       "0         /2013/04/20/javascript-hoisting-explained/       NaN  NaN  \n",
       "1  /build-a-nodejs-website/course-introduction,/b...       NaN  NaN  \n",
       "2  /blog/2014/02/if-else-vs-if-if-vs-switch-javas...       NaN  NaN  \n",
       "3                                                  /       NaN  NaN  \n",
       "4             /blog/how-to-use-json-apis-with-jquery       NaN  NaN  "
      ]
     },
     "execution_count": 6,
     "metadata": {},
     "output_type": "execute_result"
    }
   ],
   "source": [
    "pd_notated.head(5)"
   ]
  },
  {
   "cell_type": "markdown",
   "metadata": {},
   "source": [
    "## DATA UPDATING - Important..."
   ]
  },
  {
   "cell_type": "markdown",
   "metadata": {},
   "source": [
    "The code commented below was used to:\n",
    "* **Add wikipedia info to the created tables**: for this I used the `scr.wikipedia_extract` module made for this purpose\n",
    "* **Revise some column naming and use the names for categories** to be used from now on: until now (29-July-17), I was using as categories a regex form I used for the original classification rules; from now I will be using the defined categories found in the `docs` folder of this work\n",
    "\n",
    "The changes below were done by creating updated files, re-opening that file and update it until the right file was created. Once the information was updated with some information, the respective code was commented because it was not of usage any more.\n",
    "\n",
    "The code below is kept commented but is shown so other users of this file can have a reference. Also the different intermediate files are kept in the `data` folder but only the required files are called for further analysis. In a more advanced phase a simpler file will be kept."
   ]
  },
  {
   "cell_type": "code",
   "execution_count": 7,
   "metadata": {
    "collapsed": false
   },
   "outputs": [],
   "source": [
    "#import scr.wikipedia_extract"
   ]
  },
  {
   "cell_type": "code",
   "execution_count": 8,
   "metadata": {
    "collapsed": false
   },
   "outputs": [],
   "source": [
    "#import imp"
   ]
  },
  {
   "cell_type": "code",
   "execution_count": 9,
   "metadata": {
    "collapsed": false,
    "scrolled": true
   },
   "outputs": [],
   "source": [
    "#imp.reload(scr.wikipedia_extract)"
   ]
  },
  {
   "cell_type": "code",
   "execution_count": 10,
   "metadata": {
    "collapsed": false
   },
   "outputs": [],
   "source": [
    "#pd_annotated['wiki'] = ''\n",
    "#pd_notated['wiki'] = ''\n",
    "#scr.wikipedia_extract.getting_wikipedia(pd_annotated)\n",
    "#scr.wikipedia_extract.getting_wikipedia(pd_notated)"
   ]
  },
  {
   "cell_type": "code",
   "execution_count": 11,
   "metadata": {
    "collapsed": false
   },
   "outputs": [],
   "source": [
    "#pd_errortemp = pd_notated.loc[pd_notated['platform'] == 'view-source:http:',]\n",
    "#scr.wikipedia_extract.getting_wikipedia(pd_errortemp)\n",
    "#print(pd_errortemp)\n",
    "#print(pd_notated.iloc[110,])\n",
    "#url = 'https://en.wikipedia.org/w/api.php?action=query&list=search&format=json&srsearch=JavaScript Objects in Detail'\n",
    "#req = urllib.request.Request(url)\n",
    "#try:\n",
    "#    resp = urllib.request.urlopen(req)\n",
    "#except urllib.error.HTTPError as e:\n",
    "#    print(e)"
   ]
  },
  {
   "cell_type": "code",
   "execution_count": 12,
   "metadata": {
    "collapsed": false
   },
   "outputs": [],
   "source": [
    "#pd_notated.head(100)"
   ]
  },
  {
   "cell_type": "code",
   "execution_count": 13,
   "metadata": {
    "collapsed": true
   },
   "outputs": [],
   "source": [
    "#pd_annotated = pd_annotated.rename(columns={'category':'category_regex'})"
   ]
  },
  {
   "cell_type": "code",
   "execution_count": 14,
   "metadata": {
    "collapsed": false
   },
   "outputs": [],
   "source": [
    "#pd_annotated.columns"
   ]
  },
  {
   "cell_type": "code",
   "execution_count": 15,
   "metadata": {
    "collapsed": true
   },
   "outputs": [],
   "source": [
    "#categories = pandas.read_csv(open(os.getcwd()+'/docs/category_operationalization.csv', 'r'), sep=':')"
   ]
  },
  {
   "cell_type": "code",
   "execution_count": 16,
   "metadata": {
    "collapsed": false,
    "scrolled": true
   },
   "outputs": [],
   "source": [
    "#categories"
   ]
  },
  {
   "cell_type": "code",
   "execution_count": 17,
   "metadata": {
    "collapsed": false
   },
   "outputs": [],
   "source": [
    "#categories = categories[['category','category_regex']]"
   ]
  },
  {
   "cell_type": "code",
   "execution_count": 18,
   "metadata": {
    "collapsed": false
   },
   "outputs": [],
   "source": [
    "#pd_annotated = pandas.merge(pd_annotated, categories, on=['category_regex'])"
   ]
  },
  {
   "cell_type": "code",
   "execution_count": 19,
   "metadata": {
    "collapsed": false,
    "scrolled": true
   },
   "outputs": [],
   "source": [
    "#pd_annotated.head(5)"
   ]
  },
  {
   "cell_type": "code",
   "execution_count": 20,
   "metadata": {
    "collapsed": true
   },
   "outputs": [],
   "source": [
    "#pd_annotated.to_csv(os.getcwd()+'/data/annotatedplatformsphase1_a1.csv', sep=';', quotechar=\"'\")\n",
    "#pd_notated.to_csv(os.getcwd()+'/data/notatedplatformsphase1_a1.csv', sep=';', quotechar=\"'\")"
   ]
  },
  {
   "cell_type": "markdown",
   "metadata": {},
   "source": [
    "## DATA PREPARATION"
   ]
  },
  {
   "cell_type": "code",
   "execution_count": 21,
   "metadata": {
    "collapsed": false,
    "scrolled": true
   },
   "outputs": [
    {
     "name": "stdout",
     "output_type": "stream",
     "text": [
      "ok\n"
     ]
    }
   ],
   "source": [
    "import scr.datapreparation_ML"
   ]
  },
  {
   "cell_type": "code",
   "execution_count": 22,
   "metadata": {
    "collapsed": false,
    "scrolled": true
   },
   "outputs": [],
   "source": [
    "#imp.reload(scr.datapreparation_ML)"
   ]
  },
  {
   "cell_type": "code",
   "execution_count": 23,
   "metadata": {
    "collapsed": false
   },
   "outputs": [
    {
     "name": "stdout",
     "output_type": "stream",
     "text": [
      "Unnamed: 0  has the following null values:  Unnamed: 0    0\n",
      "dtype: int64\n",
      "Unnamed: 0.1  has the following null values:  Unnamed: 0.1    0\n",
      "dtype: int64\n",
      "platform  has the following null values:  platform    0\n",
      "dtype: int64\n",
      "title  has the following null values:  title    1\n",
      "dtype: int64\n",
      "description  has the following null values:  description    11\n",
      "dtype: int64\n",
      "keywords  has the following null values:  keywords    2\n",
      "dtype: int64\n",
      "htext  has the following null values:  htext    0\n",
      "dtype: int64\n",
      "params  has the following null values:  params    6\n",
      "dtype: int64\n",
      "category_regex  has the following null values:  category_regex    0\n",
      "dtype: int64\n",
      "wiki  has the following null values:  wiki    373\n",
      "dtype: int64\n",
      "category  has the following null values:  category    0\n",
      "dtype: int64\n"
     ]
    }
   ],
   "source": [
    "for col in pd_annotated.columns:\n",
    "    print(col,' has the following null values: ', pd_annotated[[col]].isnull().sum())"
   ]
  },
  {
   "cell_type": "code",
   "execution_count": 24,
   "metadata": {
    "collapsed": false
   },
   "outputs": [
    {
     "data": {
      "text/plain": [
       "(450, 11)"
      ]
     },
     "execution_count": 24,
     "metadata": {},
     "output_type": "execute_result"
    }
   ],
   "source": [
    "pd_annotated.shape"
   ]
  },
  {
   "cell_type": "code",
   "execution_count": 25,
   "metadata": {
    "collapsed": false,
    "scrolled": true
   },
   "outputs": [
    {
     "name": "stdout",
     "output_type": "stream",
     "text": [
      "Unnamed: 0  has the following null values:  Unnamed: 0    0\n",
      "dtype: int64\n",
      "Unnamed: 0.1  has the following null values:  Unnamed: 0.1    0\n",
      "dtype: int64\n",
      "platform  has the following null values:  platform    0\n",
      "dtype: int64\n",
      "title  has the following null values:  title    2\n",
      "dtype: int64\n",
      "description  has the following null values:  description    9\n",
      "dtype: int64\n",
      "keywords  has the following null values:  keywords    3\n",
      "dtype: int64\n",
      "htext  has the following null values:  htext    0\n",
      "dtype: int64\n",
      "params  has the following null values:  params    13\n",
      "dtype: int64\n",
      "category  has the following null values:  category    323\n",
      "dtype: int64\n",
      "wiki  has the following null values:  wiki    270\n",
      "dtype: int64\n"
     ]
    }
   ],
   "source": [
    "for col in pd_notated.columns:\n",
    "    print(col,' has the following null values: ', pd_notated[[col]].isnull().sum())"
   ]
  },
  {
   "cell_type": "code",
   "execution_count": 26,
   "metadata": {
    "collapsed": false
   },
   "outputs": [
    {
     "data": {
      "text/plain": [
       "(323, 10)"
      ]
     },
     "execution_count": 26,
     "metadata": {},
     "output_type": "execute_result"
    }
   ],
   "source": [
    "pd_notated.shape"
   ]
  },
  {
   "cell_type": "code",
   "execution_count": 27,
   "metadata": {
    "collapsed": false
   },
   "outputs": [],
   "source": [
    "pd_annotated['alltext'] = ''\n",
    "scr.datapreparation_ML.datapreparation(pd_annotated)\n",
    "pd_notated['alltext'] = ''\n",
    "scr.datapreparation_ML.datapreparation(pd_notated)"
   ]
  },
  {
   "cell_type": "markdown",
   "metadata": {},
   "source": [
    "# ANALYSIS"
   ]
  },
  {
   "cell_type": "markdown",
   "metadata": {},
   "source": [
    "## References:\n",
    "* http://scikit-learn.org/stable/modules/cross_validation.html\n",
    "* https://stackoverflow.com/questions/24147278/how-do-i-create-test-and-train-samples-from-one-dataframe-with-pandas"
   ]
  },
  {
   "cell_type": "markdown",
   "metadata": {},
   "source": [
    "## DATA SPLIT"
   ]
  },
  {
   "cell_type": "code",
   "execution_count": 28,
   "metadata": {
    "collapsed": true
   },
   "outputs": [],
   "source": [
    "#from sklearn.model_selection import train_test_split\n",
    "#xtrain, xtest, ytrain, ytest = train_test_split(pd_annotated.alltext, pd_annotated.category, test_size=0.1, random_state=0)"
   ]
  },
  {
   "cell_type": "code",
   "execution_count": 29,
   "metadata": {
    "collapsed": false
   },
   "outputs": [],
   "source": [
    "train=pd_annotated[['platform', 'alltext','category']].sample(frac=0.75,random_state=0)\n",
    "test=pd_annotated[['platform', 'alltext','category']].drop(train.index)"
   ]
  },
  {
   "cell_type": "code",
   "execution_count": 30,
   "metadata": {
    "collapsed": false
   },
   "outputs": [
    {
     "data": {
      "text/html": [
       "<div>\n",
       "<table border=\"1\" class=\"dataframe\">\n",
       "  <thead>\n",
       "    <tr style=\"text-align: right;\">\n",
       "      <th></th>\n",
       "      <th>platform</th>\n",
       "      <th>alltext</th>\n",
       "      <th>category</th>\n",
       "    </tr>\n",
       "  </thead>\n",
       "  <tbody>\n",
       "    <tr>\n",
       "      <th>124</th>\n",
       "      <td>emilolsson.com</td>\n",
       "      <td>emil css call mail olsson visit font size to...</td>\n",
       "      <td>NEWS</td>\n",
       "    </tr>\n",
       "    <tr>\n",
       "      <th>54</th>\n",
       "      <td>en.wikiquote.org</td>\n",
       "      <td>proverbs shows w sister wikiquote projects t...</td>\n",
       "      <td>PACKAGE</td>\n",
       "    </tr>\n",
       "    <tr>\n",
       "      <th>268</th>\n",
       "      <td>ctrlq.org</td>\n",
       "      <td>guides journal worked apps first wired compu...</td>\n",
       "      <td>NEWS</td>\n",
       "    </tr>\n",
       "    <tr>\n",
       "      <th>293</th>\n",
       "      <td>www.cssscript.com</td>\n",
       "      <td>apply navigation javascript cool sidebar pur...</td>\n",
       "      <td>THEME</td>\n",
       "    </tr>\n",
       "    <tr>\n",
       "      <th>230</th>\n",
       "      <td>blog.getbootstrap.com</td>\n",
       "      <td>world bootstrap js themes html discussions r...</td>\n",
       "      <td>NEWS</td>\n",
       "    </tr>\n",
       "    <tr>\n",
       "      <th>134</th>\n",
       "      <td>en.m.wikipedia.org</td>\n",
       "      <td>storms causing depression least next tropica...</td>\n",
       "      <td>NEWS</td>\n",
       "    </tr>\n",
       "    <tr>\n",
       "      <th>12</th>\n",
       "      <td>anyorigin.com</td>\n",
       "      <td>domain jsonp access exterminator policy cros...</td>\n",
       "      <td>PACKAGE</td>\n",
       "    </tr>\n",
       "    <tr>\n",
       "      <th>423</th>\n",
       "      <td>overapi.com</td>\n",
       "      <td>css site cheat cheatsheets sheets collecting...</td>\n",
       "      <td>DOCS</td>\n",
       "    </tr>\n",
       "    <tr>\n",
       "      <th>272</th>\n",
       "      <td>image.slidesharecdn.com</td>\n",
       "      <td>javascript jpg language programming</td>\n",
       "      <td>NEWS</td>\n",
       "    </tr>\n",
       "    <tr>\n",
       "      <th>76</th>\n",
       "      <td>www.emailjs.com</td>\n",
       "      <td>javascript emailjs focus needed email server...</td>\n",
       "      <td>PACKAGE</td>\n",
       "    </tr>\n",
       "  </tbody>\n",
       "</table>\n",
       "</div>"
      ],
      "text/plain": [
       "                    platform  \\\n",
       "124           emilolsson.com   \n",
       "54          en.wikiquote.org   \n",
       "268                ctrlq.org   \n",
       "293        www.cssscript.com   \n",
       "230    blog.getbootstrap.com   \n",
       "134       en.m.wikipedia.org   \n",
       "12             anyorigin.com   \n",
       "423              overapi.com   \n",
       "272  image.slidesharecdn.com   \n",
       "76           www.emailjs.com   \n",
       "\n",
       "                                               alltext category  \n",
       "124    emil css call mail olsson visit font size to...     NEWS  \n",
       "54     proverbs shows w sister wikiquote projects t...  PACKAGE  \n",
       "268    guides journal worked apps first wired compu...     NEWS  \n",
       "293    apply navigation javascript cool sidebar pur...    THEME  \n",
       "230    world bootstrap js themes html discussions r...     NEWS  \n",
       "134    storms causing depression least next tropica...     NEWS  \n",
       "12     domain jsonp access exterminator policy cros...  PACKAGE  \n",
       "423    css site cheat cheatsheets sheets collecting...     DOCS  \n",
       "272                javascript jpg language programming     NEWS  \n",
       "76     javascript emailjs focus needed email server...  PACKAGE  "
      ]
     },
     "execution_count": 30,
     "metadata": {},
     "output_type": "execute_result"
    }
   ],
   "source": [
    "train.head(10)"
   ]
  },
  {
   "cell_type": "markdown",
   "metadata": {},
   "source": [
    "## DATA MODELLING - VECTOR MODEL 1"
   ]
  },
  {
   "cell_type": "code",
   "execution_count": 31,
   "metadata": {
    "collapsed": false
   },
   "outputs": [
    {
     "data": {
      "text/plain": [
       "(338, 13414)"
      ]
     },
     "execution_count": 31,
     "metadata": {},
     "output_type": "execute_result"
    }
   ],
   "source": [
    "from sklearn.feature_extraction.text import CountVectorizer\n",
    "count_vect_r1 = CountVectorizer(ngram_range=(1,2))\n",
    "X_primercounts = count_vect_r1.fit_transform(train.alltext)\n",
    "X_primercounts.shape"
   ]
  },
  {
   "cell_type": "markdown",
   "metadata": {},
   "source": [
    "## DECISION TREE WITH ADABOOST, CLASSIFICATION 1\n",
    "\n",
    "### References:\n",
    "* http://scikit-learn.org/stable/modules/generated/sklearn.tree.DecisionTreeClassifier.html#sklearn.tree.DecisionTreeClassifier\n",
    "* http://scikit-learn.org/stable/modules/tree.html\n",
    "* https://en.wikipedia.org/wiki/AdaBoost\n",
    "* http://scikit-learn.org/stable/modules/generated/sklearn.ensemble.AdaBoostClassifier.html\n",
    "* http://scikit-learn.org/stable/auto_examples/ensemble/plot_adaboost_hastie_10_2.html#sphx-glr-auto-examples-ensemble-plot-adaboost-hastie-10-2-py\n",
    "* https://stackoverflow.com/questions/32210569/using-gridsearchcv-with-adaboost-and-decisiontreeclassifier\n",
    "* http://scikit-learn.org/stable/auto_examples/model_selection/grid_search_digits.html\n",
    "* http://scikit-learn.org/stable/tutorial/statistical_inference/model_selection.html\n",
    "\n",
    "**Also**:\n",
    "* https://stackoverflow.com/questions/33110973/pass-a-dict-to-scikit-learn-estimator\n",
    "* http://machinelearningmastery.com/how-to-tune-algorithm-parameters-with-scikit-learn/"
   ]
  },
  {
   "cell_type": "markdown",
   "metadata": {},
   "source": [
    "### Models"
   ]
  },
  {
   "cell_type": "code",
   "execution_count": 103,
   "metadata": {
    "collapsed": true
   },
   "outputs": [],
   "source": [
    "from sklearn.tree import DecisionTreeClassifier\n",
    "from sklearn.metrics import zero_one_loss\n",
    "from sklearn.ensemble import AdaBoostClassifier"
   ]
  },
  {
   "cell_type": "code",
   "execution_count": 104,
   "metadata": {
    "collapsed": false
   },
   "outputs": [],
   "source": [
    "clf_dtm_r1_stump = DecisionTreeClassifier(max_depth=1, min_samples_leaf=1, random_state=0)\n",
    "clf_dt_r1_stump = clf_dtm_r1_stump.fit(X_primercounts, train.category)\n",
    "\n",
    "clf_dtm_r1 = DecisionTreeClassifier(min_samples_leaf=2, random_state=0)\n",
    "clf_dt_r1 = clf_dtm_r1.fit(X_primercounts, train.category)"
   ]
  },
  {
   "cell_type": "markdown",
   "metadata": {},
   "source": [
    "### Exploration of the Classification"
   ]
  },
  {
   "cell_type": "code",
   "execution_count": 105,
   "metadata": {
    "collapsed": true
   },
   "outputs": [],
   "source": [
    "X_test1counts_stump = count_vect_r1.transform(test.alltext)\n",
    "predicted_dt_r1_stump = clf_dt_r1_stump.predict(X_test1counts_stump)"
   ]
  },
  {
   "cell_type": "code",
   "execution_count": 106,
   "metadata": {
    "collapsed": false,
    "scrolled": true
   },
   "outputs": [],
   "source": [
    "#for platform, category in zip(test.platform, predicted_dt_r1_stump):\n",
    "#    print('%r => %s' % (platform, category))"
   ]
  },
  {
   "cell_type": "code",
   "execution_count": 107,
   "metadata": {
    "collapsed": true
   },
   "outputs": [],
   "source": [
    "X_test1counts = count_vect_r1.transform(test.alltext)\n",
    "predicted_dt_r1 = clf_dt_r1.predict(X_test1counts)"
   ]
  },
  {
   "cell_type": "code",
   "execution_count": 108,
   "metadata": {
    "collapsed": false
   },
   "outputs": [],
   "source": [
    "#for platform, category in zip(test.platform, predicted_dt_r1):\n",
    "#    print('%r => %s' % (platform, category))"
   ]
  },
  {
   "cell_type": "markdown",
   "metadata": {},
   "source": [
    "### Parameter Searching for the Decision Tree"
   ]
  },
  {
   "cell_type": "code",
   "execution_count": 109,
   "metadata": {
    "collapsed": false,
    "scrolled": false
   },
   "outputs": [
    {
     "name": "stdout",
     "output_type": "stream",
     "text": [
      "# Tuning hyper-parameters for precision\n",
      "\n"
     ]
    },
    {
     "name": "stderr",
     "output_type": "stream",
     "text": [
      "/home/ec/anaconda3/lib/python3.5/site-packages/sklearn/model_selection/_split.py:579: Warning: The least populated class in y has only 1 members, which is too few. The minimum number of groups for any class cannot be less than n_splits=2.\n",
      "  % (min_groups, self.n_splits)), Warning)\n",
      "/home/ec/anaconda3/lib/python3.5/site-packages/sklearn/metrics/classification.py:1113: UndefinedMetricWarning: Precision is ill-defined and being set to 0.0 in labels with no predicted samples.\n",
      "  'precision', 'predicted', average, warn_for)\n",
      "/home/ec/anaconda3/lib/python3.5/site-packages/sklearn/metrics/classification.py:1113: UndefinedMetricWarning: Precision is ill-defined and being set to 0.0 in labels with no predicted samples.\n",
      "  'precision', 'predicted', average, warn_for)\n",
      "/home/ec/anaconda3/lib/python3.5/site-packages/sklearn/model_selection/_split.py:579: Warning: The least populated class in y has only 1 members, which is too few. The minimum number of groups for any class cannot be less than n_splits=2.\n",
      "  % (min_groups, self.n_splits)), Warning)\n",
      "/home/ec/anaconda3/lib/python3.5/site-packages/sklearn/metrics/classification.py:1113: UndefinedMetricWarning: Precision is ill-defined and being set to 0.0 in labels with no predicted samples.\n",
      "  'precision', 'predicted', average, warn_for)\n",
      "/home/ec/anaconda3/lib/python3.5/site-packages/sklearn/metrics/classification.py:1113: UndefinedMetricWarning: Precision is ill-defined and being set to 0.0 in labels with no predicted samples.\n",
      "  'precision', 'predicted', average, warn_for)\n",
      "/home/ec/anaconda3/lib/python3.5/site-packages/sklearn/model_selection/_split.py:579: Warning: The least populated class in y has only 1 members, which is too few. The minimum number of groups for any class cannot be less than n_splits=2.\n",
      "  % (min_groups, self.n_splits)), Warning)\n",
      "/home/ec/anaconda3/lib/python3.5/site-packages/sklearn/metrics/classification.py:1113: UndefinedMetricWarning: Precision is ill-defined and being set to 0.0 in labels with no predicted samples.\n",
      "  'precision', 'predicted', average, warn_for)\n",
      "/home/ec/anaconda3/lib/python3.5/site-packages/sklearn/metrics/classification.py:1113: UndefinedMetricWarning: Precision is ill-defined and being set to 0.0 in labels with no predicted samples.\n",
      "  'precision', 'predicted', average, warn_for)\n",
      "/home/ec/anaconda3/lib/python3.5/site-packages/sklearn/model_selection/_split.py:579: Warning: The least populated class in y has only 1 members, which is too few. The minimum number of groups for any class cannot be less than n_splits=2.\n",
      "  % (min_groups, self.n_splits)), Warning)\n",
      "/home/ec/anaconda3/lib/python3.5/site-packages/sklearn/metrics/classification.py:1113: UndefinedMetricWarning: Precision is ill-defined and being set to 0.0 in labels with no predicted samples.\n",
      "  'precision', 'predicted', average, warn_for)\n",
      "/home/ec/anaconda3/lib/python3.5/site-packages/sklearn/metrics/classification.py:1113: UndefinedMetricWarning: Precision is ill-defined and being set to 0.0 in labels with no predicted samples.\n",
      "  'precision', 'predicted', average, warn_for)\n",
      "/home/ec/anaconda3/lib/python3.5/site-packages/sklearn/metrics/classification.py:1113: UndefinedMetricWarning: Precision and F-score are ill-defined and being set to 0.0 in labels with no predicted samples.\n",
      "  'precision', 'predicted', average, warn_for)\n",
      "/home/ec/anaconda3/lib/python3.5/site-packages/sklearn/model_selection/_split.py:579: Warning: The least populated class in y has only 1 members, which is too few. The minimum number of groups for any class cannot be less than n_splits=2.\n",
      "  % (min_groups, self.n_splits)), Warning)\n",
      "/home/ec/anaconda3/lib/python3.5/site-packages/sklearn/model_selection/_split.py:579: Warning: The least populated class in y has only 1 members, which is too few. The minimum number of groups for any class cannot be less than n_splits=2.\n",
      "  % (min_groups, self.n_splits)), Warning)\n",
      "/home/ec/anaconda3/lib/python3.5/site-packages/sklearn/model_selection/_split.py:579: Warning: The least populated class in y has only 1 members, which is too few. The minimum number of groups for any class cannot be less than n_splits=2.\n",
      "  % (min_groups, self.n_splits)), Warning)\n",
      "/home/ec/anaconda3/lib/python3.5/site-packages/sklearn/model_selection/_split.py:579: Warning: The least populated class in y has only 1 members, which is too few. The minimum number of groups for any class cannot be less than n_splits=2.\n",
      "  % (min_groups, self.n_splits)), Warning)\n"
     ]
    },
    {
     "name": "stdout",
     "output_type": "stream",
     "text": [
      "Best parameters set found on development set:\n",
      "\n",
      "{'max_depth': 15}\n",
      "\n",
      "Grid scores on development set:\n",
      "\n",
      "0.217 (+/-0.096) for {'max_depth': 5}\n",
      "0.228 (+/-0.069) for {'max_depth': 10}\n",
      "0.247 (+/-0.010) for {'max_depth': 15}\n",
      "0.233 (+/-0.026) for {'max_depth': 20}\n",
      "\n",
      "Detailed classification report:\n",
      "\n",
      "The model is trained on the full development set.\n",
      "The scores are computed on the full evaluation set.\n",
      "\n",
      "             precision    recall  f1-score   support\n",
      "\n",
      "   BUSINESS       0.00      0.00      0.00         1\n",
      "       DOCS       0.38      0.50      0.43         6\n",
      "  ECOMMERCE       0.00      0.00      0.00         1\n",
      "       NEWS       0.51      0.81      0.62        43\n",
      "    NOCLASS       0.00      0.00      0.00         9\n",
      "       PAAS       0.00      0.00      0.00         1\n",
      "    PACKAGE       0.61      0.54      0.57        26\n",
      "       REPL       0.00      0.00      0.00         4\n",
      "      THEME       0.00      0.00      0.00         7\n",
      "   TRAINING       0.90      0.64      0.75        14\n",
      "\n",
      "avg / total       0.47      0.54      0.49       112\n",
      "\n",
      "\n",
      "# Tuning hyper-parameters for recall\n",
      "\n",
      "Best parameters set found on development set:\n",
      "\n",
      "{'max_depth': 15}\n",
      "\n",
      "Grid scores on development set:\n",
      "\n",
      "0.213 (+/-0.007) for {'max_depth': 5}\n",
      "0.211 (+/-0.009) for {'max_depth': 10}\n",
      "0.229 (+/-0.061) for {'max_depth': 15}\n",
      "0.205 (+/-0.074) for {'max_depth': 20}\n",
      "\n",
      "Detailed classification report:\n",
      "\n",
      "The model is trained on the full development set.\n",
      "The scores are computed on the full evaluation set.\n",
      "\n",
      "             precision    recall  f1-score   support\n",
      "\n",
      "   BUSINESS       0.00      0.00      0.00         1\n",
      "       DOCS       0.38      0.50      0.43         6\n",
      "  ECOMMERCE       0.00      0.00      0.00         1\n",
      "       NEWS       0.51      0.81      0.62        43\n",
      "    NOCLASS       0.00      0.00      0.00         9\n",
      "       PAAS       0.00      0.00      0.00         1\n",
      "    PACKAGE       0.61      0.54      0.57        26\n",
      "       REPL       0.00      0.00      0.00         4\n",
      "      THEME       0.00      0.00      0.00         7\n",
      "   TRAINING       0.90      0.64      0.75        14\n",
      "\n",
      "avg / total       0.47      0.54      0.49       112\n",
      "\n",
      "\n"
     ]
    },
    {
     "name": "stderr",
     "output_type": "stream",
     "text": [
      "/home/ec/anaconda3/lib/python3.5/site-packages/sklearn/metrics/classification.py:1115: UndefinedMetricWarning: Recall is ill-defined and being set to 0.0 in labels with no true samples.\n",
      "  'recall', 'true', average, warn_for)\n",
      "/home/ec/anaconda3/lib/python3.5/site-packages/sklearn/metrics/classification.py:1113: UndefinedMetricWarning: Precision and F-score are ill-defined and being set to 0.0 in labels with no predicted samples.\n",
      "  'precision', 'predicted', average, warn_for)\n"
     ]
    }
   ],
   "source": [
    "from sklearn.model_selection import GridSearchCV\n",
    "from sklearn.metrics import classification_report\n",
    "\n",
    "# Set the parameters by cross-validation\n",
    "tuned_parameters = [{'max_depth': numpy.arange(5,25,5)}]\n",
    "scores = ['precision', 'recall']\n",
    "\n",
    "for score in scores:\n",
    "    print(\"# Tuning hyper-parameters for %s\" % score)\n",
    "    print()\n",
    "\n",
    "    clf = GridSearchCV(clf_dtm_r1, tuned_parameters, cv=2,\n",
    "                       scoring='%s_macro' % score)\n",
    "    clf.fit(X_primercounts, train.category)\n",
    "\n",
    "    print(\"Best parameters set found on development set:\")\n",
    "    print()\n",
    "    print(clf.best_params_)\n",
    "    print()\n",
    "    print(\"Grid scores on development set:\")\n",
    "    print()\n",
    "    means = clf.cv_results_['mean_test_score']\n",
    "    stds = clf.cv_results_['std_test_score']\n",
    "    for mean, std, params in zip(means, stds, clf.cv_results_['params']):\n",
    "        print(\"%0.3f (+/-%0.03f) for %r\"\n",
    "              % (mean, std * 2, params))\n",
    "    print()\n",
    "\n",
    "    print(\"Detailed classification report:\")\n",
    "    print()\n",
    "    print(\"The model is trained on the full development set.\")\n",
    "    print(\"The scores are computed on the full evaluation set.\")\n",
    "    print()\n",
    "    y_true, y_predsearch = test.category, clf.predict(X_test1counts)\n",
    "    print(classification_report(y_true, y_predsearch))\n",
    "    print()"
   ]
  },
  {
   "cell_type": "code",
   "execution_count": 110,
   "metadata": {
    "collapsed": true
   },
   "outputs": [],
   "source": [
    "X_test1counts_stump = count_vect_r1.transform(test.alltext)\n",
    "clf_dt_r1_stump_err = 1.0 - clf_dt_r1_stump.score(X_test1counts_stump, test.category)\n",
    "X_test1count = count_vect_r1.transform(test.alltext)\n",
    "clf_err = 1.0 - clf.score(X_test1counts, test.category)"
   ]
  },
  {
   "cell_type": "code",
   "execution_count": 111,
   "metadata": {
    "collapsed": false,
    "scrolled": true
   },
   "outputs": [
    {
     "name": "stdout",
     "output_type": "stream",
     "text": [
      "0.5625 0.455357142857\n"
     ]
    }
   ],
   "source": [
    "print(clf_dt_r1_stump_err,clf_dt_r1_err)"
   ]
  },
  {
   "cell_type": "code",
   "execution_count": 117,
   "metadata": {
    "collapsed": false
   },
   "outputs": [
    {
     "name": "stdout",
     "output_type": "stream",
     "text": [
      "{'max_depth': 15}\n"
     ]
    }
   ],
   "source": [
    "print(clf.best_params_)"
   ]
  },
  {
   "cell_type": "markdown",
   "metadata": {},
   "source": [
    "### AdaBoost"
   ]
  },
  {
   "cell_type": "code",
   "execution_count": 121,
   "metadata": {
    "collapsed": false
   },
   "outputs": [
    {
     "data": {
      "image/png": "[encoded data removed]",
      "text/plain": [
       "<matplotlib.figure.Figure at 0x7ff6df5afd30>"
      ]
     },
     "metadata": {},
     "output_type": "display_data"
    }
   ],
   "source": [
    "n_estimators = 40\n",
    "# A learning rate of 1. may not be optimal for both SAMME and SAMME.R\n",
    "learning_rate = 1.\n",
    "\n",
    "\n",
    "#IMPORTANT... https://stackoverflow.com/questions/33110973/pass-a-dict-to-scikit-learn-estimator\n",
    "clf_dtm_r1.set_params(**clf.best_params_)\n",
    "clf_dt_r1 = clf_dtm_r1.fit(X_primercounts, train.category)\n",
    "\n",
    "ada_discrete = AdaBoostClassifier(\n",
    "    base_estimator = clf_dtm_r1,\n",
    "    learning_rate=learning_rate,\n",
    "    n_estimators=n_estimators,\n",
    "    algorithm=\"SAMME\")\n",
    "ada_discrete.fit(X_primercounts, train.category)\n",
    "\n",
    "fig = plt.figure()\n",
    "ax = fig.add_subplot(111)\n",
    "\n",
    "ax.plot([1, n_estimators], [clf_dt_r1_stump_err] * 2, 'k-',\n",
    "        label='Decision Stump Error')\n",
    "ax.plot([1, n_estimators], [clf_dt_r1_err] * 2, 'k--',\n",
    "        label='Decision Tree Error')\n",
    "\n",
    "ada_discrete_err = numpy.zeros((n_estimators,))\n",
    "for i, y_pred in enumerate(ada_discrete.staged_predict(X_test1counts)):\n",
    "    ada_discrete_err[i] = zero_one_loss(y_pred, test.category)\n",
    "\n",
    "ada_discrete_err_train = numpy.zeros((n_estimators,))\n",
    "for i, y_pred in enumerate(ada_discrete.staged_predict(X_primercounts)):\n",
    "    ada_discrete_err_train[i] = zero_one_loss(y_pred, train.category)\n",
    "\n",
    "ax.plot(numpy.arange(n_estimators) + 1, ada_discrete_err,\n",
    "        label='Discrete AdaBoost Test Error',\n",
    "        color='red')\n",
    "ax.plot(numpy.arange(n_estimators) + 1, ada_discrete_err_train,\n",
    "        label='Discrete AdaBoost Train Error',\n",
    "        color='blue')\n",
    "\n",
    "ax.set_ylim((0.0, 1.0))\n",
    "ax.set_xlabel('n_estimators')\n",
    "ax.set_ylabel('error rate')\n",
    "\n",
    "leg = ax.legend(loc='upper right', fancybox=True)\n",
    "leg.get_frame().set_alpha(0.7)\n",
    "\n",
    "plt.show()"
   ]
  },
  {
   "cell_type": "code",
   "execution_count": 122,
   "metadata": {
    "collapsed": true
   },
   "outputs": [],
   "source": [
    "with open(os.getcwd()+'/data/adaboostmodel1.pkl', 'bw') as mod:\n",
    "    pickle.dump([train, test, train.alltext, train.category, count_vect_r1, X_primercounts, clf_dtm_r1, clf_dt_r1, ada_discrete, n_estimators, learning_rate], mod)"
   ]
  },
  {
   "cell_type": "markdown",
   "metadata": {},
   "source": [
    "## Classifying unlabelled records"
   ]
  },
  {
   "cell_type": "code",
   "execution_count": 123,
   "metadata": {
    "collapsed": true
   },
   "outputs": [],
   "source": [
    "X_unclass1counts = count_vect_r1.transform(pd_notated.alltext)\n",
    "#normalized_X_testround1_counts = sklearn.feature_extraction.text.TfidfTransformer(norm='l2').fit_transform(X_testround1_counts)\n",
    "predicted_dtada_r1 = ada_discrete.predict(X_unclass1counts)"
   ]
  },
  {
   "cell_type": "code",
   "execution_count": 124,
   "metadata": {
    "collapsed": false
   },
   "outputs": [
    {
     "name": "stdout",
     "output_type": "stream",
     "text": [
      "'www.kenneth-truyers.net' => NEWS\n",
      "'school.scotch.io' => TRAINING\n",
      "'www.imkrisna.com' => NEWS\n",
      "'vanilla-js.com' => NEWS\n",
      "'www.newmediacampaigns.com' => NEWS\n",
      "'paginationjs.com' => PACKAGE\n",
      "'shots.jotform.com' => PACKAGE\n",
      "'sraji.wordpress.com' => NEWS\n",
      "'woocommerce.com' => PACKAGE\n",
      "'www.punkchip.com' => NEWS\n",
      "'www.debuggex.com' => NEWS\n",
      "'codetunnel.com' => PACKAGE\n",
      "'w3resource.com' => NEWS\n",
      "'davidbcalhoun.com' => NEWS\n",
      "'bountify.co' => PACKAGE\n",
      "'abdulapopoola.com' => NEWS\n",
      "'www.salsify.com' => NEWS\n",
      "'js.stripe.com' => PACKAGE\n",
      "'codegeekz.com' => PACKAGE\n",
      "'mochajs.org' => PACKAGE\n",
      "'retrosnob.files.wordpress.com' => NEWS\n",
      "'www.learn-js.org' => NEWS\n",
      "'derickbailey.com' => NEWS\n",
      "'ip-info.com' => PACKAGE\n",
      "'www.servage.net' => NEWS\n",
      "'world.openfoodfacts.org' => DOCS\n",
      "'www.openthesaurus.de' => PACKAGE\n",
      "'danshort.com' => NEWS\n",
      "'www.meetup.com' => PACKAGE\n",
      "'www.quackit.com' => TRAINING\n",
      "'html5weekly.com' => TRAINING\n",
      "'www.embeddedjs.com' => NEWS\n",
      "'www.ictforu.com' => NEWS\n",
      "'www.infoq.com' => NEWS\n",
      "'davidshariff.com' => NEWS\n",
      "'tobyho.com' => NEWS\n",
      "'www.technoblogical.com' => TRAINING\n",
      "'editor.wix.com' => NEWS\n",
      "'genius.com' => NEWS\n",
      "'jsben.ch' => REPL\n",
      "'www.infobyip.com' => PACKAGE\n",
      "'app.cssmenumaker.com' => PACKAGE\n",
      "'www.pauleveritt.org' => NEWS\n",
      "'www.interviewcake.com' => NEWS\n",
      "'apiworkspace-jluboff.c9users.io' => PACKAGE\n",
      "'keystonejs.com' => NEWS\n",
      "'&quot;https:' => PACKAGE\n",
      "'try.jquery.com' => PACKAGE\n",
      "'nathanhoad.net' => NEWS\n",
      "'www.nostarch.com' => DOCS\n",
      "'www.bing.com' => PACKAGE\n",
      "'blog.thefirehoseproject.com' => PACKAGE\n",
      "'blog.udemy.com' => NEWS\n",
      "'blog.miguelgrinberg.com' => NEWS\n",
      "'yehudakatz.com' => NEWS\n",
      "'bootstraptour.com' => NEWS\n",
      "'adripofjavascript.com' => NEWS\n",
      "'www.manning.com' => NEWS\n",
      "'strongloop.com' => PACKAGE\n",
      "'json.parser.online.fr' => REPL\n",
      "'www.tothenew.com' => DOCS\n",
      "'www.syntaxsuccess.com' => NEWS\n",
      "'jsconsole.com' => NEWS\n",
      "'vuejs.org' => PACKAGE\n",
      "'code.jquery.com' => NEWS\n",
      "'atmospherejs.com' => NEWS\n",
      "'labs.steren.fr' => NEWS\n",
      "'quotes.rest' => PACKAGE\n",
      "'pt.stackoverflow.com' => NEWS\n",
      "'www.xenoveritas.org' => NEWS\n",
      "'www.sebastianseilund.com' => NEWS\n",
      "'brianflove.com' => PACKAGE\n",
      "'t5jixg.by3301.livefilestore.com' => PACKAGE\n",
      "'odetocode.com' => NEWS\n",
      "'www.thinkful.com' => TRAINING\n",
      "'de.wikipedia.org' => NEWS\n",
      "'json-p.org' => PACKAGE\n",
      "'homezone.com.ua' => NEWS\n",
      "'jsbooks.revolunet.com' => NEWS\n",
      "'javascript.about.com' => TRAINING\n",
      "'www.barnesandnoble.com' => NEWS\n",
      "'excellencenodejsblog.com' => NEWS\n",
      "'blog.gvm-it.eu' => NEWS\n",
      "'sam-houlahan.github.io' => NEWS\n",
      "'purplejs.io' => PACKAGE\n",
      "'pupunzi.open-lab.com' => NEWS\n",
      "'www.adaltas.com' => PACKAGE\n",
      "'api.worldweatheronline.com' => PACKAGE\n",
      "'desple.com' => NEWS\n",
      "'plainjs.com' => NEWS\n",
      "'www.codediesel.com' => PACKAGE\n",
      "'www.joezimjs.com' => NEWS\n",
      "'www.quora.com' => NEWS\n",
      "'friendlybit.com' => NEWS\n",
      "'labs.jonsuh.com' => PACKAGE\n",
      "'www.dyn-web.com' => TRAINING\n",
      "'unina.stidue.net' => NEWS\n",
      "'www.nikola-breznjak.com' => NEWS\n",
      "'chrome:' => PACKAGE\n",
      "'blog.sudoask.com' => PACKAGE\n",
      "'www.bradoncode.com' => NEWS\n",
      "'file.allitebooks.com' => NEWS\n",
      "'solutionoptimist.com' => NEWS\n",
      "'www.scriptingmaster.com' => TRAINING\n",
      "'www.java2s.com' => TRAINING\n",
      "'stamat.wordpress.com' => PACKAGE\n",
      "'www.newthinktank.com' => TRAINING\n",
      "'ignaciothayer.com' => NEWS\n",
      "'dev.vast.com' => PACKAGE\n",
      "'view-source:http:' => PACKAGE\n",
      "'JavaScript Objects in Detail' => PACKAGE\n",
      "'forums.asp.net' => PACKAGE\n",
      "'benhollis.net' => NEWS\n",
      "'ryanmalm.com' => PACKAGE\n",
      "'claudiocalautti.cc' => NEWS\n",
      "'blog.kevinchisholm.com' => NEWS\n",
      "'www.webdeveasy.com' => NEWS\n",
      "'docs.webplatform.org' => PACKAGE\n",
      "'bugs.jquery.com' => PACKAGE\n",
      "'p5js.org' => PACKAGE\n",
      "'jonsuh.com' => NEWS\n",
      "'api.forecast.io' => PACKAGE\n",
      "'www.c-sharpcorner.com' => NEWS\n",
      "'www.javascriptkata.com' => NEWS\n",
      "'jazcash.com' => NEWS\n",
      "'www.discovermeteor.com' => NEWS\n",
      "'wind-bow.gomix.me' => NOCLASS\n",
      "'www.javascript30.com' => TRAINING\n",
      "'www.destroyallsoftware.com' => NEWS\n",
      "'security.stackexchange.com' => PACKAGE\n",
      "'www.javascriptenlightenment.com' => NEWS\n",
      "'html5test.com' => NEWS\n",
      "'watchandcode.com' => TRAINING\n",
      "'192.168.5.33:8080' => PACKAGE\n",
      "'www.plus2net.com' => TRAINING\n",
      "'www.pageresource.com' => NEWS\n",
      "'www.mavenspun.com' => NEWS\n",
      "'www.niklausgerber.com' => DOCS\n",
      "'img.shields.io' => PACKAGE\n",
      "'www.thepolyglotdeveloper.com' => NEWS\n",
      "'port-80-jico6278fu.treehouse-app.com' => NEWS\n",
      "'html5demos.com' => NOCLASS\n",
      "'shapeshed.com' => NEWS\n",
      "'www.c-point.com' => NEWS\n",
      "'blog.izs.me' => NEWS\n",
      "'roguelike-reactjs.surge.sh' => NEWS\n",
      "'www.martinellis.com' => DOCS\n",
      "'jsperf.com' => NEWS\n",
      "'www.simpleweatherjs.com' => PACKAGE\n",
      "'learn.knockoutjs.com' => PACKAGE\n",
      "'ampersandjs.com' => NEWS\n",
      "'code-maven.com' => PACKAGE\n",
      "'paulund.co.uk' => TRAINING\n",
      "'udemy.com' => TRAINING\n",
      "'www.htmlgoodies.com' => TRAINING\n",
      "'james.padolsey.com' => NEWS\n",
      "'onlinehelp.tableau.com' => PACKAGE\n",
      "'www.nczonline.net' => NEWS\n",
      "'www.sebarmeli.com' => NEWS\n",
      "'www.codeconquest.com' => TRAINING\n",
      "'jsfidle.net' => PACKAGE\n",
      "'en.wikibooks.org' => NEWS\n",
      "'embed.plnkr.co' => PACKAGE\n",
      "'gulpjs.com' => PACKAGE\n",
      "'www.metaweather.com' => PACKAGE\n",
      "'www.java.com' => NEWS\n",
      "'jscompress.com' => NEWS\n",
      "'www.similartech.com' => NEWS\n",
      "'www.reactjsprogram.com' => NEWS\n",
      "'www.dropbox.com' => PACKAGE\n",
      "'myjson.com' => PACKAGE\n",
      "'www.createjs.com' => NEWS\n",
      "'idhana.com' => NEWS\n",
      "'webcheatsheet.com' => TRAINING\n",
      "'trac.webkit.org' => PACKAGE\n",
      "'www.nfriedly.com' => NEWS\n",
      "'defiantjs.com' => NEWS\n",
      "'www.eloquentjavascript.com' => NEWS\n",
      "'www.dajonline.net' => PACKAGE\n",
      "'tylerreckart.com' => NEWS\n",
      "'www.dofactory.com' => NEWS\n",
      "'javascript.tutorialhorizon.com' => NEWS\n",
      "'codingpen.com' => PACKAGE\n",
      "'www.competa.com' => NEWS\n",
      "'www.goodreads.com' => NEWS\n",
      "'gitthub.com' => PACKAGE\n",
      "'koccloud.comeze.com' => NOCLASS\n",
      "'www.bennadel.com' => NEWS\n",
      "'theoryapp.com' => PACKAGE\n",
      "'backbonejs.org' => PACKAGE\n",
      "'functionaljs.com' => NEWS\n",
      "'silentmatt.com' => NEWS\n",
      "'autocomplete-js.com' => PACKAGE\n",
      "'blog.pivotal.io' => DOCS\n",
      "'passportjs.org' => PACKAGE\n",
      "'orizens.com' => NEWS\n",
      "'inventwithpython.com' => NEWS\n",
      "'www.templatemonster.com' => NEWS\n",
      "'issuu.com' => NEWS\n",
      "'developer.yahoo.com' => NEWS\n",
      "'josephscott.org' => NEWS\n",
      "'riotjs.com' => TRAINING\n",
      "'developer.wordpress.com' => DOCS\n",
      "'screencast.com' => PACKAGE\n",
      "'qunitjs.com' => NEWS\n",
      "'css-plus.com' => NEWS\n",
      "'magic.reactjs.net' => PACKAGE\n",
      "'noeticforce.com' => TRAINING\n",
      "'www.daniweb.com' => NEWS\n",
      "'broccolijs.com' => PACKAGE\n",
      "'atendesigngroup.com' => NEWS\n",
      "'www.jasny.net' => NEWS\n",
      "'www.hotjs.net' => NEWS\n",
      "'developer.chrome.com' => PACKAGE\n",
      "'www.selftaughtjs.com' => TRAINING\n",
      "'blog.victorquinn.com' => NEWS\n",
      "'www.appcelerator.com' => NEWS\n",
      "'json.org' => TRAINING\n",
      "'www.echojs.com' => NEWS\n",
      "'tproger.ru' => PACKAGE\n",
      "'learn.javascript.ru' => NEWS\n",
      "'labs.bible.org' => PACKAGE\n",
      "'svgjs.com' => PACKAGE\n",
      "'codetype.wordpress.com' => NEWS\n",
      "'jsonprettyprint.com' => PACKAGE\n",
      "'tylermcginnis.com' => TRAINING\n",
      "'3dmdesign.com' => NEWS\n",
      "'fwd-studio.pt' => PACKAGE\n",
      "'www.bloggingdeveloper.com' => NEWS\n",
      "'cors.io' => PACKAGE\n",
      "'cjihrig.com' => PACKAGE\n",
      "'gonzalo123.com' => PACKAGE\n",
      "'eddmann.com' => NEWS\n",
      "'nodejs.orh' => PACKAGE\n",
      "'www.hackreactor.com' => TRAINING\n",
      "'forgetcode.com' => NEWS\n",
      "'unmatchedstyle.com' => NEWS\n",
      "'freewebdesigntutorials.com' => TRAINING\n",
      "'www.thesitewizard.com' => TRAINING\n",
      "'regex101.com' => PACKAGE\n",
      "'reallifejs.com' => TRAINING\n",
      "'ameijer.nl' => NEWS\n",
      "'brutusin.org' => PACKAGE\n",
      "'www.javatpoint.com' => TRAINING\n",
      "'www.wikihow.com' => TRAINING\n",
      "'todomvc.com' => PACKAGE\n",
      "'knexjs.org' => NEWS\n",
      "'www.w3school.com.cn' => PACKAGE\n",
      "'handlebarsjs.com' => PACKAGE\n",
      "'codeblind.org' => NEWS\n",
      "'quokkajs.com' => NEWS\n",
      "'gregfranko.com' => NEWS\n",
      "'underscorejs.org' => PACKAGE\n",
      "'togetherjs.com' => PACKAGE\n",
      "'evan17gr.github.io' => NEWS\n",
      "'www.learningjquery.com' => NEWS\n",
      "'blog.carbonfive.com' => NEWS\n",
      "'jonathanfine.wordpress.com' => PACKAGE\n",
      "'javascriptsolution.com' => NEWS\n",
      "'greensock.com' => NEWS\n",
      "'JSBin.com' => REPL\n",
      "'javascriptrefined.io' => NEWS\n",
      "'themarklee.com' => PACKAGE\n",
      "'leanpub.com' => PACKAGE\n",
      "'www.turnjs.com' => NEWS\n",
      "'earthquake.usgs.gov' => PACKAGE\n",
      "'www.intertech.com' => NEWS\n",
      "'www.copterlabs.com' => NEWS\n",
      "'learn.shayhowe.com.s3-website-us-east-1.amazonaws.com' => PACKAGE\n",
      "'mothereff.in' => NEWS\n",
      "'reactfordesigners.com' => NEWS\n",
      "'www.tutorial4us.com' => NEWS\n",
      "'www.diveintojavascript.com' => TRAINING\n",
      "'dsernst.com' => NEWS\n",
      "'benalman.com' => PACKAGE\n",
      "'blogs.4ward.it' => PACKAGE\n",
      "'bootboxjs.com' => PACKAGE\n",
      "'www.tutorialspark.com' => TRAINING\n",
      "'hacks.mozilla.org' => NEWS\n",
      "'www.programmerinterview.com' => NEWS\n",
      "'joelhooks.com' => NEWS\n",
      "'magentohostsolution.com' => PACKAGE\n",
      "'owapi.net' => PACKAGE\n",
      "'12devs.co.uk' => NEWS\n",
      "'presentations.survivejs.com' => PACKAGE\n",
      "'jquery-part2.codeschool.com' => PACKAGE\n",
      "'geniuscarrier.com' => NEWS\n",
      "'floating-point-gui.de' => PACKAGE\n",
      "'js.checkio.org' => PACKAGE\n",
      "'gruntjs.com' => NEWS\n",
      "'cryto.net' => NEWS\n",
      "'interactjs.io' => PACKAGE\n",
      "'sizzlejs.com' => NEWS\n",
      "'photos-4.dropbox.com' => NOCLASS\n",
      "'content.pivotal.io' => NEWS\n",
      "'www.promisejs.org' => NEWS\n",
      "'jonisalonen.com' => PACKAGE\n",
      "'infospace.ischool.syr.edu' => NEWS\n",
      "'www.chartjs.org' => PACKAGE\n",
      "'software.intel.com' => NEWS\n",
      "'www.brightcherry.co.uk' => NEWS\n",
      "'requirejs.org' => NEWS\n",
      "'inimino.org' => NEWS\n",
      "'codemahal.com' => TRAINING\n",
      "'secure.surfbuyermac.com' => PACKAGE\n",
      "'blog.chewxy.com' => NEWS\n",
      "'static.woopra.com' => PACKAGE\n",
      "'Code Conventions for the JavaScript Programming Language' => PACKAGE\n",
      "'benohead.com' => NEWS\n",
      "'jsforcats.com' => NEWS\n",
      "'emberjs.com' => PACKAGE\n",
      "'blogs.msdn.microsoft.com' => NEWS\n",
      "'earthintegrate.com' => NEWS\n",
      "'blog.javascripting.com' => NEWS\n",
      "'www.mindstick.com' => NEWS\n",
      "'www.natashatherobot.com' => NEWS\n",
      "'127.0.0.1:9222' => PACKAGE\n",
      "'codereview.stackexchange.com' => NEWS\n",
      "'prototypejs.org' => PACKAGE\n",
      "'jsrocks.org' => NEWS\n",
      "'billpatrianakos.me' => NEWS\n",
      "'www.facebook.com' => NEWS\n",
      "'exploringjs.com' => NEWS\n"
     ]
    }
   ],
   "source": [
    "for platform, category in zip(pd_notated.platform, predicted_dtada_r1):\n",
    "    print('%r => %s' % (platform, category))"
   ]
  },
  {
   "cell_type": "markdown",
   "metadata": {},
   "source": [
    "# DUMPED!!!!!!!!!!!!!!!!!!!!!!!!!!!!!!!!"
   ]
  },
  {
   "cell_type": "code",
   "execution_count": null,
   "metadata": {
    "collapsed": true
   },
   "outputs": [],
   "source": [
    "here stop"
   ]
  },
  {
   "cell_type": "code",
   "execution_count": null,
   "metadata": {
    "collapsed": true
   },
   "outputs": [],
   "source": [
    "from sklearn.model_selection import cross_val_score\n",
    "from sklearn.pipeline import make_pipeline\n",
    "from sklearn.model_selection import cross_val_predict\n",
    "from sklearn import metrics"
   ]
  },
  {
   "cell_type": "markdown",
   "metadata": {},
   "source": [
    "## RANDOM FOREST, CLASSIFICATION 1\n",
    "\n",
    "### References:\n",
    "* http://scikit-learn.org/stable/modules/generated/sklearn.ensemble.RandomForestClassifier.html\n",
    "* http://scikit-learn.org/stable/modules/ensemble.html#forest"
   ]
  },
  {
   "cell_type": "markdown",
   "metadata": {},
   "source": [
    "### Models"
   ]
  },
  {
   "cell_type": "code",
   "execution_count": 84,
   "metadata": {
    "collapsed": true
   },
   "outputs": [],
   "source": [
    "from sklearn.ensemble import RandomForestClassifier\n",
    "from sklearn.metrics import zero_one_loss"
   ]
  },
  {
   "cell_type": "code",
   "execution_count": 85,
   "metadata": {
    "collapsed": false
   },
   "outputs": [],
   "source": [
    "n_estimators = 25\n",
    "# A learning rate of 1. may not be optimal for both SAMME and SAMME.R\n",
    "learning_rate = 1.\n",
    "\n",
    "clf_rfm_r1_stump = RandomForestClassifier(max_depth=1, min_samples_leaf=1, n_estimators=n_estimators, random_state=0)\n",
    "clf_rf_r1_stump = clf_rfm_r1_stump.fit(X_primercounts, train.category)\n",
    "\n",
    "clf_rfm_r1 = RandomForestClassifier(max_depth=15, min_samples_leaf=2, n_estimators=n_estimators, random_state=0)\n",
    "clf_rf_r1 = clf_rfm_r1.fit(X_primercounts, train.category)"
   ]
  },
  {
   "cell_type": "markdown",
   "metadata": {},
   "source": [
    "### Classification"
   ]
  },
  {
   "cell_type": "code",
   "execution_count": 86,
   "metadata": {
    "collapsed": true
   },
   "outputs": [],
   "source": [
    "X_test1counts_stump = count_vect_r1.transform(test.alltext)\n",
    "predicted_rf_r1_stump = clf_rf_r1_stump.predict(X_test1counts_stump)"
   ]
  },
  {
   "cell_type": "code",
   "execution_count": 87,
   "metadata": {
    "collapsed": false,
    "scrolled": true
   },
   "outputs": [
    {
     "name": "stdout",
     "output_type": "stream",
     "text": [
      "'v4-alpha.getbootstrap.com' => NEWS\n",
      "'jqueryvalidation.org' => NEWS\n",
      "'api.datamarket.azure.com' => NEWS\n",
      "'preview.c9users.io' => NEWS\n",
      "'chaijs.com' => NEWS\n",
      "'mojs.io' => NEWS\n",
      "'www.mediawiki.org' => NEWS\n",
      "'jquerymobile.com' => NEWS\n",
      "'bootstrap-switch.min.css' => NEWS\n",
      "'paperjs.org' => NEWS\n",
      "'raw.githubusercontent.com' => NEWS\n",
      "'d3js.org' => NEWS\n",
      "'www.npmjs.com' => NEWS\n",
      "'lmgtfy.com' => NEWS\n",
      "'jsonip.com' => NEWS\n",
      "'cdnjs.com' => NEWS\n",
      "'expressjs.com' => NEWS\n",
      "'packagecontrol.io' => NEWS\n",
      "'howtocenterincss.com' => NEWS\n",
      "'expo.getbootstrap.com' => NEWS\n",
      "'query.yahooapis.com' => NEWS\n",
      "'www.bootstrapcdn.com' => NEWS\n",
      "'www.geoplugin.net' => NEWS\n",
      "'ip-api.com' => NEWS\n",
      "'scrollrevealjs.org' => NEWS\n",
      "'fontawesome.io' => NEWS\n",
      "'recurial.com' => NEWS\n",
      "'jhtmlcss.blogspot.com' => NEWS\n",
      "'wildermuth.com' => NEWS\n",
      "'codecondo.com' => NEWS\n",
      "'www.creativebloq.com' => NEWS\n",
      "'www.standardista.com' => NEWS\n",
      "'jrsinclair.com' => NEWS\n",
      "'nicolashery.com' => NEWS\n",
      "'www.jokecamp.com' => NEWS\n",
      "'scottiestech.info' => NEWS\n",
      "'blog.engineyard.com' => NEWS\n",
      "'1stwebmagazine.com' => NEWS\n",
      "'designsparkle.com' => NEWS\n",
      "'blog.npmjs.org' => NEWS\n",
      "'coderwall.com' => NEWS\n",
      "'ageekandhisblog.com' => NEWS\n",
      "'imperavi.com' => NEWS\n",
      "'fuqua.io' => NEWS\n",
      "'www.abeautifulsite.net' => NEWS\n",
      "'en.wikipedia.org' => NEWS\n",
      "'vanseodesign.com' => NEWS\n",
      "'www.webdesignerdepot.com' => NEWS\n",
      "'www.lingulo.com' => NEWS\n",
      "'www.minimit.com' => NEWS\n",
      "'www.differencebetween.info' => NEWS\n",
      "'codeitdown.com' => NEWS\n",
      "'psitsmike.com' => NEWS\n",
      "'perishablepress.com' => NEWS\n",
      "'willschenk.com' => NEWS\n",
      "'lifeinthegrid.com' => NEWS\n",
      "'arnique.net' => NEWS\n",
      "'www.mattboldt.com' => NEWS\n",
      "'www.vinaypuppal.com' => NEWS\n",
      "'blog.jquery.com' => NEWS\n",
      "'readwrite.com' => NEWS\n",
      "'praveenlobo.com' => NEWS\n",
      "'stanhub.com' => NEWS\n",
      "'stackabuse.com' => NEWS\n",
      "'www.webmaster-source.com' => NEWS\n",
      "'jsonviewer.stack.hu' => NEWS\n",
      "'www.cambus.net' => NEWS\n",
      "'debugmode.net' => NEWS\n",
      "'hughfdjackson.com' => NEWS\n",
      "'htmlcolorcodes.com' => NEWS\n",
      "'w3layouts.com' => NEWS\n",
      "'devfreebooks.org' => NEWS\n",
      "'wrapbootstrap.com' => NEWS\n",
      "'demos.creative-tim.com' => NEWS\n",
      "'demos.codexworld.com' => NEWS\n",
      "'rosettacode.org' => NEWS\n",
      "'jshint.com' => NEWS\n",
      "'www.freeformatter.com' => NEWS\n",
      "'code.runnable.com' => NEWS\n",
      "'atom.io' => NEWS\n",
      "'www.mkyong.com' => NEWS\n",
      "'www.edx.org' => NEWS\n",
      "'wiki.selfhtml.org' => NEWS\n",
      "'www.theodinproject.com' => NEWS\n",
      "'www.javascriptkit.com' => NEWS\n",
      "'www.pluralsight.com' => NEWS\n",
      "'www.the-art-of-web.com' => NEWS\n",
      "'egghead.io' => NEWS\n",
      "'scotch.io' => NEWS\n",
      "'css-tricks.com' => NEWS\n",
      "'www.tutorialspoint.com' => NEWS\n",
      "'learn.shayhowe.com' => NEWS\n",
      "'campus.codeschool.com' => NEWS\n",
      "'www.skilledup.com' => NEWS\n",
      "'127.0.0.1:62950' => NEWS\n",
      "'fonts.googleapis.com' => NEWS\n",
      "'bysin.net' => NEWS\n",
      "'jsonformat.com' => NEWS\n",
      "'gridus-html.neuethemes.net' => NEWS\n",
      "'whateverthesiteis.xyz' => NEWS\n",
      "'index.htm' => NEWS\n",
      "'html.com' => NEWS\n",
      "'snook.ca' => NEWS\n",
      "'dev.twitter.com' => NEWS\n",
      "'www.w3.org' => NEWS\n",
      "'docs.sequelizejs.com' => NEWS\n",
      "'code.visualstudio.com' => NEWS\n",
      "'dev.w3.org' => NEWS\n",
      "'bootstrapdocs.com' => NEWS\n",
      "'www.wickedlysmart.com' => NEWS\n",
      "'www.airpair.com' => NEWS\n",
      "'www.pdf-archive.com' => NEWS\n"
     ]
    }
   ],
   "source": [
    "for platform, category in zip(test.platform, predicted_rf_r1_stump):\n",
    "    print('%r => %s' % (platform, category))"
   ]
  },
  {
   "cell_type": "code",
   "execution_count": 88,
   "metadata": {
    "collapsed": true
   },
   "outputs": [],
   "source": [
    "X_test1counts = count_vect_r1.transform(test.alltext)\n",
    "predicted_rf_r1 = clf_rf_r1.predict(X_test1counts)"
   ]
  },
  {
   "cell_type": "code",
   "execution_count": 89,
   "metadata": {
    "collapsed": false
   },
   "outputs": [
    {
     "name": "stdout",
     "output_type": "stream",
     "text": [
      "'v4-alpha.getbootstrap.com' => PACKAGE\n",
      "'jqueryvalidation.org' => NEWS\n",
      "'api.datamarket.azure.com' => NEWS\n",
      "'preview.c9users.io' => NEWS\n",
      "'chaijs.com' => PACKAGE\n",
      "'mojs.io' => NEWS\n",
      "'www.mediawiki.org' => NEWS\n",
      "'jquerymobile.com' => NEWS\n",
      "'bootstrap-switch.min.css' => NEWS\n",
      "'paperjs.org' => NEWS\n",
      "'raw.githubusercontent.com' => PACKAGE\n",
      "'d3js.org' => NEWS\n",
      "'www.npmjs.com' => PACKAGE\n",
      "'lmgtfy.com' => NEWS\n",
      "'jsonip.com' => NEWS\n",
      "'cdnjs.com' => PACKAGE\n",
      "'expressjs.com' => PACKAGE\n",
      "'packagecontrol.io' => NEWS\n",
      "'howtocenterincss.com' => NEWS\n",
      "'expo.getbootstrap.com' => PACKAGE\n",
      "'query.yahooapis.com' => NEWS\n",
      "'www.bootstrapcdn.com' => NEWS\n",
      "'www.geoplugin.net' => NEWS\n",
      "'ip-api.com' => PACKAGE\n",
      "'scrollrevealjs.org' => NEWS\n",
      "'fontawesome.io' => PACKAGE\n",
      "'recurial.com' => NEWS\n",
      "'jhtmlcss.blogspot.com' => NEWS\n",
      "'wildermuth.com' => NEWS\n",
      "'codecondo.com' => NEWS\n",
      "'www.creativebloq.com' => NEWS\n",
      "'www.standardista.com' => NEWS\n",
      "'jrsinclair.com' => NEWS\n",
      "'nicolashery.com' => NEWS\n",
      "'www.jokecamp.com' => NEWS\n",
      "'scottiestech.info' => NEWS\n",
      "'blog.engineyard.com' => NEWS\n",
      "'1stwebmagazine.com' => NEWS\n",
      "'designsparkle.com' => NEWS\n",
      "'blog.npmjs.org' => NEWS\n",
      "'coderwall.com' => PACKAGE\n",
      "'ageekandhisblog.com' => NEWS\n",
      "'imperavi.com' => NEWS\n",
      "'fuqua.io' => NEWS\n",
      "'www.abeautifulsite.net' => NEWS\n",
      "'en.wikipedia.org' => PACKAGE\n",
      "'vanseodesign.com' => NEWS\n",
      "'www.webdesignerdepot.com' => NEWS\n",
      "'www.lingulo.com' => NEWS\n",
      "'www.minimit.com' => NEWS\n",
      "'www.differencebetween.info' => NEWS\n",
      "'codeitdown.com' => NEWS\n",
      "'psitsmike.com' => NEWS\n",
      "'perishablepress.com' => NEWS\n",
      "'willschenk.com' => NEWS\n",
      "'lifeinthegrid.com' => NEWS\n",
      "'arnique.net' => NEWS\n",
      "'www.mattboldt.com' => NEWS\n",
      "'www.vinaypuppal.com' => NEWS\n",
      "'blog.jquery.com' => NEWS\n",
      "'readwrite.com' => NEWS\n",
      "'praveenlobo.com' => NEWS\n",
      "'stanhub.com' => NEWS\n",
      "'stackabuse.com' => NEWS\n",
      "'www.webmaster-source.com' => NEWS\n",
      "'jsonviewer.stack.hu' => NEWS\n",
      "'www.cambus.net' => NEWS\n",
      "'debugmode.net' => NEWS\n",
      "'hughfdjackson.com' => NEWS\n",
      "'htmlcolorcodes.com' => NEWS\n",
      "'w3layouts.com' => NEWS\n",
      "'devfreebooks.org' => NEWS\n",
      "'wrapbootstrap.com' => NEWS\n",
      "'demos.creative-tim.com' => NEWS\n",
      "'demos.codexworld.com' => NEWS\n",
      "'rosettacode.org' => NEWS\n",
      "'jshint.com' => NEWS\n",
      "'www.freeformatter.com' => NEWS\n",
      "'code.runnable.com' => PACKAGE\n",
      "'atom.io' => NEWS\n",
      "'www.mkyong.com' => NEWS\n",
      "'www.edx.org' => NEWS\n",
      "'wiki.selfhtml.org' => NEWS\n",
      "'www.theodinproject.com' => NEWS\n",
      "'www.javascriptkit.com' => NEWS\n",
      "'www.pluralsight.com' => NEWS\n",
      "'www.the-art-of-web.com' => NEWS\n",
      "'egghead.io' => NEWS\n",
      "'scotch.io' => NEWS\n",
      "'css-tricks.com' => NEWS\n",
      "'www.tutorialspoint.com' => TRAINING\n",
      "'learn.shayhowe.com' => NEWS\n",
      "'campus.codeschool.com' => TRAINING\n",
      "'www.skilledup.com' => TRAINING\n",
      "'127.0.0.1:62950' => NEWS\n",
      "'fonts.googleapis.com' => NEWS\n",
      "'bysin.net' => NEWS\n",
      "'jsonformat.com' => NEWS\n",
      "'gridus-html.neuethemes.net' => NEWS\n",
      "'whateverthesiteis.xyz' => NEWS\n",
      "'index.htm' => NEWS\n",
      "'html.com' => PACKAGE\n",
      "'snook.ca' => NEWS\n",
      "'dev.twitter.com' => NEWS\n",
      "'www.w3.org' => NEWS\n",
      "'docs.sequelizejs.com' => PACKAGE\n",
      "'code.visualstudio.com' => NEWS\n",
      "'dev.w3.org' => NEWS\n",
      "'bootstrapdocs.com' => PACKAGE\n",
      "'www.wickedlysmart.com' => NEWS\n",
      "'www.airpair.com' => NEWS\n",
      "'www.pdf-archive.com' => NEWS\n"
     ]
    }
   ],
   "source": [
    "for platform, category in zip(test.platform, predicted_rf_r1):\n",
    "    print('%r => %s' % (platform, category))"
   ]
  },
  {
   "cell_type": "code",
   "execution_count": 90,
   "metadata": {
    "collapsed": false
   },
   "outputs": [],
   "source": [
    "X_test1counts_stump = count_vect_r1.transform(test.alltext)\n",
    "clf_rf_r1_stump_err = 1.0 - clf_rf_r1_stump.score(X_test1counts_stump, test.category)\n",
    "X_test1count = count_vect_r1.transform(test.alltext)\n",
    "clf_rf_r1_err = 1.0 - clf_rf_r1.score(X_test1counts, test.category)"
   ]
  },
  {
   "cell_type": "code",
   "execution_count": 91,
   "metadata": {
    "collapsed": false
   },
   "outputs": [
    {
     "name": "stdout",
     "output_type": "stream",
     "text": [
      "0.616071428571 0.526785714286\n"
     ]
    }
   ],
   "source": [
    "print(clf_rf_r1_stump_err,clf_rf_r1_err)"
   ]
  }
 ],
 "metadata": {
  "anaconda-cloud": {},
  "kernelspec": {
   "display_name": "Python [Root]",
   "language": "python",
   "name": "Python [Root]"
  },
  "language_info": {
   "codemirror_mode": {
    "name": "ipython",
    "version": 3
   },
   "file_extension": ".py",
   "mimetype": "text/x-python",
   "name": "python",
   "nbconvert_exporter": "python",
   "pygments_lexer": "ipython3",
   "version": "3.5.2"
  }
 },
 "nbformat": 4,
 "nbformat_minor": 0
}
