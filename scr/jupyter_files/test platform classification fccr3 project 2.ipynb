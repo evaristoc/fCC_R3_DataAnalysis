{
 "cells": [
  {
   "cell_type": "markdown",
   "metadata": {},
   "source": [
    "# PHASE 1: Platform Classification using Supervised Learning Methods - Building Training and Test datasets (part 2)"
   ]
  },
  {
   "cell_type": "markdown",
   "metadata": {},
   "source": []
  },
  {
   "cell_type": "markdown",
   "metadata": {},
   "source": [
    "### References:\n",
    "* https://www.quora.com/What-is-the-best-way-to-create-a-training-set-for-machine-learning/answer/Clem-Wang-1"
   ]
  },
  {
   "cell_type": "markdown",
   "metadata": {},
   "source": [
    "## Main Python libraries"
   ]
  },
  {
   "cell_type": "code",
   "execution_count": 70,
   "metadata": {
    "collapsed": false
   },
   "outputs": [],
   "source": [
    "import os, sys, pathlib\n",
    "from IPython.display import display, Math, Latex #also '%%latex' magic command\n",
    "import collections, itertools, operator, re, copy, datetime\n",
    "import urllib, urllib.request, urllib.parse, dns, ipwhois\n",
    "import pickle, json, csv, zipfile\n",
    "import math, random, numpy, scipy, pandas\n",
    "%matplotlib inline\n",
    "import matplotlib.pyplot as plt\n",
    "plt.style.use('ggplot')\n",
    "import bs4\n",
    "import nltk, sklearn\n",
    "\n",
    "#actualcwd = os.getcwd()\n",
    "#os.chdir(actualcwd)\n",
    "#print(os.getcwd())"
   ]
  },
  {
   "cell_type": "code",
   "execution_count": 2,
   "metadata": {
    "collapsed": false
   },
   "outputs": [
    {
     "name": "stdout",
     "output_type": "stream",
     "text": [
      "ok\n"
     ]
    }
   ],
   "source": [
    "#a simple but not adequate hack to solve:\n",
    "#-- that this notebook will include any passed module that exists on top of its folder\n",
    "#-- that my installation of the the nltk will find the correct path to the nlkt_data folder\n",
    "#\n",
    "#once this line is run, IT SHOULDN'T RUN AGAIN!, otherwise the cwd will change into something different; \n",
    "#it can restored though in different ways, one by using `actualcwd` variable or in some cases shuting down this notebook\n",
    "#\n",
    "#\n",
    "os.chdir('../..')\n",
    "#print(os.getcwd())\n",
    "sys.path.append(os.getcwd())\n",
    "import config.config as config\n",
    "\n",
    "#print(config.anacondadir)\n",
    "\n",
    "if os.path.exists(config.anacondadir):\n",
    "    print('ok')\n",
    "    nltk.data.path.append(config.anacondadir)"
   ]
  },
  {
   "cell_type": "code",
   "execution_count": 3,
   "metadata": {
    "collapsed": false
   },
   "outputs": [
    {
     "ename": "SyntaxError",
     "evalue": "invalid syntax (<ipython-input-3-bfc7f4b2e6e8>, line 1)",
     "output_type": "error",
     "traceback": [
      "\u001b[1;36m  File \u001b[1;32m\"<ipython-input-3-bfc7f4b2e6e8>\"\u001b[1;36m, line \u001b[1;32m1\u001b[0m\n\u001b[1;33m    STOP HERE!!\u001b[0m\n\u001b[1;37m            ^\u001b[0m\n\u001b[1;31mSyntaxError\u001b[0m\u001b[1;31m:\u001b[0m invalid syntax\n"
     ]
    }
   ],
   "source": [
    "STOP HERE!!"
   ]
  },
  {
   "cell_type": "code",
   "execution_count": 4,
   "metadata": {
    "collapsed": false
   },
   "outputs": [],
   "source": [
    "#OBSERVATION!: name of file has been changed to reflect last updated file \n",
    "if pathlib.Path(os.getcwd()+'/data/annotatedplatformsphase1_a1.csv').is_file():\n",
    "    pd_annotated = pandas.read_csv(open(os.getcwd()+'/data/annotatedplatformsphase1_a1.csv', 'r'), sep=';', quotechar=\"'\")\n",
    "else:\n",
    "    print('Not path found')"
   ]
  },
  {
   "cell_type": "code",
   "execution_count": 5,
   "metadata": {
    "collapsed": false,
    "scrolled": true
   },
   "outputs": [
    {
     "data": {
      "text/html": [
       "<div>\n",
       "<table border=\"1\" class=\"dataframe\">\n",
       "  <thead>\n",
       "    <tr style=\"text-align: right;\">\n",
       "      <th></th>\n",
       "      <th>Unnamed: 0</th>\n",
       "      <th>Unnamed: 0.1</th>\n",
       "      <th>platform</th>\n",
       "      <th>title</th>\n",
       "      <th>description</th>\n",
       "      <th>keywords</th>\n",
       "      <th>htext</th>\n",
       "      <th>params</th>\n",
       "      <th>category_regex</th>\n",
       "      <th>wiki</th>\n",
       "      <th>category</th>\n",
       "    </tr>\n",
       "  </thead>\n",
       "  <tbody>\n",
       "    <tr>\n",
       "      <th>0</th>\n",
       "      <td>0</td>\n",
       "      <td>0</td>\n",
       "      <td>v4-alpha.getbootstrap.com</td>\n",
       "      <td>\\n  \\n    bootstrap · the most popular html, c...</td>\n",
       "      <td>the most popular html, css, and js framework i...</td>\n",
       "      <td></td>\n",
       "      <td>Bootstrap is the most popular HTML, CSS, and J...</td>\n",
       "      <td>,/components,/components/breadcrumb/,/migratio...</td>\n",
       "      <td>api|package|framework|librar|stack|licens|addo...</td>\n",
       "      <td>NaN</td>\n",
       "      <td>PACKAGE</td>\n",
       "    </tr>\n",
       "    <tr>\n",
       "      <th>1</th>\n",
       "      <td>1</td>\n",
       "      <td>3</td>\n",
       "      <td>jscroll.com</td>\n",
       "      <td>jscroll - a jquery plugin for infinite scrolli...</td>\n",
       "      <td></td>\n",
       "      <td></td>\n",
       "      <td>jScroll is a jQuery plugin for infinite scroll...</td>\n",
       "      <td>/,https://github.com/cubiq/iscroll</td>\n",
       "      <td>api|package|framework|librar|stack|licens|addo...</td>\n",
       "      <td>NaN</td>\n",
       "      <td>PACKAGE</td>\n",
       "    </tr>\n",
       "    <tr>\n",
       "      <th>2</th>\n",
       "      <td>2</td>\n",
       "      <td>10</td>\n",
       "      <td>mongoosejs.com</td>\n",
       "      <td>mongoose odm v4.10.5</td>\n",
       "      <td></td>\n",
       "      <td></td>\n",
       "      <td>Elegant MongoDB object modeling for Node.js Mo...</td>\n",
       "      <td>/docs/promises.html,/docs/populate.html,/docs/...</td>\n",
       "      <td>api|package|framework|librar|stack|licens|addo...</td>\n",
       "      <td>NaN</td>\n",
       "      <td>PACKAGE</td>\n",
       "    </tr>\n",
       "    <tr>\n",
       "      <th>3</th>\n",
       "      <td>3</td>\n",
       "      <td>34</td>\n",
       "      <td>www.highcharts.com</td>\n",
       "      <td>Interactive JavaScript charts for your webpage...</td>\n",
       "      <td>Highcharts - Interactive JavaScript charts for...</td>\n",
       "      <td>highcharts, charts, javascript charts, ajax ch...</td>\n",
       "      <td>View demo Get a license</td>\n",
       "      <td>/samples/data/jsonp.php,/blog/192-use-highchar...</td>\n",
       "      <td>api|package|framework|librar|stack|licens|addo...</td>\n",
       "      <td>NaN</td>\n",
       "      <td>PACKAGE</td>\n",
       "    </tr>\n",
       "    <tr>\n",
       "      <th>4</th>\n",
       "      <td>4</td>\n",
       "      <td>41</td>\n",
       "      <td>www.crossorigin.me</td>\n",
       "      <td>crossorigin.me</td>\n",
       "      <td></td>\n",
       "      <td></td>\n",
       "      <td>\\n                  Welcome to crossorigin.me,...</td>\n",
       "      <td>/https://en.wikipedia.org/w/api.php,/,/https:/...</td>\n",
       "      <td>api|package|framework|librar|stack|licens|addo...</td>\n",
       "      <td>NaN</td>\n",
       "      <td>PACKAGE</td>\n",
       "    </tr>\n",
       "  </tbody>\n",
       "</table>\n",
       "</div>"
      ],
      "text/plain": [
       "   Unnamed: 0  Unnamed: 0.1                   platform  \\\n",
       "0           0             0  v4-alpha.getbootstrap.com   \n",
       "1           1             3                jscroll.com   \n",
       "2           2            10             mongoosejs.com   \n",
       "3           3            34         www.highcharts.com   \n",
       "4           4            41         www.crossorigin.me   \n",
       "\n",
       "                                               title  \\\n",
       "0  \\n  \\n    bootstrap · the most popular html, c...   \n",
       "1  jscroll - a jquery plugin for infinite scrolli...   \n",
       "2                               mongoose odm v4.10.5   \n",
       "3  Interactive JavaScript charts for your webpage...   \n",
       "4                                     crossorigin.me   \n",
       "\n",
       "                                         description  \\\n",
       "0  the most popular html, css, and js framework i...   \n",
       "1                                                      \n",
       "2                                                      \n",
       "3  Highcharts - Interactive JavaScript charts for...   \n",
       "4                                                      \n",
       "\n",
       "                                            keywords  \\\n",
       "0                                                      \n",
       "1                                                      \n",
       "2                                                      \n",
       "3  highcharts, charts, javascript charts, ajax ch...   \n",
       "4                                                      \n",
       "\n",
       "                                               htext  \\\n",
       "0  Bootstrap is the most popular HTML, CSS, and J...   \n",
       "1  jScroll is a jQuery plugin for infinite scroll...   \n",
       "2  Elegant MongoDB object modeling for Node.js Mo...   \n",
       "3                           View demo Get a license    \n",
       "4  \\n                  Welcome to crossorigin.me,...   \n",
       "\n",
       "                                              params  \\\n",
       "0  ,/components,/components/breadcrumb/,/migratio...   \n",
       "1                 /,https://github.com/cubiq/iscroll   \n",
       "2  /docs/promises.html,/docs/populate.html,/docs/...   \n",
       "3  /samples/data/jsonp.php,/blog/192-use-highchar...   \n",
       "4  /https://en.wikipedia.org/w/api.php,/,/https:/...   \n",
       "\n",
       "                                      category_regex wiki category  \n",
       "0  api|package|framework|librar|stack|licens|addo...  NaN  PACKAGE  \n",
       "1  api|package|framework|librar|stack|licens|addo...  NaN  PACKAGE  \n",
       "2  api|package|framework|librar|stack|licens|addo...  NaN  PACKAGE  \n",
       "3  api|package|framework|librar|stack|licens|addo...  NaN  PACKAGE  \n",
       "4  api|package|framework|librar|stack|licens|addo...  NaN  PACKAGE  "
      ]
     },
     "execution_count": 5,
     "metadata": {},
     "output_type": "execute_result"
    }
   ],
   "source": [
    "pd_annotated.head(5)"
   ]
  },
  {
   "cell_type": "code",
   "execution_count": 6,
   "metadata": {
    "collapsed": true
   },
   "outputs": [],
   "source": [
    "#OBSERVATION!: name of file has been changed to reflect last updated file \n",
    "if pathlib.Path(os.getcwd()+'/data/notatedplatformsphase1_a1.csv').is_file():\n",
    "    pd_notated = pandas.read_csv(open(os.getcwd()+'/data/notatedplatformsphase1_a1.csv', 'r'), sep=';', quotechar=\"'\")\n",
    "else:\n",
    "    print('Not path found')"
   ]
  },
  {
   "cell_type": "code",
   "execution_count": 7,
   "metadata": {
    "collapsed": false,
    "scrolled": true
   },
   "outputs": [
    {
     "data": {
      "text/html": [
       "<div>\n",
       "<table border=\"1\" class=\"dataframe\">\n",
       "  <thead>\n",
       "    <tr style=\"text-align: right;\">\n",
       "      <th></th>\n",
       "      <th>Unnamed: 0</th>\n",
       "      <th>Unnamed: 0.1</th>\n",
       "      <th>platform</th>\n",
       "      <th>title</th>\n",
       "      <th>description</th>\n",
       "      <th>keywords</th>\n",
       "      <th>htext</th>\n",
       "      <th>params</th>\n",
       "      <th>category</th>\n",
       "      <th>wiki</th>\n",
       "    </tr>\n",
       "  </thead>\n",
       "  <tbody>\n",
       "    <tr>\n",
       "      <th>0</th>\n",
       "      <td>0</td>\n",
       "      <td>0</td>\n",
       "      <td>www.kenneth-truyers.net</td>\n",
       "      <td>my life as a software developer |</td>\n",
       "      <td>blog about development using .net and client-s...</td>\n",
       "      <td></td>\n",
       "      <td>Posted on Friday, January 27th, 2017 at 02:42 ...</td>\n",
       "      <td>/2013/04/20/javascript-hoisting-explained/</td>\n",
       "      <td>NaN</td>\n",
       "      <td>NaN</td>\n",
       "    </tr>\n",
       "    <tr>\n",
       "      <th>1</th>\n",
       "      <td>1</td>\n",
       "      <td>1</td>\n",
       "      <td>school.scotch.io</td>\n",
       "      <td>courses ― scotch</td>\n",
       "      <td></td>\n",
       "      <td></td>\n",
       "      <td>You trust Scotch tutorials and Scotch authors....</td>\n",
       "      <td>/build-a-nodejs-website/course-introduction,/b...</td>\n",
       "      <td>NaN</td>\n",
       "      <td>NaN</td>\n",
       "    </tr>\n",
       "    <tr>\n",
       "      <th>2</th>\n",
       "      <td>2</td>\n",
       "      <td>2</td>\n",
       "      <td>www.imkrisna.com</td>\n",
       "      <td>i made krisna widhiastra | full-stack developer</td>\n",
       "      <td></td>\n",
       "      <td></td>\n",
       "      <td>\\n\\t\\t\\t\\t\\t\\t\\tCurrently working as Applicati...</td>\n",
       "      <td>/blog/2014/02/if-else-vs-if-if-vs-switch-javas...</td>\n",
       "      <td>NaN</td>\n",
       "      <td>NaN</td>\n",
       "    </tr>\n",
       "    <tr>\n",
       "      <th>3</th>\n",
       "      <td>3</td>\n",
       "      <td>3</td>\n",
       "      <td>vanilla-js.com</td>\n",
       "      <td>vanilla js</td>\n",
       "      <td></td>\n",
       "      <td></td>\n",
       "      <td>The Vanilla JS team maintains every byte of co...</td>\n",
       "      <td>/</td>\n",
       "      <td>NaN</td>\n",
       "      <td>NaN</td>\n",
       "    </tr>\n",
       "    <tr>\n",
       "      <th>4</th>\n",
       "      <td>4</td>\n",
       "      <td>4</td>\n",
       "      <td>www.newmediacampaigns.com</td>\n",
       "      <td>new media campaigns | nmc digital agency</td>\n",
       "      <td>NaN</td>\n",
       "      <td></td>\n",
       "      <td>Congrats to Hutchison PLLC on being named one ...</td>\n",
       "      <td>/blog/how-to-use-json-apis-with-jquery</td>\n",
       "      <td>NaN</td>\n",
       "      <td>NaN</td>\n",
       "    </tr>\n",
       "  </tbody>\n",
       "</table>\n",
       "</div>"
      ],
      "text/plain": [
       "   Unnamed: 0  Unnamed: 0.1                   platform  \\\n",
       "0           0             0    www.kenneth-truyers.net   \n",
       "1           1             1           school.scotch.io   \n",
       "2           2             2           www.imkrisna.com   \n",
       "3           3             3             vanilla-js.com   \n",
       "4           4             4  www.newmediacampaigns.com   \n",
       "\n",
       "                                             title  \\\n",
       "0              my life as a software developer |     \n",
       "1                                 courses ― scotch   \n",
       "2  i made krisna widhiastra | full-stack developer   \n",
       "3                                       vanilla js   \n",
       "4         new media campaigns | nmc digital agency   \n",
       "\n",
       "                                         description keywords  \\\n",
       "0  blog about development using .net and client-s...            \n",
       "1                                                               \n",
       "2                                                               \n",
       "3                                                               \n",
       "4                                                NaN            \n",
       "\n",
       "                                               htext  \\\n",
       "0  Posted on Friday, January 27th, 2017 at 02:42 ...   \n",
       "1  You trust Scotch tutorials and Scotch authors....   \n",
       "2  \\n\\t\\t\\t\\t\\t\\t\\tCurrently working as Applicati...   \n",
       "3  The Vanilla JS team maintains every byte of co...   \n",
       "4  Congrats to Hutchison PLLC on being named one ...   \n",
       "\n",
       "                                              params  category wiki  \n",
       "0         /2013/04/20/javascript-hoisting-explained/       NaN  NaN  \n",
       "1  /build-a-nodejs-website/course-introduction,/b...       NaN  NaN  \n",
       "2  /blog/2014/02/if-else-vs-if-if-vs-switch-javas...       NaN  NaN  \n",
       "3                                                  /       NaN  NaN  \n",
       "4             /blog/how-to-use-json-apis-with-jquery       NaN  NaN  "
      ]
     },
     "execution_count": 7,
     "metadata": {},
     "output_type": "execute_result"
    }
   ],
   "source": [
    "pd_notated.head(5)"
   ]
  },
  {
   "cell_type": "markdown",
   "metadata": {},
   "source": [
    "## DATA UPDATING - Important..."
   ]
  },
  {
   "cell_type": "markdown",
   "metadata": {},
   "source": [
    "The code commented below was used to:\n",
    "* **Add wikipedia info to the created tables**: for this I used the `scr.wikipedia_extract` module made for this purpose\n",
    "* **Revise some column naming and use the names for categories** to be used from now on: until now (29-July-17), I was using as categories a regex form I used for the original classification rules; from now I will be using the defined categories found in the `docs` folder of this work\n",
    "\n",
    "The changes below were done by creating updated files, re-opening that file and update it until the right file was created. Once the information was updated with some information, the respective code was commented because it was not of usage any more.\n",
    "\n",
    "The code below is kept commented but is shown so other users of this file can have a reference. Also the different intermediate files are kept in the `data` folder but only the required files are called for further analysis. In a more advanced phase a simpler file will be kept."
   ]
  },
  {
   "cell_type": "code",
   "execution_count": 8,
   "metadata": {
    "collapsed": false
   },
   "outputs": [],
   "source": [
    "#import scr.wikipedia_extract"
   ]
  },
  {
   "cell_type": "code",
   "execution_count": 9,
   "metadata": {
    "collapsed": false
   },
   "outputs": [],
   "source": [
    "#import imp"
   ]
  },
  {
   "cell_type": "code",
   "execution_count": 10,
   "metadata": {
    "collapsed": false,
    "scrolled": true
   },
   "outputs": [],
   "source": [
    "#imp.reload(scr.wikipedia_extract)"
   ]
  },
  {
   "cell_type": "code",
   "execution_count": 11,
   "metadata": {
    "collapsed": false
   },
   "outputs": [],
   "source": [
    "#pd_annotated['wiki'] = ''\n",
    "#pd_notated['wiki'] = ''\n",
    "#scr.wikipedia_extract.getting_wikipedia(pd_annotated)\n",
    "#scr.wikipedia_extract.getting_wikipedia(pd_notated)"
   ]
  },
  {
   "cell_type": "code",
   "execution_count": 12,
   "metadata": {
    "collapsed": false
   },
   "outputs": [],
   "source": [
    "#pd_errortemp = pd_notated.loc[pd_notated['platform'] == 'view-source:http:',]\n",
    "#scr.wikipedia_extract.getting_wikipedia(pd_errortemp)\n",
    "#print(pd_errortemp)\n",
    "#print(pd_notated.iloc[110,])\n",
    "#url = 'https://en.wikipedia.org/w/api.php?action=query&list=search&format=json&srsearch=JavaScript Objects in Detail'\n",
    "#req = urllib.request.Request(url)\n",
    "#try:\n",
    "#    resp = urllib.request.urlopen(req)\n",
    "#except urllib.error.HTTPError as e:\n",
    "#    print(e)"
   ]
  },
  {
   "cell_type": "code",
   "execution_count": 13,
   "metadata": {
    "collapsed": false
   },
   "outputs": [],
   "source": [
    "#pd_notated.head(100)"
   ]
  },
  {
   "cell_type": "code",
   "execution_count": 14,
   "metadata": {
    "collapsed": true
   },
   "outputs": [],
   "source": [
    "#pd_annotated = pd_annotated.rename(columns={'category':'category_regex'})"
   ]
  },
  {
   "cell_type": "code",
   "execution_count": 15,
   "metadata": {
    "collapsed": false
   },
   "outputs": [],
   "source": [
    "#pd_annotated.columns"
   ]
  },
  {
   "cell_type": "code",
   "execution_count": 16,
   "metadata": {
    "collapsed": true
   },
   "outputs": [],
   "source": [
    "#categories = pandas.read_csv(open(os.getcwd()+'/docs/category_operationalization.csv', 'r'), sep=':')"
   ]
  },
  {
   "cell_type": "code",
   "execution_count": 17,
   "metadata": {
    "collapsed": false,
    "scrolled": true
   },
   "outputs": [],
   "source": [
    "#categories"
   ]
  },
  {
   "cell_type": "code",
   "execution_count": 18,
   "metadata": {
    "collapsed": false
   },
   "outputs": [],
   "source": [
    "#categories = categories[['category','category_regex']]"
   ]
  },
  {
   "cell_type": "code",
   "execution_count": 19,
   "metadata": {
    "collapsed": false
   },
   "outputs": [],
   "source": [
    "#pd_annotated = pandas.merge(pd_annotated, categories, on=['category_regex'])"
   ]
  },
  {
   "cell_type": "code",
   "execution_count": 20,
   "metadata": {
    "collapsed": false,
    "scrolled": true
   },
   "outputs": [],
   "source": [
    "#pd_annotated.head(5)"
   ]
  },
  {
   "cell_type": "code",
   "execution_count": 21,
   "metadata": {
    "collapsed": true
   },
   "outputs": [],
   "source": [
    "#pd_annotated.to_csv(os.getcwd()+'/data/annotatedplatformsphase1_a1.csv', sep=';', quotechar=\"'\")\n",
    "#pd_notated.to_csv(os.getcwd()+'/data/notatedplatformsphase1_a1.csv', sep=';', quotechar=\"'\")"
   ]
  },
  {
   "cell_type": "code",
   "execution_count": 22,
   "metadata": {
    "collapsed": false
   },
   "outputs": [
    {
     "ename": "SyntaxError",
     "evalue": "invalid syntax (<ipython-input-22-d5af98942240>, line 1)",
     "output_type": "error",
     "traceback": [
      "\u001b[1;36m  File \u001b[1;32m\"<ipython-input-22-d5af98942240>\"\u001b[1;36m, line \u001b[1;32m1\u001b[0m\n\u001b[1;33m    STOP HERE!\u001b[0m\n\u001b[1;37m            ^\u001b[0m\n\u001b[1;31mSyntaxError\u001b[0m\u001b[1;31m:\u001b[0m invalid syntax\n"
     ]
    }
   ],
   "source": [
    "STOP HERE!"
   ]
  },
  {
   "cell_type": "markdown",
   "metadata": {},
   "source": [
    "## DATA PREPARATION"
   ]
  },
  {
   "cell_type": "code",
   "execution_count": 23,
   "metadata": {
    "collapsed": false,
    "scrolled": true
   },
   "outputs": [
    {
     "name": "stdout",
     "output_type": "stream",
     "text": [
      "ok\n"
     ]
    }
   ],
   "source": [
    "import scr.datapreparation_ML"
   ]
  },
  {
   "cell_type": "code",
   "execution_count": 24,
   "metadata": {
    "collapsed": false,
    "scrolled": true
   },
   "outputs": [],
   "source": [
    "#imp.reload(scr.datapreparation_ML)"
   ]
  },
  {
   "cell_type": "code",
   "execution_count": 25,
   "metadata": {
    "collapsed": false
   },
   "outputs": [
    {
     "name": "stdout",
     "output_type": "stream",
     "text": [
      "Unnamed: 0  has the following null values:  Unnamed: 0    0\n",
      "dtype: int64\n",
      "Unnamed: 0.1  has the following null values:  Unnamed: 0.1    0\n",
      "dtype: int64\n",
      "platform  has the following null values:  platform    0\n",
      "dtype: int64\n",
      "title  has the following null values:  title    1\n",
      "dtype: int64\n",
      "description  has the following null values:  description    11\n",
      "dtype: int64\n",
      "keywords  has the following null values:  keywords    2\n",
      "dtype: int64\n",
      "htext  has the following null values:  htext    0\n",
      "dtype: int64\n",
      "params  has the following null values:  params    6\n",
      "dtype: int64\n",
      "category_regex  has the following null values:  category_regex    0\n",
      "dtype: int64\n",
      "wiki  has the following null values:  wiki    373\n",
      "dtype: int64\n",
      "category  has the following null values:  category    0\n",
      "dtype: int64\n"
     ]
    }
   ],
   "source": [
    "for col in pd_annotated.columns:\n",
    "    print(col,' has the following null values: ', pd_annotated[[col]].isnull().sum())"
   ]
  },
  {
   "cell_type": "code",
   "execution_count": 26,
   "metadata": {
    "collapsed": false
   },
   "outputs": [
    {
     "data": {
      "text/plain": [
       "(450, 11)"
      ]
     },
     "execution_count": 26,
     "metadata": {},
     "output_type": "execute_result"
    }
   ],
   "source": [
    "pd_annotated.shape"
   ]
  },
  {
   "cell_type": "code",
   "execution_count": 27,
   "metadata": {
    "collapsed": false,
    "scrolled": true
   },
   "outputs": [
    {
     "name": "stdout",
     "output_type": "stream",
     "text": [
      "Unnamed: 0  has the following null values:  Unnamed: 0    0\n",
      "dtype: int64\n",
      "Unnamed: 0.1  has the following null values:  Unnamed: 0.1    0\n",
      "dtype: int64\n",
      "platform  has the following null values:  platform    0\n",
      "dtype: int64\n",
      "title  has the following null values:  title    2\n",
      "dtype: int64\n",
      "description  has the following null values:  description    9\n",
      "dtype: int64\n",
      "keywords  has the following null values:  keywords    3\n",
      "dtype: int64\n",
      "htext  has the following null values:  htext    0\n",
      "dtype: int64\n",
      "params  has the following null values:  params    13\n",
      "dtype: int64\n",
      "category  has the following null values:  category    323\n",
      "dtype: int64\n",
      "wiki  has the following null values:  wiki    270\n",
      "dtype: int64\n"
     ]
    }
   ],
   "source": [
    "for col in pd_notated.columns:\n",
    "    print(col,' has the following null values: ', pd_notated[[col]].isnull().sum())"
   ]
  },
  {
   "cell_type": "code",
   "execution_count": 28,
   "metadata": {
    "collapsed": false
   },
   "outputs": [
    {
     "data": {
      "text/plain": [
       "(323, 10)"
      ]
     },
     "execution_count": 28,
     "metadata": {},
     "output_type": "execute_result"
    }
   ],
   "source": [
    "pd_notated.shape"
   ]
  },
  {
   "cell_type": "code",
   "execution_count": 29,
   "metadata": {
    "collapsed": false
   },
   "outputs": [],
   "source": [
    "pd_annotated['alltext'] = ''\n",
    "scr.datapreparation_ML.datapreparation(pd_annotated)\n",
    "pd_notated['alltext'] = ''\n",
    "scr.datapreparation_ML.datapreparation(pd_notated)"
   ]
  },
  {
   "cell_type": "code",
   "execution_count": 30,
   "metadata": {
    "collapsed": false
   },
   "outputs": [
    {
     "ename": "SyntaxError",
     "evalue": "invalid syntax (<ipython-input-30-d5af98942240>, line 1)",
     "output_type": "error",
     "traceback": [
      "\u001b[1;36m  File \u001b[1;32m\"<ipython-input-30-d5af98942240>\"\u001b[1;36m, line \u001b[1;32m1\u001b[0m\n\u001b[1;33m    STOP HERE!\u001b[0m\n\u001b[1;37m            ^\u001b[0m\n\u001b[1;31mSyntaxError\u001b[0m\u001b[1;31m:\u001b[0m invalid syntax\n"
     ]
    }
   ],
   "source": [
    "STOP HERE!"
   ]
  },
  {
   "cell_type": "markdown",
   "metadata": {},
   "source": [
    "# ANALYSIS ROUND 1"
   ]
  },
  {
   "cell_type": "markdown",
   "metadata": {},
   "source": [
    "## References:\n",
    "* http://scikit-learn.org/stable/modules/cross_validation.html\n",
    "* https://stackoverflow.com/questions/24147278/how-do-i-create-test-and-train-samples-from-one-dataframe-with-pandas"
   ]
  },
  {
   "cell_type": "markdown",
   "metadata": {},
   "source": [
    "## DATA SPLIT"
   ]
  },
  {
   "cell_type": "code",
   "execution_count": null,
   "metadata": {
    "collapsed": true
   },
   "outputs": [],
   "source": [
    "#from sklearn.model_selection import train_test_split\n",
    "#xtrain, xtest, ytrain, ytest = train_test_split(pd_annotated.alltext, pd_annotated.category, test_size=0.1, random_state=0)"
   ]
  },
  {
   "cell_type": "code",
   "execution_count": null,
   "metadata": {
    "collapsed": false
   },
   "outputs": [],
   "source": [
    "train=pd_annotated[['platform', 'alltext','category']].sample(frac=0.75,random_state=0)\n",
    "test=pd_annotated[['platform', 'alltext','category']].drop(train.index)"
   ]
  },
  {
   "cell_type": "code",
   "execution_count": null,
   "metadata": {
    "collapsed": false
   },
   "outputs": [],
   "source": [
    "train.head(10)"
   ]
  },
  {
   "cell_type": "markdown",
   "metadata": {},
   "source": [
    "## DATA MODELLING - VECTOR MODEL 1"
   ]
  },
  {
   "cell_type": "code",
   "execution_count": null,
   "metadata": {
    "collapsed": false
   },
   "outputs": [],
   "source": [
    "from sklearn.feature_extraction.text import CountVectorizer\n",
    "count_vect_r1 = CountVectorizer(ngram_range=(1,2))\n",
    "X_primercounts = count_vect_r1.fit_transform(train.alltext)\n",
    "X_primercounts.shape"
   ]
  },
  {
   "cell_type": "markdown",
   "metadata": {},
   "source": [
    "## DECISION TREE WITH ADABOOST, CLASSIFICATION 1\n",
    "\n",
    "### References:\n",
    "* http://scikit-learn.org/stable/modules/generated/sklearn.tree.DecisionTreeClassifier.html#sklearn.tree.DecisionTreeClassifier\n",
    "* http://scikit-learn.org/stable/modules/tree.html\n",
    "* https://en.wikipedia.org/wiki/AdaBoost\n",
    "* http://scikit-learn.org/stable/modules/generated/sklearn.ensemble.AdaBoostClassifier.html\n",
    "* http://scikit-learn.org/stable/auto_examples/ensemble/plot_adaboost_hastie_10_2.html#sphx-glr-auto-examples-ensemble-plot-adaboost-hastie-10-2-py\n",
    "* https://stackoverflow.com/questions/32210569/using-gridsearchcv-with-adaboost-and-decisiontreeclassifier\n",
    "* http://scikit-learn.org/stable/auto_examples/model_selection/grid_search_digits.html\n",
    "* http://scikit-learn.org/stable/tutorial/statistical_inference/model_selection.html\n",
    "\n",
    "**Also**:\n",
    "* https://stackoverflow.com/questions/33110973/pass-a-dict-to-scikit-learn-estimator\n",
    "* http://machinelearningmastery.com/how-to-tune-algorithm-parameters-with-scikit-learn/"
   ]
  },
  {
   "cell_type": "markdown",
   "metadata": {},
   "source": [
    "### Models"
   ]
  },
  {
   "cell_type": "code",
   "execution_count": null,
   "metadata": {
    "collapsed": true
   },
   "outputs": [],
   "source": [
    "from sklearn.tree import DecisionTreeClassifier\n",
    "from sklearn.metrics import zero_one_loss\n",
    "from sklearn.ensemble import AdaBoostClassifier"
   ]
  },
  {
   "cell_type": "code",
   "execution_count": null,
   "metadata": {
    "collapsed": false
   },
   "outputs": [],
   "source": [
    "clf_dtm_r1_stump = DecisionTreeClassifier(max_depth=1, min_samples_leaf=1, random_state=0)\n",
    "clf_dt_r1_stump = clf_dtm_r1_stump.fit(X_primercounts, train.category)\n",
    "\n",
    "clf_dtm_r1 = DecisionTreeClassifier(min_samples_leaf=2, random_state=0)\n",
    "clf_dt_r1 = clf_dtm_r1.fit(X_primercounts, train.category)"
   ]
  },
  {
   "cell_type": "markdown",
   "metadata": {},
   "source": [
    "### Exploration of the Classification"
   ]
  },
  {
   "cell_type": "code",
   "execution_count": null,
   "metadata": {
    "collapsed": true
   },
   "outputs": [],
   "source": [
    "X_test1counts_stump = count_vect_r1.transform(test.alltext)\n",
    "predicted_dt_r1_stump = clf_dt_r1_stump.predict(X_test1counts_stump)"
   ]
  },
  {
   "cell_type": "code",
   "execution_count": null,
   "metadata": {
    "collapsed": false,
    "scrolled": true
   },
   "outputs": [],
   "source": [
    "#for platform, category in zip(test.platform, predicted_dt_r1_stump):\n",
    "#    print('%r => %s' % (platform, category))"
   ]
  },
  {
   "cell_type": "code",
   "execution_count": null,
   "metadata": {
    "collapsed": true
   },
   "outputs": [],
   "source": [
    "X_test1counts = count_vect_r1.transform(test.alltext)\n",
    "predicted_dt_r1 = clf_dt_r1.predict(X_test1counts)"
   ]
  },
  {
   "cell_type": "code",
   "execution_count": null,
   "metadata": {
    "collapsed": false
   },
   "outputs": [],
   "source": [
    "#for platform, category in zip(test.platform, predicted_dt_r1):\n",
    "#    print('%r => %s' % (platform, category))"
   ]
  },
  {
   "cell_type": "markdown",
   "metadata": {},
   "source": [
    "### Parameter Searching for the Decision Tree"
   ]
  },
  {
   "cell_type": "code",
   "execution_count": null,
   "metadata": {
    "collapsed": false,
    "scrolled": false
   },
   "outputs": [],
   "source": [
    "from sklearn.model_selection import GridSearchCV\n",
    "from sklearn.metrics import classification_report\n",
    "\n",
    "# Set the parameters by cross-validation\n",
    "tuned_parameters = [{'max_depth': numpy.arange(5,25,5)}]\n",
    "scores = ['precision', 'recall']\n",
    "\n",
    "for score in scores:\n",
    "    print(\"# Tuning hyper-parameters for %s\" % score)\n",
    "    print()\n",
    "\n",
    "    clf = GridSearchCV(clf_dtm_r1, tuned_parameters, cv=2,\n",
    "                       scoring='%s_macro' % score)\n",
    "    clf.fit(X_primercounts, train.category)\n",
    "\n",
    "    print(\"Best parameters set found on development set:\")\n",
    "    print()\n",
    "    print(clf.best_params_)\n",
    "    print()\n",
    "    print(\"Grid scores on development set:\")\n",
    "    print()\n",
    "    means = clf.cv_results_['mean_test_score']\n",
    "    stds = clf.cv_results_['std_test_score']\n",
    "    for mean, std, params in zip(means, stds, clf.cv_results_['params']):\n",
    "        print(\"%0.3f (+/-%0.03f) for %r\"\n",
    "              % (mean, std * 2, params))\n",
    "    print()\n",
    "\n",
    "    print(\"Detailed classification report:\")\n",
    "    print()\n",
    "    print(\"The model is trained on the full development set.\")\n",
    "    print(\"The scores are computed on the full evaluation set.\")\n",
    "    print()\n",
    "    y_true, y_predsearch = test.category, clf.predict(X_test1counts)\n",
    "    print(classification_report(y_true, y_predsearch))\n",
    "    print()"
   ]
  },
  {
   "cell_type": "code",
   "execution_count": null,
   "metadata": {
    "collapsed": true
   },
   "outputs": [],
   "source": [
    "X_test1counts_stump = count_vect_r1.transform(test.alltext)\n",
    "clf_dt_r1_stump_err = 1.0 - clf_dt_r1_stump.score(X_test1counts_stump, test.category)\n",
    "X_test1count = count_vect_r1.transform(test.alltext)\n",
    "clf_err = 1.0 - clf.score(X_test1counts, test.category)"
   ]
  },
  {
   "cell_type": "code",
   "execution_count": null,
   "metadata": {
    "collapsed": false,
    "scrolled": true
   },
   "outputs": [],
   "source": [
    "print(clf_dt_r1_stump_err,clf_dt_r1_err)"
   ]
  },
  {
   "cell_type": "code",
   "execution_count": null,
   "metadata": {
    "collapsed": false
   },
   "outputs": [],
   "source": [
    "print(clf.best_params_)"
   ]
  },
  {
   "cell_type": "markdown",
   "metadata": {},
   "source": [
    "### AdaBoost"
   ]
  },
  {
   "cell_type": "code",
   "execution_count": null,
   "metadata": {
    "collapsed": false
   },
   "outputs": [],
   "source": [
    "n_estimators = 40\n",
    "# A learning rate of 1. may not be optimal for both SAMME and SAMME.R\n",
    "learning_rate = 1.\n",
    "\n",
    "\n",
    "#IMPORTANT... https://stackoverflow.com/questions/33110973/pass-a-dict-to-scikit-learn-estimator\n",
    "clf_dtm_r1.set_params(**clf.best_params_)\n",
    "clf_dt_r1 = clf_dtm_r1.fit(X_primercounts, train.category)\n",
    "\n",
    "ada_discrete = AdaBoostClassifier(\n",
    "    base_estimator = clf_dtm_r1,\n",
    "    learning_rate=learning_rate,\n",
    "    n_estimators=n_estimators,\n",
    "    algorithm=\"SAMME\")\n",
    "ada_discrete.fit(X_primercounts, train.category)\n",
    "\n",
    "fig = plt.figure()\n",
    "ax = fig.add_subplot(111)\n",
    "\n",
    "ax.plot([1, n_estimators], [clf_dt_r1_stump_err] * 2, 'k-',\n",
    "        label='Decision Stump Error')\n",
    "ax.plot([1, n_estimators], [clf_dt_r1_err] * 2, 'k--',\n",
    "        label='Decision Tree Error')\n",
    "\n",
    "ada_discrete_err = numpy.zeros((n_estimators,))\n",
    "for i, y_pred in enumerate(ada_discrete.staged_predict(X_test1counts)):\n",
    "    ada_discrete_err[i] = zero_one_loss(y_pred, test.category)\n",
    "\n",
    "ada_discrete_err_train = numpy.zeros((n_estimators,))\n",
    "for i, y_pred in enumerate(ada_discrete.staged_predict(X_primercounts)):\n",
    "    ada_discrete_err_train[i] = zero_one_loss(y_pred, train.category)\n",
    "\n",
    "ax.plot(numpy.arange(n_estimators) + 1, ada_discrete_err,\n",
    "        label='Discrete AdaBoost Test Error',\n",
    "        color='red')\n",
    "ax.plot(numpy.arange(n_estimators) + 1, ada_discrete_err_train,\n",
    "        label='Discrete AdaBoost Train Error',\n",
    "        color='blue')\n",
    "\n",
    "ax.set_ylim((0.0, 1.0))\n",
    "ax.set_xlabel('n_estimators')\n",
    "ax.set_ylabel('error rate')\n",
    "\n",
    "leg = ax.legend(loc='upper right', fancybox=True)\n",
    "leg.get_frame().set_alpha(0.7)\n",
    "\n",
    "plt.show()"
   ]
  },
  {
   "cell_type": "code",
   "execution_count": null,
   "metadata": {
    "collapsed": true
   },
   "outputs": [],
   "source": [
    "with open(os.getcwd()+'/data/adaboostmodel1.pkl', 'bw') as mod:\n",
    "    pickle.dump([train, test, train.alltext, train.category, count_vect_r1, X_primercounts, clf_dtm_r1, clf_dt_r1, ada_discrete, n_estimators, learning_rate], mod)"
   ]
  },
  {
   "cell_type": "markdown",
   "metadata": {},
   "source": [
    "## Classifying unlabelled records"
   ]
  },
  {
   "cell_type": "code",
   "execution_count": null,
   "metadata": {
    "collapsed": true
   },
   "outputs": [],
   "source": [
    "X_unclass1counts = count_vect_r1.transform(pd_notated.alltext)\n",
    "#normalized_X_testround1_counts = sklearn.feature_extraction.text.TfidfTransformer(norm='l2').fit_transform(X_testround1_counts)\n",
    "predicted_dtada_r1 = ada_discrete.predict(X_unclass1counts)"
   ]
  },
  {
   "cell_type": "code",
   "execution_count": null,
   "metadata": {
    "collapsed": false,
    "scrolled": false
   },
   "outputs": [],
   "source": [
    "for platform, category in zip(pd_notated.platform, predicted_dtada_r1):\n",
    "    print('%r => %s' % (platform, category))"
   ]
  },
  {
   "cell_type": "code",
   "execution_count": null,
   "metadata": {
    "collapsed": false
   },
   "outputs": [],
   "source": [
    "with open(os.getcwd()+'/data/abadt_1.csv', 'w') as outfile:\n",
    "    writer = csv.writer(outfile, delimiter=';', quotechar=\"'\")\n",
    "    writer.writerow(['platform','assignedcategory','checked','category'])\n",
    "    for platform, category in zip(pd_notated.platform, predicted_dtada_r1):\n",
    "        #print('%r => %s' % (platform, category))\n",
    "        writer.writerow([platform,category,,])"
   ]
  },
  {
   "cell_type": "code",
   "execution_count": null,
   "metadata": {
    "collapsed": false
   },
   "outputs": [],
   "source": [
    "STOP HERE!!"
   ]
  },
  {
   "cell_type": "markdown",
   "metadata": {},
   "source": [
    "# POST-ANALYSIS ROUND 1"
   ]
  },
  {
   "cell_type": "markdown",
   "metadata": {},
   "source": [
    "Data preparation after the manual supervision of the classes"
   ]
  },
  {
   "cell_type": "markdown",
   "metadata": {},
   "source": [
    "### Python Libraries"
   ]
  },
  {
   "cell_type": "code",
   "execution_count": 31,
   "metadata": {
    "collapsed": true
   },
   "outputs": [],
   "source": [
    "from sklearn.feature_extraction.text import CountVectorizer\n",
    "from sklearn.tree import DecisionTreeClassifier\n",
    "from sklearn.metrics import zero_one_loss\n",
    "from sklearn.ensemble import AdaBoostClassifier\n",
    "from sklearn.model_selection import GridSearchCV\n",
    "from sklearn.metrics import classification_report"
   ]
  },
  {
   "cell_type": "markdown",
   "metadata": {},
   "source": [
    "## DATA PREPARATION"
   ]
  },
  {
   "cell_type": "code",
   "execution_count": 32,
   "metadata": {
    "collapsed": false
   },
   "outputs": [],
   "source": [
    "with open(os.getcwd()+'/data/adaboostmodel1.pkl', 'br') as mod:\n",
    "    train, test, train.alltext, train.category, count_vect_r1, X_primercounts, clf_dtm_r1, clf_dt_r1, ada_discrete, n_estimators, learning_rate = pickle.load(mod)"
   ]
  },
  {
   "cell_type": "code",
   "execution_count": 33,
   "metadata": {
    "collapsed": false
   },
   "outputs": [
    {
     "data": {
      "text/html": [
       "<div>\n",
       "<table border=\"1\" class=\"dataframe\">\n",
       "  <thead>\n",
       "    <tr style=\"text-align: right;\">\n",
       "      <th></th>\n",
       "      <th>platform</th>\n",
       "      <th>alltext</th>\n",
       "      <th>category</th>\n",
       "    </tr>\n",
       "  </thead>\n",
       "  <tbody>\n",
       "    <tr>\n",
       "      <th>0</th>\n",
       "      <td>v4-alpha.getbootstrap.com</td>\n",
       "      <td>buttons world overview content breadcrumb in...</td>\n",
       "      <td>PACKAGE</td>\n",
       "    </tr>\n",
       "    <tr>\n",
       "      <th>9</th>\n",
       "      <td>jqueryvalidation.org</td>\n",
       "      <td>still good lots validate options error comes...</td>\n",
       "      <td>PACKAGE</td>\n",
       "    </tr>\n",
       "    <tr>\n",
       "      <th>25</th>\n",
       "      <td>api.datamarket.azure.com</td>\n",
       "      <td>microsoft bing azure search v1 composite sal...</td>\n",
       "      <td>PACKAGE</td>\n",
       "    </tr>\n",
       "    <tr>\n",
       "      <th>28</th>\n",
       "      <td>preview.c9users.io</td>\n",
       "      <td>arshdkhn1 box chaoz4ngel insert index pollin...</td>\n",
       "      <td>PACKAGE</td>\n",
       "    </tr>\n",
       "    <tr>\n",
       "      <th>31</th>\n",
       "      <td>chaijs.com</td>\n",
       "      <td>node org browser delightfully paired asserti...</td>\n",
       "      <td>PACKAGE</td>\n",
       "    </tr>\n",
       "  </tbody>\n",
       "</table>\n",
       "</div>"
      ],
      "text/plain": [
       "                     platform  \\\n",
       "0   v4-alpha.getbootstrap.com   \n",
       "9        jqueryvalidation.org   \n",
       "25   api.datamarket.azure.com   \n",
       "28         preview.c9users.io   \n",
       "31                 chaijs.com   \n",
       "\n",
       "                                              alltext category  \n",
       "0     buttons world overview content breadcrumb in...  PACKAGE  \n",
       "9     still good lots validate options error comes...  PACKAGE  \n",
       "25    microsoft bing azure search v1 composite sal...  PACKAGE  \n",
       "28    arshdkhn1 box chaoz4ngel insert index pollin...  PACKAGE  \n",
       "31    node org browser delightfully paired asserti...  PACKAGE  "
      ]
     },
     "execution_count": 33,
     "metadata": {},
     "output_type": "execute_result"
    }
   ],
   "source": [
    "test.head()"
   ]
  },
  {
   "cell_type": "code",
   "execution_count": 34,
   "metadata": {
    "collapsed": false
   },
   "outputs": [],
   "source": [
    "X_unclass1counts = count_vect_r1.transform(pd_notated.alltext)"
   ]
  },
  {
   "cell_type": "code",
   "execution_count": 35,
   "metadata": {
    "collapsed": false,
    "scrolled": true
   },
   "outputs": [],
   "source": [
    "pd_notatedready_r1 = pandas.read_csv(open(os.getcwd()+'/data/abadt_1.csv', 'r'), sep=';', quotechar=\"'\" )"
   ]
  },
  {
   "cell_type": "code",
   "execution_count": 36,
   "metadata": {
    "collapsed": false,
    "scrolled": true
   },
   "outputs": [
    {
     "data": {
      "text/plain": [
       "(140, 4)"
      ]
     },
     "execution_count": 36,
     "metadata": {},
     "output_type": "execute_result"
    }
   ],
   "source": [
    "pd_notatedready_r1.loc[pd_notatedready_r1['checked'] != 1, :].shape"
   ]
  },
  {
   "cell_type": "code",
   "execution_count": 37,
   "metadata": {
    "collapsed": false
   },
   "outputs": [
    {
     "data": {
      "text/plain": [
       "(323, 4)"
      ]
     },
     "execution_count": 37,
     "metadata": {},
     "output_type": "execute_result"
    }
   ],
   "source": [
    "pd_notatedready_r1.shape"
   ]
  },
  {
   "cell_type": "markdown",
   "metadata": {},
   "source": [
    "## EVALUATION"
   ]
  },
  {
   "cell_type": "code",
   "execution_count": 38,
   "metadata": {
    "collapsed": false
   },
   "outputs": [
    {
     "name": "stdout",
     "output_type": "stream",
     "text": [
      "             precision    recall  f1-score   support\n",
      "\n",
      "   BUSINESS       0.00      0.00      0.00        14\n",
      "   COMMUITY       0.00      0.00      0.00        11\n",
      "       DOCS       0.14      0.14      0.14         7\n",
      "  ECOMMERCE       0.00      0.00      0.00         5\n",
      "       NEWS       0.59      0.84      0.69       122\n",
      "    NOCLASS       0.75      0.14      0.24        21\n",
      "       PAAS       0.00      0.00      0.00         7\n",
      "    PACKAGE       0.47      0.70      0.56        70\n",
      "       REPL       1.00      0.23      0.38        13\n",
      "    SENGINE       0.00      0.00      0.00         3\n",
      "      THEME       0.00      0.00      0.00         5\n",
      "   TRAINING       0.78      0.56      0.65        45\n",
      "\n",
      "avg / total       0.53      0.57      0.51       323\n",
      "\n"
     ]
    },
    {
     "name": "stderr",
     "output_type": "stream",
     "text": [
      "/home/ec/anaconda3/lib/python3.5/site-packages/sklearn/metrics/classification.py:1113: UndefinedMetricWarning: Precision and F-score are ill-defined and being set to 0.0 in labels with no predicted samples.\n",
      "  'precision', 'predicted', average, warn_for)\n"
     ]
    }
   ],
   "source": [
    "print(classification_report(pd_notatedready_r1.loc[pd_notatedready_r1['checked'] != -1, 'category'], pd_notatedready_r1.loc[pd_notatedready_r1['checked'] != -1, 'assignedcategory']))"
   ]
  },
  {
   "cell_type": "markdown",
   "metadata": {},
   "source": [
    "# ANALYSIS 2"
   ]
  },
  {
   "cell_type": "markdown",
   "metadata": {},
   "source": [
    "## RECONSTRUCTING THE DATASETS"
   ]
  },
  {
   "cell_type": "code",
   "execution_count": 39,
   "metadata": {
    "collapsed": false,
    "scrolled": true
   },
   "outputs": [
    {
     "data": {
      "text/html": [
       "<div>\n",
       "<table border=\"1\" class=\"dataframe\">\n",
       "  <thead>\n",
       "    <tr style=\"text-align: right;\">\n",
       "      <th></th>\n",
       "      <th>Unnamed: 0</th>\n",
       "      <th>Unnamed: 0.1</th>\n",
       "      <th>platform</th>\n",
       "      <th>title</th>\n",
       "      <th>description</th>\n",
       "      <th>keywords</th>\n",
       "      <th>htext</th>\n",
       "      <th>params</th>\n",
       "      <th>category</th>\n",
       "      <th>wiki</th>\n",
       "      <th>alltext</th>\n",
       "    </tr>\n",
       "  </thead>\n",
       "  <tbody>\n",
       "  </tbody>\n",
       "</table>\n",
       "</div>"
      ],
      "text/plain": [
       "Empty DataFrame\n",
       "Columns: [Unnamed: 0, Unnamed: 0.1, platform, title, description, keywords, htext, params, category, wiki, alltext]\n",
       "Index: []"
      ]
     },
     "execution_count": 39,
     "metadata": {},
     "output_type": "execute_result"
    }
   ],
   "source": [
    "pd_notated2 = pd_notated.loc[pd_notatedready_r1['checked'] == -1,:]\n",
    "pd_notated2.head()"
   ]
  },
  {
   "cell_type": "code",
   "execution_count": 40,
   "metadata": {
    "collapsed": false
   },
   "outputs": [],
   "source": [
    "pd_annotatedtrans = pd_notated.loc[pd_notatedready_r1['checked'] != -1,:]\n",
    "pd_annotatedtrans['category'] = pd_notatedready_r1.loc[pd_notatedready_r1['checked'] != -1,'category']"
   ]
  },
  {
   "cell_type": "code",
   "execution_count": 41,
   "metadata": {
    "collapsed": false
   },
   "outputs": [
    {
     "data": {
      "text/html": [
       "<div>\n",
       "<table border=\"1\" class=\"dataframe\">\n",
       "  <thead>\n",
       "    <tr style=\"text-align: right;\">\n",
       "      <th></th>\n",
       "      <th>Unnamed: 0</th>\n",
       "      <th>Unnamed: 0.1</th>\n",
       "      <th>platform</th>\n",
       "      <th>title</th>\n",
       "      <th>description</th>\n",
       "      <th>keywords</th>\n",
       "      <th>htext</th>\n",
       "      <th>params</th>\n",
       "      <th>category</th>\n",
       "      <th>wiki</th>\n",
       "      <th>alltext</th>\n",
       "    </tr>\n",
       "  </thead>\n",
       "  <tbody>\n",
       "    <tr>\n",
       "      <th>0</th>\n",
       "      <td>0</td>\n",
       "      <td>0</td>\n",
       "      <td>www.kenneth-truyers.net</td>\n",
       "      <td>my life as a software developer |</td>\n",
       "      <td>blog about development using .net and client-s...</td>\n",
       "      <td></td>\n",
       "      <td>Posted on Friday, January 27th, 2017 at 02:42 ...</td>\n",
       "      <td>/2013/04/20/javascript-hoisting-explained/</td>\n",
       "      <td>NEWS</td>\n",
       "      <td>NaN</td>\n",
       "      <td>refactoring blog using html life friday cont...</td>\n",
       "    </tr>\n",
       "    <tr>\n",
       "      <th>1</th>\n",
       "      <td>1</td>\n",
       "      <td>1</td>\n",
       "      <td>school.scotch.io</td>\n",
       "      <td>courses ― scotch</td>\n",
       "      <td></td>\n",
       "      <td></td>\n",
       "      <td>You trust Scotch tutorials and Scotch authors....</td>\n",
       "      <td>/build-a-nodejs-website/course-introduction,/b...</td>\n",
       "      <td>TRAINING</td>\n",
       "      <td>NaN</td>\n",
       "      <td>scotch website level author build authors jo...</td>\n",
       "    </tr>\n",
       "    <tr>\n",
       "      <th>2</th>\n",
       "      <td>2</td>\n",
       "      <td>2</td>\n",
       "      <td>www.imkrisna.com</td>\n",
       "      <td>i made krisna widhiastra | full-stack developer</td>\n",
       "      <td></td>\n",
       "      <td></td>\n",
       "      <td>\\n\\t\\t\\t\\t\\t\\t\\tCurrently working as Applicati...</td>\n",
       "      <td>/blog/2014/02/if-else-vs-if-if-vs-switch-javas...</td>\n",
       "      <td>NEWS</td>\n",
       "      <td>NaN</td>\n",
       "      <td>full blog malaysia vs professional stack els...</td>\n",
       "    </tr>\n",
       "    <tr>\n",
       "      <th>3</th>\n",
       "      <td>3</td>\n",
       "      <td>3</td>\n",
       "      <td>vanilla-js.com</td>\n",
       "      <td>vanilla js</td>\n",
       "      <td></td>\n",
       "      <td></td>\n",
       "      <td>The Vanilla JS team maintains every byte of co...</td>\n",
       "      <td>/</td>\n",
       "      <td>PACKAGE</td>\n",
       "      <td>NaN</td>\n",
       "      <td>day js glad framework intuitive maintains us...</td>\n",
       "    </tr>\n",
       "    <tr>\n",
       "      <th>4</th>\n",
       "      <td>4</td>\n",
       "      <td>4</td>\n",
       "      <td>www.newmediacampaigns.com</td>\n",
       "      <td>new media campaigns | nmc digital agency</td>\n",
       "      <td>NaN</td>\n",
       "      <td></td>\n",
       "      <td>Congrats to Hutchison PLLC on being named one ...</td>\n",
       "      <td>/blog/how-to-use-json-apis-with-jquery</td>\n",
       "      <td>BUSINESS</td>\n",
       "      <td>NaN</td>\n",
       "      <td>blog digital hutchison one websites congrats...</td>\n",
       "    </tr>\n",
       "  </tbody>\n",
       "</table>\n",
       "</div>"
      ],
      "text/plain": [
       "   Unnamed: 0  Unnamed: 0.1                   platform  \\\n",
       "0           0             0    www.kenneth-truyers.net   \n",
       "1           1             1           school.scotch.io   \n",
       "2           2             2           www.imkrisna.com   \n",
       "3           3             3             vanilla-js.com   \n",
       "4           4             4  www.newmediacampaigns.com   \n",
       "\n",
       "                                             title  \\\n",
       "0              my life as a software developer |     \n",
       "1                                 courses ― scotch   \n",
       "2  i made krisna widhiastra | full-stack developer   \n",
       "3                                       vanilla js   \n",
       "4         new media campaigns | nmc digital agency   \n",
       "\n",
       "                                         description keywords  \\\n",
       "0  blog about development using .net and client-s...            \n",
       "1                                                               \n",
       "2                                                               \n",
       "3                                                               \n",
       "4                                                NaN            \n",
       "\n",
       "                                               htext  \\\n",
       "0  Posted on Friday, January 27th, 2017 at 02:42 ...   \n",
       "1  You trust Scotch tutorials and Scotch authors....   \n",
       "2  \\n\\t\\t\\t\\t\\t\\t\\tCurrently working as Applicati...   \n",
       "3  The Vanilla JS team maintains every byte of co...   \n",
       "4  Congrats to Hutchison PLLC on being named one ...   \n",
       "\n",
       "                                              params  category wiki  \\\n",
       "0         /2013/04/20/javascript-hoisting-explained/      NEWS  NaN   \n",
       "1  /build-a-nodejs-website/course-introduction,/b...  TRAINING  NaN   \n",
       "2  /blog/2014/02/if-else-vs-if-if-vs-switch-javas...      NEWS  NaN   \n",
       "3                                                  /   PACKAGE  NaN   \n",
       "4             /blog/how-to-use-json-apis-with-jquery  BUSINESS  NaN   \n",
       "\n",
       "                                             alltext  \n",
       "0    refactoring blog using html life friday cont...  \n",
       "1    scotch website level author build authors jo...  \n",
       "2    full blog malaysia vs professional stack els...  \n",
       "3    day js glad framework intuitive maintains us...  \n",
       "4    blog digital hutchison one websites congrats...  "
      ]
     },
     "execution_count": 41,
     "metadata": {},
     "output_type": "execute_result"
    }
   ],
   "source": [
    "pd_annotatedtrans.head()"
   ]
  },
  {
   "cell_type": "code",
   "execution_count": 42,
   "metadata": {
    "collapsed": false
   },
   "outputs": [
    {
     "data": {
      "text/html": [
       "<div>\n",
       "<table border=\"1\" class=\"dataframe\">\n",
       "  <thead>\n",
       "    <tr style=\"text-align: right;\">\n",
       "      <th></th>\n",
       "      <th>Unnamed: 0</th>\n",
       "      <th>Unnamed: 0.1</th>\n",
       "      <th>alltext</th>\n",
       "      <th>category</th>\n",
       "      <th>category_regex</th>\n",
       "      <th>description</th>\n",
       "      <th>htext</th>\n",
       "      <th>keywords</th>\n",
       "      <th>params</th>\n",
       "      <th>platform</th>\n",
       "      <th>title</th>\n",
       "      <th>wiki</th>\n",
       "    </tr>\n",
       "  </thead>\n",
       "  <tbody>\n",
       "    <tr>\n",
       "      <th>0</th>\n",
       "      <td>0</td>\n",
       "      <td>0</td>\n",
       "      <td>css world framework scrollspy buttons group ...</td>\n",
       "      <td>PACKAGE</td>\n",
       "      <td>api|package|framework|librar|stack|licens|addo...</td>\n",
       "      <td>the most popular html, css, and js framework i...</td>\n",
       "      <td>Bootstrap is the most popular HTML, CSS, and J...</td>\n",
       "      <td></td>\n",
       "      <td>,/components,/components/breadcrumb/,/migratio...</td>\n",
       "      <td>v4-alpha.getbootstrap.com</td>\n",
       "      <td>\\n  \\n    bootstrap · the most popular html, c...</td>\n",
       "      <td>NaN</td>\n",
       "    </tr>\n",
       "    <tr>\n",
       "      <th>1</th>\n",
       "      <td>1</td>\n",
       "      <td>3</td>\n",
       "      <td>iscroll loaded endless ability area current ...</td>\n",
       "      <td>PACKAGE</td>\n",
       "      <td>api|package|framework|librar|stack|licens|addo...</td>\n",
       "      <td></td>\n",
       "      <td>jScroll is a jQuery plugin for infinite scroll...</td>\n",
       "      <td></td>\n",
       "      <td>/,https://github.com/cubiq/iscroll</td>\n",
       "      <td>jscroll.com</td>\n",
       "      <td>jscroll - a jquery plugin for infinite scrolli...</td>\n",
       "      <td>NaN</td>\n",
       "    </tr>\n",
       "    <tr>\n",
       "      <th>2</th>\n",
       "      <td>2</td>\n",
       "      <td>10</td>\n",
       "      <td>populate started modeling mongoose html quer...</td>\n",
       "      <td>PACKAGE</td>\n",
       "      <td>api|package|framework|librar|stack|licens|addo...</td>\n",
       "      <td></td>\n",
       "      <td>Elegant MongoDB object modeling for Node.js Mo...</td>\n",
       "      <td></td>\n",
       "      <td>/docs/promises.html,/docs/populate.html,/docs/...</td>\n",
       "      <td>mongoosejs.com</td>\n",
       "      <td>mongoose odm v4.10.5</td>\n",
       "      <td>NaN</td>\n",
       "    </tr>\n",
       "    <tr>\n",
       "      <th>3</th>\n",
       "      <td>3</td>\n",
       "      <td>34</td>\n",
       "      <td>stock blog navigator jsonp bar samples react...</td>\n",
       "      <td>PACKAGE</td>\n",
       "      <td>api|package|framework|librar|stack|licens|addo...</td>\n",
       "      <td>Highcharts - Interactive JavaScript charts for...</td>\n",
       "      <td>View demo Get a license</td>\n",
       "      <td>highcharts, charts, javascript charts, ajax ch...</td>\n",
       "      <td>/samples/data/jsonp.php,/blog/192-use-highchar...</td>\n",
       "      <td>www.highcharts.com</td>\n",
       "      <td>Interactive JavaScript charts for your webpage...</td>\n",
       "      <td>NaN</td>\n",
       "    </tr>\n",
       "    <tr>\n",
       "      <th>4</th>\n",
       "      <td>4</td>\n",
       "      <td>41</td>\n",
       "      <td>org php crossorigin en wikipedia welcome htt...</td>\n",
       "      <td>PACKAGE</td>\n",
       "      <td>api|package|framework|librar|stack|licens|addo...</td>\n",
       "      <td></td>\n",
       "      <td>\\n                  Welcome to crossorigin.me,...</td>\n",
       "      <td></td>\n",
       "      <td>/https://en.wikipedia.org/w/api.php,/,/https:/...</td>\n",
       "      <td>www.crossorigin.me</td>\n",
       "      <td>crossorigin.me</td>\n",
       "      <td>NaN</td>\n",
       "    </tr>\n",
       "    <tr>\n",
       "      <th>5</th>\n",
       "      <td>5</td>\n",
       "      <td>47</td>\n",
       "      <td></td>\n",
       "      <td>PACKAGE</td>\n",
       "      <td>api|package|framework|librar|stack|licens|addo...</td>\n",
       "      <td></td>\n",
       "      <td></td>\n",
       "      <td></td>\n",
       "      <td>NaN</td>\n",
       "      <td>v4-alpha.getbootstrap.com)</td>\n",
       "      <td></td>\n",
       "      <td>NaN</td>\n",
       "    </tr>\n",
       "    <tr>\n",
       "      <th>6</th>\n",
       "      <td>6</td>\n",
       "      <td>52</td>\n",
       "      <td>posts quoteson post neville heaven weaver ja...</td>\n",
       "      <td>PACKAGE</td>\n",
       "      <td>api|package|framework|librar|stack|licens|addo...</td>\n",
       "      <td></td>\n",
       "      <td>Good design goes to heaven; bad design goes ev...</td>\n",
       "      <td></td>\n",
       "      <td>,/lowell-williams/&amp;quot;},/wp-json/post/,/,/ap...</td>\n",
       "      <td>quotesondesign.com</td>\n",
       "      <td>quotes on design -</td>\n",
       "      <td>NaN</td>\n",
       "    </tr>\n",
       "    <tr>\n",
       "      <th>7</th>\n",
       "      <td>7</td>\n",
       "      <td>53</td>\n",
       "      <td>posts io https welcome w github stormconsult...</td>\n",
       "      <td>PACKAGE</td>\n",
       "      <td>api|package|framework|librar|stack|licens|addo...</td>\n",
       "      <td></td>\n",
       "      <td>\\n                  Welcome to crossorigin.me,...</td>\n",
       "      <td></td>\n",
       "      <td>,/http://api.open,/https://en.wikipedia.org/w/...</td>\n",
       "      <td>crossorigin.me</td>\n",
       "      <td>crossorigin.me</td>\n",
       "      <td>NaN</td>\n",
       "    </tr>\n",
       "    <tr>\n",
       "      <th>8</th>\n",
       "      <td>8</td>\n",
       "      <td>54</td>\n",
       "      <td>shows html minified events template handle l...</td>\n",
       "      <td>PACKAGE</td>\n",
       "      <td>api|package|framework|librar|stack|licens|addo...</td>\n",
       "      <td></td>\n",
       "      <td>\\nThis demo shows you how to use a simple HTML...</td>\n",
       "      <td></td>\n",
       "      <td>/</td>\n",
       "      <td>minifiedjs.com</td>\n",
       "      <td>minified.js - a truly lightweight javascript l...</td>\n",
       "      <td>NaN</td>\n",
       "    </tr>\n",
       "    <tr>\n",
       "      <th>9</th>\n",
       "      <td>9</td>\n",
       "      <td>59</td>\n",
       "      <td>options lots translations integrate bundled ...</td>\n",
       "      <td>PACKAGE</td>\n",
       "      <td>api|package|framework|librar|stack|licens|addo...</td>\n",
       "      <td></td>\n",
       "      <td>This jQuery plugin makes simple clientside for...</td>\n",
       "      <td></td>\n",
       "      <td>/validate/</td>\n",
       "      <td>jqueryvalidation.org</td>\n",
       "      <td>jquery validation plugin | form validation wit...</td>\n",
       "      <td>NaN</td>\n",
       "    </tr>\n",
       "  </tbody>\n",
       "</table>\n",
       "</div>"
      ],
      "text/plain": [
       "   Unnamed: 0  Unnamed: 0.1  \\\n",
       "0           0             0   \n",
       "1           1             3   \n",
       "2           2            10   \n",
       "3           3            34   \n",
       "4           4            41   \n",
       "5           5            47   \n",
       "6           6            52   \n",
       "7           7            53   \n",
       "8           8            54   \n",
       "9           9            59   \n",
       "\n",
       "                                             alltext category  \\\n",
       "0    css world framework scrollspy buttons group ...  PACKAGE   \n",
       "1    iscroll loaded endless ability area current ...  PACKAGE   \n",
       "2    populate started modeling mongoose html quer...  PACKAGE   \n",
       "3    stock blog navigator jsonp bar samples react...  PACKAGE   \n",
       "4    org php crossorigin en wikipedia welcome htt...  PACKAGE   \n",
       "5                                                     PACKAGE   \n",
       "6    posts quoteson post neville heaven weaver ja...  PACKAGE   \n",
       "7    posts io https welcome w github stormconsult...  PACKAGE   \n",
       "8    shows html minified events template handle l...  PACKAGE   \n",
       "9    options lots translations integrate bundled ...  PACKAGE   \n",
       "\n",
       "                                      category_regex  \\\n",
       "0  api|package|framework|librar|stack|licens|addo...   \n",
       "1  api|package|framework|librar|stack|licens|addo...   \n",
       "2  api|package|framework|librar|stack|licens|addo...   \n",
       "3  api|package|framework|librar|stack|licens|addo...   \n",
       "4  api|package|framework|librar|stack|licens|addo...   \n",
       "5  api|package|framework|librar|stack|licens|addo...   \n",
       "6  api|package|framework|librar|stack|licens|addo...   \n",
       "7  api|package|framework|librar|stack|licens|addo...   \n",
       "8  api|package|framework|librar|stack|licens|addo...   \n",
       "9  api|package|framework|librar|stack|licens|addo...   \n",
       "\n",
       "                                         description  \\\n",
       "0  the most popular html, css, and js framework i...   \n",
       "1                                                      \n",
       "2                                                      \n",
       "3  Highcharts - Interactive JavaScript charts for...   \n",
       "4                                                      \n",
       "5                                                      \n",
       "6                                                      \n",
       "7                                                      \n",
       "8                                                      \n",
       "9                                                      \n",
       "\n",
       "                                               htext  \\\n",
       "0  Bootstrap is the most popular HTML, CSS, and J...   \n",
       "1  jScroll is a jQuery plugin for infinite scroll...   \n",
       "2  Elegant MongoDB object modeling for Node.js Mo...   \n",
       "3                           View demo Get a license    \n",
       "4  \\n                  Welcome to crossorigin.me,...   \n",
       "5                                                      \n",
       "6  Good design goes to heaven; bad design goes ev...   \n",
       "7  \\n                  Welcome to crossorigin.me,...   \n",
       "8  \\nThis demo shows you how to use a simple HTML...   \n",
       "9  This jQuery plugin makes simple clientside for...   \n",
       "\n",
       "                                            keywords  \\\n",
       "0                                                      \n",
       "1                                                      \n",
       "2                                                      \n",
       "3  highcharts, charts, javascript charts, ajax ch...   \n",
       "4                                                      \n",
       "5                                                      \n",
       "6                                                      \n",
       "7                                                      \n",
       "8                                                      \n",
       "9                                                      \n",
       "\n",
       "                                              params  \\\n",
       "0  ,/components,/components/breadcrumb/,/migratio...   \n",
       "1                 /,https://github.com/cubiq/iscroll   \n",
       "2  /docs/promises.html,/docs/populate.html,/docs/...   \n",
       "3  /samples/data/jsonp.php,/blog/192-use-highchar...   \n",
       "4  /https://en.wikipedia.org/w/api.php,/,/https:/...   \n",
       "5                                                NaN   \n",
       "6  ,/lowell-williams/&quot;},/wp-json/post/,/,/ap...   \n",
       "7  ,/http://api.open,/https://en.wikipedia.org/w/...   \n",
       "8                                                  /   \n",
       "9                                         /validate/   \n",
       "\n",
       "                     platform  \\\n",
       "0   v4-alpha.getbootstrap.com   \n",
       "1                 jscroll.com   \n",
       "2              mongoosejs.com   \n",
       "3          www.highcharts.com   \n",
       "4          www.crossorigin.me   \n",
       "5  v4-alpha.getbootstrap.com)   \n",
       "6          quotesondesign.com   \n",
       "7              crossorigin.me   \n",
       "8              minifiedjs.com   \n",
       "9        jqueryvalidation.org   \n",
       "\n",
       "                                               title wiki  \n",
       "0  \\n  \\n    bootstrap · the most popular html, c...  NaN  \n",
       "1  jscroll - a jquery plugin for infinite scrolli...  NaN  \n",
       "2                               mongoose odm v4.10.5  NaN  \n",
       "3  Interactive JavaScript charts for your webpage...  NaN  \n",
       "4                                     crossorigin.me  NaN  \n",
       "5                                                     NaN  \n",
       "6                                 quotes on design -  NaN  \n",
       "7                                     crossorigin.me  NaN  \n",
       "8  minified.js - a truly lightweight javascript l...  NaN  \n",
       "9  jquery validation plugin | form validation wit...  NaN  "
      ]
     },
     "execution_count": 42,
     "metadata": {},
     "output_type": "execute_result"
    }
   ],
   "source": [
    "pd_annotated2 = pandas.concat([pd_annotated, pd_annotatedtrans], ignore_index = True)\n",
    "pd_annotated2.head(10)"
   ]
  },
  {
   "cell_type": "markdown",
   "metadata": {},
   "source": [
    "## DATA SPLIT"
   ]
  },
  {
   "cell_type": "code",
   "execution_count": 43,
   "metadata": {
    "collapsed": true
   },
   "outputs": [],
   "source": [
    "#from sklearn.model_selection import train_test_split\n",
    "#xtrain, xtest, ytrain, ytest = train_test_split(pd_annotated.alltext, pd_annotated.category, test_size=0.1, random_state=0)"
   ]
  },
  {
   "cell_type": "code",
   "execution_count": 44,
   "metadata": {
    "collapsed": false
   },
   "outputs": [],
   "source": [
    "train2=pd_annotated2[['platform', 'alltext','category']].sample(frac=0.75,random_state=0)\n",
    "test2=pd_annotated2[['platform', 'alltext','category']].drop(train2.index)"
   ]
  },
  {
   "cell_type": "code",
   "execution_count": 45,
   "metadata": {
    "collapsed": false
   },
   "outputs": [
    {
     "data": {
      "text/html": [
       "<div>\n",
       "<table border=\"1\" class=\"dataframe\">\n",
       "  <thead>\n",
       "    <tr style=\"text-align: right;\">\n",
       "      <th></th>\n",
       "      <th>platform</th>\n",
       "      <th>alltext</th>\n",
       "      <th>category</th>\n",
       "    </tr>\n",
       "  </thead>\n",
       "  <tbody>\n",
       "    <tr>\n",
       "      <th>369</th>\n",
       "      <td>qnimate.com</td>\n",
       "      <td>web3 ethereum txnscount sendasync eth curren...</td>\n",
       "      <td>TRAINING</td>\n",
       "    </tr>\n",
       "    <tr>\n",
       "      <th>628</th>\n",
       "      <td>www.dajonline.net</td>\n",
       "      <td>error404 iframes personal shtml arthur home ...</td>\n",
       "      <td>PACKAGE</td>\n",
       "    </tr>\n",
       "    <tr>\n",
       "      <th>401</th>\n",
       "      <td>wind-bow.hyperdev.space</td>\n",
       "      <td>according serves request enough ap https doc...</td>\n",
       "      <td>NOCLASS</td>\n",
       "    </tr>\n",
       "    <tr>\n",
       "      <th>14</th>\n",
       "      <td>stormpath.com</td>\n",
       "      <td>know forbidden everything wanted js express ...</td>\n",
       "      <td>PACKAGE</td>\n",
       "    </tr>\n",
       "    <tr>\n",
       "      <th>549</th>\n",
       "      <td>blog.sudoask.com</td>\n",
       "      <td>caching nginx happen notes vultr linux speed...</td>\n",
       "      <td>NEWS</td>\n",
       "    </tr>\n",
       "    <tr>\n",
       "      <th>278</th>\n",
       "      <td>thenewcode.com</td>\n",
       "      <td>site css vw measurements using author contri...</td>\n",
       "      <td>NEWS</td>\n",
       "    </tr>\n",
       "    <tr>\n",
       "      <th>122</th>\n",
       "      <td>blog.serverdensity.com</td>\n",
       "      <td>forbidden javascript automatic conversion ti...</td>\n",
       "      <td>NEWS</td>\n",
       "    </tr>\n",
       "    <tr>\n",
       "      <th>741</th>\n",
       "      <td>interactjs.io</td>\n",
       "      <td>standalone inertia interact drop including p...</td>\n",
       "      <td>PACKAGE</td>\n",
       "    </tr>\n",
       "    <tr>\n",
       "      <th>386</th>\n",
       "      <td>www.w3schools.com</td>\n",
       "      <td>css templates autocomplete brand shadows hor...</td>\n",
       "      <td>TRAINING</td>\n",
       "    </tr>\n",
       "    <tr>\n",
       "      <th>196</th>\n",
       "      <td>www.slant.co</td>\n",
       "      <td>layouts choose js applications want sure hom...</td>\n",
       "      <td>NEWS</td>\n",
       "    </tr>\n",
       "  </tbody>\n",
       "</table>\n",
       "</div>"
      ],
      "text/plain": [
       "                    platform  \\\n",
       "369              qnimate.com   \n",
       "628        www.dajonline.net   \n",
       "401  wind-bow.hyperdev.space   \n",
       "14             stormpath.com   \n",
       "549         blog.sudoask.com   \n",
       "278           thenewcode.com   \n",
       "122   blog.serverdensity.com   \n",
       "741            interactjs.io   \n",
       "386        www.w3schools.com   \n",
       "196             www.slant.co   \n",
       "\n",
       "                                               alltext  category  \n",
       "369    web3 ethereum txnscount sendasync eth curren...  TRAINING  \n",
       "628    error404 iframes personal shtml arthur home ...   PACKAGE  \n",
       "401    according serves request enough ap https doc...   NOCLASS  \n",
       "14     know forbidden everything wanted js express ...   PACKAGE  \n",
       "549    caching nginx happen notes vultr linux speed...      NEWS  \n",
       "278    site css vw measurements using author contri...      NEWS  \n",
       "122    forbidden javascript automatic conversion ti...      NEWS  \n",
       "741    standalone inertia interact drop including p...   PACKAGE  \n",
       "386    css templates autocomplete brand shadows hor...  TRAINING  \n",
       "196    layouts choose js applications want sure hom...      NEWS  "
      ]
     },
     "execution_count": 45,
     "metadata": {},
     "output_type": "execute_result"
    }
   ],
   "source": [
    "train2.head(10)"
   ]
  },
  {
   "cell_type": "markdown",
   "metadata": {},
   "source": [
    "## DATA MODELLING - VECTOR MODEL 2"
   ]
  },
  {
   "cell_type": "code",
   "execution_count": 46,
   "metadata": {
    "collapsed": false
   },
   "outputs": [
    {
     "data": {
      "text/plain": [
       "(580, 18922)"
      ]
     },
     "execution_count": 46,
     "metadata": {},
     "output_type": "execute_result"
    }
   ],
   "source": [
    "from sklearn.feature_extraction.text import CountVectorizer\n",
    "count_vect_r2 = CountVectorizer(ngram_range=(1,2))\n",
    "X_primercounts2 = count_vect_r2.fit_transform(train2.alltext)\n",
    "X_primercounts2.shape"
   ]
  },
  {
   "cell_type": "markdown",
   "metadata": {},
   "source": [
    "## DECISION TREE WITH ADABOOST, CLASSIFICATION 2\n",
    "\n",
    "### References:\n",
    "* http://scikit-learn.org/stable/modules/generated/sklearn.tree.DecisionTreeClassifier.html#sklearn.tree.DecisionTreeClassifier\n",
    "* http://scikit-learn.org/stable/modules/tree.html\n",
    "* https://en.wikipedia.org/wiki/AdaBoost\n",
    "* http://scikit-learn.org/stable/modules/generated/sklearn.ensemble.AdaBoostClassifier.html\n",
    "* http://scikit-learn.org/stable/auto_examples/ensemble/plot_adaboost_hastie_10_2.html#sphx-glr-auto-examples-ensemble-plot-adaboost-hastie-10-2-py\n",
    "* https://stackoverflow.com/questions/32210569/using-gridsearchcv-with-adaboost-and-decisiontreeclassifier\n",
    "* http://scikit-learn.org/stable/auto_examples/model_selection/grid_search_digits.html\n",
    "* http://scikit-learn.org/stable/tutorial/statistical_inference/model_selection.html\n",
    "\n",
    "**Also**:\n",
    "* https://stackoverflow.com/questions/33110973/pass-a-dict-to-scikit-learn-estimator\n",
    "* http://machinelearningmastery.com/how-to-tune-algorithm-parameters-with-scikit-learn/"
   ]
  },
  {
   "cell_type": "markdown",
   "metadata": {},
   "source": [
    "### Models"
   ]
  },
  {
   "cell_type": "code",
   "execution_count": 47,
   "metadata": {
    "collapsed": true
   },
   "outputs": [],
   "source": [
    "from sklearn.tree import DecisionTreeClassifier\n",
    "from sklearn.metrics import zero_one_loss\n",
    "from sklearn.ensemble import AdaBoostClassifier"
   ]
  },
  {
   "cell_type": "code",
   "execution_count": 48,
   "metadata": {
    "collapsed": false
   },
   "outputs": [],
   "source": [
    "clf_dtm_r2_stump = DecisionTreeClassifier(max_depth=1, min_samples_leaf=1, random_state=0)\n",
    "clf_dt_r2_stump = clf_dtm_r2_stump.fit(X_primercounts2, train2.category)\n",
    "\n",
    "clf_dtm_r2 = DecisionTreeClassifier(min_samples_leaf=2, random_state=0)\n",
    "clf_dt_r2 = clf_dtm_r2.fit(X_primercounts2, train2.category)"
   ]
  },
  {
   "cell_type": "markdown",
   "metadata": {},
   "source": [
    "### Exploration of the Classification"
   ]
  },
  {
   "cell_type": "code",
   "execution_count": 49,
   "metadata": {
    "collapsed": true
   },
   "outputs": [],
   "source": [
    "X_test2counts_stump = count_vect_r2.transform(test2.alltext)\n",
    "predicted_dt_r2_stump = clf_dt_r2_stump.predict(X_test2counts_stump)"
   ]
  },
  {
   "cell_type": "code",
   "execution_count": 50,
   "metadata": {
    "collapsed": false,
    "scrolled": true
   },
   "outputs": [],
   "source": [
    "#for platform, category in zip(test.platform, predicted_dt_r1_stump):\n",
    "#    print('%r => %s' % (platform, category))"
   ]
  },
  {
   "cell_type": "code",
   "execution_count": 51,
   "metadata": {
    "collapsed": true
   },
   "outputs": [],
   "source": [
    "X_test2counts = count_vect_r2.transform(test2.alltext)\n",
    "predicted_dt_r2 = clf_dt_r2.predict(X_test2counts)"
   ]
  },
  {
   "cell_type": "code",
   "execution_count": 58,
   "metadata": {
    "collapsed": false
   },
   "outputs": [
    {
     "name": "stdout",
     "output_type": "stream",
     "text": [
      "'jqueryvalidation.org' => PACKAGE => PACKAGE\n",
      "'www.bootstraptoggle.com' => PACKAGE => PACKAGE\n",
      "'ajax.googleapis.com' => PACKAGE => BUSINESS\n",
      "'mathjs.org' => PACKAGE => PACKAGE\n",
      "'lesscss.org' => PACKAGE => NOCLASS\n",
      "'api.datamarket.azure.com' => PACKAGE => COMMUITY\n",
      "'preview.c9users.io' => PACKAGE => NEWS\n",
      "'mojs.io' => PACKAGE => PACKAGE\n",
      "'ipinfo.io' => PACKAGE => PACKAGE\n",
      "'materializecss.com' => PACKAGE => PACKAGE\n",
      "'bootstrap-switch.min.css' => PACKAGE => NOCLASS\n",
      "'fittextjs.com' => PACKAGE => DOCS\n",
      "'paperjs.org' => PACKAGE => NOCLASS\n",
      "'d3js.org' => PACKAGE => PACKAGE\n",
      "'www.npmjs.com' => PACKAGE => PAAS\n",
      "'www.wikidata.org' => PACKAGE => PACKAGE\n",
      "'www.oneskyapp.com' => PACKAGE => DOCS\n",
      "'jsonip.com' => PACKAGE => PACKAGE\n",
      "'cdnjs.com' => PACKAGE => NEWS\n",
      "'npmcdn.com' => PACKAGE => PACKAGE\n",
      "'expressjs.com' => PACKAGE => PACKAGE\n",
      "'packagecontrol.io' => PACKAGE => PACKAGE\n",
      "'getbootstrap.com.br' => PACKAGE => PACKAGE\n",
      "'howtocenterincss.com' => PACKAGE => NOCLASS\n",
      "'query.yahooapis.com' => PACKAGE => PACKAGE\n",
      "'www.bootstrapcdn.com' => PACKAGE => PACKAGE\n",
      "'www.geoplugin.net' => PACKAGE => TRAINING\n",
      "'ip-api.com' => PACKAGE => PACKAGE\n",
      "'scrollrevealjs.org' => PACKAGE => PACKAGE\n",
      "'medium.com' => NEWS => ECOMMERCE\n",
      "'sixrevisions.com' => NEWS => NEWS\n",
      "'recurial.com' => NEWS => NEWS\n",
      "'jhtmlcss.blogspot.com' => NEWS => NEWS\n",
      "'wildermuth.com' => NEWS => NEWS\n",
      "'codecondo.com' => NEWS => PACKAGE\n",
      "'lab.abhinayrathore.com' => NEWS => DOCS\n",
      "'www.standardista.com' => NEWS => NOCLASS\n",
      "'quotes.stormconsultancy.co.uk' => NEWS => PACKAGE\n",
      "'www.sanwebe.com' => NEWS => NEWS\n",
      "'jrsinclair.com' => NEWS => NEWS\n",
      "'www.techrepublic.com' => NEWS => NEWS\n",
      "'www.smashingmagazine.com' => NEWS => NEWS\n",
      "'nicolashery.com' => NEWS => NEWS\n",
      "'www.jokecamp.com' => NEWS => NEWS\n",
      "'scottiestech.info' => NEWS => NEWS\n",
      "'callmenick.com' => NEWS => TRAINING\n",
      "'blog.engineyard.com' => NEWS => NEWS\n",
      "'www.electrictoolbox.com' => NEWS => NEWS\n",
      "'blog.bugsnag.com' => NEWS => NEWS\n",
      "'blog.npmjs.org' => NEWS => NEWS\n",
      "'ageekandhisblog.com' => NEWS => PACKAGE\n",
      "'imperavi.com' => NEWS => NEWS\n",
      "'www.abeautifulsite.net' => NEWS => BUSINESS\n",
      "'bob.ippoli.to' => NEWS => NEWS\n",
      "'en.wikipedia.org' => NEWS => NEWS\n",
      "'perfectionkills.com' => NEWS => NEWS\n",
      "'www.webdesignerdepot.com' => NEWS => NEWS\n",
      "'www.differencebetween.info' => NEWS => NEWS\n",
      "'codeitdown.com' => NEWS => NEWS\n",
      "'perishablepress.com' => NEWS => NEWS\n",
      "'willschenk.com' => NEWS => DOCS\n",
      "'kyleschaeffer.com' => NEWS => NEWS\n",
      "'ponyfoo.com' => NEWS => NEWS\n",
      "'www.bogotobogo.com' => NEWS => NEWS\n",
      "'websolutionsdone.com' => NEWS => NEWS\n",
      "'arnique.net' => NEWS => BUSINESS\n",
      "'meyerweb.com' => NEWS => PACKAGE\n",
      "'javascriptweekly.com' => NEWS => NEWS\n",
      "'blog.jquery.com' => NEWS => NEWS\n",
      "'jaketrent.com' => NEWS => TRAINING\n",
      "'praveenlobo.com' => NEWS => NEWS\n",
      "'stanhub.com' => NEWS => DOCS\n",
      "'ianlunn.co.uk' => NEWS => NEWS\n",
      "'www.webmaster-source.com' => NEWS => DOCS\n",
      "'keithclark.co.uk' => NEWS => NEWS\n",
      "'www.cambus.net' => NEWS => NEWS\n",
      "'www.macloo.com' => NEWS => NEWS\n",
      "'blog.mashape.com' => NEWS => PACKAGE\n",
      "'debugmode.net' => NEWS => NEWS\n",
      "'j4n.co' => NEWS => NEWS\n",
      "'amazingcarousel.com' => THEME => DOCS\n",
      "'html5boilerplate.com' => THEME => THEME\n",
      "'w3layouts.com' => THEME => NOCLASS\n",
      "'wrapbootstrap.com' => THEME => PACKAGE\n",
      "'demos.creative-tim.com' => THEME => PACKAGE\n",
      "'smashinghub.com' => THEME => NEWS\n",
      "'rosettacode.org' => THEME => NOCLASS\n",
      "'www.vanillalist.com' => THEME => NEWS\n",
      "'jshint.com' => REPL => NEWS\n",
      "'www.freeformatter.com' => REPL => TRAINING\n",
      "'code.runnable.com' => REPL => PACKAGE\n",
      "'atom.io' => REPL => NOCLASS\n",
      "'www.cssmatic.com' => REPL => PACKAGE\n",
      "'app.pluralsight.com' => TRAINING => TRAINING\n",
      "'wiki.selfhtml.org' => TRAINING => NOCLASS\n",
      "'thisdavej.com' => TRAINING => TRAINING\n",
      "'scotch.io' => TRAINING => TRAINING\n",
      "'www.sololearn.com' => TRAINING => TRAINING\n",
      "'css-tricks.com' => TRAINING => DOCS\n",
      "'www.rtfmanual.io' => TRAINING => TRAINING\n",
      "'nodecasts.io' => TRAINING => TRAINING\n",
      "'www.sitepoint.com' => TRAINING => THEME\n",
      "'css3.bradshawenterprises.com' => TRAINING => NEWS\n",
      "'university.mongodb.com' => TRAINING => TRAINING\n",
      "'webdesign.tutsplus.com' => TRAINING => TRAINING\n",
      "'www.dreamincode.net' => TRAINING => TRAINING\n",
      "'fonts.googleapis.com' => NOCLASS => NOCLASS\n",
      "'bysin.net' => NOCLASS => BUSINESS\n",
      "'html.com' => NOCLASS => NOCLASS\n",
      "'www.wdstandards.com' => NOCLASS => PACKAGE\n",
      "'dev.w3.org' => DOCS => NOCLASS\n",
      "'overapi.com' => DOCS => NEWS\n",
      "'docs.angularjs.org' => DOCS => NEWS\n",
      "'developers.facebook.com' => DOCS => PACKAGE\n",
      "'altitudelabs.com' => BUSINESS => BUSINESS\n",
      "'www.codementor.io' => BUSINESS => NEWS\n",
      "'www.ibm.com' => BUSINESS => NEWS\n",
      "'www.ctl.io' => BUSINESS => BUSINESS\n",
      "'www.pdf-archive.com' => PAAS => NEWS\n",
      "'www.kenneth-truyers.net' => NEWS => NEWS\n",
      "'www.punkchip.com' => NEWS => NEWS\n",
      "'codetunnel.com' => NEWS => NEWS\n",
      "'bountify.co' => PACKAGE => ECOMMERCE\n",
      "'mochajs.org' => PACKAGE => PACKAGE\n",
      "'derickbailey.com' => NEWS => NEWS\n",
      "'www.technoblogical.com' => TRAINING => TRAINING\n",
      "'genius.com' => NEWS => NEWS\n",
      "'www.manning.com' => ECOMMERCE => NEWS\n",
      "'www.tothenew.com' => BUSINESS => NEWS\n",
      "'jsconsole.com' => REPL => NEWS\n",
      "'atmospherejs.com' => PACKAGE => NEWS\n",
      "'de.wikipedia.org' => NEWS => NEWS\n",
      "'jsbooks.revolunet.com' => NEWS => NEWS\n",
      "'api.worldweatheronline.com' => PACKAGE => PACKAGE\n",
      "'friendlybit.com' => NEWS => NEWS\n",
      "'labs.jonsuh.com' => NEWS => DOCS\n",
      "'www.bradoncode.com' => NEWS => NEWS\n",
      "'file.allitebooks.com' => NOCLASS => NEWS\n",
      "'solutionoptimist.com' => NEWS => NEWS\n",
      "'www.java2s.com' => TRAINING => TRAINING\n",
      "'stamat.wordpress.com' => NEWS => NEWS\n",
      "'view-source:http:' => NOCLASS => PACKAGE\n",
      "'JavaScript Objects in Detail' => NOCLASS => PACKAGE\n",
      "'benhollis.net' => NEWS => NEWS\n",
      "'blog.kevinchisholm.com' => NEWS => NEWS\n",
      "'jazcash.com' => NEWS => NEWS\n",
      "'html5test.com' => PACKAGE => NEWS\n",
      "'www.thepolyglotdeveloper.com' => NEWS => BUSINESS\n",
      "'html5demos.com' => THEME => NOCLASS\n",
      "'blog.izs.me' => NEWS => NEWS\n",
      "'roguelike-reactjs.surge.sh' => NEWS => NEWS\n",
      "'www.simpleweatherjs.com' => PACKAGE => PACKAGE\n",
      "'learn.knockoutjs.com' => TRAINING => NOCLASS\n",
      "'ampersandjs.com' => PACKAGE => PACKAGE\n",
      "'onlinehelp.tableau.com' => COMMUITY => PACKAGE\n",
      "'www.nczonline.net' => NEWS => NEWS\n",
      "'jsfidle.net' => REPL => REPL\n",
      "'en.wikibooks.org' => NEWS => TRAINING\n",
      "'www.similartech.com' => BUSINESS => REPL\n",
      "'tylerreckart.com' => NEWS => NEWS\n",
      "'www.competa.com' => BUSINESS => NEWS\n",
      "'backbonejs.org' => PACKAGE => ECOMMERCE\n",
      "'issuu.com' => NEWS => NEWS\n",
      "'riotjs.com' => PACKAGE => NEWS\n",
      "'magic.reactjs.net' => PACKAGE => PACKAGE\n",
      "'broccolijs.com' => PACKAGE => NOCLASS\n",
      "'atendesigngroup.com' => NEWS => NEWS\n",
      "'tproger.ru' => NEWS => NOCLASS\n",
      "'svgjs.com' => PACKAGE => NOCLASS\n",
      "'tylermcginnis.com' => TRAINING => NEWS\n",
      "'fwd-studio.pt' => NOCLASS => BUSINESS\n",
      "'www.hackreactor.com' => TRAINING => NEWS\n",
      "'www.javatpoint.com' => TRAINING => TRAINING\n",
      "'www.w3school.com.cn' => TRAINING => PACKAGE\n",
      "'www.learningjquery.com' => TRAINING => DOCS\n",
      "'jonathanfine.wordpress.com' => PACKAGE => ECOMMERCE\n",
      "'javascriptsolution.com' => NEWS => NEWS\n",
      "'greensock.com' => BUSINESS => NEWS\n",
      "'www.turnjs.com' => PACKAGE => DOCS\n",
      "'earthquake.usgs.gov' => PACKAGE => PACKAGE\n",
      "'mothereff.in' => TRAINING => NEWS\n",
      "'www.diveintojavascript.com' => TRAINING => TRAINING\n",
      "'dsernst.com' => NEWS => NEWS\n",
      "'hacks.mozilla.org' => NEWS => BUSINESS\n",
      "'owapi.net' => PACKAGE => PACKAGE\n",
      "'presentations.survivejs.com' => TRAINING => PACKAGE\n",
      "'photos-4.dropbox.com' => NOCLASS => NOCLASS\n",
      "'requirejs.org' => PACKAGE => NEWS\n",
      "'secure.surfbuyermac.com' => NOCLASS => PACKAGE\n",
      "'benohead.com' => NEWS => BUSINESS\n",
      "'blog.javascripting.com' => NEWS => BUSINESS\n",
      "'www.mindstick.com' => BUSINESS => BUSINESS\n",
      "'exploringjs.com' => NEWS => NEWS\n"
     ]
    }
   ],
   "source": [
    "for plat, category in zip(zip(test2.platform,test2.category), predicted_dt_r2):\n",
    "    print('%r => %s => %s' % (plat[0], plat[1], category))"
   ]
  },
  {
   "cell_type": "markdown",
   "metadata": {},
   "source": [
    "### Parameter Searching for the Decision Tree"
   ]
  },
  {
   "cell_type": "code",
   "execution_count": 53,
   "metadata": {
    "collapsed": false,
    "scrolled": false
   },
   "outputs": [
    {
     "name": "stdout",
     "output_type": "stream",
     "text": [
      "# Tuning hyper-parameters for precision\n",
      "\n"
     ]
    },
    {
     "name": "stderr",
     "output_type": "stream",
     "text": [
      "/home/ec/anaconda3/lib/python3.5/site-packages/sklearn/metrics/classification.py:1113: UndefinedMetricWarning: Precision is ill-defined and being set to 0.0 in labels with no predicted samples.\n",
      "  'precision', 'predicted', average, warn_for)\n",
      "/home/ec/anaconda3/lib/python3.5/site-packages/sklearn/metrics/classification.py:1113: UndefinedMetricWarning: Precision is ill-defined and being set to 0.0 in labels with no predicted samples.\n",
      "  'precision', 'predicted', average, warn_for)\n",
      "/home/ec/anaconda3/lib/python3.5/site-packages/sklearn/metrics/classification.py:1113: UndefinedMetricWarning: Precision is ill-defined and being set to 0.0 in labels with no predicted samples.\n",
      "  'precision', 'predicted', average, warn_for)\n",
      "/home/ec/anaconda3/lib/python3.5/site-packages/sklearn/metrics/classification.py:1113: UndefinedMetricWarning: Precision is ill-defined and being set to 0.0 in labels with no predicted samples.\n",
      "  'precision', 'predicted', average, warn_for)\n",
      "/home/ec/anaconda3/lib/python3.5/site-packages/sklearn/metrics/classification.py:1113: UndefinedMetricWarning: Precision is ill-defined and being set to 0.0 in labels with no predicted samples.\n",
      "  'precision', 'predicted', average, warn_for)\n",
      "/home/ec/anaconda3/lib/python3.5/site-packages/sklearn/metrics/classification.py:1113: UndefinedMetricWarning: Precision is ill-defined and being set to 0.0 in labels with no predicted samples.\n",
      "  'precision', 'predicted', average, warn_for)\n",
      "/home/ec/anaconda3/lib/python3.5/site-packages/sklearn/metrics/classification.py:1113: UndefinedMetricWarning: Precision is ill-defined and being set to 0.0 in labels with no predicted samples.\n",
      "  'precision', 'predicted', average, warn_for)\n",
      "/home/ec/anaconda3/lib/python3.5/site-packages/sklearn/metrics/classification.py:1113: UndefinedMetricWarning: Precision is ill-defined and being set to 0.0 in labels with no predicted samples.\n",
      "  'precision', 'predicted', average, warn_for)\n",
      "/home/ec/anaconda3/lib/python3.5/site-packages/sklearn/metrics/classification.py:1113: UndefinedMetricWarning: Precision is ill-defined and being set to 0.0 in labels with no predicted samples.\n",
      "  'precision', 'predicted', average, warn_for)\n",
      "/home/ec/anaconda3/lib/python3.5/site-packages/sklearn/metrics/classification.py:1113: UndefinedMetricWarning: Precision is ill-defined and being set to 0.0 in labels with no predicted samples.\n",
      "  'precision', 'predicted', average, warn_for)\n",
      "/home/ec/anaconda3/lib/python3.5/site-packages/sklearn/metrics/classification.py:1113: UndefinedMetricWarning: Precision is ill-defined and being set to 0.0 in labels with no predicted samples.\n",
      "  'precision', 'predicted', average, warn_for)\n",
      "/home/ec/anaconda3/lib/python3.5/site-packages/sklearn/metrics/classification.py:1113: UndefinedMetricWarning: Precision is ill-defined and being set to 0.0 in labels with no predicted samples.\n",
      "  'precision', 'predicted', average, warn_for)\n",
      "/home/ec/anaconda3/lib/python3.5/site-packages/sklearn/metrics/classification.py:1113: UndefinedMetricWarning: Precision is ill-defined and being set to 0.0 in labels with no predicted samples.\n",
      "  'precision', 'predicted', average, warn_for)\n",
      "/home/ec/anaconda3/lib/python3.5/site-packages/sklearn/metrics/classification.py:1113: UndefinedMetricWarning: Precision is ill-defined and being set to 0.0 in labels with no predicted samples.\n",
      "  'precision', 'predicted', average, warn_for)\n",
      "/home/ec/anaconda3/lib/python3.5/site-packages/sklearn/metrics/classification.py:1113: UndefinedMetricWarning: Precision is ill-defined and being set to 0.0 in labels with no predicted samples.\n",
      "  'precision', 'predicted', average, warn_for)\n",
      "/home/ec/anaconda3/lib/python3.5/site-packages/sklearn/metrics/classification.py:1113: UndefinedMetricWarning: Precision is ill-defined and being set to 0.0 in labels with no predicted samples.\n",
      "  'precision', 'predicted', average, warn_for)\n",
      "/home/ec/anaconda3/lib/python3.5/site-packages/sklearn/metrics/classification.py:1113: UndefinedMetricWarning: Precision is ill-defined and being set to 0.0 in labels with no predicted samples.\n",
      "  'precision', 'predicted', average, warn_for)\n",
      "/home/ec/anaconda3/lib/python3.5/site-packages/sklearn/metrics/classification.py:1113: UndefinedMetricWarning: Precision is ill-defined and being set to 0.0 in labels with no predicted samples.\n",
      "  'precision', 'predicted', average, warn_for)\n",
      "/home/ec/anaconda3/lib/python3.5/site-packages/sklearn/metrics/classification.py:1113: UndefinedMetricWarning: Precision is ill-defined and being set to 0.0 in labels with no predicted samples.\n",
      "  'precision', 'predicted', average, warn_for)\n",
      "/home/ec/anaconda3/lib/python3.5/site-packages/sklearn/metrics/classification.py:1113: UndefinedMetricWarning: Precision is ill-defined and being set to 0.0 in labels with no predicted samples.\n",
      "  'precision', 'predicted', average, warn_for)\n",
      "/home/ec/anaconda3/lib/python3.5/site-packages/sklearn/metrics/classification.py:1113: UndefinedMetricWarning: Precision and F-score are ill-defined and being set to 0.0 in labels with no predicted samples.\n",
      "  'precision', 'predicted', average, warn_for)\n"
     ]
    },
    {
     "name": "stdout",
     "output_type": "stream",
     "text": [
      "Best parameters set found on development set:\n",
      "\n",
      "{'max_depth': 23}\n",
      "\n",
      "Grid scores on development set:\n",
      "\n",
      "0.217 (+/-0.102) for {'max_depth': 5}\n",
      "0.209 (+/-0.000) for {'max_depth': 7}\n",
      "0.186 (+/-0.063) for {'max_depth': 9}\n",
      "0.220 (+/-0.074) for {'max_depth': 11}\n",
      "0.190 (+/-0.022) for {'max_depth': 13}\n",
      "0.183 (+/-0.030) for {'max_depth': 15}\n",
      "0.197 (+/-0.050) for {'max_depth': 17}\n",
      "0.190 (+/-0.032) for {'max_depth': 19}\n",
      "0.285 (+/-0.087) for {'max_depth': 21}\n",
      "0.288 (+/-0.081) for {'max_depth': 23}\n",
      "\n",
      "Detailed classification report:\n",
      "\n",
      "The model is trained on the full development set.\n",
      "The scores are computed on the full evaluation set.\n",
      "\n",
      "             precision    recall  f1-score   support\n",
      "\n",
      "   BUSINESS       0.15      0.22      0.18         9\n",
      "   COMMUITY       0.00      0.00      0.00         1\n",
      "       DOCS       0.00      0.00      0.00         4\n",
      "  ECOMMERCE       0.00      0.00      0.00         1\n",
      "       NEWS       0.69      0.69      0.69        81\n",
      "    NOCLASS       0.33      0.30      0.32        10\n",
      "       PAAS       0.00      0.00      0.00         1\n",
      "    PACKAGE       0.62      0.80      0.70        46\n",
      "       REPL       0.00      0.00      0.00         7\n",
      "      THEME       0.50      0.11      0.18         9\n",
      "   TRAINING       0.63      0.50      0.56        24\n",
      "\n",
      "avg / total       0.56      0.58      0.56       193\n",
      "\n",
      "\n",
      "# Tuning hyper-parameters for recall\n",
      "\n",
      "Best parameters set found on development set:\n",
      "\n",
      "{'max_depth': 23}\n",
      "\n",
      "Grid scores on development set:\n",
      "\n",
      "0.154 (+/-0.027) for {'max_depth': 5}\n",
      "0.160 (+/-0.039) for {'max_depth': 7}\n",
      "0.152 (+/-0.011) for {'max_depth': 9}\n",
      "0.176 (+/-0.005) for {'max_depth': 11}\n",
      "0.175 (+/-0.006) for {'max_depth': 13}\n",
      "0.168 (+/-0.016) for {'max_depth': 15}\n",
      "0.168 (+/-0.002) for {'max_depth': 17}\n",
      "0.176 (+/-0.013) for {'max_depth': 19}\n",
      "0.221 (+/-0.072) for {'max_depth': 21}\n",
      "0.224 (+/-0.075) for {'max_depth': 23}\n",
      "\n",
      "Detailed classification report:\n",
      "\n",
      "The model is trained on the full development set.\n",
      "The scores are computed on the full evaluation set.\n",
      "\n",
      "             precision    recall  f1-score   support\n",
      "\n",
      "   BUSINESS       0.15      0.22      0.18         9\n",
      "   COMMUITY       0.00      0.00      0.00         1\n",
      "       DOCS       0.00      0.00      0.00         4\n",
      "  ECOMMERCE       0.00      0.00      0.00         1\n",
      "       NEWS       0.69      0.69      0.69        81\n",
      "    NOCLASS       0.33      0.30      0.32        10\n",
      "       PAAS       0.00      0.00      0.00         1\n",
      "    PACKAGE       0.62      0.80      0.70        46\n",
      "       REPL       0.00      0.00      0.00         7\n",
      "      THEME       0.50      0.11      0.18         9\n",
      "   TRAINING       0.63      0.50      0.56        24\n",
      "\n",
      "avg / total       0.56      0.58      0.56       193\n",
      "\n",
      "\n"
     ]
    },
    {
     "name": "stderr",
     "output_type": "stream",
     "text": [
      "/home/ec/anaconda3/lib/python3.5/site-packages/sklearn/metrics/classification.py:1113: UndefinedMetricWarning: Precision and F-score are ill-defined and being set to 0.0 in labels with no predicted samples.\n",
      "  'precision', 'predicted', average, warn_for)\n"
     ]
    }
   ],
   "source": [
    "from sklearn.model_selection import GridSearchCV\n",
    "from sklearn.metrics import classification_report\n",
    "\n",
    "# Set the parameters by cross-validation\n",
    "tuned_parameters = [{'max_depth': numpy.arange(5,25,2)}]\n",
    "scores = ['precision', 'recall']\n",
    "\n",
    "for score in scores:\n",
    "    print(\"# Tuning hyper-parameters for %s\" % score)\n",
    "    print()\n",
    "\n",
    "    clf = GridSearchCV(clf_dtm_r2, tuned_parameters, cv=2,\n",
    "                       scoring='%s_macro' % score)\n",
    "    clf.fit(X_primercounts2, train2.category)\n",
    "\n",
    "    print(\"Best parameters set found on development set:\")\n",
    "    print()\n",
    "    print(clf.best_params_)\n",
    "    print()\n",
    "    print(\"Grid scores on development set:\")\n",
    "    print()\n",
    "    means = clf.cv_results_['mean_test_score']\n",
    "    stds = clf.cv_results_['std_test_score']\n",
    "    for mean, std, params in zip(means, stds, clf.cv_results_['params']):\n",
    "        print(\"%0.3f (+/-%0.03f) for %r\"\n",
    "              % (mean, std * 2, params))\n",
    "    print()\n",
    "\n",
    "    print(\"Detailed classification report:\")\n",
    "    print()\n",
    "    print(\"The model is trained on the full development set.\")\n",
    "    print(\"The scores are computed on the full evaluation set.\")\n",
    "    print()\n",
    "    y_true, y_predsearch = test2.category, clf.predict(X_test2counts)\n",
    "    print(classification_report(y_true, y_predsearch))\n",
    "    print()"
   ]
  },
  {
   "cell_type": "code",
   "execution_count": 54,
   "metadata": {
    "collapsed": false
   },
   "outputs": [],
   "source": [
    "X_test2counts_stump = count_vect_r2.transform(test2.alltext)\n",
    "clf_dt_r2_stump_err = 1.0 - clf_dt_r2_stump.score(X_test2counts_stump, test2.category)\n",
    "X_test2count = count_vect_r2.transform(test2.alltext)\n",
    "clf_dt_r2_err = 1.0 - clf.score(X_test2counts, test2.category)"
   ]
  },
  {
   "cell_type": "code",
   "execution_count": 55,
   "metadata": {
    "collapsed": false,
    "scrolled": true
   },
   "outputs": [
    {
     "name": "stdout",
     "output_type": "stream",
     "text": [
      "0.580310880829 0.760996437808\n"
     ]
    }
   ],
   "source": [
    "print(clf_dt_r2_stump_err,clf_dt_r2_err)"
   ]
  },
  {
   "cell_type": "code",
   "execution_count": 56,
   "metadata": {
    "collapsed": false
   },
   "outputs": [
    {
     "name": "stdout",
     "output_type": "stream",
     "text": [
      "{'max_depth': 23}\n"
     ]
    }
   ],
   "source": [
    "print(clf.best_params_)"
   ]
  },
  {
   "cell_type": "markdown",
   "metadata": {},
   "source": [
    "### AdaBoost"
   ]
  },
  {
   "cell_type": "code",
   "execution_count": 57,
   "metadata": {
    "collapsed": false,
    "scrolled": false
   },
   "outputs": [
    {
     "ename": "AttributeError",
     "evalue": "'tuple' object has no attribute 'figure'",
     "output_type": "error",
     "traceback": [
      "\u001b[1;31m---------------------------------------------------------------------------\u001b[0m",
      "\u001b[1;31mAttributeError\u001b[0m                            Traceback (most recent call last)",
      "\u001b[1;32m<ipython-input-57-15c9b65ab259>\u001b[0m in \u001b[0;36m<module>\u001b[1;34m()\u001b[0m\n\u001b[0;32m     15\u001b[0m \u001b[0mada_discrete\u001b[0m\u001b[1;33m.\u001b[0m\u001b[0mfit\u001b[0m\u001b[1;33m(\u001b[0m\u001b[0mX_primercounts2\u001b[0m\u001b[1;33m,\u001b[0m \u001b[0mtrain2\u001b[0m\u001b[1;33m.\u001b[0m\u001b[0mcategory\u001b[0m\u001b[1;33m)\u001b[0m\u001b[1;33m\u001b[0m\u001b[0m\n\u001b[0;32m     16\u001b[0m \u001b[1;33m\u001b[0m\u001b[0m\n\u001b[1;32m---> 17\u001b[1;33m \u001b[0mfig\u001b[0m \u001b[1;33m=\u001b[0m \u001b[0mplt\u001b[0m\u001b[1;33m.\u001b[0m\u001b[0mfigure\u001b[0m\u001b[1;33m(\u001b[0m\u001b[1;33m)\u001b[0m\u001b[1;33m\u001b[0m\u001b[0m\n\u001b[0m\u001b[0;32m     18\u001b[0m \u001b[0max\u001b[0m \u001b[1;33m=\u001b[0m \u001b[0mfig\u001b[0m\u001b[1;33m.\u001b[0m\u001b[0madd_subplot\u001b[0m\u001b[1;33m(\u001b[0m\u001b[1;36m111\u001b[0m\u001b[1;33m)\u001b[0m\u001b[1;33m\u001b[0m\u001b[0m\n\u001b[0;32m     19\u001b[0m \u001b[1;33m\u001b[0m\u001b[0m\n",
      "\u001b[1;31mAttributeError\u001b[0m: 'tuple' object has no attribute 'figure'"
     ]
    }
   ],
   "source": [
    "n_estimators = 40\n",
    "# A learning rate of 1. may not be optimal for both SAMME and SAMME.R\n",
    "learning_rate = .5\n",
    "\n",
    "\n",
    "#IMPORTANT... https://stackoverflow.com/questions/33110973/pass-a-dict-to-scikit-learn-estimator\n",
    "clf_dtm_r2.set_params(**clf.best_params_)\n",
    "clf_dt_r2 = clf_dtm_r2.fit(X_primercounts2, train2.category)\n",
    "\n",
    "ada_discrete = AdaBoostClassifier(\n",
    "    base_estimator = clf_dtm_r2,\n",
    "    learning_rate=learning_rate,\n",
    "    n_estimators=n_estimators,\n",
    "    algorithm=\"SAMME\")\n",
    "ada_discrete.fit(X_primercounts2, train2.category)\n",
    "\n",
    "fig = plt.figure()\n",
    "ax = fig.add_subplot(111)\n",
    "\n",
    "ax.plot([1, n_estimators], [clf_dt_r2_stump_err] * 2, 'k-',\n",
    "        label='Decision Stump Error')\n",
    "ax.plot([1, n_estimators], [clf_dt_r2_err] * 2, 'k--',\n",
    "        label='Decision Tree Error')\n",
    "\n",
    "ada_discrete_err = numpy.zeros((n_estimators,))\n",
    "for i, y_pred in enumerate(ada_discrete.staged_predict(X_test2counts)):\n",
    "    ada_discrete_err[i] = zero_one_loss(y_pred, test2.category)\n",
    "\n",
    "ada_discrete_err_train = numpy.zeros((n_estimators,))\n",
    "for i, y_pred in enumerate(ada_discrete.staged_predict(X_primercounts2)):\n",
    "    ada_discrete_err_train[i] = zero_one_loss(y_pred, train2.category)\n",
    "\n",
    "ax.plot(numpy.arange(n_estimators) + 1, ada_discrete_err,\n",
    "        label='Discrete AdaBoost Test Error',\n",
    "        color='red')\n",
    "ax.plot(numpy.arange(n_estimators) + 1, ada_discrete_err_train,\n",
    "        label='Discrete AdaBoost Train Error',\n",
    "        color='blue')\n",
    "\n",
    "ax.set_ylim((0.0, 1.0))\n",
    "ax.set_xlabel('n_estimators')\n",
    "ax.set_ylabel('error rate')\n",
    "\n",
    "leg = ax.legend(loc='upper right', fancybox=True)\n",
    "leg.get_frame().set_alpha(0.7)\n",
    "\n",
    "plt.show()"
   ]
  },
  {
   "cell_type": "code",
   "execution_count": null,
   "metadata": {
    "collapsed": false
   },
   "outputs": [],
   "source": [
    "Stop HERE!"
   ]
  },
  {
   "cell_type": "code",
   "execution_count": null,
   "metadata": {
    "collapsed": true
   },
   "outputs": [],
   "source": [
    "with open(os.getcwd()+'/data/adaboostmodel1.pkl', 'bw') as mod:\n",
    "    pickle.dump([train, test, train.alltext, train.category, count_vect_r1, X_primercounts, clf_dtm_r1, clf_dt_r1, ada_discrete, n_estimators, learning_rate], mod)"
   ]
  },
  {
   "cell_type": "markdown",
   "metadata": {},
   "source": [
    "## Classifying unlabelled records"
   ]
  },
  {
   "cell_type": "code",
   "execution_count": null,
   "metadata": {
    "collapsed": true
   },
   "outputs": [],
   "source": [
    "X_unclass1counts = count_vect_r1.transform(pd_notated.alltext)\n",
    "#normalized_X_testround1_counts = sklearn.feature_extraction.text.TfidfTransformer(norm='l2').fit_transform(X_testround1_counts)\n",
    "predicted_dtada_r1 = ada_discrete.predict(X_unclass1counts)"
   ]
  },
  {
   "cell_type": "code",
   "execution_count": null,
   "metadata": {
    "collapsed": false,
    "scrolled": false
   },
   "outputs": [],
   "source": [
    "for platform, category in zip(pd_notated.platform, predicted_dtada_r1):\n",
    "    print('%r => %s' % (platform, category))"
   ]
  },
  {
   "cell_type": "code",
   "execution_count": null,
   "metadata": {
    "collapsed": false
   },
   "outputs": [],
   "source": [
    "with open(os.getcwd()+'/data/abadt_1.csv', 'w') as outfile:\n",
    "    writer = csv.writer(outfile, delimiter=';', quotechar=\"'\")\n",
    "    writer.writerow(['platform','assignedcategory','checked','category'])\n",
    "    for platform, category in zip(pd_notated.platform, predicted_dtada_r1):\n",
    "        #print('%r => %s' % (platform, category))\n",
    "        writer.writerow([platform,category,,])"
   ]
  },
  {
   "cell_type": "code",
   "execution_count": null,
   "metadata": {
    "collapsed": true
   },
   "outputs": [],
   "source": [
    "here stop"
   ]
  },
  {
   "cell_type": "markdown",
   "metadata": {},
   "source": [
    "# DUMPED!!!!!!!!!!!!!!!!!!!!!!!!!!!!!!!!"
   ]
  },
  {
   "cell_type": "code",
   "execution_count": 59,
   "metadata": {
    "collapsed": true
   },
   "outputs": [],
   "source": [
    "from sklearn.model_selection import cross_val_score\n",
    "from sklearn.pipeline import make_pipeline\n",
    "from sklearn.model_selection import cross_val_predict\n",
    "from sklearn import metrics"
   ]
  },
  {
   "cell_type": "markdown",
   "metadata": {},
   "source": [
    "## RANDOM FOREST, CLASSIFICATION 1\n",
    "\n",
    "### References:\n",
    "* http://scikit-learn.org/stable/modules/generated/sklearn.ensemble.RandomForestClassifier.html\n",
    "* http://scikit-learn.org/stable/modules/ensemble.html#forest"
   ]
  },
  {
   "cell_type": "markdown",
   "metadata": {},
   "source": [
    "### Models"
   ]
  },
  {
   "cell_type": "code",
   "execution_count": 60,
   "metadata": {
    "collapsed": true
   },
   "outputs": [],
   "source": [
    "from sklearn.ensemble import RandomForestClassifier\n",
    "from sklearn.metrics import zero_one_loss"
   ]
  },
  {
   "cell_type": "code",
   "execution_count": 61,
   "metadata": {
    "collapsed": false
   },
   "outputs": [],
   "source": [
    "#n_estimators = 25\n",
    "# A learning rate of 1. may not be optimal for both SAMME and SAMME.R\n",
    "#learning_rate = 1.\n",
    "\n",
    "clf_rfm_r2_stump = RandomForestClassifier(max_depth=1, min_samples_leaf=1, n_estimators=n_estimators, random_state=0)\n",
    "clf_rf_r2_stump = clf_rfm_r2_stump.fit(X_primercounts2, train2.category)\n",
    "\n",
    "clf_rfm_r2 = RandomForestClassifier(max_depth=20, min_samples_leaf=2, n_estimators=n_estimators, random_state=0)\n",
    "clf_rf_r2 = clf_rfm_r2.fit(X_primercounts2, train2.category)"
   ]
  },
  {
   "cell_type": "markdown",
   "metadata": {},
   "source": [
    "### Classification"
   ]
  },
  {
   "cell_type": "code",
   "execution_count": 62,
   "metadata": {
    "collapsed": true
   },
   "outputs": [],
   "source": [
    "#X_test1counts_stump = count_vect_r2.transform(test.alltext)\n",
    "predicted_rf_r2_stump = clf_rf_r2_stump.predict(X_test2counts_stump)"
   ]
  },
  {
   "cell_type": "code",
   "execution_count": 63,
   "metadata": {
    "collapsed": false,
    "scrolled": true
   },
   "outputs": [
    {
     "name": "stdout",
     "output_type": "stream",
     "text": [
      "'jqueryvalidation.org' => NEWS\n",
      "'www.bootstraptoggle.com' => NEWS\n",
      "'ajax.googleapis.com' => NEWS\n",
      "'mathjs.org' => NEWS\n",
      "'lesscss.org' => NEWS\n",
      "'api.datamarket.azure.com' => NEWS\n",
      "'preview.c9users.io' => NEWS\n",
      "'mojs.io' => NEWS\n",
      "'ipinfo.io' => NEWS\n",
      "'materializecss.com' => NEWS\n",
      "'bootstrap-switch.min.css' => NEWS\n",
      "'fittextjs.com' => NEWS\n",
      "'paperjs.org' => NEWS\n",
      "'d3js.org' => NEWS\n",
      "'www.npmjs.com' => NEWS\n",
      "'www.wikidata.org' => NEWS\n",
      "'www.oneskyapp.com' => NEWS\n",
      "'jsonip.com' => NEWS\n",
      "'cdnjs.com' => NEWS\n",
      "'npmcdn.com' => NEWS\n",
      "'expressjs.com' => NEWS\n",
      "'packagecontrol.io' => NEWS\n",
      "'getbootstrap.com.br' => NEWS\n",
      "'howtocenterincss.com' => NEWS\n",
      "'query.yahooapis.com' => NEWS\n",
      "'www.bootstrapcdn.com' => NEWS\n",
      "'www.geoplugin.net' => NEWS\n",
      "'ip-api.com' => NEWS\n",
      "'scrollrevealjs.org' => NEWS\n",
      "'medium.com' => NEWS\n",
      "'sixrevisions.com' => NEWS\n",
      "'recurial.com' => NEWS\n",
      "'jhtmlcss.blogspot.com' => NEWS\n",
      "'wildermuth.com' => NEWS\n",
      "'codecondo.com' => NEWS\n",
      "'lab.abhinayrathore.com' => NEWS\n",
      "'www.standardista.com' => NEWS\n",
      "'quotes.stormconsultancy.co.uk' => NEWS\n",
      "'www.sanwebe.com' => NEWS\n",
      "'jrsinclair.com' => NEWS\n",
      "'www.techrepublic.com' => NEWS\n",
      "'www.smashingmagazine.com' => NEWS\n",
      "'nicolashery.com' => NEWS\n",
      "'www.jokecamp.com' => NEWS\n",
      "'scottiestech.info' => NEWS\n",
      "'callmenick.com' => NEWS\n",
      "'blog.engineyard.com' => NEWS\n",
      "'www.electrictoolbox.com' => NEWS\n",
      "'blog.bugsnag.com' => NEWS\n",
      "'blog.npmjs.org' => NEWS\n",
      "'ageekandhisblog.com' => NEWS\n",
      "'imperavi.com' => NEWS\n",
      "'www.abeautifulsite.net' => NEWS\n",
      "'bob.ippoli.to' => NEWS\n",
      "'en.wikipedia.org' => NEWS\n",
      "'perfectionkills.com' => NEWS\n",
      "'www.webdesignerdepot.com' => NEWS\n",
      "'www.differencebetween.info' => NEWS\n",
      "'codeitdown.com' => NEWS\n",
      "'perishablepress.com' => NEWS\n",
      "'willschenk.com' => NEWS\n",
      "'kyleschaeffer.com' => NEWS\n",
      "'ponyfoo.com' => NEWS\n",
      "'www.bogotobogo.com' => NEWS\n",
      "'websolutionsdone.com' => NEWS\n",
      "'arnique.net' => NEWS\n",
      "'meyerweb.com' => NEWS\n",
      "'javascriptweekly.com' => NEWS\n",
      "'blog.jquery.com' => NEWS\n",
      "'jaketrent.com' => NEWS\n",
      "'praveenlobo.com' => NEWS\n",
      "'stanhub.com' => NEWS\n",
      "'ianlunn.co.uk' => NEWS\n",
      "'www.webmaster-source.com' => NEWS\n",
      "'keithclark.co.uk' => NEWS\n",
      "'www.cambus.net' => NEWS\n",
      "'www.macloo.com' => NEWS\n",
      "'blog.mashape.com' => NEWS\n",
      "'debugmode.net' => NEWS\n",
      "'j4n.co' => NEWS\n",
      "'amazingcarousel.com' => NEWS\n",
      "'html5boilerplate.com' => NEWS\n",
      "'w3layouts.com' => NEWS\n",
      "'wrapbootstrap.com' => NEWS\n",
      "'demos.creative-tim.com' => NEWS\n",
      "'smashinghub.com' => NEWS\n",
      "'rosettacode.org' => NEWS\n",
      "'www.vanillalist.com' => NEWS\n",
      "'jshint.com' => NEWS\n",
      "'www.freeformatter.com' => NEWS\n",
      "'code.runnable.com' => NEWS\n",
      "'atom.io' => NEWS\n",
      "'www.cssmatic.com' => NEWS\n",
      "'app.pluralsight.com' => NEWS\n",
      "'wiki.selfhtml.org' => NEWS\n",
      "'thisdavej.com' => NEWS\n",
      "'scotch.io' => NEWS\n",
      "'www.sololearn.com' => NEWS\n",
      "'css-tricks.com' => NEWS\n",
      "'www.rtfmanual.io' => NEWS\n",
      "'nodecasts.io' => NEWS\n",
      "'www.sitepoint.com' => NEWS\n",
      "'css3.bradshawenterprises.com' => NEWS\n",
      "'university.mongodb.com' => NEWS\n",
      "'webdesign.tutsplus.com' => NEWS\n",
      "'www.dreamincode.net' => NEWS\n",
      "'fonts.googleapis.com' => NEWS\n",
      "'bysin.net' => NEWS\n",
      "'html.com' => NEWS\n",
      "'www.wdstandards.com' => NEWS\n",
      "'dev.w3.org' => NEWS\n",
      "'overapi.com' => NEWS\n",
      "'docs.angularjs.org' => NEWS\n",
      "'developers.facebook.com' => NEWS\n",
      "'altitudelabs.com' => NEWS\n",
      "'www.codementor.io' => NEWS\n",
      "'www.ibm.com' => NEWS\n",
      "'www.ctl.io' => NEWS\n",
      "'www.pdf-archive.com' => NEWS\n",
      "'www.kenneth-truyers.net' => NEWS\n",
      "'www.punkchip.com' => NEWS\n",
      "'codetunnel.com' => NEWS\n",
      "'bountify.co' => NEWS\n",
      "'mochajs.org' => NEWS\n",
      "'derickbailey.com' => NEWS\n",
      "'www.technoblogical.com' => NEWS\n",
      "'genius.com' => NEWS\n",
      "'www.manning.com' => NEWS\n",
      "'www.tothenew.com' => NEWS\n",
      "'jsconsole.com' => NEWS\n",
      "'atmospherejs.com' => NEWS\n",
      "'de.wikipedia.org' => NEWS\n",
      "'jsbooks.revolunet.com' => NEWS\n",
      "'api.worldweatheronline.com' => NEWS\n",
      "'friendlybit.com' => NEWS\n",
      "'labs.jonsuh.com' => NEWS\n",
      "'www.bradoncode.com' => NEWS\n",
      "'file.allitebooks.com' => NEWS\n",
      "'solutionoptimist.com' => NEWS\n",
      "'www.java2s.com' => NEWS\n",
      "'stamat.wordpress.com' => NEWS\n",
      "'view-source:http:' => NEWS\n",
      "'JavaScript Objects in Detail' => NEWS\n",
      "'benhollis.net' => NEWS\n",
      "'blog.kevinchisholm.com' => NEWS\n",
      "'jazcash.com' => NEWS\n",
      "'html5test.com' => NEWS\n",
      "'www.thepolyglotdeveloper.com' => NEWS\n",
      "'html5demos.com' => NEWS\n",
      "'blog.izs.me' => NEWS\n",
      "'roguelike-reactjs.surge.sh' => NEWS\n",
      "'www.simpleweatherjs.com' => NEWS\n",
      "'learn.knockoutjs.com' => NEWS\n",
      "'ampersandjs.com' => NEWS\n",
      "'onlinehelp.tableau.com' => NEWS\n",
      "'www.nczonline.net' => NEWS\n",
      "'jsfidle.net' => NEWS\n",
      "'en.wikibooks.org' => NEWS\n",
      "'www.similartech.com' => NEWS\n",
      "'tylerreckart.com' => NEWS\n",
      "'www.competa.com' => NEWS\n",
      "'backbonejs.org' => NEWS\n",
      "'issuu.com' => NEWS\n",
      "'riotjs.com' => NEWS\n",
      "'magic.reactjs.net' => NEWS\n",
      "'broccolijs.com' => NEWS\n",
      "'atendesigngroup.com' => NEWS\n",
      "'tproger.ru' => NEWS\n",
      "'svgjs.com' => NEWS\n",
      "'tylermcginnis.com' => NEWS\n",
      "'fwd-studio.pt' => NEWS\n",
      "'www.hackreactor.com' => NEWS\n",
      "'www.javatpoint.com' => NEWS\n",
      "'www.w3school.com.cn' => NEWS\n",
      "'www.learningjquery.com' => NEWS\n",
      "'jonathanfine.wordpress.com' => NEWS\n",
      "'javascriptsolution.com' => NEWS\n",
      "'greensock.com' => NEWS\n",
      "'www.turnjs.com' => NEWS\n",
      "'earthquake.usgs.gov' => NEWS\n",
      "'mothereff.in' => NEWS\n",
      "'www.diveintojavascript.com' => NEWS\n",
      "'dsernst.com' => NEWS\n",
      "'hacks.mozilla.org' => NEWS\n",
      "'owapi.net' => NEWS\n",
      "'presentations.survivejs.com' => NEWS\n",
      "'photos-4.dropbox.com' => NEWS\n",
      "'requirejs.org' => NEWS\n",
      "'secure.surfbuyermac.com' => NEWS\n",
      "'benohead.com' => NEWS\n",
      "'blog.javascripting.com' => NEWS\n",
      "'www.mindstick.com' => NEWS\n",
      "'exploringjs.com' => NEWS\n"
     ]
    }
   ],
   "source": [
    "for platform, category in zip(test2.platform, predicted_rf_r2_stump):\n",
    "    print('%r => %s' % (platform, category))"
   ]
  },
  {
   "cell_type": "code",
   "execution_count": 64,
   "metadata": {
    "collapsed": true
   },
   "outputs": [],
   "source": [
    "#X_test2counts = count_vect_r2.transform(test2.alltext)\n",
    "predicted_rf_r2 = clf_rf_r2.predict(X_test2counts)"
   ]
  },
  {
   "cell_type": "code",
   "execution_count": 65,
   "metadata": {
    "collapsed": false,
    "scrolled": true
   },
   "outputs": [
    {
     "name": "stdout",
     "output_type": "stream",
     "text": [
      "'jqueryvalidation.org' => package => NEWS => PACKAGE => package\n",
      "'www.bootstraptoggle.com' => package => NEWS => PACKAGE => package\n",
      "'ajax.googleapis.com' => package => NEWS => BUSINESS => business\n",
      "'mathjs.org' => package => PACKAGE => PACKAGE => package\n",
      "'lesscss.org' => package => NEWS => NOCLASS => noclass\n",
      "'api.datamarket.azure.com' => package => NEWS => COMMUITY => commuity\n",
      "'preview.c9users.io' => package => NEWS => NEWS => news\n",
      "'mojs.io' => package => NEWS => PACKAGE => package\n",
      "'ipinfo.io' => package => PACKAGE => PACKAGE => package\n",
      "'materializecss.com' => package => NEWS => PACKAGE => package\n",
      "'bootstrap-switch.min.css' => package => NEWS => NOCLASS => noclass\n",
      "'fittextjs.com' => package => NEWS => DOCS => package\n",
      "'paperjs.org' => package => NEWS => NOCLASS => package\n",
      "'d3js.org' => package => PACKAGE => PACKAGE => package\n",
      "'www.npmjs.com' => package => PACKAGE => PAAS => package\n",
      "'www.wikidata.org' => package => NEWS => PACKAGE => package\n",
      "'www.oneskyapp.com' => package => NEWS => DOCS => docs\n",
      "'jsonip.com' => package => NEWS => PACKAGE => package\n",
      "'cdnjs.com' => package => PACKAGE => NEWS => package\n",
      "'npmcdn.com' => package => NEWS => PACKAGE => package\n",
      "'expressjs.com' => package => NEWS => PACKAGE => package\n",
      "'packagecontrol.io' => package => NEWS => PACKAGE => package\n",
      "'getbootstrap.com.br' => package => NEWS => PACKAGE => package\n",
      "'howtocenterincss.com' => package => NEWS => NOCLASS => noclass\n",
      "'query.yahooapis.com' => package => NEWS => PACKAGE => package\n",
      "'www.bootstrapcdn.com' => package => NEWS => PACKAGE => package\n",
      "'www.geoplugin.net' => package => PACKAGE => TRAINING => training\n",
      "'ip-api.com' => package => PACKAGE => PACKAGE => package\n",
      "'scrollrevealjs.org' => package => NEWS => PACKAGE => package\n",
      "'medium.com' => news => NEWS => ECOMMERCE => ecommerce\n",
      "'sixrevisions.com' => news => NEWS => NEWS => news\n",
      "'recurial.com' => news => NEWS => NEWS => news\n",
      "'jhtmlcss.blogspot.com' => news => NEWS => NEWS => news\n",
      "'wildermuth.com' => news => NEWS => NEWS => news\n",
      "'codecondo.com' => news => NEWS => PACKAGE => package\n",
      "'lab.abhinayrathore.com' => news => NEWS => DOCS => docs\n",
      "'www.standardista.com' => news => NEWS => NOCLASS => noclass\n",
      "'quotes.stormconsultancy.co.uk' => news => PACKAGE => PACKAGE => package\n",
      "'www.sanwebe.com' => news => NEWS => NEWS => news\n",
      "'jrsinclair.com' => news => NEWS => NEWS => news\n",
      "'www.techrepublic.com' => news => NEWS => NEWS => news\n",
      "'www.smashingmagazine.com' => news => NEWS => NEWS => news\n",
      "'nicolashery.com' => news => NEWS => NEWS => news\n",
      "'www.jokecamp.com' => news => NEWS => NEWS => news\n",
      "'scottiestech.info' => news => NEWS => NEWS => news\n",
      "'callmenick.com' => news => NEWS => TRAINING => news\n",
      "'blog.engineyard.com' => news => NEWS => NEWS => news\n",
      "'www.electrictoolbox.com' => news => NEWS => NEWS => news\n",
      "'blog.bugsnag.com' => news => NEWS => NEWS => news\n",
      "'blog.npmjs.org' => news => NEWS => NEWS => news\n",
      "'ageekandhisblog.com' => news => NEWS => PACKAGE => package\n",
      "'imperavi.com' => news => NEWS => NEWS => news\n",
      "'www.abeautifulsite.net' => news => NEWS => BUSINESS => business\n",
      "'bob.ippoli.to' => news => NEWS => NEWS => news\n",
      "'en.wikipedia.org' => news => PACKAGE => NEWS => news\n",
      "'perfectionkills.com' => news => NEWS => NEWS => news\n",
      "'www.webdesignerdepot.com' => news => NEWS => NEWS => news\n",
      "'www.differencebetween.info' => news => NEWS => NEWS => news\n",
      "'codeitdown.com' => news => NEWS => NEWS => news\n",
      "'perishablepress.com' => news => NEWS => NEWS => news\n",
      "'willschenk.com' => news => NEWS => DOCS => docs\n",
      "'kyleschaeffer.com' => news => NEWS => NEWS => news\n",
      "'ponyfoo.com' => news => NEWS => NEWS => news\n",
      "'www.bogotobogo.com' => news => NEWS => NEWS => news\n",
      "'websolutionsdone.com' => news => NEWS => NEWS => news\n",
      "'arnique.net' => news => NEWS => BUSINESS => business\n",
      "'meyerweb.com' => news => NEWS => PACKAGE => package\n",
      "'javascriptweekly.com' => news => NEWS => NEWS => news\n",
      "'blog.jquery.com' => news => NEWS => NEWS => news\n",
      "'jaketrent.com' => news => NEWS => TRAINING => news\n",
      "'praveenlobo.com' => news => NEWS => NEWS => news\n",
      "'stanhub.com' => news => NEWS => DOCS => docs\n",
      "'ianlunn.co.uk' => news => NEWS => NEWS => news\n",
      "'www.webmaster-source.com' => news => NEWS => DOCS => docs\n",
      "'keithclark.co.uk' => news => NEWS => NEWS => news\n",
      "'www.cambus.net' => news => NEWS => NEWS => news\n",
      "'www.macloo.com' => news => NEWS => NEWS => news\n",
      "'blog.mashape.com' => news => NEWS => PACKAGE => package\n",
      "'debugmode.net' => news => NEWS => NEWS => news\n",
      "'j4n.co' => news => NEWS => NEWS => news\n",
      "'amazingcarousel.com' => theme => NEWS => DOCS => docs\n",
      "'html5boilerplate.com' => theme => NEWS => THEME => theme\n",
      "'w3layouts.com' => theme => NEWS => NOCLASS => noclass\n",
      "'wrapbootstrap.com' => theme => NEWS => PACKAGE => package\n",
      "'demos.creative-tim.com' => theme => NEWS => PACKAGE => package\n",
      "'smashinghub.com' => theme => NEWS => NEWS => news\n",
      "'rosettacode.org' => theme => NEWS => NOCLASS => noclass\n",
      "'www.vanillalist.com' => theme => NEWS => NEWS => news\n",
      "'jshint.com' => repl => NEWS => NEWS => news\n",
      "'www.freeformatter.com' => repl => NEWS => TRAINING => news\n",
      "'code.runnable.com' => repl => PACKAGE => PACKAGE => package\n",
      "'atom.io' => repl => NEWS => NOCLASS => noclass\n",
      "'www.cssmatic.com' => repl => NEWS => PACKAGE => package\n",
      "'app.pluralsight.com' => training => PACKAGE => TRAINING => training\n",
      "'wiki.selfhtml.org' => training => NEWS => NOCLASS => noclass\n",
      "'thisdavej.com' => training => NEWS => TRAINING => news\n",
      "'scotch.io' => training => PACKAGE => TRAINING => training\n",
      "'www.sololearn.com' => training => TRAINING => TRAINING => training\n",
      "'css-tricks.com' => training => NEWS => DOCS => docs\n",
      "'www.rtfmanual.io' => training => NEWS => TRAINING => news\n",
      "'nodecasts.io' => training => TRAINING => TRAINING => training\n",
      "'www.sitepoint.com' => training => TRAINING => THEME => theme\n",
      "'css3.bradshawenterprises.com' => training => NEWS => NEWS => news\n",
      "'university.mongodb.com' => training => TRAINING => TRAINING => training\n",
      "'webdesign.tutsplus.com' => training => TRAINING => TRAINING => training\n",
      "'www.dreamincode.net' => training => NEWS => TRAINING => news\n",
      "'fonts.googleapis.com' => noclass => NEWS => NOCLASS => noclass\n",
      "'bysin.net' => noclass => NEWS => BUSINESS => business\n",
      "'html.com' => noclass => NEWS => NOCLASS => noclass\n",
      "'www.wdstandards.com' => noclass => NEWS => PACKAGE => package\n",
      "'dev.w3.org' => docs => NEWS => NOCLASS => noclass\n",
      "'overapi.com' => docs => NEWS => NEWS => news\n",
      "'docs.angularjs.org' => docs => NEWS => NEWS => news\n",
      "'developers.facebook.com' => docs => NEWS => PACKAGE => package\n",
      "'altitudelabs.com' => business => NEWS => BUSINESS => business\n",
      "'www.codementor.io' => business => NEWS => NEWS => news\n",
      "'www.ibm.com' => business => NEWS => NEWS => news\n",
      "'www.ctl.io' => business => NEWS => BUSINESS => business\n",
      "'www.pdf-archive.com' => paas => NEWS => NEWS => news\n",
      "'www.kenneth-truyers.net' => news => NEWS => NEWS => news\n",
      "'www.punkchip.com' => news => NEWS => NEWS => news\n",
      "'codetunnel.com' => news => NEWS => NEWS => news\n",
      "'bountify.co' => package => NEWS => ECOMMERCE => ecommerce\n",
      "'mochajs.org' => package => NEWS => PACKAGE => package\n",
      "'derickbailey.com' => news => NEWS => NEWS => news\n",
      "'www.technoblogical.com' => training => NEWS => TRAINING => news\n",
      "'genius.com' => news => NEWS => NEWS => news\n",
      "'www.manning.com' => ecommerce => NEWS => NEWS => news\n",
      "'www.tothenew.com' => business => NEWS => NEWS => news\n",
      "'jsconsole.com' => repl => NEWS => NEWS => news\n",
      "'atmospherejs.com' => package => NEWS => NEWS => news\n",
      "'de.wikipedia.org' => news => NEWS => NEWS => news\n",
      "'jsbooks.revolunet.com' => news => NEWS => NEWS => news\n",
      "'api.worldweatheronline.com' => package => NEWS => PACKAGE => package\n",
      "'friendlybit.com' => news => NEWS => NEWS => news\n",
      "'labs.jonsuh.com' => news => NEWS => DOCS => docs\n",
      "'www.bradoncode.com' => news => NEWS => NEWS => news\n",
      "'file.allitebooks.com' => noclass => NEWS => NEWS => news\n",
      "'solutionoptimist.com' => news => NEWS => NEWS => news\n",
      "'www.java2s.com' => training => NEWS => TRAINING => news\n",
      "'stamat.wordpress.com' => news => NEWS => NEWS => news\n",
      "'view-source:http:' => noclass => NEWS => PACKAGE => package\n",
      "'JavaScript Objects in Detail' => noclass => NEWS => PACKAGE => package\n",
      "'benhollis.net' => news => NEWS => NEWS => news\n",
      "'blog.kevinchisholm.com' => news => NEWS => NEWS => news\n",
      "'jazcash.com' => news => NEWS => NEWS => news\n",
      "'html5test.com' => package => NEWS => NEWS => news\n",
      "'www.thepolyglotdeveloper.com' => news => NEWS => BUSINESS => business\n",
      "'html5demos.com' => theme => NEWS => NOCLASS => noclass\n",
      "'blog.izs.me' => news => NEWS => NEWS => news\n",
      "'roguelike-reactjs.surge.sh' => news => NEWS => NEWS => news\n",
      "'www.simpleweatherjs.com' => package => PACKAGE => PACKAGE => package\n",
      "'learn.knockoutjs.com' => training => NEWS => NOCLASS => package\n",
      "'ampersandjs.com' => package => NEWS => PACKAGE => package\n",
      "'onlinehelp.tableau.com' => commuity => NEWS => PACKAGE => package\n",
      "'www.nczonline.net' => news => NEWS => NEWS => news\n",
      "'jsfidle.net' => repl => NEWS => REPL => repl\n",
      "'en.wikibooks.org' => news => NEWS => TRAINING => news\n",
      "'www.similartech.com' => business => NEWS => REPL => repl\n",
      "'tylerreckart.com' => news => NEWS => NEWS => news\n",
      "'www.competa.com' => business => NEWS => NEWS => news\n",
      "'backbonejs.org' => package => NEWS => ECOMMERCE => ecommerce\n",
      "'issuu.com' => news => NEWS => NEWS => news\n",
      "'riotjs.com' => package => PACKAGE => NEWS => package\n",
      "'magic.reactjs.net' => package => NEWS => PACKAGE => package\n",
      "'broccolijs.com' => package => PACKAGE => NOCLASS => package\n",
      "'atendesigngroup.com' => news => NEWS => NEWS => news\n",
      "'tproger.ru' => news => NEWS => NOCLASS => noclass\n",
      "'svgjs.com' => package => PACKAGE => NOCLASS => package\n",
      "'tylermcginnis.com' => training => NEWS => NEWS => news\n",
      "'fwd-studio.pt' => noclass => NEWS => BUSINESS => business\n",
      "'www.hackreactor.com' => training => NEWS => NEWS => news\n",
      "'www.javatpoint.com' => training => NEWS => TRAINING => news\n",
      "'www.w3school.com.cn' => training => NEWS => PACKAGE => package\n",
      "'www.learningjquery.com' => training => NEWS => DOCS => docs\n",
      "'jonathanfine.wordpress.com' => package => NEWS => ECOMMERCE => ecommerce\n",
      "'javascriptsolution.com' => news => NEWS => NEWS => news\n",
      "'greensock.com' => business => PACKAGE => NEWS => news\n",
      "'www.turnjs.com' => package => NEWS => DOCS => package\n",
      "'earthquake.usgs.gov' => package => NEWS => PACKAGE => package\n",
      "'mothereff.in' => training => NEWS => NEWS => news\n",
      "'www.diveintojavascript.com' => training => NEWS => TRAINING => news\n",
      "'dsernst.com' => news => NEWS => NEWS => news\n",
      "'hacks.mozilla.org' => news => NEWS => BUSINESS => business\n",
      "'owapi.net' => package => PACKAGE => PACKAGE => package\n",
      "'presentations.survivejs.com' => training => NEWS => PACKAGE => package\n",
      "'photos-4.dropbox.com' => noclass => NEWS => NOCLASS => noclass\n",
      "'requirejs.org' => package => NEWS => NEWS => news\n",
      "'secure.surfbuyermac.com' => noclass => NEWS => PACKAGE => package\n",
      "'benohead.com' => news => NEWS => BUSINESS => business\n",
      "'blog.javascripting.com' => news => NEWS => BUSINESS => business\n",
      "'www.mindstick.com' => business => NEWS => BUSINESS => business\n",
      "'exploringjs.com' => news => NEWS => NEWS => news\n"
     ]
    }
   ],
   "source": [
    "best_categories = []\n",
    "for plat, category1, category2 in zip(zip(test2.platform,test2.category), predicted_rf_r2, predicted_dt_r2):\n",
    "    best_category = ''\n",
    "    if category1 == category2:\n",
    "        best_category = category1\n",
    "    else:\n",
    "        if category1 == 'NEWS' and category2 == 'TRAINING':\n",
    "            best_category = category1\n",
    "\n",
    "        else:\n",
    "            best_category = category2\n",
    "    \n",
    "    if category1 != category2 and len(plat[0].split('.')) > 1:\n",
    "        if category2 in ['NOCLASS', 'BUSINESS', 'DOCS', 'PAAS', 'NEWS']:\n",
    "            #print(plat[0])\n",
    "            if len(plat[0].split('.')[-2]) > 2:\n",
    "                #print(plat[0].split('.')[-2])\n",
    "                if plat[0].split('.')[-2][-2:] == 'js':\n",
    "                    #print(len(plat[0].split('.')))\n",
    "                    #print(plat[0].split('.')[-2])\n",
    "                    best_category = 'PACKAGE'\n",
    "    \n",
    "    best_categories.append(best_category)\n",
    "    print('%r => %s => %s => %s => %s' % (plat[0], plat[1].lower(), category1, category2, best_category.lower()))"
   ]
  },
  {
   "cell_type": "code",
   "execution_count": 66,
   "metadata": {
    "collapsed": false
   },
   "outputs": [],
   "source": [
    "#X_test2counts_stump = count_vect_r2.transform(test2.alltext)\n",
    "clf_rf_r2_stump_err = 1.0 - clf_rf_r2_stump.score(X_test2counts_stump, test2.category)\n",
    "#X_test2count = count_vect_r2.transform(test2.alltext)\n",
    "clf_rf_r2_err = 1.0 - clf_rf_r2.score(X_test2counts, test2.category)\n",
    "\n",
    "clf_rf_r2_bc_err = 1.0 - clf_rf_r2.score(X_test2counts, best_categories)"
   ]
  },
  {
   "cell_type": "code",
   "execution_count": 67,
   "metadata": {
    "collapsed": false
   },
   "outputs": [
    {
     "name": "stdout",
     "output_type": "stream",
     "text": [
      "0.580310880829 0.502590673575 0.445595854922\n"
     ]
    }
   ],
   "source": [
    "print(clf_rf_r2_stump_err,clf_rf_r2_err, clf_rf_r2_bc_err)"
   ]
  },
  {
   "cell_type": "code",
   "execution_count": 68,
   "metadata": {
    "collapsed": false
   },
   "outputs": [
    {
     "name": "stdout",
     "output_type": "stream",
     "text": [
      "             precision    recall  f1-score   support\n",
      "\n",
      "   BUSINESS       0.25      0.33      0.29         9\n",
      "   COMMUITY       0.00      0.00      0.00         1\n",
      "       DOCS       0.00      0.00      0.00         4\n",
      "  ECOMMERCE       0.00      0.00      0.00         1\n",
      "       NEWS       0.67      0.77      0.72        81\n",
      "    NOCLASS       0.21      0.30      0.25        10\n",
      "       PAAS       0.00      0.00      0.00         1\n",
      "    PACKAGE       0.64      0.70      0.67        46\n",
      "       REPL       0.50      0.14      0.22         7\n",
      "      THEME       0.50      0.11      0.18         9\n",
      "   TRAINING       0.86      0.25      0.39        24\n",
      "\n",
      "avg / total       0.61      0.56      0.55       193\n",
      "\n"
     ]
    },
    {
     "name": "stderr",
     "output_type": "stream",
     "text": [
      "/home/ec/anaconda3/lib/python3.5/site-packages/sklearn/metrics/classification.py:1113: UndefinedMetricWarning: Precision and F-score are ill-defined and being set to 0.0 in labels with no predicted samples.\n",
      "  'precision', 'predicted', average, warn_for)\n"
     ]
    }
   ],
   "source": [
    "print(classification_report(test2.category, best_categories))"
   ]
  },
  {
   "cell_type": "markdown",
   "metadata": {},
   "source": [
    "### AdaBoost"
   ]
  },
  {
   "cell_type": "code",
   "execution_count": 69,
   "metadata": {
    "collapsed": false,
    "scrolled": false
   },
   "outputs": [
    {
     "ename": "AttributeError",
     "evalue": "'tuple' object has no attribute 'figure'",
     "output_type": "error",
     "traceback": [
      "\u001b[1;31m---------------------------------------------------------------------------\u001b[0m",
      "\u001b[1;31mAttributeError\u001b[0m                            Traceback (most recent call last)",
      "\u001b[1;32m<ipython-input-69-33826d8e8e36>\u001b[0m in \u001b[0;36m<module>\u001b[1;34m()\u001b[0m\n\u001b[0;32m     15\u001b[0m \u001b[0mada_discrete\u001b[0m\u001b[1;33m.\u001b[0m\u001b[0mfit\u001b[0m\u001b[1;33m(\u001b[0m\u001b[0mX_primercounts2\u001b[0m\u001b[1;33m,\u001b[0m \u001b[0mtrain2\u001b[0m\u001b[1;33m.\u001b[0m\u001b[0mcategory\u001b[0m\u001b[1;33m)\u001b[0m\u001b[1;33m\u001b[0m\u001b[0m\n\u001b[0;32m     16\u001b[0m \u001b[1;33m\u001b[0m\u001b[0m\n\u001b[1;32m---> 17\u001b[1;33m \u001b[0mfig\u001b[0m \u001b[1;33m=\u001b[0m \u001b[0mplt\u001b[0m\u001b[1;33m.\u001b[0m\u001b[0mfigure\u001b[0m\u001b[1;33m(\u001b[0m\u001b[1;33m)\u001b[0m\u001b[1;33m\u001b[0m\u001b[0m\n\u001b[0m\u001b[0;32m     18\u001b[0m \u001b[0max\u001b[0m \u001b[1;33m=\u001b[0m \u001b[0mfig\u001b[0m\u001b[1;33m.\u001b[0m\u001b[0madd_subplot\u001b[0m\u001b[1;33m(\u001b[0m\u001b[1;36m111\u001b[0m\u001b[1;33m)\u001b[0m\u001b[1;33m\u001b[0m\u001b[0m\n\u001b[0;32m     19\u001b[0m \u001b[1;33m\u001b[0m\u001b[0m\n",
      "\u001b[1;31mAttributeError\u001b[0m: 'tuple' object has no attribute 'figure'"
     ]
    }
   ],
   "source": [
    "n_estimators = 40\n",
    "# A learning rate of 1. may not be optimal for both SAMME and SAMME.R\n",
    "learning_rate = .2\n",
    "\n",
    "\n",
    "#IMPORTANT... https://stackoverflow.com/questions/33110973/pass-a-dict-to-scikit-learn-estimator\n",
    "#clf_dtm_r2.set_params(**clf.best_params_)\n",
    "#clf_dt_r2 = clf_dtm_r2.fit(X_primercounts2, train2.category)\n",
    "\n",
    "ada_discrete = AdaBoostClassifier(\n",
    "    base_estimator = clf_rf_r2,\n",
    "    learning_rate=learning_rate,\n",
    "    n_estimators=n_estimators,\n",
    "    algorithm=\"SAMME\")\n",
    "ada_discrete.fit(X_primercounts2, train2.category)\n",
    "\n",
    "fig = plt.figure()\n",
    "ax = fig.add_subplot(111)\n",
    "\n",
    "ax.plot([1, n_estimators], [clf_rf_r2_stump_err] * 2, 'k-',\n",
    "        label='Decision Stump Error')\n",
    "ax.plot([1, n_estimators], [clf_rf_r2_err] * 2, 'k--',\n",
    "        label='Decision Tree Error')\n",
    "\n",
    "ada_discrete_err = numpy.zeros((n_estimators,))\n",
    "for i, y_pred in enumerate(ada_discrete.staged_predict(X_test2counts)):\n",
    "    ada_discrete_err[i] = zero_one_loss(y_pred, test2.category)\n",
    "\n",
    "ada_discrete_err_train = numpy.zeros((n_estimators,))\n",
    "for i, y_pred in enumerate(ada_discrete.staged_predict(X_primercounts2)):\n",
    "    ada_discrete_err_train[i] = zero_one_loss(y_pred, train2.category)\n",
    "\n",
    "ax.plot(numpy.arange(n_estimators) + 1, ada_discrete_err,\n",
    "        label='Discrete AdaBoost Test Error',\n",
    "        color='red')\n",
    "ax.plot(numpy.arange(n_estimators) + 1, ada_discrete_err_train,\n",
    "        label='Discrete AdaBoost Train Error',\n",
    "        color='blue')\n",
    "\n",
    "ax.set_ylim((0.0, 1.0))\n",
    "ax.set_xlabel('n_estimators')\n",
    "ax.set_ylabel('error rate')\n",
    "\n",
    "leg = ax.legend(loc='upper right', fancybox=True)\n",
    "leg.get_frame().set_alpha(0.7)\n",
    "\n",
    "plt.show()"
   ]
  },
  {
   "cell_type": "code",
   "execution_count": 71,
   "metadata": {
    "collapsed": true
   },
   "outputs": [],
   "source": [
    "predicted_ada_r2 = ada_discrete.predict(X_test2counts)"
   ]
  },
  {
   "cell_type": "code",
   "execution_count": 89,
   "metadata": {
    "collapsed": false
   },
   "outputs": [
    {
     "name": "stdout",
     "output_type": "stream",
     "text": [
      "'jshint.com' => REPL => news => REPL\n",
      "'university.mongodb.com' => TRAINING => training => REPL\n",
      "'www.punkchip.com' => NEWS => news => REPL\n",
      "'genius.com' => NEWS => news => REPL\n",
      "'jsfidle.net' => REPL => repl => REPL\n"
     ]
    }
   ],
   "source": [
    "newbest_categories = []\n",
    "for *bcategory, category in zip(zip(zip(test2.platform,test2.category), best_categories), predicted_ada_r2):\n",
    "    plat = bcategory[0][0]\n",
    "    bcategory = bcategory[0][1]\n",
    "    if bcategory == 'TRAINING' and category != 'NOCLASS':\n",
    "        newbest_categories.append('TRAINING')\n",
    "    else:\n",
    "        newbest_categories.append(category)\n",
    "    \n",
    "    if category == 'REPL':\n",
    "        print('%r => %s => %s => %s' % (plat[0], plat[1], bcategory.lower(), category))"
   ]
  },
  {
   "cell_type": "code",
   "execution_count": 85,
   "metadata": {
    "collapsed": false
   },
   "outputs": [
    {
     "name": "stdout",
     "output_type": "stream",
     "text": [
      "             precision    recall  f1-score   support\n",
      "\n",
      "   BUSINESS       0.00      0.00      0.00         9\n",
      "   COMMUITY       0.00      0.00      0.00         1\n",
      "       DOCS       1.00      0.25      0.40         4\n",
      "  ECOMMERCE       0.00      0.00      0.00         1\n",
      "       NEWS       0.70      0.77      0.73        81\n",
      "    NOCLASS       0.20      0.30      0.24        10\n",
      "       PAAS       0.00      0.00      0.00         1\n",
      "    PACKAGE       0.57      0.85      0.68        46\n",
      "       REPL       0.40      0.29      0.33         7\n",
      "      THEME       1.00      0.11      0.20         9\n",
      "   TRAINING       0.79      0.46      0.58        24\n",
      "\n",
      "avg / total       0.62      0.62      0.58       193\n",
      "\n"
     ]
    },
    {
     "name": "stderr",
     "output_type": "stream",
     "text": [
      "/home/ec/anaconda3/lib/python3.5/site-packages/sklearn/metrics/classification.py:1113: UndefinedMetricWarning: Precision and F-score are ill-defined and being set to 0.0 in labels with no predicted samples.\n",
      "  'precision', 'predicted', average, warn_for)\n"
     ]
    }
   ],
   "source": [
    "print(classification_report(test2.category, predicted_ada_r2))"
   ]
  },
  {
   "cell_type": "code",
   "execution_count": 86,
   "metadata": {
    "collapsed": false
   },
   "outputs": [
    {
     "name": "stdout",
     "output_type": "stream",
     "text": [
      "             precision    recall  f1-score   support\n",
      "\n",
      "   BUSINESS       0.00      0.00      0.00         9\n",
      "   COMMUITY       0.00      0.00      0.00         1\n",
      "       DOCS       1.00      0.25      0.40         4\n",
      "  ECOMMERCE       0.00      0.00      0.00         1\n",
      "       NEWS       0.70      0.77      0.73        81\n",
      "    NOCLASS       0.20      0.30      0.24        10\n",
      "       PAAS       0.00      0.00      0.00         1\n",
      "    PACKAGE       0.57      0.83      0.67        46\n",
      "       REPL       0.50      0.29      0.36         7\n",
      "      THEME       1.00      0.11      0.20         9\n",
      "   TRAINING       0.76      0.54      0.63        24\n",
      "\n",
      "avg / total       0.62      0.62      0.59       193\n",
      "\n"
     ]
    },
    {
     "name": "stderr",
     "output_type": "stream",
     "text": [
      "/home/ec/anaconda3/lib/python3.5/site-packages/sklearn/metrics/classification.py:1113: UndefinedMetricWarning: Precision and F-score are ill-defined and being set to 0.0 in labels with no predicted samples.\n",
      "  'precision', 'predicted', average, warn_for)\n"
     ]
    }
   ],
   "source": [
    "print(classification_report(test2.category, newbest_categories))"
   ]
  },
  {
   "cell_type": "code",
   "execution_count": null,
   "metadata": {
    "collapsed": true
   },
   "outputs": [],
   "source": []
  }
 ],
 "metadata": {
  "anaconda-cloud": {},
  "kernelspec": {
   "display_name": "Python [Root]",
   "language": "python",
   "name": "Python [Root]"
  },
  "language_info": {
   "codemirror_mode": {
    "name": "ipython",
    "version": 3
   },
   "file_extension": ".py",
   "mimetype": "text/x-python",
   "name": "python",
   "nbconvert_exporter": "python",
   "pygments_lexer": "ipython3",
   "version": "3.5.2"
  }
 },
 "nbformat": 4,
 "nbformat_minor": 0
}
