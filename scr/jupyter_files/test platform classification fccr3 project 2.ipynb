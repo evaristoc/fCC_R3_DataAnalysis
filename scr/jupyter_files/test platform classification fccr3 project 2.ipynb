{
 "cells": [
  {
   "cell_type": "markdown",
   "metadata": {},
   "source": [
    "# PHASE 1: Platform Classification using Supervised Learning Methods - Building Training and Test datasets (part 2)"
   ]
  },
  {
   "cell_type": "markdown",
   "metadata": {},
   "source": []
  },
  {
   "cell_type": "markdown",
   "metadata": {},
   "source": [
    "### References:\n",
    "* https://www.quora.com/What-is-the-best-way-to-create-a-training-set-for-machine-learning/answer/Clem-Wang-1"
   ]
  },
  {
   "cell_type": "markdown",
   "metadata": {},
   "source": [
    "## Main Python libraries"
   ]
  },
  {
   "cell_type": "code",
   "execution_count": 1,
   "metadata": {
    "collapsed": false
   },
   "outputs": [],
   "source": [
    "import os, sys, pathlib\n",
    "from IPython.display import display, Math, Latex #also '%%latex' magic command\n",
    "import collections, itertools, operator, re, copy, datetime\n",
    "import urllib, urllib.request, urllib.parse, dns, ipwhois\n",
    "import pickle, json, csv, zipfile\n",
    "import math, random, numpy, scipy, pandas\n",
    "%matplotlib inline\n",
    "import matplotlib.pyplot as plt\n",
    "plt.style.use('ggplot')\n",
    "import bs4\n",
    "import nltk, sklearn\n",
    "\n",
    "#actualcwd = os.getcwd()\n",
    "#os.chdir(actualcwd)\n",
    "#print(os.getcwd())"
   ]
  },
  {
   "cell_type": "code",
   "execution_count": 2,
   "metadata": {
    "collapsed": false
   },
   "outputs": [
    {
     "name": "stdout",
     "output_type": "stream",
     "text": [
      "ok\n"
     ]
    }
   ],
   "source": [
    "#a simple but not adequate hack to solve:\n",
    "#-- that this notebook will include any passed module that exists on top of its folder\n",
    "#-- that my installation of the the nltk will find the correct path to the nlkt_data folder\n",
    "#\n",
    "#once this line is run, IT SHOULDN'T RUN AGAIN!, otherwise the cwd will change into something different; \n",
    "#it can restored though in different ways, one by using `actualcwd` variable or in some cases shuting down this notebook\n",
    "#\n",
    "#\n",
    "os.chdir('../..')\n",
    "#print(os.getcwd())\n",
    "sys.path.append(os.getcwd())\n",
    "import config.config as config\n",
    "\n",
    "#print(config.anacondadir)\n",
    "\n",
    "if os.path.exists(config.anacondadir):\n",
    "    print('ok')\n",
    "    nltk.data.path.append(config.anacondadir)"
   ]
  },
  {
   "cell_type": "code",
   "execution_count": 10,
   "metadata": {
    "collapsed": false
   },
   "outputs": [
    {
     "ename": "SyntaxError",
     "evalue": "invalid syntax (<ipython-input-10-bfc7f4b2e6e8>, line 1)",
     "output_type": "error",
     "traceback": [
      "\u001b[1;36m  File \u001b[1;32m\"<ipython-input-10-bfc7f4b2e6e8>\"\u001b[1;36m, line \u001b[1;32m1\u001b[0m\n\u001b[1;33m    STOP HERE!!\u001b[0m\n\u001b[1;37m            ^\u001b[0m\n\u001b[1;31mSyntaxError\u001b[0m\u001b[1;31m:\u001b[0m invalid syntax\n"
     ]
    }
   ],
   "source": [
    "STOP HERE!!"
   ]
  },
  {
   "cell_type": "code",
   "execution_count": 11,
   "metadata": {
    "collapsed": false
   },
   "outputs": [],
   "source": [
    "#OBSERVATION!: name of file has been changed to reflect last updated file \n",
    "if pathlib.Path(os.getcwd()+'/data/annotatedplatformsphase1_a1.csv').is_file():\n",
    "    pd_annotated = pandas.read_csv(open(os.getcwd()+'/data/annotatedplatformsphase1_a1.csv', 'r'), sep=';', quotechar=\"'\")\n",
    "else:\n",
    "    print('Not path found')"
   ]
  },
  {
   "cell_type": "code",
   "execution_count": 12,
   "metadata": {
    "collapsed": false,
    "scrolled": true
   },
   "outputs": [
    {
     "data": {
      "text/html": [
       "<div>\n",
       "<table border=\"1\" class=\"dataframe\">\n",
       "  <thead>\n",
       "    <tr style=\"text-align: right;\">\n",
       "      <th></th>\n",
       "      <th>Unnamed: 0</th>\n",
       "      <th>Unnamed: 0.1</th>\n",
       "      <th>platform</th>\n",
       "      <th>title</th>\n",
       "      <th>description</th>\n",
       "      <th>keywords</th>\n",
       "      <th>htext</th>\n",
       "      <th>params</th>\n",
       "      <th>category_regex</th>\n",
       "      <th>wiki</th>\n",
       "      <th>category</th>\n",
       "    </tr>\n",
       "  </thead>\n",
       "  <tbody>\n",
       "    <tr>\n",
       "      <th>0</th>\n",
       "      <td>0</td>\n",
       "      <td>0</td>\n",
       "      <td>v4-alpha.getbootstrap.com</td>\n",
       "      <td>\\n  \\n    bootstrap · the most popular html, c...</td>\n",
       "      <td>the most popular html, css, and js framework i...</td>\n",
       "      <td></td>\n",
       "      <td>Bootstrap is the most popular HTML, CSS, and J...</td>\n",
       "      <td>,/components,/components/breadcrumb/,/migratio...</td>\n",
       "      <td>api|package|framework|librar|stack|licens|addo...</td>\n",
       "      <td>NaN</td>\n",
       "      <td>PACKAGE</td>\n",
       "    </tr>\n",
       "    <tr>\n",
       "      <th>1</th>\n",
       "      <td>1</td>\n",
       "      <td>3</td>\n",
       "      <td>jscroll.com</td>\n",
       "      <td>jscroll - a jquery plugin for infinite scrolli...</td>\n",
       "      <td></td>\n",
       "      <td></td>\n",
       "      <td>jScroll is a jQuery plugin for infinite scroll...</td>\n",
       "      <td>/,https://github.com/cubiq/iscroll</td>\n",
       "      <td>api|package|framework|librar|stack|licens|addo...</td>\n",
       "      <td>NaN</td>\n",
       "      <td>PACKAGE</td>\n",
       "    </tr>\n",
       "    <tr>\n",
       "      <th>2</th>\n",
       "      <td>2</td>\n",
       "      <td>10</td>\n",
       "      <td>mongoosejs.com</td>\n",
       "      <td>mongoose odm v4.10.5</td>\n",
       "      <td></td>\n",
       "      <td></td>\n",
       "      <td>Elegant MongoDB object modeling for Node.js Mo...</td>\n",
       "      <td>/docs/promises.html,/docs/populate.html,/docs/...</td>\n",
       "      <td>api|package|framework|librar|stack|licens|addo...</td>\n",
       "      <td>NaN</td>\n",
       "      <td>PACKAGE</td>\n",
       "    </tr>\n",
       "    <tr>\n",
       "      <th>3</th>\n",
       "      <td>3</td>\n",
       "      <td>34</td>\n",
       "      <td>www.highcharts.com</td>\n",
       "      <td>Interactive JavaScript charts for your webpage...</td>\n",
       "      <td>Highcharts - Interactive JavaScript charts for...</td>\n",
       "      <td>highcharts, charts, javascript charts, ajax ch...</td>\n",
       "      <td>View demo Get a license</td>\n",
       "      <td>/samples/data/jsonp.php,/blog/192-use-highchar...</td>\n",
       "      <td>api|package|framework|librar|stack|licens|addo...</td>\n",
       "      <td>NaN</td>\n",
       "      <td>PACKAGE</td>\n",
       "    </tr>\n",
       "    <tr>\n",
       "      <th>4</th>\n",
       "      <td>4</td>\n",
       "      <td>41</td>\n",
       "      <td>www.crossorigin.me</td>\n",
       "      <td>crossorigin.me</td>\n",
       "      <td></td>\n",
       "      <td></td>\n",
       "      <td>\\n                  Welcome to crossorigin.me,...</td>\n",
       "      <td>/https://en.wikipedia.org/w/api.php,/,/https:/...</td>\n",
       "      <td>api|package|framework|librar|stack|licens|addo...</td>\n",
       "      <td>NaN</td>\n",
       "      <td>PACKAGE</td>\n",
       "    </tr>\n",
       "  </tbody>\n",
       "</table>\n",
       "</div>"
      ],
      "text/plain": [
       "   Unnamed: 0  Unnamed: 0.1                   platform  \\\n",
       "0           0             0  v4-alpha.getbootstrap.com   \n",
       "1           1             3                jscroll.com   \n",
       "2           2            10             mongoosejs.com   \n",
       "3           3            34         www.highcharts.com   \n",
       "4           4            41         www.crossorigin.me   \n",
       "\n",
       "                                               title  \\\n",
       "0  \\n  \\n    bootstrap · the most popular html, c...   \n",
       "1  jscroll - a jquery plugin for infinite scrolli...   \n",
       "2                               mongoose odm v4.10.5   \n",
       "3  Interactive JavaScript charts for your webpage...   \n",
       "4                                     crossorigin.me   \n",
       "\n",
       "                                         description  \\\n",
       "0  the most popular html, css, and js framework i...   \n",
       "1                                                      \n",
       "2                                                      \n",
       "3  Highcharts - Interactive JavaScript charts for...   \n",
       "4                                                      \n",
       "\n",
       "                                            keywords  \\\n",
       "0                                                      \n",
       "1                                                      \n",
       "2                                                      \n",
       "3  highcharts, charts, javascript charts, ajax ch...   \n",
       "4                                                      \n",
       "\n",
       "                                               htext  \\\n",
       "0  Bootstrap is the most popular HTML, CSS, and J...   \n",
       "1  jScroll is a jQuery plugin for infinite scroll...   \n",
       "2  Elegant MongoDB object modeling for Node.js Mo...   \n",
       "3                           View demo Get a license    \n",
       "4  \\n                  Welcome to crossorigin.me,...   \n",
       "\n",
       "                                              params  \\\n",
       "0  ,/components,/components/breadcrumb/,/migratio...   \n",
       "1                 /,https://github.com/cubiq/iscroll   \n",
       "2  /docs/promises.html,/docs/populate.html,/docs/...   \n",
       "3  /samples/data/jsonp.php,/blog/192-use-highchar...   \n",
       "4  /https://en.wikipedia.org/w/api.php,/,/https:/...   \n",
       "\n",
       "                                      category_regex wiki category  \n",
       "0  api|package|framework|librar|stack|licens|addo...  NaN  PACKAGE  \n",
       "1  api|package|framework|librar|stack|licens|addo...  NaN  PACKAGE  \n",
       "2  api|package|framework|librar|stack|licens|addo...  NaN  PACKAGE  \n",
       "3  api|package|framework|librar|stack|licens|addo...  NaN  PACKAGE  \n",
       "4  api|package|framework|librar|stack|licens|addo...  NaN  PACKAGE  "
      ]
     },
     "execution_count": 12,
     "metadata": {},
     "output_type": "execute_result"
    }
   ],
   "source": [
    "pd_annotated.head(5)"
   ]
  },
  {
   "cell_type": "code",
   "execution_count": 13,
   "metadata": {
    "collapsed": true
   },
   "outputs": [],
   "source": [
    "#OBSERVATION!: name of file has been changed to reflect last updated file \n",
    "if pathlib.Path(os.getcwd()+'/data/notatedplatformsphase1_a1.csv').is_file():\n",
    "    pd_notated = pandas.read_csv(open(os.getcwd()+'/data/notatedplatformsphase1_a1.csv', 'r'), sep=';', quotechar=\"'\")\n",
    "else:\n",
    "    print('Not path found')"
   ]
  },
  {
   "cell_type": "code",
   "execution_count": 14,
   "metadata": {
    "collapsed": false,
    "scrolled": true
   },
   "outputs": [
    {
     "data": {
      "text/html": [
       "<div>\n",
       "<table border=\"1\" class=\"dataframe\">\n",
       "  <thead>\n",
       "    <tr style=\"text-align: right;\">\n",
       "      <th></th>\n",
       "      <th>Unnamed: 0</th>\n",
       "      <th>Unnamed: 0.1</th>\n",
       "      <th>platform</th>\n",
       "      <th>title</th>\n",
       "      <th>description</th>\n",
       "      <th>keywords</th>\n",
       "      <th>htext</th>\n",
       "      <th>params</th>\n",
       "      <th>category</th>\n",
       "      <th>wiki</th>\n",
       "    </tr>\n",
       "  </thead>\n",
       "  <tbody>\n",
       "    <tr>\n",
       "      <th>0</th>\n",
       "      <td>0</td>\n",
       "      <td>0</td>\n",
       "      <td>www.kenneth-truyers.net</td>\n",
       "      <td>my life as a software developer |</td>\n",
       "      <td>blog about development using .net and client-s...</td>\n",
       "      <td></td>\n",
       "      <td>Posted on Friday, January 27th, 2017 at 02:42 ...</td>\n",
       "      <td>/2013/04/20/javascript-hoisting-explained/</td>\n",
       "      <td>NaN</td>\n",
       "      <td>NaN</td>\n",
       "    </tr>\n",
       "    <tr>\n",
       "      <th>1</th>\n",
       "      <td>1</td>\n",
       "      <td>1</td>\n",
       "      <td>school.scotch.io</td>\n",
       "      <td>courses ― scotch</td>\n",
       "      <td></td>\n",
       "      <td></td>\n",
       "      <td>You trust Scotch tutorials and Scotch authors....</td>\n",
       "      <td>/build-a-nodejs-website/course-introduction,/b...</td>\n",
       "      <td>NaN</td>\n",
       "      <td>NaN</td>\n",
       "    </tr>\n",
       "    <tr>\n",
       "      <th>2</th>\n",
       "      <td>2</td>\n",
       "      <td>2</td>\n",
       "      <td>www.imkrisna.com</td>\n",
       "      <td>i made krisna widhiastra | full-stack developer</td>\n",
       "      <td></td>\n",
       "      <td></td>\n",
       "      <td>\\n\\t\\t\\t\\t\\t\\t\\tCurrently working as Applicati...</td>\n",
       "      <td>/blog/2014/02/if-else-vs-if-if-vs-switch-javas...</td>\n",
       "      <td>NaN</td>\n",
       "      <td>NaN</td>\n",
       "    </tr>\n",
       "    <tr>\n",
       "      <th>3</th>\n",
       "      <td>3</td>\n",
       "      <td>3</td>\n",
       "      <td>vanilla-js.com</td>\n",
       "      <td>vanilla js</td>\n",
       "      <td></td>\n",
       "      <td></td>\n",
       "      <td>The Vanilla JS team maintains every byte of co...</td>\n",
       "      <td>/</td>\n",
       "      <td>NaN</td>\n",
       "      <td>NaN</td>\n",
       "    </tr>\n",
       "    <tr>\n",
       "      <th>4</th>\n",
       "      <td>4</td>\n",
       "      <td>4</td>\n",
       "      <td>www.newmediacampaigns.com</td>\n",
       "      <td>new media campaigns | nmc digital agency</td>\n",
       "      <td>NaN</td>\n",
       "      <td></td>\n",
       "      <td>Congrats to Hutchison PLLC on being named one ...</td>\n",
       "      <td>/blog/how-to-use-json-apis-with-jquery</td>\n",
       "      <td>NaN</td>\n",
       "      <td>NaN</td>\n",
       "    </tr>\n",
       "  </tbody>\n",
       "</table>\n",
       "</div>"
      ],
      "text/plain": [
       "   Unnamed: 0  Unnamed: 0.1                   platform  \\\n",
       "0           0             0    www.kenneth-truyers.net   \n",
       "1           1             1           school.scotch.io   \n",
       "2           2             2           www.imkrisna.com   \n",
       "3           3             3             vanilla-js.com   \n",
       "4           4             4  www.newmediacampaigns.com   \n",
       "\n",
       "                                             title  \\\n",
       "0              my life as a software developer |     \n",
       "1                                 courses ― scotch   \n",
       "2  i made krisna widhiastra | full-stack developer   \n",
       "3                                       vanilla js   \n",
       "4         new media campaigns | nmc digital agency   \n",
       "\n",
       "                                         description keywords  \\\n",
       "0  blog about development using .net and client-s...            \n",
       "1                                                               \n",
       "2                                                               \n",
       "3                                                               \n",
       "4                                                NaN            \n",
       "\n",
       "                                               htext  \\\n",
       "0  Posted on Friday, January 27th, 2017 at 02:42 ...   \n",
       "1  You trust Scotch tutorials and Scotch authors....   \n",
       "2  \\n\\t\\t\\t\\t\\t\\t\\tCurrently working as Applicati...   \n",
       "3  The Vanilla JS team maintains every byte of co...   \n",
       "4  Congrats to Hutchison PLLC on being named one ...   \n",
       "\n",
       "                                              params  category wiki  \n",
       "0         /2013/04/20/javascript-hoisting-explained/       NaN  NaN  \n",
       "1  /build-a-nodejs-website/course-introduction,/b...       NaN  NaN  \n",
       "2  /blog/2014/02/if-else-vs-if-if-vs-switch-javas...       NaN  NaN  \n",
       "3                                                  /       NaN  NaN  \n",
       "4             /blog/how-to-use-json-apis-with-jquery       NaN  NaN  "
      ]
     },
     "execution_count": 14,
     "metadata": {},
     "output_type": "execute_result"
    }
   ],
   "source": [
    "pd_notated.head(5)"
   ]
  },
  {
   "cell_type": "markdown",
   "metadata": {},
   "source": [
    "## DATA UPDATING - Important..."
   ]
  },
  {
   "cell_type": "markdown",
   "metadata": {},
   "source": [
    "The code commented below was used to:\n",
    "* **Add wikipedia info to the created tables**: for this I used the `scr.wikipedia_extract` module made for this purpose\n",
    "* **Revise some column naming and use the names for categories** to be used from now on: until now (29-July-17), I was using as categories a regex form I used for the original classification rules; from now I will be using the defined categories found in the `docs` folder of this work\n",
    "\n",
    "The changes below were done by creating updated files, re-opening that file and update it until the right file was created. Once the information was updated with some information, the respective code was commented because it was not of usage any more.\n",
    "\n",
    "The code below is kept commented but is shown so other users of this file can have a reference. Also the different intermediate files are kept in the `data` folder but only the required files are called for further analysis. In a more advanced phase a simpler file will be kept."
   ]
  },
  {
   "cell_type": "code",
   "execution_count": 15,
   "metadata": {
    "collapsed": false
   },
   "outputs": [],
   "source": [
    "#import scr.wikipedia_extract"
   ]
  },
  {
   "cell_type": "code",
   "execution_count": 16,
   "metadata": {
    "collapsed": false
   },
   "outputs": [],
   "source": [
    "#import imp"
   ]
  },
  {
   "cell_type": "code",
   "execution_count": 17,
   "metadata": {
    "collapsed": false,
    "scrolled": true
   },
   "outputs": [],
   "source": [
    "#imp.reload(scr.wikipedia_extract)"
   ]
  },
  {
   "cell_type": "code",
   "execution_count": 18,
   "metadata": {
    "collapsed": false
   },
   "outputs": [],
   "source": [
    "#pd_annotated['wiki'] = ''\n",
    "#pd_notated['wiki'] = ''\n",
    "#scr.wikipedia_extract.getting_wikipedia(pd_annotated)\n",
    "#scr.wikipedia_extract.getting_wikipedia(pd_notated)"
   ]
  },
  {
   "cell_type": "code",
   "execution_count": 19,
   "metadata": {
    "collapsed": false
   },
   "outputs": [],
   "source": [
    "#pd_errortemp = pd_notated.loc[pd_notated['platform'] == 'view-source:http:',]\n",
    "#scr.wikipedia_extract.getting_wikipedia(pd_errortemp)\n",
    "#print(pd_errortemp)\n",
    "#print(pd_notated.iloc[110,])\n",
    "#url = 'https://en.wikipedia.org/w/api.php?action=query&list=search&format=json&srsearch=JavaScript Objects in Detail'\n",
    "#req = urllib.request.Request(url)\n",
    "#try:\n",
    "#    resp = urllib.request.urlopen(req)\n",
    "#except urllib.error.HTTPError as e:\n",
    "#    print(e)"
   ]
  },
  {
   "cell_type": "code",
   "execution_count": 20,
   "metadata": {
    "collapsed": false
   },
   "outputs": [],
   "source": [
    "#pd_notated.head(100)"
   ]
  },
  {
   "cell_type": "code",
   "execution_count": 21,
   "metadata": {
    "collapsed": true
   },
   "outputs": [],
   "source": [
    "#pd_annotated = pd_annotated.rename(columns={'category':'category_regex'})"
   ]
  },
  {
   "cell_type": "code",
   "execution_count": 22,
   "metadata": {
    "collapsed": false
   },
   "outputs": [],
   "source": [
    "#pd_annotated.columns"
   ]
  },
  {
   "cell_type": "code",
   "execution_count": 23,
   "metadata": {
    "collapsed": true
   },
   "outputs": [],
   "source": [
    "#categories = pandas.read_csv(open(os.getcwd()+'/docs/category_operationalization.csv', 'r'), sep=':')"
   ]
  },
  {
   "cell_type": "code",
   "execution_count": 24,
   "metadata": {
    "collapsed": false,
    "scrolled": true
   },
   "outputs": [],
   "source": [
    "#categories"
   ]
  },
  {
   "cell_type": "code",
   "execution_count": 25,
   "metadata": {
    "collapsed": false
   },
   "outputs": [],
   "source": [
    "#categories = categories[['category','category_regex']]"
   ]
  },
  {
   "cell_type": "code",
   "execution_count": 26,
   "metadata": {
    "collapsed": false
   },
   "outputs": [],
   "source": [
    "#pd_annotated = pandas.merge(pd_annotated, categories, on=['category_regex'])"
   ]
  },
  {
   "cell_type": "code",
   "execution_count": 27,
   "metadata": {
    "collapsed": false,
    "scrolled": true
   },
   "outputs": [],
   "source": [
    "#pd_annotated.head(5)"
   ]
  },
  {
   "cell_type": "code",
   "execution_count": 28,
   "metadata": {
    "collapsed": true
   },
   "outputs": [],
   "source": [
    "#pd_annotated.to_csv(os.getcwd()+'/data/annotatedplatformsphase1_a1.csv', sep=';', quotechar=\"'\")\n",
    "#pd_notated.to_csv(os.getcwd()+'/data/notatedplatformsphase1_a1.csv', sep=';', quotechar=\"'\")"
   ]
  },
  {
   "cell_type": "code",
   "execution_count": 29,
   "metadata": {
    "collapsed": false
   },
   "outputs": [
    {
     "ename": "SyntaxError",
     "evalue": "invalid syntax (<ipython-input-29-d5af98942240>, line 1)",
     "output_type": "error",
     "traceback": [
      "\u001b[1;36m  File \u001b[1;32m\"<ipython-input-29-d5af98942240>\"\u001b[1;36m, line \u001b[1;32m1\u001b[0m\n\u001b[1;33m    STOP HERE!\u001b[0m\n\u001b[1;37m            ^\u001b[0m\n\u001b[1;31mSyntaxError\u001b[0m\u001b[1;31m:\u001b[0m invalid syntax\n"
     ]
    }
   ],
   "source": [
    "STOP HERE!"
   ]
  },
  {
   "cell_type": "markdown",
   "metadata": {},
   "source": [
    "## DATA PREPARATION"
   ]
  },
  {
   "cell_type": "code",
   "execution_count": 30,
   "metadata": {
    "collapsed": false,
    "scrolled": true
   },
   "outputs": [
    {
     "name": "stdout",
     "output_type": "stream",
     "text": [
      "ok\n"
     ]
    }
   ],
   "source": [
    "import scr.datapreparation_ML"
   ]
  },
  {
   "cell_type": "code",
   "execution_count": 31,
   "metadata": {
    "collapsed": false,
    "scrolled": true
   },
   "outputs": [],
   "source": [
    "#imp.reload(scr.datapreparation_ML)"
   ]
  },
  {
   "cell_type": "code",
   "execution_count": 32,
   "metadata": {
    "collapsed": false
   },
   "outputs": [
    {
     "name": "stdout",
     "output_type": "stream",
     "text": [
      "Unnamed: 0  has the following null values:  Unnamed: 0    0\n",
      "dtype: int64\n",
      "Unnamed: 0.1  has the following null values:  Unnamed: 0.1    0\n",
      "dtype: int64\n",
      "platform  has the following null values:  platform    0\n",
      "dtype: int64\n",
      "title  has the following null values:  title    1\n",
      "dtype: int64\n",
      "description  has the following null values:  description    11\n",
      "dtype: int64\n",
      "keywords  has the following null values:  keywords    2\n",
      "dtype: int64\n",
      "htext  has the following null values:  htext    0\n",
      "dtype: int64\n",
      "params  has the following null values:  params    6\n",
      "dtype: int64\n",
      "category_regex  has the following null values:  category_regex    0\n",
      "dtype: int64\n",
      "wiki  has the following null values:  wiki    373\n",
      "dtype: int64\n",
      "category  has the following null values:  category    0\n",
      "dtype: int64\n"
     ]
    }
   ],
   "source": [
    "for col in pd_annotated.columns:\n",
    "    print(col,' has the following null values: ', pd_annotated[[col]].isnull().sum())"
   ]
  },
  {
   "cell_type": "code",
   "execution_count": 33,
   "metadata": {
    "collapsed": false
   },
   "outputs": [
    {
     "data": {
      "text/plain": [
       "(450, 11)"
      ]
     },
     "execution_count": 33,
     "metadata": {},
     "output_type": "execute_result"
    }
   ],
   "source": [
    "pd_annotated.shape"
   ]
  },
  {
   "cell_type": "code",
   "execution_count": 34,
   "metadata": {
    "collapsed": false,
    "scrolled": true
   },
   "outputs": [
    {
     "name": "stdout",
     "output_type": "stream",
     "text": [
      "Unnamed: 0  has the following null values:  Unnamed: 0    0\n",
      "dtype: int64\n",
      "Unnamed: 0.1  has the following null values:  Unnamed: 0.1    0\n",
      "dtype: int64\n",
      "platform  has the following null values:  platform    0\n",
      "dtype: int64\n",
      "title  has the following null values:  title    2\n",
      "dtype: int64\n",
      "description  has the following null values:  description    9\n",
      "dtype: int64\n",
      "keywords  has the following null values:  keywords    3\n",
      "dtype: int64\n",
      "htext  has the following null values:  htext    0\n",
      "dtype: int64\n",
      "params  has the following null values:  params    13\n",
      "dtype: int64\n",
      "category  has the following null values:  category    323\n",
      "dtype: int64\n",
      "wiki  has the following null values:  wiki    270\n",
      "dtype: int64\n"
     ]
    }
   ],
   "source": [
    "for col in pd_notated.columns:\n",
    "    print(col,' has the following null values: ', pd_notated[[col]].isnull().sum())"
   ]
  },
  {
   "cell_type": "code",
   "execution_count": 35,
   "metadata": {
    "collapsed": false
   },
   "outputs": [
    {
     "data": {
      "text/plain": [
       "(323, 10)"
      ]
     },
     "execution_count": 35,
     "metadata": {},
     "output_type": "execute_result"
    }
   ],
   "source": [
    "pd_notated.shape"
   ]
  },
  {
   "cell_type": "code",
   "execution_count": 36,
   "metadata": {
    "collapsed": false
   },
   "outputs": [],
   "source": [
    "pd_annotated['alltext'] = ''\n",
    "scr.datapreparation_ML.datapreparation(pd_annotated)\n",
    "pd_notated['alltext'] = ''\n",
    "scr.datapreparation_ML.datapreparation(pd_notated)"
   ]
  },
  {
   "cell_type": "code",
   "execution_count": 37,
   "metadata": {
    "collapsed": false
   },
   "outputs": [
    {
     "ename": "SyntaxError",
     "evalue": "invalid syntax (<ipython-input-37-d5af98942240>, line 1)",
     "output_type": "error",
     "traceback": [
      "\u001b[1;36m  File \u001b[1;32m\"<ipython-input-37-d5af98942240>\"\u001b[1;36m, line \u001b[1;32m1\u001b[0m\n\u001b[1;33m    STOP HERE!\u001b[0m\n\u001b[1;37m            ^\u001b[0m\n\u001b[1;31mSyntaxError\u001b[0m\u001b[1;31m:\u001b[0m invalid syntax\n"
     ]
    }
   ],
   "source": [
    "STOP HERE!"
   ]
  },
  {
   "cell_type": "markdown",
   "metadata": {},
   "source": [
    "# ANALYSIS ROUND 1"
   ]
  },
  {
   "cell_type": "markdown",
   "metadata": {},
   "source": [
    "## References:\n",
    "* http://scikit-learn.org/stable/modules/cross_validation.html\n",
    "* https://stackoverflow.com/questions/24147278/how-do-i-create-test-and-train-samples-from-one-dataframe-with-pandas"
   ]
  },
  {
   "cell_type": "markdown",
   "metadata": {},
   "source": [
    "## DATA SPLIT"
   ]
  },
  {
   "cell_type": "code",
   "execution_count": null,
   "metadata": {
    "collapsed": true
   },
   "outputs": [],
   "source": [
    "#from sklearn.model_selection import train_test_split\n",
    "#xtrain, xtest, ytrain, ytest = train_test_split(pd_annotated.alltext, pd_annotated.category, test_size=0.1, random_state=0)"
   ]
  },
  {
   "cell_type": "code",
   "execution_count": null,
   "metadata": {
    "collapsed": false
   },
   "outputs": [],
   "source": [
    "train=pd_annotated[['platform', 'alltext','category']].sample(frac=0.75,random_state=0)\n",
    "test=pd_annotated[['platform', 'alltext','category']].drop(train.index)"
   ]
  },
  {
   "cell_type": "code",
   "execution_count": null,
   "metadata": {
    "collapsed": false
   },
   "outputs": [],
   "source": [
    "train.head(10)"
   ]
  },
  {
   "cell_type": "markdown",
   "metadata": {},
   "source": [
    "## DATA MODELLING - VECTOR MODEL 1"
   ]
  },
  {
   "cell_type": "code",
   "execution_count": null,
   "metadata": {
    "collapsed": false
   },
   "outputs": [],
   "source": [
    "from sklearn.feature_extraction.text import CountVectorizer\n",
    "count_vect_r1 = CountVectorizer(ngram_range=(1,2))\n",
    "X_primercounts = count_vect_r1.fit_transform(train.alltext)\n",
    "X_primercounts.shape"
   ]
  },
  {
   "cell_type": "markdown",
   "metadata": {},
   "source": [
    "## DECISION TREE WITH ADABOOST, CLASSIFICATION 1\n",
    "\n",
    "### References:\n",
    "* http://scikit-learn.org/stable/modules/generated/sklearn.tree.DecisionTreeClassifier.html#sklearn.tree.DecisionTreeClassifier\n",
    "* http://scikit-learn.org/stable/modules/tree.html\n",
    "* https://en.wikipedia.org/wiki/AdaBoost\n",
    "* http://scikit-learn.org/stable/modules/generated/sklearn.ensemble.AdaBoostClassifier.html\n",
    "* http://scikit-learn.org/stable/auto_examples/ensemble/plot_adaboost_hastie_10_2.html#sphx-glr-auto-examples-ensemble-plot-adaboost-hastie-10-2-py\n",
    "* https://stackoverflow.com/questions/32210569/using-gridsearchcv-with-adaboost-and-decisiontreeclassifier\n",
    "* http://scikit-learn.org/stable/auto_examples/model_selection/grid_search_digits.html\n",
    "* http://scikit-learn.org/stable/tutorial/statistical_inference/model_selection.html\n",
    "\n",
    "**Also**:\n",
    "* https://stackoverflow.com/questions/33110973/pass-a-dict-to-scikit-learn-estimator\n",
    "* http://machinelearningmastery.com/how-to-tune-algorithm-parameters-with-scikit-learn/"
   ]
  },
  {
   "cell_type": "markdown",
   "metadata": {},
   "source": [
    "### Models"
   ]
  },
  {
   "cell_type": "code",
   "execution_count": null,
   "metadata": {
    "collapsed": true
   },
   "outputs": [],
   "source": [
    "from sklearn.tree import DecisionTreeClassifier\n",
    "from sklearn.metrics import zero_one_loss\n",
    "from sklearn.ensemble import AdaBoostClassifier"
   ]
  },
  {
   "cell_type": "code",
   "execution_count": null,
   "metadata": {
    "collapsed": false
   },
   "outputs": [],
   "source": [
    "clf_dtm_r1_stump = DecisionTreeClassifier(max_depth=1, min_samples_leaf=1, random_state=0)\n",
    "clf_dt_r1_stump = clf_dtm_r1_stump.fit(X_primercounts, train.category)\n",
    "\n",
    "clf_dtm_r1 = DecisionTreeClassifier(min_samples_leaf=2, random_state=0)\n",
    "clf_dt_r1 = clf_dtm_r1.fit(X_primercounts, train.category)"
   ]
  },
  {
   "cell_type": "markdown",
   "metadata": {},
   "source": [
    "### Exploration of the Classification"
   ]
  },
  {
   "cell_type": "code",
   "execution_count": null,
   "metadata": {
    "collapsed": true
   },
   "outputs": [],
   "source": [
    "X_test1counts_stump = count_vect_r1.transform(test.alltext)\n",
    "predicted_dt_r1_stump = clf_dt_r1_stump.predict(X_test1counts_stump)"
   ]
  },
  {
   "cell_type": "code",
   "execution_count": null,
   "metadata": {
    "collapsed": false,
    "scrolled": true
   },
   "outputs": [],
   "source": [
    "#for platform, category in zip(test.platform, predicted_dt_r1_stump):\n",
    "#    print('%r => %s' % (platform, category))"
   ]
  },
  {
   "cell_type": "code",
   "execution_count": null,
   "metadata": {
    "collapsed": true
   },
   "outputs": [],
   "source": [
    "X_test1counts = count_vect_r1.transform(test.alltext)\n",
    "predicted_dt_r1 = clf_dt_r1.predict(X_test1counts)"
   ]
  },
  {
   "cell_type": "code",
   "execution_count": null,
   "metadata": {
    "collapsed": false
   },
   "outputs": [],
   "source": [
    "#for platform, category in zip(test.platform, predicted_dt_r1):\n",
    "#    print('%r => %s' % (platform, category))"
   ]
  },
  {
   "cell_type": "markdown",
   "metadata": {},
   "source": [
    "### Parameter Searching for the Decision Tree"
   ]
  },
  {
   "cell_type": "code",
   "execution_count": null,
   "metadata": {
    "collapsed": false,
    "scrolled": false
   },
   "outputs": [],
   "source": [
    "from sklearn.model_selection import GridSearchCV\n",
    "from sklearn.metrics import classification_report\n",
    "\n",
    "# Set the parameters by cross-validation\n",
    "tuned_parameters = [{'max_depth': numpy.arange(5,25,5)}]\n",
    "scores = ['precision', 'recall']\n",
    "\n",
    "for score in scores:\n",
    "    print(\"# Tuning hyper-parameters for %s\" % score)\n",
    "    print()\n",
    "\n",
    "    clf = GridSearchCV(clf_dtm_r1, tuned_parameters, cv=2,\n",
    "                       scoring='%s_macro' % score)\n",
    "    clf.fit(X_primercounts, train.category)\n",
    "\n",
    "    print(\"Best parameters set found on development set:\")\n",
    "    print()\n",
    "    print(clf.best_params_)\n",
    "    print()\n",
    "    print(\"Grid scores on development set:\")\n",
    "    print()\n",
    "    means = clf.cv_results_['mean_test_score']\n",
    "    stds = clf.cv_results_['std_test_score']\n",
    "    for mean, std, params in zip(means, stds, clf.cv_results_['params']):\n",
    "        print(\"%0.3f (+/-%0.03f) for %r\"\n",
    "              % (mean, std * 2, params))\n",
    "    print()\n",
    "\n",
    "    print(\"Detailed classification report:\")\n",
    "    print()\n",
    "    print(\"The model is trained on the full development set.\")\n",
    "    print(\"The scores are computed on the full evaluation set.\")\n",
    "    print()\n",
    "    y_true, y_predsearch = test.category, clf.predict(X_test1counts)\n",
    "    print(classification_report(y_true, y_predsearch))\n",
    "    print()"
   ]
  },
  {
   "cell_type": "code",
   "execution_count": null,
   "metadata": {
    "collapsed": true
   },
   "outputs": [],
   "source": [
    "X_test1counts_stump = count_vect_r1.transform(test.alltext)\n",
    "clf_dt_r1_stump_err = 1.0 - clf_dt_r1_stump.score(X_test1counts_stump, test.category)\n",
    "X_test1count = count_vect_r1.transform(test.alltext)\n",
    "clf_err = 1.0 - clf.score(X_test1counts, test.category)"
   ]
  },
  {
   "cell_type": "code",
   "execution_count": null,
   "metadata": {
    "collapsed": false,
    "scrolled": true
   },
   "outputs": [],
   "source": [
    "print(clf_dt_r1_stump_err,clf_dt_r1_err)"
   ]
  },
  {
   "cell_type": "code",
   "execution_count": null,
   "metadata": {
    "collapsed": false
   },
   "outputs": [],
   "source": [
    "print(clf.best_params_)"
   ]
  },
  {
   "cell_type": "markdown",
   "metadata": {},
   "source": [
    "### AdaBoost"
   ]
  },
  {
   "cell_type": "code",
   "execution_count": null,
   "metadata": {
    "collapsed": false
   },
   "outputs": [],
   "source": [
    "n_estimators = 40\n",
    "# A learning rate of 1. may not be optimal for both SAMME and SAMME.R\n",
    "learning_rate = 1.\n",
    "\n",
    "\n",
    "#IMPORTANT... https://stackoverflow.com/questions/33110973/pass-a-dict-to-scikit-learn-estimator\n",
    "clf_dtm_r1.set_params(**clf.best_params_)\n",
    "clf_dt_r1 = clf_dtm_r1.fit(X_primercounts, train.category)\n",
    "\n",
    "ada_discrete = AdaBoostClassifier(\n",
    "    base_estimator = clf_dtm_r1,\n",
    "    learning_rate=learning_rate,\n",
    "    n_estimators=n_estimators,\n",
    "    algorithm=\"SAMME\")\n",
    "ada_discrete.fit(X_primercounts, train.category)\n",
    "\n",
    "fig = plt.figure()\n",
    "ax = fig.add_subplot(111)\n",
    "\n",
    "ax.plot([1, n_estimators], [clf_dt_r1_stump_err] * 2, 'k-',\n",
    "        label='Decision Stump Error')\n",
    "ax.plot([1, n_estimators], [clf_dt_r1_err] * 2, 'k--',\n",
    "        label='Decision Tree Error')\n",
    "\n",
    "ada_discrete_err = numpy.zeros((n_estimators,))\n",
    "for i, y_pred in enumerate(ada_discrete.staged_predict(X_test1counts)):\n",
    "    ada_discrete_err[i] = zero_one_loss(y_pred, test.category)\n",
    "\n",
    "ada_discrete_err_train = numpy.zeros((n_estimators,))\n",
    "for i, y_pred in enumerate(ada_discrete.staged_predict(X_primercounts)):\n",
    "    ada_discrete_err_train[i] = zero_one_loss(y_pred, train.category)\n",
    "\n",
    "ax.plot(numpy.arange(n_estimators) + 1, ada_discrete_err,\n",
    "        label='Discrete AdaBoost Test Error',\n",
    "        color='red')\n",
    "ax.plot(numpy.arange(n_estimators) + 1, ada_discrete_err_train,\n",
    "        label='Discrete AdaBoost Train Error',\n",
    "        color='blue')\n",
    "\n",
    "ax.set_ylim((0.0, 1.0))\n",
    "ax.set_xlabel('n_estimators')\n",
    "ax.set_ylabel('error rate')\n",
    "\n",
    "leg = ax.legend(loc='upper right', fancybox=True)\n",
    "leg.get_frame().set_alpha(0.7)\n",
    "\n",
    "plt.show()"
   ]
  },
  {
   "cell_type": "code",
   "execution_count": null,
   "metadata": {
    "collapsed": true
   },
   "outputs": [],
   "source": [
    "with open(os.getcwd()+'/data/adaboostmodel1.pkl', 'bw') as mod:\n",
    "    pickle.dump([train, test, train.alltext, train.category, count_vect_r1, X_primercounts, clf_dtm_r1, clf_dt_r1, ada_discrete, n_estimators, learning_rate], mod)"
   ]
  },
  {
   "cell_type": "markdown",
   "metadata": {},
   "source": [
    "## Classifying unlabelled records"
   ]
  },
  {
   "cell_type": "code",
   "execution_count": null,
   "metadata": {
    "collapsed": true
   },
   "outputs": [],
   "source": [
    "X_unclass1counts = count_vect_r1.transform(pd_notated.alltext)\n",
    "#normalized_X_testround1_counts = sklearn.feature_extraction.text.TfidfTransformer(norm='l2').fit_transform(X_testround1_counts)\n",
    "predicted_dtada_r1 = ada_discrete.predict(X_unclass1counts)"
   ]
  },
  {
   "cell_type": "code",
   "execution_count": null,
   "metadata": {
    "collapsed": false,
    "scrolled": false
   },
   "outputs": [],
   "source": [
    "for platform, category in zip(pd_notated.platform, predicted_dtada_r1):\n",
    "    print('%r => %s' % (platform, category))"
   ]
  },
  {
   "cell_type": "code",
   "execution_count": null,
   "metadata": {
    "collapsed": false
   },
   "outputs": [],
   "source": [
    "with open(os.getcwd()+'/data/abadt_1.csv', 'w') as outfile:\n",
    "    writer = csv.writer(outfile, delimiter=';', quotechar=\"'\")\n",
    "    writer.writerow(['platform','assignedcategory','checked','category'])\n",
    "    for platform, category in zip(pd_notated.platform, predicted_dtada_r1):\n",
    "        #print('%r => %s' % (platform, category))\n",
    "        writer.writerow([platform,category,,])"
   ]
  },
  {
   "cell_type": "code",
   "execution_count": null,
   "metadata": {
    "collapsed": false
   },
   "outputs": [],
   "source": [
    "STOP HERE!!"
   ]
  },
  {
   "cell_type": "markdown",
   "metadata": {},
   "source": [
    "# POST-ANALYSIS ROUND 1"
   ]
  },
  {
   "cell_type": "markdown",
   "metadata": {},
   "source": [
    "Data preparation after the manual supervision of the classes"
   ]
  },
  {
   "cell_type": "markdown",
   "metadata": {},
   "source": [
    "### Python Libraries"
   ]
  },
  {
   "cell_type": "code",
   "execution_count": 38,
   "metadata": {
    "collapsed": true
   },
   "outputs": [],
   "source": [
    "from sklearn.feature_extraction.text import CountVectorizer\n",
    "from sklearn.tree import DecisionTreeClassifier\n",
    "from sklearn.metrics import zero_one_loss\n",
    "from sklearn.ensemble import AdaBoostClassifier\n",
    "from sklearn.model_selection import GridSearchCV\n",
    "from sklearn.metrics import classification_report"
   ]
  },
  {
   "cell_type": "markdown",
   "metadata": {},
   "source": [
    "## DATA PREPARATION"
   ]
  },
  {
   "cell_type": "code",
   "execution_count": 39,
   "metadata": {
    "collapsed": false
   },
   "outputs": [],
   "source": [
    "with open(os.getcwd()+'/data/adaboostmodel1.pkl', 'br') as mod:\n",
    "    train, test, train.alltext, train.category, count_vect_r1, X_primercounts, clf_dtm_r1, clf_dt_r1, ada_discrete, n_estimators, learning_rate = pickle.load(mod)"
   ]
  },
  {
   "cell_type": "code",
   "execution_count": 40,
   "metadata": {
    "collapsed": false
   },
   "outputs": [
    {
     "data": {
      "text/html": [
       "<div>\n",
       "<table border=\"1\" class=\"dataframe\">\n",
       "  <thead>\n",
       "    <tr style=\"text-align: right;\">\n",
       "      <th></th>\n",
       "      <th>platform</th>\n",
       "      <th>alltext</th>\n",
       "      <th>category</th>\n",
       "    </tr>\n",
       "  </thead>\n",
       "  <tbody>\n",
       "    <tr>\n",
       "      <th>0</th>\n",
       "      <td>v4-alpha.getbootstrap.com</td>\n",
       "      <td>buttons world overview content breadcrumb in...</td>\n",
       "      <td>PACKAGE</td>\n",
       "    </tr>\n",
       "    <tr>\n",
       "      <th>9</th>\n",
       "      <td>jqueryvalidation.org</td>\n",
       "      <td>still good lots validate options error comes...</td>\n",
       "      <td>PACKAGE</td>\n",
       "    </tr>\n",
       "    <tr>\n",
       "      <th>25</th>\n",
       "      <td>api.datamarket.azure.com</td>\n",
       "      <td>microsoft bing azure search v1 composite sal...</td>\n",
       "      <td>PACKAGE</td>\n",
       "    </tr>\n",
       "    <tr>\n",
       "      <th>28</th>\n",
       "      <td>preview.c9users.io</td>\n",
       "      <td>arshdkhn1 box chaoz4ngel insert index pollin...</td>\n",
       "      <td>PACKAGE</td>\n",
       "    </tr>\n",
       "    <tr>\n",
       "      <th>31</th>\n",
       "      <td>chaijs.com</td>\n",
       "      <td>node org browser delightfully paired asserti...</td>\n",
       "      <td>PACKAGE</td>\n",
       "    </tr>\n",
       "  </tbody>\n",
       "</table>\n",
       "</div>"
      ],
      "text/plain": [
       "                     platform  \\\n",
       "0   v4-alpha.getbootstrap.com   \n",
       "9        jqueryvalidation.org   \n",
       "25   api.datamarket.azure.com   \n",
       "28         preview.c9users.io   \n",
       "31                 chaijs.com   \n",
       "\n",
       "                                              alltext category  \n",
       "0     buttons world overview content breadcrumb in...  PACKAGE  \n",
       "9     still good lots validate options error comes...  PACKAGE  \n",
       "25    microsoft bing azure search v1 composite sal...  PACKAGE  \n",
       "28    arshdkhn1 box chaoz4ngel insert index pollin...  PACKAGE  \n",
       "31    node org browser delightfully paired asserti...  PACKAGE  "
      ]
     },
     "execution_count": 40,
     "metadata": {},
     "output_type": "execute_result"
    }
   ],
   "source": [
    "test.head()"
   ]
  },
  {
   "cell_type": "code",
   "execution_count": 41,
   "metadata": {
    "collapsed": true
   },
   "outputs": [],
   "source": [
    "X_unclass1counts = count_vect_r1.transform(pd_notated.alltext)"
   ]
  },
  {
   "cell_type": "code",
   "execution_count": 43,
   "metadata": {
    "collapsed": false,
    "scrolled": true
   },
   "outputs": [],
   "source": [
    "pd_notatedready_r1 = pandas.read_csv(open(os.getcwd()+'/data/abadt_1.csv', 'r'), sep=';', quotechar=\"'\" )"
   ]
  },
  {
   "cell_type": "code",
   "execution_count": 46,
   "metadata": {
    "collapsed": false,
    "scrolled": true
   },
   "outputs": [
    {
     "data": {
      "text/plain": [
       "(238, 4)"
      ]
     },
     "execution_count": 46,
     "metadata": {},
     "output_type": "execute_result"
    }
   ],
   "source": [
    "pd_notatedready_r1.loc[pd_notatedready_r1['checked'] != 1, :].shape"
   ]
  },
  {
   "cell_type": "code",
   "execution_count": 47,
   "metadata": {
    "collapsed": false
   },
   "outputs": [
    {
     "data": {
      "text/plain": [
       "(323, 4)"
      ]
     },
     "execution_count": 47,
     "metadata": {},
     "output_type": "execute_result"
    }
   ],
   "source": [
    "pd_notatedready_r1.shape"
   ]
  },
  {
   "cell_type": "markdown",
   "metadata": {},
   "source": [
    "## EVALUATION"
   ]
  },
  {
   "cell_type": "code",
   "execution_count": 48,
   "metadata": {
    "collapsed": false
   },
   "outputs": [
    {
     "name": "stdout",
     "output_type": "stream",
     "text": [
      "             precision    recall  f1-score   support\n",
      "\n",
      "   BUSINESS       0.00      0.00      0.00         2\n",
      "   COMMUITY       0.00      0.00      0.00         9\n",
      "       DOCS       0.33      0.20      0.25         5\n",
      "  ECOMMERCE       0.00      0.00      0.00         1\n",
      "       NEWS       0.62      0.83      0.71        48\n",
      "    NOCLASS       1.00      0.25      0.40        12\n",
      "       PAAS       0.00      0.00      0.00         2\n",
      "    PACKAGE       0.48      0.81      0.60        36\n",
      "       REPL       1.00      0.20      0.33         5\n",
      "    SENGINE       0.00      0.00      0.00         2\n",
      "      THEME       0.00      0.00      0.00         2\n",
      "   TRAINING       0.92      0.55      0.69        20\n",
      "\n",
      "avg / total       0.58      0.59      0.54       144\n",
      "\n"
     ]
    },
    {
     "name": "stderr",
     "output_type": "stream",
     "text": [
      "/home/ec/anaconda3/lib/python3.5/site-packages/sklearn/metrics/classification.py:1113: UndefinedMetricWarning: Precision and F-score are ill-defined and being set to 0.0 in labels with no predicted samples.\n",
      "  'precision', 'predicted', average, warn_for)\n"
     ]
    }
   ],
   "source": [
    "print(classification_report(pd_notatedready_r1.loc[pd_notatedready_r1['checked'] != -1, 'category'], pd_notatedready_r1.loc[pd_notatedready_r1['checked'] != -1, 'assignedcategory']))"
   ]
  },
  {
   "cell_type": "markdown",
   "metadata": {},
   "source": [
    "# ANALYSIS 2"
   ]
  },
  {
   "cell_type": "markdown",
   "metadata": {},
   "source": [
    "## RECONSTRUCTING THE DATASETS"
   ]
  },
  {
   "cell_type": "code",
   "execution_count": 54,
   "metadata": {
    "collapsed": false,
    "scrolled": true
   },
   "outputs": [
    {
     "data": {
      "text/html": [
       "<div>\n",
       "<table border=\"1\" class=\"dataframe\">\n",
       "  <thead>\n",
       "    <tr style=\"text-align: right;\">\n",
       "      <th></th>\n",
       "      <th>Unnamed: 0</th>\n",
       "      <th>Unnamed: 0.1</th>\n",
       "      <th>platform</th>\n",
       "      <th>title</th>\n",
       "      <th>description</th>\n",
       "      <th>keywords</th>\n",
       "      <th>htext</th>\n",
       "      <th>params</th>\n",
       "      <th>category</th>\n",
       "      <th>wiki</th>\n",
       "      <th>alltext</th>\n",
       "    </tr>\n",
       "  </thead>\n",
       "  <tbody>\n",
       "    <tr>\n",
       "      <th>37</th>\n",
       "      <td>37</td>\n",
       "      <td>37</td>\n",
       "      <td>editor.wix.com</td>\n",
       "      <td>free website builder | create a free website |...</td>\n",
       "      <td>create a free website with wix.com. customize ...</td>\n",
       "      <td></td>\n",
       "      <td>A man looks out towards the city skyline. It A...</td>\n",
       "      <td>/html/editor/web/renderer/new</td>\n",
       "      <td>NaN</td>\n",
       "      <td>Wix.com is a cloud-based web development platf...</td>\n",
       "      <td>starts city customizing looks builder websit...</td>\n",
       "    </tr>\n",
       "    <tr>\n",
       "      <th>38</th>\n",
       "      <td>38</td>\n",
       "      <td>38</td>\n",
       "      <td>genius.com</td>\n",
       "      <td>genius song lyrics &amp; knowledge</td>\n",
       "      <td></td>\n",
       "      <td></td>\n",
       "      <td></td>\n",
       "      <td>/Nested-loops-javascript-what-are-you-lyrics</td>\n",
       "      <td>NaN</td>\n",
       "      <td>Genius (formerly Rap Genius) is an online medi...</td>\n",
       "      <td>lyrics javascript loops song nested genius k...</td>\n",
       "    </tr>\n",
       "    <tr>\n",
       "      <th>39</th>\n",
       "      <td>39</td>\n",
       "      <td>39</td>\n",
       "      <td>jsben.ch</td>\n",
       "      <td>jsben.ch benchmarking for javascript</td>\n",
       "      <td>online javascript benchmark tool / playground....</td>\n",
       "      <td>javascript, benchmark, online, testing, code e...</td>\n",
       "      <td></td>\n",
       "      <td>/</td>\n",
       "      <td>NaN</td>\n",
       "      <td>NaN</td>\n",
       "      <td>performance editor comparison javascript cod...</td>\n",
       "    </tr>\n",
       "    <tr>\n",
       "      <th>40</th>\n",
       "      <td>40</td>\n",
       "      <td>40</td>\n",
       "      <td>www.infobyip.com</td>\n",
       "      <td>information by ip address</td>\n",
       "      <td>information for ip address and browser: locati...</td>\n",
       "      <td>ip, address, information</td>\n",
       "      <td>InfoByIp.com provides IP detection, geolocatio...</td>\n",
       "      <td>/htmlandjavascripteditor.php</td>\n",
       "      <td>NaN</td>\n",
       "      <td>NaN</td>\n",
       "      <td>client city flash list ipv6 information geol...</td>\n",
       "    </tr>\n",
       "    <tr>\n",
       "      <th>41</th>\n",
       "      <td>41</td>\n",
       "      <td>41</td>\n",
       "      <td>app.cssmenumaker.com</td>\n",
       "      <td>menu maker</td>\n",
       "      <td></td>\n",
       "      <td></td>\n",
       "      <td></td>\n",
       "      <td>/</td>\n",
       "      <td>NaN</td>\n",
       "      <td>NaN</td>\n",
       "      <td>maker menu</td>\n",
       "    </tr>\n",
       "  </tbody>\n",
       "</table>\n",
       "</div>"
      ],
      "text/plain": [
       "    Unnamed: 0  Unnamed: 0.1              platform  \\\n",
       "37          37            37        editor.wix.com   \n",
       "38          38            38            genius.com   \n",
       "39          39            39              jsben.ch   \n",
       "40          40            40      www.infobyip.com   \n",
       "41          41            41  app.cssmenumaker.com   \n",
       "\n",
       "                                                title  \\\n",
       "37  free website builder | create a free website |...   \n",
       "38                     genius song lyrics & knowledge   \n",
       "39               jsben.ch benchmarking for javascript   \n",
       "40                          information by ip address   \n",
       "41                                         menu maker   \n",
       "\n",
       "                                          description  \\\n",
       "37  create a free website with wix.com. customize ...   \n",
       "38                                                      \n",
       "39  online javascript benchmark tool / playground....   \n",
       "40  information for ip address and browser: locati...   \n",
       "41                                                      \n",
       "\n",
       "                                             keywords  \\\n",
       "37                                                      \n",
       "38                                                      \n",
       "39  javascript, benchmark, online, testing, code e...   \n",
       "40                           ip, address, information   \n",
       "41                                                      \n",
       "\n",
       "                                                htext  \\\n",
       "37  A man looks out towards the city skyline. It A...   \n",
       "38                                                      \n",
       "39                                                      \n",
       "40  InfoByIp.com provides IP detection, geolocatio...   \n",
       "41                                                      \n",
       "\n",
       "                                          params  category  \\\n",
       "37                 /html/editor/web/renderer/new       NaN   \n",
       "38  /Nested-loops-javascript-what-are-you-lyrics       NaN   \n",
       "39                                             /       NaN   \n",
       "40                  /htmlandjavascripteditor.php       NaN   \n",
       "41                                             /       NaN   \n",
       "\n",
       "                                                 wiki  \\\n",
       "37  Wix.com is a cloud-based web development platf...   \n",
       "38  Genius (formerly Rap Genius) is an online medi...   \n",
       "39                                                NaN   \n",
       "40                                                NaN   \n",
       "41                                                NaN   \n",
       "\n",
       "                                              alltext  \n",
       "37    starts city customizing looks builder websit...  \n",
       "38    lyrics javascript loops song nested genius k...  \n",
       "39    performance editor comparison javascript cod...  \n",
       "40    client city flash list ipv6 information geol...  \n",
       "41                                         maker menu  "
      ]
     },
     "execution_count": 54,
     "metadata": {},
     "output_type": "execute_result"
    }
   ],
   "source": [
    "pd_notated2 = pd_notated.loc[pd_notatedready_r1['checked'] == -1,:]\n",
    "pd_notated2.head()"
   ]
  },
  {
   "cell_type": "code",
   "execution_count": 55,
   "metadata": {
    "collapsed": false
   },
   "outputs": [
    {
     "name": "stderr",
     "output_type": "stream",
     "text": [
      "/home/ec/anaconda3/lib/python3.5/site-packages/ipykernel/__main__.py:2: SettingWithCopyWarning: \n",
      "A value is trying to be set on a copy of a slice from a DataFrame.\n",
      "Try using .loc[row_indexer,col_indexer] = value instead\n",
      "\n",
      "See the caveats in the documentation: http://pandas.pydata.org/pandas-docs/stable/indexing.html#indexing-view-versus-copy\n",
      "  from ipykernel import kernelapp as app\n"
     ]
    }
   ],
   "source": [
    "pd_annotatedtrans = pd_notated.loc[pd_notatedready_r1['checked'] != -1,:]\n",
    "pd_annotatedtrans['category'] = pd_notatedready_r1.loc[pd_notatedready_r1['checked'] != -1,'category']"
   ]
  },
  {
   "cell_type": "code",
   "execution_count": 56,
   "metadata": {
    "collapsed": false
   },
   "outputs": [
    {
     "data": {
      "text/html": [
       "<div>\n",
       "<table border=\"1\" class=\"dataframe\">\n",
       "  <thead>\n",
       "    <tr style=\"text-align: right;\">\n",
       "      <th></th>\n",
       "      <th>Unnamed: 0</th>\n",
       "      <th>Unnamed: 0.1</th>\n",
       "      <th>platform</th>\n",
       "      <th>title</th>\n",
       "      <th>description</th>\n",
       "      <th>keywords</th>\n",
       "      <th>htext</th>\n",
       "      <th>params</th>\n",
       "      <th>category</th>\n",
       "      <th>wiki</th>\n",
       "      <th>alltext</th>\n",
       "    </tr>\n",
       "  </thead>\n",
       "  <tbody>\n",
       "    <tr>\n",
       "      <th>0</th>\n",
       "      <td>0</td>\n",
       "      <td>0</td>\n",
       "      <td>www.kenneth-truyers.net</td>\n",
       "      <td>my life as a software developer |</td>\n",
       "      <td>blog about development using .net and client-s...</td>\n",
       "      <td></td>\n",
       "      <td>Posted on Friday, January 27th, 2017 at 02:42 ...</td>\n",
       "      <td>/2013/04/20/javascript-hoisting-explained/</td>\n",
       "      <td>NEWS</td>\n",
       "      <td>NaN</td>\n",
       "      <td>client far xbmc information life developer b...</td>\n",
       "    </tr>\n",
       "    <tr>\n",
       "      <th>1</th>\n",
       "      <td>1</td>\n",
       "      <td>1</td>\n",
       "      <td>school.scotch.io</td>\n",
       "      <td>courses ― scotch</td>\n",
       "      <td></td>\n",
       "      <td></td>\n",
       "      <td>You trust Scotch tutorials and Scotch authors....</td>\n",
       "      <td>/build-a-nodejs-website/course-introduction,/b...</td>\n",
       "      <td>TRAINING</td>\n",
       "      <td>NaN</td>\n",
       "      <td>scotch website join trust introduction nodej...</td>\n",
       "    </tr>\n",
       "    <tr>\n",
       "      <th>2</th>\n",
       "      <td>2</td>\n",
       "      <td>2</td>\n",
       "      <td>www.imkrisna.com</td>\n",
       "      <td>i made krisna widhiastra | full-stack developer</td>\n",
       "      <td></td>\n",
       "      <td></td>\n",
       "      <td>\\n\\t\\t\\t\\t\\t\\t\\tCurrently working as Applicati...</td>\n",
       "      <td>/blog/2014/02/if-else-vs-if-if-vs-switch-javas...</td>\n",
       "      <td>NEWS</td>\n",
       "      <td>NaN</td>\n",
       "      <td>performance else developer future profession...</td>\n",
       "    </tr>\n",
       "    <tr>\n",
       "      <th>3</th>\n",
       "      <td>3</td>\n",
       "      <td>3</td>\n",
       "      <td>vanilla-js.com</td>\n",
       "      <td>vanilla js</td>\n",
       "      <td></td>\n",
       "      <td></td>\n",
       "      <td>The Vanilla JS team maintains every byte of co...</td>\n",
       "      <td>/</td>\n",
       "      <td>PACKAGE</td>\n",
       "      <td>NaN</td>\n",
       "      <td>maintains small make hard code introduction ...</td>\n",
       "    </tr>\n",
       "    <tr>\n",
       "      <th>4</th>\n",
       "      <td>4</td>\n",
       "      <td>4</td>\n",
       "      <td>www.newmediacampaigns.com</td>\n",
       "      <td>new media campaigns | nmc digital agency</td>\n",
       "      <td>NaN</td>\n",
       "      <td></td>\n",
       "      <td>Congrats to Hutchison PLLC on being named one ...</td>\n",
       "      <td>/blog/how-to-use-json-apis-with-jquery</td>\n",
       "      <td>BUSINESS</td>\n",
       "      <td>NaN</td>\n",
       "      <td>lawyerist json agency hutchison blog website...</td>\n",
       "    </tr>\n",
       "  </tbody>\n",
       "</table>\n",
       "</div>"
      ],
      "text/plain": [
       "   Unnamed: 0  Unnamed: 0.1                   platform  \\\n",
       "0           0             0    www.kenneth-truyers.net   \n",
       "1           1             1           school.scotch.io   \n",
       "2           2             2           www.imkrisna.com   \n",
       "3           3             3             vanilla-js.com   \n",
       "4           4             4  www.newmediacampaigns.com   \n",
       "\n",
       "                                             title  \\\n",
       "0              my life as a software developer |     \n",
       "1                                 courses ― scotch   \n",
       "2  i made krisna widhiastra | full-stack developer   \n",
       "3                                       vanilla js   \n",
       "4         new media campaigns | nmc digital agency   \n",
       "\n",
       "                                         description keywords  \\\n",
       "0  blog about development using .net and client-s...            \n",
       "1                                                               \n",
       "2                                                               \n",
       "3                                                               \n",
       "4                                                NaN            \n",
       "\n",
       "                                               htext  \\\n",
       "0  Posted on Friday, January 27th, 2017 at 02:42 ...   \n",
       "1  You trust Scotch tutorials and Scotch authors....   \n",
       "2  \\n\\t\\t\\t\\t\\t\\t\\tCurrently working as Applicati...   \n",
       "3  The Vanilla JS team maintains every byte of co...   \n",
       "4  Congrats to Hutchison PLLC on being named one ...   \n",
       "\n",
       "                                              params  category wiki  \\\n",
       "0         /2013/04/20/javascript-hoisting-explained/      NEWS  NaN   \n",
       "1  /build-a-nodejs-website/course-introduction,/b...  TRAINING  NaN   \n",
       "2  /blog/2014/02/if-else-vs-if-if-vs-switch-javas...      NEWS  NaN   \n",
       "3                                                  /   PACKAGE  NaN   \n",
       "4             /blog/how-to-use-json-apis-with-jquery  BUSINESS  NaN   \n",
       "\n",
       "                                             alltext  \n",
       "0    client far xbmc information life developer b...  \n",
       "1    scotch website join trust introduction nodej...  \n",
       "2    performance else developer future profession...  \n",
       "3    maintains small make hard code introduction ...  \n",
       "4    lawyerist json agency hutchison blog website...  "
      ]
     },
     "execution_count": 56,
     "metadata": {},
     "output_type": "execute_result"
    }
   ],
   "source": [
    "pd_annotatedtrans.head()"
   ]
  },
  {
   "cell_type": "code",
   "execution_count": 57,
   "metadata": {
    "collapsed": false
   },
   "outputs": [
    {
     "data": {
      "text/html": [
       "<div>\n",
       "<table border=\"1\" class=\"dataframe\">\n",
       "  <thead>\n",
       "    <tr style=\"text-align: right;\">\n",
       "      <th></th>\n",
       "      <th>Unnamed: 0</th>\n",
       "      <th>Unnamed: 0.1</th>\n",
       "      <th>alltext</th>\n",
       "      <th>category</th>\n",
       "      <th>category_regex</th>\n",
       "      <th>description</th>\n",
       "      <th>htext</th>\n",
       "      <th>keywords</th>\n",
       "      <th>params</th>\n",
       "      <th>platform</th>\n",
       "      <th>title</th>\n",
       "      <th>wiki</th>\n",
       "    </tr>\n",
       "  </thead>\n",
       "  <tbody>\n",
       "    <tr>\n",
       "      <th>0</th>\n",
       "      <td>0</td>\n",
       "      <td>0</td>\n",
       "      <td>alerts building dropdowns tooltips started g...</td>\n",
       "      <td>PACKAGE</td>\n",
       "      <td>api|package|framework|librar|stack|licens|addo...</td>\n",
       "      <td>the most popular html, css, and js framework i...</td>\n",
       "      <td>Bootstrap is the most popular HTML, CSS, and J...</td>\n",
       "      <td></td>\n",
       "      <td>,/components,/components/breadcrumb/,/migratio...</td>\n",
       "      <td>v4-alpha.getbootstrap.com</td>\n",
       "      <td>\\n  \\n    bootstrap · the most popular html, c...</td>\n",
       "      <td>NaN</td>\n",
       "    </tr>\n",
       "    <tr>\n",
       "      <th>1</th>\n",
       "      <td>1</td>\n",
       "      <td>3</td>\n",
       "      <td>iscroll link ability ajax page end autopager...</td>\n",
       "      <td>PACKAGE</td>\n",
       "      <td>api|package|framework|librar|stack|licens|addo...</td>\n",
       "      <td></td>\n",
       "      <td>jScroll is a jQuery plugin for infinite scroll...</td>\n",
       "      <td></td>\n",
       "      <td>/,https://github.com/cubiq/iscroll</td>\n",
       "      <td>jscroll.com</td>\n",
       "      <td>jscroll - a jquery plugin for infinite scrolli...</td>\n",
       "      <td>NaN</td>\n",
       "    </tr>\n",
       "    <tr>\n",
       "      <th>2</th>\n",
       "      <td>2</td>\n",
       "      <td>10</td>\n",
       "      <td>started schematypes validation models v4 pro...</td>\n",
       "      <td>PACKAGE</td>\n",
       "      <td>api|package|framework|librar|stack|licens|addo...</td>\n",
       "      <td></td>\n",
       "      <td>Elegant MongoDB object modeling for Node.js Mo...</td>\n",
       "      <td></td>\n",
       "      <td>/docs/promises.html,/docs/populate.html,/docs/...</td>\n",
       "      <td>mongoosejs.com</td>\n",
       "      <td>mongoose odm v4.10.5</td>\n",
       "      <td>NaN</td>\n",
       "    </tr>\n",
       "    <tr>\n",
       "      <th>3</th>\n",
       "      <td>3</td>\n",
       "      <td>34</td>\n",
       "      <td>stock ajax webpage data highcharts view page...</td>\n",
       "      <td>PACKAGE</td>\n",
       "      <td>api|package|framework|librar|stack|licens|addo...</td>\n",
       "      <td>Highcharts - Interactive JavaScript charts for...</td>\n",
       "      <td>View demo Get a license</td>\n",
       "      <td>highcharts, charts, javascript charts, ajax ch...</td>\n",
       "      <td>/samples/data/jsonp.php,/blog/192-use-highchar...</td>\n",
       "      <td>www.highcharts.com</td>\n",
       "      <td>Interactive JavaScript charts for your webpage...</td>\n",
       "      <td>NaN</td>\n",
       "    </tr>\n",
       "    <tr>\n",
       "      <th>4</th>\n",
       "      <td>4</td>\n",
       "      <td>41</td>\n",
       "      <td>en org crossorigin proxy free php cors w eve...</td>\n",
       "      <td>PACKAGE</td>\n",
       "      <td>api|package|framework|librar|stack|licens|addo...</td>\n",
       "      <td></td>\n",
       "      <td>\\n                  Welcome to crossorigin.me,...</td>\n",
       "      <td></td>\n",
       "      <td>/https://en.wikipedia.org/w/api.php,/,/https:/...</td>\n",
       "      <td>www.crossorigin.me</td>\n",
       "      <td>crossorigin.me</td>\n",
       "      <td>NaN</td>\n",
       "    </tr>\n",
       "    <tr>\n",
       "      <th>5</th>\n",
       "      <td>5</td>\n",
       "      <td>47</td>\n",
       "      <td></td>\n",
       "      <td>PACKAGE</td>\n",
       "      <td>api|package|framework|librar|stack|licens|addo...</td>\n",
       "      <td></td>\n",
       "      <td></td>\n",
       "      <td></td>\n",
       "      <td>NaN</td>\n",
       "      <td>v4-alpha.getbootstrap.com)</td>\n",
       "      <td></td>\n",
       "      <td>NaN</td>\n",
       "    </tr>\n",
       "    <tr>\n",
       "      <th>6</th>\n",
       "      <td>6</td>\n",
       "      <td>52</td>\n",
       "      <td>goes json neville good james weaver brody qu...</td>\n",
       "      <td>PACKAGE</td>\n",
       "      <td>api|package|framework|librar|stack|licens|addo...</td>\n",
       "      <td></td>\n",
       "      <td>Good design goes to heaven; bad design goes ev...</td>\n",
       "      <td></td>\n",
       "      <td>,/lowell-williams/&amp;quot;},/wp-json/post/,/,/ap...</td>\n",
       "      <td>quotesondesign.com</td>\n",
       "      <td>quotes on design -</td>\n",
       "      <td>NaN</td>\n",
       "    </tr>\n",
       "    <tr>\n",
       "      <th>7</th>\n",
       "      <td>7</td>\n",
       "      <td>53</td>\n",
       "      <td>space random quotesondesign bow json googlea...</td>\n",
       "      <td>PACKAGE</td>\n",
       "      <td>api|package|framework|librar|stack|licens|addo...</td>\n",
       "      <td></td>\n",
       "      <td>\\n                  Welcome to crossorigin.me,...</td>\n",
       "      <td></td>\n",
       "      <td>,/http://api.open,/https://en.wikipedia.org/w/...</td>\n",
       "      <td>crossorigin.me</td>\n",
       "      <td>crossorigin.me</td>\n",
       "      <td>NaN</td>\n",
       "    </tr>\n",
       "    <tr>\n",
       "      <th>8</th>\n",
       "      <td>8</td>\n",
       "      <td>54</td>\n",
       "      <td>minified events truly news javascript handle...</td>\n",
       "      <td>PACKAGE</td>\n",
       "      <td>api|package|framework|librar|stack|licens|addo...</td>\n",
       "      <td></td>\n",
       "      <td>\\nThis demo shows you how to use a simple HTML...</td>\n",
       "      <td></td>\n",
       "      <td>/</td>\n",
       "      <td>minifiedjs.com</td>\n",
       "      <td>minified.js - a truly lightweight javascript l...</td>\n",
       "      <td>NaN</td>\n",
       "    </tr>\n",
       "    <tr>\n",
       "      <th>9</th>\n",
       "      <td>9</td>\n",
       "      <td>59</td>\n",
       "      <td>building scratch methods email offering vali...</td>\n",
       "      <td>PACKAGE</td>\n",
       "      <td>api|package|framework|librar|stack|licens|addo...</td>\n",
       "      <td></td>\n",
       "      <td>This jQuery plugin makes simple clientside for...</td>\n",
       "      <td></td>\n",
       "      <td>/validate/</td>\n",
       "      <td>jqueryvalidation.org</td>\n",
       "      <td>jquery validation plugin | form validation wit...</td>\n",
       "      <td>NaN</td>\n",
       "    </tr>\n",
       "  </tbody>\n",
       "</table>\n",
       "</div>"
      ],
      "text/plain": [
       "   Unnamed: 0  Unnamed: 0.1  \\\n",
       "0           0             0   \n",
       "1           1             3   \n",
       "2           2            10   \n",
       "3           3            34   \n",
       "4           4            41   \n",
       "5           5            47   \n",
       "6           6            52   \n",
       "7           7            53   \n",
       "8           8            54   \n",
       "9           9            59   \n",
       "\n",
       "                                             alltext category  \\\n",
       "0    alerts building dropdowns tooltips started g...  PACKAGE   \n",
       "1    iscroll link ability ajax page end autopager...  PACKAGE   \n",
       "2    started schematypes validation models v4 pro...  PACKAGE   \n",
       "3    stock ajax webpage data highcharts view page...  PACKAGE   \n",
       "4    en org crossorigin proxy free php cors w eve...  PACKAGE   \n",
       "5                                                     PACKAGE   \n",
       "6    goes json neville good james weaver brody qu...  PACKAGE   \n",
       "7    space random quotesondesign bow json googlea...  PACKAGE   \n",
       "8    minified events truly news javascript handle...  PACKAGE   \n",
       "9    building scratch methods email offering vali...  PACKAGE   \n",
       "\n",
       "                                      category_regex  \\\n",
       "0  api|package|framework|librar|stack|licens|addo...   \n",
       "1  api|package|framework|librar|stack|licens|addo...   \n",
       "2  api|package|framework|librar|stack|licens|addo...   \n",
       "3  api|package|framework|librar|stack|licens|addo...   \n",
       "4  api|package|framework|librar|stack|licens|addo...   \n",
       "5  api|package|framework|librar|stack|licens|addo...   \n",
       "6  api|package|framework|librar|stack|licens|addo...   \n",
       "7  api|package|framework|librar|stack|licens|addo...   \n",
       "8  api|package|framework|librar|stack|licens|addo...   \n",
       "9  api|package|framework|librar|stack|licens|addo...   \n",
       "\n",
       "                                         description  \\\n",
       "0  the most popular html, css, and js framework i...   \n",
       "1                                                      \n",
       "2                                                      \n",
       "3  Highcharts - Interactive JavaScript charts for...   \n",
       "4                                                      \n",
       "5                                                      \n",
       "6                                                      \n",
       "7                                                      \n",
       "8                                                      \n",
       "9                                                      \n",
       "\n",
       "                                               htext  \\\n",
       "0  Bootstrap is the most popular HTML, CSS, and J...   \n",
       "1  jScroll is a jQuery plugin for infinite scroll...   \n",
       "2  Elegant MongoDB object modeling for Node.js Mo...   \n",
       "3                           View demo Get a license    \n",
       "4  \\n                  Welcome to crossorigin.me,...   \n",
       "5                                                      \n",
       "6  Good design goes to heaven; bad design goes ev...   \n",
       "7  \\n                  Welcome to crossorigin.me,...   \n",
       "8  \\nThis demo shows you how to use a simple HTML...   \n",
       "9  This jQuery plugin makes simple clientside for...   \n",
       "\n",
       "                                            keywords  \\\n",
       "0                                                      \n",
       "1                                                      \n",
       "2                                                      \n",
       "3  highcharts, charts, javascript charts, ajax ch...   \n",
       "4                                                      \n",
       "5                                                      \n",
       "6                                                      \n",
       "7                                                      \n",
       "8                                                      \n",
       "9                                                      \n",
       "\n",
       "                                              params  \\\n",
       "0  ,/components,/components/breadcrumb/,/migratio...   \n",
       "1                 /,https://github.com/cubiq/iscroll   \n",
       "2  /docs/promises.html,/docs/populate.html,/docs/...   \n",
       "3  /samples/data/jsonp.php,/blog/192-use-highchar...   \n",
       "4  /https://en.wikipedia.org/w/api.php,/,/https:/...   \n",
       "5                                                NaN   \n",
       "6  ,/lowell-williams/&quot;},/wp-json/post/,/,/ap...   \n",
       "7  ,/http://api.open,/https://en.wikipedia.org/w/...   \n",
       "8                                                  /   \n",
       "9                                         /validate/   \n",
       "\n",
       "                     platform  \\\n",
       "0   v4-alpha.getbootstrap.com   \n",
       "1                 jscroll.com   \n",
       "2              mongoosejs.com   \n",
       "3          www.highcharts.com   \n",
       "4          www.crossorigin.me   \n",
       "5  v4-alpha.getbootstrap.com)   \n",
       "6          quotesondesign.com   \n",
       "7              crossorigin.me   \n",
       "8              minifiedjs.com   \n",
       "9        jqueryvalidation.org   \n",
       "\n",
       "                                               title wiki  \n",
       "0  \\n  \\n    bootstrap · the most popular html, c...  NaN  \n",
       "1  jscroll - a jquery plugin for infinite scrolli...  NaN  \n",
       "2                               mongoose odm v4.10.5  NaN  \n",
       "3  Interactive JavaScript charts for your webpage...  NaN  \n",
       "4                                     crossorigin.me  NaN  \n",
       "5                                                     NaN  \n",
       "6                                 quotes on design -  NaN  \n",
       "7                                     crossorigin.me  NaN  \n",
       "8  minified.js - a truly lightweight javascript l...  NaN  \n",
       "9  jquery validation plugin | form validation wit...  NaN  "
      ]
     },
     "execution_count": 57,
     "metadata": {},
     "output_type": "execute_result"
    }
   ],
   "source": [
    "pd_annotated2 = pandas.concat([pd_annotated, pd_annotatedtrans], ignore_index = True)\n",
    "pd_annotated2.head(10)"
   ]
  },
  {
   "cell_type": "markdown",
   "metadata": {},
   "source": [
    "## DATA SPLIT"
   ]
  },
  {
   "cell_type": "code",
   "execution_count": 58,
   "metadata": {
    "collapsed": true
   },
   "outputs": [],
   "source": [
    "#from sklearn.model_selection import train_test_split\n",
    "#xtrain, xtest, ytrain, ytest = train_test_split(pd_annotated.alltext, pd_annotated.category, test_size=0.1, random_state=0)"
   ]
  },
  {
   "cell_type": "code",
   "execution_count": 62,
   "metadata": {
    "collapsed": false
   },
   "outputs": [],
   "source": [
    "train2=pd_annotated2[['platform', 'alltext','category']].sample(frac=0.75,random_state=0)\n",
    "test2=pd_annotated2[['platform', 'alltext','category']].drop(train2.index)"
   ]
  },
  {
   "cell_type": "code",
   "execution_count": 63,
   "metadata": {
    "collapsed": false
   },
   "outputs": [
    {
     "data": {
      "text/html": [
       "<div>\n",
       "<table border=\"1\" class=\"dataframe\">\n",
       "  <thead>\n",
       "    <tr style=\"text-align: right;\">\n",
       "      <th></th>\n",
       "      <th>platform</th>\n",
       "      <th>alltext</th>\n",
       "      <th>category</th>\n",
       "    </tr>\n",
       "  </thead>\n",
       "  <tbody>\n",
       "    <tr>\n",
       "      <th>240</th>\n",
       "      <td>blog.soulserv.net</td>\n",
       "      <td>web start node asynchronously exiting php ju...</td>\n",
       "      <td>NEWS</td>\n",
       "    </tr>\n",
       "    <tr>\n",
       "      <th>132</th>\n",
       "      <td>cameronspear.com</td>\n",
       "      <td>cameron docker foundation first blog develop...</td>\n",
       "      <td>NEWS</td>\n",
       "    </tr>\n",
       "    <tr>\n",
       "      <th>424</th>\n",
       "      <td>docs.mashape.com</td>\n",
       "      <td>mashape manage developer bible dev javascrip...</td>\n",
       "      <td>DOCS</td>\n",
       "    </tr>\n",
       "    <tr>\n",
       "      <th>92</th>\n",
       "      <td>startupquote.com</td>\n",
       "      <td>wisdom yc quote json startup making sq read ...</td>\n",
       "      <td>PACKAGE</td>\n",
       "    </tr>\n",
       "    <tr>\n",
       "      <th>170</th>\n",
       "      <td>www.yourtechchick.com</td>\n",
       "      <td>fouc information without technology dedicate...</td>\n",
       "      <td>NEWS</td>\n",
       "    </tr>\n",
       "    <tr>\n",
       "      <th>469</th>\n",
       "      <td>mochajs.org</td>\n",
       "      <td>test flexible javascript backers mocha fun f...</td>\n",
       "      <td>PACKAGE</td>\n",
       "    </tr>\n",
       "    <tr>\n",
       "      <th>574</th>\n",
       "      <td>gruntjs.com</td>\n",
       "      <td>repetitive task minification automation basi...</td>\n",
       "      <td>PACKAGE</td>\n",
       "    </tr>\n",
       "    <tr>\n",
       "      <th>587</th>\n",
       "      <td>blogs.msdn.microsoft.com</td>\n",
       "      <td>information blogs msdn latest news javascrip...</td>\n",
       "      <td>NEWS</td>\n",
       "    </tr>\n",
       "    <tr>\n",
       "      <th>187</th>\n",
       "      <td>blog.mgechev.com</td>\n",
       "      <td>michael ajax gechev theme editorial blog con...</td>\n",
       "      <td>NEWS</td>\n",
       "    </tr>\n",
       "    <tr>\n",
       "      <th>229</th>\n",
       "      <td>saijogeorge.com</td>\n",
       "      <td>saijo name george melbourne consultants stra...</td>\n",
       "      <td>NEWS</td>\n",
       "    </tr>\n",
       "  </tbody>\n",
       "</table>\n",
       "</div>"
      ],
      "text/plain": [
       "                     platform  \\\n",
       "240         blog.soulserv.net   \n",
       "132          cameronspear.com   \n",
       "424          docs.mashape.com   \n",
       "92           startupquote.com   \n",
       "170     www.yourtechchick.com   \n",
       "469               mochajs.org   \n",
       "574               gruntjs.com   \n",
       "587  blogs.msdn.microsoft.com   \n",
       "187          blog.mgechev.com   \n",
       "229           saijogeorge.com   \n",
       "\n",
       "                                               alltext category  \n",
       "240    web start node asynchronously exiting php ju...     NEWS  \n",
       "132    cameron docker foundation first blog develop...     NEWS  \n",
       "424    mashape manage developer bible dev javascrip...     DOCS  \n",
       "92     wisdom yc quote json startup making sq read ...  PACKAGE  \n",
       "170    fouc information without technology dedicate...     NEWS  \n",
       "469    test flexible javascript backers mocha fun f...  PACKAGE  \n",
       "574    repetitive task minification automation basi...  PACKAGE  \n",
       "587    information blogs msdn latest news javascrip...     NEWS  \n",
       "187    michael ajax gechev theme editorial blog con...     NEWS  \n",
       "229    saijo name george melbourne consultants stra...     NEWS  "
      ]
     },
     "execution_count": 63,
     "metadata": {},
     "output_type": "execute_result"
    }
   ],
   "source": [
    "train2.head(10)"
   ]
  },
  {
   "cell_type": "markdown",
   "metadata": {},
   "source": [
    "## DATA MODELLING - VECTOR MODEL 2"
   ]
  },
  {
   "cell_type": "code",
   "execution_count": 64,
   "metadata": {
    "collapsed": false
   },
   "outputs": [
    {
     "data": {
      "text/plain": [
       "(446, 15480)"
      ]
     },
     "execution_count": 64,
     "metadata": {},
     "output_type": "execute_result"
    }
   ],
   "source": [
    "from sklearn.feature_extraction.text import CountVectorizer\n",
    "count_vect_r2 = CountVectorizer(ngram_range=(1,2))\n",
    "X_primercounts2 = count_vect_r2.fit_transform(train2.alltext)\n",
    "X_primercounts2.shape"
   ]
  },
  {
   "cell_type": "markdown",
   "metadata": {},
   "source": [
    "## DECISION TREE WITH ADABOOST, CLASSIFICATION 2\n",
    "\n",
    "### References:\n",
    "* http://scikit-learn.org/stable/modules/generated/sklearn.tree.DecisionTreeClassifier.html#sklearn.tree.DecisionTreeClassifier\n",
    "* http://scikit-learn.org/stable/modules/tree.html\n",
    "* https://en.wikipedia.org/wiki/AdaBoost\n",
    "* http://scikit-learn.org/stable/modules/generated/sklearn.ensemble.AdaBoostClassifier.html\n",
    "* http://scikit-learn.org/stable/auto_examples/ensemble/plot_adaboost_hastie_10_2.html#sphx-glr-auto-examples-ensemble-plot-adaboost-hastie-10-2-py\n",
    "* https://stackoverflow.com/questions/32210569/using-gridsearchcv-with-adaboost-and-decisiontreeclassifier\n",
    "* http://scikit-learn.org/stable/auto_examples/model_selection/grid_search_digits.html\n",
    "* http://scikit-learn.org/stable/tutorial/statistical_inference/model_selection.html\n",
    "\n",
    "**Also**:\n",
    "* https://stackoverflow.com/questions/33110973/pass-a-dict-to-scikit-learn-estimator\n",
    "* http://machinelearningmastery.com/how-to-tune-algorithm-parameters-with-scikit-learn/"
   ]
  },
  {
   "cell_type": "markdown",
   "metadata": {},
   "source": [
    "### Models"
   ]
  },
  {
   "cell_type": "code",
   "execution_count": 66,
   "metadata": {
    "collapsed": true
   },
   "outputs": [],
   "source": [
    "from sklearn.tree import DecisionTreeClassifier\n",
    "from sklearn.metrics import zero_one_loss\n",
    "from sklearn.ensemble import AdaBoostClassifier"
   ]
  },
  {
   "cell_type": "code",
   "execution_count": 67,
   "metadata": {
    "collapsed": false
   },
   "outputs": [],
   "source": [
    "clf_dtm_r2_stump = DecisionTreeClassifier(max_depth=1, min_samples_leaf=1, random_state=0)\n",
    "clf_dt_r2_stump = clf_dtm_r2_stump.fit(X_primercounts2, train2.category)\n",
    "\n",
    "clf_dtm_r2 = DecisionTreeClassifier(min_samples_leaf=2, random_state=0)\n",
    "clf_dt_r2 = clf_dtm_r2.fit(X_primercounts2, train2.category)"
   ]
  },
  {
   "cell_type": "markdown",
   "metadata": {},
   "source": [
    "### Exploration of the Classification"
   ]
  },
  {
   "cell_type": "code",
   "execution_count": 68,
   "metadata": {
    "collapsed": true
   },
   "outputs": [],
   "source": [
    "X_test2counts_stump = count_vect_r2.transform(test2.alltext)\n",
    "predicted_dt_r2_stump = clf_dt_r2_stump.predict(X_test2counts_stump)"
   ]
  },
  {
   "cell_type": "code",
   "execution_count": 69,
   "metadata": {
    "collapsed": false,
    "scrolled": true
   },
   "outputs": [],
   "source": [
    "#for platform, category in zip(test.platform, predicted_dt_r1_stump):\n",
    "#    print('%r => %s' % (platform, category))"
   ]
  },
  {
   "cell_type": "code",
   "execution_count": 70,
   "metadata": {
    "collapsed": true
   },
   "outputs": [],
   "source": [
    "X_test2counts = count_vect_r2.transform(test2.alltext)\n",
    "predicted_dt_r2 = clf_dt_r2.predict(X_test2counts)"
   ]
  },
  {
   "cell_type": "code",
   "execution_count": 71,
   "metadata": {
    "collapsed": false
   },
   "outputs": [],
   "source": [
    "#for platform, category in zip(test.platform, predicted_dt_r1):\n",
    "#    print('%r => %s' % (platform, category))"
   ]
  },
  {
   "cell_type": "markdown",
   "metadata": {},
   "source": [
    "### Parameter Searching for the Decision Tree"
   ]
  },
  {
   "cell_type": "code",
   "execution_count": 90,
   "metadata": {
    "collapsed": false,
    "scrolled": false
   },
   "outputs": [
    {
     "name": "stdout",
     "output_type": "stream",
     "text": [
      "# Tuning hyper-parameters for precision\n",
      "\n"
     ]
    },
    {
     "name": "stderr",
     "output_type": "stream",
     "text": [
      "/home/ec/anaconda3/lib/python3.5/site-packages/sklearn/metrics/classification.py:1113: UndefinedMetricWarning: Precision is ill-defined and being set to 0.0 in labels with no predicted samples.\n",
      "  'precision', 'predicted', average, warn_for)\n",
      "/home/ec/anaconda3/lib/python3.5/site-packages/sklearn/metrics/classification.py:1113: UndefinedMetricWarning: Precision is ill-defined and being set to 0.0 in labels with no predicted samples.\n",
      "  'precision', 'predicted', average, warn_for)\n",
      "/home/ec/anaconda3/lib/python3.5/site-packages/sklearn/metrics/classification.py:1113: UndefinedMetricWarning: Precision is ill-defined and being set to 0.0 in labels with no predicted samples.\n",
      "  'precision', 'predicted', average, warn_for)\n",
      "/home/ec/anaconda3/lib/python3.5/site-packages/sklearn/metrics/classification.py:1113: UndefinedMetricWarning: Precision is ill-defined and being set to 0.0 in labels with no predicted samples.\n",
      "  'precision', 'predicted', average, warn_for)\n",
      "/home/ec/anaconda3/lib/python3.5/site-packages/sklearn/metrics/classification.py:1113: UndefinedMetricWarning: Precision is ill-defined and being set to 0.0 in labels with no predicted samples.\n",
      "  'precision', 'predicted', average, warn_for)\n",
      "/home/ec/anaconda3/lib/python3.5/site-packages/sklearn/metrics/classification.py:1113: UndefinedMetricWarning: Precision is ill-defined and being set to 0.0 in labels with no predicted samples.\n",
      "  'precision', 'predicted', average, warn_for)\n",
      "/home/ec/anaconda3/lib/python3.5/site-packages/sklearn/metrics/classification.py:1113: UndefinedMetricWarning: Precision is ill-defined and being set to 0.0 in labels with no predicted samples.\n",
      "  'precision', 'predicted', average, warn_for)\n",
      "/home/ec/anaconda3/lib/python3.5/site-packages/sklearn/metrics/classification.py:1113: UndefinedMetricWarning: Precision is ill-defined and being set to 0.0 in labels with no predicted samples.\n",
      "  'precision', 'predicted', average, warn_for)\n",
      "/home/ec/anaconda3/lib/python3.5/site-packages/sklearn/metrics/classification.py:1113: UndefinedMetricWarning: Precision is ill-defined and being set to 0.0 in labels with no predicted samples.\n",
      "  'precision', 'predicted', average, warn_for)\n",
      "/home/ec/anaconda3/lib/python3.5/site-packages/sklearn/metrics/classification.py:1113: UndefinedMetricWarning: Precision is ill-defined and being set to 0.0 in labels with no predicted samples.\n",
      "  'precision', 'predicted', average, warn_for)\n",
      "/home/ec/anaconda3/lib/python3.5/site-packages/sklearn/metrics/classification.py:1113: UndefinedMetricWarning: Precision is ill-defined and being set to 0.0 in labels with no predicted samples.\n",
      "  'precision', 'predicted', average, warn_for)\n",
      "/home/ec/anaconda3/lib/python3.5/site-packages/sklearn/metrics/classification.py:1113: UndefinedMetricWarning: Precision is ill-defined and being set to 0.0 in labels with no predicted samples.\n",
      "  'precision', 'predicted', average, warn_for)\n",
      "/home/ec/anaconda3/lib/python3.5/site-packages/sklearn/metrics/classification.py:1113: UndefinedMetricWarning: Precision is ill-defined and being set to 0.0 in labels with no predicted samples.\n",
      "  'precision', 'predicted', average, warn_for)\n",
      "/home/ec/anaconda3/lib/python3.5/site-packages/sklearn/metrics/classification.py:1113: UndefinedMetricWarning: Precision is ill-defined and being set to 0.0 in labels with no predicted samples.\n",
      "  'precision', 'predicted', average, warn_for)\n",
      "/home/ec/anaconda3/lib/python3.5/site-packages/sklearn/metrics/classification.py:1113: UndefinedMetricWarning: Precision is ill-defined and being set to 0.0 in labels with no predicted samples.\n",
      "  'precision', 'predicted', average, warn_for)\n",
      "/home/ec/anaconda3/lib/python3.5/site-packages/sklearn/metrics/classification.py:1113: UndefinedMetricWarning: Precision is ill-defined and being set to 0.0 in labels with no predicted samples.\n",
      "  'precision', 'predicted', average, warn_for)\n",
      "/home/ec/anaconda3/lib/python3.5/site-packages/sklearn/metrics/classification.py:1113: UndefinedMetricWarning: Precision is ill-defined and being set to 0.0 in labels with no predicted samples.\n",
      "  'precision', 'predicted', average, warn_for)\n",
      "/home/ec/anaconda3/lib/python3.5/site-packages/sklearn/metrics/classification.py:1113: UndefinedMetricWarning: Precision is ill-defined and being set to 0.0 in labels with no predicted samples.\n",
      "  'precision', 'predicted', average, warn_for)\n",
      "/home/ec/anaconda3/lib/python3.5/site-packages/sklearn/metrics/classification.py:1113: UndefinedMetricWarning: Precision is ill-defined and being set to 0.0 in labels with no predicted samples.\n",
      "  'precision', 'predicted', average, warn_for)\n",
      "/home/ec/anaconda3/lib/python3.5/site-packages/sklearn/metrics/classification.py:1113: UndefinedMetricWarning: Precision is ill-defined and being set to 0.0 in labels with no predicted samples.\n",
      "  'precision', 'predicted', average, warn_for)\n"
     ]
    },
    {
     "name": "stdout",
     "output_type": "stream",
     "text": [
      "Best parameters set found on development set:\n",
      "\n",
      "{'max_depth': 21}\n",
      "\n",
      "Grid scores on development set:\n",
      "\n",
      "0.179 (+/-0.031) for {'max_depth': 5}\n",
      "0.195 (+/-0.001) for {'max_depth': 7}\n",
      "0.177 (+/-0.070) for {'max_depth': 9}\n",
      "0.184 (+/-0.047) for {'max_depth': 11}\n",
      "0.173 (+/-0.030) for {'max_depth': 13}\n",
      "0.189 (+/-0.057) for {'max_depth': 15}\n",
      "0.220 (+/-0.002) for {'max_depth': 17}\n",
      "0.211 (+/-0.009) for {'max_depth': 19}\n",
      "0.236 (+/-0.027) for {'max_depth': 21}\n",
      "0.202 (+/-0.060) for {'max_depth': 23}\n",
      "\n",
      "Detailed classification report:\n",
      "\n",
      "The model is trained on the full development set.\n",
      "The scores are computed on the full evaluation set.\n",
      "\n",
      "             precision    recall  f1-score   support\n",
      "\n",
      "   BUSINESS       0.00      0.00      0.00         2\n",
      "   COMMUITY       0.00      0.00      0.00         2\n",
      "       DOCS       0.00      0.00      0.00         3\n",
      "  ECOMMERCE       0.00      0.00      0.00         0\n",
      "       NEWS       0.52      0.81      0.63        58\n",
      "    NOCLASS       0.00      0.00      0.00         9\n",
      "       PAAS       0.00      0.00      0.00         3\n",
      "    PACKAGE       0.54      0.38      0.45        34\n",
      "       REPL       0.00      0.00      0.00         7\n",
      "      THEME       0.67      0.22      0.33         9\n",
      "   TRAINING       0.67      0.48      0.56        21\n",
      "\n",
      "avg / total       0.46      0.49      0.45       148\n",
      "\n",
      "\n",
      "# Tuning hyper-parameters for recall\n",
      "\n"
     ]
    },
    {
     "name": "stderr",
     "output_type": "stream",
     "text": [
      "/home/ec/anaconda3/lib/python3.5/site-packages/sklearn/metrics/classification.py:1115: UndefinedMetricWarning: Recall and F-score are ill-defined and being set to 0.0 in labels with no true samples.\n",
      "  'recall', 'true', average, warn_for)\n"
     ]
    },
    {
     "name": "stdout",
     "output_type": "stream",
     "text": [
      "Best parameters set found on development set:\n",
      "\n",
      "{'max_depth': 21}\n",
      "\n",
      "Grid scores on development set:\n",
      "\n",
      "0.172 (+/-0.007) for {'max_depth': 5}\n",
      "0.157 (+/-0.014) for {'max_depth': 7}\n",
      "0.164 (+/-0.038) for {'max_depth': 9}\n",
      "0.165 (+/-0.010) for {'max_depth': 11}\n",
      "0.162 (+/-0.005) for {'max_depth': 13}\n",
      "0.185 (+/-0.045) for {'max_depth': 15}\n",
      "0.215 (+/-0.005) for {'max_depth': 17}\n",
      "0.200 (+/-0.001) for {'max_depth': 19}\n",
      "0.231 (+/-0.034) for {'max_depth': 21}\n",
      "0.226 (+/-0.026) for {'max_depth': 23}\n",
      "\n",
      "Detailed classification report:\n",
      "\n",
      "The model is trained on the full development set.\n",
      "The scores are computed on the full evaluation set.\n",
      "\n",
      "             precision    recall  f1-score   support\n",
      "\n",
      "   BUSINESS       0.00      0.00      0.00         2\n",
      "   COMMUITY       0.00      0.00      0.00         2\n",
      "       DOCS       0.00      0.00      0.00         3\n",
      "  ECOMMERCE       0.00      0.00      0.00         0\n",
      "       NEWS       0.52      0.81      0.63        58\n",
      "    NOCLASS       0.00      0.00      0.00         9\n",
      "       PAAS       0.00      0.00      0.00         3\n",
      "    PACKAGE       0.54      0.38      0.45        34\n",
      "       REPL       0.00      0.00      0.00         7\n",
      "      THEME       0.67      0.22      0.33         9\n",
      "   TRAINING       0.67      0.48      0.56        21\n",
      "\n",
      "avg / total       0.46      0.49      0.45       148\n",
      "\n",
      "\n"
     ]
    },
    {
     "name": "stderr",
     "output_type": "stream",
     "text": [
      "/home/ec/anaconda3/lib/python3.5/site-packages/sklearn/metrics/classification.py:1115: UndefinedMetricWarning: Recall and F-score are ill-defined and being set to 0.0 in labels with no true samples.\n",
      "  'recall', 'true', average, warn_for)\n"
     ]
    }
   ],
   "source": [
    "from sklearn.model_selection import GridSearchCV\n",
    "from sklearn.metrics import classification_report\n",
    "\n",
    "# Set the parameters by cross-validation\n",
    "tuned_parameters = [{'max_depth': numpy.arange(5,25,2)}]\n",
    "scores = ['precision', 'recall']\n",
    "\n",
    "for score in scores:\n",
    "    print(\"# Tuning hyper-parameters for %s\" % score)\n",
    "    print()\n",
    "\n",
    "    clf = GridSearchCV(clf_dtm_r2, tuned_parameters, cv=2,\n",
    "                       scoring='%s_macro' % score)\n",
    "    clf.fit(X_primercounts2, train2.category)\n",
    "\n",
    "    print(\"Best parameters set found on development set:\")\n",
    "    print()\n",
    "    print(clf.best_params_)\n",
    "    print()\n",
    "    print(\"Grid scores on development set:\")\n",
    "    print()\n",
    "    means = clf.cv_results_['mean_test_score']\n",
    "    stds = clf.cv_results_['std_test_score']\n",
    "    for mean, std, params in zip(means, stds, clf.cv_results_['params']):\n",
    "        print(\"%0.3f (+/-%0.03f) for %r\"\n",
    "              % (mean, std * 2, params))\n",
    "    print()\n",
    "\n",
    "    print(\"Detailed classification report:\")\n",
    "    print()\n",
    "    print(\"The model is trained on the full development set.\")\n",
    "    print(\"The scores are computed on the full evaluation set.\")\n",
    "    print()\n",
    "    y_true, y_predsearch = test2.category, clf.predict(X_test2counts)\n",
    "    print(classification_report(y_true, y_predsearch))\n",
    "    print()"
   ]
  },
  {
   "cell_type": "code",
   "execution_count": 91,
   "metadata": {
    "collapsed": false
   },
   "outputs": [
    {
     "name": "stderr",
     "output_type": "stream",
     "text": [
      "/home/ec/anaconda3/lib/python3.5/site-packages/sklearn/metrics/classification.py:1115: UndefinedMetricWarning: Recall is ill-defined and being set to 0.0 in labels with no true samples.\n",
      "  'recall', 'true', average, warn_for)\n"
     ]
    }
   ],
   "source": [
    "X_test2counts_stump = count_vect_r2.transform(test2.alltext)\n",
    "clf_dt_r2_stump_err = 1.0 - clf_dt_r2_stump.score(X_test2counts_stump, test2.category)\n",
    "X_test2count = count_vect_r2.transform(test2.alltext)\n",
    "clf_dt_r2_err = 1.0 - clf.score(X_test2counts, test2.category)"
   ]
  },
  {
   "cell_type": "code",
   "execution_count": 92,
   "metadata": {
    "collapsed": false,
    "scrolled": true
   },
   "outputs": [
    {
     "name": "stdout",
     "output_type": "stream",
     "text": [
      "0.608108108108 0.82808086662\n"
     ]
    }
   ],
   "source": [
    "print(clf_dt_r2_stump_err,clf_dt_r2_err)"
   ]
  },
  {
   "cell_type": "code",
   "execution_count": 93,
   "metadata": {
    "collapsed": false
   },
   "outputs": [
    {
     "name": "stdout",
     "output_type": "stream",
     "text": [
      "{'max_depth': 21}\n"
     ]
    }
   ],
   "source": [
    "print(clf.best_params_)"
   ]
  },
  {
   "cell_type": "markdown",
   "metadata": {},
   "source": [
    "### AdaBoost"
   ]
  },
  {
   "cell_type": "code",
   "execution_count": 100,
   "metadata": {
    "collapsed": false,
    "scrolled": false
   },
   "outputs": [
    {
     "data": {
      "image/png": "[encoded data removed]",
      "text/plain": [
       "<matplotlib.figure.Figure at 0x7fce0346cef0>"
      ]
     },
     "metadata": {},
     "output_type": "display_data"
    }
   ],
   "source": [
    "n_estimators = 40\n",
    "# A learning rate of 1. may not be optimal for both SAMME and SAMME.R\n",
    "learning_rate = .2\n",
    "\n",
    "\n",
    "#IMPORTANT... https://stackoverflow.com/questions/33110973/pass-a-dict-to-scikit-learn-estimator\n",
    "clf_dtm_r2.set_params(**clf.best_params_)\n",
    "clf_dt_r2 = clf_dtm_r2.fit(X_primercounts2, train2.category)\n",
    "\n",
    "ada_discrete = AdaBoostClassifier(\n",
    "    base_estimator = clf_dtm_r2,\n",
    "    learning_rate=learning_rate,\n",
    "    n_estimators=n_estimators,\n",
    "    algorithm=\"SAMME\")\n",
    "ada_discrete.fit(X_primercounts2, train2.category)\n",
    "\n",
    "fig = plt.figure()\n",
    "ax = fig.add_subplot(111)\n",
    "\n",
    "ax.plot([1, n_estimators], [clf_dt_r2_stump_err] * 2, 'k-',\n",
    "        label='Decision Stump Error')\n",
    "ax.plot([1, n_estimators], [clf_dt_r2_err] * 2, 'k--',\n",
    "        label='Decision Tree Error')\n",
    "\n",
    "ada_discrete_err = numpy.zeros((n_estimators,))\n",
    "for i, y_pred in enumerate(ada_discrete.staged_predict(X_test2counts)):\n",
    "    ada_discrete_err[i] = zero_one_loss(y_pred, test2.category)\n",
    "\n",
    "ada_discrete_err_train = numpy.zeros((n_estimators,))\n",
    "for i, y_pred in enumerate(ada_discrete.staged_predict(X_primercounts2)):\n",
    "    ada_discrete_err_train[i] = zero_one_loss(y_pred, train2.category)\n",
    "\n",
    "ax.plot(numpy.arange(n_estimators) + 1, ada_discrete_err,\n",
    "        label='Discrete AdaBoost Test Error',\n",
    "        color='red')\n",
    "ax.plot(numpy.arange(n_estimators) + 1, ada_discrete_err_train,\n",
    "        label='Discrete AdaBoost Train Error',\n",
    "        color='blue')\n",
    "\n",
    "ax.set_ylim((0.0, 1.0))\n",
    "ax.set_xlabel('n_estimators')\n",
    "ax.set_ylabel('error rate')\n",
    "\n",
    "leg = ax.legend(loc='upper right', fancybox=True)\n",
    "leg.get_frame().set_alpha(0.7)\n",
    "\n",
    "plt.show()"
   ]
  },
  {
   "cell_type": "code",
   "execution_count": 95,
   "metadata": {
    "collapsed": false
   },
   "outputs": [
    {
     "ename": "SyntaxError",
     "evalue": "invalid syntax (<ipython-input-95-9e393413bcf7>, line 1)",
     "output_type": "error",
     "traceback": [
      "\u001b[1;36m  File \u001b[1;32m\"<ipython-input-95-9e393413bcf7>\"\u001b[1;36m, line \u001b[1;32m1\u001b[0m\n\u001b[1;33m    Stop HERE!\u001b[0m\n\u001b[1;37m            ^\u001b[0m\n\u001b[1;31mSyntaxError\u001b[0m\u001b[1;31m:\u001b[0m invalid syntax\n"
     ]
    }
   ],
   "source": [
    "Stop HERE!"
   ]
  },
  {
   "cell_type": "code",
   "execution_count": null,
   "metadata": {
    "collapsed": true
   },
   "outputs": [],
   "source": [
    "with open(os.getcwd()+'/data/adaboostmodel1.pkl', 'bw') as mod:\n",
    "    pickle.dump([train, test, train.alltext, train.category, count_vect_r1, X_primercounts, clf_dtm_r1, clf_dt_r1, ada_discrete, n_estimators, learning_rate], mod)"
   ]
  },
  {
   "cell_type": "markdown",
   "metadata": {},
   "source": [
    "## Classifying unlabelled records"
   ]
  },
  {
   "cell_type": "code",
   "execution_count": null,
   "metadata": {
    "collapsed": true
   },
   "outputs": [],
   "source": [
    "X_unclass1counts = count_vect_r1.transform(pd_notated.alltext)\n",
    "#normalized_X_testround1_counts = sklearn.feature_extraction.text.TfidfTransformer(norm='l2').fit_transform(X_testround1_counts)\n",
    "predicted_dtada_r1 = ada_discrete.predict(X_unclass1counts)"
   ]
  },
  {
   "cell_type": "code",
   "execution_count": null,
   "metadata": {
    "collapsed": false,
    "scrolled": false
   },
   "outputs": [],
   "source": [
    "for platform, category in zip(pd_notated.platform, predicted_dtada_r1):\n",
    "    print('%r => %s' % (platform, category))"
   ]
  },
  {
   "cell_type": "code",
   "execution_count": null,
   "metadata": {
    "collapsed": false
   },
   "outputs": [],
   "source": [
    "with open(os.getcwd()+'/data/abadt_1.csv', 'w') as outfile:\n",
    "    writer = csv.writer(outfile, delimiter=';', quotechar=\"'\")\n",
    "    writer.writerow(['platform','assignedcategory','checked','category'])\n",
    "    for platform, category in zip(pd_notated.platform, predicted_dtada_r1):\n",
    "        #print('%r => %s' % (platform, category))\n",
    "        writer.writerow([platform,category,,])"
   ]
  },
  {
   "cell_type": "markdown",
   "metadata": {},
   "source": [
    "# DUMPED!!!!!!!!!!!!!!!!!!!!!!!!!!!!!!!!"
   ]
  },
  {
   "cell_type": "code",
   "execution_count": null,
   "metadata": {
    "collapsed": true
   },
   "outputs": [],
   "source": [
    "here stop"
   ]
  },
  {
   "cell_type": "code",
   "execution_count": null,
   "metadata": {
    "collapsed": true
   },
   "outputs": [],
   "source": [
    "from sklearn.model_selection import cross_val_score\n",
    "from sklearn.pipeline import make_pipeline\n",
    "from sklearn.model_selection import cross_val_predict\n",
    "from sklearn import metrics"
   ]
  },
  {
   "cell_type": "markdown",
   "metadata": {},
   "source": [
    "## RANDOM FOREST, CLASSIFICATION 1\n",
    "\n",
    "### References:\n",
    "* http://scikit-learn.org/stable/modules/generated/sklearn.ensemble.RandomForestClassifier.html\n",
    "* http://scikit-learn.org/stable/modules/ensemble.html#forest"
   ]
  },
  {
   "cell_type": "markdown",
   "metadata": {},
   "source": [
    "### Models"
   ]
  },
  {
   "cell_type": "code",
   "execution_count": null,
   "metadata": {
    "collapsed": true
   },
   "outputs": [],
   "source": [
    "from sklearn.ensemble import RandomForestClassifier\n",
    "from sklearn.metrics import zero_one_loss"
   ]
  },
  {
   "cell_type": "code",
   "execution_count": null,
   "metadata": {
    "collapsed": false
   },
   "outputs": [],
   "source": [
    "n_estimators = 25\n",
    "# A learning rate of 1. may not be optimal for both SAMME and SAMME.R\n",
    "learning_rate = 1.\n",
    "\n",
    "clf_rfm_r1_stump = RandomForestClassifier(max_depth=1, min_samples_leaf=1, n_estimators=n_estimators, random_state=0)\n",
    "clf_rf_r1_stump = clf_rfm_r1_stump.fit(X_primercounts, train.category)\n",
    "\n",
    "clf_rfm_r1 = RandomForestClassifier(max_depth=15, min_samples_leaf=2, n_estimators=n_estimators, random_state=0)\n",
    "clf_rf_r1 = clf_rfm_r1.fit(X_primercounts, train.category)"
   ]
  },
  {
   "cell_type": "markdown",
   "metadata": {},
   "source": [
    "### Classification"
   ]
  },
  {
   "cell_type": "code",
   "execution_count": null,
   "metadata": {
    "collapsed": true
   },
   "outputs": [],
   "source": [
    "X_test1counts_stump = count_vect_r1.transform(test.alltext)\n",
    "predicted_rf_r1_stump = clf_rf_r1_stump.predict(X_test1counts_stump)"
   ]
  },
  {
   "cell_type": "code",
   "execution_count": null,
   "metadata": {
    "collapsed": false,
    "scrolled": true
   },
   "outputs": [],
   "source": [
    "for platform, category in zip(test.platform, predicted_rf_r1_stump):\n",
    "    print('%r => %s' % (platform, category))"
   ]
  },
  {
   "cell_type": "code",
   "execution_count": null,
   "metadata": {
    "collapsed": true
   },
   "outputs": [],
   "source": [
    "X_test1counts = count_vect_r1.transform(test.alltext)\n",
    "predicted_rf_r1 = clf_rf_r1.predict(X_test1counts)"
   ]
  },
  {
   "cell_type": "code",
   "execution_count": null,
   "metadata": {
    "collapsed": false
   },
   "outputs": [],
   "source": [
    "for platform, category in zip(test.platform, predicted_rf_r1):\n",
    "    print('%r => %s' % (platform, category))"
   ]
  },
  {
   "cell_type": "code",
   "execution_count": null,
   "metadata": {
    "collapsed": false
   },
   "outputs": [],
   "source": [
    "X_test1counts_stump = count_vect_r1.transform(test.alltext)\n",
    "clf_rf_r1_stump_err = 1.0 - clf_rf_r1_stump.score(X_test1counts_stump, test.category)\n",
    "X_test1count = count_vect_r1.transform(test.alltext)\n",
    "clf_rf_r1_err = 1.0 - clf_rf_r1.score(X_test1counts, test.category)"
   ]
  },
  {
   "cell_type": "code",
   "execution_count": null,
   "metadata": {
    "collapsed": false
   },
   "outputs": [],
   "source": [
    "print(clf_rf_r1_stump_err,clf_rf_r1_err)"
   ]
  }
 ],
 "metadata": {
  "anaconda-cloud": {},
  "kernelspec": {
   "display_name": "Python [Root]",
   "language": "python",
   "name": "Python [Root]"
  },
  "language_info": {
   "codemirror_mode": {
    "name": "ipython",
    "version": 3
   },
   "file_extension": ".py",
   "mimetype": "text/x-python",
   "name": "python",
   "nbconvert_exporter": "python",
   "pygments_lexer": "ipython3",
   "version": "3.5.2"
  }
 },
 "nbformat": 4,
 "nbformat_minor": 0
}
