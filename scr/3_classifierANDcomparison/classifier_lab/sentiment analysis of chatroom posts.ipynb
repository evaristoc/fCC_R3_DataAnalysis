{
 "cells": [
  {
   "cell_type": "markdown",
   "metadata": {},
   "source": [
    "# PHASE 1: Sentiment Analysis - Posts in a Chatroom Mentioning a Resource"
   ]
  },
  {
   "cell_type": "markdown",
   "metadata": {},
   "source": [
    "This script is being used to test supervised learning methods to practice sentiment analysis over chatroom posts, specifically the ones mentioning targeted resources as url links.\n",
    "\n",
    "The script is being used to have some idea of the feasibility of a ML approach for sentiment analysis for this particular case, as well as to compare some methodologies that could be used in  full implementation later on. \n",
    "\n",
    "### METHOD\n",
    "\n",
    "#### Data Preparation\n",
    "\n",
    "Data were all posts between May-16 and Mar-17 in the freeCodeCamp Gitter chatroom \"HelpBackEnd\". The posts selected were those mentioning specified urls or platforms - url selection rules have been mentioned in another section.\n",
    "\n",
    "As training set I took a fraction of two kaggle competition datasets:\n",
    "\n",
    "* The dataset from this competition: https://www.kaggle.com/crowdflower/twitter-airline-sentiment, focused on airlines\n",
    "* The one for this competition: https://inclass.kaggle.com/c/si650winter11, BUT extractedfrom this source http://thinknook.com/twitter-sentiment-analysis-training-corpus-dataset-2012-09-22/, which seemed to be more complete and updated.\n",
    "\n",
    "No many other comparisons between different possible training datasets have been made so far.\n",
    "\n",
    "Both datasets were chosen for having enough similarity to the problem faced on this project: we are not trying to compare the sentiment of a conversation: *only the apparent sentiment of the post where the link was mentioned*.\n",
    "\n",
    "All text at both, training and test datasets, were treated before comparison.\n",
    "\n",
    "#### Analysis\n",
    "\n",
    "The sentiment analysis practiced is here was more of **polarity**. The only supervised methods tested so far was **k-Nearest Neighbour (kNN)**. Their selection was motivated by their simplicity. It has been also used for sentiment analysis.\n",
    "\n",
    "This analysis lacks of related corpus to the data being analysed. It is assumed that the kNN will cope better with that situation, although this assumption is not based on any evaluation.\n",
    "\n",
    "Posts were compared grouping them by resource they referred to. The sentiment analysis was done only **within** those groups, not between those groups. What it is being used as comparison between groups is the **average sentiment** obtained from the comparison within.\n",
    "\n",
    "As a general rule, only the similarity to the first 100 neighbours that existed in the training dataset were considered to make the average.\n",
    "\n",
    "**Be aware that** the analysis was done **without accuracy analysis**. There is no existing annotated test dataset to allow that. Therefore results were taken as *it is*. For this project though **there is an interest in the general trend than in the accuracy/precision of the classification**.\n",
    "\n",
    "\n",
    "### RESULTS so far...\n",
    "\n",
    "The results can be commented qualitatively.\n",
    "\n",
    "### OBSERVATIONS\n",
    "\n",
    "Some other interested datasets and links to look for:\n",
    "suggested by @mesmoiron\n",
    "* https://corplinguistics.wordpress.com/tag/twitter/\n",
    "* https://gist.github.com/emaadmanzoor/5019020\n",
    "* http://trec.nist.gov/data/tweets/\n",
    "* http://thinknook.com/twitter-sentiment-analysis-training-corpus-dataset-2012-09-22/\n",
    "* http://users.sussex.ac.uk/~johnca/papers/wassa10.pdf\n",
    "* http://jmcauley.ucsd.edu/data/amazon/\n",
    "\n",
    "others:\n",
    "* http://www.sananalytics.com/news/index.php\n",
    "* https://www.kaggle.com/sonaam1234/sentimentdata\n",
    "* https://www.crowdflower.com/data-for-everyone/\n"
   ]
  },
  {
   "cell_type": "markdown",
   "metadata": {},
   "source": [
    "## References\n",
    "http://text-processing.com/demo/sentiment/; https://bitbucket.org/japerk/nltk-trainer/src\n",
    "http://www.nltk.org/howto/sentiment.html\n",
    "https://www.kaggle.com/ngyptr/python-nltk-sentiment-analysis\n",
    "http://www.nltk.org/api/nltk.sentiment.html\n",
    "http://nlpforhackers.io/sentiment-analysis-intro/\n",
    "https://www.kaggle.com/c/word2vec-nlp-tutorial/data\n",
    "http://www.markhneedham.com/blog/2013/11/09/python-making-scikit-learn-and-pandas-play-nice/\n",
    "\n",
    "IN JAVASCRIPT\n",
    "https://egghead.io/lessons/javascript-compare-similarity-of-strings-through-string-distance-in-natural\n",
    "\n",
    "\n",
    "https://stackoverflow.com/questions/39682124/using-pandas-and-sklearn-neighbors\n",
    "https://kevinzakka.github.io/2016/07/13/k-nearest-neighbor/\n",
    "http://scikit-learn.org/stable/modules/generated/sklearn.neighbors.KNeighborsClassifier.html\n",
    "https://discuss.analyticsvidhya.com/t/how-to-read-zip-file-directly-in-python/1659\n",
    "http://thinknook.com/twitter-sentiment-analysis-training-corpus-dataset-2012-09-22/\n",
    "https://stackoverflow.com/questions/38265888/handing-conversion-from-bytes-to-string-when-not-explicitly-opening-a-file-in-py\n"
   ]
  },
  {
   "cell_type": "markdown",
   "metadata": {},
   "source": [
    "## Main Python Libraries"
   ]
  },
  {
   "cell_type": "code",
   "execution_count": 1,
   "metadata": {
    "collapsed": false
   },
   "outputs": [],
   "source": [
    "import os, sys\n",
    "import csv, json\n",
    "#http://blog.revolutionanalytics.com/2016/01/pipelining-r-python.html\\n\",\n",
    "import urllib, urllib.request, urllib.parse\n",
    "import json, re\n",
    "#from datetime import datetime, date, timedelta\n",
    "import datetime\n",
    "import numpy, scipy, pandas\n",
    "import collections, itertools, copy, operator\n",
    "import datetime\n",
    "import zipfile, pickle\n",
    "import nltk, re\n",
    "from bs4 import BeautifulSoup\n",
    "%matplotlib inline\n",
    "import matplotlib.pyplot as plt\n",
    "plt.style.use('ggplot')\n",
    "#sys.path.append('/ec/home/anaconda3/nltk_data')\\n\",\n",
    "nltk.data.path.append('/home/ec/anaconda3/nltk_data') #an unfortunate hack for now... need to create a relative link"
   ]
  },
  {
   "cell_type": "markdown",
   "metadata": {},
   "source": [
    "## Extracting Training and Test Datasets"
   ]
  },
  {
   "cell_type": "code",
   "execution_count": null,
   "metadata": {
    "collapsed": true
   },
   "outputs": [],
   "source": [
    "directory = config.directory"
   ]
  },
  {
   "cell_type": "code",
   "execution_count": 49,
   "metadata": {
    "collapsed": false
   },
   "outputs": [],
   "source": [
    "training = pandas.read_csv(directory+'Tweets.csv')"
   ]
  },
  {
   "cell_type": "code",
   "execution_count": 50,
   "metadata": {
    "collapsed": false
   },
   "outputs": [
    {
     "data": {
      "text/html": [
       "<div>\n",
       "<table border=\"1\" class=\"dataframe\">\n",
       "  <thead>\n",
       "    <tr style=\"text-align: right;\">\n",
       "      <th></th>\n",
       "      <th>tweet_id</th>\n",
       "      <th>airline_sentiment</th>\n",
       "      <th>airline_sentiment_confidence</th>\n",
       "      <th>negativereason</th>\n",
       "      <th>negativereason_confidence</th>\n",
       "      <th>airline</th>\n",
       "      <th>airline_sentiment_gold</th>\n",
       "      <th>name</th>\n",
       "      <th>negativereason_gold</th>\n",
       "      <th>retweet_count</th>\n",
       "      <th>text</th>\n",
       "      <th>tweet_coord</th>\n",
       "      <th>tweet_created</th>\n",
       "      <th>tweet_location</th>\n",
       "      <th>user_timezone</th>\n",
       "    </tr>\n",
       "  </thead>\n",
       "  <tbody>\n",
       "    <tr>\n",
       "      <th>0</th>\n",
       "      <td>570306133677760513</td>\n",
       "      <td>neutral</td>\n",
       "      <td>1.0000</td>\n",
       "      <td>NaN</td>\n",
       "      <td>NaN</td>\n",
       "      <td>Virgin America</td>\n",
       "      <td>NaN</td>\n",
       "      <td>cairdin</td>\n",
       "      <td>NaN</td>\n",
       "      <td>0</td>\n",
       "      <td>@VirginAmerica What @dhepburn said.</td>\n",
       "      <td>NaN</td>\n",
       "      <td>2015-02-24 11:35:52 -0800</td>\n",
       "      <td>NaN</td>\n",
       "      <td>Eastern Time (US &amp; Canada)</td>\n",
       "    </tr>\n",
       "    <tr>\n",
       "      <th>1</th>\n",
       "      <td>570301130888122368</td>\n",
       "      <td>positive</td>\n",
       "      <td>0.3486</td>\n",
       "      <td>NaN</td>\n",
       "      <td>0.0000</td>\n",
       "      <td>Virgin America</td>\n",
       "      <td>NaN</td>\n",
       "      <td>jnardino</td>\n",
       "      <td>NaN</td>\n",
       "      <td>0</td>\n",
       "      <td>@VirginAmerica plus you've added commercials t...</td>\n",
       "      <td>NaN</td>\n",
       "      <td>2015-02-24 11:15:59 -0800</td>\n",
       "      <td>NaN</td>\n",
       "      <td>Pacific Time (US &amp; Canada)</td>\n",
       "    </tr>\n",
       "    <tr>\n",
       "      <th>2</th>\n",
       "      <td>570301083672813571</td>\n",
       "      <td>neutral</td>\n",
       "      <td>0.6837</td>\n",
       "      <td>NaN</td>\n",
       "      <td>NaN</td>\n",
       "      <td>Virgin America</td>\n",
       "      <td>NaN</td>\n",
       "      <td>yvonnalynn</td>\n",
       "      <td>NaN</td>\n",
       "      <td>0</td>\n",
       "      <td>@VirginAmerica I didn't today... Must mean I n...</td>\n",
       "      <td>NaN</td>\n",
       "      <td>2015-02-24 11:15:48 -0800</td>\n",
       "      <td>Lets Play</td>\n",
       "      <td>Central Time (US &amp; Canada)</td>\n",
       "    </tr>\n",
       "    <tr>\n",
       "      <th>3</th>\n",
       "      <td>570301031407624196</td>\n",
       "      <td>negative</td>\n",
       "      <td>1.0000</td>\n",
       "      <td>Bad Flight</td>\n",
       "      <td>0.7033</td>\n",
       "      <td>Virgin America</td>\n",
       "      <td>NaN</td>\n",
       "      <td>jnardino</td>\n",
       "      <td>NaN</td>\n",
       "      <td>0</td>\n",
       "      <td>@VirginAmerica it's really aggressive to blast...</td>\n",
       "      <td>NaN</td>\n",
       "      <td>2015-02-24 11:15:36 -0800</td>\n",
       "      <td>NaN</td>\n",
       "      <td>Pacific Time (US &amp; Canada)</td>\n",
       "    </tr>\n",
       "    <tr>\n",
       "      <th>4</th>\n",
       "      <td>570300817074462722</td>\n",
       "      <td>negative</td>\n",
       "      <td>1.0000</td>\n",
       "      <td>Can't Tell</td>\n",
       "      <td>1.0000</td>\n",
       "      <td>Virgin America</td>\n",
       "      <td>NaN</td>\n",
       "      <td>jnardino</td>\n",
       "      <td>NaN</td>\n",
       "      <td>0</td>\n",
       "      <td>@VirginAmerica and it's a really big bad thing...</td>\n",
       "      <td>NaN</td>\n",
       "      <td>2015-02-24 11:14:45 -0800</td>\n",
       "      <td>NaN</td>\n",
       "      <td>Pacific Time (US &amp; Canada)</td>\n",
       "    </tr>\n",
       "  </tbody>\n",
       "</table>\n",
       "</div>"
      ],
      "text/plain": [
       "             tweet_id airline_sentiment  airline_sentiment_confidence  \\\n",
       "0  570306133677760513           neutral                        1.0000   \n",
       "1  570301130888122368          positive                        0.3486   \n",
       "2  570301083672813571           neutral                        0.6837   \n",
       "3  570301031407624196          negative                        1.0000   \n",
       "4  570300817074462722          negative                        1.0000   \n",
       "\n",
       "  negativereason  negativereason_confidence         airline  \\\n",
       "0            NaN                        NaN  Virgin America   \n",
       "1            NaN                     0.0000  Virgin America   \n",
       "2            NaN                        NaN  Virgin America   \n",
       "3     Bad Flight                     0.7033  Virgin America   \n",
       "4     Can't Tell                     1.0000  Virgin America   \n",
       "\n",
       "  airline_sentiment_gold        name negativereason_gold  retweet_count  \\\n",
       "0                    NaN     cairdin                 NaN              0   \n",
       "1                    NaN    jnardino                 NaN              0   \n",
       "2                    NaN  yvonnalynn                 NaN              0   \n",
       "3                    NaN    jnardino                 NaN              0   \n",
       "4                    NaN    jnardino                 NaN              0   \n",
       "\n",
       "                                                text tweet_coord  \\\n",
       "0                @VirginAmerica What @dhepburn said.         NaN   \n",
       "1  @VirginAmerica plus you've added commercials t...         NaN   \n",
       "2  @VirginAmerica I didn't today... Must mean I n...         NaN   \n",
       "3  @VirginAmerica it's really aggressive to blast...         NaN   \n",
       "4  @VirginAmerica and it's a really big bad thing...         NaN   \n",
       "\n",
       "               tweet_created tweet_location               user_timezone  \n",
       "0  2015-02-24 11:35:52 -0800            NaN  Eastern Time (US & Canada)  \n",
       "1  2015-02-24 11:15:59 -0800            NaN  Pacific Time (US & Canada)  \n",
       "2  2015-02-24 11:15:48 -0800      Lets Play  Central Time (US & Canada)  \n",
       "3  2015-02-24 11:15:36 -0800            NaN  Pacific Time (US & Canada)  \n",
       "4  2015-02-24 11:14:45 -0800            NaN  Pacific Time (US & Canada)  "
      ]
     },
     "execution_count": 50,
     "metadata": {},
     "output_type": "execute_result"
    }
   ],
   "source": [
    "training.head()"
   ]
  },
  {
   "cell_type": "code",
   "execution_count": 51,
   "metadata": {
    "collapsed": false
   },
   "outputs": [
    {
     "data": {
      "text/plain": [
       "14640"
      ]
     },
     "execution_count": 51,
     "metadata": {},
     "output_type": "execute_result"
    }
   ],
   "source": [
    "len(data)"
   ]
  },
  {
   "cell_type": "code",
   "execution_count": 16,
   "metadata": {
    "collapsed": false,
    "scrolled": true
   },
   "outputs": [
    {
     "name": "stdout",
     "output_type": "stream",
     "text": [
      "link: www.tutorialspoint.com -- counts: 6, weighted counts: 5; rating: 7.58\n",
      "link: www.sitepoint.com -- counts: 7, weighted counts: 11; rating: 14.29\n",
      "link: www.clementinejs.com -- counts: 8, weighted counts: 18; rating: 20.45\n",
      "link: screencast.com -- counts: 16, weighted counts: 85; rating: 48.30\n",
      "link: en.wikipedia.org -- counts: 12, weighted counts: 36; rating: 27.27\n",
      "link: jsfiddle.net -- counts: 7, weighted counts: 26; rating: 33.77\n",
      "link: docs.npmjs.com -- counts: 13, weighted counts: 41; rating: 28.67\n",
      "link: developers.google.com -- counts: 6, weighted counts: 17; rating: 25.76\n",
      "link: www.quandl.com -- counts: 6, weighted counts: 17; rating: 25.76\n",
      "link: babeljs.io -- counts: 6, weighted counts: 25; rating: 37.88\n",
      "link: university.mongodb.com -- counts: 7, weighted counts: 34; rating: 44.16\n",
      "link: mongodb.github.io -- counts: 13, weighted counts: 45; rating: 31.47\n",
      "link: medium.com -- counts: 30, weighted counts: 128; rating: 38.79\n",
      "link: www.npmjs.com -- counts: 73, weighted counts: 311; rating: 38.73\n",
      "link: jlord.us -- counts: 12, weighted counts: 63; rating: 47.73\n",
      "link: help.github.com -- counts: 8, weighted counts: 42; rating: 47.73\n",
      "link: forum.freecodecamp.com -- counts: 20, weighted counts: 118; rating: 53.64\n",
      "link: egghead.io -- counts: 8, weighted counts: 37; rating: 42.05\n",
      "link: expressjs.com -- counts: 35, weighted counts: 134; rating: 34.81\n",
      "link: community.c9.io -- counts: 23, weighted counts: 63; rating: 24.90\n",
      "link: docs.mongodb.com -- counts: 26, weighted counts: 111; rating: 38.81\n",
      "link: www.freecodecamp.com -- counts: 57, weighted counts: 246; rating: 39.23\n",
      "link: facebook.github.io -- counts: 21, weighted counts: 92; rating: 39.83\n",
      "link: www.w3schools.com -- counts: 7, weighted counts: 51; rating: 66.23\n",
      "link: mongoosejs.com -- counts: 20, weighted counts: 141; rating: 64.09\n",
      "link: ide.c9.io -- counts: 24, weighted counts: 128; rating: 48.48\n",
      "link: survivejs.com -- counts: 6, weighted counts: 47; rating: 71.21\n",
      "link: nodejs.org -- counts: 22, weighted counts: 95; rating: 39.26\n",
      "link: devcenter.heroku.com -- counts: 47, weighted counts: 153; rating: 29.59\n",
      "link: beta.freecodecamp.com -- counts: 7, weighted counts: 76; rating: 98.70\n",
      "link: stackoverflow.com -- counts: 117, weighted counts: 536; rating: 41.65\n",
      "link: gist.github.com -- counts: 37, weighted counts: 159; rating: 39.07\n",
      "link: jsbin.com -- counts: 11, weighted counts: 32; rating: 26.45\n",
      "link: www.udemy.com -- counts: 6, weighted counts: 56; rating: 84.85\n",
      "link: www.screencast.com -- counts: 29, weighted counts: 286; rating: 89.66\n",
      "link: developer.mozilla.org -- counts: 27, weighted counts: 134; rating: 45.12\n",
      "link: scotch.io -- counts: 31, weighted counts: 127; rating: 37.24\n"
     ]
    }
   ],
   "source": [
    "raw = pickle.load(open(directory+\"helpbackend1_test.pkl\", \"rb\"))\n"
   ]
  },
  {
   "cell_type": "code",
   "execution_count": 4,
   "metadata": {
    "collapsed": false
   },
   "outputs": [
    {
     "name": "stdout",
     "output_type": "stream",
     "text": [
      "63200 <class 'list'>\n"
     ]
    }
   ],
   "source": [
    "print(len(raw),type(raw))"
   ]
  },
  {
   "cell_type": "code",
   "execution_count": 5,
   "metadata": {
    "collapsed": false,
    "scrolled": false
   },
   "outputs": [
    {
     "data": {
      "text/plain": [
       "{'fromUser': {'avatarUrl': 'https://avatars-01.gitter.im/gh/uv/3/camperbot',\n",
       "  'avatarUrlMedium': 'https://avatars1.githubusercontent.com/u/13561988?v=3&s=128',\n",
       "  'avatarUrlSmall': 'https://avatars1.githubusercontent.com/u/13561988?v=3&s=60',\n",
       "  'displayName': 'CamperBot',\n",
       "  'gv': '3',\n",
       "  'id': '55b977f00fc9f982beab7883',\n",
       "  'url': '/camperbot',\n",
       "  'username': 'camperbot',\n",
       "  'v': 2},\n",
       " 'html': '<blockquote>\\nlegend28469 sends brownie points to <span data-link-type=\"mention\" data-screen-name=\"valmassoi\" class=\"mention\">@valmassoi</span> :sparkles: :thumbsup: :sparkles: </blockquote>\\n',\n",
       " 'id': '57253190e10a59c061077871',\n",
       " 'issues': [],\n",
       " 'mentions': [{'screenName': 'valmassoi',\n",
       "   'userId': '56c11624e610378809c16c8f',\n",
       "   'userIds': []}],\n",
       " 'meta': [],\n",
       " 'readBy': 19,\n",
       " 'sent': '2016-04-30T22:28:32.114Z',\n",
       " 'text': '> legend28469 sends brownie points to @valmassoi :sparkles: :thumbsup: :sparkles: ',\n",
       " 'unread': False,\n",
       " 'urls': [],\n",
       " 'v': 1}"
      ]
     },
     "execution_count": 5,
     "metadata": {},
     "output_type": "execute_result"
    }
   ],
   "source": [
    "raw[0]"
   ]
  },
  {
   "cell_type": "code",
   "execution_count": null,
   "metadata": {
    "collapsed": true
   },
   "outputs": [],
   "source": [
    "def segment_sentences(words): #words is a LIST, it returns a LIST\n",
    "    start = 0\n",
    "    sents = []\n",
    "    for i, word in enumerate(words):\n",
    "        #print(i, word)\n",
    "        if word == '...':\n",
    "            word = '.'\n",
    "        if word in '.?!' and classifier_segsen.classify(punct_features(words, i)) == True: #1) if a punctuation mark AND words classified as TRUE \n",
    "            sents.append(words[start:i+1])                                          #2) add to sents all word between the start of a sentence and the end\n",
    "            start = i+1                                                             #3) move to next sentence\n",
    "    if start < len(words):                                                          #4) if start is still less than the total paragraph..\n",
    "        sents.append(words[start:])                                                 #5) add all (???)\n",
    "    return sents   \n",
    "\n",
    "\n",
    "def subs_codelinksusers(elem):\n",
    "    soup = BeautifulSoup(elem['html'])\n",
    "    text = elem['text']\n",
    "    #code\n",
    "    codes = soup.find_all('code')\n",
    "    for c in codes:\n",
    "        text.replace('```'+c+'```', 'thisiscode')\n",
    "    \n",
    "    links = soup.find_all('a')\n",
    "    for lk in links:\n",
    "        text.replace('('+lk+')', 'thisislink')\n",
    "        text.replace('['+lk+']', 'thisislink')\n",
    "        text.replace(lk, 'thisislink')\n",
    "    \n",
    "    for m in elem['mentions']:\n",
    "        text.replace(m, 'thisisusername')\n",
    "        \n",
    "\n",
    "    return text\n",
    "\n",
    "\n",
    "def links_analysis(raw):\n",
    "    d = {} #net location : [params, query, user, sent]    \n",
    "    for elem in raw:\n",
    "        if elem[\"fromUser\"][\"username\"] == \"camperbot\": continue\n",
    "\n",
    "        for u in elem[\"urls\"]:\n",
    "            url = u['url']\n",
    "            try:\n",
    "                netloc,params,urlq = urllib.parse.urlsplit(url)[1:4]\n",
    "            except:\n",
    "                print(url)\n",
    "                continue\n",
    "\n",
    "            if netloc in (\"files.gitter.im\", \"gitter.im\", \"codepen.io\", \"reddit.com\", \"www.youtube.com\", \"github.com\"): continue\n",
    "            if netloc not in list(d.keys()):\n",
    "                d[netloc] = []\n",
    "            #d[netloc].append({'params':params, 'urlq':urlq, 'user':elem['fromUser']['username'], 'urls': elem['urls'], 'text': elem['text'], 'sent': elem['sent']})\n",
    "            d[netloc].append({'params':params, 'urlq':urlq, 'user':elem['fromUser']['username'], 'urls': elem['urls'], 'url1': url, 'text': elem['text'], 'sent': elem['sent']})\n",
    "    \n",
    " \n",
    "    b = set()\n",
    "    dd = {} #first_param:{last,count}\n",
    "    for ll in d.keys():\n",
    "        for l in d[ll]:\n",
    "            params = l['params']\n",
    "            if len(params.split('/')) > 2:\n",
    "                first_param = ll\n",
    "                date = l['sent'].split('-')\n",
    "                year = int(date[0])\n",
    "                month = int(date[1])\n",
    "                day = int(date[2].split('T')[0])\n",
    "                current = datetime.datetime(year, month, day)\n",
    "                if params.find('FreeCodeCamp')==-1:\n",
    "                    #print(params)\n",
    "                    #if params != '':\n",
    "                    #    b.add(params.split('/')[1])\n",
    "                    if first_param not in dd:\n",
    "                        dd[first_param] = {}\n",
    "                        dd[first_param]['count1'] = 1\n",
    "                        if year == 2016:\n",
    "                            dd[first_param]['count2'] = month - 7\n",
    "                        elif year == 2017:\n",
    "                            dd[first_param]['count2'] = month + 6\n",
    "                        dd[first_param]['last'] = current\n",
    "                        dd[first_param]['repos'] = {}\n",
    "                    if params not in dd[first_param]['repos']: \n",
    "                        dd[first_param]['repos'][params] = {}\n",
    "                        dd[first_param]['repos'][params]['count1'] = 1\n",
    "                        dd[first_param]['repos'][params]['texts'] = []\n",
    "                        dd[first_param]['repos'][params]['users'] = []\n",
    "                        dd[first_param]['repos'][params]['urls'] = []\n",
    "                        if year == 2016:\n",
    "                            dd[first_param]['repos'][params]['count2'] = month - 7\n",
    "                        elif year == 2017:\n",
    "                            dd[first_param]['repos'][params]['count2'] = month + 6\n",
    "                        dd[first_param]['repos'][params]['last'] = current\n",
    "                        dd[first_param]['repos'][params]['texts'].append(l['text'])\n",
    "                        dd[first_param]['repos'][params]['users'].append(l['user'])\n",
    "                        dd[first_param]['repos'][params]['urls'].append(l['urls'])\n",
    "    \n",
    "                    if current - dd[first_param]['last'] >= datetime.timedelta(days=1):\n",
    "                        dd[first_param]['count1'] += 1\n",
    "                        if year == 2016:\n",
    "                            dd[first_param]['count2'] += month - 7\n",
    "                        if year == 2017:\n",
    "                            dd[first_param]['count2'] += month + 6\n",
    "                        dd[first_param]['last'] = current\n",
    "                    if current - dd[first_param]['repos'][params]['last'] >= datetime.timedelta(days=1):\n",
    "                        dd[first_param]['repos'][params]['count1'] += 1\n",
    "                        if year == 2016:\n",
    "                            dd[first_param]['repos'][params]['count2'] += month - 7\n",
    "                        elif year == 2017:\n",
    "                            dd[first_param]['repos'][params]['count2'] += month + 6\n",
    "                        dd[first_param]['repos'][params]['last'] = current                        \n",
    "                        dd[first_param]['repos'][params]['texts'].append(l['text'])\n",
    "                        dd[first_param]['repos'][params]['users'].append(l['user'])\n",
    "                        dd[first_param]['repos'][params]['urls'].append(l['urls'])\n",
    "        \n",
    "    for k in sorted(dd, key=lambda k: dd[k]['last'].timestamp(), reverse=False):\n",
    "        if dd[k]['count1'] > 5:\n",
    "            print(\"link: {0} -- counts: {1}, weighted counts: {2}; rating: {3:.2f}\".format(k, dd[k]['count1'], dd[k]['count2'], 100*dd[k]['count2']/(11*dd[k]['count1'])))\n",
    "    \n",
    "    return d, dd\n",
    "\n"
   ]
  },
  {
   "cell_type": "code",
   "execution_count": null,
   "metadata": {
    "collapsed": true
   },
   "outputs": [],
   "source": [
    "test, _ = links_analysis(raw)"
   ]
  },
  {
   "cell_type": "code",
   "execution_count": 26,
   "metadata": {
    "collapsed": false
   },
   "outputs": [],
   "source": [
    "scotch_comments = []\n",
    "for elem in test['scotch.io']:\n",
    "    scotch_comments.append(elem['text'])"
   ]
  },
  {
   "cell_type": "code",
   "execution_count": 27,
   "metadata": {
    "collapsed": false
   },
   "outputs": [
    {
     "data": {
      "text/plain": [
       "['@naprirfan https://scotch.io/tutorials/easy-node-authentication-setup-and-local this is how I did my log in',\n",
       " 'https://scotch.io/tutorials/easy-node-authentication-setup-and-local',\n",
       " '@wordyallen https://scotch.io/tutorials/authenticate-a-node-js-api-with-json-web-tokens',\n",
       " 'https://scotch.io/tutorials/build-a-restful-api-using-node-and-express-4  <-- using mongoose',\n",
       " '@reginaldt these may be helpful: :rabbit: \\n* [Mongoose and Node.js tutorial]( http://blog.modulus.io/mongodb-tutorial)\\n* [Object Modeling in Node.js with Mongoose](https://devcenter.heroku.com/articles/nodejs-mongoose)\\n* [node.js and mongo (using mongoose) tutorial]( http://psitsmike.com/2012/02/node-js-and-mongo-using-mongoose-tutorial/)\\n* [Mongoose and Node.js tutorial]( http://theholmesoffice.com/mongoose-and-node-js-tutorial/)\\n* [Models]( http://mongoosejs.com/docs/models.html)\\n* [mongoose](http://mongoosejs.com/docs/api.html) – do a page search for “model.find”\\n* [Queries, References to other documents, Streaming]( http://mongoosejs.com/docs/queries.html)\\n* [Easily Develop Node.js and MongoDB Apps with Mongoose]( https://scotch.io/tutorials/using-mongoosejs-in-node-js-and-mongodb-applications)\\n* [Object Modeling in Node.js with Mongoose]( https://devcenter.heroku.com/articles/nodejs-mongoose)\\n* [NODE.JS AND MONGODB - GETTING STARTED WITH MONGOOSE](http://blog.modulus.io/getting-started-with-mongoose)',\n",
       " '@nbailey20  Best tutorials on anything i ve seen on the web .. especially for passport with mongoDB (https://scotch.io/tutorials/easy-node-authentication-setup-and-local)',\n",
       " '@dhuddleston once you get to it it is powerful tho ! also if you want look at this [Scotch.io on MongoDB & Mongoose](https://scotch.io/tutorials/using-mongoosejs-in-node-js-and-mongodb-applications)',\n",
       " '@Thiggs https://scotch.io/tutorials/use-expressjs-to-get-url-and-post-parameters',\n",
       " 'https://scotch.io/tutorials/setting-up-a-mean-stack-single-page-application',\n",
       " 'https://scotch.io/tutorials/angularjs-best-practices-directory-structure',\n",
       " \"@jondcoleman I just read this article.\\nhttps://scotch.io/tutorials/use-expressjs-to-get-url-and-post-parameters\\nand I'm thinking that in order to grab a date the user enters into the url I could do something like this ...?  Suggestions?\\n```\\napp.get('/', function(req, res) {\\n    res.sendFile(path.join(__dirname, '/views/', '/index.html'));\\n});\\n\\napp.get('/:time', function(req, res) {\\n    var date = req.param('time');\\n    if (moment(date).isValid) {\\n    res.send({natural: moment(date).format('MMMM Do YYYY'), unix: moment(date).unix()})}\\n}); \\n```\",\n",
       " '@dhcodes these may be of interest: :sparkles: \\n* [Choose Your Own Adventure with Node.js View Engines](https://wildermuth.com/2014/03/24/Choose_Your_Own_Adventure_with_Node_js_View_Engines)\\n* [Bypassing Express View Rendering for Speed and Modularity](https://strongloop.com/strongblog/bypassing-express-view-rendering-for-speed-and-modularity/)\\n* [Best practices for Express app structure](https://www.terlici.com/2014/08/25/best-practices-express-structure.html)\\n* [Use EJS to Template Your Node Application](https://scotch.io/tutorials/use-ejs-to-template-your-node-application)\\n\\nthis is interesting:\\n> The Solution\\nWhile Express describes itself as a framework, it is actually quite easy to bypass the Express view rendering engine. This allows developers to create applications that are more flexible, easier to understand and better performing.\\nref: \\n* [Bypassing Express View Rendering for Speed and Modularity](https://strongloop.com/strongblog/bypassing-express-view-rendering-for-speed-and-modularity/)',\n",
       " '@Ierofantis checkout https://scotch.io/tutorials/easy-node-authentication-google',\n",
       " '@tadake these may be useful:  :sparkles: \\n* [Use ExpressJS to Get URL and POST Parameters](https://scotch.io/tutorials/use-expressjs-to-get-url-and-post-parameters)\\n* [URL Parameters and Routing in Express.js](http://webapplog.com/url-parameters-and-routing-in-express-js/)\\n* [Parameters and Query Strings in Express.js](http://junerockwell.com/difference-parameters-query-strings-express-js/)\\n* [The Node.js API Framework](https://loopback.io/)\\n* [NODE.JS AND EXPRESS - CREATING A REST API](http://blog.modulus.io/nodejs-and-express-create-rest-api)',\n",
       " '@wordyallen these may be helpful: :sparkles: \\n* [NODE.JS AND MONGODB - GETTING STARTED WITH MONGOOSE](http://blog.modulus.io/getting-started-with-mongoose)\\n* [Getting started with MongoDB and Mongoose](https://scalegrid.io/blog/getting-started-with-mongodb-and-mongoose/)\\n* [Mongoose Schemas](http://coursework.vschool.io/mongoose-schemas/)\\n* [Easily Develop Node.js and MongoDB Apps with Mongoose](https://scotch.io/tutorials/using-mongoosejs-in-node-js-and-mongodb-applications)\\n* [mongoose: Referencing schema in properties or arrays](https://alexanderzeitler.com/articles/mongoose-referencing-schema-in-properties-and-arrays/)',\n",
       " 'scotch.io/tutorials/easy-node-authentication-setup-and-local\\n @MitulIslam there are more at the end of that page',\n",
       " '@MitulIslam these may be useful: :sparkles: \\n* [Local Authentication Using Passport in Node.js](https://www.sitepoint.com/local-authentication-using-passport-node-js/)\\n* [User Authentication With Passport and Express 4](http://mherman.org/blog/2015/01/31/local-authentication-with-passport-and-express-4/#.V7O_P1UrLDc)\\n* [Build User Authentication with Node.js, Express, Passport, and Orchestrate](https://www.ctl.io/developers/blog/post/build-user-authentication-with-node-js-express-passport-and-orchestrate)\\n* [Easy Node Authentication: Setup and Local](https://scotch.io/tutorials/easy-node-authentication-setup-and-local)\\n* [Authenticating Node.js Applications With Passport](http://code.tutsplus.com/tutorials/authenticating-nodejs-applications-with-passport--cms-21619)\\n* [Comprehensive tutorial for nodejs passport local-strategy setup?](http://stackoverflow.com/questions/17400758/comprehensive-tutorial-for-nodejs-passport-local-strategy-setup)\\n* [User Authentication with the MEAN Stack](https://www.sitepoint.com/user-authentication-mean-stack/)\\n* [MEAN STACK : AUTHENTICATION WITH PASSPORT](http://www.bogotobogo.com/MEAN-Stack/MEAN-Stack-MongoDB-ExpressJS-AngularJS-NodeJS-Authentication-Passport-App.php)\\n* [Tutorial for Passport.js authentication in a Node.js Express application](http://www.jokecamp.com/tutorial-passportjs-authentication-in-nodejs/)',\n",
       " 'https://scotch.io/tutorials/easy-node-authentication-setup-and-local',\n",
       " '@rogix https://scotch.io/tutorials/using-mongoosejs-in-node-js-and-mongodb-applications',\n",
       " 'SO...still mulling over this voting app. I can take my boilerplate app I develoepd for the backend API and start by adding authentication, then the user stories...or the user stories then the authentication...or I can start over from scratch with a tutorial like this one: https://scotch.io/tutorials/easy-node-authentication-setup-and-local  Or I can use clementine...Oh the decisions are so time consuming!   ',\n",
       " 'https://scotch.io/tutorials/easy-node-authentication-setup-and-local',\n",
       " \"@mbrillaud I suppose but in my opinion, you should learn how to deploy an app on Heroku, it's pretty easy, check this tutorial : \\nhttps://scotch.io/tutorials/how-to-deploy-a-node-js-app-to-heroku\",\n",
       " '@Dave2001 https://scotch.io/tutorials/easy-node-authentication-setup-and-local use this.',\n",
       " '@stanleyyylau https://scotch.io/tutorials/easy-node-authentication-twitter',\n",
       " 'https://scotch.io/tutorials/%E2%80%8Bthe-easiest-way-to-add-authentication-to-any-app',\n",
       " 'https://scotch.io/tutorials/easy-node-authentication-setup-and-local',\n",
       " \"that's occurs coz you haven't setup universal routing.. \\n\\nsee this https://scotch.io/tutorials/react-on-the-server-for-beginners-build-a-universal-react-and-node-app\\n\\n\",\n",
       " '@karpimpski https://scotch.io/tutorials/react-on-the-server-for-beginners-build-a-universal-react-and-node-app#routing-and-rendering-on-the-server-with-express',\n",
       " '@karpimpski https://scotch.io/tutorials/react-on-the-server-for-beginners-build-a-universal-react-and-node-app,   https://www.fullstackreact.com/articles/using-create-react-app-with-a-server/,  https://github.com/facebookincubator/create-react-app/blob/master/packages/react-scripts/template/README.md#integrating-with-a-node-backend',\n",
       " 'https://scotch.io/tutorials/easy-node-authentication-setup-and-local @bd1887 ',\n",
       " \"Hey all, to further my understanding of user authentication I am doing the following tutorial: https://scotch.io/tutorials/easy-node-authentication-setup-and-local \\nafter creating the server.js file, I try to run the thing and get the following errors: \\n```\\n/home/ubuntu/workspace/node_modules/express/lib/router/index.js:458\\n      throw new TypeError('Router.use() requires middleware function but got a ' + gettype(fn));\\n      ^\\n\\nTypeError: Router.use() requires middleware function but got a string\\n    at Function.use (/home/ubuntu/workspace/node_modules/express/lib/router/index.js:458:13)\\n    at EventEmitter.<anonymous> (/home/ubuntu/workspace/node_modules/express/lib/application.js:219:21)\\n    at Array.forEach (native)\\n    at EventEmitter.use (/home/ubuntu/workspace/node_modules/express/lib/application.js:216:7)\\n    at Object.<anonymous> (/home/ubuntu/workspace/server.js:21:5)\\n    at Module._compile (module.js:409:26)\\n    at Object.Module._extensions..js (module.js:416:10)\\n    at Module.load (module.js:343:32)\\n    at Function.Module._load (module.js:300:12)\\n    at Function.Module.runMain (module.js:441:10)\\n    at startup (node.js:139:18)\\n    at node.js:974:3\\n```\\nI tried looking online for answers, but cannot find anything that makes sense to me. My server.js is pretty much exactly like the one in the tutorial. I think the problem is on this line: \\n`require('./app/routes.js')(app, passport);`\",\n",
       " '@sannek sending unencrypted passwords over the wire indeed sounds like a bad idea. Passport is one of the most common solutions. First time I used it I followed this tutorial: https://scotch.io/tutorials/easy-node-authentication-setup-and-local and found it very helpful. Not sure how it interacts with your API endpoint, but when working with a local database, only the hashed passwords are stored. ',\n",
       " \"@jKard1210 I understand you got stuck here, this is currently missing from the curriculum. I think the beta does this better, but to be honest, I haven't reviewed it yet. Here's a decent scotch.io guide that also covers how to get some of the user data on the page: https://scotch.io/tutorials/easy-node-authentication-setup-and-local If you set like they do, you can use req.user inside requests to look at the user data. To change things in your view depending on whether a user is logged in, on top of the tutorial, I recommend looking at the documentation for the templating language you're using and looking at conditionals. For what they're using in the tutorial, that's http://ejs.co/\",\n",
       " '@delirious44 Yes you can, although data persistence would require a DB. I did a good tutorial on scotch.io to learn user authentication. https://scotch.io/tutorials/easy-node-authentication-setup-and-local The clementine.js tutorial also goes into this a bit, but covers other subjects as well, so that might distract from what you need to learn. ',\n",
       " 'this also helped me a lot https://scotch.io/tutorials/easy-node-authentication-setup-and-local',\n",
       " '@Tonyyalmeida I found quite a good tutorial on authentication over at scotch.io: https://scotch.io/tutorials/easy-node-authentication-setup-and-local, which I learned a lot from for my Voting App. ',\n",
       " '@harut-g for auth ? https://scotch.io/tutorials/easy-node-authentication-google']"
      ]
     },
     "execution_count": 27,
     "metadata": {},
     "output_type": "execute_result"
    }
   ],
   "source": [
    "scotch_comments[:10]"
   ]
  },
  {
   "cell_type": "code",
   "execution_count": 111,
   "metadata": {
    "collapsed": false
   },
   "outputs": [],
   "source": [
    "w3schools_comments = []\n",
    "for elem in test['www.w3schools.com']:\n",
    "    w3schools_comments.append(elem['text'])"
   ]
  },
  {
   "cell_type": "code",
   "execution_count": 112,
   "metadata": {
    "collapsed": false,
    "scrolled": true
   },
   "outputs": [
    {
     "data": {
      "text/plain": [
       "['@dickorydock these may be useful: :sparkles: \\n* [JavaScript getTimezoneOffset() Method](http://www.w3schools.com/jsref/jsref_gettimezoneoffset.asp)\\n* [JavaScript: Creating timestamps with time zone offsets](http://weblogs.asp.net/gunnarpeipman/javascript-creating-timestamps-with-time-zone-offsets)\\n* [JavaScript: Creating timestamps with time zone offsets](https://dzone.com/articles/javascript-creating-timestamps)\\n* [Convert the local time to another time zone with this JavaScript](http://www.techrepublic.com/article/convert-the-local-time-to-another-time-zone-with-this-javascript/)\\n* [Localizing Times in JavaScript](https://css-tricks.com/localizing-times-in-javascript/)\\n* [How To Convert JavaScript Local Date to UTC And UTC To Local Date](http://praveenlobo.com/blog/how-to-convert-javascript-local-date-to-utc-and-utc-to-local-date/)\\n* [Automatic timezone conversion in JavaScript](https://blog.serverdensity.com/automatic-timezone-conversion-in-javascript/)',\n",
       " 'http://www.tutorialspoint.com/javascript/javascript_functions.htm\\nhttp://www.w3schools.com/js/js_functions.asp\\nhttp://www.quirksmode.org/js/function.html',\n",
       " 'http://www.w3schools.com/css/css3_buttons.asp',\n",
       " '@joopt If yes, you can use parseInt https://www.w3schools.com/jsref/jsref_parseint.asp',\n",
       " 'Check this out https://www.w3schools.com/jsref/tryit.asp?filename=tryjsref_eval',\n",
       " \"@tomy8910 https://www.w3schools.com/tags/ref_httpmethods.asp Probably because you use 'get' for your form. \",\n",
       " '@ankur1163 https://www.w3schools.com/tags/att_global_data.asp',\n",
       " '@UsamaHameed you need sources https://www.w3schools.com/html/html5_audio.asp']"
      ]
     },
     "execution_count": 112,
     "metadata": {},
     "output_type": "execute_result"
    }
   ],
   "source": [
    "w3schools_comments[:10]"
   ]
  },
  {
   "cell_type": "markdown",
   "metadata": {},
   "source": [
    "### SELECTING A FRACTION OF TRAINING DATASET (too big) + INVESTIGATING THE DATASET"
   ]
  },
  {
   "cell_type": "code",
   "execution_count": 108,
   "metadata": {
    "collapsed": false,
    "scrolled": false
   },
   "outputs": [
    {
     "name": "stdout",
     "output_type": "stream",
     "text": [
      "@JetBlue hotspot free WiFi makes me happy. #jfk #itsthelittlethings\n",
      "@\n",
      "JetBlue\n",
      "hotspot\n",
      "free\n",
      "WiFi\n",
      "happy\n",
      "jfk\n",
      "itsthelittlethings\n",
      "1 ['positive']\n"
     ]
    }
   ],
   "source": [
    "import random\n",
    "\n",
    "#original code used IMDB, I was using \"Twitter airline sentiment\", both on Kaggle\n",
    "sentiment_data = training.loc[:,[\"text\", \"airline_sentiment\"]]\n",
    "sentiment_data = sentiment_data.sample(frac=1)\n",
    " \n",
    "# 80% for training\n",
    "train_X, train_y = numpy.array(sentiment_data.loc[:9000,['text']]), numpy.array(sentiment_data.loc[:9000,['airline_sentiment']])\n",
    " \n",
    "# Keep 20% for testing\n",
    "test_X, test_y = numpy.array(sentiment_data.loc[9000:,['text']]), numpy.array(sentiment_data.loc[9000:,['airline_sentiment']])\n",
    "\n",
    " \n"
   ]
  },
  {
   "cell_type": "code",
   "execution_count": null,
   "metadata": {
    "collapsed": true
   },
   "outputs": [],
   "source": [
    "from nltk.stem import WordNetLemmatizer\n",
    "from nltk.corpus import wordnet as wn\n",
    "from nltk.corpus import sentiwordnet as swn\n",
    "from nltk import sent_tokenize, word_tokenize, pos_tag\n",
    "\n",
    "\n",
    "lemmatizer = WordNetLemmatizer()\n",
    " \n",
    "def penn_to_wn(tag):\n",
    "    \"\"\"\n",
    "    Convert between the PennTreebank tags to simple Wordnet tags\n",
    "    \"\"\"\n",
    "    if tag.startswith('J'):\n",
    "        return wn.ADJ\n",
    "    elif tag.startswith('N'):\n",
    "        return wn.NOUN\n",
    "    elif tag.startswith('R'):\n",
    "        return wn.ADV\n",
    "    elif tag.startswith('V'):\n",
    "        return wn.VERB\n",
    "    return None\n",
    " \n",
    "def clean_text(text):\n",
    "    print(text)\n",
    "    text = text.replace(\"<br />\", \" \")\n",
    "    #text = text.decode(\"utf-8\")\n",
    " \n",
    "    return text\n",
    " \n",
    "def swn_polarity(text):\n",
    "    \"\"\"\n",
    "    Return a sentiment polarity: 0 = negative, 1 = positive\n",
    "    \"\"\"\n",
    " \n",
    "    sentiment = 0.0\n",
    "    tokens_count = 0\n",
    " \n",
    "    text = clean_text(text)\n",
    " \n",
    " \n",
    "    raw_sentences = sent_tokenize(text)\n",
    "    \n",
    "    \n",
    "    for raw_sentence in raw_sentences:\n",
    "        tagged_sentence = pos_tag(word_tokenize(raw_sentence))\n",
    "        \n",
    "               \n",
    "        for word, tag in tagged_sentence:\n",
    "            wn_tag = penn_to_wn(tag)\n",
    "            \n",
    "           \n",
    "            if wn_tag not in (wn.NOUN, wn.ADJ, wn.ADV):\n",
    "                continue\n",
    " \n",
    "            lemma = lemmatizer.lemmatize(word, pos=wn_tag)\n",
    "            print(lemma)\n",
    "        \n",
    "            if not lemma:\n",
    "                continue\n",
    " \n",
    "            synsets = wn.synsets(lemma, pos=wn_tag)\n",
    "            if not synsets:\n",
    "                continue\n",
    " \n",
    "            # Take the first sense, the most common\n",
    "            synset = synsets[0]\n",
    "            swn_synset = swn.senti_synset(synset.name())\n",
    " \n",
    "            sentiment += swn_synset.pos_score() - swn_synset.neg_score()\n",
    "            tokens_count += 1\n",
    " \n",
    "    # judgment call ? Default to positive or negative\n",
    "    if not tokens_count:\n",
    "        return 0\n",
    " \n",
    "    # sum greater than 0 => positive sentiment\n",
    "    if sentiment >= 0:\n",
    "        return 1\n",
    " \n",
    "    # negative sentiment\n",
    "    return 0\n",
    " \n",
    "# Since we're shuffling, you'll get diffrent results\n",
    "print(swn_polarity(train_X[0][0]), train_y[0]) # 1 1\n",
    "#print(swn_polarity(train_X[1]), train_y[1]) # 0 0\n",
    "#print(swn_polarity(train_X[2]), train_y[2]) # 0 1\n",
    "#print(swn_polarity(train_X[3]), train_y[3]) # 1 1\n",
    "#print(swn_polarity(train_X[4]), train_y[4]) # 1 1`\n",
    " "
   ]
  },
  {
   "cell_type": "code",
   "execution_count": 104,
   "metadata": {
    "collapsed": false,
    "scrolled": true
   },
   "outputs": [
    {
     "data": {
      "text/plain": [
       "'@JetBlue  will do.'"
      ]
     },
     "execution_count": 104,
     "metadata": {},
     "output_type": "execute_result"
    }
   ],
   "source": [
    "numpy.array(list(zip(sentiment_data[:9000])))\n",
    "train_X[0][0]"
   ]
  },
  {
   "cell_type": "code",
   "execution_count": 101,
   "metadata": {
    "collapsed": false
   },
   "outputs": [
    {
     "data": {
      "text/plain": [
       "array([['neutral'],\n",
       "       ['negative'],\n",
       "       ['negative'],\n",
       "       ..., \n",
       "       ['negative'],\n",
       "       ['negative'],\n",
       "       ['negative']], dtype=object)"
      ]
     },
     "execution_count": 101,
     "metadata": {},
     "output_type": "execute_result"
    }
   ],
   "source": [
    "numpy.array(train_y)"
   ]
  },
  {
   "cell_type": "code",
   "execution_count": 82,
   "metadata": {
    "collapsed": false
   },
   "outputs": [
    {
     "data": {
      "text/plain": [
       "array([[ \"@USAirways Sadly I'm currently booked on one of your flights tomorrow that I will be changing if I can.\"],\n",
       "       [ \"See what you started now @nytimes RT @JetBlue: Our fleet's on fleek. http://t.co/atd2Sm8HF4\"],\n",
       "       [ '@united any way you can help me find a flight to LAS? Stuck in DIA, sat on plane 2 hrs, now been waiting an hour for an update.'],\n",
       "       ..., \n",
       "       [ '@SouthwestAir Thanks for the quick reply!  I travel a lot...but not that much, lol.'],\n",
       "       ['@united what do I do if something is missing from my checked baggage?'],\n",
       "       [ '@SouthwestAir  Flight today from PHL to DAL Cancelled Flightled. 96 min on hold, rebooked for tomorrow. Now that flight is Cancelled Flightled.  On hold again.']], dtype=object)"
      ]
     },
     "execution_count": 82,
     "metadata": {},
     "output_type": "execute_result"
    }
   ],
   "source": [
    "sentiment_data.loc[9000:,['text']].values"
   ]
  },
  {
   "cell_type": "code",
   "execution_count": 150,
   "metadata": {
    "collapsed": false
   },
   "outputs": [
    {
     "name": "stdout",
     "output_type": "stream",
     "text": [
      "@UsamaHameed you need sources https://www.w3schools.com/html/html5_audio.asp\n",
      "@\n",
      "source\n",
      "//www.w3schools.com/html/html5_audio.asp\n",
      "1\n"
     ]
    }
   ],
   "source": [
    "import random\n",
    "\n",
    "X = w3schools_comments\n",
    "\n",
    "random.shuffle(X)\n",
    "\n",
    "print(swn_polarity(X[0]))\n"
   ]
  },
  {
   "cell_type": "markdown",
   "metadata": {},
   "source": [
    "## USING OTHER ROOMS"
   ]
  },
  {
   "cell_type": "code",
   "execution_count": 21,
   "metadata": {
    "collapsed": false,
    "scrolled": true
   },
   "outputs": [],
   "source": [
    "def subs_codelinksusers(elem):\n",
    "    soup = BeautifulSoup(elem['html'])\n",
    "    text = elem['text']\n",
    "    #code\n",
    "    codes = soup.find_all('code')\n",
    "    for c in codes:\n",
    "        text = text.replace('```'+c.text+'```', 'thisiscode')\n",
    "    \n",
    "    for u in elem['urls']:\n",
    "        url = u['url']\n",
    "        #print(text)\n",
    "        text = text.replace('('+url+')', 'thisislink')\n",
    "        text = text.replace('['+url+']', 'thisislink')\n",
    "        text = text.replace(url, 'thisislink')\n",
    "    \n",
    "    for m in elem['mentions']:\n",
    "        text = text.replace('@'+m['screenName'], 'thisisusername')\n",
    "        \n",
    "\n",
    "    return text\n",
    "\n",
    "room = 'javascript'\n",
    "\n",
    "directory = \"/home/ec/Documents/MainComp_Programming/FreeCodeCamp/data_analysis/1_archive\"\n",
    "raw = pickle.load(open(directory+\"/help\"+room+\"1_test.pkl\", \"rb\"))\n"
   ]
  },
  {
   "cell_type": "markdown",
   "metadata": {},
   "source": [
    "## TESTING FOR A FEW EXAMPLES"
   ]
  },
  {
   "cell_type": "code",
   "execution_count": 255,
   "metadata": {
    "collapsed": false
   },
   "outputs": [
    {
     "name": "stderr",
     "output_type": "stream",
     "text": [
      "/home/ec/anaconda3/lib/python3.5/site-packages/bs4/__init__.py:166: UserWarning: No parser was explicitly specified, so I'm using the best available HTML parser for this system (\"lxml\"). This usually isn't a problem, but if you run this code on another system, or in a different virtual environment, it may use a different parser and behave differently.\n",
      "\n",
      "To get rid of this warning, change this:\n",
      "\n",
      " BeautifulSoup([your markup])\n",
      "\n",
      "to this:\n",
      "\n",
      " BeautifulSoup([your markup], \"lxml\")\n",
      "\n",
      "  markup_type=markup_type))\n"
     ]
    },
    {
     "name": "stdout",
     "output_type": "stream",
     "text": [
      "did not worked http://[\\-|\\(|\\\n"
     ]
    }
   ],
   "source": [
    "nl = 'www.sitepoint.com'\n",
    "\n",
    "rtext = []\n",
    "\n",
    "for elem in raw:\n",
    "    for u in elem['urls']:\n",
    "        url = u['url']\n",
    "        try:\n",
    "            netloc,params,urlq = urllib.parse.urlsplit(url)[1:4]\n",
    "        except:\n",
    "            print('did not worked', url)\n",
    "            continue\n",
    "            \n",
    "        if netloc == nl:\n",
    "            rtext.append(subs_codelinksusers(elem))\n",
    "            break"
   ]
  },
  {
   "cell_type": "code",
   "execution_count": 256,
   "metadata": {
    "collapsed": false
   },
   "outputs": [
    {
     "data": {
      "text/plain": [
       "'www.sitepoint.com'"
      ]
     },
     "execution_count": 256,
     "metadata": {},
     "output_type": "execute_result"
    }
   ],
   "source": [
    "nl"
   ]
  },
  {
   "cell_type": "code",
   "execution_count": 257,
   "metadata": {
    "collapsed": false,
    "scrolled": true
   },
   "outputs": [
    {
     "data": {
      "text/plain": [
       "62"
      ]
     },
     "execution_count": 257,
     "metadata": {},
     "output_type": "execute_result"
    }
   ],
   "source": [
    "len(rtext)"
   ]
  },
  {
   "cell_type": "markdown",
   "metadata": {},
   "source": [
    "### BUILDING A SUB-DATASET FOR THE POSTS MENTIONING THE TARGETED URL"
   ]
  },
  {
   "cell_type": "code",
   "execution_count": 258,
   "metadata": {
    "collapsed": false,
    "scrolled": true
   },
   "outputs": [
    {
     "data": {
      "text/html": [
       "<div>\n",
       "<table border=\"1\" class=\"dataframe\">\n",
       "  <thead>\n",
       "    <tr style=\"text-align: right;\">\n",
       "      <th></th>\n",
       "      <th>text</th>\n",
       "      <th>airline_sentiment</th>\n",
       "    </tr>\n",
       "  </thead>\n",
       "  <tbody>\n",
       "    <tr>\n",
       "      <th>0</th>\n",
       "      <td>Is someone interested in full year premium at ...</td>\n",
       "      <td>neutral</td>\n",
       "    </tr>\n",
       "    <tr>\n",
       "      <th>1</th>\n",
       "      <td>thisisusername give this a whirl thisislink</td>\n",
       "      <td>neutral</td>\n",
       "    </tr>\n",
       "    <tr>\n",
       "      <th>2</th>\n",
       "      <td>thisisusername \\nthisislink\\n```js\\nvar greetC...</td>\n",
       "      <td>neutral</td>\n",
       "    </tr>\n",
       "    <tr>\n",
       "      <th>3</th>\n",
       "      <td>thisisusername i had a similar problem when wo...</td>\n",
       "      <td>neutral</td>\n",
       "    </tr>\n",
       "    <tr>\n",
       "      <th>4</th>\n",
       "      <td>thisisusername here's an article if you want t...</td>\n",
       "      <td>neutral</td>\n",
       "    </tr>\n",
       "    <tr>\n",
       "      <th>5</th>\n",
       "      <td>thisisusername if you're stll interested, this...</td>\n",
       "      <td>neutral</td>\n",
       "    </tr>\n",
       "    <tr>\n",
       "      <th>6</th>\n",
       "      <td>thisisusername [this]thisislink has some good ...</td>\n",
       "      <td>neutral</td>\n",
       "    </tr>\n",
       "    <tr>\n",
       "      <th>7</th>\n",
       "      <td>you need to be using that in an ajax request  ...</td>\n",
       "      <td>neutral</td>\n",
       "    </tr>\n",
       "    <tr>\n",
       "      <th>8</th>\n",
       "      <td>thisisusername you may find the following usef...</td>\n",
       "      <td>neutral</td>\n",
       "    </tr>\n",
       "    <tr>\n",
       "      <th>9</th>\n",
       "      <td>thisisusername you may find this useful:  \"Aja...</td>\n",
       "      <td>neutral</td>\n",
       "    </tr>\n",
       "    <tr>\n",
       "      <th>10</th>\n",
       "      <td>&gt; thisisusername you may find these useful:  \"...</td>\n",
       "      <td>neutral</td>\n",
       "    </tr>\n",
       "    <tr>\n",
       "      <th>11</th>\n",
       "      <td>thisisusername these may be useful: [Strings]t...</td>\n",
       "      <td>neutral</td>\n",
       "    </tr>\n",
       "    <tr>\n",
       "      <th>12</th>\n",
       "      <td>&gt; thisisusername you may find these useful: [1...</td>\n",
       "      <td>neutral</td>\n",
       "    </tr>\n",
       "    <tr>\n",
       "      <th>13</th>\n",
       "      <td>thisisusername you may find these useful: [arg...</td>\n",
       "      <td>neutral</td>\n",
       "    </tr>\n",
       "    <tr>\n",
       "      <th>14</th>\n",
       "      <td>thisisusername these may be useful: [Understan...</td>\n",
       "      <td>neutral</td>\n",
       "    </tr>\n",
       "    <tr>\n",
       "      <th>15</th>\n",
       "      <td>&gt; thisisusername these may be useful: [Asynch ...</td>\n",
       "      <td>neutral</td>\n",
       "    </tr>\n",
       "    <tr>\n",
       "      <th>16</th>\n",
       "      <td>thisisusername these may be helpful :sparkles:...</td>\n",
       "      <td>neutral</td>\n",
       "    </tr>\n",
       "    <tr>\n",
       "      <th>17</th>\n",
       "      <td>thisisusername ...a couple more  :zap:  :\\n* [...</td>\n",
       "      <td>neutral</td>\n",
       "    </tr>\n",
       "    <tr>\n",
       "      <th>18</th>\n",
       "      <td>thisisusername not really, can you use jquery ...</td>\n",
       "      <td>neutral</td>\n",
       "    </tr>\n",
       "    <tr>\n",
       "      <th>19</th>\n",
       "      <td>thisisusername you may enjoy these :paperclip:...</td>\n",
       "      <td>neutral</td>\n",
       "    </tr>\n",
       "    <tr>\n",
       "      <th>20</th>\n",
       "      <td>thisisusername thisislink</td>\n",
       "      <td>neutral</td>\n",
       "    </tr>\n",
       "    <tr>\n",
       "      <th>21</th>\n",
       "      <td>thisisusername and thisisusername if you are i...</td>\n",
       "      <td>neutral</td>\n",
       "    </tr>\n",
       "    <tr>\n",
       "      <th>22</th>\n",
       "      <td>thisisusername these may be helpful: :sparkles...</td>\n",
       "      <td>neutral</td>\n",
       "    </tr>\n",
       "    <tr>\n",
       "      <th>23</th>\n",
       "      <td>thisisusername this may be helpful:\\n* [High-p...</td>\n",
       "      <td>neutral</td>\n",
       "    </tr>\n",
       "    <tr>\n",
       "      <th>24</th>\n",
       "      <td>thisisusername these may be helpful: :sparkles...</td>\n",
       "      <td>neutral</td>\n",
       "    </tr>\n",
       "    <tr>\n",
       "      <th>25</th>\n",
       "      <td>thisisusername \\n*What’s the meaning of `this`...</td>\n",
       "      <td>neutral</td>\n",
       "    </tr>\n",
       "    <tr>\n",
       "      <th>26</th>\n",
       "      <td>thisisusername More information about [immutab...</td>\n",
       "      <td>neutral</td>\n",
       "    </tr>\n",
       "    <tr>\n",
       "      <th>27</th>\n",
       "      <td>thisisusername thisislink</td>\n",
       "      <td>neutral</td>\n",
       "    </tr>\n",
       "    <tr>\n",
       "      <th>28</th>\n",
       "      <td>thisisusername these may be useful: :sparkles:...</td>\n",
       "      <td>neutral</td>\n",
       "    </tr>\n",
       "    <tr>\n",
       "      <th>29</th>\n",
       "      <td>thisisusername \\nthese may be helpful: :sparkl...</td>\n",
       "      <td>neutral</td>\n",
       "    </tr>\n",
       "    <tr>\n",
       "      <th>...</th>\n",
       "      <td>...</td>\n",
       "      <td>...</td>\n",
       "    </tr>\n",
       "    <tr>\n",
       "      <th>32</th>\n",
       "      <td>thisisusername these may be helpful: :sparkles...</td>\n",
       "      <td>neutral</td>\n",
       "    </tr>\n",
       "    <tr>\n",
       "      <th>33</th>\n",
       "      <td>thisislink</td>\n",
       "      <td>neutral</td>\n",
       "    </tr>\n",
       "    <tr>\n",
       "      <th>34</th>\n",
       "      <td>thisislink</td>\n",
       "      <td>neutral</td>\n",
       "    </tr>\n",
       "    <tr>\n",
       "      <th>35</th>\n",
       "      <td>thisisusername these may be helpful: :sparkles...</td>\n",
       "      <td>neutral</td>\n",
       "    </tr>\n",
       "    <tr>\n",
       "      <th>36</th>\n",
       "      <td>thisisusername  thisislink</td>\n",
       "      <td>neutral</td>\n",
       "    </tr>\n",
       "    <tr>\n",
       "      <th>37</th>\n",
       "      <td>thisisusername [Html 5 rocks]thisislink, [Css ...</td>\n",
       "      <td>neutral</td>\n",
       "    </tr>\n",
       "    <tr>\n",
       "      <th>38</th>\n",
       "      <td>thisisusername thisislink</td>\n",
       "      <td>neutral</td>\n",
       "    </tr>\n",
       "    <tr>\n",
       "      <th>39</th>\n",
       "      <td>I investigated why it doesn't work, and here t...</td>\n",
       "      <td>neutral</td>\n",
       "    </tr>\n",
       "    <tr>\n",
       "      <th>40</th>\n",
       "      <td>thisisusername [currying]thisislink</td>\n",
       "      <td>neutral</td>\n",
       "    </tr>\n",
       "    <tr>\n",
       "      <th>41</th>\n",
       "      <td>thisisusername you can also take a look here: ...</td>\n",
       "      <td>neutral</td>\n",
       "    </tr>\n",
       "    <tr>\n",
       "      <th>42</th>\n",
       "      <td>thisisusername You know, from google... I also...</td>\n",
       "      <td>neutral</td>\n",
       "    </tr>\n",
       "    <tr>\n",
       "      <th>43</th>\n",
       "      <td>thisisusername It may be a cross origin proble...</td>\n",
       "      <td>neutral</td>\n",
       "    </tr>\n",
       "    <tr>\n",
       "      <th>44</th>\n",
       "      <td>thisisusername glad it worked! Read more about...</td>\n",
       "      <td>neutral</td>\n",
       "    </tr>\n",
       "    <tr>\n",
       "      <th>45</th>\n",
       "      <td>thisislink</td>\n",
       "      <td>neutral</td>\n",
       "    </tr>\n",
       "    <tr>\n",
       "      <th>46</th>\n",
       "      <td>thisisusername Class inheritance isn't somethi...</td>\n",
       "      <td>neutral</td>\n",
       "    </tr>\n",
       "    <tr>\n",
       "      <th>47</th>\n",
       "      <td>thisisusername thisislink</td>\n",
       "      <td>neutral</td>\n",
       "    </tr>\n",
       "    <tr>\n",
       "      <th>48</th>\n",
       "      <td>thisisusername Perhaps you already have your a...</td>\n",
       "      <td>neutral</td>\n",
       "    </tr>\n",
       "    <tr>\n",
       "      <th>49</th>\n",
       "      <td>thisislink</td>\n",
       "      <td>neutral</td>\n",
       "    </tr>\n",
       "    <tr>\n",
       "      <th>50</th>\n",
       "      <td>thisisusername this might help: thisislink</td>\n",
       "      <td>neutral</td>\n",
       "    </tr>\n",
       "    <tr>\n",
       "      <th>51</th>\n",
       "      <td>thisislink  thisisusername \\ncheck same origin...</td>\n",
       "      <td>neutral</td>\n",
       "    </tr>\n",
       "    <tr>\n",
       "      <th>52</th>\n",
       "      <td>thisisusername The `callback=?` parameter is f...</td>\n",
       "      <td>neutral</td>\n",
       "    </tr>\n",
       "    <tr>\n",
       "      <th>53</th>\n",
       "      <td>thisisusername This article helped me understa...</td>\n",
       "      <td>neutral</td>\n",
       "    </tr>\n",
       "    <tr>\n",
       "      <th>54</th>\n",
       "      <td>thisisusername   have a look, [String Immutabi...</td>\n",
       "      <td>neutral</td>\n",
       "    </tr>\n",
       "    <tr>\n",
       "      <th>55</th>\n",
       "      <td>thisisusername \\nthis helps...\\nthisislink</td>\n",
       "      <td>neutral</td>\n",
       "    </tr>\n",
       "    <tr>\n",
       "      <th>56</th>\n",
       "      <td>thisisusername  Sitepoint article: thisislink</td>\n",
       "      <td>neutral</td>\n",
       "    </tr>\n",
       "    <tr>\n",
       "      <th>57</th>\n",
       "      <td>thisisusername Here's how I made my JSONP requ...</td>\n",
       "      <td>neutral</td>\n",
       "    </tr>\n",
       "    <tr>\n",
       "      <th>58</th>\n",
       "      <td>thisislink</td>\n",
       "      <td>neutral</td>\n",
       "    </tr>\n",
       "    <tr>\n",
       "      <th>59</th>\n",
       "      <td>thisisusername thisislink</td>\n",
       "      <td>neutral</td>\n",
       "    </tr>\n",
       "    <tr>\n",
       "      <th>60</th>\n",
       "      <td>thisislink\\nthisislink</td>\n",
       "      <td>neutral</td>\n",
       "    </tr>\n",
       "    <tr>\n",
       "      <th>61</th>\n",
       "      <td>thisisusername try reading this - thisislink</td>\n",
       "      <td>neutral</td>\n",
       "    </tr>\n",
       "  </tbody>\n",
       "</table>\n",
       "<p>62 rows × 2 columns</p>\n",
       "</div>"
      ],
      "text/plain": [
       "                                                 text airline_sentiment\n",
       "0   Is someone interested in full year premium at ...           neutral\n",
       "1         thisisusername give this a whirl thisislink           neutral\n",
       "2   thisisusername \\nthisislink\\n```js\\nvar greetC...           neutral\n",
       "3   thisisusername i had a similar problem when wo...           neutral\n",
       "4   thisisusername here's an article if you want t...           neutral\n",
       "5   thisisusername if you're stll interested, this...           neutral\n",
       "6   thisisusername [this]thisislink has some good ...           neutral\n",
       "7   you need to be using that in an ajax request  ...           neutral\n",
       "8   thisisusername you may find the following usef...           neutral\n",
       "9   thisisusername you may find this useful:  \"Aja...           neutral\n",
       "10  > thisisusername you may find these useful:  \"...           neutral\n",
       "11  thisisusername these may be useful: [Strings]t...           neutral\n",
       "12  > thisisusername you may find these useful: [1...           neutral\n",
       "13  thisisusername you may find these useful: [arg...           neutral\n",
       "14  thisisusername these may be useful: [Understan...           neutral\n",
       "15  > thisisusername these may be useful: [Asynch ...           neutral\n",
       "16  thisisusername these may be helpful :sparkles:...           neutral\n",
       "17  thisisusername ...a couple more  :zap:  :\\n* [...           neutral\n",
       "18  thisisusername not really, can you use jquery ...           neutral\n",
       "19  thisisusername you may enjoy these :paperclip:...           neutral\n",
       "20                          thisisusername thisislink           neutral\n",
       "21  thisisusername and thisisusername if you are i...           neutral\n",
       "22  thisisusername these may be helpful: :sparkles...           neutral\n",
       "23  thisisusername this may be helpful:\\n* [High-p...           neutral\n",
       "24  thisisusername these may be helpful: :sparkles...           neutral\n",
       "25  thisisusername \\n*What’s the meaning of `this`...           neutral\n",
       "26  thisisusername More information about [immutab...           neutral\n",
       "27                          thisisusername thisislink           neutral\n",
       "28  thisisusername these may be useful: :sparkles:...           neutral\n",
       "29  thisisusername \\nthese may be helpful: :sparkl...           neutral\n",
       "..                                                ...               ...\n",
       "32  thisisusername these may be helpful: :sparkles...           neutral\n",
       "33                                         thisislink           neutral\n",
       "34                                         thisislink           neutral\n",
       "35  thisisusername these may be helpful: :sparkles...           neutral\n",
       "36                         thisisusername  thisislink           neutral\n",
       "37  thisisusername [Html 5 rocks]thisislink, [Css ...           neutral\n",
       "38                          thisisusername thisislink           neutral\n",
       "39  I investigated why it doesn't work, and here t...           neutral\n",
       "40                thisisusername [currying]thisislink           neutral\n",
       "41  thisisusername you can also take a look here: ...           neutral\n",
       "42  thisisusername You know, from google... I also...           neutral\n",
       "43  thisisusername It may be a cross origin proble...           neutral\n",
       "44  thisisusername glad it worked! Read more about...           neutral\n",
       "45                                         thisislink           neutral\n",
       "46  thisisusername Class inheritance isn't somethi...           neutral\n",
       "47                          thisisusername thisislink           neutral\n",
       "48  thisisusername Perhaps you already have your a...           neutral\n",
       "49                                         thisislink           neutral\n",
       "50         thisisusername this might help: thisislink           neutral\n",
       "51  thisislink  thisisusername \\ncheck same origin...           neutral\n",
       "52  thisisusername The `callback=?` parameter is f...           neutral\n",
       "53  thisisusername This article helped me understa...           neutral\n",
       "54  thisisusername   have a look, [String Immutabi...           neutral\n",
       "55         thisisusername \\nthis helps...\\nthisislink           neutral\n",
       "56      thisisusername  Sitepoint article: thisislink           neutral\n",
       "57  thisisusername Here's how I made my JSONP requ...           neutral\n",
       "58                                         thisislink           neutral\n",
       "59                          thisisusername thisislink           neutral\n",
       "60                             thisislink\\nthisislink           neutral\n",
       "61       thisisusername try reading this - thisislink           neutral\n",
       "\n",
       "[62 rows x 2 columns]"
      ]
     },
     "execution_count": 258,
     "metadata": {},
     "output_type": "execute_result"
    }
   ],
   "source": [
    "subdata = pandas.DataFrame(list(zip(rtext,['neutral']*len(rtext))), columns=['text','airline_sentiment'])\n",
    "subdata"
   ]
  },
  {
   "cell_type": "code",
   "execution_count": 259,
   "metadata": {
    "collapsed": false
   },
   "outputs": [
    {
     "data": {
      "text/plain": [
       "14640"
      ]
     },
     "execution_count": 259,
     "metadata": {},
     "output_type": "execute_result"
    }
   ],
   "source": [
    "#data = pandas.read_csv('/home/ec/Documents/MainComp_Programming/FreeCodeCamp/data_analysis/1_archive/datascienceroom/Tweets.csv')\n",
    "training = training.loc[:,['text','airline_sentiment']]\n",
    "\n",
    "datalen = len(training)\n",
    "\n",
    "h = pandas.concat([training,subdata], ignore_index=True)\n",
    "h['index1'] = h.index\n",
    "datalen"
   ]
  },
  {
   "cell_type": "code",
   "execution_count": 260,
   "metadata": {
    "collapsed": false
   },
   "outputs": [
    {
     "name": "stdout",
     "output_type": "stream",
     "text": [
      "8834\n"
     ]
    }
   ],
   "source": [
    "import zipfile\n",
    "import csv\n",
    "#data = pandas.read_csv('/home/ec/Documents/MainComp_Programming/FreeCodeCamp/data_analysis/1_archive/datascienceroom/Tweets.csv')\n",
    "zf = zipfile.ZipFile('/home/ec/Documents/MainComp_Programming/FreeCodeCamp/data_analysis/1_archive/datascienceroom/Sentiment-Analysis-Dataset.zip') # having First.csv zipped file.\n",
    "#data = pandas.read_csv(zf.open('Sentiment Analysis Dataset.csv'))\n",
    "counter = 0\n",
    "d = []\n",
    "with zf.open('Sentiment Analysis Dataset.csv', 'r') as f:\n",
    "    csvfile = (line.decode('utf8') for line in f)\n",
    "    freader = csv.reader(csvfile)\n",
    "    #while 1:\n",
    "    next(freader, None)\n",
    "    for row in freader:\n",
    "        #print(row)\n",
    "        #print(freader.readline())\n",
    "        if len(row) > 4:\n",
    "            print(counter)\n",
    "            continue\n",
    "        d.append(row)\n",
    "        counter += 1\n",
    "        if counter > 100000:\n",
    "            break"
   ]
  },
  {
   "cell_type": "code",
   "execution_count": 261,
   "metadata": {
    "collapsed": false
   },
   "outputs": [
    {
     "data": {
      "text/plain": [
       "100001"
      ]
     },
     "execution_count": 261,
     "metadata": {},
     "output_type": "execute_result"
    }
   ],
   "source": [
    "data = pandas.DataFrame(d, columns=['x','airline_sentiment','ss','text'])\n",
    "data\n",
    "\n",
    "data = data.loc[:,['text','airline_sentiment']]\n",
    "\n",
    "datalen = len(data)\n",
    "\n",
    "h = pandas.concat([data,subdata], ignore_index=True)\n",
    "h['index1'] = h.index\n",
    "datalen"
   ]
  },
  {
   "cell_type": "code",
   "execution_count": 262,
   "metadata": {
    "collapsed": false
   },
   "outputs": [
    {
     "data": {
      "text/html": [
       "<div>\n",
       "<table border=\"1\" class=\"dataframe\">\n",
       "  <thead>\n",
       "    <tr style=\"text-align: right;\">\n",
       "      <th></th>\n",
       "      <th>text</th>\n",
       "      <th>airline_sentiment</th>\n",
       "    </tr>\n",
       "  </thead>\n",
       "  <tbody>\n",
       "    <tr>\n",
       "      <th>0</th>\n",
       "      <td>is so sad for my APL frie...</td>\n",
       "      <td>0</td>\n",
       "    </tr>\n",
       "    <tr>\n",
       "      <th>1</th>\n",
       "      <td>I missed the New Moon trail...</td>\n",
       "      <td>0</td>\n",
       "    </tr>\n",
       "    <tr>\n",
       "      <th>2</th>\n",
       "      <td>omg its already 7:30 :O</td>\n",
       "      <td>1</td>\n",
       "    </tr>\n",
       "    <tr>\n",
       "      <th>3</th>\n",
       "      <td>.. Omgaga. Im sooo  im gunna CRy. I'...</td>\n",
       "      <td>0</td>\n",
       "    </tr>\n",
       "    <tr>\n",
       "      <th>4</th>\n",
       "      <td>i think mi bf is cheating on me!!!   ...</td>\n",
       "      <td>0</td>\n",
       "    </tr>\n",
       "  </tbody>\n",
       "</table>\n",
       "</div>"
      ],
      "text/plain": [
       "                                                text airline_sentiment\n",
       "0                       is so sad for my APL frie...                 0\n",
       "1                     I missed the New Moon trail...                 0\n",
       "2                            omg its already 7:30 :O                 1\n",
       "3            .. Omgaga. Im sooo  im gunna CRy. I'...                 0\n",
       "4           i think mi bf is cheating on me!!!   ...                 0"
      ]
     },
     "execution_count": 262,
     "metadata": {},
     "output_type": "execute_result"
    }
   ],
   "source": [
    "data.head()"
   ]
  },
  {
   "cell_type": "code",
   "execution_count": 263,
   "metadata": {
    "collapsed": false,
    "scrolled": true
   },
   "outputs": [
    {
     "name": "stderr",
     "output_type": "stream",
     "text": [
      "/home/ec/anaconda3/lib/python3.5/site-packages/sklearn/neighbors/base.py:211: UserWarning: cannot use tree with sparse input: using brute force\n",
      "  warnings.warn(\"cannot use tree with sparse input: \"\n"
     ]
    }
   ],
   "source": [
    "# loading library\n",
    "from sklearn.feature_extraction.text import CountVectorizer\n",
    "\n",
    "#n_samples = 2000\n",
    "n_features = 5000\n",
    "#n_topics = 10\n",
    "#n_top_words = 20\n",
    "\n",
    "\n",
    "def knn(textsarray):\n",
    "     pass\n",
    "    \n",
    "\n",
    "\n",
    "def print_top_words(model, feature_names, n_top_words):\n",
    "    for topic_idx, topic in enumerate(model.components_):\n",
    "        print(\"Topic #%d:\" % topic_idx)\n",
    "        print(\" \".join([feature_names[i]\n",
    "                        for i in topic.argsort()[:-n_top_words - 1:-1]]))\n",
    "    print()\n",
    "\n",
    "vectorizer = CountVectorizer(max_df=0.95, min_df=2,\n",
    "                                max_features=n_features,\n",
    "                                stop_words='english')\n",
    "\n",
    "bow_vec = vectorizer.fit_transform(h['text'])\n",
    "\n",
    "vectorizer.get_feature_names()\n",
    "\n",
    "from sklearn.neighbors import NearestNeighbors\n",
    "\n",
    "model = NearestNeighbors( n_neighbors=2, algorithm='ball_tree' ) #no matter what I use, it is always the same\n",
    "#modelfit = model.fit(count_vect, enc)\n",
    "modelfit = model.fit(bow_vec)\n",
    "\n",
    "#le = LabelEncoder()\n",
    "#neigh = KNeighborsClassifier(n_neighbors=5)\n",
    "#neigh.fit(bow_vec, data['airline_sentiment'])\n",
    "#neigh.predict()\n"
   ]
  },
  {
   "cell_type": "code",
   "execution_count": 264,
   "metadata": {
    "collapsed": false,
    "scrolled": true
   },
   "outputs": [
    {
     "name": "stdout",
     "output_type": "stream",
     "text": [
      "[[ 'thisisusername \\nthisislink\\n```js\\nvar greetCurried = function(greeting) {\\n  return function(name) {\\n    console.log(greeting + \", \" + name);\\n  };\\n};\\n\\nvar greetHello = greetCurried(\"Hello\");\\ngreetHello(\"Heidi\"); //\"Hello, Heidi\"\\ngreetHello(\"Eddie\"); //\"Hello, Eddie\"\\n``` ']\n",
      " ['@bayanbay2 hello bayan and @Sharasandiboom hello shara ']\n",
      " ['@clovertised hello. are you finee ']\n",
      " ['@alcofrolic_x hello ']\n",
      " ['@AYellowHouse Hello! ']\n",
      " ['@charmdube why hello ']\n",
      " ['@coeurenbois - hello to you ']\n",
      " ['@CoverFX Hello!  How are you? ']\n",
      " ['@amateur26 Hello to you too ']\n",
      " ['@cmglothlin Hello. ']\n",
      " ['@chaddotcom hello ']\n",
      " ['@afreshmusic Hello You!! ']\n",
      " ['@brokheart hello ']\n",
      " ['@angelaharms hello then ']\n",
      " ['@CoachCharrise Charrise!! Hello! ']\n",
      " ['@badavarascal hello - has your 500D landed? ']\n",
      " ['@Amaninazaini  why hello thar.']\n",
      " ['@beccatheirish1 Well hello there shizzlebisc-orino ']\n",
      " ['@Comedyscreen  Hello']\n",
      " ['@chrisgbsb Hello! How are you?! ']\n",
      " ['@arghkat HELLO ']\n",
      " ['@choose2befit meow, hello!  ']\n",
      " ['.. hello my lovebuggsss!  -- how is everyone?..']\n",
      " [', hello twitterers!  nothing to do!']\n",
      " ['@BMartha hello there! ']\n",
      " ['@annapires hello you ']\n",
      " ['@addicted2edward hello ']\n",
      " ['@beastlyemo Hello ']\n",
      " ['@ChEmIcALbUlLeTs  Hello ']\n",
      " ['@ConsBarcebal Cons! Hello there. ']\n",
      " ['@ACEU hello ']\n",
      " ['@asinglething obsession, hello!! ']\n",
      " ['@09mileycyrusfan Why hello there ']\n",
      " ['#hello Shaq ']\n",
      " ['@Austin_Butler Hello ! ']\n",
      " ['@bigWAVEdude Well, hello there bigwavedude!  How are YOU! ']\n",
      " [\"@ColbieCaillat hello, colbie. I'm a fans of yours \"]\n",
      " ['@bsbfreak2007 Hello  How are ya??']\n",
      " ['@allysonivy hello there beautiful ']\n",
      " ['@Andernessa i recognize you now! hello ']\n",
      " ['@Akito_Nagakura hello, there, tnx 4 the follow ']\n",
      " [\"@balispace hello  how's your day?\"]\n",
      " ['@Adriennevh  Hello Shelia!!  Welcome to twitterville ']\n",
      " ['@brendonismyslut yes... Hello ']\n",
      " ['@BethxCore Hello, thanxx for the follow, how are you?  ']\n",
      " ['@cjronson Hello!  Jag Shavuot Sameaj . Happy Shavout!! ']\n",
      " ['@cramman_music hello how you doing ']\n",
      " ['@Bambidomation Hello Rachel ']\n",
      " ['@AlanCarr hello hun do you think you could say hello to me ']\n",
      " ['@AKAVirtualPA Hello!!! Nice to see you here ']\n",
      " ['@cluckhoff hello darling ']\n",
      " ['@CheekyAndy hello stranger ']\n",
      " ['@_Enigma__ hello - how are you? ']\n",
      " ['@aninah Hello, darling! ']\n",
      " ['@AnnaMariaPdT Hello  please reply ']\n",
      " ['@aussiecynic well hello there! ']\n",
      " ['@angelxchild Amen to that. Hello, Mimi! ']\n",
      " ['@asot Hello to everyone! greetings from Lithuania ']\n",
      " ['@abcdefglynis hello. I am bored too ']\n",
      " ['@abooth202 hello chuck ']\n",
      " ['@AceConcierge hello hello, long time no tweet  how are you?']\n",
      " ['@Ambee789  he waves hello back']\n",
      " ['@conceptscode Hello World! ']\n",
      " ['@arnellelozada they say hello. ']\n",
      " [\"@Asian_Ladies hello there  how's Vegas?\"]\n",
      " ['@allegracarisha Hello there my new tweetfriend  how r u?']\n",
      " ['@1sweetwhirl Hello Kelly   How could you get any cuter ']\n",
      " ['@a_tall_blonde   ~~Hello~~~  and thanks for the follow.   ']\n",
      " [\".@dawn_armfield I can't speak for the whole World, but Hello back \"]\n",
      " ['@claud1983 Hello you!!  I new you would respond ;-)']\n",
      " ['@alpacafashion hello thank you for following me ']\n",
      " ['@cathysharon hello ka cathy ']\n",
      " ['@abhorrentbm lame. you should have said hello! ']\n",
      " [ '@annawentz hello what part of Russia are you from? I am studying Russian language too. ']\n",
      " [ '#followfriday hello! TGIF! @silverpeanut @organicbarbee @thesmartipants @rockstarz_mama @dadiaperbank @2chix @papercakes @buymichigannow ']\n",
      " [' Hello, my name is Nadia. And I am addicted to twitter...   ']\n",
      " ['@_MikeKennedy When I passby Toronto will keep you in mind.  Hello!  ']\n",
      " [' Hello TWITTER! (100th update Wooohooo)']\n",
      " [ '@caroltonetto @belatonetto @fabianacruz @cindytoneto @Twenty4thEleven @thaynantes Hello Lovely Girls ']\n",
      " ['@AlexAllTimeLow hello alex! ']\n",
      " ['@Bo_Matthews Thanks Bo and hello @sally1962 Sally! ']\n",
      " ['@AmyCown hello! welcome to twitter ']\n",
      " ['@Aarooooon tell Cassia I say hello ']\n",
      " [\"@Col_RFTL Hello, how are you? I've not seen you about \"]\n",
      " ['@AntoniaCarlotta hello  Added you from lj']\n",
      " ['@blindcrawler hello and a very good morning ']\n",
      " [ '@BigBookofYou Hello Jennifer!  I have something to talk to you about...it was suggested at #UN6 last weekend ']\n",
      " ['@BillyCashin Hello Billy  xxx']\n",
      " ['@badazzlbc never??? well say hello to the 1st one then ']\n",
      " ['@bloowuff I have no idea who they are  but hello anyway! XD']\n",
      " ['@AdorkableGeek hello mr geek ']\n",
      " ['@bradhfh Hello! you stoped talking to me  lol']\n",
      " ['@Beverleyknight Hello  What have you been up to this week ? x']\n",
      " ['@chenelletanglao Yes. Hello. I still do not see the point of this. ']\n",
      " [\"@aveight hello, DH...i'm practicing my french with you! \"]\n",
      " ['@30SECONDSTOMARS Hello Steve ']\n",
      " [\"*Hello! So they say we're out of resection but am still broke \"]\n",
      " ['@Ailsmad1 hello!! Thanks for the follow! ']\n",
      " ['@Avaygduygdu Hello, and thanks for the follow.. ']\n",
      " ['@cjfdlno is all over my homepage  hello future addict â™¥']]\n"
     ]
    }
   ],
   "source": [
    "#sentestimate = []\n",
    "try:\n",
    "    for i in modelfit.kneighbors( bow_vec[datalen+2], n_neighbors=100, return_distance=False ):\n",
    "        #print(h.ix[i, ['text','airline_sentiment','index1']])\n",
    "        #print(i)\n",
    "        print(h.ix[i, ['text']].values)\n",
    "        #sentestimate = h.ix[i, ['airline_sentiment']].values\n",
    "        #print(modelfit.kneighbors( bow_vec[datalen+2], n_neighbors=100, return_distance=False ).get_value(i,'index1'))\n",
    "        #h.get_value(i, 'airline_sentiment')\n",
    "except:\n",
    "    print('HELLO, an error ocurred!!')"
   ]
  },
  {
   "cell_type": "code",
   "execution_count": 265,
   "metadata": {
    "collapsed": false
   },
   "outputs": [],
   "source": [
    "#sentestimate"
   ]
  },
  {
   "cell_type": "code",
   "execution_count": 266,
   "metadata": {
    "collapsed": false
   },
   "outputs": [],
   "source": [
    "#for ii,s in enumerate(sentestimate):\n",
    "#    if s[0] == 'positive':\n",
    "#        sentestimate[ii] = 1\n",
    "#    if s[0] == 'negative':\n",
    "#        sentestimate[ii] = -1\n",
    "#    if s[0] == 'neutral':\n",
    "#        sentestimate[ii] = 0 "
   ]
  },
  {
   "cell_type": "code",
   "execution_count": 267,
   "metadata": {
    "collapsed": false
   },
   "outputs": [],
   "source": [
    "#sentestimate"
   ]
  },
  {
   "cell_type": "code",
   "execution_count": 268,
   "metadata": {
    "collapsed": false
   },
   "outputs": [],
   "source": [
    "#sentestimate.mean()"
   ]
  },
  {
   "cell_type": "code",
   "execution_count": 269,
   "metadata": {
    "collapsed": false
   },
   "outputs": [
    {
     "data": {
      "text/plain": [
       "(100063, 5000)"
      ]
     },
     "execution_count": 269,
     "metadata": {},
     "output_type": "execute_result"
    }
   ],
   "source": [
    "bow_vec.shape"
   ]
  },
  {
   "cell_type": "code",
   "execution_count": 270,
   "metadata": {
    "collapsed": false
   },
   "outputs": [],
   "source": [
    "## fitting the model\n",
    "#knn.fit(X_train, y_train)\n",
    "\n",
    "## predict the response\n",
    "#pred = knn.predict(X_test)\n",
    "\n",
    "## evaluate accuracy\n",
    "#print accuracy_score(y_test, pred)  "
   ]
  },
  {
   "cell_type": "code",
   "execution_count": 271,
   "metadata": {
    "collapsed": false,
    "scrolled": true
   },
   "outputs": [
    {
     "name": "stdout",
     "output_type": "stream",
     "text": [
      "15.33\n",
      "17.08\n",
      "101.08\n",
      "31.13\n",
      "-27.25\n",
      "12.81\n",
      "25.18\n",
      "15.08\n",
      "21.79\n",
      "17.2\n",
      "4.8\n",
      "15.11\n",
      "20.3\n",
      "24.66\n",
      "-24.57\n",
      "25.44\n",
      "14.31\n",
      "-2.22\n",
      "-46.97\n",
      "4.93\n",
      "17.08\n",
      "10.02\n",
      "14.65\n",
      "16.87\n",
      "-8.2\n",
      "24.86\n",
      "21.04\n",
      "17.08\n",
      "36.89\n",
      "13.66\n",
      "6.88\n",
      "13.32\n",
      "36.37\n",
      "16.46\n",
      "16.46\n",
      "17.27\n",
      "17.08\n",
      "38.1\n",
      "17.08\n",
      "-39.47\n",
      "17.08\n",
      "14.26\n",
      "-11.89\n",
      "19.72\n",
      "40.99\n",
      "16.46\n",
      "32.17\n",
      "17.08\n",
      "-3.59\n",
      "16.46\n",
      "5.3\n",
      "19.29\n",
      "29.12\n",
      "8.96\n",
      "17.09\n",
      "20.12\n",
      "6.48\n",
      "-43.6\n",
      "16.46\n",
      "17.08\n",
      "19.76\n",
      "20.76\n",
      "[  15.33   17.08  101.08   31.13  -27.25   12.81   25.18   15.08   21.79\n",
      "   17.2     4.8    15.11   20.3    24.66  -24.57   25.44   14.31   -2.22\n",
      "  -46.97    4.93   17.08   10.02   14.65   16.87   -8.2    24.86   21.04\n",
      "   17.08   36.89   13.66    6.88   13.32   36.37   16.46   16.46   17.27\n",
      "   17.08   38.1    17.08  -39.47   17.08   14.26  -11.89   19.72   40.99\n",
      "   16.46   32.17   17.08   -3.59   16.46    5.3    19.29   29.12    8.96\n",
      "   17.09   20.12    6.48  -43.6    16.46   17.08   19.76   20.76]\n",
      "url: www.sitepoint.com;\n",
      "Num. of msgs: 62;\n",
      "sentiment rating: 1.4\n"
     ]
    }
   ],
   "source": [
    "allsent = []\n",
    "\n",
    "#https://stackoverflow.com/questions/19852586/get-mean-value-avoiding-nan-using-numpy-in-python\n",
    "#https://stackoverflow.com/questions/18200052/how-to-convert-ndarray-to-array\n",
    "#https://stackoverflow.com/questions/10377096/multiple-conditions-using-or-in-numpy-array\n",
    "\n",
    "numneig = len(rtext)+100\n",
    "#numneig = 600\n",
    "\n",
    "for n in range(len(rtext)):\n",
    "    for indices in modelfit.kneighbors( bow_vec[datalen+n], n_neighbors= numneig, return_distance=False ):\n",
    "        #print(h.ix[indices, ['text']].values[0])\n",
    "        sentestimate = h.ix[indices, ['airline_sentiment']].values\n",
    "        for ii,s in enumerate(sentestimate):\n",
    "            if s[0] == 'positive' or s[0] == '1':\n",
    "                sentestimate[ii] = 1*(len(rtext)+100 - ii)\n",
    "            if s[0] == 'negative' or s[0] == '0':\n",
    "                sentestimate[ii] = -1*(len(rtext)+100 - ii)\n",
    "            if s[0] == 'neutral':\n",
    "                sentestimate[ii] = 0\n",
    "                #sentestimate[ii] = numpy.nan\n",
    "        #print(sentestimate.mean())\n",
    "        #allsent.append(sentestimate.mean())\n",
    "        #print(sentestimate.reshape(-1))\n",
    "        anotherarray = sentestimate.reshape(-1)\n",
    "        anotherarray = sentestimate.ravel()\n",
    "        #allsent.append(numpy.nanmean(anotherarray))\n",
    "        #print(anotherarray[numpy.nanmean(anotherarray)])\n",
    "        #print(anotherarray[~numpy.isnan(anotherarray)])\n",
    "        print(anotherarray[numpy.where(anotherarray != 0)][:100].mean())\n",
    "        val = anotherarray[numpy.where(anotherarray != 0)][:100].mean()\n",
    "        allsent.append(val)\n",
    "        #print(anotherarray[numpy.where(anotherarray != 0)].mean()/((len(rtext)+100)))\n",
    "allsent = numpy.array(allsent)\n",
    "#allsent = allsent[numpy.where((allsent >= 20)|(allsent <= -20))]\n",
    "print(allsent)\n",
    "if len(allsent) == 0:\n",
    "    allsent = numpy.array([0])\n",
    "print('url: {0};\\nNum. of msgs: {1};\\nsentiment rating: {2:.1f}'.format(nl, len(rtext), sum(allsent)/len(allsent)/10))"
   ]
  },
  {
   "cell_type": "code",
   "execution_count": 272,
   "metadata": {
    "collapsed": false
   },
   "outputs": [],
   "source": [
    "#'Anyone looking to learn JavaScript ES6 consider following this series: https://medium.com/@__Masha__/learn-es6-the-dope-way-i-const-let-var-ae828580472b#.pfurdplqu'.find('medium') "
   ]
  },
  {
   "cell_type": "markdown",
   "metadata": {},
   "source": [
    "# CODE BELOW UNDER REVISION - DUMPED"
   ]
  },
  {
   "cell_type": "code",
   "execution_count": 31,
   "metadata": {
    "collapsed": false
   },
   "outputs": [
    {
     "name": "stdout",
     "output_type": "stream",
     "text": [
      "(25000, 3)\n",
      "\"With all this stuff going down at the moment with MJ i've started listening to his music, watching the odd documentary here and there, watched The Wiz and watched Moonwalker again. Maybe i just want to get a certain insight into this guy who i thought was really cool in the eighties just to maybe make up my mind whether he is guilty or innocent. Moonwalker is part biography, part feature film which i remember going to see at the cinema when it was originally released. Some of it has subtle messages about MJ's feeling towards the press and also the obvious message of drugs are bad m'kay.<br /><br />Visually impressive but of course this is all about Michael Jackson so unless you remotely like MJ in anyway then you are going to hate this and find it boring. Some may call MJ an egotist for consenting to the making of this movie BUT MJ and most of his fans would say that he made it for the fans which if true is really nice of him.<br /><br />The actual feature film bit when it finally starts is only on for 20 minutes or so excluding the Smooth Criminal sequence and Joe Pesci is convincing as a psychopathic all powerful drug lord. Why he wants MJ dead so bad is beyond me. Because MJ overheard his plans? Nah, Joe Pesci's character ranted that he wanted people to know it is he who is supplying drugs etc so i dunno, maybe he just hates MJ's music.<br /><br />Lots of cool things in this like MJ turning into a car and a robot and the whole Speed Demon sequence. Also, the director must have had the patience of a saint when it came to filming the kiddy Bad sequence as usually directors hate working with one kid let alone a whole bunch of them performing a complex dance scene.<br /><br />Bottom line, this movie is for people who like MJ on one level or another (which i think is most people). If not, then stay away. It does try and give off a wholesome message and ironically MJ's bestest buddy in this movie is a girl! Michael Jackson is truly one of the most talented people ever to grace this planet but is he guilty? Well, with all the attention i've gave this subject....hmmm well i don't know because people can be different behind closed doors, i know this for a fact. He is either an extremely nice but stupid guy or one of the most sickest liars. I hope he is not the latter.\"\n",
      "1\n"
     ]
    }
   ],
   "source": [
    "     \n",
    "data = pandas.read_csv(\"/home/ec/Documents/MainComp_Programming/FreeCodeCamp/data_analysis/1_archive/datascienceroom/labeledTrainData.tsv\", header=0, delimiter=\"\\t\", quoting=3)\n",
    " \n",
    "## 25000 movie reviews\n",
    "print(data.shape) # (25000, 3) \n",
    "print(data[\"review\"][0])         # Check out the review\n",
    "print(data[\"sentiment\"][0])          # Check out the sentiment (0/1)\n",
    " "
   ]
  },
  {
   "cell_type": "code",
   "execution_count": 12,
   "metadata": {
    "collapsed": false,
    "scrolled": true
   },
   "outputs": [
    {
     "data": {
      "text/plain": [
       "{'fromUser': {'avatarUrl': 'https://avatars-01.gitter.im/gh/uv/3/DanStockham',\n",
       "  'avatarUrlMedium': 'https://avatars2.githubusercontent.com/u/11827054?v=3&s=128',\n",
       "  'avatarUrlSmall': 'https://avatars2.githubusercontent.com/u/11827054?v=3&s=60',\n",
       "  'displayName': 'Dan Stockham',\n",
       "  'gv': '3',\n",
       "  'id': '5586c26215522ed4b3e23f3a',\n",
       "  'url': '/DanStockham',\n",
       "  'username': 'DanStockham',\n",
       "  'v': 12},\n",
       " 'html': 'Has anyone have any trouble with <code>res.redirect()</code> with express?',\n",
       " 'id': '572554dd60e2f3e873665b5e',\n",
       " 'issues': [],\n",
       " 'mentions': [],\n",
       " 'meta': [],\n",
       " 'readBy': 16,\n",
       " 'sent': '2016-05-01T00:59:09.070Z',\n",
       " 'text': 'Has anyone have any trouble with ```res.redirect()``` with express?',\n",
       " 'unread': False,\n",
       " 'urls': [],\n",
       " 'v': 1}"
      ]
     },
     "execution_count": 12,
     "metadata": {},
     "output_type": "execute_result"
    }
   ],
   "source": [
    "raw[5]"
   ]
  },
  {
   "cell_type": "code",
   "execution_count": 20,
   "metadata": {
    "collapsed": false,
    "scrolled": true
   },
   "outputs": [
    {
     "name": "stderr",
     "output_type": "stream",
     "text": [
      "/home/ec/anaconda3/lib/python3.5/site-packages/bs4/__init__.py:166: UserWarning: No parser was explicitly specified, so I'm using the best available HTML parser for this system (\"lxml\"). This usually isn't a problem, but if you run this code on another system, or in a different virtual environment, it may use a different parser and behave differently.\n",
      "\n",
      "To get rid of this warning, change this:\n",
      "\n",
      " BeautifulSoup([your markup])\n",
      "\n",
      "to this:\n",
      "\n",
      " BeautifulSoup([your markup], \"lxml\")\n",
      "\n",
      "  markup_type=markup_type))\n"
     ]
    }
   ],
   "source": [
    "soup = BeautifulSoup(raw[5]['html'])"
   ]
  },
  {
   "cell_type": "code",
   "execution_count": 27,
   "metadata": {
    "collapsed": false,
    "scrolled": true
   },
   "outputs": [
    {
     "name": "stdout",
     "output_type": "stream",
     "text": [
      "<class 'str'>\n"
     ]
    }
   ],
   "source": [
    "print(type(soup.find('code').text))"
   ]
  },
  {
   "cell_type": "code",
   "execution_count": 29,
   "metadata": {
    "collapsed": false
   },
   "outputs": [
    {
     "data": {
      "text/plain": [
       "'Has anyone have any trouble with thisiscode with express?'"
      ]
     },
     "execution_count": 29,
     "metadata": {},
     "output_type": "execute_result"
    }
   ],
   "source": [
    "raw[5]['text'].replace('```'+soup.find('code').text+'```','thisiscode')"
   ]
  },
  {
   "cell_type": "code",
   "execution_count": 38,
   "metadata": {
    "collapsed": false
   },
   "outputs": [
    {
     "name": "stdout",
     "output_type": "stream",
     "text": [
      "<blockquote>\n",
      ":star: 403 | <span data-link-type=\"mention\" data-screen-name=\"valmassoi\" class=\"mention\">@valmassoi</span> | <a href=\"http://www.freecodecamp.com/valmassoi\" rel=\"nofollow\" target=\"_blank\" class=\"link\">http://www.freecodecamp.com/valmassoi</a></blockquote>\n",
      "\n",
      "> :star: 403 | @valmassoi | [http://www.freecodecamp.com/valmassoi](http://www.freecodecamp.com/valmassoi)\n",
      "1\n"
     ]
    },
    {
     "name": "stderr",
     "output_type": "stream",
     "text": [
      "/home/ec/anaconda3/lib/python3.5/site-packages/bs4/__init__.py:166: UserWarning: No parser was explicitly specified, so I'm using the best available HTML parser for this system (\"lxml\"). This usually isn't a problem, but if you run this code on another system, or in a different virtual environment, it may use a different parser and behave differently.\n",
      "\n",
      "To get rid of this warning, change this:\n",
      "\n",
      " BeautifulSoup([your markup])\n",
      "\n",
      "to this:\n",
      "\n",
      " BeautifulSoup([your markup], \"lxml\")\n",
      "\n",
      "  markup_type=markup_type))\n"
     ]
    }
   ],
   "source": [
    "for elem in raw[5:]:\n",
    "    if BeautifulSoup(elem['html']).find_all('a'):\n",
    "        print(elem['html'])\n",
    "        print(elem['text'])\n",
    "        print(len(BeautifulSoup(elem['html']).find_all('a')))\n",
    "        break"
   ]
  }
 ],
 "metadata": {
  "anaconda-cloud": {},
  "kernelspec": {
   "display_name": "Python [Root]",
   "language": "python",
   "name": "Python [Root]"
  },
  "language_info": {
   "codemirror_mode": {
    "name": "ipython",
    "version": 3
   },
   "file_extension": ".py",
   "mimetype": "text/x-python",
   "name": "python",
   "nbconvert_exporter": "python",
   "pygments_lexer": "ipython3",
   "version": "3.5.2"
  }
 },
 "nbformat": 4,
 "nbformat_minor": 0
}
